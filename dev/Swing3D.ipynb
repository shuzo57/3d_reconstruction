{
 "cells": [
  {
   "cell_type": "code",
   "execution_count": 1,
   "metadata": {},
   "outputs": [],
   "source": [
    "import pandas as pd\n",
    "pd.set_option('display.max_columns', None)\n",
    "\n",
    "from swing3dify.visualizations import show_3d_human_pose, show_3d_swing"
   ]
  },
  {
   "cell_type": "code",
   "execution_count": 2,
   "metadata": {},
   "outputs": [
    {
     "data": {
      "text/html": [
       "<div>\n",
       "<style scoped>\n",
       "    .dataframe tbody tr th:only-of-type {\n",
       "        vertical-align: middle;\n",
       "    }\n",
       "\n",
       "    .dataframe tbody tr th {\n",
       "        vertical-align: top;\n",
       "    }\n",
       "\n",
       "    .dataframe thead th {\n",
       "        text-align: right;\n",
       "    }\n",
       "</style>\n",
       "<table border=\"1\" class=\"dataframe\">\n",
       "  <thead>\n",
       "    <tr style=\"text-align: right;\">\n",
       "      <th></th>\n",
       "      <th>NOSE_x</th>\n",
       "      <th>NOSE_y</th>\n",
       "      <th>NOSE_z</th>\n",
       "      <th>LEFT_EYE_x</th>\n",
       "      <th>LEFT_EYE_y</th>\n",
       "      <th>LEFT_EYE_z</th>\n",
       "      <th>RIGHT_EYE_x</th>\n",
       "      <th>RIGHT_EYE_y</th>\n",
       "      <th>RIGHT_EYE_z</th>\n",
       "      <th>LEFT_EAR_x</th>\n",
       "      <th>LEFT_EAR_y</th>\n",
       "      <th>LEFT_EAR_z</th>\n",
       "      <th>RIGHT_EAR_x</th>\n",
       "      <th>RIGHT_EAR_y</th>\n",
       "      <th>RIGHT_EAR_z</th>\n",
       "      <th>LEFT_SHOULDER_x</th>\n",
       "      <th>LEFT_SHOULDER_y</th>\n",
       "      <th>LEFT_SHOULDER_z</th>\n",
       "      <th>RIGHT_SHOULDER_x</th>\n",
       "      <th>RIGHT_SHOULDER_y</th>\n",
       "      <th>RIGHT_SHOULDER_z</th>\n",
       "      <th>LEFT_ELBOW_x</th>\n",
       "      <th>LEFT_ELBOW_y</th>\n",
       "      <th>LEFT_ELBOW_z</th>\n",
       "      <th>RIGHT_ELBOW_x</th>\n",
       "      <th>RIGHT_ELBOW_y</th>\n",
       "      <th>RIGHT_ELBOW_z</th>\n",
       "      <th>LEFT_WRIST_x</th>\n",
       "      <th>LEFT_WRIST_y</th>\n",
       "      <th>LEFT_WRIST_z</th>\n",
       "      <th>RIGHT_WRIST_x</th>\n",
       "      <th>RIGHT_WRIST_y</th>\n",
       "      <th>RIGHT_WRIST_z</th>\n",
       "      <th>LEFT_HIP_x</th>\n",
       "      <th>LEFT_HIP_y</th>\n",
       "      <th>LEFT_HIP_z</th>\n",
       "      <th>RIGHT_HIP_x</th>\n",
       "      <th>RIGHT_HIP_y</th>\n",
       "      <th>RIGHT_HIP_z</th>\n",
       "      <th>LEFT_KNEE_x</th>\n",
       "      <th>LEFT_KNEE_y</th>\n",
       "      <th>LEFT_KNEE_z</th>\n",
       "      <th>RIGHT_KNEE_x</th>\n",
       "      <th>RIGHT_KNEE_y</th>\n",
       "      <th>RIGHT_KNEE_z</th>\n",
       "      <th>LEFT_ANKLE_x</th>\n",
       "      <th>LEFT_ANKLE_y</th>\n",
       "      <th>LEFT_ANKLE_z</th>\n",
       "      <th>RIGHT_ANKLE_x</th>\n",
       "      <th>RIGHT_ANKLE_y</th>\n",
       "      <th>RIGHT_ANKLE_z</th>\n",
       "      <th>TOE_x</th>\n",
       "      <th>TOE_y</th>\n",
       "      <th>TOE_z</th>\n",
       "      <th>HOSEL_x</th>\n",
       "      <th>HOSEL_y</th>\n",
       "      <th>HOSEL_z</th>\n",
       "      <th>GRIP_x</th>\n",
       "      <th>GRIP_y</th>\n",
       "      <th>GRIP_z</th>\n",
       "    </tr>\n",
       "  </thead>\n",
       "  <tbody>\n",
       "    <tr>\n",
       "      <th>0</th>\n",
       "      <td>0.258266</td>\n",
       "      <td>-0.213201</td>\n",
       "      <td>-1.045689</td>\n",
       "      <td>0.253569</td>\n",
       "      <td>-0.207625</td>\n",
       "      <td>-1.046717</td>\n",
       "      <td>0.263874</td>\n",
       "      <td>-0.207534</td>\n",
       "      <td>-1.047637</td>\n",
       "      <td>0.245881</td>\n",
       "      <td>-0.205093</td>\n",
       "      <td>-1.058321</td>\n",
       "      <td>0.272538</td>\n",
       "      <td>-0.204446</td>\n",
       "      <td>-1.054961</td>\n",
       "      <td>0.236550</td>\n",
       "      <td>-0.230572</td>\n",
       "      <td>-1.073195</td>\n",
       "      <td>0.278417</td>\n",
       "      <td>-0.228267</td>\n",
       "      <td>-1.061881</td>\n",
       "      <td>0.232038</td>\n",
       "      <td>-0.276962</td>\n",
       "      <td>-1.062073</td>\n",
       "      <td>0.265080</td>\n",
       "      <td>-0.271399</td>\n",
       "      <td>-1.036957</td>\n",
       "      <td>0.240529</td>\n",
       "      <td>-0.314100</td>\n",
       "      <td>-1.038548</td>\n",
       "      <td>0.244691</td>\n",
       "      <td>-0.309285</td>\n",
       "      <td>-1.025298</td>\n",
       "      <td>0.242400</td>\n",
       "      <td>-0.309557</td>\n",
       "      <td>-1.082968</td>\n",
       "      <td>0.275464</td>\n",
       "      <td>-0.306602</td>\n",
       "      <td>-1.073885</td>\n",
       "      <td>0.225861</td>\n",
       "      <td>-0.375416</td>\n",
       "      <td>-1.061406</td>\n",
       "      <td>0.286216</td>\n",
       "      <td>-0.368265</td>\n",
       "      <td>-1.045537</td>\n",
       "      <td>0.209877</td>\n",
       "      <td>-0.436721</td>\n",
       "      <td>-1.044293</td>\n",
       "      <td>0.295096</td>\n",
       "      <td>-0.426017</td>\n",
       "      <td>-1.024844</td>\n",
       "      <td>0.191600</td>\n",
       "      <td>-0.408331</td>\n",
       "      <td>-0.844242</td>\n",
       "      <td>0.196562</td>\n",
       "      <td>-0.412004</td>\n",
       "      <td>-0.864584</td>\n",
       "      <td>0.236989</td>\n",
       "      <td>-0.334131</td>\n",
       "      <td>-1.010029</td>\n",
       "    </tr>\n",
       "    <tr>\n",
       "      <th>1</th>\n",
       "      <td>0.261161</td>\n",
       "      <td>-0.212090</td>\n",
       "      <td>-1.040845</td>\n",
       "      <td>0.256103</td>\n",
       "      <td>-0.206744</td>\n",
       "      <td>-1.042432</td>\n",
       "      <td>0.265890</td>\n",
       "      <td>-0.206633</td>\n",
       "      <td>-1.044185</td>\n",
       "      <td>0.246507</td>\n",
       "      <td>-0.204787</td>\n",
       "      <td>-1.057111</td>\n",
       "      <td>0.272878</td>\n",
       "      <td>-0.203829</td>\n",
       "      <td>-1.054483</td>\n",
       "      <td>0.236383</td>\n",
       "      <td>-0.230241</td>\n",
       "      <td>-1.073248</td>\n",
       "      <td>0.278398</td>\n",
       "      <td>-0.227598</td>\n",
       "      <td>-1.062366</td>\n",
       "      <td>0.232880</td>\n",
       "      <td>-0.276686</td>\n",
       "      <td>-1.060694</td>\n",
       "      <td>0.264986</td>\n",
       "      <td>-0.270964</td>\n",
       "      <td>-1.037777</td>\n",
       "      <td>0.240997</td>\n",
       "      <td>-0.314215</td>\n",
       "      <td>-1.037485</td>\n",
       "      <td>0.245326</td>\n",
       "      <td>-0.308575</td>\n",
       "      <td>-1.025151</td>\n",
       "      <td>0.242545</td>\n",
       "      <td>-0.309415</td>\n",
       "      <td>-1.082392</td>\n",
       "      <td>0.275717</td>\n",
       "      <td>-0.306337</td>\n",
       "      <td>-1.073535</td>\n",
       "      <td>0.225658</td>\n",
       "      <td>-0.375619</td>\n",
       "      <td>-1.061479</td>\n",
       "      <td>0.286155</td>\n",
       "      <td>-0.368447</td>\n",
       "      <td>-1.045682</td>\n",
       "      <td>0.209597</td>\n",
       "      <td>-0.436661</td>\n",
       "      <td>-1.044789</td>\n",
       "      <td>0.295261</td>\n",
       "      <td>-0.426009</td>\n",
       "      <td>-1.024579</td>\n",
       "      <td>0.190995</td>\n",
       "      <td>-0.409337</td>\n",
       "      <td>-0.844191</td>\n",
       "      <td>0.196330</td>\n",
       "      <td>-0.412764</td>\n",
       "      <td>-0.864247</td>\n",
       "      <td>0.236988</td>\n",
       "      <td>-0.334602</td>\n",
       "      <td>-1.009663</td>\n",
       "    </tr>\n",
       "    <tr>\n",
       "      <th>2</th>\n",
       "      <td>0.258722</td>\n",
       "      <td>-0.213691</td>\n",
       "      <td>-1.045163</td>\n",
       "      <td>0.253795</td>\n",
       "      <td>-0.208116</td>\n",
       "      <td>-1.046517</td>\n",
       "      <td>0.264311</td>\n",
       "      <td>-0.207855</td>\n",
       "      <td>-1.047038</td>\n",
       "      <td>0.245676</td>\n",
       "      <td>-0.205110</td>\n",
       "      <td>-1.058765</td>\n",
       "      <td>0.273023</td>\n",
       "      <td>-0.204034</td>\n",
       "      <td>-1.054337</td>\n",
       "      <td>0.236866</td>\n",
       "      <td>-0.229750</td>\n",
       "      <td>-1.072411</td>\n",
       "      <td>0.278757</td>\n",
       "      <td>-0.227416</td>\n",
       "      <td>-1.062239</td>\n",
       "      <td>0.233220</td>\n",
       "      <td>-0.276282</td>\n",
       "      <td>-1.060715</td>\n",
       "      <td>0.265472</td>\n",
       "      <td>-0.270613</td>\n",
       "      <td>-1.037766</td>\n",
       "      <td>0.240989</td>\n",
       "      <td>-0.314057</td>\n",
       "      <td>-1.037805</td>\n",
       "      <td>0.246359</td>\n",
       "      <td>-0.308037</td>\n",
       "      <td>-1.025045</td>\n",
       "      <td>0.242645</td>\n",
       "      <td>-0.309830</td>\n",
       "      <td>-1.082069</td>\n",
       "      <td>0.275657</td>\n",
       "      <td>-0.306968</td>\n",
       "      <td>-1.073650</td>\n",
       "      <td>0.226096</td>\n",
       "      <td>-0.375590</td>\n",
       "      <td>-1.060771</td>\n",
       "      <td>0.286329</td>\n",
       "      <td>-0.368671</td>\n",
       "      <td>-1.045660</td>\n",
       "      <td>0.209788</td>\n",
       "      <td>-0.437229</td>\n",
       "      <td>-1.044637</td>\n",
       "      <td>0.295133</td>\n",
       "      <td>-0.426508</td>\n",
       "      <td>-1.025097</td>\n",
       "      <td>0.191142</td>\n",
       "      <td>-0.409253</td>\n",
       "      <td>-0.844255</td>\n",
       "      <td>0.196489</td>\n",
       "      <td>-0.412567</td>\n",
       "      <td>-0.864122</td>\n",
       "      <td>0.237140</td>\n",
       "      <td>-0.334706</td>\n",
       "      <td>-1.009635</td>\n",
       "    </tr>\n",
       "    <tr>\n",
       "      <th>3</th>\n",
       "      <td>0.258901</td>\n",
       "      <td>-0.213887</td>\n",
       "      <td>-1.045363</td>\n",
       "      <td>0.253876</td>\n",
       "      <td>-0.208324</td>\n",
       "      <td>-1.046745</td>\n",
       "      <td>0.264348</td>\n",
       "      <td>-0.208025</td>\n",
       "      <td>-1.047455</td>\n",
       "      <td>0.245590</td>\n",
       "      <td>-0.205263</td>\n",
       "      <td>-1.058743</td>\n",
       "      <td>0.272844</td>\n",
       "      <td>-0.204103</td>\n",
       "      <td>-1.054852</td>\n",
       "      <td>0.237220</td>\n",
       "      <td>-0.229733</td>\n",
       "      <td>-1.071634</td>\n",
       "      <td>0.278632</td>\n",
       "      <td>-0.227375</td>\n",
       "      <td>-1.062397</td>\n",
       "      <td>0.234477</td>\n",
       "      <td>-0.275771</td>\n",
       "      <td>-1.058694</td>\n",
       "      <td>0.266687</td>\n",
       "      <td>-0.269864</td>\n",
       "      <td>-1.036056</td>\n",
       "      <td>0.242470</td>\n",
       "      <td>-0.313747</td>\n",
       "      <td>-1.035336</td>\n",
       "      <td>0.248597</td>\n",
       "      <td>-0.307027</td>\n",
       "      <td>-1.021760</td>\n",
       "      <td>0.243142</td>\n",
       "      <td>-0.309857</td>\n",
       "      <td>-1.081165</td>\n",
       "      <td>0.275780</td>\n",
       "      <td>-0.307125</td>\n",
       "      <td>-1.073444</td>\n",
       "      <td>0.226435</td>\n",
       "      <td>-0.375148</td>\n",
       "      <td>-1.060017</td>\n",
       "      <td>0.286095</td>\n",
       "      <td>-0.368590</td>\n",
       "      <td>-1.046026</td>\n",
       "      <td>0.209600</td>\n",
       "      <td>-0.437374</td>\n",
       "      <td>-1.044267</td>\n",
       "      <td>0.295027</td>\n",
       "      <td>-0.426641</td>\n",
       "      <td>-1.025217</td>\n",
       "      <td>0.191099</td>\n",
       "      <td>-0.409266</td>\n",
       "      <td>-0.844264</td>\n",
       "      <td>0.196524</td>\n",
       "      <td>-0.412551</td>\n",
       "      <td>-0.864036</td>\n",
       "      <td>0.237188</td>\n",
       "      <td>-0.334666</td>\n",
       "      <td>-1.009489</td>\n",
       "    </tr>\n",
       "    <tr>\n",
       "      <th>4</th>\n",
       "      <td>0.257821</td>\n",
       "      <td>-0.213915</td>\n",
       "      <td>-1.049049</td>\n",
       "      <td>0.252918</td>\n",
       "      <td>-0.208224</td>\n",
       "      <td>-1.049938</td>\n",
       "      <td>0.263748</td>\n",
       "      <td>-0.207927</td>\n",
       "      <td>-1.050237</td>\n",
       "      <td>0.245447</td>\n",
       "      <td>-0.204884</td>\n",
       "      <td>-1.059267</td>\n",
       "      <td>0.273076</td>\n",
       "      <td>-0.203889</td>\n",
       "      <td>-1.055230</td>\n",
       "      <td>0.237529</td>\n",
       "      <td>-0.229510</td>\n",
       "      <td>-1.070710</td>\n",
       "      <td>0.278909</td>\n",
       "      <td>-0.227250</td>\n",
       "      <td>-1.061789</td>\n",
       "      <td>0.234470</td>\n",
       "      <td>-0.275821</td>\n",
       "      <td>-1.058733</td>\n",
       "      <td>0.265474</td>\n",
       "      <td>-0.270279</td>\n",
       "      <td>-1.038222</td>\n",
       "      <td>0.242335</td>\n",
       "      <td>-0.313323</td>\n",
       "      <td>-1.036042</td>\n",
       "      <td>0.246468</td>\n",
       "      <td>-0.307397</td>\n",
       "      <td>-1.025516</td>\n",
       "      <td>0.243323</td>\n",
       "      <td>-0.309320</td>\n",
       "      <td>-1.080902</td>\n",
       "      <td>0.276017</td>\n",
       "      <td>-0.306635</td>\n",
       "      <td>-1.073295</td>\n",
       "      <td>0.226187</td>\n",
       "      <td>-0.374972</td>\n",
       "      <td>-1.060200</td>\n",
       "      <td>0.286047</td>\n",
       "      <td>-0.368230</td>\n",
       "      <td>-1.045982</td>\n",
       "      <td>0.209833</td>\n",
       "      <td>-0.437093</td>\n",
       "      <td>-1.043945</td>\n",
       "      <td>0.294886</td>\n",
       "      <td>-0.426336</td>\n",
       "      <td>-1.025379</td>\n",
       "      <td>0.191069</td>\n",
       "      <td>-0.409254</td>\n",
       "      <td>-0.844330</td>\n",
       "      <td>0.196579</td>\n",
       "      <td>-0.412555</td>\n",
       "      <td>-0.864120</td>\n",
       "      <td>0.237178</td>\n",
       "      <td>-0.334630</td>\n",
       "      <td>-1.009557</td>\n",
       "    </tr>\n",
       "  </tbody>\n",
       "</table>\n",
       "</div>"
      ],
      "text/plain": [
       "     NOSE_x    NOSE_y    NOSE_z  LEFT_EYE_x  LEFT_EYE_y  LEFT_EYE_z  \\\n",
       "0  0.258266 -0.213201 -1.045689    0.253569   -0.207625   -1.046717   \n",
       "1  0.261161 -0.212090 -1.040845    0.256103   -0.206744   -1.042432   \n",
       "2  0.258722 -0.213691 -1.045163    0.253795   -0.208116   -1.046517   \n",
       "3  0.258901 -0.213887 -1.045363    0.253876   -0.208324   -1.046745   \n",
       "4  0.257821 -0.213915 -1.049049    0.252918   -0.208224   -1.049938   \n",
       "\n",
       "   RIGHT_EYE_x  RIGHT_EYE_y  RIGHT_EYE_z  LEFT_EAR_x  LEFT_EAR_y  LEFT_EAR_z  \\\n",
       "0     0.263874    -0.207534    -1.047637    0.245881   -0.205093   -1.058321   \n",
       "1     0.265890    -0.206633    -1.044185    0.246507   -0.204787   -1.057111   \n",
       "2     0.264311    -0.207855    -1.047038    0.245676   -0.205110   -1.058765   \n",
       "3     0.264348    -0.208025    -1.047455    0.245590   -0.205263   -1.058743   \n",
       "4     0.263748    -0.207927    -1.050237    0.245447   -0.204884   -1.059267   \n",
       "\n",
       "   RIGHT_EAR_x  RIGHT_EAR_y  RIGHT_EAR_z  LEFT_SHOULDER_x  LEFT_SHOULDER_y  \\\n",
       "0     0.272538    -0.204446    -1.054961         0.236550        -0.230572   \n",
       "1     0.272878    -0.203829    -1.054483         0.236383        -0.230241   \n",
       "2     0.273023    -0.204034    -1.054337         0.236866        -0.229750   \n",
       "3     0.272844    -0.204103    -1.054852         0.237220        -0.229733   \n",
       "4     0.273076    -0.203889    -1.055230         0.237529        -0.229510   \n",
       "\n",
       "   LEFT_SHOULDER_z  RIGHT_SHOULDER_x  RIGHT_SHOULDER_y  RIGHT_SHOULDER_z  \\\n",
       "0        -1.073195          0.278417         -0.228267         -1.061881   \n",
       "1        -1.073248          0.278398         -0.227598         -1.062366   \n",
       "2        -1.072411          0.278757         -0.227416         -1.062239   \n",
       "3        -1.071634          0.278632         -0.227375         -1.062397   \n",
       "4        -1.070710          0.278909         -0.227250         -1.061789   \n",
       "\n",
       "   LEFT_ELBOW_x  LEFT_ELBOW_y  LEFT_ELBOW_z  RIGHT_ELBOW_x  RIGHT_ELBOW_y  \\\n",
       "0      0.232038     -0.276962     -1.062073       0.265080      -0.271399   \n",
       "1      0.232880     -0.276686     -1.060694       0.264986      -0.270964   \n",
       "2      0.233220     -0.276282     -1.060715       0.265472      -0.270613   \n",
       "3      0.234477     -0.275771     -1.058694       0.266687      -0.269864   \n",
       "4      0.234470     -0.275821     -1.058733       0.265474      -0.270279   \n",
       "\n",
       "   RIGHT_ELBOW_z  LEFT_WRIST_x  LEFT_WRIST_y  LEFT_WRIST_z  RIGHT_WRIST_x  \\\n",
       "0      -1.036957      0.240529     -0.314100     -1.038548       0.244691   \n",
       "1      -1.037777      0.240997     -0.314215     -1.037485       0.245326   \n",
       "2      -1.037766      0.240989     -0.314057     -1.037805       0.246359   \n",
       "3      -1.036056      0.242470     -0.313747     -1.035336       0.248597   \n",
       "4      -1.038222      0.242335     -0.313323     -1.036042       0.246468   \n",
       "\n",
       "   RIGHT_WRIST_y  RIGHT_WRIST_z  LEFT_HIP_x  LEFT_HIP_y  LEFT_HIP_z  \\\n",
       "0      -0.309285      -1.025298    0.242400   -0.309557   -1.082968   \n",
       "1      -0.308575      -1.025151    0.242545   -0.309415   -1.082392   \n",
       "2      -0.308037      -1.025045    0.242645   -0.309830   -1.082069   \n",
       "3      -0.307027      -1.021760    0.243142   -0.309857   -1.081165   \n",
       "4      -0.307397      -1.025516    0.243323   -0.309320   -1.080902   \n",
       "\n",
       "   RIGHT_HIP_x  RIGHT_HIP_y  RIGHT_HIP_z  LEFT_KNEE_x  LEFT_KNEE_y  \\\n",
       "0     0.275464    -0.306602    -1.073885     0.225861    -0.375416   \n",
       "1     0.275717    -0.306337    -1.073535     0.225658    -0.375619   \n",
       "2     0.275657    -0.306968    -1.073650     0.226096    -0.375590   \n",
       "3     0.275780    -0.307125    -1.073444     0.226435    -0.375148   \n",
       "4     0.276017    -0.306635    -1.073295     0.226187    -0.374972   \n",
       "\n",
       "   LEFT_KNEE_z  RIGHT_KNEE_x  RIGHT_KNEE_y  RIGHT_KNEE_z  LEFT_ANKLE_x  \\\n",
       "0    -1.061406      0.286216     -0.368265     -1.045537      0.209877   \n",
       "1    -1.061479      0.286155     -0.368447     -1.045682      0.209597   \n",
       "2    -1.060771      0.286329     -0.368671     -1.045660      0.209788   \n",
       "3    -1.060017      0.286095     -0.368590     -1.046026      0.209600   \n",
       "4    -1.060200      0.286047     -0.368230     -1.045982      0.209833   \n",
       "\n",
       "   LEFT_ANKLE_y  LEFT_ANKLE_z  RIGHT_ANKLE_x  RIGHT_ANKLE_y  RIGHT_ANKLE_z  \\\n",
       "0     -0.436721     -1.044293       0.295096      -0.426017      -1.024844   \n",
       "1     -0.436661     -1.044789       0.295261      -0.426009      -1.024579   \n",
       "2     -0.437229     -1.044637       0.295133      -0.426508      -1.025097   \n",
       "3     -0.437374     -1.044267       0.295027      -0.426641      -1.025217   \n",
       "4     -0.437093     -1.043945       0.294886      -0.426336      -1.025379   \n",
       "\n",
       "      TOE_x     TOE_y     TOE_z   HOSEL_x   HOSEL_y   HOSEL_z    GRIP_x  \\\n",
       "0  0.191600 -0.408331 -0.844242  0.196562 -0.412004 -0.864584  0.236989   \n",
       "1  0.190995 -0.409337 -0.844191  0.196330 -0.412764 -0.864247  0.236988   \n",
       "2  0.191142 -0.409253 -0.844255  0.196489 -0.412567 -0.864122  0.237140   \n",
       "3  0.191099 -0.409266 -0.844264  0.196524 -0.412551 -0.864036  0.237188   \n",
       "4  0.191069 -0.409254 -0.844330  0.196579 -0.412555 -0.864120  0.237178   \n",
       "\n",
       "     GRIP_y    GRIP_z  \n",
       "0 -0.334131 -1.010029  \n",
       "1 -0.334602 -1.009663  \n",
       "2 -0.334706 -1.009635  \n",
       "3 -0.334666 -1.009489  \n",
       "4 -0.334630 -1.009557  "
      ]
     },
     "execution_count": 2,
     "metadata": {},
     "output_type": "execute_result"
    }
   ],
   "source": [
    "df = pd.read_csv('../data/sample/3d_position_data.csv')\n",
    "df.head()"
   ]
  },
  {
   "cell_type": "code",
   "execution_count": 3,
   "metadata": {},
   "outputs": [
    {
     "data": {
      "application/vnd.plotly.v1+json": {
       "config": {
        "plotlyServerURL": "https://plot.ly"
       },
       "data": [
        {
         "line": {
          "width": 10
         },
         "marker": {
          "size": 3
         },
         "mode": "lines+markers",
         "name": "EYE",
         "type": "scatter3d",
         "x": [
          0.2535693,
          0.26387426
         ],
         "y": [
          -0.2076254,
          -0.20753393
         ],
         "z": [
          -1.0467173,
          -1.047637
         ]
        },
        {
         "line": {
          "width": 10
         },
         "marker": {
          "size": 3
         },
         "mode": "lines+markers",
         "name": "SHOULDER",
         "type": "scatter3d",
         "x": [
          0.23654957,
          0.27841723
         ],
         "y": [
          -0.23057221,
          -0.22826652
         ],
         "z": [
          -1.0731953,
          -1.0618806
         ]
        },
        {
         "line": {
          "width": 10
         },
         "marker": {
          "size": 3
         },
         "mode": "lines+markers",
         "name": "LEFT_UPPER_ARM",
         "type": "scatter3d",
         "x": [
          0.23654957,
          0.23203753
         ],
         "y": [
          -0.23057221,
          -0.2769615
         ],
         "z": [
          -1.0731953,
          -1.0620731
         ]
        },
        {
         "line": {
          "width": 10
         },
         "marker": {
          "size": 3
         },
         "mode": "lines+markers",
         "name": "RIGHT_UPPER_ARM",
         "type": "scatter3d",
         "x": [
          0.27841723,
          0.26507968
         ],
         "y": [
          -0.22826652,
          -0.27139908
         ],
         "z": [
          -1.0618806,
          -1.036957
         ]
        },
        {
         "line": {
          "width": 10
         },
         "marker": {
          "size": 3
         },
         "mode": "lines+markers",
         "name": "LEFT_FOREARM",
         "type": "scatter3d",
         "x": [
          0.23203753,
          0.24052946
         ],
         "y": [
          -0.2769615,
          -0.3140998
         ],
         "z": [
          -1.0620731,
          -1.0385479
         ]
        },
        {
         "line": {
          "width": 10
         },
         "marker": {
          "size": 3
         },
         "mode": "lines+markers",
         "name": "RIGHT_FOREARM",
         "type": "scatter3d",
         "x": [
          0.26507968,
          0.24469087
         ],
         "y": [
          -0.27139908,
          -0.3092855
         ],
         "z": [
          -1.036957,
          -1.0252981
         ]
        },
        {
         "line": {
          "width": 10
         },
         "marker": {
          "size": 3
         },
         "mode": "lines+markers",
         "name": "HIP",
         "type": "scatter3d",
         "x": [
          0.24240008,
          0.2754639
         ],
         "y": [
          -0.30955663,
          -0.3066017
         ],
         "z": [
          -1.0829675,
          -1.0738851
         ]
        },
        {
         "line": {
          "width": 10
         },
         "marker": {
          "size": 3
         },
         "mode": "lines+markers",
         "name": "LEFT_BODY",
         "type": "scatter3d",
         "x": [
          0.23654957,
          0.24240008
         ],
         "y": [
          -0.23057221,
          -0.30955663
         ],
         "z": [
          -1.0731953,
          -1.0829675
         ]
        },
        {
         "line": {
          "width": 10
         },
         "marker": {
          "size": 3
         },
         "mode": "lines+markers",
         "name": "RIGHT_BODY",
         "type": "scatter3d",
         "x": [
          0.27841723,
          0.2754639
         ],
         "y": [
          -0.22826652,
          -0.3066017
         ],
         "z": [
          -1.0618806,
          -1.0738851
         ]
        },
        {
         "line": {
          "width": 10
         },
         "marker": {
          "size": 3
         },
         "mode": "lines+markers",
         "name": "LEFT_THIGH",
         "type": "scatter3d",
         "x": [
          0.24240008,
          0.22586088
         ],
         "y": [
          -0.30955663,
          -0.3754156
         ],
         "z": [
          -1.0829675,
          -1.0614059
         ]
        },
        {
         "line": {
          "width": 10
         },
         "marker": {
          "size": 3
         },
         "mode": "lines+markers",
         "name": "RIGHT_THIGH",
         "type": "scatter3d",
         "x": [
          0.2754639,
          0.28621644
         ],
         "y": [
          -0.3066017,
          -0.36826468
         ],
         "z": [
          -1.0738851,
          -1.0455372
         ]
        },
        {
         "line": {
          "width": 10
         },
         "marker": {
          "size": 3
         },
         "mode": "lines+markers",
         "name": "LEFT_LOWER_LEG",
         "type": "scatter3d",
         "x": [
          0.22586088,
          0.20987734
         ],
         "y": [
          -0.3754156,
          -0.4367214
         ],
         "z": [
          -1.0614059,
          -1.0442934
         ]
        },
        {
         "line": {
          "width": 10
         },
         "marker": {
          "size": 3
         },
         "mode": "lines+markers",
         "name": "RIGHT_LOWER_LEG",
         "type": "scatter3d",
         "x": [
          0.28621644,
          0.29509562
         ],
         "y": [
          -0.36826468,
          -0.42601654
         ],
         "z": [
          -1.0455372,
          -1.0248438
         ]
        }
       ],
       "layout": {
        "scene": {
         "xaxis": {
          "tickvals": [
           0.10000000000000002,
           0.15000000000000002,
           0.2,
           0.25000000000000006
          ]
         },
         "yaxis": {
          "tickvals": [
           -0.45,
           -0.4,
           -0.35000000000000003,
           -0.30000000000000004,
           -0.25000000000000006,
           -0.20000000000000007
          ]
         },
         "zaxis": {
          "tickvals": [
           -1.1,
           -1.05,
           -1,
           -0.95,
           -0.8999999999999999,
           -0.8499999999999999,
           -0.7999999999999998,
           -0.7499999999999998
          ]
         }
        },
        "template": {
         "data": {
          "bar": [
           {
            "error_x": {
             "color": "#2a3f5f"
            },
            "error_y": {
             "color": "#2a3f5f"
            },
            "marker": {
             "line": {
              "color": "#E5ECF6",
              "width": 0.5
             },
             "pattern": {
              "fillmode": "overlay",
              "size": 10,
              "solidity": 0.2
             }
            },
            "type": "bar"
           }
          ],
          "barpolar": [
           {
            "marker": {
             "line": {
              "color": "#E5ECF6",
              "width": 0.5
             },
             "pattern": {
              "fillmode": "overlay",
              "size": 10,
              "solidity": 0.2
             }
            },
            "type": "barpolar"
           }
          ],
          "carpet": [
           {
            "aaxis": {
             "endlinecolor": "#2a3f5f",
             "gridcolor": "white",
             "linecolor": "white",
             "minorgridcolor": "white",
             "startlinecolor": "#2a3f5f"
            },
            "baxis": {
             "endlinecolor": "#2a3f5f",
             "gridcolor": "white",
             "linecolor": "white",
             "minorgridcolor": "white",
             "startlinecolor": "#2a3f5f"
            },
            "type": "carpet"
           }
          ],
          "choropleth": [
           {
            "colorbar": {
             "outlinewidth": 0,
             "ticks": ""
            },
            "type": "choropleth"
           }
          ],
          "contour": [
           {
            "colorbar": {
             "outlinewidth": 0,
             "ticks": ""
            },
            "colorscale": [
             [
              0,
              "#0d0887"
             ],
             [
              0.1111111111111111,
              "#46039f"
             ],
             [
              0.2222222222222222,
              "#7201a8"
             ],
             [
              0.3333333333333333,
              "#9c179e"
             ],
             [
              0.4444444444444444,
              "#bd3786"
             ],
             [
              0.5555555555555556,
              "#d8576b"
             ],
             [
              0.6666666666666666,
              "#ed7953"
             ],
             [
              0.7777777777777778,
              "#fb9f3a"
             ],
             [
              0.8888888888888888,
              "#fdca26"
             ],
             [
              1,
              "#f0f921"
             ]
            ],
            "type": "contour"
           }
          ],
          "contourcarpet": [
           {
            "colorbar": {
             "outlinewidth": 0,
             "ticks": ""
            },
            "type": "contourcarpet"
           }
          ],
          "heatmap": [
           {
            "colorbar": {
             "outlinewidth": 0,
             "ticks": ""
            },
            "colorscale": [
             [
              0,
              "#0d0887"
             ],
             [
              0.1111111111111111,
              "#46039f"
             ],
             [
              0.2222222222222222,
              "#7201a8"
             ],
             [
              0.3333333333333333,
              "#9c179e"
             ],
             [
              0.4444444444444444,
              "#bd3786"
             ],
             [
              0.5555555555555556,
              "#d8576b"
             ],
             [
              0.6666666666666666,
              "#ed7953"
             ],
             [
              0.7777777777777778,
              "#fb9f3a"
             ],
             [
              0.8888888888888888,
              "#fdca26"
             ],
             [
              1,
              "#f0f921"
             ]
            ],
            "type": "heatmap"
           }
          ],
          "heatmapgl": [
           {
            "colorbar": {
             "outlinewidth": 0,
             "ticks": ""
            },
            "colorscale": [
             [
              0,
              "#0d0887"
             ],
             [
              0.1111111111111111,
              "#46039f"
             ],
             [
              0.2222222222222222,
              "#7201a8"
             ],
             [
              0.3333333333333333,
              "#9c179e"
             ],
             [
              0.4444444444444444,
              "#bd3786"
             ],
             [
              0.5555555555555556,
              "#d8576b"
             ],
             [
              0.6666666666666666,
              "#ed7953"
             ],
             [
              0.7777777777777778,
              "#fb9f3a"
             ],
             [
              0.8888888888888888,
              "#fdca26"
             ],
             [
              1,
              "#f0f921"
             ]
            ],
            "type": "heatmapgl"
           }
          ],
          "histogram": [
           {
            "marker": {
             "pattern": {
              "fillmode": "overlay",
              "size": 10,
              "solidity": 0.2
             }
            },
            "type": "histogram"
           }
          ],
          "histogram2d": [
           {
            "colorbar": {
             "outlinewidth": 0,
             "ticks": ""
            },
            "colorscale": [
             [
              0,
              "#0d0887"
             ],
             [
              0.1111111111111111,
              "#46039f"
             ],
             [
              0.2222222222222222,
              "#7201a8"
             ],
             [
              0.3333333333333333,
              "#9c179e"
             ],
             [
              0.4444444444444444,
              "#bd3786"
             ],
             [
              0.5555555555555556,
              "#d8576b"
             ],
             [
              0.6666666666666666,
              "#ed7953"
             ],
             [
              0.7777777777777778,
              "#fb9f3a"
             ],
             [
              0.8888888888888888,
              "#fdca26"
             ],
             [
              1,
              "#f0f921"
             ]
            ],
            "type": "histogram2d"
           }
          ],
          "histogram2dcontour": [
           {
            "colorbar": {
             "outlinewidth": 0,
             "ticks": ""
            },
            "colorscale": [
             [
              0,
              "#0d0887"
             ],
             [
              0.1111111111111111,
              "#46039f"
             ],
             [
              0.2222222222222222,
              "#7201a8"
             ],
             [
              0.3333333333333333,
              "#9c179e"
             ],
             [
              0.4444444444444444,
              "#bd3786"
             ],
             [
              0.5555555555555556,
              "#d8576b"
             ],
             [
              0.6666666666666666,
              "#ed7953"
             ],
             [
              0.7777777777777778,
              "#fb9f3a"
             ],
             [
              0.8888888888888888,
              "#fdca26"
             ],
             [
              1,
              "#f0f921"
             ]
            ],
            "type": "histogram2dcontour"
           }
          ],
          "mesh3d": [
           {
            "colorbar": {
             "outlinewidth": 0,
             "ticks": ""
            },
            "type": "mesh3d"
           }
          ],
          "parcoords": [
           {
            "line": {
             "colorbar": {
              "outlinewidth": 0,
              "ticks": ""
             }
            },
            "type": "parcoords"
           }
          ],
          "pie": [
           {
            "automargin": true,
            "type": "pie"
           }
          ],
          "scatter": [
           {
            "fillpattern": {
             "fillmode": "overlay",
             "size": 10,
             "solidity": 0.2
            },
            "type": "scatter"
           }
          ],
          "scatter3d": [
           {
            "line": {
             "colorbar": {
              "outlinewidth": 0,
              "ticks": ""
             }
            },
            "marker": {
             "colorbar": {
              "outlinewidth": 0,
              "ticks": ""
             }
            },
            "type": "scatter3d"
           }
          ],
          "scattercarpet": [
           {
            "marker": {
             "colorbar": {
              "outlinewidth": 0,
              "ticks": ""
             }
            },
            "type": "scattercarpet"
           }
          ],
          "scattergeo": [
           {
            "marker": {
             "colorbar": {
              "outlinewidth": 0,
              "ticks": ""
             }
            },
            "type": "scattergeo"
           }
          ],
          "scattergl": [
           {
            "marker": {
             "colorbar": {
              "outlinewidth": 0,
              "ticks": ""
             }
            },
            "type": "scattergl"
           }
          ],
          "scattermapbox": [
           {
            "marker": {
             "colorbar": {
              "outlinewidth": 0,
              "ticks": ""
             }
            },
            "type": "scattermapbox"
           }
          ],
          "scatterpolar": [
           {
            "marker": {
             "colorbar": {
              "outlinewidth": 0,
              "ticks": ""
             }
            },
            "type": "scatterpolar"
           }
          ],
          "scatterpolargl": [
           {
            "marker": {
             "colorbar": {
              "outlinewidth": 0,
              "ticks": ""
             }
            },
            "type": "scatterpolargl"
           }
          ],
          "scatterternary": [
           {
            "marker": {
             "colorbar": {
              "outlinewidth": 0,
              "ticks": ""
             }
            },
            "type": "scatterternary"
           }
          ],
          "surface": [
           {
            "colorbar": {
             "outlinewidth": 0,
             "ticks": ""
            },
            "colorscale": [
             [
              0,
              "#0d0887"
             ],
             [
              0.1111111111111111,
              "#46039f"
             ],
             [
              0.2222222222222222,
              "#7201a8"
             ],
             [
              0.3333333333333333,
              "#9c179e"
             ],
             [
              0.4444444444444444,
              "#bd3786"
             ],
             [
              0.5555555555555556,
              "#d8576b"
             ],
             [
              0.6666666666666666,
              "#ed7953"
             ],
             [
              0.7777777777777778,
              "#fb9f3a"
             ],
             [
              0.8888888888888888,
              "#fdca26"
             ],
             [
              1,
              "#f0f921"
             ]
            ],
            "type": "surface"
           }
          ],
          "table": [
           {
            "cells": {
             "fill": {
              "color": "#EBF0F8"
             },
             "line": {
              "color": "white"
             }
            },
            "header": {
             "fill": {
              "color": "#C8D4E3"
             },
             "line": {
              "color": "white"
             }
            },
            "type": "table"
           }
          ]
         },
         "layout": {
          "annotationdefaults": {
           "arrowcolor": "#2a3f5f",
           "arrowhead": 0,
           "arrowwidth": 1
          },
          "autotypenumbers": "strict",
          "coloraxis": {
           "colorbar": {
            "outlinewidth": 0,
            "ticks": ""
           }
          },
          "colorscale": {
           "diverging": [
            [
             0,
             "#8e0152"
            ],
            [
             0.1,
             "#c51b7d"
            ],
            [
             0.2,
             "#de77ae"
            ],
            [
             0.3,
             "#f1b6da"
            ],
            [
             0.4,
             "#fde0ef"
            ],
            [
             0.5,
             "#f7f7f7"
            ],
            [
             0.6,
             "#e6f5d0"
            ],
            [
             0.7,
             "#b8e186"
            ],
            [
             0.8,
             "#7fbc41"
            ],
            [
             0.9,
             "#4d9221"
            ],
            [
             1,
             "#276419"
            ]
           ],
           "sequential": [
            [
             0,
             "#0d0887"
            ],
            [
             0.1111111111111111,
             "#46039f"
            ],
            [
             0.2222222222222222,
             "#7201a8"
            ],
            [
             0.3333333333333333,
             "#9c179e"
            ],
            [
             0.4444444444444444,
             "#bd3786"
            ],
            [
             0.5555555555555556,
             "#d8576b"
            ],
            [
             0.6666666666666666,
             "#ed7953"
            ],
            [
             0.7777777777777778,
             "#fb9f3a"
            ],
            [
             0.8888888888888888,
             "#fdca26"
            ],
            [
             1,
             "#f0f921"
            ]
           ],
           "sequentialminus": [
            [
             0,
             "#0d0887"
            ],
            [
             0.1111111111111111,
             "#46039f"
            ],
            [
             0.2222222222222222,
             "#7201a8"
            ],
            [
             0.3333333333333333,
             "#9c179e"
            ],
            [
             0.4444444444444444,
             "#bd3786"
            ],
            [
             0.5555555555555556,
             "#d8576b"
            ],
            [
             0.6666666666666666,
             "#ed7953"
            ],
            [
             0.7777777777777778,
             "#fb9f3a"
            ],
            [
             0.8888888888888888,
             "#fdca26"
            ],
            [
             1,
             "#f0f921"
            ]
           ]
          },
          "colorway": [
           "#636efa",
           "#EF553B",
           "#00cc96",
           "#ab63fa",
           "#FFA15A",
           "#19d3f3",
           "#FF6692",
           "#B6E880",
           "#FF97FF",
           "#FECB52"
          ],
          "font": {
           "color": "#2a3f5f"
          },
          "geo": {
           "bgcolor": "white",
           "lakecolor": "white",
           "landcolor": "#E5ECF6",
           "showlakes": true,
           "showland": true,
           "subunitcolor": "white"
          },
          "hoverlabel": {
           "align": "left"
          },
          "hovermode": "closest",
          "mapbox": {
           "style": "light"
          },
          "paper_bgcolor": "white",
          "plot_bgcolor": "#E5ECF6",
          "polar": {
           "angularaxis": {
            "gridcolor": "white",
            "linecolor": "white",
            "ticks": ""
           },
           "bgcolor": "#E5ECF6",
           "radialaxis": {
            "gridcolor": "white",
            "linecolor": "white",
            "ticks": ""
           }
          },
          "scene": {
           "xaxis": {
            "backgroundcolor": "#E5ECF6",
            "gridcolor": "white",
            "gridwidth": 2,
            "linecolor": "white",
            "showbackground": true,
            "ticks": "",
            "zerolinecolor": "white"
           },
           "yaxis": {
            "backgroundcolor": "#E5ECF6",
            "gridcolor": "white",
            "gridwidth": 2,
            "linecolor": "white",
            "showbackground": true,
            "ticks": "",
            "zerolinecolor": "white"
           },
           "zaxis": {
            "backgroundcolor": "#E5ECF6",
            "gridcolor": "white",
            "gridwidth": 2,
            "linecolor": "white",
            "showbackground": true,
            "ticks": "",
            "zerolinecolor": "white"
           }
          },
          "shapedefaults": {
           "line": {
            "color": "#2a3f5f"
           }
          },
          "ternary": {
           "aaxis": {
            "gridcolor": "white",
            "linecolor": "white",
            "ticks": ""
           },
           "baxis": {
            "gridcolor": "white",
            "linecolor": "white",
            "ticks": ""
           },
           "bgcolor": "#E5ECF6",
           "caxis": {
            "gridcolor": "white",
            "linecolor": "white",
            "ticks": ""
           }
          },
          "title": {
           "x": 0.05
          },
          "xaxis": {
           "automargin": true,
           "gridcolor": "white",
           "linecolor": "white",
           "ticks": "",
           "title": {
            "standoff": 15
           },
           "zerolinecolor": "white",
           "zerolinewidth": 2
          },
          "yaxis": {
           "automargin": true,
           "gridcolor": "white",
           "linecolor": "white",
           "ticks": "",
           "title": {
            "standoff": 15
           },
           "zerolinecolor": "white",
           "zerolinewidth": 2
          }
         }
        }
       }
      }
     },
     "metadata": {},
     "output_type": "display_data"
    }
   ],
   "source": [
    "show_3d_human_pose(df, 0)"
   ]
  },
  {
   "cell_type": "code",
   "execution_count": 4,
   "metadata": {},
   "outputs": [
    {
     "data": {
      "application/vnd.plotly.v1+json": {
       "config": {
        "plotlyServerURL": "https://plot.ly"
       },
       "data": [
        {
         "line": {
          "width": 10
         },
         "marker": {
          "size": 3
         },
         "mode": "lines+markers",
         "name": "CLUB",
         "type": "scatter3d",
         "x": [
          0.23698919,
          0.19656172
         ],
         "y": [
          -0.33413127,
          -0.41200393
         ],
         "z": [
          -1.0100287,
          -0.8645837
         ]
        },
        {
         "line": {
          "width": 10
         },
         "marker": {
          "size": 3
         },
         "mode": "lines+markers",
         "name": "EYE",
         "type": "scatter3d",
         "x": [
          0.2535693,
          0.26387426
         ],
         "y": [
          -0.2076254,
          -0.20753393
         ],
         "z": [
          -1.0467173,
          -1.047637
         ]
        },
        {
         "line": {
          "width": 10
         },
         "marker": {
          "size": 3
         },
         "mode": "lines+markers",
         "name": "SHOULDER",
         "type": "scatter3d",
         "x": [
          0.23654957,
          0.27841723
         ],
         "y": [
          -0.23057221,
          -0.22826652
         ],
         "z": [
          -1.0731953,
          -1.0618806
         ]
        },
        {
         "line": {
          "width": 10
         },
         "marker": {
          "size": 3
         },
         "mode": "lines+markers",
         "name": "LEFT_UPPER_ARM",
         "type": "scatter3d",
         "x": [
          0.23654957,
          0.23203753
         ],
         "y": [
          -0.23057221,
          -0.2769615
         ],
         "z": [
          -1.0731953,
          -1.0620731
         ]
        },
        {
         "line": {
          "width": 10
         },
         "marker": {
          "size": 3
         },
         "mode": "lines+markers",
         "name": "RIGHT_UPPER_ARM",
         "type": "scatter3d",
         "x": [
          0.27841723,
          0.26507968
         ],
         "y": [
          -0.22826652,
          -0.27139908
         ],
         "z": [
          -1.0618806,
          -1.036957
         ]
        },
        {
         "line": {
          "width": 10
         },
         "marker": {
          "size": 3
         },
         "mode": "lines+markers",
         "name": "LEFT_FOREARM",
         "type": "scatter3d",
         "x": [
          0.23203753,
          0.24052946
         ],
         "y": [
          -0.2769615,
          -0.3140998
         ],
         "z": [
          -1.0620731,
          -1.0385479
         ]
        },
        {
         "line": {
          "width": 10
         },
         "marker": {
          "size": 3
         },
         "mode": "lines+markers",
         "name": "RIGHT_FOREARM",
         "type": "scatter3d",
         "x": [
          0.26507968,
          0.24469087
         ],
         "y": [
          -0.27139908,
          -0.3092855
         ],
         "z": [
          -1.036957,
          -1.0252981
         ]
        },
        {
         "line": {
          "width": 10
         },
         "marker": {
          "size": 3
         },
         "mode": "lines+markers",
         "name": "HIP",
         "type": "scatter3d",
         "x": [
          0.24240008,
          0.2754639
         ],
         "y": [
          -0.30955663,
          -0.3066017
         ],
         "z": [
          -1.0829675,
          -1.0738851
         ]
        },
        {
         "line": {
          "width": 10
         },
         "marker": {
          "size": 3
         },
         "mode": "lines+markers",
         "name": "LEFT_BODY",
         "type": "scatter3d",
         "x": [
          0.23654957,
          0.24240008
         ],
         "y": [
          -0.23057221,
          -0.30955663
         ],
         "z": [
          -1.0731953,
          -1.0829675
         ]
        },
        {
         "line": {
          "width": 10
         },
         "marker": {
          "size": 3
         },
         "mode": "lines+markers",
         "name": "RIGHT_BODY",
         "type": "scatter3d",
         "x": [
          0.27841723,
          0.2754639
         ],
         "y": [
          -0.22826652,
          -0.3066017
         ],
         "z": [
          -1.0618806,
          -1.0738851
         ]
        },
        {
         "line": {
          "width": 10
         },
         "marker": {
          "size": 3
         },
         "mode": "lines+markers",
         "name": "LEFT_THIGH",
         "type": "scatter3d",
         "x": [
          0.24240008,
          0.22586088
         ],
         "y": [
          -0.30955663,
          -0.3754156
         ],
         "z": [
          -1.0829675,
          -1.0614059
         ]
        },
        {
         "line": {
          "width": 10
         },
         "marker": {
          "size": 3
         },
         "mode": "lines+markers",
         "name": "RIGHT_THIGH",
         "type": "scatter3d",
         "x": [
          0.2754639,
          0.28621644
         ],
         "y": [
          -0.3066017,
          -0.36826468
         ],
         "z": [
          -1.0738851,
          -1.0455372
         ]
        },
        {
         "line": {
          "width": 10
         },
         "marker": {
          "size": 3
         },
         "mode": "lines+markers",
         "name": "LEFT_LOWER_LEG",
         "type": "scatter3d",
         "x": [
          0.22586088,
          0.20987734
         ],
         "y": [
          -0.3754156,
          -0.4367214
         ],
         "z": [
          -1.0614059,
          -1.0442934
         ]
        },
        {
         "line": {
          "width": 10
         },
         "marker": {
          "size": 3
         },
         "mode": "lines+markers",
         "name": "RIGHT_LOWER_LEG",
         "type": "scatter3d",
         "x": [
          0.28621644,
          0.29509562
         ],
         "y": [
          -0.36826468,
          -0.42601654
         ],
         "z": [
          -1.0455372,
          -1.0248438
         ]
        }
       ],
       "frames": [
        {
         "data": [
          {
           "line": {
            "width": 10
           },
           "marker": {
            "size": 3
           },
           "mode": "lines+markers",
           "name": "CLUB",
           "type": "scatter3d",
           "x": [
            0.23698919,
            0.19656172
           ],
           "y": [
            -0.33413127,
            -0.41200393
           ],
           "z": [
            -1.0100287,
            -0.8645837
           ]
          },
          {
           "line": {
            "width": 10
           },
           "marker": {
            "size": 3
           },
           "mode": "lines+markers",
           "name": "EYE",
           "type": "scatter3d",
           "x": [
            0.2535693,
            0.26387426
           ],
           "y": [
            -0.2076254,
            -0.20753393
           ],
           "z": [
            -1.0467173,
            -1.047637
           ]
          },
          {
           "line": {
            "width": 10
           },
           "marker": {
            "size": 3
           },
           "mode": "lines+markers",
           "name": "SHOULDER",
           "type": "scatter3d",
           "x": [
            0.23654957,
            0.27841723
           ],
           "y": [
            -0.23057221,
            -0.22826652
           ],
           "z": [
            -1.0731953,
            -1.0618806
           ]
          },
          {
           "line": {
            "width": 10
           },
           "marker": {
            "size": 3
           },
           "mode": "lines+markers",
           "name": "LEFT_UPPER_ARM",
           "type": "scatter3d",
           "x": [
            0.23654957,
            0.23203753
           ],
           "y": [
            -0.23057221,
            -0.2769615
           ],
           "z": [
            -1.0731953,
            -1.0620731
           ]
          },
          {
           "line": {
            "width": 10
           },
           "marker": {
            "size": 3
           },
           "mode": "lines+markers",
           "name": "RIGHT_UPPER_ARM",
           "type": "scatter3d",
           "x": [
            0.27841723,
            0.26507968
           ],
           "y": [
            -0.22826652,
            -0.27139908
           ],
           "z": [
            -1.0618806,
            -1.036957
           ]
          },
          {
           "line": {
            "width": 10
           },
           "marker": {
            "size": 3
           },
           "mode": "lines+markers",
           "name": "LEFT_FOREARM",
           "type": "scatter3d",
           "x": [
            0.23203753,
            0.24052946
           ],
           "y": [
            -0.2769615,
            -0.3140998
           ],
           "z": [
            -1.0620731,
            -1.0385479
           ]
          },
          {
           "line": {
            "width": 10
           },
           "marker": {
            "size": 3
           },
           "mode": "lines+markers",
           "name": "RIGHT_FOREARM",
           "type": "scatter3d",
           "x": [
            0.26507968,
            0.24469087
           ],
           "y": [
            -0.27139908,
            -0.3092855
           ],
           "z": [
            -1.036957,
            -1.0252981
           ]
          },
          {
           "line": {
            "width": 10
           },
           "marker": {
            "size": 3
           },
           "mode": "lines+markers",
           "name": "HIP",
           "type": "scatter3d",
           "x": [
            0.24240008,
            0.2754639
           ],
           "y": [
            -0.30955663,
            -0.3066017
           ],
           "z": [
            -1.0829675,
            -1.0738851
           ]
          },
          {
           "line": {
            "width": 10
           },
           "marker": {
            "size": 3
           },
           "mode": "lines+markers",
           "name": "LEFT_BODY",
           "type": "scatter3d",
           "x": [
            0.23654957,
            0.24240008
           ],
           "y": [
            -0.23057221,
            -0.30955663
           ],
           "z": [
            -1.0731953,
            -1.0829675
           ]
          },
          {
           "line": {
            "width": 10
           },
           "marker": {
            "size": 3
           },
           "mode": "lines+markers",
           "name": "RIGHT_BODY",
           "type": "scatter3d",
           "x": [
            0.27841723,
            0.2754639
           ],
           "y": [
            -0.22826652,
            -0.3066017
           ],
           "z": [
            -1.0618806,
            -1.0738851
           ]
          },
          {
           "line": {
            "width": 10
           },
           "marker": {
            "size": 3
           },
           "mode": "lines+markers",
           "name": "LEFT_THIGH",
           "type": "scatter3d",
           "x": [
            0.24240008,
            0.22586088
           ],
           "y": [
            -0.30955663,
            -0.3754156
           ],
           "z": [
            -1.0829675,
            -1.0614059
           ]
          },
          {
           "line": {
            "width": 10
           },
           "marker": {
            "size": 3
           },
           "mode": "lines+markers",
           "name": "RIGHT_THIGH",
           "type": "scatter3d",
           "x": [
            0.2754639,
            0.28621644
           ],
           "y": [
            -0.3066017,
            -0.36826468
           ],
           "z": [
            -1.0738851,
            -1.0455372
           ]
          },
          {
           "line": {
            "width": 10
           },
           "marker": {
            "size": 3
           },
           "mode": "lines+markers",
           "name": "LEFT_LOWER_LEG",
           "type": "scatter3d",
           "x": [
            0.22586088,
            0.20987734
           ],
           "y": [
            -0.3754156,
            -0.4367214
           ],
           "z": [
            -1.0614059,
            -1.0442934
           ]
          },
          {
           "line": {
            "width": 10
           },
           "marker": {
            "size": 3
           },
           "mode": "lines+markers",
           "name": "RIGHT_LOWER_LEG",
           "type": "scatter3d",
           "x": [
            0.28621644,
            0.29509562
           ],
           "y": [
            -0.36826468,
            -0.42601654
           ],
           "z": [
            -1.0455372,
            -1.0248438
           ]
          }
         ],
         "layout": {
          "title": {
           "text": "frame:0"
          }
         },
         "name": "0"
        },
        {
         "data": [
          {
           "line": {
            "width": 10
           },
           "marker": {
            "size": 3
           },
           "mode": "lines+markers",
           "name": "CLUB",
           "type": "scatter3d",
           "x": [
            0.23695566,
            0.19657075
           ],
           "y": [
            -0.33554563,
            -0.41257703
           ],
           "z": [
            -1.0092368,
            -0.8641016
           ]
          },
          {
           "line": {
            "width": 10
           },
           "marker": {
            "size": 3
           },
           "mode": "lines+markers",
           "name": "EYE",
           "type": "scatter3d",
           "x": [
            0.25601193,
            0.26594353
           ],
           "y": [
            -0.20760226,
            -0.20743889
           ],
           "z": [
            -1.0458682,
            -1.0472745
           ]
          },
          {
           "line": {
            "width": 10
           },
           "marker": {
            "size": 3
           },
           "mode": "lines+markers",
           "name": "SHOULDER",
           "type": "scatter3d",
           "x": [
            0.23684575,
            0.27843794
           ],
           "y": [
            -0.23011118,
            -0.22805579
           ],
           "z": [
            -1.0715197,
            -1.0618914
           ]
          },
          {
           "line": {
            "width": 10
           },
           "marker": {
            "size": 3
           },
           "mode": "lines+markers",
           "name": "LEFT_UPPER_ARM",
           "type": "scatter3d",
           "x": [
            0.23684575,
            0.23346464
           ],
           "y": [
            -0.23011118,
            -0.2759697
           ],
           "z": [
            -1.0715197,
            -1.0599003
           ]
          },
          {
           "line": {
            "width": 10
           },
           "marker": {
            "size": 3
           },
           "mode": "lines+markers",
           "name": "RIGHT_UPPER_ARM",
           "type": "scatter3d",
           "x": [
            0.27843794,
            0.26545027
           ],
           "y": [
            -0.22805579,
            -0.2711277
           ],
           "z": [
            -1.0618914,
            -1.0382532
           ]
          },
          {
           "line": {
            "width": 10
           },
           "marker": {
            "size": 3
           },
           "mode": "lines+markers",
           "name": "LEFT_FOREARM",
           "type": "scatter3d",
           "x": [
            0.23346464,
            0.24172024
           ],
           "y": [
            -0.2759697,
            -0.31355792
           ],
           "z": [
            -1.0599003,
            -1.0370296
           ]
          },
          {
           "line": {
            "width": 10
           },
           "marker": {
            "size": 3
           },
           "mode": "lines+markers",
           "name": "RIGHT_FOREARM",
           "type": "scatter3d",
           "x": [
            0.26545027,
            0.24621184
           ],
           "y": [
            -0.2711277,
            -0.3082654
           ],
           "z": [
            -1.0382532,
            -1.0263548
           ]
          },
          {
           "line": {
            "width": 10
           },
           "marker": {
            "size": 3
           },
           "mode": "lines+markers",
           "name": "HIP",
           "type": "scatter3d",
           "x": [
            0.24303943,
            0.27593446
           ],
           "y": [
            -0.30973044,
            -0.30701992
           ],
           "z": [
            -1.081086,
            -1.0730368
           ]
          },
          {
           "line": {
            "width": 10
           },
           "marker": {
            "size": 3
           },
           "mode": "lines+markers",
           "name": "LEFT_BODY",
           "type": "scatter3d",
           "x": [
            0.23684575,
            0.24303943
           ],
           "y": [
            -0.23011118,
            -0.30973044
           ],
           "z": [
            -1.0715197,
            -1.081086
           ]
          },
          {
           "line": {
            "width": 10
           },
           "marker": {
            "size": 3
           },
           "mode": "lines+markers",
           "name": "RIGHT_BODY",
           "type": "scatter3d",
           "x": [
            0.27843794,
            0.27593446
           ],
           "y": [
            -0.22805579,
            -0.30701992
           ],
           "z": [
            -1.0618914,
            -1.0730368
           ]
          },
          {
           "line": {
            "width": 10
           },
           "marker": {
            "size": 3
           },
           "mode": "lines+markers",
           "name": "LEFT_THIGH",
           "type": "scatter3d",
           "x": [
            0.24303943,
            0.22593276
           ],
           "y": [
            -0.30973044,
            -0.37535065
           ],
           "z": [
            -1.081086,
            -1.0606986
           ]
          },
          {
           "line": {
            "width": 10
           },
           "marker": {
            "size": 3
           },
           "mode": "lines+markers",
           "name": "RIGHT_THIGH",
           "type": "scatter3d",
           "x": [
            0.27593446,
            0.28638646
           ],
           "y": [
            -0.30701992,
            -0.36871693
           ],
           "z": [
            -1.0730368,
            -1.0455868
           ]
          },
          {
           "line": {
            "width": 10
           },
           "marker": {
            "size": 3
           },
           "mode": "lines+markers",
           "name": "LEFT_LOWER_LEG",
           "type": "scatter3d",
           "x": [
            0.22593276,
            0.20950353
           ],
           "y": [
            -0.37535065,
            -0.43648732
           ],
           "z": [
            -1.0606986,
            -1.044657
           ]
          },
          {
           "line": {
            "width": 10
           },
           "marker": {
            "size": 3
           },
           "mode": "lines+markers",
           "name": "RIGHT_LOWER_LEG",
           "type": "scatter3d",
           "x": [
            0.28638646,
            0.29564998
           ],
           "y": [
            -0.36871693,
            -0.4261577
           ],
           "z": [
            -1.0455868,
            -1.0244563
           ]
          }
         ],
         "layout": {
          "title": {
           "text": "frame:5"
          }
         },
         "name": "5"
        },
        {
         "data": [
          {
           "line": {
            "width": 10
           },
           "marker": {
            "size": 3
           },
           "mode": "lines+markers",
           "name": "CLUB",
           "type": "scatter3d",
           "x": [
            0.23701562,
            0.1966256
           ],
           "y": [
            -0.3356764,
            -0.41269487
           ],
           "z": [
            -1.0090898,
            -0.8644363
           ]
          },
          {
           "line": {
            "width": 10
           },
           "marker": {
            "size": 3
           },
           "mode": "lines+markers",
           "name": "EYE",
           "type": "scatter3d",
           "x": [
            0.25473028,
            0.26521605
           ],
           "y": [
            -0.20933042,
            -0.20893042
           ],
           "z": [
            -1.0508419,
            -1.0510545
           ]
          },
          {
           "line": {
            "width": 10
           },
           "marker": {
            "size": 3
           },
           "mode": "lines+markers",
           "name": "SHOULDER",
           "type": "scatter3d",
           "x": [
            0.23732017,
            0.27870223
           ],
           "y": [
            -0.2301392,
            -0.22781369
           ],
           "z": [
            -1.0701863,
            -1.0599915
           ]
          },
          {
           "line": {
            "width": 10
           },
           "marker": {
            "size": 3
           },
           "mode": "lines+markers",
           "name": "LEFT_UPPER_ARM",
           "type": "scatter3d",
           "x": [
            0.23732017,
            0.23468305
           ],
           "y": [
            -0.2301392,
            -0.27581027
           ],
           "z": [
            -1.0701863,
            -1.0579691
           ]
          },
          {
           "line": {
            "width": 10
           },
           "marker": {
            "size": 3
           },
           "mode": "lines+markers",
           "name": "RIGHT_UPPER_ARM",
           "type": "scatter3d",
           "x": [
            0.27870223,
            0.26572645
           ],
           "y": [
            -0.22781369,
            -0.27053252
           ],
           "z": [
            -1.0599915,
            -1.0362614
           ]
          },
          {
           "line": {
            "width": 10
           },
           "marker": {
            "size": 3
           },
           "mode": "lines+markers",
           "name": "LEFT_FOREARM",
           "type": "scatter3d",
           "x": [
            0.23468305,
            0.24228577
           ],
           "y": [
            -0.27581027,
            -0.31365964
           ],
           "z": [
            -1.0579691,
            -1.0360832
           ]
          },
          {
           "line": {
            "width": 10
           },
           "marker": {
            "size": 3
           },
           "mode": "lines+markers",
           "name": "RIGHT_FOREARM",
           "type": "scatter3d",
           "x": [
            0.26572645,
            0.24719733
           ],
           "y": [
            -0.27053252,
            -0.30724987
           ],
           "z": [
            -1.0362614,
            -1.0239053
           ]
          },
          {
           "line": {
            "width": 10
           },
           "marker": {
            "size": 3
           },
           "mode": "lines+markers",
           "name": "HIP",
           "type": "scatter3d",
           "x": [
            0.2437191,
            0.27641016
           ],
           "y": [
            -0.30953032,
            -0.306708
           ],
           "z": [
            -1.0800015,
            -1.0716412
           ]
          },
          {
           "line": {
            "width": 10
           },
           "marker": {
            "size": 3
           },
           "mode": "lines+markers",
           "name": "LEFT_BODY",
           "type": "scatter3d",
           "x": [
            0.23732017,
            0.2437191
           ],
           "y": [
            -0.2301392,
            -0.30953032
           ],
           "z": [
            -1.0701863,
            -1.0800015
           ]
          },
          {
           "line": {
            "width": 10
           },
           "marker": {
            "size": 3
           },
           "mode": "lines+markers",
           "name": "RIGHT_BODY",
           "type": "scatter3d",
           "x": [
            0.27870223,
            0.27641016
           ],
           "y": [
            -0.22781369,
            -0.306708
           ],
           "z": [
            -1.0599915,
            -1.0716412
           ]
          },
          {
           "line": {
            "width": 10
           },
           "marker": {
            "size": 3
           },
           "mode": "lines+markers",
           "name": "LEFT_THIGH",
           "type": "scatter3d",
           "x": [
            0.2437191,
            0.22627054
           ],
           "y": [
            -0.30953032,
            -0.375243
           ],
           "z": [
            -1.0800015,
            -1.0605742
           ]
          },
          {
           "line": {
            "width": 10
           },
           "marker": {
            "size": 3
           },
           "mode": "lines+markers",
           "name": "RIGHT_THIGH",
           "type": "scatter3d",
           "x": [
            0.27641016,
            0.28616294
           ],
           "y": [
            -0.306708,
            -0.36857978
           ],
           "z": [
            -1.0716412,
            -1.0455488
           ]
          },
          {
           "line": {
            "width": 10
           },
           "marker": {
            "size": 3
           },
           "mode": "lines+markers",
           "name": "LEFT_LOWER_LEG",
           "type": "scatter3d",
           "x": [
            0.22627054,
            0.20986606
           ],
           "y": [
            -0.375243,
            -0.43642145
           ],
           "z": [
            -1.0605742,
            -1.0434576
           ]
          },
          {
           "line": {
            "width": 10
           },
           "marker": {
            "size": 3
           },
           "mode": "lines+markers",
           "name": "RIGHT_LOWER_LEG",
           "type": "scatter3d",
           "x": [
            0.28616294,
            0.29511476
           ],
           "y": [
            -0.36857978,
            -0.42628625
           ],
           "z": [
            -1.0455488,
            -1.0245093
           ]
          }
         ],
         "layout": {
          "title": {
           "text": "frame:10"
          }
         },
         "name": "10"
        },
        {
         "data": [
          {
           "line": {
            "width": 10
           },
           "marker": {
            "size": 3
           },
           "mode": "lines+markers",
           "name": "CLUB",
           "type": "scatter3d",
           "x": [
            0.23736532,
            0.1966892
           ],
           "y": [
            -0.3353708,
            -0.41274297
           ],
           "z": [
            -1.0085926,
            -0.8641017
           ]
          },
          {
           "line": {
            "width": 10
           },
           "marker": {
            "size": 3
           },
           "mode": "lines+markers",
           "name": "EYE",
           "type": "scatter3d",
           "x": [
            0.2544261,
            0.26478055
           ],
           "y": [
            -0.2083889,
            -0.20817605
           ],
           "z": [
            -1.046998,
            -1.0475688
           ]
          },
          {
           "line": {
            "width": 10
           },
           "marker": {
            "size": 3
           },
           "mode": "lines+markers",
           "name": "SHOULDER",
           "type": "scatter3d",
           "x": [
            0.23716138,
            0.27929336
           ],
           "y": [
            -0.22983347,
            -0.2274194
           ],
           "z": [
            -1.0709943,
            -1.0590845
           ]
          },
          {
           "line": {
            "width": 10
           },
           "marker": {
            "size": 3
           },
           "mode": "lines+markers",
           "name": "LEFT_UPPER_ARM",
           "type": "scatter3d",
           "x": [
            0.23716138,
            0.23475933
           ],
           "y": [
            -0.22983347,
            -0.27555248
           ],
           "z": [
            -1.0709943,
            -1.0572776
           ]
          },
          {
           "line": {
            "width": 10
           },
           "marker": {
            "size": 3
           },
           "mode": "lines+markers",
           "name": "RIGHT_UPPER_ARM",
           "type": "scatter3d",
           "x": [
            0.27929336,
            0.26680568
           ],
           "y": [
            -0.2274194,
            -0.2700002
           ],
           "z": [
            -1.0590845,
            -1.0329447
           ]
          },
          {
           "line": {
            "width": 10
           },
           "marker": {
            "size": 3
           },
           "mode": "lines+markers",
           "name": "LEFT_FOREARM",
           "type": "scatter3d",
           "x": [
            0.23475933,
            0.24173746
           ],
           "y": [
            -0.27555248,
            -0.3141068
           ],
           "z": [
            -1.0572776,
            -1.0364914
           ]
          },
          {
           "line": {
            "width": 10
           },
           "marker": {
            "size": 3
           },
           "mode": "lines+markers",
           "name": "RIGHT_FOREARM",
           "type": "scatter3d",
           "x": [
            0.26680568,
            0.24755612
           ],
           "y": [
            -0.2700002,
            -0.30732837
           ],
           "z": [
            -1.0329447,
            -1.0221643
           ]
          },
          {
           "line": {
            "width": 10
           },
           "marker": {
            "size": 3
           },
           "mode": "lines+markers",
           "name": "HIP",
           "type": "scatter3d",
           "x": [
            0.24335806,
            0.27652907
           ],
           "y": [
            -0.30970433,
            -0.30671698
           ],
           "z": [
            -1.0811005,
            -1.0716081
           ]
          },
          {
           "line": {
            "width": 10
           },
           "marker": {
            "size": 3
           },
           "mode": "lines+markers",
           "name": "LEFT_BODY",
           "type": "scatter3d",
           "x": [
            0.23716138,
            0.24335806
           ],
           "y": [
            -0.22983347,
            -0.30970433
           ],
           "z": [
            -1.0709943,
            -1.0811005
           ]
          },
          {
           "line": {
            "width": 10
           },
           "marker": {
            "size": 3
           },
           "mode": "lines+markers",
           "name": "RIGHT_BODY",
           "type": "scatter3d",
           "x": [
            0.27929336,
            0.27652907
           ],
           "y": [
            -0.2274194,
            -0.30671698
           ],
           "z": [
            -1.0590845,
            -1.0716081
           ]
          },
          {
           "line": {
            "width": 10
           },
           "marker": {
            "size": 3
           },
           "mode": "lines+markers",
           "name": "LEFT_THIGH",
           "type": "scatter3d",
           "x": [
            0.24335806,
            0.22605512
           ],
           "y": [
            -0.30970433,
            -0.3754687
           ],
           "z": [
            -1.0811005,
            -1.0612721
           ]
          },
          {
           "line": {
            "width": 10
           },
           "marker": {
            "size": 3
           },
           "mode": "lines+markers",
           "name": "RIGHT_THIGH",
           "type": "scatter3d",
           "x": [
            0.27652907,
            0.2866328
           ],
           "y": [
            -0.30671698,
            -0.36852103
           ],
           "z": [
            -1.0716081,
            -1.0449997
           ]
          },
          {
           "line": {
            "width": 10
           },
           "marker": {
            "size": 3
           },
           "mode": "lines+markers",
           "name": "LEFT_LOWER_LEG",
           "type": "scatter3d",
           "x": [
            0.22605512,
            0.2099756
           ],
           "y": [
            -0.3754687,
            -0.43650293
           ],
           "z": [
            -1.0612721,
            -1.0437994
           ]
          },
          {
           "line": {
            "width": 10
           },
           "marker": {
            "size": 3
           },
           "mode": "lines+markers",
           "name": "RIGHT_LOWER_LEG",
           "type": "scatter3d",
           "x": [
            0.2866328,
            0.29536808
           ],
           "y": [
            -0.36852103,
            -0.4265285
           ],
           "z": [
            -1.0449997,
            -1.024612
           ]
          }
         ],
         "layout": {
          "title": {
           "text": "frame:15"
          }
         },
         "name": "15"
        },
        {
         "data": [
          {
           "line": {
            "width": 10
           },
           "marker": {
            "size": 3
           },
           "mode": "lines+markers",
           "name": "CLUB",
           "type": "scatter3d",
           "x": [
            0.23736553,
            0.1969386
           ],
           "y": [
            -0.33538622,
            -0.41262674
           ],
           "z": [
            -1.0086325,
            -0.8639933
           ]
          },
          {
           "line": {
            "width": 10
           },
           "marker": {
            "size": 3
           },
           "mode": "lines+markers",
           "name": "EYE",
           "type": "scatter3d",
           "x": [
            0.25605756,
            0.26550624
           ],
           "y": [
            -0.20822419,
            -0.20825344
           ],
           "z": [
            -1.0450944,
            -1.0471125
           ]
          },
          {
           "line": {
            "width": 10
           },
           "marker": {
            "size": 3
           },
           "mode": "lines+markers",
           "name": "SHOULDER",
           "type": "scatter3d",
           "x": [
            0.23700887,
            0.27901542
           ],
           "y": [
            -0.23008578,
            -0.22746828
           ],
           "z": [
            -1.0716189,
            -1.0596648
           ]
          },
          {
           "line": {
            "width": 10
           },
           "marker": {
            "size": 3
           },
           "mode": "lines+markers",
           "name": "LEFT_UPPER_ARM",
           "type": "scatter3d",
           "x": [
            0.23700887,
            0.23449612
           ],
           "y": [
            -0.23008578,
            -0.2761483
           ],
           "z": [
            -1.0716189,
            -1.0577153
           ]
          },
          {
           "line": {
            "width": 10
           },
           "marker": {
            "size": 3
           },
           "mode": "lines+markers",
           "name": "RIGHT_UPPER_ARM",
           "type": "scatter3d",
           "x": [
            0.27901542,
            0.26625186
           ],
           "y": [
            -0.22746828,
            -0.27028236
           ],
           "z": [
            -1.0596648,
            -1.0334393
           ]
          },
          {
           "line": {
            "width": 10
           },
           "marker": {
            "size": 3
           },
           "mode": "lines+markers",
           "name": "LEFT_FOREARM",
           "type": "scatter3d",
           "x": [
            0.23449612,
            0.24229895
           ],
           "y": [
            -0.2761483,
            -0.31431887
           ],
           "z": [
            -1.0577153,
            -1.0353329
           ]
          },
          {
           "line": {
            "width": 10
           },
           "marker": {
            "size": 3
           },
           "mode": "lines+markers",
           "name": "RIGHT_FOREARM",
           "type": "scatter3d",
           "x": [
            0.26625186,
            0.24648072
           ],
           "y": [
            -0.27028236,
            -0.30807042
           ],
           "z": [
            -1.0334393,
            -1.0225817
           ]
          },
          {
           "line": {
            "width": 10
           },
           "marker": {
            "size": 3
           },
           "mode": "lines+markers",
           "name": "HIP",
           "type": "scatter3d",
           "x": [
            0.24348876,
            0.27656084
           ],
           "y": [
            -0.31050378,
            -0.30736926
           ],
           "z": [
            -1.0805258,
            -1.0710796
           ]
          },
          {
           "line": {
            "width": 10
           },
           "marker": {
            "size": 3
           },
           "mode": "lines+markers",
           "name": "LEFT_BODY",
           "type": "scatter3d",
           "x": [
            0.23700887,
            0.24348876
           ],
           "y": [
            -0.23008578,
            -0.31050378
           ],
           "z": [
            -1.0716189,
            -1.0805258
           ]
          },
          {
           "line": {
            "width": 10
           },
           "marker": {
            "size": 3
           },
           "mode": "lines+markers",
           "name": "RIGHT_BODY",
           "type": "scatter3d",
           "x": [
            0.27901542,
            0.27656084
           ],
           "y": [
            -0.22746828,
            -0.30736926
           ],
           "z": [
            -1.0596648,
            -1.0710796
           ]
          },
          {
           "line": {
            "width": 10
           },
           "marker": {
            "size": 3
           },
           "mode": "lines+markers",
           "name": "LEFT_THIGH",
           "type": "scatter3d",
           "x": [
            0.24348876,
            0.2261724
           ],
           "y": [
            -0.31050378,
            -0.37586966
           ],
           "z": [
            -1.0805258,
            -1.0608315
           ]
          },
          {
           "line": {
            "width": 10
           },
           "marker": {
            "size": 3
           },
           "mode": "lines+markers",
           "name": "RIGHT_THIGH",
           "type": "scatter3d",
           "x": [
            0.27656084,
            0.28689176
           ],
           "y": [
            -0.30736926,
            -0.36852527
           ],
           "z": [
            -1.0710796,
            -1.0440608
           ]
          },
          {
           "line": {
            "width": 10
           },
           "marker": {
            "size": 3
           },
           "mode": "lines+markers",
           "name": "LEFT_LOWER_LEG",
           "type": "scatter3d",
           "x": [
            0.2261724,
            0.20979726
           ],
           "y": [
            -0.37586966,
            -0.43675214
           ],
           "z": [
            -1.0608315,
            -1.0435709
           ]
          },
          {
           "line": {
            "width": 10
           },
           "marker": {
            "size": 3
           },
           "mode": "lines+markers",
           "name": "RIGHT_LOWER_LEG",
           "type": "scatter3d",
           "x": [
            0.28689176,
            0.2953398
           ],
           "y": [
            -0.36852527,
            -0.4264741
           ],
           "z": [
            -1.0440608,
            -1.0243291
           ]
          }
         ],
         "layout": {
          "title": {
           "text": "frame:20"
          }
         },
         "name": "20"
        },
        {
         "data": [
          {
           "line": {
            "width": 10
           },
           "marker": {
            "size": 3
           },
           "mode": "lines+markers",
           "name": "CLUB",
           "type": "scatter3d",
           "x": [
            0.23732443,
            0.19704299
           ],
           "y": [
            -0.33526894,
            -0.41251525
           ],
           "z": [
            -1.0088296,
            -0.86384565
           ]
          },
          {
           "line": {
            "width": 10
           },
           "marker": {
            "size": 3
           },
           "mode": "lines+markers",
           "name": "EYE",
           "type": "scatter3d",
           "x": [
            0.25791076,
            0.26680097
           ],
           "y": [
            -0.20735031,
            -0.2074832
           ],
           "z": [
            -1.0436299,
            -1.0463278
           ]
          },
          {
           "line": {
            "width": 10
           },
           "marker": {
            "size": 3
           },
           "mode": "lines+markers",
           "name": "SHOULDER",
           "type": "scatter3d",
           "x": [
            0.23689966,
            0.27873206
           ],
           "y": [
            -0.23029874,
            -0.22809842
           ],
           "z": [
            -1.0707349,
            -1.0600153
           ]
          },
          {
           "line": {
            "width": 10
           },
           "marker": {
            "size": 3
           },
           "mode": "lines+markers",
           "name": "LEFT_UPPER_ARM",
           "type": "scatter3d",
           "x": [
            0.23689966,
            0.23461978
           ],
           "y": [
            -0.23029874,
            -0.2756874
           ],
           "z": [
            -1.0707349,
            -1.0572183
           ]
          },
          {
           "line": {
            "width": 10
           },
           "marker": {
            "size": 3
           },
           "mode": "lines+markers",
           "name": "RIGHT_UPPER_ARM",
           "type": "scatter3d",
           "x": [
            0.27873206,
            0.26734075
           ],
           "y": [
            -0.22809842,
            -0.27016804
           ],
           "z": [
            -1.0600153,
            -1.0326399
           ]
          },
          {
           "line": {
            "width": 10
           },
           "marker": {
            "size": 3
           },
           "mode": "lines+markers",
           "name": "LEFT_FOREARM",
           "type": "scatter3d",
           "x": [
            0.23461978,
            0.24229579
           ],
           "y": [
            -0.2756874,
            -0.31378278
           ],
           "z": [
            -1.0572183,
            -1.0357925
           ]
          },
          {
           "line": {
            "width": 10
           },
           "marker": {
            "size": 3
           },
           "mode": "lines+markers",
           "name": "RIGHT_FOREARM",
           "type": "scatter3d",
           "x": [
            0.26734075,
            0.24821709
           ],
           "y": [
            -0.27016804,
            -0.30734777
           ],
           "z": [
            -1.0326399,
            -1.0214766
           ]
          },
          {
           "line": {
            "width": 10
           },
           "marker": {
            "size": 3
           },
           "mode": "lines+markers",
           "name": "HIP",
           "type": "scatter3d",
           "x": [
            0.24329984,
            0.27628914
           ],
           "y": [
            -0.3100764,
            -0.3071754
           ],
           "z": [
            -1.0803149,
            -1.0716072
           ]
          },
          {
           "line": {
            "width": 10
           },
           "marker": {
            "size": 3
           },
           "mode": "lines+markers",
           "name": "LEFT_BODY",
           "type": "scatter3d",
           "x": [
            0.23689966,
            0.24329984
           ],
           "y": [
            -0.23029874,
            -0.3100764
           ],
           "z": [
            -1.0707349,
            -1.0803149
           ]
          },
          {
           "line": {
            "width": 10
           },
           "marker": {
            "size": 3
           },
           "mode": "lines+markers",
           "name": "RIGHT_BODY",
           "type": "scatter3d",
           "x": [
            0.27873206,
            0.27628914
           ],
           "y": [
            -0.22809842,
            -0.3071754
           ],
           "z": [
            -1.0600153,
            -1.0716072
           ]
          },
          {
           "line": {
            "width": 10
           },
           "marker": {
            "size": 3
           },
           "mode": "lines+markers",
           "name": "LEFT_THIGH",
           "type": "scatter3d",
           "x": [
            0.24329984,
            0.22641012
           ],
           "y": [
            -0.3100764,
            -0.37549564
           ],
           "z": [
            -1.0803149,
            -1.0605092
           ]
          },
          {
           "line": {
            "width": 10
           },
           "marker": {
            "size": 3
           },
           "mode": "lines+markers",
           "name": "RIGHT_THIGH",
           "type": "scatter3d",
           "x": [
            0.27628914,
            0.28681812
           ],
           "y": [
            -0.3071754,
            -0.36852145
           ],
           "z": [
            -1.0716072,
            -1.0441753
           ]
          },
          {
           "line": {
            "width": 10
           },
           "marker": {
            "size": 3
           },
           "mode": "lines+markers",
           "name": "LEFT_LOWER_LEG",
           "type": "scatter3d",
           "x": [
            0.22641012,
            0.21044502
           ],
           "y": [
            -0.37549564,
            -0.43587914
           ],
           "z": [
            -1.0605092,
            -1.0433923
           ]
          },
          {
           "line": {
            "width": 10
           },
           "marker": {
            "size": 3
           },
           "mode": "lines+markers",
           "name": "RIGHT_LOWER_LEG",
           "type": "scatter3d",
           "x": [
            0.28681812,
            0.2958138
           ],
           "y": [
            -0.36852145,
            -0.42570004
           ],
           "z": [
            -1.0441753,
            -1.02289
           ]
          }
         ],
         "layout": {
          "title": {
           "text": "frame:25"
          }
         },
         "name": "25"
        },
        {
         "data": [
          {
           "line": {
            "width": 10
           },
           "marker": {
            "size": 3
           },
           "mode": "lines+markers",
           "name": "CLUB",
           "type": "scatter3d",
           "x": [
            0.23738626,
            0.19701177
           ],
           "y": [
            -0.33532327,
            -0.4122097
           ],
           "z": [
            -1.0083116,
            -0.86363494
           ]
          },
          {
           "line": {
            "width": 10
           },
           "marker": {
            "size": 3
           },
           "mode": "lines+markers",
           "name": "EYE",
           "type": "scatter3d",
           "x": [
            0.2556279,
            0.26553512
           ],
           "y": [
            -0.20826279,
            -0.20820053
           ],
           "z": [
            -1.0452323,
            -1.0468025
           ]
          },
          {
           "line": {
            "width": 10
           },
           "marker": {
            "size": 3
           },
           "mode": "lines+markers",
           "name": "SHOULDER",
           "type": "scatter3d",
           "x": [
            0.23696713,
            0.2795801
           ],
           "y": [
            -0.22937344,
            -0.22697869
           ],
           "z": [
            -1.0715826,
            -1.0603449
           ]
          },
          {
           "line": {
            "width": 10
           },
           "marker": {
            "size": 3
           },
           "mode": "lines+markers",
           "name": "LEFT_UPPER_ARM",
           "type": "scatter3d",
           "x": [
            0.23696713,
            0.23472545
           ],
           "y": [
            -0.22937344,
            -0.2758247
           ],
           "z": [
            -1.0715826,
            -1.058037
           ]
          },
          {
           "line": {
            "width": 10
           },
           "marker": {
            "size": 3
           },
           "mode": "lines+markers",
           "name": "RIGHT_UPPER_ARM",
           "type": "scatter3d",
           "x": [
            0.2795801,
            0.26707864
           ],
           "y": [
            -0.22697869,
            -0.27014226
           ],
           "z": [
            -1.0603449,
            -1.0337749
           ]
          },
          {
           "line": {
            "width": 10
           },
           "marker": {
            "size": 3
           },
           "mode": "lines+markers",
           "name": "LEFT_FOREARM",
           "type": "scatter3d",
           "x": [
            0.23472545,
            0.24215923
           ],
           "y": [
            -0.2758247,
            -0.31397364
           ],
           "z": [
            -1.058037,
            -1.0355332
           ]
          },
          {
           "line": {
            "width": 10
           },
           "marker": {
            "size": 3
           },
           "mode": "lines+markers",
           "name": "RIGHT_FOREARM",
           "type": "scatter3d",
           "x": [
            0.26707864,
            0.24636532
           ],
           "y": [
            -0.27014226,
            -0.30799538
           ],
           "z": [
            -1.0337749,
            -1.0241913
           ]
          },
          {
           "line": {
            "width": 10
           },
           "marker": {
            "size": 3
           },
           "mode": "lines+markers",
           "name": "HIP",
           "type": "scatter3d",
           "x": [
            0.24325754,
            0.27667448
           ],
           "y": [
            -0.3091822,
            -0.3062682
           ],
           "z": [
            -1.0813572,
            -1.0724144
           ]
          },
          {
           "line": {
            "width": 10
           },
           "marker": {
            "size": 3
           },
           "mode": "lines+markers",
           "name": "LEFT_BODY",
           "type": "scatter3d",
           "x": [
            0.23696713,
            0.24325754
           ],
           "y": [
            -0.22937344,
            -0.3091822
           ],
           "z": [
            -1.0715826,
            -1.0813572
           ]
          },
          {
           "line": {
            "width": 10
           },
           "marker": {
            "size": 3
           },
           "mode": "lines+markers",
           "name": "RIGHT_BODY",
           "type": "scatter3d",
           "x": [
            0.2795801,
            0.27667448
           ],
           "y": [
            -0.22697869,
            -0.3062682
           ],
           "z": [
            -1.0603449,
            -1.0724144
           ]
          },
          {
           "line": {
            "width": 10
           },
           "marker": {
            "size": 3
           },
           "mode": "lines+markers",
           "name": "LEFT_THIGH",
           "type": "scatter3d",
           "x": [
            0.24325754,
            0.22622284
           ],
           "y": [
            -0.3091822,
            -0.37435135
           ],
           "z": [
            -1.0813572,
            -1.0607079
           ]
          },
          {
           "line": {
            "width": 10
           },
           "marker": {
            "size": 3
           },
           "mode": "lines+markers",
           "name": "RIGHT_THIGH",
           "type": "scatter3d",
           "x": [
            0.27667448,
            0.28704664
           ],
           "y": [
            -0.3062682,
            -0.3675238
           ],
           "z": [
            -1.0724144,
            -1.0451088
           ]
          },
          {
           "line": {
            "width": 10
           },
           "marker": {
            "size": 3
           },
           "mode": "lines+markers",
           "name": "LEFT_LOWER_LEG",
           "type": "scatter3d",
           "x": [
            0.22622284,
            0.21078384
           ],
           "y": [
            -0.37435135,
            -0.43541986
           ],
           "z": [
            -1.0607079,
            -1.0425514
           ]
          },
          {
           "line": {
            "width": 10
           },
           "marker": {
            "size": 3
           },
           "mode": "lines+markers",
           "name": "RIGHT_LOWER_LEG",
           "type": "scatter3d",
           "x": [
            0.28704664,
            0.29575503
           ],
           "y": [
            -0.3675238,
            -0.42550993
           ],
           "z": [
            -1.0451088,
            -1.0237195
           ]
          }
         ],
         "layout": {
          "title": {
           "text": "frame:30"
          }
         },
         "name": "30"
        },
        {
         "data": [
          {
           "line": {
            "width": 10
           },
           "marker": {
            "size": 3
           },
           "mode": "lines+markers",
           "name": "CLUB",
           "type": "scatter3d",
           "x": [
            0.23750688,
            0.19720209
           ],
           "y": [
            -0.33526045,
            -0.41237587
           ],
           "z": [
            -1.0083826,
            -0.8637215
           ]
          },
          {
           "line": {
            "width": 10
           },
           "marker": {
            "size": 3
           },
           "mode": "lines+markers",
           "name": "EYE",
           "type": "scatter3d",
           "x": [
            0.25903088,
            0.267803
           ],
           "y": [
            -0.20688273,
            -0.20703489
           ],
           "z": [
            -1.0420474,
            -1.0450141
           ]
          },
          {
           "line": {
            "width": 10
           },
           "marker": {
            "size": 3
           },
           "mode": "lines+markers",
           "name": "SHOULDER",
           "type": "scatter3d",
           "x": [
            0.23745698,
            0.27917778
           ],
           "y": [
            -0.23029865,
            -0.22821918
           ],
           "z": [
            -1.0699558,
            -1.0600781
           ]
          },
          {
           "line": {
            "width": 10
           },
           "marker": {
            "size": 3
           },
           "mode": "lines+markers",
           "name": "LEFT_UPPER_ARM",
           "type": "scatter3d",
           "x": [
            0.23745698,
            0.23459198
           ],
           "y": [
            -0.23029865,
            -0.27595177
           ],
           "z": [
            -1.0699558,
            -1.0578868
           ]
          },
          {
           "line": {
            "width": 10
           },
           "marker": {
            "size": 3
           },
           "mode": "lines+markers",
           "name": "RIGHT_UPPER_ARM",
           "type": "scatter3d",
           "x": [
            0.27917778,
            0.26752433
           ],
           "y": [
            -0.22821918,
            -0.2703116
           ],
           "z": [
            -1.0600781,
            -1.0327654
           ]
          },
          {
           "line": {
            "width": 10
           },
           "marker": {
            "size": 3
           },
           "mode": "lines+markers",
           "name": "LEFT_FOREARM",
           "type": "scatter3d",
           "x": [
            0.23459198,
            0.24156931
           ],
           "y": [
            -0.27595177,
            -0.31398994
           ],
           "z": [
            -1.0578868,
            -1.0368077
           ]
          },
          {
           "line": {
            "width": 10
           },
           "marker": {
            "size": 3
           },
           "mode": "lines+markers",
           "name": "RIGHT_FOREARM",
           "type": "scatter3d",
           "x": [
            0.26752433,
            0.2471706
           ],
           "y": [
            -0.2703116,
            -0.30759504
           ],
           "z": [
            -1.0327654,
            -1.0230464
           ]
          },
          {
           "line": {
            "width": 10
           },
           "marker": {
            "size": 3
           },
           "mode": "lines+markers",
           "name": "HIP",
           "type": "scatter3d",
           "x": [
            0.24395372,
            0.27691236
           ],
           "y": [
            -0.3097812,
            -0.3069781
           ],
           "z": [
            -1.0793073,
            -1.0710896
           ]
          },
          {
           "line": {
            "width": 10
           },
           "marker": {
            "size": 3
           },
           "mode": "lines+markers",
           "name": "LEFT_BODY",
           "type": "scatter3d",
           "x": [
            0.23745698,
            0.24395372
           ],
           "y": [
            -0.23029865,
            -0.3097812
           ],
           "z": [
            -1.0699558,
            -1.0793073
           ]
          },
          {
           "line": {
            "width": 10
           },
           "marker": {
            "size": 3
           },
           "mode": "lines+markers",
           "name": "RIGHT_BODY",
           "type": "scatter3d",
           "x": [
            0.27917778,
            0.27691236
           ],
           "y": [
            -0.22821918,
            -0.3069781
           ],
           "z": [
            -1.0600781,
            -1.0710896
           ]
          },
          {
           "line": {
            "width": 10
           },
           "marker": {
            "size": 3
           },
           "mode": "lines+markers",
           "name": "LEFT_THIGH",
           "type": "scatter3d",
           "x": [
            0.24395372,
            0.22678304
           ],
           "y": [
            -0.3097812,
            -0.3747788
           ],
           "z": [
            -1.0793073,
            -1.0594684
           ]
          },
          {
           "line": {
            "width": 10
           },
           "marker": {
            "size": 3
           },
           "mode": "lines+markers",
           "name": "RIGHT_THIGH",
           "type": "scatter3d",
           "x": [
            0.27691236,
            0.28771478
           ],
           "y": [
            -0.3069781,
            -0.36778066
           ],
           "z": [
            -1.0710896,
            -1.043481
           ]
          },
          {
           "line": {
            "width": 10
           },
           "marker": {
            "size": 3
           },
           "mode": "lines+markers",
           "name": "LEFT_LOWER_LEG",
           "type": "scatter3d",
           "x": [
            0.22678304,
            0.21001925
           ],
           "y": [
            -0.3747788,
            -0.43592754
           ],
           "z": [
            -1.0594684,
            -1.0435386
           ]
          },
          {
           "line": {
            "width": 10
           },
           "marker": {
            "size": 3
           },
           "mode": "lines+markers",
           "name": "RIGHT_LOWER_LEG",
           "type": "scatter3d",
           "x": [
            0.28771478,
            0.29606783
           ],
           "y": [
            -0.36778066,
            -0.42533866
           ],
           "z": [
            -1.043481,
            -1.0227734
           ]
          }
         ],
         "layout": {
          "title": {
           "text": "frame:35"
          }
         },
         "name": "35"
        },
        {
         "data": [
          {
           "line": {
            "width": 10
           },
           "marker": {
            "size": 3
           },
           "mode": "lines+markers",
           "name": "CLUB",
           "type": "scatter3d",
           "x": [
            0.23741832,
            0.19719905
           ],
           "y": [
            -0.3353745,
            -0.41248482
           ],
           "z": [
            -1.0084597,
            -0.86390847
           ]
          },
          {
           "line": {
            "width": 10
           },
           "marker": {
            "size": 3
           },
           "mode": "lines+markers",
           "name": "EYE",
           "type": "scatter3d",
           "x": [
            0.2580482,
            0.26704234
           ],
           "y": [
            -0.20711286,
            -0.20721504
           ],
           "z": [
            -1.0427271,
            -1.045107
           ]
          },
          {
           "line": {
            "width": 10
           },
           "marker": {
            "size": 3
           },
           "mode": "lines+markers",
           "name": "SHOULDER",
           "type": "scatter3d",
           "x": [
            0.23735946,
            0.27969393
           ],
           "y": [
            -0.23029032,
            -0.22813822
           ],
           "z": [
            -1.0708039,
            -1.0595366
           ]
          },
          {
           "line": {
            "width": 10
           },
           "marker": {
            "size": 3
           },
           "mode": "lines+markers",
           "name": "LEFT_UPPER_ARM",
           "type": "scatter3d",
           "x": [
            0.23735946,
            0.23451515
           ],
           "y": [
            -0.23029032,
            -0.27622738
           ],
           "z": [
            -1.0708039,
            -1.0584235
           ]
          },
          {
           "line": {
            "width": 10
           },
           "marker": {
            "size": 3
           },
           "mode": "lines+markers",
           "name": "RIGHT_UPPER_ARM",
           "type": "scatter3d",
           "x": [
            0.27969393,
            0.26749927
           ],
           "y": [
            -0.22813822,
            -0.27086788
           ],
           "z": [
            -1.0595366,
            -1.0331147
           ]
          },
          {
           "line": {
            "width": 10
           },
           "marker": {
            "size": 3
           },
           "mode": "lines+markers",
           "name": "LEFT_FOREARM",
           "type": "scatter3d",
           "x": [
            0.23451515,
            0.24097887
           ],
           "y": [
            -0.27622738,
            -0.31440106
           ],
           "z": [
            -1.0584235,
            -1.0374005
           ]
          },
          {
           "line": {
            "width": 10
           },
           "marker": {
            "size": 3
           },
           "mode": "lines+markers",
           "name": "RIGHT_FOREARM",
           "type": "scatter3d",
           "x": [
            0.26749927,
            0.24679345
           ],
           "y": [
            -0.27086788,
            -0.30813465
           ],
           "z": [
            -1.0331147,
            -1.0234816
           ]
          },
          {
           "line": {
            "width": 10
           },
           "marker": {
            "size": 3
           },
           "mode": "lines+markers",
           "name": "HIP",
           "type": "scatter3d",
           "x": [
            0.24363534,
            0.27697068
           ],
           "y": [
            -0.3095472,
            -0.3066506
           ],
           "z": [
            -1.0804846,
            -1.0713677
           ]
          },
          {
           "line": {
            "width": 10
           },
           "marker": {
            "size": 3
           },
           "mode": "lines+markers",
           "name": "LEFT_BODY",
           "type": "scatter3d",
           "x": [
            0.23735946,
            0.24363534
           ],
           "y": [
            -0.23029032,
            -0.3095472
           ],
           "z": [
            -1.0708039,
            -1.0804846
           ]
          },
          {
           "line": {
            "width": 10
           },
           "marker": {
            "size": 3
           },
           "mode": "lines+markers",
           "name": "RIGHT_BODY",
           "type": "scatter3d",
           "x": [
            0.27969393,
            0.27697068
           ],
           "y": [
            -0.22813822,
            -0.3066506
           ],
           "z": [
            -1.0595366,
            -1.0713677
           ]
          },
          {
           "line": {
            "width": 10
           },
           "marker": {
            "size": 3
           },
           "mode": "lines+markers",
           "name": "LEFT_THIGH",
           "type": "scatter3d",
           "x": [
            0.24363534,
            0.22660677
           ],
           "y": [
            -0.3095472,
            -0.37483674
           ],
           "z": [
            -1.0804846,
            -1.0597998
           ]
          },
          {
           "line": {
            "width": 10
           },
           "marker": {
            "size": 3
           },
           "mode": "lines+markers",
           "name": "RIGHT_THIGH",
           "type": "scatter3d",
           "x": [
            0.27697068,
            0.28745103
           ],
           "y": [
            -0.3066506,
            -0.3681038
           ],
           "z": [
            -1.0713677,
            -1.0440208
           ]
          },
          {
           "line": {
            "width": 10
           },
           "marker": {
            "size": 3
           },
           "mode": "lines+markers",
           "name": "LEFT_LOWER_LEG",
           "type": "scatter3d",
           "x": [
            0.22660677,
            0.21102013
           ],
           "y": [
            -0.37483674,
            -0.43524748
           ],
           "z": [
            -1.0597998,
            -1.0419776
           ]
          },
          {
           "line": {
            "width": 10
           },
           "marker": {
            "size": 3
           },
           "mode": "lines+markers",
           "name": "RIGHT_LOWER_LEG",
           "type": "scatter3d",
           "x": [
            0.28745103,
            0.29587626
           ],
           "y": [
            -0.3681038,
            -0.4256869
           ],
           "z": [
            -1.0440208,
            -1.0229524
           ]
          }
         ],
         "layout": {
          "title": {
           "text": "frame:40"
          }
         },
         "name": "40"
        },
        {
         "data": [
          {
           "line": {
            "width": 10
           },
           "marker": {
            "size": 3
           },
           "mode": "lines+markers",
           "name": "CLUB",
           "type": "scatter3d",
           "x": [
            0.23767827,
            0.19742239
           ],
           "y": [
            -0.3352692,
            -0.41242534
           ],
           "z": [
            -1.0084164,
            -0.8638583
           ]
          },
          {
           "line": {
            "width": 10
           },
           "marker": {
            "size": 3
           },
           "mode": "lines+markers",
           "name": "EYE",
           "type": "scatter3d",
           "x": [
            0.25752413,
            0.2665669
           ],
           "y": [
            -0.20716232,
            -0.20724663
           ],
           "z": [
            -1.0432272,
            -1.0456202
           ]
          },
          {
           "line": {
            "width": 10
           },
           "marker": {
            "size": 3
           },
           "mode": "lines+markers",
           "name": "SHOULDER",
           "type": "scatter3d",
           "x": [
            0.23762874,
            0.2797142
           ],
           "y": [
            -0.23001073,
            -0.22786996
           ],
           "z": [
            -1.0701978,
            -1.0591326
           ]
          },
          {
           "line": {
            "width": 10
           },
           "marker": {
            "size": 3
           },
           "mode": "lines+markers",
           "name": "LEFT_UPPER_ARM",
           "type": "scatter3d",
           "x": [
            0.23762874,
            0.23502947
           ],
           "y": [
            -0.23001073,
            -0.2756817
           ],
           "z": [
            -1.0701978,
            -1.0570257
           ]
          },
          {
           "line": {
            "width": 10
           },
           "marker": {
            "size": 3
           },
           "mode": "lines+markers",
           "name": "RIGHT_UPPER_ARM",
           "type": "scatter3d",
           "x": [
            0.2797142,
            0.2678164
           ],
           "y": [
            -0.22786996,
            -0.27046764
           ],
           "z": [
            -1.0591326,
            -1.0321072
           ]
          },
          {
           "line": {
            "width": 10
           },
           "marker": {
            "size": 3
           },
           "mode": "lines+markers",
           "name": "LEFT_FOREARM",
           "type": "scatter3d",
           "x": [
            0.23502947,
            0.24233398
           ],
           "y": [
            -0.2756817,
            -0.31391203
           ],
           "z": [
            -1.0570257,
            -1.0355188
           ]
          },
          {
           "line": {
            "width": 10
           },
           "marker": {
            "size": 3
           },
           "mode": "lines+markers",
           "name": "RIGHT_FOREARM",
           "type": "scatter3d",
           "x": [
            0.2678164,
            0.24709071
           ],
           "y": [
            -0.27046764,
            -0.30818966
           ],
           "z": [
            -1.0321072,
            -1.0227752
           ]
          },
          {
           "line": {
            "width": 10
           },
           "marker": {
            "size": 3
           },
           "mode": "lines+markers",
           "name": "HIP",
           "type": "scatter3d",
           "x": [
            0.24363449,
            0.27690345
           ],
           "y": [
            -0.30944425,
            -0.3065664
           ],
           "z": [
            -1.080815,
            -1.0716771
           ]
          },
          {
           "line": {
            "width": 10
           },
           "marker": {
            "size": 3
           },
           "mode": "lines+markers",
           "name": "LEFT_BODY",
           "type": "scatter3d",
           "x": [
            0.23762874,
            0.24363449
           ],
           "y": [
            -0.23001073,
            -0.30944425
           ],
           "z": [
            -1.0701978,
            -1.080815
           ]
          },
          {
           "line": {
            "width": 10
           },
           "marker": {
            "size": 3
           },
           "mode": "lines+markers",
           "name": "RIGHT_BODY",
           "type": "scatter3d",
           "x": [
            0.2797142,
            0.27690345
           ],
           "y": [
            -0.22786996,
            -0.3065664
           ],
           "z": [
            -1.0591326,
            -1.0716771
           ]
          },
          {
           "line": {
            "width": 10
           },
           "marker": {
            "size": 3
           },
           "mode": "lines+markers",
           "name": "LEFT_THIGH",
           "type": "scatter3d",
           "x": [
            0.24363449,
            0.2262322
           ],
           "y": [
            -0.30944425,
            -0.3748169
           ],
           "z": [
            -1.080815,
            -1.060686
           ]
          },
          {
           "line": {
            "width": 10
           },
           "marker": {
            "size": 3
           },
           "mode": "lines+markers",
           "name": "RIGHT_THIGH",
           "type": "scatter3d",
           "x": [
            0.27690345,
            0.28729424
           ],
           "y": [
            -0.3065664,
            -0.36788788
           ],
           "z": [
            -1.0716771,
            -1.0440679
           ]
          },
          {
           "line": {
            "width": 10
           },
           "marker": {
            "size": 3
           },
           "mode": "lines+markers",
           "name": "LEFT_LOWER_LEG",
           "type": "scatter3d",
           "x": [
            0.2262322,
            0.21057722
           ],
           "y": [
            -0.3748169,
            -0.43565312
           ],
           "z": [
            -1.060686,
            -1.0430263
           ]
          },
          {
           "line": {
            "width": 10
           },
           "marker": {
            "size": 3
           },
           "mode": "lines+markers",
           "name": "RIGHT_LOWER_LEG",
           "type": "scatter3d",
           "x": [
            0.28729424,
            0.29632172
           ],
           "y": [
            -0.36788788,
            -0.42551675
           ],
           "z": [
            -1.0440679,
            -1.0223901
           ]
          }
         ],
         "layout": {
          "title": {
           "text": "frame:45"
          }
         },
         "name": "45"
        },
        {
         "data": [
          {
           "line": {
            "width": 10
           },
           "marker": {
            "size": 3
           },
           "mode": "lines+markers",
           "name": "CLUB",
           "type": "scatter3d",
           "x": [
            0.23766147,
            0.19765045
           ],
           "y": [
            -0.3353839,
            -0.41208372
           ],
           "z": [
            -1.0083768,
            -0.86376846
           ]
          },
          {
           "line": {
            "width": 10
           },
           "marker": {
            "size": 3
           },
           "mode": "lines+markers",
           "name": "EYE",
           "type": "scatter3d",
           "x": [
            0.2557692,
            0.26516664
           ],
           "y": [
            -0.20993122,
            -0.20985359
           ],
           "z": [
            -1.0477214,
            -1.0495222
           ]
          },
          {
           "line": {
            "width": 10
           },
           "marker": {
            "size": 3
           },
           "mode": "lines+markers",
           "name": "SHOULDER",
           "type": "scatter3d",
           "x": [
            0.23616599,
            0.28129122
           ],
           "y": [
            -0.2313342,
            -0.22799495
           ],
           "z": [
            -1.0694023,
            -1.0577068
           ]
          },
          {
           "line": {
            "width": 10
           },
           "marker": {
            "size": 3
           },
           "mode": "lines+markers",
           "name": "LEFT_UPPER_ARM",
           "type": "scatter3d",
           "x": [
            0.23616599,
            0.23596907
           ],
           "y": [
            -0.2313342,
            -0.27791938
           ],
           "z": [
            -1.0694023,
            -1.0561557
           ]
          },
          {
           "line": {
            "width": 10
           },
           "marker": {
            "size": 3
           },
           "mode": "lines+markers",
           "name": "RIGHT_UPPER_ARM",
           "type": "scatter3d",
           "x": [
            0.28129122,
            0.267673
           ],
           "y": [
            -0.22799495,
            -0.2717893
           ],
           "z": [
            -1.0577068,
            -1.035397
           ]
          },
          {
           "line": {
            "width": 10
           },
           "marker": {
            "size": 3
           },
           "mode": "lines+markers",
           "name": "LEFT_FOREARM",
           "type": "scatter3d",
           "x": [
            0.23596907,
            0.24221987
           ],
           "y": [
            -0.27791938,
            -0.31513566
           ],
           "z": [
            -1.0561557,
            -1.0307679
           ]
          },
          {
           "line": {
            "width": 10
           },
           "marker": {
            "size": 3
           },
           "mode": "lines+markers",
           "name": "RIGHT_FOREARM",
           "type": "scatter3d",
           "x": [
            0.267673,
            0.24774231
           ],
           "y": [
            -0.2717893,
            -0.30869126
           ],
           "z": [
            -1.035397,
            -1.0246121
           ]
          },
          {
           "line": {
            "width": 10
           },
           "marker": {
            "size": 3
           },
           "mode": "lines+markers",
           "name": "HIP",
           "type": "scatter3d",
           "x": [
            0.24310113,
            0.2784743
           ],
           "y": [
            -0.31051812,
            -0.30661908
           ],
           "z": [
            -1.0823946,
            -1.0727673
           ]
          },
          {
           "line": {
            "width": 10
           },
           "marker": {
            "size": 3
           },
           "mode": "lines+markers",
           "name": "LEFT_BODY",
           "type": "scatter3d",
           "x": [
            0.23616599,
            0.24310113
           ],
           "y": [
            -0.2313342,
            -0.31051812
           ],
           "z": [
            -1.0694023,
            -1.0823946
           ]
          },
          {
           "line": {
            "width": 10
           },
           "marker": {
            "size": 3
           },
           "mode": "lines+markers",
           "name": "RIGHT_BODY",
           "type": "scatter3d",
           "x": [
            0.28129122,
            0.2784743
           ],
           "y": [
            -0.22799495,
            -0.30661908
           ],
           "z": [
            -1.0577068,
            -1.0727673
           ]
          },
          {
           "line": {
            "width": 10
           },
           "marker": {
            "size": 3
           },
           "mode": "lines+markers",
           "name": "LEFT_THIGH",
           "type": "scatter3d",
           "x": [
            0.24310113,
            0.2244292
           ],
           "y": [
            -0.31051812,
            -0.3755051
           ],
           "z": [
            -1.0823946,
            -1.0606397
           ]
          },
          {
           "line": {
            "width": 10
           },
           "marker": {
            "size": 3
           },
           "mode": "lines+markers",
           "name": "RIGHT_THIGH",
           "type": "scatter3d",
           "x": [
            0.2784743,
            0.2884585
           ],
           "y": [
            -0.30661908,
            -0.366553
           ],
           "z": [
            -1.0727673,
            -1.0420076
           ]
          },
          {
           "line": {
            "width": 10
           },
           "marker": {
            "size": 3
           },
           "mode": "lines+markers",
           "name": "LEFT_LOWER_LEG",
           "type": "scatter3d",
           "x": [
            0.2244292,
            0.2106745
           ],
           "y": [
            -0.3755051,
            -0.43610463
           ],
           "z": [
            -1.0606397,
            -1.0431368
           ]
          },
          {
           "line": {
            "width": 10
           },
           "marker": {
            "size": 3
           },
           "mode": "lines+markers",
           "name": "RIGHT_LOWER_LEG",
           "type": "scatter3d",
           "x": [
            0.2884585,
            0.29516843
           ],
           "y": [
            -0.366553,
            -0.42477143
           ],
           "z": [
            -1.0420076,
            -1.0237223
           ]
          }
         ],
         "layout": {
          "title": {
           "text": "frame:50"
          }
         },
         "name": "50"
        },
        {
         "data": [
          {
           "line": {
            "width": 10
           },
           "marker": {
            "size": 3
           },
           "mode": "lines+markers",
           "name": "CLUB",
           "type": "scatter3d",
           "x": [
            0.23763219,
            0.19753954
           ],
           "y": [
            -0.33548182,
            -0.41229844
           ],
           "z": [
            -1.0083532,
            -0.8639844
           ]
          },
          {
           "line": {
            "width": 10
           },
           "marker": {
            "size": 3
           },
           "mode": "lines+markers",
           "name": "EYE",
           "type": "scatter3d",
           "x": [
            0.25464588,
            0.26395494
           ],
           "y": [
            -0.20927453,
            -0.20942341
           ],
           "z": [
            -1.0473924,
            -1.049528
           ]
          },
          {
           "line": {
            "width": 10
           },
           "marker": {
            "size": 3
           },
           "mode": "lines+markers",
           "name": "SHOULDER",
           "type": "scatter3d",
           "x": [
            0.23761614,
            0.27985308
           ],
           "y": [
            -0.2304305,
            -0.22823869
           ],
           "z": [
            -1.0680239,
            -1.0600551
           ]
          },
          {
           "line": {
            "width": 10
           },
           "marker": {
            "size": 3
           },
           "mode": "lines+markers",
           "name": "LEFT_UPPER_ARM",
           "type": "scatter3d",
           "x": [
            0.23761614,
            0.23544362
           ],
           "y": [
            -0.2304305,
            -0.2781345
           ],
           "z": [
            -1.0680239,
            -1.0567831
           ]
          },
          {
           "line": {
            "width": 10
           },
           "marker": {
            "size": 3
           },
           "mode": "lines+markers",
           "name": "RIGHT_UPPER_ARM",
           "type": "scatter3d",
           "x": [
            0.27985308,
            0.26773095
           ],
           "y": [
            -0.22823869,
            -0.27242205
           ],
           "z": [
            -1.0600551,
            -1.0347186
           ]
          },
          {
           "line": {
            "width": 10
           },
           "marker": {
            "size": 3
           },
           "mode": "lines+markers",
           "name": "LEFT_FOREARM",
           "type": "scatter3d",
           "x": [
            0.23544362,
            0.24226744
           ],
           "y": [
            -0.2781345,
            -0.315096
           ],
           "z": [
            -1.0567831,
            -1.0310276
           ]
          },
          {
           "line": {
            "width": 10
           },
           "marker": {
            "size": 3
           },
           "mode": "lines+markers",
           "name": "RIGHT_FOREARM",
           "type": "scatter3d",
           "x": [
            0.26773095,
            0.24775355
           ],
           "y": [
            -0.27242205,
            -0.30928287
           ],
           "z": [
            -1.0347186,
            -1.0235778
           ]
          },
          {
           "line": {
            "width": 10
           },
           "marker": {
            "size": 3
           },
           "mode": "lines+markers",
           "name": "HIP",
           "type": "scatter3d",
           "x": [
            0.24413082,
            0.2776385
           ],
           "y": [
            -0.30849862,
            -0.30553022
           ],
           "z": [
            -1.0821608,
            -1.0750713
           ]
          },
          {
           "line": {
            "width": 10
           },
           "marker": {
            "size": 3
           },
           "mode": "lines+markers",
           "name": "LEFT_BODY",
           "type": "scatter3d",
           "x": [
            0.23761614,
            0.24413082
           ],
           "y": [
            -0.2304305,
            -0.30849862
           ],
           "z": [
            -1.0680239,
            -1.0821608
           ]
          },
          {
           "line": {
            "width": 10
           },
           "marker": {
            "size": 3
           },
           "mode": "lines+markers",
           "name": "RIGHT_BODY",
           "type": "scatter3d",
           "x": [
            0.27985308,
            0.2776385
           ],
           "y": [
            -0.22823869,
            -0.30553022
           ],
           "z": [
            -1.0600551,
            -1.0750713
           ]
          },
          {
           "line": {
            "width": 10
           },
           "marker": {
            "size": 3
           },
           "mode": "lines+markers",
           "name": "LEFT_THIGH",
           "type": "scatter3d",
           "x": [
            0.24413082,
            0.2262126
           ],
           "y": [
            -0.30849862,
            -0.37418714
           ],
           "z": [
            -1.0821608,
            -1.0585706
           ]
          },
          {
           "line": {
            "width": 10
           },
           "marker": {
            "size": 3
           },
           "mode": "lines+markers",
           "name": "RIGHT_THIGH",
           "type": "scatter3d",
           "x": [
            0.2776385,
            0.2874774
           ],
           "y": [
            -0.30553022,
            -0.3667618
           ],
           "z": [
            -1.0750713,
            -1.0436708
           ]
          },
          {
           "line": {
            "width": 10
           },
           "marker": {
            "size": 3
           },
           "mode": "lines+markers",
           "name": "LEFT_LOWER_LEG",
           "type": "scatter3d",
           "x": [
            0.2262126,
            0.2106902
           ],
           "y": [
            -0.37418714,
            -0.43619326
           ],
           "z": [
            -1.0585706,
            -1.0431896
           ]
          },
          {
           "line": {
            "width": 10
           },
           "marker": {
            "size": 3
           },
           "mode": "lines+markers",
           "name": "RIGHT_LOWER_LEG",
           "type": "scatter3d",
           "x": [
            0.2874774,
            0.29647088
           ],
           "y": [
            -0.3667618,
            -0.42427683
           ],
           "z": [
            -1.0436708,
            -1.0223466
           ]
          }
         ],
         "layout": {
          "title": {
           "text": "frame:55"
          }
         },
         "name": "55"
        },
        {
         "data": [
          {
           "line": {
            "width": 10
           },
           "marker": {
            "size": 3
           },
           "mode": "lines+markers",
           "name": "CLUB",
           "type": "scatter3d",
           "x": [
            0.23775959,
            0.19767913
           ],
           "y": [
            -0.3354848,
            -0.41212046
           ],
           "z": [
            -1.0085669,
            -0.863987
           ]
          },
          {
           "line": {
            "width": 10
           },
           "marker": {
            "size": 3
           },
           "mode": "lines+markers",
           "name": "EYE",
           "type": "scatter3d",
           "x": [
            0.25690028,
            0.2660667
           ],
           "y": [
            -0.20859858,
            -0.2087102
           ],
           "z": [
            -1.0454898,
            -1.0479302
           ]
          },
          {
           "line": {
            "width": 10
           },
           "marker": {
            "size": 3
           },
           "mode": "lines+markers",
           "name": "SHOULDER",
           "type": "scatter3d",
           "x": [
            0.23751011,
            0.2796965
           ],
           "y": [
            -0.23061977,
            -0.2280095
           ],
           "z": [
            -1.067813,
            -1.060284
           ]
          },
          {
           "line": {
            "width": 10
           },
           "marker": {
            "size": 3
           },
           "mode": "lines+markers",
           "name": "LEFT_UPPER_ARM",
           "type": "scatter3d",
           "x": [
            0.23751011,
            0.23579185
           ],
           "y": [
            -0.23061977,
            -0.27823097
           ],
           "z": [
            -1.067813,
            -1.0567069
           ]
          },
          {
           "line": {
            "width": 10
           },
           "marker": {
            "size": 3
           },
           "mode": "lines+markers",
           "name": "RIGHT_UPPER_ARM",
           "type": "scatter3d",
           "x": [
            0.2796965,
            0.2679598
           ],
           "y": [
            -0.2280095,
            -0.2719895
           ],
           "z": [
            -1.060284,
            -1.0357615
           ]
          },
          {
           "line": {
            "width": 10
           },
           "marker": {
            "size": 3
           },
           "mode": "lines+markers",
           "name": "LEFT_FOREARM",
           "type": "scatter3d",
           "x": [
            0.23579185,
            0.24204154
           ],
           "y": [
            -0.27823097,
            -0.31511438
           ],
           "z": [
            -1.0567069,
            -1.0313443
           ]
          },
          {
           "line": {
            "width": 10
           },
           "marker": {
            "size": 3
           },
           "mode": "lines+markers",
           "name": "RIGHT_FOREARM",
           "type": "scatter3d",
           "x": [
            0.2679598,
            0.24784362
           ],
           "y": [
            -0.2719895,
            -0.30926725
           ],
           "z": [
            -1.0357615,
            -1.0248115
           ]
          },
          {
           "line": {
            "width": 10
           },
           "marker": {
            "size": 3
           },
           "mode": "lines+markers",
           "name": "HIP",
           "type": "scatter3d",
           "x": [
            0.24419747,
            0.2776451
           ],
           "y": [
            -0.3084223,
            -0.305235
           ],
           "z": [
            -1.0821015,
            -1.075292
           ]
          },
          {
           "line": {
            "width": 10
           },
           "marker": {
            "size": 3
           },
           "mode": "lines+markers",
           "name": "LEFT_BODY",
           "type": "scatter3d",
           "x": [
            0.23751011,
            0.24419747
           ],
           "y": [
            -0.23061977,
            -0.3084223
           ],
           "z": [
            -1.067813,
            -1.0821015
           ]
          },
          {
           "line": {
            "width": 10
           },
           "marker": {
            "size": 3
           },
           "mode": "lines+markers",
           "name": "RIGHT_BODY",
           "type": "scatter3d",
           "x": [
            0.2796965,
            0.2776451
           ],
           "y": [
            -0.2280095,
            -0.305235
           ],
           "z": [
            -1.060284,
            -1.075292
           ]
          },
          {
           "line": {
            "width": 10
           },
           "marker": {
            "size": 3
           },
           "mode": "lines+markers",
           "name": "LEFT_THIGH",
           "type": "scatter3d",
           "x": [
            0.24419747,
            0.22615421
           ],
           "y": [
            -0.3084223,
            -0.3744962
           ],
           "z": [
            -1.0821015,
            -1.0585684
           ]
          },
          {
           "line": {
            "width": 10
           },
           "marker": {
            "size": 3
           },
           "mode": "lines+markers",
           "name": "RIGHT_THIGH",
           "type": "scatter3d",
           "x": [
            0.2776451,
            0.28691798
           ],
           "y": [
            -0.305235,
            -0.36684722
           ],
           "z": [
            -1.075292,
            -1.044289
           ]
          },
          {
           "line": {
            "width": 10
           },
           "marker": {
            "size": 3
           },
           "mode": "lines+markers",
           "name": "LEFT_LOWER_LEG",
           "type": "scatter3d",
           "x": [
            0.22615421,
            0.21067879
           ],
           "y": [
            -0.3744962,
            -0.43673465
           ],
           "z": [
            -1.0585684,
            -1.0430936
           ]
          },
          {
           "line": {
            "width": 10
           },
           "marker": {
            "size": 3
           },
           "mode": "lines+markers",
           "name": "RIGHT_LOWER_LEG",
           "type": "scatter3d",
           "x": [
            0.28691798,
            0.29599532
           ],
           "y": [
            -0.36684722,
            -0.4243812
           ],
           "z": [
            -1.044289,
            -1.0225762
           ]
          }
         ],
         "layout": {
          "title": {
           "text": "frame:60"
          }
         },
         "name": "60"
        },
        {
         "data": [
          {
           "line": {
            "width": 10
           },
           "marker": {
            "size": 3
           },
           "mode": "lines+markers",
           "name": "CLUB",
           "type": "scatter3d",
           "x": [
            0.23797227,
            0.19774055
           ],
           "y": [
            -0.33550152,
            -0.4121073
           ],
           "z": [
            -1.0082375,
            -0.8638158
           ]
          },
          {
           "line": {
            "width": 10
           },
           "marker": {
            "size": 3
           },
           "mode": "lines+markers",
           "name": "EYE",
           "type": "scatter3d",
           "x": [
            0.2552378,
            0.26457876
           ],
           "y": [
            -0.2099954,
            -0.21004848
           ],
           "z": [
            -1.0484515,
            -1.0501769
           ]
          },
          {
           "line": {
            "width": 10
           },
           "marker": {
            "size": 3
           },
           "mode": "lines+markers",
           "name": "SHOULDER",
           "type": "scatter3d",
           "x": [
            0.23638591,
            0.2808498
           ],
           "y": [
            -0.2315619,
            -0.22849254
           ],
           "z": [
            -1.0701859,
            -1.057771
           ]
          },
          {
           "line": {
            "width": 10
           },
           "marker": {
            "size": 3
           },
           "mode": "lines+markers",
           "name": "LEFT_UPPER_ARM",
           "type": "scatter3d",
           "x": [
            0.23638591,
            0.23563118
           ],
           "y": [
            -0.2315619,
            -0.27797142
           ],
           "z": [
            -1.0701859,
            -1.0573261
           ]
          },
          {
           "line": {
            "width": 10
           },
           "marker": {
            "size": 3
           },
           "mode": "lines+markers",
           "name": "RIGHT_UPPER_ARM",
           "type": "scatter3d",
           "x": [
            0.2808498,
            0.2678745
           ],
           "y": [
            -0.22849254,
            -0.2720291
           ],
           "z": [
            -1.057771,
            -1.0352433
           ]
          },
          {
           "line": {
            "width": 10
           },
           "marker": {
            "size": 3
           },
           "mode": "lines+markers",
           "name": "LEFT_FOREARM",
           "type": "scatter3d",
           "x": [
            0.23563118,
            0.24143596
           ],
           "y": [
            -0.27797142,
            -0.31524122
           ],
           "z": [
            -1.0573261,
            -1.0323262
           ]
          },
          {
           "line": {
            "width": 10
           },
           "marker": {
            "size": 3
           },
           "mode": "lines+markers",
           "name": "RIGHT_FOREARM",
           "type": "scatter3d",
           "x": [
            0.2678745,
            0.24813443
           ],
           "y": [
            -0.2720291,
            -0.30854133
           ],
           "z": [
            -1.0352433,
            -1.0246779
           ]
          },
          {
           "line": {
            "width": 10
           },
           "marker": {
            "size": 3
           },
           "mode": "lines+markers",
           "name": "HIP",
           "type": "scatter3d",
           "x": [
            0.24318336,
            0.27811146
           ],
           "y": [
            -0.3099112,
            -0.30613807
           ],
           "z": [
            -1.0838349,
            -1.0737995
           ]
          },
          {
           "line": {
            "width": 10
           },
           "marker": {
            "size": 3
           },
           "mode": "lines+markers",
           "name": "LEFT_BODY",
           "type": "scatter3d",
           "x": [
            0.23638591,
            0.24318336
           ],
           "y": [
            -0.2315619,
            -0.3099112
           ],
           "z": [
            -1.0701859,
            -1.0838349
           ]
          },
          {
           "line": {
            "width": 10
           },
           "marker": {
            "size": 3
           },
           "mode": "lines+markers",
           "name": "RIGHT_BODY",
           "type": "scatter3d",
           "x": [
            0.2808498,
            0.27811146
           ],
           "y": [
            -0.22849254,
            -0.30613807
           ],
           "z": [
            -1.057771,
            -1.0737995
           ]
          },
          {
           "line": {
            "width": 10
           },
           "marker": {
            "size": 3
           },
           "mode": "lines+markers",
           "name": "LEFT_THIGH",
           "type": "scatter3d",
           "x": [
            0.24318336,
            0.22439083
           ],
           "y": [
            -0.3099112,
            -0.37514657
           ],
           "z": [
            -1.0838349,
            -1.0616785
           ]
          },
          {
           "line": {
            "width": 10
           },
           "marker": {
            "size": 3
           },
           "mode": "lines+markers",
           "name": "RIGHT_THIGH",
           "type": "scatter3d",
           "x": [
            0.27811146,
            0.28793603
           ],
           "y": [
            -0.30613807,
            -0.3663557
           ],
           "z": [
            -1.0737995,
            -1.0425196
           ]
          },
          {
           "line": {
            "width": 10
           },
           "marker": {
            "size": 3
           },
           "mode": "lines+markers",
           "name": "LEFT_LOWER_LEG",
           "type": "scatter3d",
           "x": [
            0.22439083,
            0.21085869
           ],
           "y": [
            -0.37514657,
            -0.43601906
           ],
           "z": [
            -1.0616785,
            -1.0437105
           ]
          },
          {
           "line": {
            "width": 10
           },
           "marker": {
            "size": 3
           },
           "mode": "lines+markers",
           "name": "RIGHT_LOWER_LEG",
           "type": "scatter3d",
           "x": [
            0.28793603,
            0.29521897
           ],
           "y": [
            -0.3663557,
            -0.4249856
           ],
           "z": [
            -1.0425196,
            -1.0236725
           ]
          }
         ],
         "layout": {
          "title": {
           "text": "frame:65"
          }
         },
         "name": "65"
        },
        {
         "data": [
          {
           "line": {
            "width": 10
           },
           "marker": {
            "size": 3
           },
           "mode": "lines+markers",
           "name": "CLUB",
           "type": "scatter3d",
           "x": [
            0.2378379,
            0.1976789
           ],
           "y": [
            -0.33549717,
            -0.412226
           ],
           "z": [
            -1.0083159,
            -0.8640941
           ]
          },
          {
           "line": {
            "width": 10
           },
           "marker": {
            "size": 3
           },
           "mode": "lines+markers",
           "name": "EYE",
           "type": "scatter3d",
           "x": [
            0.25829688,
            0.26734677
           ],
           "y": [
            -0.20767407,
            -0.20769708
           ],
           "z": [
            -1.0428213,
            -1.0451746
           ]
          },
          {
           "line": {
            "width": 10
           },
           "marker": {
            "size": 3
           },
           "mode": "lines+markers",
           "name": "SHOULDER",
           "type": "scatter3d",
           "x": [
            0.23768802,
            0.27970693
           ],
           "y": [
            -0.2296998,
            -0.2277773
           ],
           "z": [
            -1.0705158,
            -1.0610528
           ]
          },
          {
           "line": {
            "width": 10
           },
           "marker": {
            "size": 3
           },
           "mode": "lines+markers",
           "name": "LEFT_UPPER_ARM",
           "type": "scatter3d",
           "x": [
            0.23768802,
            0.23522618
           ],
           "y": [
            -0.2296998,
            -0.27592587
           ],
           "z": [
            -1.0705158,
            -1.0567211
           ]
          },
          {
           "line": {
            "width": 10
           },
           "marker": {
            "size": 3
           },
           "mode": "lines+markers",
           "name": "RIGHT_UPPER_ARM",
           "type": "scatter3d",
           "x": [
            0.27970693,
            0.26730064
           ],
           "y": [
            -0.2277773,
            -0.27108824
           ],
           "z": [
            -1.0610528,
            -1.034843
           ]
          },
          {
           "line": {
            "width": 10
           },
           "marker": {
            "size": 3
           },
           "mode": "lines+markers",
           "name": "LEFT_FOREARM",
           "type": "scatter3d",
           "x": [
            0.23522618,
            0.24268767
           ],
           "y": [
            -0.27592587,
            -0.31425813
           ],
           "z": [
            -1.0567211,
            -1.0347601
           ]
          },
          {
           "line": {
            "width": 10
           },
           "marker": {
            "size": 3
           },
           "mode": "lines+markers",
           "name": "RIGHT_FOREARM",
           "type": "scatter3d",
           "x": [
            0.26730064,
            0.24760537
           ],
           "y": [
            -0.27108824,
            -0.30847883
           ],
           "z": [
            -1.034843,
            -1.0244924
           ]
          },
          {
           "line": {
            "width": 10
           },
           "marker": {
            "size": 3
           },
           "mode": "lines+markers",
           "name": "HIP",
           "type": "scatter3d",
           "x": [
            0.24367417,
            0.2768738
           ],
           "y": [
            -0.30872104,
            -0.30602267
           ],
           "z": [
            -1.0814888,
            -1.0732683
           ]
          },
          {
           "line": {
            "width": 10
           },
           "marker": {
            "size": 3
           },
           "mode": "lines+markers",
           "name": "LEFT_BODY",
           "type": "scatter3d",
           "x": [
            0.23768802,
            0.24367417
           ],
           "y": [
            -0.2296998,
            -0.30872104
           ],
           "z": [
            -1.0705158,
            -1.0814888
           ]
          },
          {
           "line": {
            "width": 10
           },
           "marker": {
            "size": 3
           },
           "mode": "lines+markers",
           "name": "RIGHT_BODY",
           "type": "scatter3d",
           "x": [
            0.27970693,
            0.2768738
           ],
           "y": [
            -0.2277773,
            -0.30602267
           ],
           "z": [
            -1.0610528,
            -1.0732683
           ]
          },
          {
           "line": {
            "width": 10
           },
           "marker": {
            "size": 3
           },
           "mode": "lines+markers",
           "name": "LEFT_THIGH",
           "type": "scatter3d",
           "x": [
            0.24367417,
            0.22679116
           ],
           "y": [
            -0.30872104,
            -0.37429267
           ],
           "z": [
            -1.0814888,
            -1.0600332
           ]
          },
          {
           "line": {
            "width": 10
           },
           "marker": {
            "size": 3
           },
           "mode": "lines+markers",
           "name": "RIGHT_THIGH",
           "type": "scatter3d",
           "x": [
            0.2768738,
            0.28750128
           ],
           "y": [
            -0.30602267,
            -0.3676004
           ],
           "z": [
            -1.0732683,
            -1.0441761
           ]
          },
          {
           "line": {
            "width": 10
           },
           "marker": {
            "size": 3
           },
           "mode": "lines+markers",
           "name": "LEFT_LOWER_LEG",
           "type": "scatter3d",
           "x": [
            0.22679116,
            0.21065298
           ],
           "y": [
            -0.37429267,
            -0.4359452
           ],
           "z": [
            -1.0600332,
            -1.0435584
           ]
          },
          {
           "line": {
            "width": 10
           },
           "marker": {
            "size": 3
           },
           "mode": "lines+markers",
           "name": "RIGHT_LOWER_LEG",
           "type": "scatter3d",
           "x": [
            0.28750128,
            0.29638585
           ],
           "y": [
            -0.3676004,
            -0.4255175
           ],
           "z": [
            -1.0441761,
            -1.0218737
           ]
          }
         ],
         "layout": {
          "title": {
           "text": "frame:70"
          }
         },
         "name": "70"
        },
        {
         "data": [
          {
           "line": {
            "width": 10
           },
           "marker": {
            "size": 3
           },
           "mode": "lines+markers",
           "name": "CLUB",
           "type": "scatter3d",
           "x": [
            0.23781754,
            0.19770929
           ],
           "y": [
            -0.3357484,
            -0.41201687
           ],
           "z": [
            -1.0084567,
            -0.8637641
           ]
          },
          {
           "line": {
            "width": 10
           },
           "marker": {
            "size": 3
           },
           "mode": "lines+markers",
           "name": "EYE",
           "type": "scatter3d",
           "x": [
            0.25900096,
            0.2676127
           ],
           "y": [
            -0.20695902,
            -0.20709199
           ],
           "z": [
            -1.0408597,
            -1.0432469
           ]
          },
          {
           "line": {
            "width": 10
           },
           "marker": {
            "size": 3
           },
           "mode": "lines+markers",
           "name": "SHOULDER",
           "type": "scatter3d",
           "x": [
            0.23768571,
            0.27946013
           ],
           "y": [
            -0.23125267,
            -0.22868504
           ],
           "z": [
            -1.0703772,
            -1.061362
           ]
          },
          {
           "line": {
            "width": 10
           },
           "marker": {
            "size": 3
           },
           "mode": "lines+markers",
           "name": "LEFT_UPPER_ARM",
           "type": "scatter3d",
           "x": [
            0.23768571,
            0.23482132
           ],
           "y": [
            -0.23125267,
            -0.2787958
           ],
           "z": [
            -1.0703772,
            -1.0590239
           ]
          },
          {
           "line": {
            "width": 10
           },
           "marker": {
            "size": 3
           },
           "mode": "lines+markers",
           "name": "RIGHT_UPPER_ARM",
           "type": "scatter3d",
           "x": [
            0.27946013,
            0.26822186
           ],
           "y": [
            -0.22868504,
            -0.2726122
           ],
           "z": [
            -1.061362,
            -1.0354434
           ]
          },
          {
           "line": {
            "width": 10
           },
           "marker": {
            "size": 3
           },
           "mode": "lines+markers",
           "name": "LEFT_FOREARM",
           "type": "scatter3d",
           "x": [
            0.23482132,
            0.24083482
           ],
           "y": [
            -0.2787958,
            -0.31550255
           ],
           "z": [
            -1.0590239,
            -1.0331709
           ]
          },
          {
           "line": {
            "width": 10
           },
           "marker": {
            "size": 3
           },
           "mode": "lines+markers",
           "name": "RIGHT_FOREARM",
           "type": "scatter3d",
           "x": [
            0.26822186,
            0.24774574
           ],
           "y": [
            -0.2726122,
            -0.30999878
           ],
           "z": [
            -1.0354434,
            -1.0253699
           ]
          },
          {
           "line": {
            "width": 10
           },
           "marker": {
            "size": 3
           },
           "mode": "lines+markers",
           "name": "HIP",
           "type": "scatter3d",
           "x": [
            0.24456906,
            0.2776198
           ],
           "y": [
            -0.30905244,
            -0.3057592
           ],
           "z": [
            -1.083968,
            -1.0764036
           ]
          },
          {
           "line": {
            "width": 10
           },
           "marker": {
            "size": 3
           },
           "mode": "lines+markers",
           "name": "LEFT_BODY",
           "type": "scatter3d",
           "x": [
            0.23768571,
            0.24456906
           ],
           "y": [
            -0.23125267,
            -0.30905244
           ],
           "z": [
            -1.0703772,
            -1.083968
           ]
          },
          {
           "line": {
            "width": 10
           },
           "marker": {
            "size": 3
           },
           "mode": "lines+markers",
           "name": "RIGHT_BODY",
           "type": "scatter3d",
           "x": [
            0.27946013,
            0.2776198
           ],
           "y": [
            -0.22868504,
            -0.3057592
           ],
           "z": [
            -1.061362,
            -1.0764036
           ]
          },
          {
           "line": {
            "width": 10
           },
           "marker": {
            "size": 3
           },
           "mode": "lines+markers",
           "name": "LEFT_THIGH",
           "type": "scatter3d",
           "x": [
            0.24456906,
            0.22693443
           ],
           "y": [
            -0.30905244,
            -0.37411365
           ],
           "z": [
            -1.083968,
            -1.0587304
           ]
          },
          {
           "line": {
            "width": 10
           },
           "marker": {
            "size": 3
           },
           "mode": "lines+markers",
           "name": "RIGHT_THIGH",
           "type": "scatter3d",
           "x": [
            0.2776198,
            0.2871087
           ],
           "y": [
            -0.3057592,
            -0.36679778
           ],
           "z": [
            -1.0764036,
            -1.0449324
           ]
          },
          {
           "line": {
            "width": 10
           },
           "marker": {
            "size": 3
           },
           "mode": "lines+markers",
           "name": "LEFT_LOWER_LEG",
           "type": "scatter3d",
           "x": [
            0.22693443,
            0.21133928
           ],
           "y": [
            -0.37411365,
            -0.43619052
           ],
           "z": [
            -1.0587304,
            -1.0434676
           ]
          },
          {
           "line": {
            "width": 10
           },
           "marker": {
            "size": 3
           },
           "mode": "lines+markers",
           "name": "RIGHT_LOWER_LEG",
           "type": "scatter3d",
           "x": [
            0.2871087,
            0.29598403
           ],
           "y": [
            -0.36679778,
            -0.42446122
           ],
           "z": [
            -1.0449324,
            -1.0233227
           ]
          }
         ],
         "layout": {
          "title": {
           "text": "frame:75"
          }
         },
         "name": "75"
        },
        {
         "data": [
          {
           "line": {
            "width": 10
           },
           "marker": {
            "size": 3
           },
           "mode": "lines+markers",
           "name": "CLUB",
           "type": "scatter3d",
           "x": [
            0.23797365,
            0.1977775
           ],
           "y": [
            -0.3354711,
            -0.4118776
           ],
           "z": [
            -1.0082613,
            -0.8634149
           ]
          },
          {
           "line": {
            "width": 10
           },
           "marker": {
            "size": 3
           },
           "mode": "lines+markers",
           "name": "EYE",
           "type": "scatter3d",
           "x": [
            0.25710765,
            0.26629454
           ],
           "y": [
            -0.20808864,
            -0.20810817
           ],
           "z": [
            -1.0436629,
            -1.0454171
           ]
          },
          {
           "line": {
            "width": 10
           },
           "marker": {
            "size": 3
           },
           "mode": "lines+markers",
           "name": "SHOULDER",
           "type": "scatter3d",
           "x": [
            0.23664463,
            0.28086165
           ],
           "y": [
            -0.23084062,
            -0.227873
           ],
           "z": [
            -1.0723516,
            -1.0565716
           ]
          },
          {
           "line": {
            "width": 10
           },
           "marker": {
            "size": 3
           },
           "mode": "lines+markers",
           "name": "LEFT_UPPER_ARM",
           "type": "scatter3d",
           "x": [
            0.23664463,
            0.23506856
           ],
           "y": [
            -0.23084062,
            -0.27626583
           ],
           "z": [
            -1.0723516,
            -1.0570316
           ]
          },
          {
           "line": {
            "width": 10
           },
           "marker": {
            "size": 3
           },
           "mode": "lines+markers",
           "name": "RIGHT_UPPER_ARM",
           "type": "scatter3d",
           "x": [
            0.28086165,
            0.26793513
           ],
           "y": [
            -0.227873,
            -0.27078256
           ],
           "z": [
            -1.0565716,
            -1.0316762
           ]
          },
          {
           "line": {
            "width": 10
           },
           "marker": {
            "size": 3
           },
           "mode": "lines+markers",
           "name": "LEFT_FOREARM",
           "type": "scatter3d",
           "x": [
            0.23506856,
            0.24226071
           ],
           "y": [
            -0.27626583,
            -0.31453943
           ],
           "z": [
            -1.0570316,
            -1.0354337
           ]
          },
          {
           "line": {
            "width": 10
           },
           "marker": {
            "size": 3
           },
           "mode": "lines+markers",
           "name": "RIGHT_FOREARM",
           "type": "scatter3d",
           "x": [
            0.26793513,
            0.24645978
           ],
           "y": [
            -0.27078256,
            -0.30868372
           ],
           "z": [
            -1.0316762,
            -1.0238969
           ]
          },
          {
           "line": {
            "width": 10
           },
           "marker": {
            "size": 3
           },
           "mode": "lines+markers",
           "name": "HIP",
           "type": "scatter3d",
           "x": [
            0.2428536,
            0.27763993
           ],
           "y": [
            -0.3106985,
            -0.306953
           ],
           "z": [
            -1.0843718,
            -1.0719436
           ]
          },
          {
           "line": {
            "width": 10
           },
           "marker": {
            "size": 3
           },
           "mode": "lines+markers",
           "name": "LEFT_BODY",
           "type": "scatter3d",
           "x": [
            0.23664463,
            0.2428536
           ],
           "y": [
            -0.23084062,
            -0.3106985
           ],
           "z": [
            -1.0723516,
            -1.0843718
           ]
          },
          {
           "line": {
            "width": 10
           },
           "marker": {
            "size": 3
           },
           "mode": "lines+markers",
           "name": "RIGHT_BODY",
           "type": "scatter3d",
           "x": [
            0.28086165,
            0.27763993
           ],
           "y": [
            -0.227873,
            -0.306953
           ],
           "z": [
            -1.0565716,
            -1.0719436
           ]
          },
          {
           "line": {
            "width": 10
           },
           "marker": {
            "size": 3
           },
           "mode": "lines+markers",
           "name": "LEFT_THIGH",
           "type": "scatter3d",
           "x": [
            0.2428536,
            0.22483008
           ],
           "y": [
            -0.3106985,
            -0.3758668
           ],
           "z": [
            -1.0843718,
            -1.0639212
           ]
          },
          {
           "line": {
            "width": 10
           },
           "marker": {
            "size": 3
           },
           "mode": "lines+markers",
           "name": "RIGHT_THIGH",
           "type": "scatter3d",
           "x": [
            0.27763993,
            0.28891227
           ],
           "y": [
            -0.306953,
            -0.36717635
           ],
           "z": [
            -1.0719436,
            -1.042085
           ]
          },
          {
           "line": {
            "width": 10
           },
           "marker": {
            "size": 3
           },
           "mode": "lines+markers",
           "name": "LEFT_LOWER_LEG",
           "type": "scatter3d",
           "x": [
            0.22483008,
            0.21062918
           ],
           "y": [
            -0.3758668,
            -0.4359577
           ],
           "z": [
            -1.0639212,
            -1.0433815
           ]
          },
          {
           "line": {
            "width": 10
           },
           "marker": {
            "size": 3
           },
           "mode": "lines+markers",
           "name": "RIGHT_LOWER_LEG",
           "type": "scatter3d",
           "x": [
            0.28891227,
            0.2963669
           ],
           "y": [
            -0.36717635,
            -0.42606103
           ],
           "z": [
            -1.042085,
            -1.0224946
           ]
          }
         ],
         "layout": {
          "title": {
           "text": "frame:80"
          }
         },
         "name": "80"
        },
        {
         "data": [
          {
           "line": {
            "width": 10
           },
           "marker": {
            "size": 3
           },
           "mode": "lines+markers",
           "name": "CLUB",
           "type": "scatter3d",
           "x": [
            0.23784013,
            0.19768059
           ],
           "y": [
            -0.3356908,
            -0.4119445
           ],
           "z": [
            -1.0085123,
            -0.8637439
           ]
          },
          {
           "line": {
            "width": 10
           },
           "marker": {
            "size": 3
           },
           "mode": "lines+markers",
           "name": "EYE",
           "type": "scatter3d",
           "x": [
            0.253132,
            0.26320335
           ],
           "y": [
            -0.20849149,
            -0.20843984
           ],
           "z": [
            -1.0488594,
            -1.0492915
           ]
          },
          {
           "line": {
            "width": 10
           },
           "marker": {
            "size": 3
           },
           "mode": "lines+markers",
           "name": "SHOULDER",
           "type": "scatter3d",
           "x": [
            0.23671965,
            0.28124654
           ],
           "y": [
            -0.2305963,
            -0.2282097
           ],
           "z": [
            -1.0725626,
            -1.0575479
           ]
          },
          {
           "line": {
            "width": 10
           },
           "marker": {
            "size": 3
           },
           "mode": "lines+markers",
           "name": "LEFT_UPPER_ARM",
           "type": "scatter3d",
           "x": [
            0.23671965,
            0.23534457
           ],
           "y": [
            -0.2305963,
            -0.27575383
           ],
           "z": [
            -1.0725626,
            -1.0568984
           ]
          },
          {
           "line": {
            "width": 10
           },
           "marker": {
            "size": 3
           },
           "mode": "lines+markers",
           "name": "RIGHT_UPPER_ARM",
           "type": "scatter3d",
           "x": [
            0.28124654,
            0.2683981
           ],
           "y": [
            -0.2282097,
            -0.27077198
           ],
           "z": [
            -1.0575479,
            -1.0325959
           ]
          },
          {
           "line": {
            "width": 10
           },
           "marker": {
            "size": 3
           },
           "mode": "lines+markers",
           "name": "LEFT_FOREARM",
           "type": "scatter3d",
           "x": [
            0.23534457,
            0.24268708
           ],
           "y": [
            -0.27575383,
            -0.31423458
           ],
           "z": [
            -1.0568984,
            -1.035132
           ]
          },
          {
           "line": {
            "width": 10
           },
           "marker": {
            "size": 3
           },
           "mode": "lines+markers",
           "name": "RIGHT_FOREARM",
           "type": "scatter3d",
           "x": [
            0.2683981,
            0.24729031
           ],
           "y": [
            -0.27077198,
            -0.30817673
           ],
           "z": [
            -1.0325959,
            -1.0254316
           ]
          },
          {
           "line": {
            "width": 10
           },
           "marker": {
            "size": 3
           },
           "mode": "lines+markers",
           "name": "HIP",
           "type": "scatter3d",
           "x": [
            0.24327926,
            0.27813238
           ],
           "y": [
            -0.31023586,
            -0.30692163
           ],
           "z": [
            -1.0837892,
            -1.0719047
           ]
          },
          {
           "line": {
            "width": 10
           },
           "marker": {
            "size": 3
           },
           "mode": "lines+markers",
           "name": "LEFT_BODY",
           "type": "scatter3d",
           "x": [
            0.23671965,
            0.24327926
           ],
           "y": [
            -0.2305963,
            -0.31023586
           ],
           "z": [
            -1.0725626,
            -1.0837892
           ]
          },
          {
           "line": {
            "width": 10
           },
           "marker": {
            "size": 3
           },
           "mode": "lines+markers",
           "name": "RIGHT_BODY",
           "type": "scatter3d",
           "x": [
            0.28124654,
            0.27813238
           ],
           "y": [
            -0.2282097,
            -0.30692163
           ],
           "z": [
            -1.0575479,
            -1.0719047
           ]
          },
          {
           "line": {
            "width": 10
           },
           "marker": {
            "size": 3
           },
           "mode": "lines+markers",
           "name": "LEFT_THIGH",
           "type": "scatter3d",
           "x": [
            0.24327926,
            0.22522883
           ],
           "y": [
            -0.31023586,
            -0.37522933
           ],
           "z": [
            -1.0837892,
            -1.0633603
           ]
          },
          {
           "line": {
            "width": 10
           },
           "marker": {
            "size": 3
           },
           "mode": "lines+markers",
           "name": "RIGHT_THIGH",
           "type": "scatter3d",
           "x": [
            0.27813238,
            0.2890791
           ],
           "y": [
            -0.30692163,
            -0.36707392
           ],
           "z": [
            -1.0719047,
            -1.0422881
           ]
          },
          {
           "line": {
            "width": 10
           },
           "marker": {
            "size": 3
           },
           "mode": "lines+markers",
           "name": "LEFT_LOWER_LEG",
           "type": "scatter3d",
           "x": [
            0.22522883,
            0.21083485
           ],
           "y": [
            -0.37522933,
            -0.43589264
           ],
           "z": [
            -1.0633603,
            -1.0440872
           ]
          },
          {
           "line": {
            "width": 10
           },
           "marker": {
            "size": 3
           },
           "mode": "lines+markers",
           "name": "RIGHT_LOWER_LEG",
           "type": "scatter3d",
           "x": [
            0.2890791,
            0.2954176
           ],
           "y": [
            -0.36707392,
            -0.42645767
           ],
           "z": [
            -1.0422881,
            -1.0242192
           ]
          }
         ],
         "layout": {
          "title": {
           "text": "frame:85"
          }
         },
         "name": "85"
        },
        {
         "data": [
          {
           "line": {
            "width": 10
           },
           "marker": {
            "size": 3
           },
           "mode": "lines+markers",
           "name": "CLUB",
           "type": "scatter3d",
           "x": [
            0.23785059,
            0.19769628
           ],
           "y": [
            -0.33574605,
            -0.41196087
           ],
           "z": [
            -1.0084134,
            -0.8637299
           ]
          },
          {
           "line": {
            "width": 10
           },
           "marker": {
            "size": 3
           },
           "mode": "lines+markers",
           "name": "EYE",
           "type": "scatter3d",
           "x": [
            0.25979614,
            0.26785487
           ],
           "y": [
            -0.20570524,
            -0.20600349
           ],
           "z": [
            -1.038167,
            -1.0415583
           ]
          },
          {
           "line": {
            "width": 10
           },
           "marker": {
            "size": 3
           },
           "mode": "lines+markers",
           "name": "SHOULDER",
           "type": "scatter3d",
           "x": [
            0.23819065,
            0.27909878
           ],
           "y": [
            -0.23101631,
            -0.22860274
           ],
           "z": [
            -1.0718051,
            -1.0604061
           ]
          },
          {
           "line": {
            "width": 10
           },
           "marker": {
            "size": 3
           },
           "mode": "lines+markers",
           "name": "LEFT_UPPER_ARM",
           "type": "scatter3d",
           "x": [
            0.23819065,
            0.23494545
           ],
           "y": [
            -0.23101631,
            -0.27661952
           ],
           "z": [
            -1.0718051,
            -1.0576706
           ]
          },
          {
           "line": {
            "width": 10
           },
           "marker": {
            "size": 3
           },
           "mode": "lines+markers",
           "name": "RIGHT_UPPER_ARM",
           "type": "scatter3d",
           "x": [
            0.27909878,
            0.26772943
           ],
           "y": [
            -0.22860274,
            -0.2704997
           ],
           "z": [
            -1.0604061,
            -1.0323421
           ]
          },
          {
           "line": {
            "width": 10
           },
           "marker": {
            "size": 3
           },
           "mode": "lines+markers",
           "name": "LEFT_FOREARM",
           "type": "scatter3d",
           "x": [
            0.23494545,
            0.24231303
           ],
           "y": [
            -0.27661952,
            -0.31459484
           ],
           "z": [
            -1.0576706,
            -1.0363103
           ]
          },
          {
           "line": {
            "width": 10
           },
           "marker": {
            "size": 3
           },
           "mode": "lines+markers",
           "name": "RIGHT_FOREARM",
           "type": "scatter3d",
           "x": [
            0.26772943,
            0.247467
           ],
           "y": [
            -0.2704997,
            -0.3082073
           ],
           "z": [
            -1.0323421,
            -1.0239989
           ]
          },
          {
           "line": {
            "width": 10
           },
           "marker": {
            "size": 3
           },
           "mode": "lines+markers",
           "name": "HIP",
           "type": "scatter3d",
           "x": [
            0.24451466,
            0.27703586
           ],
           "y": [
            -0.30960166,
            -0.3065069
           ],
           "z": [
            -1.0831834,
            -1.0738508
           ]
          },
          {
           "line": {
            "width": 10
           },
           "marker": {
            "size": 3
           },
           "mode": "lines+markers",
           "name": "LEFT_BODY",
           "type": "scatter3d",
           "x": [
            0.23819065,
            0.24451466
           ],
           "y": [
            -0.23101631,
            -0.30960166
           ],
           "z": [
            -1.0718051,
            -1.0831834
           ]
          },
          {
           "line": {
            "width": 10
           },
           "marker": {
            "size": 3
           },
           "mode": "lines+markers",
           "name": "RIGHT_BODY",
           "type": "scatter3d",
           "x": [
            0.27909878,
            0.27703586
           ],
           "y": [
            -0.22860274,
            -0.3065069
           ],
           "z": [
            -1.0604061,
            -1.0738508
           ]
          },
          {
           "line": {
            "width": 10
           },
           "marker": {
            "size": 3
           },
           "mode": "lines+markers",
           "name": "LEFT_THIGH",
           "type": "scatter3d",
           "x": [
            0.24451466,
            0.22721197
           ],
           "y": [
            -0.30960166,
            -0.3746241
           ],
           "z": [
            -1.0831834,
            -1.0611129
           ]
          },
          {
           "line": {
            "width": 10
           },
           "marker": {
            "size": 3
           },
           "mode": "lines+markers",
           "name": "RIGHT_THIGH",
           "type": "scatter3d",
           "x": [
            0.27703586,
            0.28751174
           ],
           "y": [
            -0.3065069,
            -0.36749795
           ],
           "z": [
            -1.0738508,
            -1.0448925
           ]
          },
          {
           "line": {
            "width": 10
           },
           "marker": {
            "size": 3
           },
           "mode": "lines+markers",
           "name": "LEFT_LOWER_LEG",
           "type": "scatter3d",
           "x": [
            0.22721197,
            0.2102874
           ],
           "y": [
            -0.3746241,
            -0.43580893
           ],
           "z": [
            -1.0611129,
            -1.0436273
           ]
          },
          {
           "line": {
            "width": 10
           },
           "marker": {
            "size": 3
           },
           "mode": "lines+markers",
           "name": "RIGHT_LOWER_LEG",
           "type": "scatter3d",
           "x": [
            0.28751174,
            0.29559052
           ],
           "y": [
            -0.36749795,
            -0.42569715
           ],
           "z": [
            -1.0448925,
            -1.0242492
           ]
          }
         ],
         "layout": {
          "title": {
           "text": "frame:90"
          }
         },
         "name": "90"
        },
        {
         "data": [
          {
           "line": {
            "width": 10
           },
           "marker": {
            "size": 3
           },
           "mode": "lines+markers",
           "name": "CLUB",
           "type": "scatter3d",
           "x": [
            0.23810263,
            0.19770144
           ],
           "y": [
            -0.335783,
            -0.4120158
           ],
           "z": [
            -1.0084696,
            -0.86353916
           ]
          },
          {
           "line": {
            "width": 10
           },
           "marker": {
            "size": 3
           },
           "mode": "lines+markers",
           "name": "EYE",
           "type": "scatter3d",
           "x": [
            0.26010874,
            0.26830474
           ],
           "y": [
            -0.20655468,
            -0.2068653
           ],
           "z": [
            -1.0393122,
            -1.0426937
           ]
          },
          {
           "line": {
            "width": 10
           },
           "marker": {
            "size": 3
           },
           "mode": "lines+markers",
           "name": "SHOULDER",
           "type": "scatter3d",
           "x": [
            0.23716652,
            0.2803033
           ],
           "y": [
            -0.23151213,
            -0.22853622
           ],
           "z": [
            -1.0727081,
            -1.0573767
           ]
          },
          {
           "line": {
            "width": 10
           },
           "marker": {
            "size": 3
           },
           "mode": "lines+markers",
           "name": "LEFT_UPPER_ARM",
           "type": "scatter3d",
           "x": [
            0.23716652,
            0.23574676
           ],
           "y": [
            -0.23151213,
            -0.2761107
           ],
           "z": [
            -1.0727081,
            -1.0566742
           ]
          },
          {
           "line": {
            "width": 10
           },
           "marker": {
            "size": 3
           },
           "mode": "lines+markers",
           "name": "RIGHT_UPPER_ARM",
           "type": "scatter3d",
           "x": [
            0.2803033,
            0.26750305
           ],
           "y": [
            -0.22853622,
            -0.2700402
           ],
           "z": [
            -1.0573767,
            -1.0314956
           ]
          },
          {
           "line": {
            "width": 10
           },
           "marker": {
            "size": 3
           },
           "mode": "lines+markers",
           "name": "LEFT_FOREARM",
           "type": "scatter3d",
           "x": [
            0.23574676,
            0.2429991
           ],
           "y": [
            -0.2761107,
            -0.31473157
           ],
           "z": [
            -1.0566742,
            -1.034702
           ]
          },
          {
           "line": {
            "width": 10
           },
           "marker": {
            "size": 3
           },
           "mode": "lines+markers",
           "name": "RIGHT_FOREARM",
           "type": "scatter3d",
           "x": [
            0.26750305,
            0.24834543
           ],
           "y": [
            -0.2700402,
            -0.30676565
           ],
           "z": [
            -1.0314956,
            -1.0215416
           ]
          },
          {
           "line": {
            "width": 10
           },
           "marker": {
            "size": 3
           },
           "mode": "lines+markers",
           "name": "HIP",
           "type": "scatter3d",
           "x": [
            0.24381983,
            0.27784124
           ],
           "y": [
            -0.3111106,
            -0.3073895
           ],
           "z": [
            -1.0832647,
            -1.071316
           ]
          },
          {
           "line": {
            "width": 10
           },
           "marker": {
            "size": 3
           },
           "mode": "lines+markers",
           "name": "LEFT_BODY",
           "type": "scatter3d",
           "x": [
            0.23716652,
            0.24381983
           ],
           "y": [
            -0.23151213,
            -0.3111106
           ],
           "z": [
            -1.0727081,
            -1.0832647
           ]
          },
          {
           "line": {
            "width": 10
           },
           "marker": {
            "size": 3
           },
           "mode": "lines+markers",
           "name": "RIGHT_BODY",
           "type": "scatter3d",
           "x": [
            0.2803033,
            0.27784124
           ],
           "y": [
            -0.22853622,
            -0.3073895
           ],
           "z": [
            -1.0573767,
            -1.071316
           ]
          },
          {
           "line": {
            "width": 10
           },
           "marker": {
            "size": 3
           },
           "mode": "lines+markers",
           "name": "LEFT_THIGH",
           "type": "scatter3d",
           "x": [
            0.24381983,
            0.22504978
           ],
           "y": [
            -0.3111106,
            -0.37589914
           ],
           "z": [
            -1.0832647,
            -1.0641121
           ]
          },
          {
           "line": {
            "width": 10
           },
           "marker": {
            "size": 3
           },
           "mode": "lines+markers",
           "name": "RIGHT_THIGH",
           "type": "scatter3d",
           "x": [
            0.27784124,
            0.28810966
           ],
           "y": [
            -0.3073895,
            -0.36749336
           ],
           "z": [
            -1.071316,
            -1.043318
           ]
          },
          {
           "line": {
            "width": 10
           },
           "marker": {
            "size": 3
           },
           "mode": "lines+markers",
           "name": "LEFT_LOWER_LEG",
           "type": "scatter3d",
           "x": [
            0.22504978,
            0.21008347
           ],
           "y": [
            -0.37589914,
            -0.43586665
           ],
           "z": [
            -1.0641121,
            -1.0442786
           ]
          },
          {
           "line": {
            "width": 10
           },
           "marker": {
            "size": 3
           },
           "mode": "lines+markers",
           "name": "RIGHT_LOWER_LEG",
           "type": "scatter3d",
           "x": [
            0.28810966,
            0.2949892
           ],
           "y": [
            -0.36749336,
            -0.4264993
           ],
           "z": [
            -1.043318,
            -1.0250192
           ]
          }
         ],
         "layout": {
          "title": {
           "text": "frame:95"
          }
         },
         "name": "95"
        },
        {
         "data": [
          {
           "line": {
            "width": 10
           },
           "marker": {
            "size": 3
           },
           "mode": "lines+markers",
           "name": "CLUB",
           "type": "scatter3d",
           "x": [
            0.23801827,
            0.19776909
           ],
           "y": [
            -0.33574906,
            -0.41196346
           ],
           "z": [
            -1.0085574,
            -0.86372733
           ]
          },
          {
           "line": {
            "width": 10
           },
           "marker": {
            "size": 3
           },
           "mode": "lines+markers",
           "name": "EYE",
           "type": "scatter3d",
           "x": [
            0.25690052,
            0.26619887
           ],
           "y": [
            -0.20852591,
            -0.2086757
           ],
           "z": [
            -1.0438485,
            -1.0458506
           ]
          },
          {
           "line": {
            "width": 10
           },
           "marker": {
            "size": 3
           },
           "mode": "lines+markers",
           "name": "SHOULDER",
           "type": "scatter3d",
           "x": [
            0.236074,
            0.28104886
           ],
           "y": [
            -0.23093751,
            -0.22821458
           ],
           "z": [
            -1.0741932,
            -1.0570033
           ]
          },
          {
           "line": {
            "width": 10
           },
           "marker": {
            "size": 3
           },
           "mode": "lines+markers",
           "name": "LEFT_UPPER_ARM",
           "type": "scatter3d",
           "x": [
            0.236074,
            0.23415093
           ],
           "y": [
            -0.23093751,
            -0.27606404
           ],
           "z": [
            -1.0741932,
            -1.0593562
           ]
          },
          {
           "line": {
            "width": 10
           },
           "marker": {
            "size": 3
           },
           "mode": "lines+markers",
           "name": "RIGHT_UPPER_ARM",
           "type": "scatter3d",
           "x": [
            0.28104886,
            0.26819307
           ],
           "y": [
            -0.22821458,
            -0.27087834
           ],
           "z": [
            -1.0570033,
            -1.0308706
           ]
          },
          {
           "line": {
            "width": 10
           },
           "marker": {
            "size": 3
           },
           "mode": "lines+markers",
           "name": "LEFT_FOREARM",
           "type": "scatter3d",
           "x": [
            0.23415093,
            0.24222042
           ],
           "y": [
            -0.27606404,
            -0.31399277
           ],
           "z": [
            -1.0593562,
            -1.036888
           ]
          },
          {
           "line": {
            "width": 10
           },
           "marker": {
            "size": 3
           },
           "mode": "lines+markers",
           "name": "RIGHT_FOREARM",
           "type": "scatter3d",
           "x": [
            0.26819307,
            0.24663237
           ],
           "y": [
            -0.27087834,
            -0.30891412
           ],
           "z": [
            -1.0308706,
            -1.0242049
           ]
          },
          {
           "line": {
            "width": 10
           },
           "marker": {
            "size": 3
           },
           "mode": "lines+markers",
           "name": "HIP",
           "type": "scatter3d",
           "x": [
            0.24305314,
            0.2781314
           ],
           "y": [
            -0.31053397,
            -0.3068641
           ],
           "z": [
            -1.084749,
            -1.0717163
           ]
          },
          {
           "line": {
            "width": 10
           },
           "marker": {
            "size": 3
           },
           "mode": "lines+markers",
           "name": "LEFT_BODY",
           "type": "scatter3d",
           "x": [
            0.236074,
            0.24305314
           ],
           "y": [
            -0.23093751,
            -0.31053397
           ],
           "z": [
            -1.0741932,
            -1.084749
           ]
          },
          {
           "line": {
            "width": 10
           },
           "marker": {
            "size": 3
           },
           "mode": "lines+markers",
           "name": "RIGHT_BODY",
           "type": "scatter3d",
           "x": [
            0.28104886,
            0.2781314
           ],
           "y": [
            -0.22821458,
            -0.3068641
           ],
           "z": [
            -1.0570033,
            -1.0717163
           ]
          },
          {
           "line": {
            "width": 10
           },
           "marker": {
            "size": 3
           },
           "mode": "lines+markers",
           "name": "LEFT_THIGH",
           "type": "scatter3d",
           "x": [
            0.24305314,
            0.22492316
           ],
           "y": [
            -0.31053397,
            -0.37536335
           ],
           "z": [
            -1.084749,
            -1.0645397
           ]
          },
          {
           "line": {
            "width": 10
           },
           "marker": {
            "size": 3
           },
           "mode": "lines+markers",
           "name": "RIGHT_THIGH",
           "type": "scatter3d",
           "x": [
            0.2781314,
            0.28863484
           ],
           "y": [
            -0.3068641,
            -0.36702958
           ],
           "z": [
            -1.0717163,
            -1.0428383
           ]
          },
          {
           "line": {
            "width": 10
           },
           "marker": {
            "size": 3
           },
           "mode": "lines+markers",
           "name": "LEFT_LOWER_LEG",
           "type": "scatter3d",
           "x": [
            0.22492316,
            0.21072496
           ],
           "y": [
            -0.37536335,
            -0.43512186
           ],
           "z": [
            -1.0645397,
            -1.0434656
           ]
          },
          {
           "line": {
            "width": 10
           },
           "marker": {
            "size": 3
           },
           "mode": "lines+markers",
           "name": "RIGHT_LOWER_LEG",
           "type": "scatter3d",
           "x": [
            0.28863484,
            0.29489565
           ],
           "y": [
            -0.36702958,
            -0.42639977
           ],
           "z": [
            -1.0428383,
            -1.0246468
           ]
          }
         ],
         "layout": {
          "title": {
           "text": "frame:100"
          }
         },
         "name": "100"
        },
        {
         "data": [
          {
           "line": {
            "width": 10
           },
           "marker": {
            "size": 3
           },
           "mode": "lines+markers",
           "name": "CLUB",
           "type": "scatter3d",
           "x": [
            0.23779574,
            0.1976478
           ],
           "y": [
            -0.33597603,
            -0.41213605
           ],
           "z": [
            -1.0087363,
            -0.8639354
           ]
          },
          {
           "line": {
            "width": 10
           },
           "marker": {
            "size": 3
           },
           "mode": "lines+markers",
           "name": "EYE",
           "type": "scatter3d",
           "x": [
            0.25814384,
            0.2670094
           ],
           "y": [
            -0.20822102,
            -0.20822838
           ],
           "z": [
            -1.0402601,
            -1.0422046
           ]
          },
          {
           "line": {
            "width": 10
           },
           "marker": {
            "size": 3
           },
           "mode": "lines+markers",
           "name": "SHOULDER",
           "type": "scatter3d",
           "x": [
            0.23590077,
            0.2808605
           ],
           "y": [
            -0.23209596,
            -0.2284953
           ],
           "z": [
            -1.0737637,
            -1.0575721
           ]
          },
          {
           "line": {
            "width": 10
           },
           "marker": {
            "size": 3
           },
           "mode": "lines+markers",
           "name": "LEFT_UPPER_ARM",
           "type": "scatter3d",
           "x": [
            0.23590077,
            0.2348115
           ],
           "y": [
            -0.23209596,
            -0.27857473
           ],
           "z": [
            -1.0737637,
            -1.05934
           ]
          },
          {
           "line": {
            "width": 10
           },
           "marker": {
            "size": 3
           },
           "mode": "lines+markers",
           "name": "RIGHT_UPPER_ARM",
           "type": "scatter3d",
           "x": [
            0.2808605,
            0.26876044
           ],
           "y": [
            -0.2284953,
            -0.2717665
           ],
           "z": [
            -1.0575721,
            -1.0311271
           ]
          },
          {
           "line": {
            "width": 10
           },
           "marker": {
            "size": 3
           },
           "mode": "lines+markers",
           "name": "LEFT_FOREARM",
           "type": "scatter3d",
           "x": [
            0.2348115,
            0.24182375
           ],
           "y": [
            -0.27857473,
            -0.3156981
           ],
           "z": [
            -1.05934,
            -1.032002
           ]
          },
          {
           "line": {
            "width": 10
           },
           "marker": {
            "size": 3
           },
           "mode": "lines+markers",
           "name": "RIGHT_FOREARM",
           "type": "scatter3d",
           "x": [
            0.26876044,
            0.24734817
           ],
           "y": [
            -0.2717665,
            -0.30933377
           ],
           "z": [
            -1.0311271,
            -1.024176
           ]
          },
          {
           "line": {
            "width": 10
           },
           "marker": {
            "size": 3
           },
           "mode": "lines+markers",
           "name": "HIP",
           "type": "scatter3d",
           "x": [
            0.24354479,
            0.27875882
           ],
           "y": [
            -0.31139705,
            -0.3070302
           ],
           "z": [
            -1.0867054,
            -1.0741996
           ]
          },
          {
           "line": {
            "width": 10
           },
           "marker": {
            "size": 3
           },
           "mode": "lines+markers",
           "name": "LEFT_BODY",
           "type": "scatter3d",
           "x": [
            0.23590077,
            0.24354479
           ],
           "y": [
            -0.23209596,
            -0.31139705
           ],
           "z": [
            -1.0737637,
            -1.0867054
           ]
          },
          {
           "line": {
            "width": 10
           },
           "marker": {
            "size": 3
           },
           "mode": "lines+markers",
           "name": "RIGHT_BODY",
           "type": "scatter3d",
           "x": [
            0.2808605,
            0.27875882
           ],
           "y": [
            -0.2284953,
            -0.3070302
           ],
           "z": [
            -1.0575721,
            -1.0741996
           ]
          },
          {
           "line": {
            "width": 10
           },
           "marker": {
            "size": 3
           },
           "mode": "lines+markers",
           "name": "LEFT_THIGH",
           "type": "scatter3d",
           "x": [
            0.24354479,
            0.22452156
           ],
           "y": [
            -0.31139705,
            -0.37636262
           ],
           "z": [
            -1.0867054,
            -1.0634038
           ]
          },
          {
           "line": {
            "width": 10
           },
           "marker": {
            "size": 3
           },
           "mode": "lines+markers",
           "name": "RIGHT_THIGH",
           "type": "scatter3d",
           "x": [
            0.27875882,
            0.28811094
           ],
           "y": [
            -0.3070302,
            -0.36739215
           ],
           "z": [
            -1.0741996,
            -1.0427152
           ]
          },
          {
           "line": {
            "width": 10
           },
           "marker": {
            "size": 3
           },
           "mode": "lines+markers",
           "name": "LEFT_LOWER_LEG",
           "type": "scatter3d",
           "x": [
            0.22452156,
            0.21064384
           ],
           "y": [
            -0.37636262,
            -0.43639907
           ],
           "z": [
            -1.0634038,
            -1.0449325
           ]
          },
          {
           "line": {
            "width": 10
           },
           "marker": {
            "size": 3
           },
           "mode": "lines+markers",
           "name": "RIGHT_LOWER_LEG",
           "type": "scatter3d",
           "x": [
            0.28811094,
            0.29493976
           ],
           "y": [
            -0.36739215,
            -0.42606616
           ],
           "z": [
            -1.0427152,
            -1.0241147
           ]
          }
         ],
         "layout": {
          "title": {
           "text": "frame:105"
          }
         },
         "name": "105"
        },
        {
         "data": [
          {
           "line": {
            "width": 10
           },
           "marker": {
            "size": 3
           },
           "mode": "lines+markers",
           "name": "CLUB",
           "type": "scatter3d",
           "x": [
            0.23818532,
            0.19781302
           ],
           "y": [
            -0.33568984,
            -0.41220486
           ],
           "z": [
            -1.0084087,
            -0.8639661
           ]
          },
          {
           "line": {
            "width": 10
           },
           "marker": {
            "size": 3
           },
           "mode": "lines+markers",
           "name": "EYE",
           "type": "scatter3d",
           "x": [
            0.25956988,
            0.26762465
           ],
           "y": [
            -0.20748965,
            -0.20764022
           ],
           "z": [
            -1.0369223,
            -1.0394053
           ]
          },
          {
           "line": {
            "width": 10
           },
           "marker": {
            "size": 3
           },
           "mode": "lines+markers",
           "name": "SHOULDER",
           "type": "scatter3d",
           "x": [
            0.23639946,
            0.2800985
           ],
           "y": [
            -0.23244767,
            -0.22839229
           ],
           "z": [
            -1.0739311,
            -1.0571077
           ]
          },
          {
           "line": {
            "width": 10
           },
           "marker": {
            "size": 3
           },
           "mode": "lines+markers",
           "name": "LEFT_UPPER_ARM",
           "type": "scatter3d",
           "x": [
            0.23639946,
            0.23485063
           ],
           "y": [
            -0.23244767,
            -0.27900085
           ],
           "z": [
            -1.0739311,
            -1.0594337
           ]
          },
          {
           "line": {
            "width": 10
           },
           "marker": {
            "size": 3
           },
           "mode": "lines+markers",
           "name": "RIGHT_UPPER_ARM",
           "type": "scatter3d",
           "x": [
            0.2800985,
            0.26850268
           ],
           "y": [
            -0.22839229,
            -0.27086258
           ],
           "z": [
            -1.0571077,
            -1.030182
           ]
          },
          {
           "line": {
            "width": 10
           },
           "marker": {
            "size": 3
           },
           "mode": "lines+markers",
           "name": "LEFT_FOREARM",
           "type": "scatter3d",
           "x": [
            0.23485063,
            0.24185029
           ],
           "y": [
            -0.27900085,
            -0.31616163
           ],
           "z": [
            -1.0594337,
            -1.0318904
           ]
          },
          {
           "line": {
            "width": 10
           },
           "marker": {
            "size": 3
           },
           "mode": "lines+markers",
           "name": "RIGHT_FOREARM",
           "type": "scatter3d",
           "x": [
            0.26850268,
            0.24840014
           ],
           "y": [
            -0.27086258,
            -0.30813223
           ],
           "z": [
            -1.030182,
            -1.0221058
           ]
          },
          {
           "line": {
            "width": 10
           },
           "marker": {
            "size": 3
           },
           "mode": "lines+markers",
           "name": "HIP",
           "type": "scatter3d",
           "x": [
            0.24449845,
            0.27886853
           ],
           "y": [
            -0.31131756,
            -0.30660212
           ],
           "z": [
            -1.0865747,
            -1.0737075
           ]
          },
          {
           "line": {
            "width": 10
           },
           "marker": {
            "size": 3
           },
           "mode": "lines+markers",
           "name": "LEFT_BODY",
           "type": "scatter3d",
           "x": [
            0.23639946,
            0.24449845
           ],
           "y": [
            -0.23244767,
            -0.31131756
           ],
           "z": [
            -1.0739311,
            -1.0865747
           ]
          },
          {
           "line": {
            "width": 10
           },
           "marker": {
            "size": 3
           },
           "mode": "lines+markers",
           "name": "RIGHT_BODY",
           "type": "scatter3d",
           "x": [
            0.2800985,
            0.27886853
           ],
           "y": [
            -0.22839229,
            -0.30660212
           ],
           "z": [
            -1.0571077,
            -1.0737075
           ]
          },
          {
           "line": {
            "width": 10
           },
           "marker": {
            "size": 3
           },
           "mode": "lines+markers",
           "name": "LEFT_THIGH",
           "type": "scatter3d",
           "x": [
            0.24449845,
            0.22562416
           ],
           "y": [
            -0.31131756,
            -0.37584135
           ],
           "z": [
            -1.0865747,
            -1.0622337
           ]
          },
          {
           "line": {
            "width": 10
           },
           "marker": {
            "size": 3
           },
           "mode": "lines+markers",
           "name": "RIGHT_THIGH",
           "type": "scatter3d",
           "x": [
            0.27886853,
            0.28819475
           ],
           "y": [
            -0.30660212,
            -0.3667271
           ],
           "z": [
            -1.0737075,
            -1.0423472
           ]
          },
          {
           "line": {
            "width": 10
           },
           "marker": {
            "size": 3
           },
           "mode": "lines+markers",
           "name": "LEFT_LOWER_LEG",
           "type": "scatter3d",
           "x": [
            0.22562416,
            0.21090801
           ],
           "y": [
            -0.37584135,
            -0.43612757
           ],
           "z": [
            -1.0622337,
            -1.044241
           ]
          },
          {
           "line": {
            "width": 10
           },
           "marker": {
            "size": 3
           },
           "mode": "lines+markers",
           "name": "RIGHT_LOWER_LEG",
           "type": "scatter3d",
           "x": [
            0.28819475,
            0.2947987
           ],
           "y": [
            -0.3667271,
            -0.4258264
           ],
           "z": [
            -1.0423472,
            -1.0250176
           ]
          }
         ],
         "layout": {
          "title": {
           "text": "frame:110"
          }
         },
         "name": "110"
        },
        {
         "data": [
          {
           "line": {
            "width": 10
           },
           "marker": {
            "size": 3
           },
           "mode": "lines+markers",
           "name": "CLUB",
           "type": "scatter3d",
           "x": [
            0.23793189,
            0.19776157
           ],
           "y": [
            -0.33574238,
            -0.4122118
           ],
           "z": [
            -1.0087956,
            -0.86412585
           ]
          },
          {
           "line": {
            "width": 10
           },
           "marker": {
            "size": 3
           },
           "mode": "lines+markers",
           "name": "EYE",
           "type": "scatter3d",
           "x": [
            0.25631815,
            0.26549533
           ],
           "y": [
            -0.20907046,
            -0.20910242
           ],
           "z": [
            -1.0441873,
            -1.0457093
           ]
          },
          {
           "line": {
            "width": 10
           },
           "marker": {
            "size": 3
           },
           "mode": "lines+markers",
           "name": "SHOULDER",
           "type": "scatter3d",
           "x": [
            0.237,
            0.27904108
           ],
           "y": [
            -0.2314745,
            -0.22861579
           ],
           "z": [
            -1.0719236,
            -1.0600626
           ]
          },
          {
           "line": {
            "width": 10
           },
           "marker": {
            "size": 3
           },
           "mode": "lines+markers",
           "name": "LEFT_UPPER_ARM",
           "type": "scatter3d",
           "x": [
            0.237,
            0.23429216
           ],
           "y": [
            -0.2314745,
            -0.27922824
           ],
           "z": [
            -1.0719236,
            -1.0596725
           ]
          },
          {
           "line": {
            "width": 10
           },
           "marker": {
            "size": 3
           },
           "mode": "lines+markers",
           "name": "RIGHT_UPPER_ARM",
           "type": "scatter3d",
           "x": [
            0.27904108,
            0.26646113
           ],
           "y": [
            -0.22861579,
            -0.27290186
           ],
           "z": [
            -1.0600626,
            -1.0340497
           ]
          },
          {
           "line": {
            "width": 10
           },
           "marker": {
            "size": 3
           },
           "mode": "lines+markers",
           "name": "LEFT_FOREARM",
           "type": "scatter3d",
           "x": [
            0.23429216,
            0.2408056
           ],
           "y": [
            -0.27922824,
            -0.31657934
           ],
           "z": [
            -1.0596725,
            -1.0335851
           ]
          },
          {
           "line": {
            "width": 10
           },
           "marker": {
            "size": 3
           },
           "mode": "lines+markers",
           "name": "RIGHT_FOREARM",
           "type": "scatter3d",
           "x": [
            0.26646113,
            0.24608561
           ],
           "y": [
            -0.27290186,
            -0.31094468
           ],
           "z": [
            -1.0340497,
            -1.0254191
           ]
          },
          {
           "line": {
            "width": 10
           },
           "marker": {
            "size": 3
           },
           "mode": "lines+markers",
           "name": "HIP",
           "type": "scatter3d",
           "x": [
            0.24470513,
            0.2779818
           ],
           "y": [
            -0.3101441,
            -0.306465
           ],
           "z": [
            -1.0856386,
            -1.0761455
           ]
          },
          {
           "line": {
            "width": 10
           },
           "marker": {
            "size": 3
           },
           "mode": "lines+markers",
           "name": "LEFT_BODY",
           "type": "scatter3d",
           "x": [
            0.237,
            0.24470513
           ],
           "y": [
            -0.2314745,
            -0.3101441
           ],
           "z": [
            -1.0719236,
            -1.0856386
           ]
          },
          {
           "line": {
            "width": 10
           },
           "marker": {
            "size": 3
           },
           "mode": "lines+markers",
           "name": "RIGHT_BODY",
           "type": "scatter3d",
           "x": [
            0.27904108,
            0.2779818
           ],
           "y": [
            -0.22861579,
            -0.306465
           ],
           "z": [
            -1.0600626,
            -1.0761455
           ]
          },
          {
           "line": {
            "width": 10
           },
           "marker": {
            "size": 3
           },
           "mode": "lines+markers",
           "name": "LEFT_THIGH",
           "type": "scatter3d",
           "x": [
            0.24470513,
            0.22693
           ],
           "y": [
            -0.3101441,
            -0.37490562
           ],
           "z": [
            -1.0856386,
            -1.0597552
           ]
          },
          {
           "line": {
            "width": 10
           },
           "marker": {
            "size": 3
           },
           "mode": "lines+markers",
           "name": "RIGHT_THIGH",
           "type": "scatter3d",
           "x": [
            0.2779818,
            0.2874503
           ],
           "y": [
            -0.306465,
            -0.36717463
           ],
           "z": [
            -1.0761455,
            -1.044091
           ]
          },
          {
           "line": {
            "width": 10
           },
           "marker": {
            "size": 3
           },
           "mode": "lines+markers",
           "name": "LEFT_LOWER_LEG",
           "type": "scatter3d",
           "x": [
            0.22693,
            0.21134031
           ],
           "y": [
            -0.37490562,
            -0.4361755
           ],
           "z": [
            -1.0597552,
            -1.0432495
           ]
          },
          {
           "line": {
            "width": 10
           },
           "marker": {
            "size": 3
           },
           "mode": "lines+markers",
           "name": "RIGHT_LOWER_LEG",
           "type": "scatter3d",
           "x": [
            0.2874503,
            0.2959714
           ],
           "y": [
            -0.36717463,
            -0.42492405
           ],
           "z": [
            -1.044091,
            -1.0237561
           ]
          }
         ],
         "layout": {
          "title": {
           "text": "frame:115"
          }
         },
         "name": "115"
        },
        {
         "data": [
          {
           "line": {
            "width": 10
           },
           "marker": {
            "size": 3
           },
           "mode": "lines+markers",
           "name": "CLUB",
           "type": "scatter3d",
           "x": [
            0.23789743,
            0.1979953
           ],
           "y": [
            -0.3356325,
            -0.41207728
           ],
           "z": [
            -1.0090566,
            -0.8639833
           ]
          },
          {
           "line": {
            "width": 10
           },
           "marker": {
            "size": 3
           },
           "mode": "lines+markers",
           "name": "EYE",
           "type": "scatter3d",
           "x": [
            0.25593734,
            0.26640505
           ],
           "y": [
            -0.20801066,
            -0.20754208
           ],
           "z": [
            -1.0464584,
            -1.0463144
           ]
          },
          {
           "line": {
            "width": 10
           },
           "marker": {
            "size": 3
           },
           "mode": "lines+markers",
           "name": "SHOULDER",
           "type": "scatter3d",
           "x": [
            0.23674355,
            0.27899516
           ],
           "y": [
            -0.23224275,
            -0.22957613
           ],
           "z": [
            -1.0723307,
            -1.0597231
           ]
          },
          {
           "line": {
            "width": 10
           },
           "marker": {
            "size": 3
           },
           "mode": "lines+markers",
           "name": "LEFT_UPPER_ARM",
           "type": "scatter3d",
           "x": [
            0.23674355,
            0.23093924
           ],
           "y": [
            -0.23224275,
            -0.27814722
           ],
           "z": [
            -1.0723307,
            -1.0634667
           ]
          },
          {
           "line": {
            "width": 10
           },
           "marker": {
            "size": 3
           },
           "mode": "lines+markers",
           "name": "RIGHT_UPPER_ARM",
           "type": "scatter3d",
           "x": [
            0.27899516,
            0.2683476
           ],
           "y": [
            -0.22957613,
            -0.27046114
           ],
           "z": [
            -1.0597231,
            -1.0316842
           ]
          },
          {
           "line": {
            "width": 10
           },
           "marker": {
            "size": 3
           },
           "mode": "lines+markers",
           "name": "LEFT_FOREARM",
           "type": "scatter3d",
           "x": [
            0.23093924,
            0.24091779
           ],
           "y": [
            -0.27814722,
            -0.31418318
           ],
           "z": [
            -1.0634667,
            -1.0397259
           ]
          },
          {
           "line": {
            "width": 10
           },
           "marker": {
            "size": 3
           },
           "mode": "lines+markers",
           "name": "RIGHT_FOREARM",
           "type": "scatter3d",
           "x": [
            0.2683476,
            0.24734786
           ],
           "y": [
            -0.27046114,
            -0.30824456
           ],
           "z": [
            -1.0316842,
            -1.0241326
           ]
          },
          {
           "line": {
            "width": 10
           },
           "marker": {
            "size": 3
           },
           "mode": "lines+markers",
           "name": "HIP",
           "type": "scatter3d",
           "x": [
            0.24422385,
            0.2776241
           ],
           "y": [
            -0.31134102,
            -0.3081477
           ],
           "z": [
            -1.0831473,
            -1.0727462
           ]
          },
          {
           "line": {
            "width": 10
           },
           "marker": {
            "size": 3
           },
           "mode": "lines+markers",
           "name": "LEFT_BODY",
           "type": "scatter3d",
           "x": [
            0.23674355,
            0.24422385
           ],
           "y": [
            -0.23224275,
            -0.31134102
           ],
           "z": [
            -1.0723307,
            -1.0831473
           ]
          },
          {
           "line": {
            "width": 10
           },
           "marker": {
            "size": 3
           },
           "mode": "lines+markers",
           "name": "RIGHT_BODY",
           "type": "scatter3d",
           "x": [
            0.27899516,
            0.2776241
           ],
           "y": [
            -0.22957613,
            -0.3081477
           ],
           "z": [
            -1.0597231,
            -1.0727462
           ]
          },
          {
           "line": {
            "width": 10
           },
           "marker": {
            "size": 3
           },
           "mode": "lines+markers",
           "name": "LEFT_THIGH",
           "type": "scatter3d",
           "x": [
            0.24422385,
            0.2300289
           ],
           "y": [
            -0.31134102,
            -0.3737422
           ],
           "z": [
            -1.0831473,
            -1.0573534
           ]
          },
          {
           "line": {
            "width": 10
           },
           "marker": {
            "size": 3
           },
           "mode": "lines+markers",
           "name": "RIGHT_THIGH",
           "type": "scatter3d",
           "x": [
            0.2776241,
            0.28722632
           ],
           "y": [
            -0.3081477,
            -0.36856654
           ],
           "z": [
            -1.0727462,
            -1.0447805
           ]
          },
          {
           "line": {
            "width": 10
           },
           "marker": {
            "size": 3
           },
           "mode": "lines+markers",
           "name": "LEFT_LOWER_LEG",
           "type": "scatter3d",
           "x": [
            0.2300289,
            0.21475333
           ],
           "y": [
            -0.3737422,
            -0.43343705
           ],
           "z": [
            -1.0573534,
            -1.039133
           ]
          },
          {
           "line": {
            "width": 10
           },
           "marker": {
            "size": 3
           },
           "mode": "lines+markers",
           "name": "RIGHT_LOWER_LEG",
           "type": "scatter3d",
           "x": [
            0.28722632,
            0.2958219
           ],
           "y": [
            -0.36856654,
            -0.42610094
           ],
           "z": [
            -1.0447805,
            -1.0236504
           ]
          }
         ],
         "layout": {
          "title": {
           "text": "frame:120"
          }
         },
         "name": "120"
        },
        {
         "data": [
          {
           "line": {
            "width": 10
           },
           "marker": {
            "size": 3
           },
           "mode": "lines+markers",
           "name": "CLUB",
           "type": "scatter3d",
           "x": [
            0.23797995,
            0.19789317
           ],
           "y": [
            -0.33567858,
            -0.41188994
           ],
           "z": [
            -1.008815,
            -0.86350536
           ]
          },
          {
           "line": {
            "width": 10
           },
           "marker": {
            "size": 3
           },
           "mode": "lines+markers",
           "name": "EYE",
           "type": "scatter3d",
           "x": [
            0.2570894,
            0.26665553
           ],
           "y": [
            -0.2079712,
            -0.20777252
           ],
           "z": [
            -1.0440807,
            -1.045157
           ]
          },
          {
           "line": {
            "width": 10
           },
           "marker": {
            "size": 3
           },
           "mode": "lines+markers",
           "name": "SHOULDER",
           "type": "scatter3d",
           "x": [
            0.23724614,
            0.27916923
           ],
           "y": [
            -0.23078069,
            -0.22808823
           ],
           "z": [
            -1.0721678,
            -1.0589967
           ]
          },
          {
           "line": {
            "width": 10
           },
           "marker": {
            "size": 3
           },
           "mode": "lines+markers",
           "name": "LEFT_UPPER_ARM",
           "type": "scatter3d",
           "x": [
            0.23724614,
            0.23459782
           ],
           "y": [
            -0.23078069,
            -0.27626774
           ],
           "z": [
            -1.0721678,
            -1.0576091
           ]
          },
          {
           "line": {
            "width": 10
           },
           "marker": {
            "size": 3
           },
           "mode": "lines+markers",
           "name": "RIGHT_UPPER_ARM",
           "type": "scatter3d",
           "x": [
            0.27916923,
            0.2678738
           ],
           "y": [
            -0.22808823,
            -0.27038902
           ],
           "z": [
            -1.0589967,
            -1.0308636
           ]
          },
          {
           "line": {
            "width": 10
           },
           "marker": {
            "size": 3
           },
           "mode": "lines+markers",
           "name": "LEFT_FOREARM",
           "type": "scatter3d",
           "x": [
            0.23459782,
            0.2424919
           ],
           "y": [
            -0.27626774,
            -0.31439292
           ],
           "z": [
            -1.0576091,
            -1.0360302
           ]
          },
          {
           "line": {
            "width": 10
           },
           "marker": {
            "size": 3
           },
           "mode": "lines+markers",
           "name": "RIGHT_FOREARM",
           "type": "scatter3d",
           "x": [
            0.2678738,
            0.2478856
           ],
           "y": [
            -0.27038902,
            -0.3082202
           ],
           "z": [
            -1.0308636,
            -1.0215998
           ]
          },
          {
           "line": {
            "width": 10
           },
           "marker": {
            "size": 3
           },
           "mode": "lines+markers",
           "name": "HIP",
           "type": "scatter3d",
           "x": [
            0.24468715,
            0.27771103
           ],
           "y": [
            -0.3101823,
            -0.30683917
           ],
           "z": [
            -1.0829561,
            -1.072579
           ]
          },
          {
           "line": {
            "width": 10
           },
           "marker": {
            "size": 3
           },
           "mode": "lines+markers",
           "name": "LEFT_BODY",
           "type": "scatter3d",
           "x": [
            0.23724614,
            0.24468715
           ],
           "y": [
            -0.23078069,
            -0.3101823
           ],
           "z": [
            -1.0721678,
            -1.0829561
           ]
          },
          {
           "line": {
            "width": 10
           },
           "marker": {
            "size": 3
           },
           "mode": "lines+markers",
           "name": "RIGHT_BODY",
           "type": "scatter3d",
           "x": [
            0.27916923,
            0.27771103
           ],
           "y": [
            -0.22808823,
            -0.30683917
           ],
           "z": [
            -1.0589967,
            -1.072579
           ]
          },
          {
           "line": {
            "width": 10
           },
           "marker": {
            "size": 3
           },
           "mode": "lines+markers",
           "name": "LEFT_THIGH",
           "type": "scatter3d",
           "x": [
            0.24468715,
            0.2274306
           ],
           "y": [
            -0.3101823,
            -0.37485796
           ],
           "z": [
            -1.0829561,
            -1.0607625
           ]
          },
          {
           "line": {
            "width": 10
           },
           "marker": {
            "size": 3
           },
           "mode": "lines+markers",
           "name": "RIGHT_THIGH",
           "type": "scatter3d",
           "x": [
            0.27771103,
            0.28750992
           ],
           "y": [
            -0.30683917,
            -0.36770794
           ],
           "z": [
            -1.072579,
            -1.0439563
           ]
          },
          {
           "line": {
            "width": 10
           },
           "marker": {
            "size": 3
           },
           "mode": "lines+markers",
           "name": "LEFT_LOWER_LEG",
           "type": "scatter3d",
           "x": [
            0.2274306,
            0.21140055
           ],
           "y": [
            -0.37485796,
            -0.43522522
           ],
           "z": [
            -1.0607625,
            -1.042797
           ]
          },
          {
           "line": {
            "width": 10
           },
           "marker": {
            "size": 3
           },
           "mode": "lines+markers",
           "name": "RIGHT_LOWER_LEG",
           "type": "scatter3d",
           "x": [
            0.28750992,
            0.29615873
           ],
           "y": [
            -0.36770794,
            -0.42536676
           ],
           "z": [
            -1.0439563,
            -1.023546
           ]
          }
         ],
         "layout": {
          "title": {
           "text": "frame:125"
          }
         },
         "name": "125"
        },
        {
         "data": [
          {
           "line": {
            "width": 10
           },
           "marker": {
            "size": 3
           },
           "mode": "lines+markers",
           "name": "CLUB",
           "type": "scatter3d",
           "x": [
            0.23787634,
            0.19790603
           ],
           "y": [
            -0.33558536,
            -0.41202724
           ],
           "z": [
            -1.0091213,
            -0.86370504
           ]
          },
          {
           "line": {
            "width": 10
           },
           "marker": {
            "size": 3
           },
           "mode": "lines+markers",
           "name": "EYE",
           "type": "scatter3d",
           "x": [
            0.25683323,
            0.26592532
           ],
           "y": [
            -0.20933032,
            -0.20927778
           ],
           "z": [
            -1.0459586,
            -1.0474514
           ]
          },
          {
           "line": {
            "width": 10
           },
           "marker": {
            "size": 3
           },
           "mode": "lines+markers",
           "name": "SHOULDER",
           "type": "scatter3d",
           "x": [
            0.23710321,
            0.27859443
           ],
           "y": [
            -0.23174109,
            -0.22914971
           ],
           "z": [
            -1.0702895,
            -1.0601665
           ]
          },
          {
           "line": {
            "width": 10
           },
           "marker": {
            "size": 3
           },
           "mode": "lines+markers",
           "name": "LEFT_UPPER_ARM",
           "type": "scatter3d",
           "x": [
            0.23710321,
            0.23485066
           ],
           "y": [
            -0.23174109,
            -0.27862152
           ],
           "z": [
            -1.0702895,
            -1.0580983
           ]
          },
          {
           "line": {
            "width": 10
           },
           "marker": {
            "size": 3
           },
           "mode": "lines+markers",
           "name": "RIGHT_UPPER_ARM",
           "type": "scatter3d",
           "x": [
            0.27859443,
            0.2671274
           ],
           "y": [
            -0.22914971,
            -0.27253696
           ],
           "z": [
            -1.0601665,
            -1.0337961
           ]
          },
          {
           "line": {
            "width": 10
           },
           "marker": {
            "size": 3
           },
           "mode": "lines+markers",
           "name": "LEFT_FOREARM",
           "type": "scatter3d",
           "x": [
            0.23485066,
            0.2414813
           ],
           "y": [
            -0.27862152,
            -0.31628403
           ],
           "z": [
            -1.0580983,
            -1.0326431
           ]
          },
          {
           "line": {
            "width": 10
           },
           "marker": {
            "size": 3
           },
           "mode": "lines+markers",
           "name": "RIGHT_FOREARM",
           "type": "scatter3d",
           "x": [
            0.2671274,
            0.24794756
           ],
           "y": [
            -0.27253696,
            -0.3100475
           ],
           "z": [
            -1.0337961,
            -1.0239127
           ]
          },
          {
           "line": {
            "width": 10
           },
           "marker": {
            "size": 3
           },
           "mode": "lines+markers",
           "name": "HIP",
           "type": "scatter3d",
           "x": [
            0.24522814,
            0.27810293
           ],
           "y": [
            -0.31057572,
            -0.30714563
           ],
           "z": [
            -1.0841408,
            -1.0757481
           ]
          },
          {
           "line": {
            "width": 10
           },
           "marker": {
            "size": 3
           },
           "mode": "lines+markers",
           "name": "LEFT_BODY",
           "type": "scatter3d",
           "x": [
            0.23710321,
            0.24522814
           ],
           "y": [
            -0.23174109,
            -0.31057572
           ],
           "z": [
            -1.0702895,
            -1.0841408
           ]
          },
          {
           "line": {
            "width": 10
           },
           "marker": {
            "size": 3
           },
           "mode": "lines+markers",
           "name": "RIGHT_BODY",
           "type": "scatter3d",
           "x": [
            0.27859443,
            0.27810293
           ],
           "y": [
            -0.22914971,
            -0.30714563
           ],
           "z": [
            -1.0601665,
            -1.0757481
           ]
          },
          {
           "line": {
            "width": 10
           },
           "marker": {
            "size": 3
           },
           "mode": "lines+markers",
           "name": "LEFT_THIGH",
           "type": "scatter3d",
           "x": [
            0.24522814,
            0.22751473
           ],
           "y": [
            -0.31057572,
            -0.3748622
           ],
           "z": [
            -1.0841408,
            -1.0591214
           ]
          },
          {
           "line": {
            "width": 10
           },
           "marker": {
            "size": 3
           },
           "mode": "lines+markers",
           "name": "RIGHT_THIGH",
           "type": "scatter3d",
           "x": [
            0.27810293,
            0.28731105
           ],
           "y": [
            -0.30714563,
            -0.36744773
           ],
           "z": [
            -1.0757481,
            -1.0441134
           ]
          },
          {
           "line": {
            "width": 10
           },
           "marker": {
            "size": 3
           },
           "mode": "lines+markers",
           "name": "LEFT_LOWER_LEG",
           "type": "scatter3d",
           "x": [
            0.22751473,
            0.21112756
           ],
           "y": [
            -0.3748622,
            -0.43650767
           ],
           "z": [
            -1.0591214,
            -1.0440773
           ]
          },
          {
           "line": {
            "width": 10
           },
           "marker": {
            "size": 3
           },
           "mode": "lines+markers",
           "name": "RIGHT_LOWER_LEG",
           "type": "scatter3d",
           "x": [
            0.28731105,
            0.2956954
           ],
           "y": [
            -0.36744773,
            -0.42494613
           ],
           "z": [
            -1.0441134,
            -1.0235094
           ]
          }
         ],
         "layout": {
          "title": {
           "text": "frame:130"
          }
         },
         "name": "130"
        },
        {
         "data": [
          {
           "line": {
            "width": 10
           },
           "marker": {
            "size": 3
           },
           "mode": "lines+markers",
           "name": "CLUB",
           "type": "scatter3d",
           "x": [
            0.23797308,
            0.19793668
           ],
           "y": [
            -0.3356544,
            -0.4118324
           ],
           "z": [
            -1.0092324,
            -0.86345845
           ]
          },
          {
           "line": {
            "width": 10
           },
           "marker": {
            "size": 3
           },
           "mode": "lines+markers",
           "name": "EYE",
           "type": "scatter3d",
           "x": [
            0.25502703,
            0.26464963
           ],
           "y": [
            -0.2097179,
            -0.20953032
           ],
           "z": [
            -1.0474364,
            -1.0483271
           ]
          },
          {
           "line": {
            "width": 10
           },
           "marker": {
            "size": 3
           },
           "mode": "lines+markers",
           "name": "SHOULDER",
           "type": "scatter3d",
           "x": [
            0.23616733,
            0.28054395
           ],
           "y": [
            -0.23143953,
            -0.22837716
           ],
           "z": [
            -1.0736884,
            -1.0571839
           ]
          },
          {
           "line": {
            "width": 10
           },
           "marker": {
            "size": 3
           },
           "mode": "lines+markers",
           "name": "LEFT_UPPER_ARM",
           "type": "scatter3d",
           "x": [
            0.23616733,
            0.2357106
           ],
           "y": [
            -0.23143953,
            -0.27577856
           ],
           "z": [
            -1.0736884,
            -1.0569515
           ]
          },
          {
           "line": {
            "width": 10
           },
           "marker": {
            "size": 3
           },
           "mode": "lines+markers",
           "name": "RIGHT_UPPER_ARM",
           "type": "scatter3d",
           "x": [
            0.28054395,
            0.26734126
           ],
           "y": [
            -0.22837716,
            -0.2703231
           ],
           "z": [
            -1.0571839,
            -1.0320693
           ]
          },
          {
           "line": {
            "width": 10
           },
           "marker": {
            "size": 3
           },
           "mode": "lines+markers",
           "name": "LEFT_FOREARM",
           "type": "scatter3d",
           "x": [
            0.2357106,
            0.24253803
           ],
           "y": [
            -0.27577856,
            -0.3150204
           ],
           "z": [
            -1.0569515,
            -1.0359741
           ]
          },
          {
           "line": {
            "width": 10
           },
           "marker": {
            "size": 3
           },
           "mode": "lines+markers",
           "name": "RIGHT_FOREARM",
           "type": "scatter3d",
           "x": [
            0.26734126,
            0.2484275
           ],
           "y": [
            -0.2703231,
            -0.3069756
           ],
           "z": [
            -1.0320693,
            -1.0216823
           ]
          },
          {
           "line": {
            "width": 10
           },
           "marker": {
            "size": 3
           },
           "mode": "lines+markers",
           "name": "HIP",
           "type": "scatter3d",
           "x": [
            0.24357939,
            0.27827576
           ],
           "y": [
            -0.31204668,
            -0.30827934
           ],
           "z": [
            -1.083756,
            -1.0711154
           ]
          },
          {
           "line": {
            "width": 10
           },
           "marker": {
            "size": 3
           },
           "mode": "lines+markers",
           "name": "LEFT_BODY",
           "type": "scatter3d",
           "x": [
            0.23616733,
            0.24357939
           ],
           "y": [
            -0.23143953,
            -0.31204668
           ],
           "z": [
            -1.0736884,
            -1.083756
           ]
          },
          {
           "line": {
            "width": 10
           },
           "marker": {
            "size": 3
           },
           "mode": "lines+markers",
           "name": "RIGHT_BODY",
           "type": "scatter3d",
           "x": [
            0.28054395,
            0.27827576
           ],
           "y": [
            -0.22837716,
            -0.30827934
           ],
           "z": [
            -1.0571839,
            -1.0711154
           ]
          },
          {
           "line": {
            "width": 10
           },
           "marker": {
            "size": 3
           },
           "mode": "lines+markers",
           "name": "LEFT_THIGH",
           "type": "scatter3d",
           "x": [
            0.24357939,
            0.22561085
           ],
           "y": [
            -0.31204668,
            -0.37591606
           ],
           "z": [
            -1.083756,
            -1.0627118
           ]
          },
          {
           "line": {
            "width": 10
           },
           "marker": {
            "size": 3
           },
           "mode": "lines+markers",
           "name": "RIGHT_THIGH",
           "type": "scatter3d",
           "x": [
            0.27827576,
            0.2890709
           ],
           "y": [
            -0.30827934,
            -0.367725
           ],
           "z": [
            -1.0711154,
            -1.0417435
           ]
          },
          {
           "line": {
            "width": 10
           },
           "marker": {
            "size": 3
           },
           "mode": "lines+markers",
           "name": "LEFT_LOWER_LEG",
           "type": "scatter3d",
           "x": [
            0.22561085,
            0.2108015
           ],
           "y": [
            -0.37591606,
            -0.43563235
           ],
           "z": [
            -1.0627118,
            -1.0433326
           ]
          },
          {
           "line": {
            "width": 10
           },
           "marker": {
            "size": 3
           },
           "mode": "lines+markers",
           "name": "RIGHT_LOWER_LEG",
           "type": "scatter3d",
           "x": [
            0.2890709,
            0.2953602
           ],
           "y": [
            -0.367725,
            -0.426634
           ],
           "z": [
            -1.0417435,
            -1.0243105
           ]
          }
         ],
         "layout": {
          "title": {
           "text": "frame:135"
          }
         },
         "name": "135"
        },
        {
         "data": [
          {
           "line": {
            "width": 10
           },
           "marker": {
            "size": 3
           },
           "mode": "lines+markers",
           "name": "CLUB",
           "type": "scatter3d",
           "x": [
            0.2380248,
            0.19806045
           ],
           "y": [
            -0.3357049,
            -0.41175368
           ],
           "z": [
            -1.00893,
            -0.8635351
           ]
          },
          {
           "line": {
            "width": 10
           },
           "marker": {
            "size": 3
           },
           "mode": "lines+markers",
           "name": "EYE",
           "type": "scatter3d",
           "x": [
            0.2545569,
            0.26484263
           ],
           "y": [
            -0.21066813,
            -0.21016388
           ],
           "z": [
            -1.0493693,
            -1.0490682
           ]
          },
          {
           "line": {
            "width": 10
           },
           "marker": {
            "size": 3
           },
           "mode": "lines+markers",
           "name": "SHOULDER",
           "type": "scatter3d",
           "x": [
            0.2358437,
            0.2803338
           ],
           "y": [
            -0.23172726,
            -0.22842476
           ],
           "z": [
            -1.0736414,
            -1.0570332
           ]
          },
          {
           "line": {
            "width": 10
           },
           "marker": {
            "size": 3
           },
           "mode": "lines+markers",
           "name": "LEFT_UPPER_ARM",
           "type": "scatter3d",
           "x": [
            0.2358437,
            0.2348946
           ],
           "y": [
            -0.23172726,
            -0.2766031
           ],
           "z": [
            -1.0736414,
            -1.0575933
           ]
          },
          {
           "line": {
            "width": 10
           },
           "marker": {
            "size": 3
           },
           "mode": "lines+markers",
           "name": "RIGHT_UPPER_ARM",
           "type": "scatter3d",
           "x": [
            0.2803338,
            0.26734033
           ],
           "y": [
            -0.22842476,
            -0.2707074
           ],
           "z": [
            -1.0570332,
            -1.03144
           ]
          },
          {
           "line": {
            "width": 10
           },
           "marker": {
            "size": 3
           },
           "mode": "lines+markers",
           "name": "LEFT_FOREARM",
           "type": "scatter3d",
           "x": [
            0.2348946,
            0.24206871
           ],
           "y": [
            -0.2766031,
            -0.31517646
           ],
           "z": [
            -1.0575933,
            -1.036739
           ]
          },
          {
           "line": {
            "width": 10
           },
           "marker": {
            "size": 3
           },
           "mode": "lines+markers",
           "name": "RIGHT_FOREARM",
           "type": "scatter3d",
           "x": [
            0.26734033,
            0.24762547
           ],
           "y": [
            -0.2707074,
            -0.3076694
           ],
           "z": [
            -1.03144,
            -1.0224128
           ]
          },
          {
           "line": {
            "width": 10
           },
           "marker": {
            "size": 3
           },
           "mode": "lines+markers",
           "name": "HIP",
           "type": "scatter3d",
           "x": [
            0.24361269,
            0.2783055
           ],
           "y": [
            -0.31101412,
            -0.30714568
           ],
           "z": [
            -1.0842553,
            -1.0716082
           ]
          },
          {
           "line": {
            "width": 10
           },
           "marker": {
            "size": 3
           },
           "mode": "lines+markers",
           "name": "LEFT_BODY",
           "type": "scatter3d",
           "x": [
            0.2358437,
            0.24361269
           ],
           "y": [
            -0.23172726,
            -0.31101412
           ],
           "z": [
            -1.0736414,
            -1.0842553
           ]
          },
          {
           "line": {
            "width": 10
           },
           "marker": {
            "size": 3
           },
           "mode": "lines+markers",
           "name": "RIGHT_BODY",
           "type": "scatter3d",
           "x": [
            0.2803338,
            0.2783055
           ],
           "y": [
            -0.22842476,
            -0.30714568
           ],
           "z": [
            -1.0570332,
            -1.0716082
           ]
          },
          {
           "line": {
            "width": 10
           },
           "marker": {
            "size": 3
           },
           "mode": "lines+markers",
           "name": "LEFT_THIGH",
           "type": "scatter3d",
           "x": [
            0.24361269,
            0.22585265
           ],
           "y": [
            -0.31101412,
            -0.37576282
           ],
           "z": [
            -1.0842553,
            -1.0631833
           ]
          },
          {
           "line": {
            "width": 10
           },
           "marker": {
            "size": 3
           },
           "mode": "lines+markers",
           "name": "RIGHT_THIGH",
           "type": "scatter3d",
           "x": [
            0.2783055,
            0.28850466
           ],
           "y": [
            -0.30714568,
            -0.3676662
           ],
           "z": [
            -1.0716082,
            -1.0428847
           ]
          },
          {
           "line": {
            "width": 10
           },
           "marker": {
            "size": 3
           },
           "mode": "lines+markers",
           "name": "LEFT_LOWER_LEG",
           "type": "scatter3d",
           "x": [
            0.22585265,
            0.21170846
           ],
           "y": [
            -0.37576282,
            -0.43545166
           ],
           "z": [
            -1.0631833,
            -1.0424517
           ]
          },
          {
           "line": {
            "width": 10
           },
           "marker": {
            "size": 3
           },
           "mode": "lines+markers",
           "name": "RIGHT_LOWER_LEG",
           "type": "scatter3d",
           "x": [
            0.28850466,
            0.2949635
           ],
           "y": [
            -0.3676662,
            -0.4267908
           ],
           "z": [
            -1.0428847,
            -1.0246356
           ]
          }
         ],
         "layout": {
          "title": {
           "text": "frame:140"
          }
         },
         "name": "140"
        },
        {
         "data": [
          {
           "line": {
            "width": 10
           },
           "marker": {
            "size": 3
           },
           "mode": "lines+markers",
           "name": "CLUB",
           "type": "scatter3d",
           "x": [
            0.23797795,
            0.19810851
           ],
           "y": [
            -0.3357509,
            -0.41176903
           ],
           "z": [
            -1.0090206,
            -0.8634794
           ]
          },
          {
           "line": {
            "width": 10
           },
           "marker": {
            "size": 3
           },
           "mode": "lines+markers",
           "name": "EYE",
           "type": "scatter3d",
           "x": [
            0.25481158,
            0.2645478
           ],
           "y": [
            -0.21067885,
            -0.21029948
           ],
           "z": [
            -1.0481703,
            -1.0485141
           ]
          },
          {
           "line": {
            "width": 10
           },
           "marker": {
            "size": 3
           },
           "mode": "lines+markers",
           "name": "SHOULDER",
           "type": "scatter3d",
           "x": [
            0.23622924,
            0.28023207
           ],
           "y": [
            -0.23173694,
            -0.22813438
           ],
           "z": [
            -1.0738351,
            -1.0570925
           ]
          },
          {
           "line": {
            "width": 10
           },
           "marker": {
            "size": 3
           },
           "mode": "lines+markers",
           "name": "LEFT_UPPER_ARM",
           "type": "scatter3d",
           "x": [
            0.23622924,
            0.23548755
           ],
           "y": [
            -0.23173694,
            -0.27644235
           ],
           "z": [
            -1.0738351,
            -1.05674
           ]
          },
          {
           "line": {
            "width": 10
           },
           "marker": {
            "size": 3
           },
           "mode": "lines+markers",
           "name": "RIGHT_UPPER_ARM",
           "type": "scatter3d",
           "x": [
            0.28023207,
            0.2671066
           ],
           "y": [
            -0.22813438,
            -0.27039444
           ],
           "z": [
            -1.0570925,
            -1.0315155
           ]
          },
          {
           "line": {
            "width": 10
           },
           "marker": {
            "size": 3
           },
           "mode": "lines+markers",
           "name": "LEFT_FOREARM",
           "type": "scatter3d",
           "x": [
            0.23548755,
            0.24275124
           ],
           "y": [
            -0.27644235,
            -0.31460166
           ],
           "z": [
            -1.05674,
            -1.0353551
           ]
          },
          {
           "line": {
            "width": 10
           },
           "marker": {
            "size": 3
           },
           "mode": "lines+markers",
           "name": "RIGHT_FOREARM",
           "type": "scatter3d",
           "x": [
            0.2671066,
            0.24674092
           ],
           "y": [
            -0.27039444,
            -0.30827323
           ],
           "z": [
            -1.0315155,
            -1.0228038
           ]
          },
          {
           "line": {
            "width": 10
           },
           "marker": {
            "size": 3
           },
           "mode": "lines+markers",
           "name": "HIP",
           "type": "scatter3d",
           "x": [
            0.2436714,
            0.27812704
           ],
           "y": [
            -0.31107786,
            -0.30701804
           ],
           "z": [
            -1.0844922,
            -1.0715723
           ]
          },
          {
           "line": {
            "width": 10
           },
           "marker": {
            "size": 3
           },
           "mode": "lines+markers",
           "name": "LEFT_BODY",
           "type": "scatter3d",
           "x": [
            0.23622924,
            0.2436714
           ],
           "y": [
            -0.23173694,
            -0.31107786
           ],
           "z": [
            -1.0738351,
            -1.0844922
           ]
          },
          {
           "line": {
            "width": 10
           },
           "marker": {
            "size": 3
           },
           "mode": "lines+markers",
           "name": "RIGHT_BODY",
           "type": "scatter3d",
           "x": [
            0.28023207,
            0.27812704
           ],
           "y": [
            -0.22813438,
            -0.30701804
           ],
           "z": [
            -1.0570925,
            -1.0715723
           ]
          },
          {
           "line": {
            "width": 10
           },
           "marker": {
            "size": 3
           },
           "mode": "lines+markers",
           "name": "LEFT_THIGH",
           "type": "scatter3d",
           "x": [
            0.2436714,
            0.22533502
           ],
           "y": [
            -0.31107786,
            -0.3758605
           ],
           "z": [
            -1.0844922,
            -1.0643256
           ]
          },
          {
           "line": {
            "width": 10
           },
           "marker": {
            "size": 3
           },
           "mode": "lines+markers",
           "name": "RIGHT_THIGH",
           "type": "scatter3d",
           "x": [
            0.27812704,
            0.28831673
           ],
           "y": [
            -0.30701804,
            -0.367048
           ],
           "z": [
            -1.0715723,
            -1.0428387
           ]
          },
          {
           "line": {
            "width": 10
           },
           "marker": {
            "size": 3
           },
           "mode": "lines+markers",
           "name": "LEFT_LOWER_LEG",
           "type": "scatter3d",
           "x": [
            0.22533502,
            0.21095884
           ],
           "y": [
            -0.3758605,
            -0.43614113
           ],
           "z": [
            -1.0643256,
            -1.0436791
           ]
          },
          {
           "line": {
            "width": 10
           },
           "marker": {
            "size": 3
           },
           "mode": "lines+markers",
           "name": "RIGHT_LOWER_LEG",
           "type": "scatter3d",
           "x": [
            0.28831673,
            0.29490688
           ],
           "y": [
            -0.367048,
            -0.42654037
           ],
           "z": [
            -1.0428387,
            -1.0248526
           ]
          }
         ],
         "layout": {
          "title": {
           "text": "frame:145"
          }
         },
         "name": "145"
        },
        {
         "data": [
          {
           "line": {
            "width": 10
           },
           "marker": {
            "size": 3
           },
           "mode": "lines+markers",
           "name": "CLUB",
           "type": "scatter3d",
           "x": [
            0.23793961,
            0.19809246
           ],
           "y": [
            -0.33588287,
            -0.41177666
           ],
           "z": [
            -1.0089989,
            -0.86350495
           ]
          },
          {
           "line": {
            "width": 10
           },
           "marker": {
            "size": 3
           },
           "mode": "lines+markers",
           "name": "EYE",
           "type": "scatter3d",
           "x": [
            0.25399327,
            0.26422235
           ],
           "y": [
            -0.21053988,
            -0.21005021
           ],
           "z": [
            -1.0476315,
            -1.0473421
           ]
          },
          {
           "line": {
            "width": 10
           },
           "marker": {
            "size": 3
           },
           "mode": "lines+markers",
           "name": "SHOULDER",
           "type": "scatter3d",
           "x": [
            0.23597647,
            0.27977914
           ],
           "y": [
            -0.23158441,
            -0.22807129
           ],
           "z": [
            -1.0745859,
            -1.057168
           ]
          },
          {
           "line": {
            "width": 10
           },
           "marker": {
            "size": 3
           },
           "mode": "lines+markers",
           "name": "LEFT_UPPER_ARM",
           "type": "scatter3d",
           "x": [
            0.23597647,
            0.23516126
           ],
           "y": [
            -0.23158441,
            -0.2760613
           ],
           "z": [
            -1.0745859,
            -1.0569066
           ]
          },
          {
           "line": {
            "width": 10
           },
           "marker": {
            "size": 3
           },
           "mode": "lines+markers",
           "name": "RIGHT_UPPER_ARM",
           "type": "scatter3d",
           "x": [
            0.27977914,
            0.26649433
           ],
           "y": [
            -0.22807129,
            -0.2702532
           ],
           "z": [
            -1.057168,
            -1.0309224
           ]
          },
          {
           "line": {
            "width": 10
           },
           "marker": {
            "size": 3
           },
           "mode": "lines+markers",
           "name": "LEFT_FOREARM",
           "type": "scatter3d",
           "x": [
            0.23516126,
            0.2424044
           ],
           "y": [
            -0.2760613,
            -0.3146111
           ],
           "z": [
            -1.0569066,
            -1.0361627
           ]
          },
          {
           "line": {
            "width": 10
           },
           "marker": {
            "size": 3
           },
           "mode": "lines+markers",
           "name": "RIGHT_FOREARM",
           "type": "scatter3d",
           "x": [
            0.26649433,
            0.24735615
           ],
           "y": [
            -0.2702532,
            -0.30764198
           ],
           "z": [
            -1.0309224,
            -1.0210708
           ]
          },
          {
           "line": {
            "width": 10
           },
           "marker": {
            "size": 3
           },
           "mode": "lines+markers",
           "name": "HIP",
           "type": "scatter3d",
           "x": [
            0.24357256,
            0.2778498
           ],
           "y": [
            -0.31044737,
            -0.30639988
           ],
           "z": [
            -1.0847954,
            -1.0714976
           ]
          },
          {
           "line": {
            "width": 10
           },
           "marker": {
            "size": 3
           },
           "mode": "lines+markers",
           "name": "LEFT_BODY",
           "type": "scatter3d",
           "x": [
            0.23597647,
            0.24357256
           ],
           "y": [
            -0.23158441,
            -0.31044737
           ],
           "z": [
            -1.0745859,
            -1.0847954
           ]
          },
          {
           "line": {
            "width": 10
           },
           "marker": {
            "size": 3
           },
           "mode": "lines+markers",
           "name": "RIGHT_BODY",
           "type": "scatter3d",
           "x": [
            0.27977914,
            0.2778498
           ],
           "y": [
            -0.22807129,
            -0.30639988
           ],
           "z": [
            -1.057168,
            -1.0714976
           ]
          },
          {
           "line": {
            "width": 10
           },
           "marker": {
            "size": 3
           },
           "mode": "lines+markers",
           "name": "LEFT_THIGH",
           "type": "scatter3d",
           "x": [
            0.24357256,
            0.22612648
           ],
           "y": [
            -0.31044737,
            -0.37535098
           ],
           "z": [
            -1.0847954,
            -1.063991
           ]
          },
          {
           "line": {
            "width": 10
           },
           "marker": {
            "size": 3
           },
           "mode": "lines+markers",
           "name": "RIGHT_THIGH",
           "type": "scatter3d",
           "x": [
            0.2778498,
            0.2883002
           ],
           "y": [
            -0.30639988,
            -0.36684665
           ],
           "z": [
            -1.0714976,
            -1.0426832
           ]
          },
          {
           "line": {
            "width": 10
           },
           "marker": {
            "size": 3
           },
           "mode": "lines+markers",
           "name": "LEFT_LOWER_LEG",
           "type": "scatter3d",
           "x": [
            0.22612648,
            0.21143694
           ],
           "y": [
            -0.37535098,
            -0.4353948
           ],
           "z": [
            -1.063991,
            -1.043017
           ]
          },
          {
           "line": {
            "width": 10
           },
           "marker": {
            "size": 3
           },
           "mode": "lines+markers",
           "name": "RIGHT_LOWER_LEG",
           "type": "scatter3d",
           "x": [
            0.2883002,
            0.2945983
           ],
           "y": [
            -0.36684665,
            -0.42632636
           ],
           "z": [
            -1.0426832,
            -1.0246004
           ]
          }
         ],
         "layout": {
          "title": {
           "text": "frame:150"
          }
         },
         "name": "150"
        },
        {
         "data": [
          {
           "line": {
            "width": 10
           },
           "marker": {
            "size": 3
           },
           "mode": "lines+markers",
           "name": "CLUB",
           "type": "scatter3d",
           "x": [
            0.23785977,
            0.1980196
           ],
           "y": [
            -0.3358988,
            -0.4118785
           ],
           "z": [
            -1.0090202,
            -0.8636841
           ]
          },
          {
           "line": {
            "width": 10
           },
           "marker": {
            "size": 3
           },
           "mode": "lines+markers",
           "name": "EYE",
           "type": "scatter3d",
           "x": [
            0.25767654,
            0.26596427
           ],
           "y": [
            -0.2089641,
            -0.20907097
           ],
           "z": [
            -1.0414907,
            -1.0439218
           ]
          },
          {
           "line": {
            "width": 10
           },
           "marker": {
            "size": 3
           },
           "mode": "lines+markers",
           "name": "SHOULDER",
           "type": "scatter3d",
           "x": [
            0.23734006,
            0.27768487
           ],
           "y": [
            -0.23209575,
            -0.22948909
           ],
           "z": [
            -1.07065,
            -1.0604534
           ]
          },
          {
           "line": {
            "width": 10
           },
           "marker": {
            "size": 3
           },
           "mode": "lines+markers",
           "name": "LEFT_UPPER_ARM",
           "type": "scatter3d",
           "x": [
            0.23734006,
            0.23479772
           ],
           "y": [
            -0.23209575,
            -0.2782906
           ],
           "z": [
            -1.07065,
            -1.0586778
           ]
          },
          {
           "line": {
            "width": 10
           },
           "marker": {
            "size": 3
           },
           "mode": "lines+markers",
           "name": "RIGHT_UPPER_ARM",
           "type": "scatter3d",
           "x": [
            0.27768487,
            0.2660944
           ],
           "y": [
            -0.22948909,
            -0.27200112
           ],
           "z": [
            -1.0604534,
            -1.0326284
           ]
          },
          {
           "line": {
            "width": 10
           },
           "marker": {
            "size": 3
           },
           "mode": "lines+markers",
           "name": "LEFT_FOREARM",
           "type": "scatter3d",
           "x": [
            0.23479772,
            0.24140243
           ],
           "y": [
            -0.2782906,
            -0.31507754
           ],
           "z": [
            -1.0586778,
            -1.0329053
           ]
          },
          {
           "line": {
            "width": 10
           },
           "marker": {
            "size": 3
           },
           "mode": "lines+markers",
           "name": "RIGHT_FOREARM",
           "type": "scatter3d",
           "x": [
            0.2660944,
            0.24721538
           ],
           "y": [
            -0.27200112,
            -0.3095405
           ],
           "z": [
            -1.0326284,
            -1.0228561
           ]
          },
          {
           "line": {
            "width": 10
           },
           "marker": {
            "size": 3
           },
           "mode": "lines+markers",
           "name": "HIP",
           "type": "scatter3d",
           "x": [
            0.24543615,
            0.27763167
           ],
           "y": [
            -0.31011027,
            -0.30663392
           ],
           "z": [
            -1.0832201,
            -1.0747268
           ]
          },
          {
           "line": {
            "width": 10
           },
           "marker": {
            "size": 3
           },
           "mode": "lines+markers",
           "name": "LEFT_BODY",
           "type": "scatter3d",
           "x": [
            0.23734006,
            0.24543615
           ],
           "y": [
            -0.23209575,
            -0.31011027
           ],
           "z": [
            -1.07065,
            -1.0832201
           ]
          },
          {
           "line": {
            "width": 10
           },
           "marker": {
            "size": 3
           },
           "mode": "lines+markers",
           "name": "RIGHT_BODY",
           "type": "scatter3d",
           "x": [
            0.27768487,
            0.27763167
           ],
           "y": [
            -0.22948909,
            -0.30663392
           ],
           "z": [
            -1.0604534,
            -1.0747268
           ]
          },
          {
           "line": {
            "width": 10
           },
           "marker": {
            "size": 3
           },
           "mode": "lines+markers",
           "name": "LEFT_THIGH",
           "type": "scatter3d",
           "x": [
            0.24543615,
            0.22752705
           ],
           "y": [
            -0.31011027,
            -0.37469268
           ],
           "z": [
            -1.0832201,
            -1.0591944
           ]
          },
          {
           "line": {
            "width": 10
           },
           "marker": {
            "size": 3
           },
           "mode": "lines+markers",
           "name": "RIGHT_THIGH",
           "type": "scatter3d",
           "x": [
            0.27763167,
            0.28723955
           ],
           "y": [
            -0.30663392,
            -0.36698583
           ],
           "z": [
            -1.0747268,
            -1.0436027
           ]
          },
          {
           "line": {
            "width": 10
           },
           "marker": {
            "size": 3
           },
           "mode": "lines+markers",
           "name": "LEFT_LOWER_LEG",
           "type": "scatter3d",
           "x": [
            0.22752705,
            0.21057536
           ],
           "y": [
            -0.37469268,
            -0.43637085
           ],
           "z": [
            -1.0591944,
            -1.0445241
           ]
          },
          {
           "line": {
            "width": 10
           },
           "marker": {
            "size": 3
           },
           "mode": "lines+markers",
           "name": "RIGHT_LOWER_LEG",
           "type": "scatter3d",
           "x": [
            0.28723955,
            0.29560885
           ],
           "y": [
            -0.36698583,
            -0.42442095
           ],
           "z": [
            -1.0436027,
            -1.0230051
           ]
          }
         ],
         "layout": {
          "title": {
           "text": "frame:155"
          }
         },
         "name": "155"
        },
        {
         "data": [
          {
           "line": {
            "width": 10
           },
           "marker": {
            "size": 3
           },
           "mode": "lines+markers",
           "name": "CLUB",
           "type": "scatter3d",
           "x": [
            0.23802835,
            0.19800249
           ],
           "y": [
            -0.3357773,
            -0.41175625
           ],
           "z": [
            -1.0087637,
            -0.8634114
           ]
          },
          {
           "line": {
            "width": 10
           },
           "marker": {
            "size": 3
           },
           "mode": "lines+markers",
           "name": "EYE",
           "type": "scatter3d",
           "x": [
            0.25846383,
            0.26685834
           ],
           "y": [
            -0.20837344,
            -0.20837842
           ],
           "z": [
            -1.0397013,
            -1.0420252
           ]
          },
          {
           "line": {
            "width": 10
           },
           "marker": {
            "size": 3
           },
           "mode": "lines+markers",
           "name": "SHOULDER",
           "type": "scatter3d",
           "x": [
            0.23686181,
            0.2780217
           ],
           "y": [
            -0.23243843,
            -0.22926229
           ],
           "z": [
            -1.07072,
            -1.060026
           ]
          },
          {
           "line": {
            "width": 10
           },
           "marker": {
            "size": 3
           },
           "mode": "lines+markers",
           "name": "LEFT_UPPER_ARM",
           "type": "scatter3d",
           "x": [
            0.23686181,
            0.23415639
           ],
           "y": [
            -0.23243843,
            -0.27933493
           ],
           "z": [
            -1.07072,
            -1.0591084
           ]
          },
          {
           "line": {
            "width": 10
           },
           "marker": {
            "size": 3
           },
           "mode": "lines+markers",
           "name": "RIGHT_UPPER_ARM",
           "type": "scatter3d",
           "x": [
            0.2780217,
            0.26637685
           ],
           "y": [
            -0.22926229,
            -0.2720595
           ],
           "z": [
            -1.060026,
            -1.0327357
           ]
          },
          {
           "line": {
            "width": 10
           },
           "marker": {
            "size": 3
           },
           "mode": "lines+markers",
           "name": "LEFT_FOREARM",
           "type": "scatter3d",
           "x": [
            0.23415639,
            0.24095762
           ],
           "y": [
            -0.27933493,
            -0.3158435
           ],
           "z": [
            -1.0591084,
            -1.0324895
           ]
          },
          {
           "line": {
            "width": 10
           },
           "marker": {
            "size": 3
           },
           "mode": "lines+markers",
           "name": "RIGHT_FOREARM",
           "type": "scatter3d",
           "x": [
            0.26637685,
            0.24658877
           ],
           "y": [
            -0.2720595,
            -0.30991235
           ],
           "z": [
            -1.0327357,
            -1.023367
           ]
          },
          {
           "line": {
            "width": 10
           },
           "marker": {
            "size": 3
           },
           "mode": "lines+markers",
           "name": "HIP",
           "type": "scatter3d",
           "x": [
            0.24555647,
            0.27825078
           ],
           "y": [
            -0.31006247,
            -0.30621278
           ],
           "z": [
            -1.0829654,
            -1.0741392
           ]
          },
          {
           "line": {
            "width": 10
           },
           "marker": {
            "size": 3
           },
           "mode": "lines+markers",
           "name": "LEFT_BODY",
           "type": "scatter3d",
           "x": [
            0.23686181,
            0.24555647
           ],
           "y": [
            -0.23243843,
            -0.31006247
           ],
           "z": [
            -1.07072,
            -1.0829654
           ]
          },
          {
           "line": {
            "width": 10
           },
           "marker": {
            "size": 3
           },
           "mode": "lines+markers",
           "name": "RIGHT_BODY",
           "type": "scatter3d",
           "x": [
            0.2780217,
            0.27825078
           ],
           "y": [
            -0.22926229,
            -0.30621278
           ],
           "z": [
            -1.060026,
            -1.0741392
           ]
          },
          {
           "line": {
            "width": 10
           },
           "marker": {
            "size": 3
           },
           "mode": "lines+markers",
           "name": "LEFT_THIGH",
           "type": "scatter3d",
           "x": [
            0.24555647,
            0.22813068
           ],
           "y": [
            -0.31006247,
            -0.37463015
           ],
           "z": [
            -1.0829654,
            -1.0582151
           ]
          },
          {
           "line": {
            "width": 10
           },
           "marker": {
            "size": 3
           },
           "mode": "lines+markers",
           "name": "RIGHT_THIGH",
           "type": "scatter3d",
           "x": [
            0.27825078,
            0.28804663
           ],
           "y": [
            -0.30621278,
            -0.36649418
           ],
           "z": [
            -1.0741392,
            -1.0425755
           ]
          },
          {
           "line": {
            "width": 10
           },
           "marker": {
            "size": 3
           },
           "mode": "lines+markers",
           "name": "LEFT_LOWER_LEG",
           "type": "scatter3d",
           "x": [
            0.22813068,
            0.21126394
           ],
           "y": [
            -0.37463015,
            -0.435806
           ],
           "z": [
            -1.0582151,
            -1.0429622
           ]
          },
          {
           "line": {
            "width": 10
           },
           "marker": {
            "size": 3
           },
           "mode": "lines+markers",
           "name": "RIGHT_LOWER_LEG",
           "type": "scatter3d",
           "x": [
            0.28804663,
            0.29575828
           ],
           "y": [
            -0.36649418,
            -0.42374167
           ],
           "z": [
            -1.0425755,
            -1.0223172
           ]
          }
         ],
         "layout": {
          "title": {
           "text": "frame:160"
          }
         },
         "name": "160"
        },
        {
         "data": [
          {
           "line": {
            "width": 10
           },
           "marker": {
            "size": 3
           },
           "mode": "lines+markers",
           "name": "CLUB",
           "type": "scatter3d",
           "x": [
            0.23788208,
            0.19802289
           ],
           "y": [
            -0.3358583,
            -0.4119437
           ],
           "z": [
            -1.0088185,
            -0.8634421
           ]
          },
          {
           "line": {
            "width": 10
           },
           "marker": {
            "size": 3
           },
           "mode": "lines+markers",
           "name": "EYE",
           "type": "scatter3d",
           "x": [
            0.25556514,
            0.26441857
           ],
           "y": [
            -0.21010955,
            -0.20998019
           ],
           "z": [
            -1.0441473,
            -1.0457866
           ]
          },
          {
           "line": {
            "width": 10
           },
           "marker": {
            "size": 3
           },
           "mode": "lines+markers",
           "name": "SHOULDER",
           "type": "scatter3d",
           "x": [
            0.23691298,
            0.27849466
           ],
           "y": [
            -0.23230234,
            -0.2287429
           ],
           "z": [
            -1.071626,
            -1.0596454
           ]
          },
          {
           "line": {
            "width": 10
           },
           "marker": {
            "size": 3
           },
           "mode": "lines+markers",
           "name": "LEFT_UPPER_ARM",
           "type": "scatter3d",
           "x": [
            0.23691298,
            0.23473051
           ],
           "y": [
            -0.23230234,
            -0.27951318
           ],
           "z": [
            -1.071626,
            -1.0586274
           ]
          },
          {
           "line": {
            "width": 10
           },
           "marker": {
            "size": 3
           },
           "mode": "lines+markers",
           "name": "RIGHT_UPPER_ARM",
           "type": "scatter3d",
           "x": [
            0.27849466,
            0.2661518
           ],
           "y": [
            -0.2287429,
            -0.2719522
           ],
           "z": [
            -1.0596454,
            -1.0325845
           ]
          },
          {
           "line": {
            "width": 10
           },
           "marker": {
            "size": 3
           },
           "mode": "lines+markers",
           "name": "LEFT_FOREARM",
           "type": "scatter3d",
           "x": [
            0.23473051,
            0.24152619
           ],
           "y": [
            -0.27951318,
            -0.31598124
           ],
           "z": [
            -1.0586274,
            -1.0319883
           ]
          },
          {
           "line": {
            "width": 10
           },
           "marker": {
            "size": 3
           },
           "mode": "lines+markers",
           "name": "RIGHT_FOREARM",
           "type": "scatter3d",
           "x": [
            0.2661518,
            0.24510664
           ],
           "y": [
            -0.2719522,
            -0.310217
           ],
           "z": [
            -1.0325845,
            -1.0257602
           ]
          },
          {
           "line": {
            "width": 10
           },
           "marker": {
            "size": 3
           },
           "mode": "lines+markers",
           "name": "HIP",
           "type": "scatter3d",
           "x": [
            0.24547638,
            0.2785261
           ],
           "y": [
            -0.30935335,
            -0.30532637
           ],
           "z": [
            -1.0845146,
            -1.0746624
           ]
          },
          {
           "line": {
            "width": 10
           },
           "marker": {
            "size": 3
           },
           "mode": "lines+markers",
           "name": "LEFT_BODY",
           "type": "scatter3d",
           "x": [
            0.23691298,
            0.24547638
           ],
           "y": [
            -0.23230234,
            -0.30935335
           ],
           "z": [
            -1.071626,
            -1.0845146
           ]
          },
          {
           "line": {
            "width": 10
           },
           "marker": {
            "size": 3
           },
           "mode": "lines+markers",
           "name": "RIGHT_BODY",
           "type": "scatter3d",
           "x": [
            0.27849466,
            0.2785261
           ],
           "y": [
            -0.2287429,
            -0.30532637
           ],
           "z": [
            -1.0596454,
            -1.0746624
           ]
          },
          {
           "line": {
            "width": 10
           },
           "marker": {
            "size": 3
           },
           "mode": "lines+markers",
           "name": "LEFT_THIGH",
           "type": "scatter3d",
           "x": [
            0.24547638,
            0.22783658
           ],
           "y": [
            -0.30935335,
            -0.3744538
           ],
           "z": [
            -1.0845146,
            -1.059235
           ]
          },
          {
           "line": {
            "width": 10
           },
           "marker": {
            "size": 3
           },
           "mode": "lines+markers",
           "name": "RIGHT_THIGH",
           "type": "scatter3d",
           "x": [
            0.2785261,
            0.28804412
           ],
           "y": [
            -0.30532637,
            -0.36623126
           ],
           "z": [
            -1.0746624,
            -1.0428233
           ]
          },
          {
           "line": {
            "width": 10
           },
           "marker": {
            "size": 3
           },
           "mode": "lines+markers",
           "name": "LEFT_LOWER_LEG",
           "type": "scatter3d",
           "x": [
            0.22783658,
            0.21113236
           ],
           "y": [
            -0.3744538,
            -0.4363674
           ],
           "z": [
            -1.059235,
            -1.0438563
           ]
          },
          {
           "line": {
            "width": 10
           },
           "marker": {
            "size": 3
           },
           "mode": "lines+markers",
           "name": "RIGHT_LOWER_LEG",
           "type": "scatter3d",
           "x": [
            0.28804412,
            0.29569396
           ],
           "y": [
            -0.36623126,
            -0.4244521
           ],
           "z": [
            -1.0428233,
            -1.022794
           ]
          }
         ],
         "layout": {
          "title": {
           "text": "frame:165"
          }
         },
         "name": "165"
        },
        {
         "data": [
          {
           "line": {
            "width": 10
           },
           "marker": {
            "size": 3
           },
           "mode": "lines+markers",
           "name": "CLUB",
           "type": "scatter3d",
           "x": [
            0.23786514,
            0.19849987
           ],
           "y": [
            -0.3358067,
            -0.41213313
           ],
           "z": [
            -1.0087762,
            -0.8627811
           ]
          },
          {
           "line": {
            "width": 10
           },
           "marker": {
            "size": 3
           },
           "mode": "lines+markers",
           "name": "EYE",
           "type": "scatter3d",
           "x": [
            0.2565862,
            0.26523313
           ],
           "y": [
            -0.20850681,
            -0.20837702
           ],
           "z": [
            -1.0425484,
            -1.0442426
           ]
          },
          {
           "line": {
            "width": 10
           },
           "marker": {
            "size": 3
           },
           "mode": "lines+markers",
           "name": "SHOULDER",
           "type": "scatter3d",
           "x": [
            0.23770523,
            0.2778432
           ],
           "y": [
            -0.23323095,
            -0.22988854
           ],
           "z": [
            -1.0706646,
            -1.0594314
           ]
          },
          {
           "line": {
            "width": 10
           },
           "marker": {
            "size": 3
           },
           "mode": "lines+markers",
           "name": "LEFT_UPPER_ARM",
           "type": "scatter3d",
           "x": [
            0.23770523,
            0.23067582
           ],
           "y": [
            -0.23323095,
            -0.2806983
           ],
           "z": [
            -1.0706646,
            -1.0652895
           ]
          },
          {
           "line": {
            "width": 10
           },
           "marker": {
            "size": 3
           },
           "mode": "lines+markers",
           "name": "RIGHT_UPPER_ARM",
           "type": "scatter3d",
           "x": [
            0.2778432,
            0.26710218
           ],
           "y": [
            -0.22988854,
            -0.27125987
           ],
           "z": [
            -1.0594314,
            -1.0315323
           ]
          },
          {
           "line": {
            "width": 10
           },
           "marker": {
            "size": 3
           },
           "mode": "lines+markers",
           "name": "LEFT_FOREARM",
           "type": "scatter3d",
           "x": [
            0.23067582,
            0.23882978
           ],
           "y": [
            -0.2806983,
            -0.315025
           ],
           "z": [
            -1.0652895,
            -1.036979
           ]
          },
          {
           "line": {
            "width": 10
           },
           "marker": {
            "size": 3
           },
           "mode": "lines+markers",
           "name": "RIGHT_FOREARM",
           "type": "scatter3d",
           "x": [
            0.26710218,
            0.24586868
           ],
           "y": [
            -0.27125987,
            -0.30952814
           ],
           "z": [
            -1.0315323,
            -1.0243955
           ]
          },
          {
           "line": {
            "width": 10
           },
           "marker": {
            "size": 3
           },
           "mode": "lines+markers",
           "name": "HIP",
           "type": "scatter3d",
           "x": [
            0.2453954,
            0.2777221
           ],
           "y": [
            -0.31158364,
            -0.30773124
           ],
           "z": [
            -1.084032,
            -1.0743127
           ]
          },
          {
           "line": {
            "width": 10
           },
           "marker": {
            "size": 3
           },
           "mode": "lines+markers",
           "name": "LEFT_BODY",
           "type": "scatter3d",
           "x": [
            0.23770523,
            0.2453954
           ],
           "y": [
            -0.23323095,
            -0.31158364
           ],
           "z": [
            -1.0706646,
            -1.084032
           ]
          },
          {
           "line": {
            "width": 10
           },
           "marker": {
            "size": 3
           },
           "mode": "lines+markers",
           "name": "RIGHT_BODY",
           "type": "scatter3d",
           "x": [
            0.2778432,
            0.2777221
           ],
           "y": [
            -0.22988854,
            -0.30773124
           ],
           "z": [
            -1.0594314,
            -1.0743127
           ]
          },
          {
           "line": {
            "width": 10
           },
           "marker": {
            "size": 3
           },
           "mode": "lines+markers",
           "name": "LEFT_THIGH",
           "type": "scatter3d",
           "x": [
            0.2453954,
            0.22952472
           ],
           "y": [
            -0.31158364,
            -0.37379652
           ],
           "z": [
            -1.084032,
            -1.0570364
           ]
          },
          {
           "line": {
            "width": 10
           },
           "marker": {
            "size": 3
           },
           "mode": "lines+markers",
           "name": "RIGHT_THIGH",
           "type": "scatter3d",
           "x": [
            0.2777221,
            0.28799808
           ],
           "y": [
            -0.30773124,
            -0.3664557
           ],
           "z": [
            -1.0743127,
            -1.0423763
           ]
          },
          {
           "line": {
            "width": 10
           },
           "marker": {
            "size": 3
           },
           "mode": "lines+markers",
           "name": "LEFT_LOWER_LEG",
           "type": "scatter3d",
           "x": [
            0.22952472,
            0.21342069
           ],
           "y": [
            -0.37379652,
            -0.43445632
           ],
           "z": [
            -1.0570364,
            -1.0413746
           ]
          },
          {
           "line": {
            "width": 10
           },
           "marker": {
            "size": 3
           },
           "mode": "lines+markers",
           "name": "RIGHT_LOWER_LEG",
           "type": "scatter3d",
           "x": [
            0.28799808,
            0.2965629
           ],
           "y": [
            -0.3664557,
            -0.4236777
           ],
           "z": [
            -1.0423763,
            -1.0218773
           ]
          }
         ],
         "layout": {
          "title": {
           "text": "frame:170"
          }
         },
         "name": "170"
        },
        {
         "data": [
          {
           "line": {
            "width": 10
           },
           "marker": {
            "size": 3
           },
           "mode": "lines+markers",
           "name": "CLUB",
           "type": "scatter3d",
           "x": [
            0.23796879,
            0.19986889
           ],
           "y": [
            -0.3349181,
            -0.41072193
           ],
           "z": [
            -1.0089338,
            -0.86276346
           ]
          },
          {
           "line": {
            "width": 10
           },
           "marker": {
            "size": 3
           },
           "mode": "lines+markers",
           "name": "EYE",
           "type": "scatter3d",
           "x": [
            0.25806624,
            0.26601812
           ],
           "y": [
            -0.20817478,
            -0.20833248
           ],
           "z": [
            -1.040586,
            -1.0432332
           ]
          },
          {
           "line": {
            "width": 10
           },
           "marker": {
            "size": 3
           },
           "mode": "lines+markers",
           "name": "SHOULDER",
           "type": "scatter3d",
           "x": [
            0.2371061,
            0.27824184
           ],
           "y": [
            -0.2324984,
            -0.22914527
           ],
           "z": [
            -1.0723464,
            -1.059208
           ]
          },
          {
           "line": {
            "width": 10
           },
           "marker": {
            "size": 3
           },
           "mode": "lines+markers",
           "name": "LEFT_UPPER_ARM",
           "type": "scatter3d",
           "x": [
            0.2371061,
            0.23408313
           ],
           "y": [
            -0.2324984,
            -0.27935827
           ],
           "z": [
            -1.0723464,
            -1.0609621
           ]
          },
          {
           "line": {
            "width": 10
           },
           "marker": {
            "size": 3
           },
           "mode": "lines+markers",
           "name": "RIGHT_UPPER_ARM",
           "type": "scatter3d",
           "x": [
            0.27824184,
            0.2669558
           ],
           "y": [
            -0.22914527,
            -0.27197638
           ],
           "z": [
            -1.059208,
            -1.0314988
           ]
          },
          {
           "line": {
            "width": 10
           },
           "marker": {
            "size": 3
           },
           "mode": "lines+markers",
           "name": "LEFT_FOREARM",
           "type": "scatter3d",
           "x": [
            0.23408313,
            0.24130014
           ],
           "y": [
            -0.27935827,
            -0.31503844
           ],
           "z": [
            -1.0609621,
            -1.0332266
           ]
          },
          {
           "line": {
            "width": 10
           },
           "marker": {
            "size": 3
           },
           "mode": "lines+markers",
           "name": "RIGHT_FOREARM",
           "type": "scatter3d",
           "x": [
            0.2669558,
            0.24581496
           ],
           "y": [
            -0.27197638,
            -0.31015208
           ],
           "z": [
            -1.0314988,
            -1.0240521
           ]
          },
          {
           "line": {
            "width": 10
           },
           "marker": {
            "size": 3
           },
           "mode": "lines+markers",
           "name": "HIP",
           "type": "scatter3d",
           "x": [
            0.24530295,
            0.2781625
           ],
           "y": [
            -0.31024483,
            -0.30609214
           ],
           "z": [
            -1.0857835,
            -1.0751891
           ]
          },
          {
           "line": {
            "width": 10
           },
           "marker": {
            "size": 3
           },
           "mode": "lines+markers",
           "name": "LEFT_BODY",
           "type": "scatter3d",
           "x": [
            0.2371061,
            0.24530295
           ],
           "y": [
            -0.2324984,
            -0.31024483
           ],
           "z": [
            -1.0723464,
            -1.0857835
           ]
          },
          {
           "line": {
            "width": 10
           },
           "marker": {
            "size": 3
           },
           "mode": "lines+markers",
           "name": "RIGHT_BODY",
           "type": "scatter3d",
           "x": [
            0.27824184,
            0.2781625
           ],
           "y": [
            -0.22914527,
            -0.30609214
           ],
           "z": [
            -1.059208,
            -1.0751891
           ]
          },
          {
           "line": {
            "width": 10
           },
           "marker": {
            "size": 3
           },
           "mode": "lines+markers",
           "name": "LEFT_THIGH",
           "type": "scatter3d",
           "x": [
            0.24530295,
            0.2277442
           ],
           "y": [
            -0.31024483,
            -0.3745072
           ],
           "z": [
            -1.0857835,
            -1.0593026
           ]
          },
          {
           "line": {
            "width": 10
           },
           "marker": {
            "size": 3
           },
           "mode": "lines+markers",
           "name": "RIGHT_THIGH",
           "type": "scatter3d",
           "x": [
            0.2781625,
            0.28867468
           ],
           "y": [
            -0.30609214,
            -0.36585283
           ],
           "z": [
            -1.0751891,
            -1.0415906
           ]
          },
          {
           "line": {
            "width": 10
           },
           "marker": {
            "size": 3
           },
           "mode": "lines+markers",
           "name": "LEFT_LOWER_LEG",
           "type": "scatter3d",
           "x": [
            0.2277442,
            0.21046811
           ],
           "y": [
            -0.3745072,
            -0.43646237
           ],
           "z": [
            -1.0593026,
            -1.0444487
           ]
          },
          {
           "line": {
            "width": 10
           },
           "marker": {
            "size": 3
           },
           "mode": "lines+markers",
           "name": "RIGHT_LOWER_LEG",
           "type": "scatter3d",
           "x": [
            0.28867468,
            0.2962935
           ],
           "y": [
            -0.36585283,
            -0.4240545
           ],
           "z": [
            -1.0415906,
            -1.0222431
           ]
          }
         ],
         "layout": {
          "title": {
           "text": "frame:175"
          }
         },
         "name": "175"
        },
        {
         "data": [
          {
           "line": {
            "width": 10
           },
           "marker": {
            "size": 3
           },
           "mode": "lines+markers",
           "name": "CLUB",
           "type": "scatter3d",
           "x": [
            0.23784953,
            0.20286779
           ],
           "y": [
            -0.33524644,
            -0.4088309
           ],
           "z": [
            -1.0079868,
            -0.8619206
           ]
          },
          {
           "line": {
            "width": 10
           },
           "marker": {
            "size": 3
           },
           "mode": "lines+markers",
           "name": "EYE",
           "type": "scatter3d",
           "x": [
            0.25609356,
            0.2643295
           ],
           "y": [
            -0.20853081,
            -0.20865375
           ],
           "z": [
            -1.0412225,
            -1.043599
           ]
          },
          {
           "line": {
            "width": 10
           },
           "marker": {
            "size": 3
           },
           "mode": "lines+markers",
           "name": "SHOULDER",
           "type": "scatter3d",
           "x": [
            0.23682778,
            0.27816615
           ],
           "y": [
            -0.23257145,
            -0.22907364
           ],
           "z": [
            -1.0732594,
            -1.0593259
           ]
          },
          {
           "line": {
            "width": 10
           },
           "marker": {
            "size": 3
           },
           "mode": "lines+markers",
           "name": "LEFT_UPPER_ARM",
           "type": "scatter3d",
           "x": [
            0.23682778,
            0.2343775
           ],
           "y": [
            -0.23257145,
            -0.27918208
           ],
           "z": [
            -1.0732594,
            -1.0602171
           ]
          },
          {
           "line": {
            "width": 10
           },
           "marker": {
            "size": 3
           },
           "mode": "lines+markers",
           "name": "RIGHT_UPPER_ARM",
           "type": "scatter3d",
           "x": [
            0.27816615,
            0.26717255
           ],
           "y": [
            -0.22907364,
            -0.27191404
           ],
           "z": [
            -1.0593259,
            -1.0302217
           ]
          },
          {
           "line": {
            "width": 10
           },
           "marker": {
            "size": 3
           },
           "mode": "lines+markers",
           "name": "LEFT_FOREARM",
           "type": "scatter3d",
           "x": [
            0.2343775,
            0.24087627
           ],
           "y": [
            -0.27918208,
            -0.31503528
           ],
           "z": [
            -1.0602171,
            -1.0332923
           ]
          },
          {
           "line": {
            "width": 10
           },
           "marker": {
            "size": 3
           },
           "mode": "lines+markers",
           "name": "RIGHT_FOREARM",
           "type": "scatter3d",
           "x": [
            0.26717255,
            0.24651109
           ],
           "y": [
            -0.27191404,
            -0.3099856
           ],
           "z": [
            -1.0302217,
            -1.0220544
           ]
          },
          {
           "line": {
            "width": 10
           },
           "marker": {
            "size": 3
           },
           "mode": "lines+markers",
           "name": "HIP",
           "type": "scatter3d",
           "x": [
            0.24471487,
            0.27757215
           ],
           "y": [
            -0.31093156,
            -0.30677274
           ],
           "z": [
            -1.0858091,
            -1.0748887
           ]
          },
          {
           "line": {
            "width": 10
           },
           "marker": {
            "size": 3
           },
           "mode": "lines+markers",
           "name": "LEFT_BODY",
           "type": "scatter3d",
           "x": [
            0.23682778,
            0.24471487
           ],
           "y": [
            -0.23257145,
            -0.31093156
           ],
           "z": [
            -1.0732594,
            -1.0858091
           ]
          },
          {
           "line": {
            "width": 10
           },
           "marker": {
            "size": 3
           },
           "mode": "lines+markers",
           "name": "RIGHT_BODY",
           "type": "scatter3d",
           "x": [
            0.27816615,
            0.27757215
           ],
           "y": [
            -0.22907364,
            -0.30677274
           ],
           "z": [
            -1.0593259,
            -1.0748887
           ]
          },
          {
           "line": {
            "width": 10
           },
           "marker": {
            "size": 3
           },
           "mode": "lines+markers",
           "name": "LEFT_THIGH",
           "type": "scatter3d",
           "x": [
            0.24471487,
            0.22763558
           ],
           "y": [
            -0.31093156,
            -0.3751628
           ],
           "z": [
            -1.0858091,
            -1.059041
           ]
          },
          {
           "line": {
            "width": 10
           },
           "marker": {
            "size": 3
           },
           "mode": "lines+markers",
           "name": "RIGHT_THIGH",
           "type": "scatter3d",
           "x": [
            0.27757215,
            0.2878415
           ],
           "y": [
            -0.30677274,
            -0.3668543
           ],
           "z": [
            -1.0748887,
            -1.0419556
           ]
          },
          {
           "line": {
            "width": 10
           },
           "marker": {
            "size": 3
           },
           "mode": "lines+markers",
           "name": "LEFT_LOWER_LEG",
           "type": "scatter3d",
           "x": [
            0.22763558,
            0.21154805
           ],
           "y": [
            -0.3751628,
            -0.4361362
           ],
           "z": [
            -1.059041,
            -1.042585
           ]
          },
          {
           "line": {
            "width": 10
           },
           "marker": {
            "size": 3
           },
           "mode": "lines+markers",
           "name": "RIGHT_LOWER_LEG",
           "type": "scatter3d",
           "x": [
            0.2878415,
            0.29618612
           ],
           "y": [
            -0.3668543,
            -0.42461228
           ],
           "z": [
            -1.0419556,
            -1.0222397
           ]
          }
         ],
         "layout": {
          "title": {
           "text": "frame:180"
          }
         },
         "name": "180"
        },
        {
         "data": [
          {
           "line": {
            "width": 10
           },
           "marker": {
            "size": 3
           },
           "mode": "lines+markers",
           "name": "CLUB",
           "type": "scatter3d",
           "x": [
            0.2387249,
            0.20795974
           ],
           "y": [
            -0.33393082,
            -0.4060211
           ],
           "z": [
            -1.0072904,
            -0.8608396
           ]
          },
          {
           "line": {
            "width": 10
           },
           "marker": {
            "size": 3
           },
           "mode": "lines+markers",
           "name": "EYE",
           "type": "scatter3d",
           "x": [
            0.2550096,
            0.2640759
           ],
           "y": [
            -0.2097521,
            -0.20957035
           ],
           "z": [
            -1.0437517,
            -1.0450174
           ]
          },
          {
           "line": {
            "width": 10
           },
           "marker": {
            "size": 3
           },
           "mode": "lines+markers",
           "name": "SHOULDER",
           "type": "scatter3d",
           "x": [
            0.2355707,
            0.2798067
           ],
           "y": [
            -0.2326314,
            -0.22860108
           ],
           "z": [
            -1.0749387,
            -1.0575728
           ]
          },
          {
           "line": {
            "width": 10
           },
           "marker": {
            "size": 3
           },
           "mode": "lines+markers",
           "name": "LEFT_UPPER_ARM",
           "type": "scatter3d",
           "x": [
            0.2355707,
            0.23413433
           ],
           "y": [
            -0.2326314,
            -0.27820355
           ],
           "z": [
            -1.0749387,
            -1.0607032
           ]
          },
          {
           "line": {
            "width": 10
           },
           "marker": {
            "size": 3
           },
           "mode": "lines+markers",
           "name": "RIGHT_UPPER_ARM",
           "type": "scatter3d",
           "x": [
            0.2798067,
            0.26735902
           ],
           "y": [
            -0.22860108,
            -0.2712268
           ],
           "z": [
            -1.0575728,
            -1.0310366
           ]
          },
          {
           "line": {
            "width": 10
           },
           "marker": {
            "size": 3
           },
           "mode": "lines+markers",
           "name": "LEFT_FOREARM",
           "type": "scatter3d",
           "x": [
            0.23413433,
            0.23962276
           ],
           "y": [
            -0.27820355,
            -0.31504574
           ],
           "z": [
            -1.0607032,
            -1.034401
           ]
          },
          {
           "line": {
            "width": 10
           },
           "marker": {
            "size": 3
           },
           "mode": "lines+markers",
           "name": "RIGHT_FOREARM",
           "type": "scatter3d",
           "x": [
            0.26735902,
            0.24639274
           ],
           "y": [
            -0.2712268,
            -0.30901998
           ],
           "z": [
            -1.0310366,
            -1.0227126
           ]
          },
          {
           "line": {
            "width": 10
           },
           "marker": {
            "size": 3
           },
           "mode": "lines+markers",
           "name": "HIP",
           "type": "scatter3d",
           "x": [
            0.2433888,
            0.27805725
           ],
           "y": [
            -0.3119153,
            -0.30733746
           ],
           "z": [
            -1.0867425,
            -1.0736339
           ]
          },
          {
           "line": {
            "width": 10
           },
           "marker": {
            "size": 3
           },
           "mode": "lines+markers",
           "name": "LEFT_BODY",
           "type": "scatter3d",
           "x": [
            0.2355707,
            0.2433888
           ],
           "y": [
            -0.2326314,
            -0.3119153
           ],
           "z": [
            -1.0749387,
            -1.0867425
           ]
          },
          {
           "line": {
            "width": 10
           },
           "marker": {
            "size": 3
           },
           "mode": "lines+markers",
           "name": "RIGHT_BODY",
           "type": "scatter3d",
           "x": [
            0.2798067,
            0.27805725
           ],
           "y": [
            -0.22860108,
            -0.30733746
           ],
           "z": [
            -1.0575728,
            -1.0736339
           ]
          },
          {
           "line": {
            "width": 10
           },
           "marker": {
            "size": 3
           },
           "mode": "lines+markers",
           "name": "LEFT_THIGH",
           "type": "scatter3d",
           "x": [
            0.2433888,
            0.22540113
           ],
           "y": [
            -0.3119153,
            -0.37565497
           ],
           "z": [
            -1.0867425,
            -1.0618477
           ]
          },
          {
           "line": {
            "width": 10
           },
           "marker": {
            "size": 3
           },
           "mode": "lines+markers",
           "name": "RIGHT_THIGH",
           "type": "scatter3d",
           "x": [
            0.27805725,
            0.28830364
           ],
           "y": [
            -0.30733746,
            -0.36652505
           ],
           "z": [
            -1.0736339,
            -1.0411522
           ]
          },
          {
           "line": {
            "width": 10
           },
           "marker": {
            "size": 3
           },
           "mode": "lines+markers",
           "name": "LEFT_LOWER_LEG",
           "type": "scatter3d",
           "x": [
            0.22540113,
            0.2107834
           ],
           "y": [
            -0.37565497,
            -0.4358408
           ],
           "z": [
            -1.0618477,
            -1.0441164
           ]
          },
          {
           "line": {
            "width": 10
           },
           "marker": {
            "size": 3
           },
           "mode": "lines+markers",
           "name": "RIGHT_LOWER_LEG",
           "type": "scatter3d",
           "x": [
            0.28830364,
            0.2946772
           ],
           "y": [
            -0.36652505,
            -0.4254654
           ],
           "z": [
            -1.0411522,
            -1.0242288
           ]
          }
         ],
         "layout": {
          "title": {
           "text": "frame:185"
          }
         },
         "name": "185"
        },
        {
         "data": [
          {
           "line": {
            "width": 10
           },
           "marker": {
            "size": 3
           },
           "mode": "lines+markers",
           "name": "CLUB",
           "type": "scatter3d",
           "x": [
            0.23954886,
            0.21984315
           ],
           "y": [
            -0.3338838,
            -0.40202922
           ],
           "z": [
            -1.0049227,
            -0.8532199
           ]
          },
          {
           "line": {
            "width": 10
           },
           "marker": {
            "size": 3
           },
           "mode": "lines+markers",
           "name": "EYE",
           "type": "scatter3d",
           "x": [
            0.25595084,
            0.26513258
           ],
           "y": [
            -0.20741984,
            -0.20706914
           ],
           "z": [
            -1.0399364,
            -1.0407025
           ]
          },
          {
           "line": {
            "width": 10
           },
           "marker": {
            "size": 3
           },
           "mode": "lines+markers",
           "name": "SHOULDER",
           "type": "scatter3d",
           "x": [
            0.23712735,
            0.27852637
           ],
           "y": [
            -0.23161058,
            -0.22794558
           ],
           "z": [
            -1.0724264,
            -1.0597699
           ]
          },
          {
           "line": {
            "width": 10
           },
           "marker": {
            "size": 3
           },
           "mode": "lines+markers",
           "name": "LEFT_UPPER_ARM",
           "type": "scatter3d",
           "x": [
            0.23712735,
            0.2342325
           ],
           "y": [
            -0.23161058,
            -0.27830517
           ],
           "z": [
            -1.0724264,
            -1.0604192
           ]
          },
          {
           "line": {
            "width": 10
           },
           "marker": {
            "size": 3
           },
           "mode": "lines+markers",
           "name": "RIGHT_UPPER_ARM",
           "type": "scatter3d",
           "x": [
            0.27852637,
            0.2665339
           ],
           "y": [
            -0.22794558,
            -0.27110887
           ],
           "z": [
            -1.0597699,
            -1.0334845
           ]
          },
          {
           "line": {
            "width": 10
           },
           "marker": {
            "size": 3
           },
           "mode": "lines+markers",
           "name": "LEFT_FOREARM",
           "type": "scatter3d",
           "x": [
            0.2342325,
            0.2405239
           ],
           "y": [
            -0.27830517,
            -0.31411105
           ],
           "z": [
            -1.0604192,
            -1.03293
           ]
          },
          {
           "line": {
            "width": 10
           },
           "marker": {
            "size": 3
           },
           "mode": "lines+markers",
           "name": "RIGHT_FOREARM",
           "type": "scatter3d",
           "x": [
            0.2665339,
            0.24528266
           ],
           "y": [
            -0.27110887,
            -0.309106
           ],
           "z": [
            -1.0334845,
            -1.024477
           ]
          },
          {
           "line": {
            "width": 10
           },
           "marker": {
            "size": 3
           },
           "mode": "lines+markers",
           "name": "HIP",
           "type": "scatter3d",
           "x": [
            0.24491458,
            0.2777318
           ],
           "y": [
            -0.30956462,
            -0.30549362
           ],
           "z": [
            -1.0848893,
            -1.0748532
           ]
          },
          {
           "line": {
            "width": 10
           },
           "marker": {
            "size": 3
           },
           "mode": "lines+markers",
           "name": "LEFT_BODY",
           "type": "scatter3d",
           "x": [
            0.23712735,
            0.24491458
           ],
           "y": [
            -0.23161058,
            -0.30956462
           ],
           "z": [
            -1.0724264,
            -1.0848893
           ]
          },
          {
           "line": {
            "width": 10
           },
           "marker": {
            "size": 3
           },
           "mode": "lines+markers",
           "name": "RIGHT_BODY",
           "type": "scatter3d",
           "x": [
            0.27852637,
            0.2777318
           ],
           "y": [
            -0.22794558,
            -0.30549362
           ],
           "z": [
            -1.0597699,
            -1.0748532
           ]
          },
          {
           "line": {
            "width": 10
           },
           "marker": {
            "size": 3
           },
           "mode": "lines+markers",
           "name": "LEFT_THIGH",
           "type": "scatter3d",
           "x": [
            0.24491458,
            0.22835718
           ],
           "y": [
            -0.30956462,
            -0.37438953
           ],
           "z": [
            -1.0848893,
            -1.0578245
           ]
          },
          {
           "line": {
            "width": 10
           },
           "marker": {
            "size": 3
           },
           "mode": "lines+markers",
           "name": "RIGHT_THIGH",
           "type": "scatter3d",
           "x": [
            0.2777318,
            0.28775647
           ],
           "y": [
            -0.30549362,
            -0.36649066
           ],
           "z": [
            -1.0748532,
            -1.042378
           ]
          },
          {
           "line": {
            "width": 10
           },
           "marker": {
            "size": 3
           },
           "mode": "lines+markers",
           "name": "LEFT_LOWER_LEG",
           "type": "scatter3d",
           "x": [
            0.22835718,
            0.2121395
           ],
           "y": [
            -0.37438953,
            -0.43584412
           ],
           "z": [
            -1.0578245,
            -1.0418508
           ]
          },
          {
           "line": {
            "width": 10
           },
           "marker": {
            "size": 3
           },
           "mode": "lines+markers",
           "name": "RIGHT_LOWER_LEG",
           "type": "scatter3d",
           "x": [
            0.28775647,
            0.2958931
           ],
           "y": [
            -0.36649066,
            -0.42438492
           ],
           "z": [
            -1.042378,
            -1.0217389
           ]
          }
         ],
         "layout": {
          "title": {
           "text": "frame:190"
          }
         },
         "name": "190"
        },
        {
         "data": [
          {
           "line": {
            "width": 10
           },
           "marker": {
            "size": 3
           },
           "mode": "lines+markers",
           "name": "CLUB",
           "type": "scatter3d",
           "x": [
            0.24105154,
            0.23024623
           ],
           "y": [
            -0.33259758,
            -0.40052122
           ],
           "z": [
            -1.0045935,
            -0.8536204
           ]
          },
          {
           "line": {
            "width": 10
           },
           "marker": {
            "size": 3
           },
           "mode": "lines+markers",
           "name": "EYE",
           "type": "scatter3d",
           "x": [
            0.2554526,
            0.26564458
           ],
           "y": [
            -0.20854162,
            -0.20788684
           ],
           "z": [
            -1.0450561,
            -1.0444735
           ]
          },
          {
           "line": {
            "width": 10
           },
           "marker": {
            "size": 3
           },
           "mode": "lines+markers",
           "name": "SHOULDER",
           "type": "scatter3d",
           "x": [
            0.23699972,
            0.27855682
           ],
           "y": [
            -0.23330528,
            -0.22960472
           ],
           "z": [
            -1.0724401,
            -1.0591022
           ]
          },
          {
           "line": {
            "width": 10
           },
           "marker": {
            "size": 3
           },
           "mode": "lines+markers",
           "name": "LEFT_UPPER_ARM",
           "type": "scatter3d",
           "x": [
            0.23699972,
            0.23042135
           ],
           "y": [
            -0.23330528,
            -0.28003436
           ],
           "z": [
            -1.0724401,
            -1.0664783
           ]
          },
          {
           "line": {
            "width": 10
           },
           "marker": {
            "size": 3
           },
           "mode": "lines+markers",
           "name": "RIGHT_UPPER_ARM",
           "type": "scatter3d",
           "x": [
            0.27855682,
            0.2670197
           ],
           "y": [
            -0.22960472,
            -0.27105737
           ],
           "z": [
            -1.0591022,
            -1.0324998
           ]
          },
          {
           "line": {
            "width": 10
           },
           "marker": {
            "size": 3
           },
           "mode": "lines+markers",
           "name": "LEFT_FOREARM",
           "type": "scatter3d",
           "x": [
            0.23042135,
            0.23847659
           ],
           "y": [
            -0.28003436,
            -0.3136751
           ],
           "z": [
            -1.0664783,
            -1.0374532
           ]
          },
          {
           "line": {
            "width": 10
           },
           "marker": {
            "size": 3
           },
           "mode": "lines+markers",
           "name": "RIGHT_FOREARM",
           "type": "scatter3d",
           "x": [
            0.2670197,
            0.24554221
           ],
           "y": [
            -0.27105737,
            -0.3090313
           ],
           "z": [
            -1.0324998,
            -1.0251056
           ]
          },
          {
           "line": {
            "width": 10
           },
           "marker": {
            "size": 3
           },
           "mode": "lines+markers",
           "name": "HIP",
           "type": "scatter3d",
           "x": [
            0.24423276,
            0.27734247
           ],
           "y": [
            -0.31168312,
            -0.3076133
           ],
           "z": [
            -1.0855873,
            -1.07474
           ]
          },
          {
           "line": {
            "width": 10
           },
           "marker": {
            "size": 3
           },
           "mode": "lines+markers",
           "name": "LEFT_BODY",
           "type": "scatter3d",
           "x": [
            0.23699972,
            0.24423276
           ],
           "y": [
            -0.23330528,
            -0.31168312
           ],
           "z": [
            -1.0724401,
            -1.0855873
           ]
          },
          {
           "line": {
            "width": 10
           },
           "marker": {
            "size": 3
           },
           "mode": "lines+markers",
           "name": "RIGHT_BODY",
           "type": "scatter3d",
           "x": [
            0.27855682,
            0.27734247
           ],
           "y": [
            -0.22960472,
            -0.3076133
           ],
           "z": [
            -1.0591022,
            -1.07474
           ]
          },
          {
           "line": {
            "width": 10
           },
           "marker": {
            "size": 3
           },
           "mode": "lines+markers",
           "name": "LEFT_THIGH",
           "type": "scatter3d",
           "x": [
            0.24423276,
            0.22972901
           ],
           "y": [
            -0.31168312,
            -0.37340516
           ],
           "z": [
            -1.0855873,
            -1.0561343
           ]
          },
          {
           "line": {
            "width": 10
           },
           "marker": {
            "size": 3
           },
           "mode": "lines+markers",
           "name": "RIGHT_THIGH",
           "type": "scatter3d",
           "x": [
            0.27734247,
            0.28708276
           ],
           "y": [
            -0.3076133,
            -0.366893
           ],
           "z": [
            -1.07474,
            -1.0430348
           ]
          },
          {
           "line": {
            "width": 10
           },
           "marker": {
            "size": 3
           },
           "mode": "lines+markers",
           "name": "LEFT_LOWER_LEG",
           "type": "scatter3d",
           "x": [
            0.22972901,
            0.2147752
           ],
           "y": [
            -0.37340516,
            -0.43363228
           ],
           "z": [
            -1.0561343,
            -1.0392836
           ]
          },
          {
           "line": {
            "width": 10
           },
           "marker": {
            "size": 3
           },
           "mode": "lines+markers",
           "name": "RIGHT_LOWER_LEG",
           "type": "scatter3d",
           "x": [
            0.28708276,
            0.2959837
           ],
           "y": [
            -0.366893,
            -0.42408633
           ],
           "z": [
            -1.0430348,
            -1.0216078
           ]
          }
         ],
         "layout": {
          "title": {
           "text": "frame:195"
          }
         },
         "name": "195"
        },
        {
         "data": [
          {
           "line": {
            "width": 10
           },
           "marker": {
            "size": 3
           },
           "mode": "lines+markers",
           "name": "CLUB",
           "type": "scatter3d",
           "x": [
            0.24390459,
            0.24534394
           ],
           "y": [
            -0.33129352,
            -0.39653566
           ],
           "z": [
            -1.0043334,
            -0.8518251
           ]
          },
          {
           "line": {
            "width": 10
           },
           "marker": {
            "size": 3
           },
           "mode": "lines+markers",
           "name": "EYE",
           "type": "scatter3d",
           "x": [
            0.25499985,
            0.26448387
           ],
           "y": [
            -0.20974894,
            -0.20928606
           ],
           "z": [
            -1.0473487,
            -1.0475953
           ]
          },
          {
           "line": {
            "width": 10
           },
           "marker": {
            "size": 3
           },
           "mode": "lines+markers",
           "name": "SHOULDER",
           "type": "scatter3d",
           "x": [
            0.23766966,
            0.2785567
           ],
           "y": [
            -0.23233467,
            -0.22876936
           ],
           "z": [
            -1.0714661,
            -1.0578746
           ]
          },
          {
           "line": {
            "width": 10
           },
           "marker": {
            "size": 3
           },
           "mode": "lines+markers",
           "name": "LEFT_UPPER_ARM",
           "type": "scatter3d",
           "x": [
            0.23766966,
            0.23549889
           ],
           "y": [
            -0.23233467,
            -0.27774492
           ],
           "z": [
            -1.0714661,
            -1.0584835
           ]
          },
          {
           "line": {
            "width": 10
           },
           "marker": {
            "size": 3
           },
           "mode": "lines+markers",
           "name": "RIGHT_UPPER_ARM",
           "type": "scatter3d",
           "x": [
            0.2785567,
            0.26752627
           ],
           "y": [
            -0.22876936,
            -0.27167875
           ],
           "z": [
            -1.0578746,
            -1.0310603
           ]
          },
          {
           "line": {
            "width": 10
           },
           "marker": {
            "size": 3
           },
           "mode": "lines+markers",
           "name": "LEFT_FOREARM",
           "type": "scatter3d",
           "x": [
            0.23549889,
            0.24197195
           ],
           "y": [
            -0.27774492,
            -0.3139854
           ],
           "z": [
            -1.0584835,
            -1.0320922
           ]
          },
          {
           "line": {
            "width": 10
           },
           "marker": {
            "size": 3
           },
           "mode": "lines+markers",
           "name": "RIGHT_FOREARM",
           "type": "scatter3d",
           "x": [
            0.26752627,
            0.2506174
           ],
           "y": [
            -0.27167875,
            -0.3077703
           ],
           "z": [
            -1.0310603,
            -1.0187299
           ]
          },
          {
           "line": {
            "width": 10
           },
           "marker": {
            "size": 3
           },
           "mode": "lines+markers",
           "name": "HIP",
           "type": "scatter3d",
           "x": [
            0.24516538,
            0.2776165
           ],
           "y": [
            -0.31210545,
            -0.30768487
           ],
           "z": [
            -1.0836425,
            -1.0733432
           ]
          },
          {
           "line": {
            "width": 10
           },
           "marker": {
            "size": 3
           },
           "mode": "lines+markers",
           "name": "LEFT_BODY",
           "type": "scatter3d",
           "x": [
            0.23766966,
            0.24516538
           ],
           "y": [
            -0.23233467,
            -0.31210545
           ],
           "z": [
            -1.0714661,
            -1.0836425
           ]
          },
          {
           "line": {
            "width": 10
           },
           "marker": {
            "size": 3
           },
           "mode": "lines+markers",
           "name": "RIGHT_BODY",
           "type": "scatter3d",
           "x": [
            0.2785567,
            0.2776165
           ],
           "y": [
            -0.22876936,
            -0.30768487
           ],
           "z": [
            -1.0578746,
            -1.0733432
           ]
          },
          {
           "line": {
            "width": 10
           },
           "marker": {
            "size": 3
           },
           "mode": "lines+markers",
           "name": "LEFT_THIGH",
           "type": "scatter3d",
           "x": [
            0.24516538,
            0.22723049
           ],
           "y": [
            -0.31210545,
            -0.3749416
           ],
           "z": [
            -1.0836425,
            -1.0590574
           ]
          },
          {
           "line": {
            "width": 10
           },
           "marker": {
            "size": 3
           },
           "mode": "lines+markers",
           "name": "RIGHT_THIGH",
           "type": "scatter3d",
           "x": [
            0.2776165,
            0.28741884
           ],
           "y": [
            -0.30768487,
            -0.3663347
           ],
           "z": [
            -1.0733432,
            -1.0418626
           ]
          },
          {
           "line": {
            "width": 10
           },
           "marker": {
            "size": 3
           },
           "mode": "lines+markers",
           "name": "LEFT_LOWER_LEG",
           "type": "scatter3d",
           "x": [
            0.22723049,
            0.21053027
           ],
           "y": [
            -0.3749416,
            -0.4361065
           ],
           "z": [
            -1.0590574,
            -1.0443732
           ]
          },
          {
           "line": {
            "width": 10
           },
           "marker": {
            "size": 3
           },
           "mode": "lines+markers",
           "name": "RIGHT_LOWER_LEG",
           "type": "scatter3d",
           "x": [
            0.28741884,
            0.2960977
           ],
           "y": [
            -0.3663347,
            -0.42368826
           ],
           "z": [
            -1.0418626,
            -1.0228915
           ]
          }
         ],
         "layout": {
          "title": {
           "text": "frame:200"
          }
         },
         "name": "200"
        },
        {
         "data": [
          {
           "line": {
            "width": 10
           },
           "marker": {
            "size": 3
           },
           "mode": "lines+markers",
           "name": "CLUB",
           "type": "scatter3d",
           "x": [
            0.24591409,
            0.26540095
           ],
           "y": [
            -0.33030137,
            -0.38939747
           ],
           "z": [
            -1.0044547,
            -0.8493581
           ]
          },
          {
           "line": {
            "width": 10
           },
           "marker": {
            "size": 3
           },
           "mode": "lines+markers",
           "name": "EYE",
           "type": "scatter3d",
           "x": [
            0.25669125,
            0.26547116
           ],
           "y": [
            -0.20823428,
            -0.20788497
           ],
           "z": [
            -1.0431263,
            -1.0443944
           ]
          },
          {
           "line": {
            "width": 10
           },
           "marker": {
            "size": 3
           },
           "mode": "lines+markers",
           "name": "SHOULDER",
           "type": "scatter3d",
           "x": [
            0.23805228,
            0.27902532
           ],
           "y": [
            -0.23168433,
            -0.22871464
           ],
           "z": [
            -1.0707339,
            -1.060762
           ]
          },
          {
           "line": {
            "width": 10
           },
           "marker": {
            "size": 3
           },
           "mode": "lines+markers",
           "name": "LEFT_UPPER_ARM",
           "type": "scatter3d",
           "x": [
            0.23805228,
            0.23512682
           ],
           "y": [
            -0.23168433,
            -0.27746484
           ],
           "z": [
            -1.0707339,
            -1.0589867
           ]
          },
          {
           "line": {
            "width": 10
           },
           "marker": {
            "size": 3
           },
           "mode": "lines+markers",
           "name": "RIGHT_UPPER_ARM",
           "type": "scatter3d",
           "x": [
            0.27902532,
            0.26897734
           ],
           "y": [
            -0.22871464,
            -0.270557
           ],
           "z": [
            -1.060762,
            -1.0327134
           ]
          },
          {
           "line": {
            "width": 10
           },
           "marker": {
            "size": 3
           },
           "mode": "lines+markers",
           "name": "LEFT_FOREARM",
           "type": "scatter3d",
           "x": [
            0.23512682,
            0.24269827
           ],
           "y": [
            -0.27746484,
            -0.31315538
           ],
           "z": [
            -1.0589867,
            -1.0319153
           ]
          },
          {
           "line": {
            "width": 10
           },
           "marker": {
            "size": 3
           },
           "mode": "lines+markers",
           "name": "RIGHT_FOREARM",
           "type": "scatter3d",
           "x": [
            0.26897734,
            0.25240928
           ],
           "y": [
            -0.270557,
            -0.30662742
           ],
           "z": [
            -1.0327134,
            -1.0187858
           ]
          },
          {
           "line": {
            "width": 10
           },
           "marker": {
            "size": 3
           },
           "mode": "lines+markers",
           "name": "HIP",
           "type": "scatter3d",
           "x": [
            0.24508463,
            0.2774992
           ],
           "y": [
            -0.31243938,
            -0.30897602
           ],
           "z": [
            -1.0825808,
            -1.0745672
           ]
          },
          {
           "line": {
            "width": 10
           },
           "marker": {
            "size": 3
           },
           "mode": "lines+markers",
           "name": "LEFT_BODY",
           "type": "scatter3d",
           "x": [
            0.23805228,
            0.24508463
           ],
           "y": [
            -0.23168433,
            -0.31243938
           ],
           "z": [
            -1.0707339,
            -1.0825808
           ]
          },
          {
           "line": {
            "width": 10
           },
           "marker": {
            "size": 3
           },
           "mode": "lines+markers",
           "name": "RIGHT_BODY",
           "type": "scatter3d",
           "x": [
            0.27902532,
            0.2774992
           ],
           "y": [
            -0.22871464,
            -0.30897602
           ],
           "z": [
            -1.060762,
            -1.0745672
           ]
          },
          {
           "line": {
            "width": 10
           },
           "marker": {
            "size": 3
           },
           "mode": "lines+markers",
           "name": "LEFT_THIGH",
           "type": "scatter3d",
           "x": [
            0.24508463,
            0.2266601
           ],
           "y": [
            -0.31243938,
            -0.37495103
           ],
           "z": [
            -1.0825808,
            -1.0576966
           ]
          },
          {
           "line": {
            "width": 10
           },
           "marker": {
            "size": 3
           },
           "mode": "lines+markers",
           "name": "RIGHT_THIGH",
           "type": "scatter3d",
           "x": [
            0.2774992,
            0.28744537
           ],
           "y": [
            -0.30897602,
            -0.3671913
           ],
           "z": [
            -1.0745672,
            -1.0418694
           ]
          },
          {
           "line": {
            "width": 10
           },
           "marker": {
            "size": 3
           },
           "mode": "lines+markers",
           "name": "LEFT_LOWER_LEG",
           "type": "scatter3d",
           "x": [
            0.2266601,
            0.21042506
           ],
           "y": [
            -0.37495103,
            -0.43563256
           ],
           "z": [
            -1.0576966,
            -1.0444887
           ]
          },
          {
           "line": {
            "width": 10
           },
           "marker": {
            "size": 3
           },
           "mode": "lines+markers",
           "name": "RIGHT_LOWER_LEG",
           "type": "scatter3d",
           "x": [
            0.28744537,
            0.2973805
           ],
           "y": [
            -0.3671913,
            -0.42292866
           ],
           "z": [
            -1.0418694,
            -1.0205158
           ]
          }
         ],
         "layout": {
          "title": {
           "text": "frame:205"
          }
         },
         "name": "205"
        },
        {
         "data": [
          {
           "line": {
            "width": 10
           },
           "marker": {
            "size": 3
           },
           "mode": "lines+markers",
           "name": "CLUB",
           "type": "scatter3d",
           "x": [
            0.25002956,
            0.28839338
           ],
           "y": [
            -0.32914668,
            -0.37979499
           ],
           "z": [
            -1.0056444,
            -0.84774673
           ]
          },
          {
           "line": {
            "width": 10
           },
           "marker": {
            "size": 3
           },
           "mode": "lines+markers",
           "name": "EYE",
           "type": "scatter3d",
           "x": [
            0.2556714,
            0.2657334
           ],
           "y": [
            -0.20954601,
            -0.20879275
           ],
           "z": [
            -1.0459161,
            -1.0460136
           ]
          },
          {
           "line": {
            "width": 10
           },
           "marker": {
            "size": 3
           },
           "mode": "lines+markers",
           "name": "SHOULDER",
           "type": "scatter3d",
           "x": [
            0.23732124,
            0.28014868
           ],
           "y": [
            -0.23222268,
            -0.22931539
           ],
           "z": [
            -1.0687072,
            -1.0591588
           ]
          },
          {
           "line": {
            "width": 10
           },
           "marker": {
            "size": 3
           },
           "mode": "lines+markers",
           "name": "LEFT_UPPER_ARM",
           "type": "scatter3d",
           "x": [
            0.23732124,
            0.2364905
           ],
           "y": [
            -0.23222268,
            -0.27668926
           ],
           "z": [
            -1.0687072,
            -1.0544366
           ]
          },
          {
           "line": {
            "width": 10
           },
           "marker": {
            "size": 3
           },
           "mode": "lines+markers",
           "name": "RIGHT_UPPER_ARM",
           "type": "scatter3d",
           "x": [
            0.28014868,
            0.2695497
           ],
           "y": [
            -0.22931539,
            -0.27079025
           ],
           "z": [
            -1.0591588,
            -1.0314773
           ]
          },
          {
           "line": {
            "width": 10
           },
           "marker": {
            "size": 3
           },
           "mode": "lines+markers",
           "name": "LEFT_FOREARM",
           "type": "scatter3d",
           "x": [
            0.2364905,
            0.24756286
           ],
           "y": [
            -0.27668926,
            -0.31263688
           ],
           "z": [
            -1.0544366,
            -1.0253919
           ]
          },
          {
           "line": {
            "width": 10
           },
           "marker": {
            "size": 3
           },
           "mode": "lines+markers",
           "name": "RIGHT_FOREARM",
           "type": "scatter3d",
           "x": [
            0.2695497,
            0.25777978
           ],
           "y": [
            -0.27079025,
            -0.30378047
           ],
           "z": [
            -1.0314773,
            -1.0125109
           ]
          },
          {
           "line": {
            "width": 10
           },
           "marker": {
            "size": 3
           },
           "mode": "lines+markers",
           "name": "HIP",
           "type": "scatter3d",
           "x": [
            0.24517083,
            0.27897227
           ],
           "y": [
            -0.3122062,
            -0.30843306
           ],
           "z": [
            -1.080959,
            -1.0731597
           ]
          },
          {
           "line": {
            "width": 10
           },
           "marker": {
            "size": 3
           },
           "mode": "lines+markers",
           "name": "LEFT_BODY",
           "type": "scatter3d",
           "x": [
            0.23732124,
            0.24517083
           ],
           "y": [
            -0.23222268,
            -0.3122062
           ],
           "z": [
            -1.0687072,
            -1.080959
           ]
          },
          {
           "line": {
            "width": 10
           },
           "marker": {
            "size": 3
           },
           "mode": "lines+markers",
           "name": "RIGHT_BODY",
           "type": "scatter3d",
           "x": [
            0.28014868,
            0.27897227
           ],
           "y": [
            -0.22931539,
            -0.30843306
           ],
           "z": [
            -1.0591588,
            -1.0731597
           ]
          },
          {
           "line": {
            "width": 10
           },
           "marker": {
            "size": 3
           },
           "mode": "lines+markers",
           "name": "LEFT_THIGH",
           "type": "scatter3d",
           "x": [
            0.24517083,
            0.22632346
           ],
           "y": [
            -0.3122062,
            -0.37470993
           ],
           "z": [
            -1.080959,
            -1.0581585
           ]
          },
          {
           "line": {
            "width": 10
           },
           "marker": {
            "size": 3
           },
           "mode": "lines+markers",
           "name": "RIGHT_THIGH",
           "type": "scatter3d",
           "x": [
            0.27897227,
            0.28812733
           ],
           "y": [
            -0.30843306,
            -0.36676574
           ],
           "z": [
            -1.0731597,
            -1.0413197
           ]
          },
          {
           "line": {
            "width": 10
           },
           "marker": {
            "size": 3
           },
           "mode": "lines+markers",
           "name": "LEFT_LOWER_LEG",
           "type": "scatter3d",
           "x": [
            0.22632346,
            0.21108675
           ],
           "y": [
            -0.37470993,
            -0.43466857
           ],
           "z": [
            -1.0581585,
            -1.044275
           ]
          },
          {
           "line": {
            "width": 10
           },
           "marker": {
            "size": 3
           },
           "mode": "lines+markers",
           "name": "RIGHT_LOWER_LEG",
           "type": "scatter3d",
           "x": [
            0.28812733,
            0.29730368
           ],
           "y": [
            -0.36676574,
            -0.4228224
           ],
           "z": [
            -1.0413197,
            -1.0204047
           ]
          }
         ],
         "layout": {
          "title": {
           "text": "frame:210"
          }
         },
         "name": "210"
        },
        {
         "data": [
          {
           "line": {
            "width": 10
           },
           "marker": {
            "size": 3
           },
           "mode": "lines+markers",
           "name": "CLUB",
           "type": "scatter3d",
           "x": [
            0.25525257,
            0.31284395
           ],
           "y": [
            -0.3258454,
            -0.37162167
           ],
           "z": [
            -1.0007753,
            -0.85456425
           ]
          },
          {
           "line": {
            "width": 10
           },
           "marker": {
            "size": 3
           },
           "mode": "lines+markers",
           "name": "EYE",
           "type": "scatter3d",
           "x": [
            0.254704,
            0.2652029
           ],
           "y": [
            -0.20910275,
            -0.20800942
           ],
           "z": [
            -1.0478263,
            -1.0477768
           ]
          },
          {
           "line": {
            "width": 10
           },
           "marker": {
            "size": 3
           },
           "mode": "lines+markers",
           "name": "SHOULDER",
           "type": "scatter3d",
           "x": [
            0.23763207,
            0.2802861
           ],
           "y": [
            -0.23229715,
            -0.22932899
           ],
           "z": [
            -1.066549,
            -1.061933
           ]
          },
          {
           "line": {
            "width": 10
           },
           "marker": {
            "size": 3
           },
           "mode": "lines+markers",
           "name": "LEFT_UPPER_ARM",
           "type": "scatter3d",
           "x": [
            0.23763207,
            0.2351997
           ],
           "y": [
            -0.23229715,
            -0.27781776
           ],
           "z": [
            -1.066549,
            -1.0547059
           ]
          },
          {
           "line": {
            "width": 10
           },
           "marker": {
            "size": 3
           },
           "mode": "lines+markers",
           "name": "RIGHT_UPPER_ARM",
           "type": "scatter3d",
           "x": [
            0.2802861,
            0.27316594
           ],
           "y": [
            -0.22932899,
            -0.2696557
           ],
           "z": [
            -1.061933,
            -1.0335884
           ]
          },
          {
           "line": {
            "width": 10
           },
           "marker": {
            "size": 3
           },
           "mode": "lines+markers",
           "name": "LEFT_FOREARM",
           "type": "scatter3d",
           "x": [
            0.2351997,
            0.24805035
           ],
           "y": [
            -0.27781776,
            -0.31068423
           ],
           "z": [
            -1.0547059,
            -1.025936
           ]
          },
          {
           "line": {
            "width": 10
           },
           "marker": {
            "size": 3
           },
           "mode": "lines+markers",
           "name": "RIGHT_FOREARM",
           "type": "scatter3d",
           "x": [
            0.27316594,
            0.26041797
           ],
           "y": [
            -0.2696557,
            -0.3017769
           ],
           "z": [
            -1.0335884,
            -1.0119817
           ]
          },
          {
           "line": {
            "width": 10
           },
           "marker": {
            "size": 3
           },
           "mode": "lines+markers",
           "name": "HIP",
           "type": "scatter3d",
           "x": [
            0.24574734,
            0.27934715
           ],
           "y": [
            -0.31018978,
            -0.30747616
           ],
           "z": [
            -1.0787936,
            -1.0739266
           ]
          },
          {
           "line": {
            "width": 10
           },
           "marker": {
            "size": 3
           },
           "mode": "lines+markers",
           "name": "LEFT_BODY",
           "type": "scatter3d",
           "x": [
            0.23763207,
            0.24574734
           ],
           "y": [
            -0.23229715,
            -0.31018978
           ],
           "z": [
            -1.066549,
            -1.0787936
           ]
          },
          {
           "line": {
            "width": 10
           },
           "marker": {
            "size": 3
           },
           "mode": "lines+markers",
           "name": "RIGHT_BODY",
           "type": "scatter3d",
           "x": [
            0.2802861,
            0.27934715
           ],
           "y": [
            -0.22932899,
            -0.30747616
           ],
           "z": [
            -1.061933,
            -1.0739266
           ]
          },
          {
           "line": {
            "width": 10
           },
           "marker": {
            "size": 3
           },
           "mode": "lines+markers",
           "name": "LEFT_THIGH",
           "type": "scatter3d",
           "x": [
            0.24574734,
            0.22827749
           ],
           "y": [
            -0.31018978,
            -0.37237057
           ],
           "z": [
            -1.0787936,
            -1.0543922
           ]
          },
          {
           "line": {
            "width": 10
           },
           "marker": {
            "size": 3
           },
           "mode": "lines+markers",
           "name": "RIGHT_THIGH",
           "type": "scatter3d",
           "x": [
            0.27934715,
            0.2868285
           ],
           "y": [
            -0.30747616,
            -0.36723056
           ],
           "z": [
            -1.0739266,
            -1.0445673
           ]
          },
          {
           "line": {
            "width": 10
           },
           "marker": {
            "size": 3
           },
           "mode": "lines+markers",
           "name": "LEFT_LOWER_LEG",
           "type": "scatter3d",
           "x": [
            0.22827749,
            0.21341419
           ],
           "y": [
            -0.37237057,
            -0.4335001
           ],
           "z": [
            -1.0543922,
            -1.0403347
           ]
          },
          {
           "line": {
            "width": 10
           },
           "marker": {
            "size": 3
           },
           "mode": "lines+markers",
           "name": "RIGHT_LOWER_LEG",
           "type": "scatter3d",
           "x": [
            0.2868285,
            0.29632515
           ],
           "y": [
            -0.36723056,
            -0.42460924
           ],
           "z": [
            -1.0445673,
            -1.0221
           ]
          }
         ],
         "layout": {
          "title": {
           "text": "frame:215"
          }
         },
         "name": "215"
        },
        {
         "data": [
          {
           "line": {
            "width": 10
           },
           "marker": {
            "size": 3
           },
           "mode": "lines+markers",
           "name": "CLUB",
           "type": "scatter3d",
           "x": [
            0.26254064,
            0.33761358
           ],
           "y": [
            -0.32577562,
            -0.3588483
           ],
           "z": [
            -0.999803,
            -0.85800815
           ]
          },
          {
           "line": {
            "width": 10
           },
           "marker": {
            "size": 3
           },
           "mode": "lines+markers",
           "name": "EYE",
           "type": "scatter3d",
           "x": [
            0.25357792,
            0.2641236
           ],
           "y": [
            -0.21022344,
            -0.20898819
           ],
           "z": [
            -1.0506351,
            -1.0508002
           ]
          },
          {
           "line": {
            "width": 10
           },
           "marker": {
            "size": 3
           },
           "mode": "lines+markers",
           "name": "SHOULDER",
           "type": "scatter3d",
           "x": [
            0.23878203,
            0.2810876
           ],
           "y": [
            -0.23193946,
            -0.22923443
           ],
           "z": [
            -1.0635967,
            -1.0625503
           ]
          },
          {
           "line": {
            "width": 10
           },
           "marker": {
            "size": 3
           },
           "mode": "lines+markers",
           "name": "LEFT_UPPER_ARM",
           "type": "scatter3d",
           "x": [
            0.23878203,
            0.23737662
           ],
           "y": [
            -0.23193946,
            -0.27709967
           ],
           "z": [
            -1.0635967,
            -1.053684
           ]
          },
          {
           "line": {
            "width": 10
           },
           "marker": {
            "size": 3
           },
           "mode": "lines+markers",
           "name": "RIGHT_UPPER_ARM",
           "type": "scatter3d",
           "x": [
            0.2810876,
            0.27522907
           ],
           "y": [
            -0.22923443,
            -0.26915255
           ],
           "z": [
            -1.0625503,
            -1.0365695
           ]
          },
          {
           "line": {
            "width": 10
           },
           "marker": {
            "size": 3
           },
           "mode": "lines+markers",
           "name": "LEFT_FOREARM",
           "type": "scatter3d",
           "x": [
            0.23737662,
            0.25000423
           ],
           "y": [
            -0.27709967,
            -0.30903515
           ],
           "z": [
            -1.053684,
            -1.0244547
           ]
          },
          {
           "line": {
            "width": 10
           },
           "marker": {
            "size": 3
           },
           "mode": "lines+markers",
           "name": "RIGHT_FOREARM",
           "type": "scatter3d",
           "x": [
            0.27522907,
            0.2631492
           ],
           "y": [
            -0.26915255,
            -0.3002279
           ],
           "z": [
            -1.0365695,
            -1.0135641
           ]
          },
          {
           "line": {
            "width": 10
           },
           "marker": {
            "size": 3
           },
           "mode": "lines+markers",
           "name": "HIP",
           "type": "scatter3d",
           "x": [
            0.24701567,
            0.28015932
           ],
           "y": [
            -0.30831262,
            -0.30616447
           ],
           "z": [
            -1.0741004,
            -1.0716404
           ]
          },
          {
           "line": {
            "width": 10
           },
           "marker": {
            "size": 3
           },
           "mode": "lines+markers",
           "name": "LEFT_BODY",
           "type": "scatter3d",
           "x": [
            0.23878203,
            0.24701567
           ],
           "y": [
            -0.23193946,
            -0.30831262
           ],
           "z": [
            -1.0635967,
            -1.0741004
           ]
          },
          {
           "line": {
            "width": 10
           },
           "marker": {
            "size": 3
           },
           "mode": "lines+markers",
           "name": "RIGHT_BODY",
           "type": "scatter3d",
           "x": [
            0.2810876,
            0.28015932
           ],
           "y": [
            -0.22923443,
            -0.30616447
           ],
           "z": [
            -1.0625503,
            -1.0716404
           ]
          },
          {
           "line": {
            "width": 10
           },
           "marker": {
            "size": 3
           },
           "mode": "lines+markers",
           "name": "LEFT_THIGH",
           "type": "scatter3d",
           "x": [
            0.24701567,
            0.22847165
           ],
           "y": [
            -0.30831262,
            -0.37047985
           ],
           "z": [
            -1.0741004,
            -1.0519933
           ]
          },
          {
           "line": {
            "width": 10
           },
           "marker": {
            "size": 3
           },
           "mode": "lines+markers",
           "name": "RIGHT_THIGH",
           "type": "scatter3d",
           "x": [
            0.28015932,
            0.2862073
           ],
           "y": [
            -0.30616447,
            -0.36654702
           ],
           "z": [
            -1.0716404,
            -1.0459645
           ]
          },
          {
           "line": {
            "width": 10
           },
           "marker": {
            "size": 3
           },
           "mode": "lines+markers",
           "name": "LEFT_LOWER_LEG",
           "type": "scatter3d",
           "x": [
            0.22847165,
            0.21479389
           ],
           "y": [
            -0.37047985,
            -0.43231696
           ],
           "z": [
            -1.0519933,
            -1.0392528
           ]
          },
          {
           "line": {
            "width": 10
           },
           "marker": {
            "size": 3
           },
           "mode": "lines+markers",
           "name": "RIGHT_LOWER_LEG",
           "type": "scatter3d",
           "x": [
            0.2862073,
            0.29636425
           ],
           "y": [
            -0.36654702,
            -0.42456317
           ],
           "z": [
            -1.0459645,
            -1.0237405
           ]
          }
         ],
         "layout": {
          "title": {
           "text": "frame:220"
          }
         },
         "name": "220"
        },
        {
         "data": [
          {
           "line": {
            "width": 10
           },
           "marker": {
            "size": 3
           },
           "mode": "lines+markers",
           "name": "CLUB",
           "type": "scatter3d",
           "x": [
            0.26701707,
            0.3687937
           ],
           "y": [
            -0.32209843,
            -0.34763733
           ],
           "z": [
            -0.996169,
            -0.8678534
           ]
          },
          {
           "line": {
            "width": 10
           },
           "marker": {
            "size": 3
           },
           "mode": "lines+markers",
           "name": "EYE",
           "type": "scatter3d",
           "x": [
            0.25614557,
            0.26632172
           ],
           "y": [
            -0.20895484,
            -0.20772044
           ],
           "z": [
            -1.0484657,
            -1.0491192
           ]
          },
          {
           "line": {
            "width": 10
           },
           "marker": {
            "size": 3
           },
           "mode": "lines+markers",
           "name": "SHOULDER",
           "type": "scatter3d",
           "x": [
            0.23843063,
            0.28196335
           ],
           "y": [
            -0.23253107,
            -0.22854725
           ],
           "z": [
            -1.0637507,
            -1.0598041
           ]
          },
          {
           "line": {
            "width": 10
           },
           "marker": {
            "size": 3
           },
           "mode": "lines+markers",
           "name": "LEFT_UPPER_ARM",
           "type": "scatter3d",
           "x": [
            0.23843063,
            0.23755193
           ],
           "y": [
            -0.23253107,
            -0.27614966
           ],
           "z": [
            -1.0637507,
            -1.0528686
           ]
          },
          {
           "line": {
            "width": 10
           },
           "marker": {
            "size": 3
           },
           "mode": "lines+markers",
           "name": "RIGHT_UPPER_ARM",
           "type": "scatter3d",
           "x": [
            0.28196335,
            0.2770341
           ],
           "y": [
            -0.22854725,
            -0.26695293
           ],
           "z": [
            -1.0598041,
            -1.0353715
           ]
          },
          {
           "line": {
            "width": 10
           },
           "marker": {
            "size": 3
           },
           "mode": "lines+markers",
           "name": "LEFT_FOREARM",
           "type": "scatter3d",
           "x": [
            0.23755193,
            0.25436646
           ],
           "y": [
            -0.27614966,
            -0.30847463
           ],
           "z": [
            -1.0528686,
            -1.0198027
           ]
          },
          {
           "line": {
            "width": 10
           },
           "marker": {
            "size": 3
           },
           "mode": "lines+markers",
           "name": "RIGHT_FOREARM",
           "type": "scatter3d",
           "x": [
            0.2770341,
            0.2683815
           ],
           "y": [
            -0.26695293,
            -0.2957577
           ],
           "z": [
            -1.0353715,
            -1.0090278
           ]
          },
          {
           "line": {
            "width": 10
           },
           "marker": {
            "size": 3
           },
           "mode": "lines+markers",
           "name": "HIP",
           "type": "scatter3d",
           "x": [
            0.24638864,
            0.28047362
           ],
           "y": [
            -0.31081802,
            -0.30726784
           ],
           "z": [
            -1.074138,
            -1.0702691
           ]
          },
          {
           "line": {
            "width": 10
           },
           "marker": {
            "size": 3
           },
           "mode": "lines+markers",
           "name": "LEFT_BODY",
           "type": "scatter3d",
           "x": [
            0.23843063,
            0.24638864
           ],
           "y": [
            -0.23253107,
            -0.31081802
           ],
           "z": [
            -1.0637507,
            -1.074138
           ]
          },
          {
           "line": {
            "width": 10
           },
           "marker": {
            "size": 3
           },
           "mode": "lines+markers",
           "name": "RIGHT_BODY",
           "type": "scatter3d",
           "x": [
            0.28196335,
            0.28047362
           ],
           "y": [
            -0.22854725,
            -0.30726784
           ],
           "z": [
            -1.0598041,
            -1.0702691
           ]
          },
          {
           "line": {
            "width": 10
           },
           "marker": {
            "size": 3
           },
           "mode": "lines+markers",
           "name": "LEFT_THIGH",
           "type": "scatter3d",
           "x": [
            0.24638864,
            0.22660102
           ],
           "y": [
            -0.31081802,
            -0.37301043
           ],
           "z": [
            -1.074138,
            -1.0515926
           ]
          },
          {
           "line": {
            "width": 10
           },
           "marker": {
            "size": 3
           },
           "mode": "lines+markers",
           "name": "RIGHT_THIGH",
           "type": "scatter3d",
           "x": [
            0.28047362,
            0.28762618
           ],
           "y": [
            -0.30726784,
            -0.36659852
           ],
           "z": [
            -1.0702691,
            -1.0415746
           ]
          },
          {
           "line": {
            "width": 10
           },
           "marker": {
            "size": 3
           },
           "mode": "lines+markers",
           "name": "LEFT_LOWER_LEG",
           "type": "scatter3d",
           "x": [
            0.22660102,
            0.21129948
           ],
           "y": [
            -0.37301043,
            -0.4331676
           ],
           "z": [
            -1.0515926,
            -1.0390154
           ]
          },
          {
           "line": {
            "width": 10
           },
           "marker": {
            "size": 3
           },
           "mode": "lines+markers",
           "name": "RIGHT_LOWER_LEG",
           "type": "scatter3d",
           "x": [
            0.28762618,
            0.29709947
           ],
           "y": [
            -0.36659852,
            -0.42338336
           ],
           "z": [
            -1.0415746,
            -1.0227507
           ]
          }
         ],
         "layout": {
          "title": {
           "text": "frame:225"
          }
         },
         "name": "225"
        },
        {
         "data": [
          {
           "line": {
            "width": 10
           },
           "marker": {
            "size": 3
           },
           "mode": "lines+markers",
           "name": "CLUB",
           "type": "scatter3d",
           "x": [
            0.27559727,
            0.3989318
           ],
           "y": [
            -0.3175049,
            -0.33099562
           ],
           "z": [
            -0.99568534,
            -0.8854278
           ]
          },
          {
           "line": {
            "width": 10
           },
           "marker": {
            "size": 3
           },
           "mode": "lines+markers",
           "name": "EYE",
           "type": "scatter3d",
           "x": [
            0.25641444,
            0.26588494
           ],
           "y": [
            -0.20874847,
            -0.20787284
           ],
           "z": [
            -1.0474436,
            -1.0498323
           ]
          },
          {
           "line": {
            "width": 10
           },
           "marker": {
            "size": 3
           },
           "mode": "lines+markers",
           "name": "SHOULDER",
           "type": "scatter3d",
           "x": [
            0.23793602,
            0.2822499
           ],
           "y": [
            -0.23230357,
            -0.22823264
           ],
           "z": [
            -1.0610436,
            -1.0620425
           ]
          },
          {
           "line": {
            "width": 10
           },
           "marker": {
            "size": 3
           },
           "mode": "lines+markers",
           "name": "LEFT_UPPER_ARM",
           "type": "scatter3d",
           "x": [
            0.23793602,
            0.23982926
           ],
           "y": [
            -0.23230357,
            -0.274452
           ],
           "z": [
            -1.0610436,
            -1.0515492
           ]
          },
          {
           "line": {
            "width": 10
           },
           "marker": {
            "size": 3
           },
           "mode": "lines+markers",
           "name": "RIGHT_UPPER_ARM",
           "type": "scatter3d",
           "x": [
            0.2822499,
            0.28277403
           ],
           "y": [
            -0.22823264,
            -0.2638248
           ],
           "z": [
            -1.0620425,
            -1.0403376
           ]
          },
          {
           "line": {
            "width": 10
           },
           "marker": {
            "size": 3
           },
           "mode": "lines+markers",
           "name": "LEFT_FOREARM",
           "type": "scatter3d",
           "x": [
            0.23982926,
            0.25833216
           ],
           "y": [
            -0.274452,
            -0.3045732
           ],
           "z": [
            -1.0515492,
            -1.0201021
           ]
          },
          {
           "line": {
            "width": 10
           },
           "marker": {
            "size": 3
           },
           "mode": "lines+markers",
           "name": "RIGHT_FOREARM",
           "type": "scatter3d",
           "x": [
            0.28277403,
            0.2745334
           ],
           "y": [
            -0.2638248,
            -0.288996
           ],
           "z": [
            -1.0403376,
            -1.0108845
           ]
          },
          {
           "line": {
            "width": 10
           },
           "marker": {
            "size": 3
           },
           "mode": "lines+markers",
           "name": "HIP",
           "type": "scatter3d",
           "x": [
            0.24616182,
            0.2804928
           ],
           "y": [
            -0.30995023,
            -0.30671915
           ],
           "z": [
            -1.068226,
            -1.0670737
           ]
          },
          {
           "line": {
            "width": 10
           },
           "marker": {
            "size": 3
           },
           "mode": "lines+markers",
           "name": "LEFT_BODY",
           "type": "scatter3d",
           "x": [
            0.23793602,
            0.24616182
           ],
           "y": [
            -0.23230357,
            -0.30995023
           ],
           "z": [
            -1.0610436,
            -1.068226
           ]
          },
          {
           "line": {
            "width": 10
           },
           "marker": {
            "size": 3
           },
           "mode": "lines+markers",
           "name": "RIGHT_BODY",
           "type": "scatter3d",
           "x": [
            0.2822499,
            0.2804928
           ],
           "y": [
            -0.22823264,
            -0.30671915
           ],
           "z": [
            -1.0620425,
            -1.0670737
           ]
          },
          {
           "line": {
            "width": 10
           },
           "marker": {
            "size": 3
           },
           "mode": "lines+markers",
           "name": "LEFT_THIGH",
           "type": "scatter3d",
           "x": [
            0.24616182,
            0.22671115
           ],
           "y": [
            -0.30995023,
            -0.37270698
           ],
           "z": [
            -1.068226,
            -1.0493082
           ]
          },
          {
           "line": {
            "width": 10
           },
           "marker": {
            "size": 3
           },
           "mode": "lines+markers",
           "name": "RIGHT_THIGH",
           "type": "scatter3d",
           "x": [
            0.2804928,
            0.28761515
           ],
           "y": [
            -0.30671915,
            -0.3655076
           ],
           "z": [
            -1.0670737,
            -1.0386784
           ]
          },
          {
           "line": {
            "width": 10
           },
           "marker": {
            "size": 3
           },
           "mode": "lines+markers",
           "name": "LEFT_LOWER_LEG",
           "type": "scatter3d",
           "x": [
            0.22671115,
            0.21192655
           ],
           "y": [
            -0.37270698,
            -0.4339246
           ],
           "z": [
            -1.0493082,
            -1.0415679
           ]
          },
          {
           "line": {
            "width": 10
           },
           "marker": {
            "size": 3
           },
           "mode": "lines+markers",
           "name": "RIGHT_LOWER_LEG",
           "type": "scatter3d",
           "x": [
            0.28761515,
            0.2968
           ],
           "y": [
            -0.3655076,
            -0.4216554
           ],
           "z": [
            -1.0386784,
            -1.0211163
           ]
          }
         ],
         "layout": {
          "title": {
           "text": "frame:230"
          }
         },
         "name": "230"
        },
        {
         "data": [
          {
           "line": {
            "width": 10
           },
           "marker": {
            "size": 3
           },
           "mode": "lines+markers",
           "name": "CLUB",
           "type": "scatter3d",
           "x": [
            0.28620392,
            0.42566344
           ],
           "y": [
            -0.31030914,
            -0.31286275
           ],
           "z": [
            -0.9929162,
            -0.90224093
           ]
          },
          {
           "line": {
            "width": 10
           },
           "marker": {
            "size": 3
           },
           "mode": "lines+markers",
           "name": "EYE",
           "type": "scatter3d",
           "x": [
            0.2569209,
            0.26620734
           ],
           "y": [
            -0.20804265,
            -0.2071155
           ],
           "z": [
            -1.0439978,
            -1.046595
           ]
          },
          {
           "line": {
            "width": 10
           },
           "marker": {
            "size": 3
           },
           "mode": "lines+markers",
           "name": "SHOULDER",
           "type": "scatter3d",
           "x": [
            0.23743819,
            0.28102127
           ],
           "y": [
            -0.23202361,
            -0.22915572
           ],
           "z": [
            -1.0604519,
            -1.0652813
           ]
          },
          {
           "line": {
            "width": 10
           },
           "marker": {
            "size": 3
           },
           "mode": "lines+markers",
           "name": "LEFT_UPPER_ARM",
           "type": "scatter3d",
           "x": [
            0.23743819,
            0.24249987
           ],
           "y": [
            -0.23202361,
            -0.27306974
           ],
           "z": [
            -1.0604519,
            -1.0466691
           ]
          },
          {
           "line": {
            "width": 10
           },
           "marker": {
            "size": 3
           },
           "mode": "lines+markers",
           "name": "RIGHT_UPPER_ARM",
           "type": "scatter3d",
           "x": [
            0.28102127,
            0.28232956
           ],
           "y": [
            -0.22915572,
            -0.2679416
           ],
           "z": [
            -1.0652813,
            -1.0514823
           ]
          },
          {
           "line": {
            "width": 10
           },
           "marker": {
            "size": 3
           },
           "mode": "lines+markers",
           "name": "LEFT_FOREARM",
           "type": "scatter3d",
           "x": [
            0.24249987,
            0.26571104
           ],
           "y": [
            -0.27306974,
            -0.29970214
           ],
           "z": [
            -1.0466691,
            -1.0122843
           ]
          },
          {
           "line": {
            "width": 10
           },
           "marker": {
            "size": 3
           },
           "mode": "lines+markers",
           "name": "RIGHT_FOREARM",
           "type": "scatter3d",
           "x": [
            0.28232956,
            0.27816302
           ],
           "y": [
            -0.2679416,
            -0.2906477
           ],
           "z": [
            -1.0514823,
            -1.0155351
           ]
          },
          {
           "line": {
            "width": 10
           },
           "marker": {
            "size": 3
           },
           "mode": "lines+markers",
           "name": "HIP",
           "type": "scatter3d",
           "x": [
            0.24525218,
            0.2789731
           ],
           "y": [
            -0.30933085,
            -0.30681852
           ],
           "z": [
            -1.0641999,
            -1.0651925
           ]
          },
          {
           "line": {
            "width": 10
           },
           "marker": {
            "size": 3
           },
           "mode": "lines+markers",
           "name": "LEFT_BODY",
           "type": "scatter3d",
           "x": [
            0.23743819,
            0.24525218
           ],
           "y": [
            -0.23202361,
            -0.30933085
           ],
           "z": [
            -1.0604519,
            -1.0641999
           ]
          },
          {
           "line": {
            "width": 10
           },
           "marker": {
            "size": 3
           },
           "mode": "lines+markers",
           "name": "RIGHT_BODY",
           "type": "scatter3d",
           "x": [
            0.28102127,
            0.2789731
           ],
           "y": [
            -0.22915572,
            -0.30681852
           ],
           "z": [
            -1.0652813,
            -1.0651925
           ]
          },
          {
           "line": {
            "width": 10
           },
           "marker": {
            "size": 3
           },
           "mode": "lines+markers",
           "name": "LEFT_THIGH",
           "type": "scatter3d",
           "x": [
            0.24525218,
            0.22735763
           ],
           "y": [
            -0.30933085,
            -0.3728719
           ],
           "z": [
            -1.0641999,
            -1.0481052
           ]
          },
          {
           "line": {
            "width": 10
           },
           "marker": {
            "size": 3
           },
           "mode": "lines+markers",
           "name": "RIGHT_THIGH",
           "type": "scatter3d",
           "x": [
            0.2789731,
            0.28686485
           ],
           "y": [
            -0.30681852,
            -0.36709633
           ],
           "z": [
            -1.0651925,
            -1.0402691
           ]
          },
          {
           "line": {
            "width": 10
           },
           "marker": {
            "size": 3
           },
           "mode": "lines+markers",
           "name": "LEFT_LOWER_LEG",
           "type": "scatter3d",
           "x": [
            0.22735763,
            0.21167071
           ],
           "y": [
            -0.3728719,
            -0.4338668
           ],
           "z": [
            -1.0481052,
            -1.0412028
           ]
          },
          {
           "line": {
            "width": 10
           },
           "marker": {
            "size": 3
           },
           "mode": "lines+markers",
           "name": "RIGHT_LOWER_LEG",
           "type": "scatter3d",
           "x": [
            0.28686485,
            0.29504076
           ],
           "y": [
            -0.36709633,
            -0.42367575
           ],
           "z": [
            -1.0402691,
            -1.0229267
           ]
          }
         ],
         "layout": {
          "title": {
           "text": "frame:235"
          }
         },
         "name": "235"
        },
        {
         "data": [
          {
           "line": {
            "width": 10
           },
           "marker": {
            "size": 3
           },
           "mode": "lines+markers",
           "name": "CLUB",
           "type": "scatter3d",
           "x": [
            0.295136,
            0.44890082
           ],
           "y": [
            -0.30581236,
            -0.29401213
           ],
           "z": [
            -0.9958904,
            -0.93422014
           ]
          },
          {
           "line": {
            "width": 10
           },
           "marker": {
            "size": 3
           },
           "mode": "lines+markers",
           "name": "EYE",
           "type": "scatter3d",
           "x": [
            0.26085854,
            0.2679999
           ],
           "y": [
            -0.20549606,
            -0.20544633
           ],
           "z": [
            -1.0393971,
            -1.0450196
           ]
          },
          {
           "line": {
            "width": 10
           },
           "marker": {
            "size": 3
           },
           "mode": "lines+markers",
           "name": "SHOULDER",
           "type": "scatter3d",
           "x": [
            0.23835856,
            0.27990663
           ],
           "y": [
            -0.23210357,
            -0.23065487
           ],
           "z": [
            -1.0572548,
            -1.0670053
           ]
          },
          {
           "line": {
            "width": 10
           },
           "marker": {
            "size": 3
           },
           "mode": "lines+markers",
           "name": "LEFT_UPPER_ARM",
           "type": "scatter3d",
           "x": [
            0.23835856,
            0.2470442
           ],
           "y": [
            -0.23210357,
            -0.26908
           ],
           "z": [
            -1.0572548,
            -1.0395172
           ]
          },
          {
           "line": {
            "width": 10
           },
           "marker": {
            "size": 3
           },
           "mode": "lines+markers",
           "name": "RIGHT_UPPER_ARM",
           "type": "scatter3d",
           "x": [
            0.27990663,
            0.28580672
           ],
           "y": [
            -0.23065487,
            -0.26598772
           ],
           "z": [
            -1.0670053,
            -1.0503789
           ]
          },
          {
           "line": {
            "width": 10
           },
           "marker": {
            "size": 3
           },
           "mode": "lines+markers",
           "name": "LEFT_FOREARM",
           "type": "scatter3d",
           "x": [
            0.2470442,
            0.27466452
           ],
           "y": [
            -0.26908,
            -0.29289097
           ],
           "z": [
            -1.0395172,
            -1.0089484
           ]
          },
          {
           "line": {
            "width": 10
           },
           "marker": {
            "size": 3
           },
           "mode": "lines+markers",
           "name": "RIGHT_FOREARM",
           "type": "scatter3d",
           "x": [
            0.28580672,
            0.28482077
           ],
           "y": [
            -0.26598772,
            -0.2860982
           ],
           "z": [
            -1.0503789,
            -1.0125612
           ]
          },
          {
           "line": {
            "width": 10
           },
           "marker": {
            "size": 3
           },
           "mode": "lines+markers",
           "name": "HIP",
           "type": "scatter3d",
           "x": [
            0.24550462,
            0.27828068
           ],
           "y": [
            -0.30941826,
            -0.30756834
           ],
           "z": [
            -1.0608411,
            -1.0646029
           ]
          },
          {
           "line": {
            "width": 10
           },
           "marker": {
            "size": 3
           },
           "mode": "lines+markers",
           "name": "LEFT_BODY",
           "type": "scatter3d",
           "x": [
            0.23835856,
            0.24550462
           ],
           "y": [
            -0.23210357,
            -0.30941826
           ],
           "z": [
            -1.0572548,
            -1.0608411
           ]
          },
          {
           "line": {
            "width": 10
           },
           "marker": {
            "size": 3
           },
           "mode": "lines+markers",
           "name": "RIGHT_BODY",
           "type": "scatter3d",
           "x": [
            0.27990663,
            0.27828068
           ],
           "y": [
            -0.23065487,
            -0.30756834
           ],
           "z": [
            -1.0670053,
            -1.0646029
           ]
          },
          {
           "line": {
            "width": 10
           },
           "marker": {
            "size": 3
           },
           "mode": "lines+markers",
           "name": "LEFT_THIGH",
           "type": "scatter3d",
           "x": [
            0.24550462,
            0.22829972
           ],
           "y": [
            -0.30941826,
            -0.37307858
           ],
           "z": [
            -1.0608411,
            -1.0470463
           ]
          },
          {
           "line": {
            "width": 10
           },
           "marker": {
            "size": 3
           },
           "mode": "lines+markers",
           "name": "RIGHT_THIGH",
           "type": "scatter3d",
           "x": [
            0.27828068,
            0.28847128
           ],
           "y": [
            -0.30756834,
            -0.3668588
           ],
           "z": [
            -1.0646029,
            -1.038585
           ]
          },
          {
           "line": {
            "width": 10
           },
           "marker": {
            "size": 3
           },
           "mode": "lines+markers",
           "name": "LEFT_LOWER_LEG",
           "type": "scatter3d",
           "x": [
            0.22829972,
            0.21051955
           ],
           "y": [
            -0.37307858,
            -0.43450758
           ],
           "z": [
            -1.0470463,
            -1.0426875
           ]
          },
          {
           "line": {
            "width": 10
           },
           "marker": {
            "size": 3
           },
           "mode": "lines+markers",
           "name": "RIGHT_LOWER_LEG",
           "type": "scatter3d",
           "x": [
            0.28847128,
            0.29585376
           ],
           "y": [
            -0.3668588,
            -0.42302835
           ],
           "z": [
            -1.038585,
            -1.0219041
           ]
          }
         ],
         "layout": {
          "title": {
           "text": "frame:240"
          }
         },
         "name": "240"
        },
        {
         "data": [
          {
           "line": {
            "width": 10
           },
           "marker": {
            "size": 3
           },
           "mode": "lines+markers",
           "name": "CLUB",
           "type": "scatter3d",
           "x": [
            0.30778956,
            0.47109327
           ],
           "y": [
            -0.29659203,
            -0.2733551
           ],
           "z": [
            -0.9949616,
            -0.96826094
           ]
          },
          {
           "line": {
            "width": 10
           },
           "marker": {
            "size": 3
           },
           "mode": "lines+markers",
           "name": "EYE",
           "type": "scatter3d",
           "x": [
            0.2572005,
            0.2657865
           ],
           "y": [
            -0.2076362,
            -0.20662466
           ],
           "z": [
            -1.0409255,
            -1.0441453
           ]
          },
          {
           "line": {
            "width": 10
           },
           "marker": {
            "size": 3
           },
           "mode": "lines+markers",
           "name": "SHOULDER",
           "type": "scatter3d",
           "x": [
            0.23640016,
            0.28233346
           ],
           "y": [
            -0.23331675,
            -0.2289067
           ],
           "z": [
            -1.0615145,
            -1.0683951
           ]
          },
          {
           "line": {
            "width": 10
           },
           "marker": {
            "size": 3
           },
           "mode": "lines+markers",
           "name": "LEFT_UPPER_ARM",
           "type": "scatter3d",
           "x": [
            0.23640016,
            0.25021774
           ],
           "y": [
            -0.23331675,
            -0.26788375
           ],
           "z": [
            -1.0615145,
            -1.0381557
           ]
          },
          {
           "line": {
            "width": 10
           },
           "marker": {
            "size": 3
           },
           "mode": "lines+markers",
           "name": "RIGHT_UPPER_ARM",
           "type": "scatter3d",
           "x": [
            0.28233346,
            0.28908554
           ],
           "y": [
            -0.2289067,
            -0.26477385
           ],
           "z": [
            -1.0683951,
            -1.0628141
           ]
          },
          {
           "line": {
            "width": 10
           },
           "marker": {
            "size": 3
           },
           "mode": "lines+markers",
           "name": "LEFT_FOREARM",
           "type": "scatter3d",
           "x": [
            0.25021774,
            0.2816961
           ],
           "y": [
            -0.26788375,
            -0.28731456
           ],
           "z": [
            -1.0381557,
            -1.0123428
           ]
          },
          {
           "line": {
            "width": 10
           },
           "marker": {
            "size": 3
           },
           "mode": "lines+markers",
           "name": "RIGHT_FOREARM",
           "type": "scatter3d",
           "x": [
            0.28908554,
            0.29451928
           ],
           "y": [
            -0.26477385,
            -0.28236318
           ],
           "z": [
            -1.0628141,
            -1.0178406
           ]
          },
          {
           "line": {
            "width": 10
           },
           "marker": {
            "size": 3
           },
           "mode": "lines+markers",
           "name": "HIP",
           "type": "scatter3d",
           "x": [
            0.24380746,
            0.27908477
           ],
           "y": [
            -0.31051672,
            -0.30714872
           ],
           "z": [
            -1.062555,
            -1.0645504
           ]
          },
          {
           "line": {
            "width": 10
           },
           "marker": {
            "size": 3
           },
           "mode": "lines+markers",
           "name": "LEFT_BODY",
           "type": "scatter3d",
           "x": [
            0.23640016,
            0.24380746
           ],
           "y": [
            -0.23331675,
            -0.31051672
           ],
           "z": [
            -1.0615145,
            -1.062555
           ]
          },
          {
           "line": {
            "width": 10
           },
           "marker": {
            "size": 3
           },
           "mode": "lines+markers",
           "name": "RIGHT_BODY",
           "type": "scatter3d",
           "x": [
            0.28233346,
            0.27908477
           ],
           "y": [
            -0.2289067,
            -0.30714872
           ],
           "z": [
            -1.0683951,
            -1.0645504
           ]
          },
          {
           "line": {
            "width": 10
           },
           "marker": {
            "size": 3
           },
           "mode": "lines+markers",
           "name": "LEFT_THIGH",
           "type": "scatter3d",
           "x": [
            0.24380746,
            0.22720948
           ],
           "y": [
            -0.31051672,
            -0.37383565
           ],
           "z": [
            -1.062555,
            -1.0484778
           ]
          },
          {
           "line": {
            "width": 10
           },
           "marker": {
            "size": 3
           },
           "mode": "lines+markers",
           "name": "RIGHT_THIGH",
           "type": "scatter3d",
           "x": [
            0.27908477,
            0.2881304
           ],
           "y": [
            -0.30714872,
            -0.36617485
           ],
           "z": [
            -1.0645504,
            -1.0399343
           ]
          },
          {
           "line": {
            "width": 10
           },
           "marker": {
            "size": 3
           },
           "mode": "lines+markers",
           "name": "LEFT_LOWER_LEG",
           "type": "scatter3d",
           "x": [
            0.22720948,
            0.21049845
           ],
           "y": [
            -0.37383565,
            -0.43476543
           ],
           "z": [
            -1.0484778,
            -1.0430647
           ]
          },
          {
           "line": {
            "width": 10
           },
           "marker": {
            "size": 3
           },
           "mode": "lines+markers",
           "name": "RIGHT_LOWER_LEG",
           "type": "scatter3d",
           "x": [
            0.2881304,
            0.29203632
           ],
           "y": [
            -0.36617485,
            -0.42393872
           ],
           "z": [
            -1.0399343,
            -1.027157
           ]
          }
         ],
         "layout": {
          "title": {
           "text": "frame:245"
          }
         },
         "name": "245"
        },
        {
         "data": [
          {
           "line": {
            "width": 10
           },
           "marker": {
            "size": 3
           },
           "mode": "lines+markers",
           "name": "CLUB",
           "type": "scatter3d",
           "x": [
            0.32073104,
            0.48457906
           ],
           "y": [
            -0.28643596,
            -0.24832816
           ],
           "z": [
            -1.0008607,
            -1.0084015
           ]
          },
          {
           "line": {
            "width": 10
           },
           "marker": {
            "size": 3
           },
           "mode": "lines+markers",
           "name": "EYE",
           "type": "scatter3d",
           "x": [
            0.25802776,
            0.2661693
           ],
           "y": [
            -0.20822817,
            -0.2070798
           ],
           "z": [
            -1.041004,
            -1.0446844
           ]
          },
          {
           "line": {
            "width": 10
           },
           "marker": {
            "size": 3
           },
           "mode": "lines+markers",
           "name": "SHOULDER",
           "type": "scatter3d",
           "x": [
            0.2407446,
            0.27727547
           ],
           "y": [
            -0.23308209,
            -0.2299548
           ],
           "z": [
            -1.0565019,
            -1.07607
           ]
          },
          {
           "line": {
            "width": 10
           },
           "marker": {
            "size": 3
           },
           "mode": "lines+markers",
           "name": "LEFT_UPPER_ARM",
           "type": "scatter3d",
           "x": [
            0.2407446,
            0.25534624
           ],
           "y": [
            -0.23308209,
            -0.26783094
           ],
           "z": [
            -1.0565019,
            -1.036093
           ]
          },
          {
           "line": {
            "width": 10
           },
           "marker": {
            "size": 3
           },
           "mode": "lines+markers",
           "name": "RIGHT_UPPER_ARM",
           "type": "scatter3d",
           "x": [
            0.27727547,
            0.29263237
           ],
           "y": [
            -0.2299548,
            -0.2566559
           ],
           "z": [
            -1.07607,
            -1.0714756
           ]
          },
          {
           "line": {
            "width": 10
           },
           "marker": {
            "size": 3
           },
           "mode": "lines+markers",
           "name": "LEFT_FOREARM",
           "type": "scatter3d",
           "x": [
            0.25534624,
            0.29335034
           ],
           "y": [
            -0.26783094,
            -0.28183725
           ],
           "z": [
            -1.036093,
            -1.0088974
           ]
          },
          {
           "line": {
            "width": 10
           },
           "marker": {
            "size": 3
           },
           "mode": "lines+markers",
           "name": "RIGHT_FOREARM",
           "type": "scatter3d",
           "x": [
            0.29263237,
            0.30758065
           ],
           "y": [
            -0.2566559,
            -0.26135978
           ],
           "z": [
            -1.0714756,
            -1.0252068
           ]
          },
          {
           "line": {
            "width": 10
           },
           "marker": {
            "size": 3
           },
           "mode": "lines+markers",
           "name": "HIP",
           "type": "scatter3d",
           "x": [
            0.24702297,
            0.27581155
           ],
           "y": [
            -0.3129475,
            -0.31262264
           ],
           "z": [
            -1.0619632,
            -1.0716336
           ]
          },
          {
           "line": {
            "width": 10
           },
           "marker": {
            "size": 3
           },
           "mode": "lines+markers",
           "name": "LEFT_BODY",
           "type": "scatter3d",
           "x": [
            0.2407446,
            0.24702297
           ],
           "y": [
            -0.23308209,
            -0.3129475
           ],
           "z": [
            -1.0565019,
            -1.0619632
           ]
          },
          {
           "line": {
            "width": 10
           },
           "marker": {
            "size": 3
           },
           "mode": "lines+markers",
           "name": "RIGHT_BODY",
           "type": "scatter3d",
           "x": [
            0.27727547,
            0.27581155
           ],
           "y": [
            -0.2299548,
            -0.31262264
           ],
           "z": [
            -1.07607,
            -1.0716336
           ]
          },
          {
           "line": {
            "width": 10
           },
           "marker": {
            "size": 3
           },
           "mode": "lines+markers",
           "name": "LEFT_THIGH",
           "type": "scatter3d",
           "x": [
            0.24702297,
            0.23281468
           ],
           "y": [
            -0.3129475,
            -0.37133703
           ],
           "z": [
            -1.0619632,
            -1.0405463
           ]
          },
          {
           "line": {
            "width": 10
           },
           "marker": {
            "size": 3
           },
           "mode": "lines+markers",
           "name": "RIGHT_THIGH",
           "type": "scatter3d",
           "x": [
            0.27581155,
            0.2868772
           ],
           "y": [
            -0.31262264,
            -0.3694341
           ],
           "z": [
            -1.0716336,
            -1.0424584
           ]
          },
          {
           "line": {
            "width": 10
           },
           "marker": {
            "size": 3
           },
           "mode": "lines+markers",
           "name": "LEFT_LOWER_LEG",
           "type": "scatter3d",
           "x": [
            0.23281468,
            0.2149242
           ],
           "y": [
            -0.37133703,
            -0.4311985
           ],
           "z": [
            -1.0405463,
            -1.0359458
           ]
          },
          {
           "line": {
            "width": 10
           },
           "marker": {
            "size": 3
           },
           "mode": "lines+markers",
           "name": "RIGHT_LOWER_LEG",
           "type": "scatter3d",
           "x": [
            0.2868772,
            0.29573774
           ],
           "y": [
            -0.3694341,
            -0.42518157
           ],
           "z": [
            -1.0424584,
            -1.0234523
           ]
          }
         ],
         "layout": {
          "title": {
           "text": "frame:250"
          }
         },
         "name": "250"
        },
        {
         "data": [
          {
           "line": {
            "width": 10
           },
           "marker": {
            "size": 3
           },
           "mode": "lines+markers",
           "name": "CLUB",
           "type": "scatter3d",
           "x": [
            0.3307119,
            0.4861454
           ],
           "y": [
            -0.27505627,
            -0.221927
           ],
           "z": [
            -1.0065085,
            -1.0549742
           ]
          },
          {
           "line": {
            "width": 10
           },
           "marker": {
            "size": 3
           },
           "mode": "lines+markers",
           "name": "EYE",
           "type": "scatter3d",
           "x": [
            0.26007032,
            0.26694104
           ],
           "y": [
            -0.20693827,
            -0.2062898
           ],
           "z": [
            -1.0367104,
            -1.0425984
           ]
          },
          {
           "line": {
            "width": 10
           },
           "marker": {
            "size": 3
           },
           "mode": "lines+markers",
           "name": "SHOULDER",
           "type": "scatter3d",
           "x": [
            0.24088603,
            0.27755523
           ],
           "y": [
            -0.23336661,
            -0.22865419
           ],
           "z": [
            -1.058074,
            -1.0756377
           ]
          },
          {
           "line": {
            "width": 10
           },
           "marker": {
            "size": 3
           },
           "mode": "lines+markers",
           "name": "LEFT_UPPER_ARM",
           "type": "scatter3d",
           "x": [
            0.24088603,
            0.26407507
           ],
           "y": [
            -0.23336661,
            -0.26418343
           ],
           "z": [
            -1.058074,
            -1.035391
           ]
          },
          {
           "line": {
            "width": 10
           },
           "marker": {
            "size": 3
           },
           "mode": "lines+markers",
           "name": "RIGHT_UPPER_ARM",
           "type": "scatter3d",
           "x": [
            0.27755523,
            0.29841658
           ],
           "y": [
            -0.22865419,
            -0.24505766
           ],
           "z": [
            -1.0756377,
            -1.067801
           ]
          },
          {
           "line": {
            "width": 10
           },
           "marker": {
            "size": 3
           },
           "mode": "lines+markers",
           "name": "LEFT_FOREARM",
           "type": "scatter3d",
           "x": [
            0.26407507,
            0.30848458
           ],
           "y": [
            -0.26418343,
            -0.27577183
           ],
           "z": [
            -1.035391,
            -1.0083818
           ]
          },
          {
           "line": {
            "width": 10
           },
           "marker": {
            "size": 3
           },
           "mode": "lines+markers",
           "name": "RIGHT_FOREARM",
           "type": "scatter3d",
           "x": [
            0.29841658,
            0.3181582
           ],
           "y": [
            -0.24505766,
            -0.23907068
           ],
           "z": [
            -1.067801,
            -1.0256854
           ]
          },
          {
           "line": {
            "width": 10
           },
           "marker": {
            "size": 3
           },
           "mode": "lines+markers",
           "name": "HIP",
           "type": "scatter3d",
           "x": [
            0.24761067,
            0.27683878
           ],
           "y": [
            -0.3140011,
            -0.31298634
           ],
           "z": [
            -1.0641153,
            -1.0729992
           ]
          },
          {
           "line": {
            "width": 10
           },
           "marker": {
            "size": 3
           },
           "mode": "lines+markers",
           "name": "LEFT_BODY",
           "type": "scatter3d",
           "x": [
            0.24088603,
            0.24761067
           ],
           "y": [
            -0.23336661,
            -0.3140011
           ],
           "z": [
            -1.058074,
            -1.0641153
           ]
          },
          {
           "line": {
            "width": 10
           },
           "marker": {
            "size": 3
           },
           "mode": "lines+markers",
           "name": "RIGHT_BODY",
           "type": "scatter3d",
           "x": [
            0.27755523,
            0.27683878
           ],
           "y": [
            -0.22865419,
            -0.31298634
           ],
           "z": [
            -1.0756377,
            -1.0729992
           ]
          },
          {
           "line": {
            "width": 10
           },
           "marker": {
            "size": 3
           },
           "mode": "lines+markers",
           "name": "LEFT_THIGH",
           "type": "scatter3d",
           "x": [
            0.24761067,
            0.23218854
           ],
           "y": [
            -0.3140011,
            -0.37125328
           ],
           "z": [
            -1.0641153,
            -1.0394894
           ]
          },
          {
           "line": {
            "width": 10
           },
           "marker": {
            "size": 3
           },
           "mode": "lines+markers",
           "name": "RIGHT_THIGH",
           "type": "scatter3d",
           "x": [
            0.27683878,
            0.28882962
           ],
           "y": [
            -0.31298634,
            -0.36816975
           ],
           "z": [
            -1.0729992,
            -1.0384991
           ]
          },
          {
           "line": {
            "width": 10
           },
           "marker": {
            "size": 3
           },
           "mode": "lines+markers",
           "name": "LEFT_LOWER_LEG",
           "type": "scatter3d",
           "x": [
            0.23218854,
            0.21002366
           ],
           "y": [
            -0.37125328,
            -0.433279
           ],
           "z": [
            -1.0394894,
            -1.0411351
           ]
          },
          {
           "line": {
            "width": 10
           },
           "marker": {
            "size": 3
           },
           "mode": "lines+markers",
           "name": "RIGHT_LOWER_LEG",
           "type": "scatter3d",
           "x": [
            0.28882962,
            0.29511532
           ],
           "y": [
            -0.36816975,
            -0.4259556
           ],
           "z": [
            -1.0384991,
            -1.0247005
           ]
          }
         ],
         "layout": {
          "title": {
           "text": "frame:255"
          }
         },
         "name": "255"
        },
        {
         "data": [
          {
           "line": {
            "width": 10
           },
           "marker": {
            "size": 3
           },
           "mode": "lines+markers",
           "name": "CLUB",
           "type": "scatter3d",
           "x": [
            0.33951414,
            0.47606248
           ],
           "y": [
            -0.26078936,
            -0.19972719
           ],
           "z": [
            -1.018459,
            -1.1064588
           ]
          },
          {
           "line": {
            "width": 10
           },
           "marker": {
            "size": 3
           },
           "mode": "lines+markers",
           "name": "EYE",
           "type": "scatter3d",
           "x": [
            0.25983366,
            0.2654826
           ],
           "y": [
            -0.20625456,
            -0.20583153
           ],
           "z": [
            -1.0355272,
            -1.042368
           ]
          },
          {
           "line": {
            "width": 10
           },
           "marker": {
            "size": 3
           },
           "mode": "lines+markers",
           "name": "SHOULDER",
           "type": "scatter3d",
           "x": [
            0.2420982,
            0.27636638
           ],
           "y": [
            -0.23233114,
            -0.23051195
           ],
           "z": [
            -1.0562518,
            -1.076601
           ]
          },
          {
           "line": {
            "width": 10
           },
           "marker": {
            "size": 3
           },
           "mode": "lines+markers",
           "name": "LEFT_UPPER_ARM",
           "type": "scatter3d",
           "x": [
            0.2420982,
            0.26757565
           ],
           "y": [
            -0.23233114,
            -0.26306275
           ],
           "z": [
            -1.0562518,
            -1.0370882
           ]
          },
          {
           "line": {
            "width": 10
           },
           "marker": {
            "size": 3
           },
           "mode": "lines+markers",
           "name": "RIGHT_UPPER_ARM",
           "type": "scatter3d",
           "x": [
            0.27636638,
            0.2981323
           ],
           "y": [
            -0.23051195,
            -0.2523114
           ],
           "z": [
            -1.076601,
            -1.0584661
           ]
          },
          {
           "line": {
            "width": 10
           },
           "marker": {
            "size": 3
           },
           "mode": "lines+markers",
           "name": "LEFT_FOREARM",
           "type": "scatter3d",
           "x": [
            0.26757565,
            0.31843495
           ],
           "y": [
            -0.26306275,
            -0.27077407
           ],
           "z": [
            -1.0370882,
            -1.0223609
           ]
          },
          {
           "line": {
            "width": 10
           },
           "marker": {
            "size": 3
           },
           "mode": "lines+markers",
           "name": "RIGHT_FOREARM",
           "type": "scatter3d",
           "x": [
            0.2981323,
            0.3234064
           ],
           "y": [
            -0.2523114,
            -0.25521103
           ],
           "z": [
            -1.0584661,
            -1.0285141
           ]
          },
          {
           "line": {
            "width": 10
           },
           "marker": {
            "size": 3
           },
           "mode": "lines+markers",
           "name": "HIP",
           "type": "scatter3d",
           "x": [
            0.24810705,
            0.27594927
           ],
           "y": [
            -0.31354493,
            -0.3135289
           ],
           "z": [
            -1.0614698,
            -1.0722951
           ]
          },
          {
           "line": {
            "width": 10
           },
           "marker": {
            "size": 3
           },
           "mode": "lines+markers",
           "name": "LEFT_BODY",
           "type": "scatter3d",
           "x": [
            0.2420982,
            0.24810705
           ],
           "y": [
            -0.23233114,
            -0.31354493
           ],
           "z": [
            -1.0562518,
            -1.0614698
           ]
          },
          {
           "line": {
            "width": 10
           },
           "marker": {
            "size": 3
           },
           "mode": "lines+markers",
           "name": "RIGHT_BODY",
           "type": "scatter3d",
           "x": [
            0.27636638,
            0.27594927
           ],
           "y": [
            -0.23051195,
            -0.3135289
           ],
           "z": [
            -1.076601,
            -1.0722951
           ]
          },
          {
           "line": {
            "width": 10
           },
           "marker": {
            "size": 3
           },
           "mode": "lines+markers",
           "name": "LEFT_THIGH",
           "type": "scatter3d",
           "x": [
            0.24810705,
            0.23299006
           ],
           "y": [
            -0.31354493,
            -0.37097257
           ],
           "z": [
            -1.0614698,
            -1.0382903
           ]
          },
          {
           "line": {
            "width": 10
           },
           "marker": {
            "size": 3
           },
           "mode": "lines+markers",
           "name": "RIGHT_THIGH",
           "type": "scatter3d",
           "x": [
            0.27594927,
            0.28925973
           ],
           "y": [
            -0.3135289,
            -0.36783186
           ],
           "z": [
            -1.0722951,
            -1.0366578
           ]
          },
          {
           "line": {
            "width": 10
           },
           "marker": {
            "size": 3
           },
           "mode": "lines+markers",
           "name": "LEFT_LOWER_LEG",
           "type": "scatter3d",
           "x": [
            0.23299006,
            0.20982999
           ],
           "y": [
            -0.37097257,
            -0.43293807
           ],
           "z": [
            -1.0382903,
            -1.0397406
           ]
          },
          {
           "line": {
            "width": 10
           },
           "marker": {
            "size": 3
           },
           "mode": "lines+markers",
           "name": "RIGHT_LOWER_LEG",
           "type": "scatter3d",
           "x": [
            0.28925973,
            0.29389518
           ],
           "y": [
            -0.36783186,
            -0.42596126
           ],
           "z": [
            -1.0366578,
            -1.0250889
           ]
          }
         ],
         "layout": {
          "title": {
           "text": "frame:260"
          }
         },
         "name": "260"
        },
        {
         "data": [
          {
           "line": {
            "width": 10
           },
           "marker": {
            "size": 3
           },
           "mode": "lines+markers",
           "name": "CLUB",
           "type": "scatter3d",
           "x": [
            0.34685284,
            0.449389
           ],
           "y": [
            -0.24790996,
            -0.17622137
           ],
           "z": [
            -1.0349494,
            -1.1462284
           ]
          },
          {
           "line": {
            "width": 10
           },
           "marker": {
            "size": 3
           },
           "mode": "lines+markers",
           "name": "EYE",
           "type": "scatter3d",
           "x": [
            0.26070377,
            0.26576248
           ],
           "y": [
            -0.20829014,
            -0.20804203
           ],
           "z": [
            -1.0390799,
            -1.045816
           ]
          },
          {
           "line": {
            "width": 10
           },
           "marker": {
            "size": 3
           },
           "mode": "lines+markers",
           "name": "SHOULDER",
           "type": "scatter3d",
           "x": [
            0.24222578,
            0.27417764
           ],
           "y": [
            -0.23415546,
            -0.23418969
           ],
           "z": [
            -1.0545368,
            -1.0747834
           ]
          },
          {
           "line": {
            "width": 10
           },
           "marker": {
            "size": 3
           },
           "mode": "lines+markers",
           "name": "LEFT_UPPER_ARM",
           "type": "scatter3d",
           "x": [
            0.24222578,
            0.27528137
           ],
           "y": [
            -0.23415546,
            -0.2568106
           ],
           "z": [
            -1.0545368,
            -1.0347393
           ]
          },
          {
           "line": {
            "width": 10
           },
           "marker": {
            "size": 3
           },
           "mode": "lines+markers",
           "name": "RIGHT_UPPER_ARM",
           "type": "scatter3d",
           "x": [
            0.27417764,
            0.3015818
           ],
           "y": [
            -0.23418969,
            -0.25314325
           ],
           "z": [
            -1.0747834,
            -1.0550021
           ]
          },
          {
           "line": {
            "width": 10
           },
           "marker": {
            "size": 3
           },
           "mode": "lines+markers",
           "name": "LEFT_FOREARM",
           "type": "scatter3d",
           "x": [
            0.27528137,
            0.3236839
           ],
           "y": [
            -0.2568106,
            -0.25488546
           ],
           "z": [
            -1.0347393,
            -1.0292314
           ]
          },
          {
           "line": {
            "width": 10
           },
           "marker": {
            "size": 3
           },
           "mode": "lines+markers",
           "name": "RIGHT_FOREARM",
           "type": "scatter3d",
           "x": [
            0.3015818,
            0.3291158
           ],
           "y": [
            -0.25314325,
            -0.25383124
           ],
           "z": [
            -1.0550021,
            -1.0354463
           ]
          },
          {
           "line": {
            "width": 10
           },
           "marker": {
            "size": 3
           },
           "mode": "lines+markers",
           "name": "HIP",
           "type": "scatter3d",
           "x": [
            0.24834211,
            0.27479544
           ],
           "y": [
            -0.31426632,
            -0.3146507
           ],
           "z": [
            -1.0597558,
            -1.0704763
           ]
          },
          {
           "line": {
            "width": 10
           },
           "marker": {
            "size": 3
           },
           "mode": "lines+markers",
           "name": "LEFT_BODY",
           "type": "scatter3d",
           "x": [
            0.24222578,
            0.24834211
           ],
           "y": [
            -0.23415546,
            -0.31426632
           ],
           "z": [
            -1.0545368,
            -1.0597558
           ]
          },
          {
           "line": {
            "width": 10
           },
           "marker": {
            "size": 3
           },
           "mode": "lines+markers",
           "name": "RIGHT_BODY",
           "type": "scatter3d",
           "x": [
            0.27417764,
            0.27479544
           ],
           "y": [
            -0.23418969,
            -0.3146507
           ],
           "z": [
            -1.0747834,
            -1.0704763
           ]
          },
          {
           "line": {
            "width": 10
           },
           "marker": {
            "size": 3
           },
           "mode": "lines+markers",
           "name": "LEFT_THIGH",
           "type": "scatter3d",
           "x": [
            0.24834211,
            0.234145
           ],
           "y": [
            -0.31426632,
            -0.37113965
           ],
           "z": [
            -1.0597558,
            -1.037675
           ]
          },
          {
           "line": {
            "width": 10
           },
           "marker": {
            "size": 3
           },
           "mode": "lines+markers",
           "name": "RIGHT_THIGH",
           "type": "scatter3d",
           "x": [
            0.27479544,
            0.28950655
           ],
           "y": [
            -0.3146507,
            -0.36803627
           ],
           "z": [
            -1.0704763,
            -1.0358562
           ]
          },
          {
           "line": {
            "width": 10
           },
           "marker": {
            "size": 3
           },
           "mode": "lines+markers",
           "name": "LEFT_LOWER_LEG",
           "type": "scatter3d",
           "x": [
            0.234145,
            0.21092129
           ],
           "y": [
            -0.37113965,
            -0.43185356
           ],
           "z": [
            -1.037675,
            -1.0373925
           ]
          },
          {
           "line": {
            "width": 10
           },
           "marker": {
            "size": 3
           },
           "mode": "lines+markers",
           "name": "RIGHT_LOWER_LEG",
           "type": "scatter3d",
           "x": [
            0.28950655,
            0.29334775
           ],
           "y": [
            -0.36803627,
            -0.42543033
           ],
           "z": [
            -1.0358562,
            -1.0245914
           ]
          }
         ],
         "layout": {
          "title": {
           "text": "frame:265"
          }
         },
         "name": "265"
        },
        {
         "data": [
          {
           "line": {
            "width": 10
           },
           "marker": {
            "size": 3
           },
           "mode": "lines+markers",
           "name": "CLUB",
           "type": "scatter3d",
           "x": [
            0.34873235,
            0.40676016
           ],
           "y": [
            -0.23612067,
            -0.16375022
           ],
           "z": [
            -1.0547073,
            -1.1954175
           ]
          },
          {
           "line": {
            "width": 10
           },
           "marker": {
            "size": 3
           },
           "mode": "lines+markers",
           "name": "EYE",
           "type": "scatter3d",
           "x": [
            0.26015094,
            0.2649231
           ],
           "y": [
            -0.20910284,
            -0.20953387
           ],
           "z": [
            -1.0325806,
            -1.0417992
           ]
          },
          {
           "line": {
            "width": 10
           },
           "marker": {
            "size": 3
           },
           "mode": "lines+markers",
           "name": "SHOULDER",
           "type": "scatter3d",
           "x": [
            0.24441238,
            0.27268857
           ],
           "y": [
            -0.23232776,
            -0.23613982
           ],
           "z": [
            -1.0521883,
            -1.0845823
           ]
          },
          {
           "line": {
            "width": 10
           },
           "marker": {
            "size": 3
           },
           "mode": "lines+markers",
           "name": "LEFT_UPPER_ARM",
           "type": "scatter3d",
           "x": [
            0.24441238,
            0.28044632
           ],
           "y": [
            -0.23232776,
            -0.24796055
           ],
           "z": [
            -1.0521883,
            -1.0362297
           ]
          },
          {
           "line": {
            "width": 10
           },
           "marker": {
            "size": 3
           },
           "mode": "lines+markers",
           "name": "RIGHT_UPPER_ARM",
           "type": "scatter3d",
           "x": [
            0.27268857,
            0.3012036
           ],
           "y": [
            -0.23613982,
            -0.25014478
           ],
           "z": [
            -1.0845823,
            -1.0617793
           ]
          },
          {
           "line": {
            "width": 10
           },
           "marker": {
            "size": 3
           },
           "mode": "lines+markers",
           "name": "LEFT_FOREARM",
           "type": "scatter3d",
           "x": [
            0.28044632,
            0.3260238
           ],
           "y": [
            -0.24796055,
            -0.24005626
           ],
           "z": [
            -1.0362297,
            -1.033939
           ]
          },
          {
           "line": {
            "width": 10
           },
           "marker": {
            "size": 3
           },
           "mode": "lines+markers",
           "name": "RIGHT_FOREARM",
           "type": "scatter3d",
           "x": [
            0.3012036,
            0.3315711
           ],
           "y": [
            -0.25014478,
            -0.24487269
           ],
           "z": [
            -1.0617793,
            -1.0464236
           ]
          },
          {
           "line": {
            "width": 10
           },
           "marker": {
            "size": 3
           },
           "mode": "lines+markers",
           "name": "HIP",
           "type": "scatter3d",
           "x": [
            0.24853586,
            0.2728615
           ],
           "y": [
            -0.3137544,
            -0.31679457
           ],
           "z": [
            -1.0547707,
            -1.0741833
           ]
          },
          {
           "line": {
            "width": 10
           },
           "marker": {
            "size": 3
           },
           "mode": "lines+markers",
           "name": "LEFT_BODY",
           "type": "scatter3d",
           "x": [
            0.24441238,
            0.24853586
           ],
           "y": [
            -0.23232776,
            -0.3137544
           ],
           "z": [
            -1.0521883,
            -1.0547707
           ]
          },
          {
           "line": {
            "width": 10
           },
           "marker": {
            "size": 3
           },
           "mode": "lines+markers",
           "name": "RIGHT_BODY",
           "type": "scatter3d",
           "x": [
            0.27268857,
            0.2728615
           ],
           "y": [
            -0.23613982,
            -0.31679457
           ],
           "z": [
            -1.0845823,
            -1.0741833
           ]
          },
          {
           "line": {
            "width": 10
           },
           "marker": {
            "size": 3
           },
           "mode": "lines+markers",
           "name": "LEFT_THIGH",
           "type": "scatter3d",
           "x": [
            0.24853586,
            0.23458956
           ],
           "y": [
            -0.3137544,
            -0.36846656
           ],
           "z": [
            -1.0547707,
            -1.0293667
           ]
          },
          {
           "line": {
            "width": 10
           },
           "marker": {
            "size": 3
           },
           "mode": "lines+markers",
           "name": "RIGHT_THIGH",
           "type": "scatter3d",
           "x": [
            0.2728615,
            0.28996724
           ],
           "y": [
            -0.31679457,
            -0.3686425
           ],
           "z": [
            -1.0741833,
            -1.0365753
           ]
          },
          {
           "line": {
            "width": 10
           },
           "marker": {
            "size": 3
           },
           "mode": "lines+markers",
           "name": "LEFT_LOWER_LEG",
           "type": "scatter3d",
           "x": [
            0.23458956,
            0.21116076
           ],
           "y": [
            -0.36846656,
            -0.43117908
           ],
           "z": [
            -1.0293667,
            -1.0368145
           ]
          },
          {
           "line": {
            "width": 10
           },
           "marker": {
            "size": 3
           },
           "mode": "lines+markers",
           "name": "RIGHT_LOWER_LEG",
           "type": "scatter3d",
           "x": [
            0.28996724,
            0.29368028
           ],
           "y": [
            -0.3686425,
            -0.42585936
           ],
           "z": [
            -1.0365753,
            -1.0269061
           ]
          }
         ],
         "layout": {
          "title": {
           "text": "frame:270"
          }
         },
         "name": "270"
        },
        {
         "data": [
          {
           "line": {
            "width": 10
           },
           "marker": {
            "size": 3
           },
           "mode": "lines+markers",
           "name": "CLUB",
           "type": "scatter3d",
           "x": [
            0.34467754,
            0.35307318
           ],
           "y": [
            -0.2255928,
            -0.15398973
           ],
           "z": [
            -1.0715221,
            -1.2271174
           ]
          },
          {
           "line": {
            "width": 10
           },
           "marker": {
            "size": 3
           },
           "mode": "lines+markers",
           "name": "EYE",
           "type": "scatter3d",
           "x": [
            0.25811687,
            0.26372078
           ],
           "y": [
            -0.20961231,
            -0.21024144
           ],
           "z": [
            -1.0312691,
            -1.0403175
           ]
          },
          {
           "line": {
            "width": 10
           },
           "marker": {
            "size": 3
           },
           "mode": "lines+markers",
           "name": "SHOULDER",
           "type": "scatter3d",
           "x": [
            0.24101718,
            0.27392912
           ],
           "y": [
            -0.23361169,
            -0.23251857
           ],
           "z": [
            -1.0576154,
            -1.0744703
           ]
          },
          {
           "line": {
            "width": 10
           },
           "marker": {
            "size": 3
           },
           "mode": "lines+markers",
           "name": "LEFT_UPPER_ARM",
           "type": "scatter3d",
           "x": [
            0.24101718,
            0.27796024
           ],
           "y": [
            -0.23361169,
            -0.24697389
           ],
           "z": [
            -1.0576154,
            -1.0594064
           ]
          },
          {
           "line": {
            "width": 10
           },
           "marker": {
            "size": 3
           },
           "mode": "lines+markers",
           "name": "RIGHT_UPPER_ARM",
           "type": "scatter3d",
           "x": [
            0.27392912,
            0.3040193
           ],
           "y": [
            -0.23251857,
            -0.2424383
           ],
           "z": [
            -1.0744703,
            -1.0691088
           ]
          },
          {
           "line": {
            "width": 10
           },
           "marker": {
            "size": 3
           },
           "mode": "lines+markers",
           "name": "LEFT_FOREARM",
           "type": "scatter3d",
           "x": [
            0.27796024,
            0.3219134
           ],
           "y": [
            -0.24697389,
            -0.23450218
           ],
           "z": [
            -1.0594064,
            -1.0697948
           ]
          },
          {
           "line": {
            "width": 10
           },
           "marker": {
            "size": 3
           },
           "mode": "lines+markers",
           "name": "RIGHT_FOREARM",
           "type": "scatter3d",
           "x": [
            0.3040193,
            0.33475503
           ],
           "y": [
            -0.2424383,
            -0.23629355
           ],
           "z": [
            -1.0691088,
            -1.0569855
           ]
          },
          {
           "line": {
            "width": 10
           },
           "marker": {
            "size": 3
           },
           "mode": "lines+markers",
           "name": "HIP",
           "type": "scatter3d",
           "x": [
            0.24940024,
            0.2768997
           ],
           "y": [
            -0.31483802,
            -0.31397855
           ],
           "z": [
            -1.0602522,
            -1.06961
           ]
          },
          {
           "line": {
            "width": 10
           },
           "marker": {
            "size": 3
           },
           "mode": "lines+markers",
           "name": "LEFT_BODY",
           "type": "scatter3d",
           "x": [
            0.24101718,
            0.24940024
           ],
           "y": [
            -0.23361169,
            -0.31483802
           ],
           "z": [
            -1.0576154,
            -1.0602522
           ]
          },
          {
           "line": {
            "width": 10
           },
           "marker": {
            "size": 3
           },
           "mode": "lines+markers",
           "name": "RIGHT_BODY",
           "type": "scatter3d",
           "x": [
            0.27392912,
            0.2768997
           ],
           "y": [
            -0.23251857,
            -0.31397855
           ],
           "z": [
            -1.0744703,
            -1.06961
           ]
          },
          {
           "line": {
            "width": 10
           },
           "marker": {
            "size": 3
           },
           "mode": "lines+markers",
           "name": "LEFT_THIGH",
           "type": "scatter3d",
           "x": [
            0.24940024,
            0.23306504
           ],
           "y": [
            -0.31483802,
            -0.37173644
           ],
           "z": [
            -1.0602522,
            -1.0345815
           ]
          },
          {
           "line": {
            "width": 10
           },
           "marker": {
            "size": 3
           },
           "mode": "lines+markers",
           "name": "RIGHT_THIGH",
           "type": "scatter3d",
           "x": [
            0.2768997,
            0.2899721
           ],
           "y": [
            -0.31397855,
            -0.36660773
           ],
           "z": [
            -1.06961,
            -1.0331075
           ]
          },
          {
           "line": {
            "width": 10
           },
           "marker": {
            "size": 3
           },
           "mode": "lines+markers",
           "name": "LEFT_LOWER_LEG",
           "type": "scatter3d",
           "x": [
            0.23306504,
            0.21172188
           ],
           "y": [
            -0.37173644,
            -0.43423045
           ],
           "z": [
            -1.0345815,
            -1.0370102
           ]
          },
          {
           "line": {
            "width": 10
           },
           "marker": {
            "size": 3
           },
           "mode": "lines+markers",
           "name": "RIGHT_LOWER_LEG",
           "type": "scatter3d",
           "x": [
            0.2899721,
            0.2939883
           ],
           "y": [
            -0.36660773,
            -0.42421085
           ],
           "z": [
            -1.0331075,
            -1.0252562
           ]
          }
         ],
         "layout": {
          "title": {
           "text": "frame:275"
          }
         },
         "name": "275"
        },
        {
         "data": [
          {
           "line": {
            "width": 10
           },
           "marker": {
            "size": 3
           },
           "mode": "lines+markers",
           "name": "CLUB",
           "type": "scatter3d",
           "x": [
            0.33763433,
            0.28756115
           ],
           "y": [
            -0.2131274,
            -0.15564941
           ],
           "z": [
            -1.0896627,
            -1.2466235
           ]
          },
          {
           "line": {
            "width": 10
           },
           "marker": {
            "size": 3
           },
           "mode": "lines+markers",
           "name": "EYE",
           "type": "scatter3d",
           "x": [
            0.25902998,
            0.26494765
           ],
           "y": [
            -0.20855702,
            -0.20924507
           ],
           "z": [
            -1.0314031,
            -1.0404898
           ]
          },
          {
           "line": {
            "width": 10
           },
           "marker": {
            "size": 3
           },
           "mode": "lines+markers",
           "name": "SHOULDER",
           "type": "scatter3d",
           "x": [
            0.24602963,
            0.2673853
           ],
           "y": [
            -0.23657681,
            -0.23525316
           ],
           "z": [
            -1.0541487,
            -1.0766884
           ]
          },
          {
           "line": {
            "width": 10
           },
           "marker": {
            "size": 3
           },
           "mode": "lines+markers",
           "name": "LEFT_UPPER_ARM",
           "type": "scatter3d",
           "x": [
            0.24602963,
            0.2944986
           ],
           "y": [
            -0.23657681,
            -0.23702028
           ],
           "z": [
            -1.0541487,
            -1.047503
           ]
          },
          {
           "line": {
            "width": 10
           },
           "marker": {
            "size": 3
           },
           "mode": "lines+markers",
           "name": "RIGHT_UPPER_ARM",
           "type": "scatter3d",
           "x": [
            0.2673853,
            0.30307594
           ],
           "y": [
            -0.23525316,
            -0.23291166
           ],
           "z": [
            -1.0766884,
            -1.0824821
           ]
          },
          {
           "line": {
            "width": 10
           },
           "marker": {
            "size": 3
           },
           "mode": "lines+markers",
           "name": "LEFT_FOREARM",
           "type": "scatter3d",
           "x": [
            0.2944986,
            0.33156446
           ],
           "y": [
            -0.23702028,
            -0.22020969
           ],
           "z": [
            -1.047503,
            -1.0569822
           ]
          },
          {
           "line": {
            "width": 10
           },
           "marker": {
            "size": 3
           },
           "mode": "lines+markers",
           "name": "RIGHT_FOREARM",
           "type": "scatter3d",
           "x": [
            0.30307594,
            0.32924446
           ],
           "y": [
            -0.23291166,
            -0.2257276
           ],
           "z": [
            -1.0824821,
            -1.0832212
           ]
          },
          {
           "line": {
            "width": 10
           },
           "marker": {
            "size": 3
           },
           "mode": "lines+markers",
           "name": "HIP",
           "type": "scatter3d",
           "x": [
            0.25198093,
            0.2725829
           ],
           "y": [
            -0.3169903,
            -0.31618795
           ],
           "z": [
            -1.0647687,
            -1.0750748
           ]
          },
          {
           "line": {
            "width": 10
           },
           "marker": {
            "size": 3
           },
           "mode": "lines+markers",
           "name": "LEFT_BODY",
           "type": "scatter3d",
           "x": [
            0.24602963,
            0.25198093
           ],
           "y": [
            -0.23657681,
            -0.3169903
           ],
           "z": [
            -1.0541487,
            -1.0647687
           ]
          },
          {
           "line": {
            "width": 10
           },
           "marker": {
            "size": 3
           },
           "mode": "lines+markers",
           "name": "RIGHT_BODY",
           "type": "scatter3d",
           "x": [
            0.2673853,
            0.2725829
           ],
           "y": [
            -0.23525316,
            -0.31618795
           ],
           "z": [
            -1.0766884,
            -1.0750748
           ]
          },
          {
           "line": {
            "width": 10
           },
           "marker": {
            "size": 3
           },
           "mode": "lines+markers",
           "name": "LEFT_THIGH",
           "type": "scatter3d",
           "x": [
            0.25198093,
            0.23760101
           ],
           "y": [
            -0.3169903,
            -0.37581024
           ],
           "z": [
            -1.0647687,
            -1.0432265
           ]
          },
          {
           "line": {
            "width": 10
           },
           "marker": {
            "size": 3
           },
           "mode": "lines+markers",
           "name": "RIGHT_THIGH",
           "type": "scatter3d",
           "x": [
            0.2725829,
            0.2886071
           ],
           "y": [
            -0.31618795,
            -0.36512995
           ],
           "z": [
            -1.0750748,
            -1.0280527
           ]
          },
          {
           "line": {
            "width": 10
           },
           "marker": {
            "size": 3
           },
           "mode": "lines+markers",
           "name": "LEFT_LOWER_LEG",
           "type": "scatter3d",
           "x": [
            0.23760101,
            0.21186423
           ],
           "y": [
            -0.37581024,
            -0.4416663
           ],
           "z": [
            -1.0432265,
            -1.0492874
           ]
          },
          {
           "line": {
            "width": 10
           },
           "marker": {
            "size": 3
           },
           "mode": "lines+markers",
           "name": "RIGHT_LOWER_LEG",
           "type": "scatter3d",
           "x": [
            0.2886071,
            0.2931882
           ],
           "y": [
            -0.36512995,
            -0.4207279
           ],
           "z": [
            -1.0280527,
            -1.0158037
           ]
          }
         ],
         "layout": {
          "title": {
           "text": "frame:280"
          }
         },
         "name": "280"
        },
        {
         "data": [
          {
           "line": {
            "width": 10
           },
           "marker": {
            "size": 3
           },
           "mode": "lines+markers",
           "name": "CLUB",
           "type": "scatter3d",
           "x": [
            0.32352453,
            0.2269818
           ],
           "y": [
            -0.20573628,
            -0.16600436
           ],
           "z": [
            -1.1068056,
            -1.2394189
           ]
          },
          {
           "line": {
            "width": 10
           },
           "marker": {
            "size": 3
           },
           "mode": "lines+markers",
           "name": "EYE",
           "type": "scatter3d",
           "x": [
            0.257804,
            0.26476958
           ],
           "y": [
            -0.20986864,
            -0.20885606
           ],
           "z": [
            -1.0313799,
            -1.0383713
           ]
          },
          {
           "line": {
            "width": 10
           },
           "marker": {
            "size": 3
           },
           "mode": "lines+markers",
           "name": "SHOULDER",
           "type": "scatter3d",
           "x": [
            0.25073937,
            0.2692115
           ],
           "y": [
            -0.23606135,
            -0.2341599
           ],
           "z": [
            -1.0475017,
            -1.0784992
           ]
          },
          {
           "line": {
            "width": 10
           },
           "marker": {
            "size": 3
           },
           "mode": "lines+markers",
           "name": "LEFT_UPPER_ARM",
           "type": "scatter3d",
           "x": [
            0.25073937,
            0.28955707
           ],
           "y": [
            -0.23606135,
            -0.23395658
           ],
           "z": [
            -1.0475017,
            -1.0352954
           ]
          },
          {
           "line": {
            "width": 10
           },
           "marker": {
            "size": 3
           },
           "mode": "lines+markers",
           "name": "RIGHT_UPPER_ARM",
           "type": "scatter3d",
           "x": [
            0.2692115,
            0.3037136
           ],
           "y": [
            -0.2341599,
            -0.23240596
           ],
           "z": [
            -1.0784992,
            -1.0868818
           ]
          },
          {
           "line": {
            "width": 10
           },
           "marker": {
            "size": 3
           },
           "mode": "lines+markers",
           "name": "LEFT_FOREARM",
           "type": "scatter3d",
           "x": [
            0.28955707,
            0.31615663
           ],
           "y": [
            -0.23395658,
            -0.2103046
           ],
           "z": [
            -1.0352954,
            -1.0545408
           ]
          },
          {
           "line": {
            "width": 10
           },
           "marker": {
            "size": 3
           },
           "mode": "lines+markers",
           "name": "RIGHT_FOREARM",
           "type": "scatter3d",
           "x": [
            0.3037136,
            0.32342213
           ],
           "y": [
            -0.23240596,
            -0.21920897
           ],
           "z": [
            -1.0868818,
            -1.0939521
           ]
          },
          {
           "line": {
            "width": 10
           },
           "marker": {
            "size": 3
           },
           "mode": "lines+markers",
           "name": "HIP",
           "type": "scatter3d",
           "x": [
            0.25302973,
            0.27335528
           ],
           "y": [
            -0.31674838,
            -0.31591123
           ],
           "z": [
            -1.059515,
            -1.072562
           ]
          },
          {
           "line": {
            "width": 10
           },
           "marker": {
            "size": 3
           },
           "mode": "lines+markers",
           "name": "LEFT_BODY",
           "type": "scatter3d",
           "x": [
            0.25073937,
            0.25302973
           ],
           "y": [
            -0.23606135,
            -0.31674838
           ],
           "z": [
            -1.0475017,
            -1.059515
           ]
          },
          {
           "line": {
            "width": 10
           },
           "marker": {
            "size": 3
           },
           "mode": "lines+markers",
           "name": "RIGHT_BODY",
           "type": "scatter3d",
           "x": [
            0.2692115,
            0.27335528
           ],
           "y": [
            -0.2341599,
            -0.31591123
           ],
           "z": [
            -1.0784992,
            -1.072562
           ]
          },
          {
           "line": {
            "width": 10
           },
           "marker": {
            "size": 3
           },
           "mode": "lines+markers",
           "name": "LEFT_THIGH",
           "type": "scatter3d",
           "x": [
            0.25302973,
            0.24070945
           ],
           "y": [
            -0.31674838,
            -0.37583515
           ],
           "z": [
            -1.059515,
            -1.0411148
           ]
          },
          {
           "line": {
            "width": 10
           },
           "marker": {
            "size": 3
           },
           "mode": "lines+markers",
           "name": "RIGHT_THIGH",
           "type": "scatter3d",
           "x": [
            0.27335528,
            0.2898991
           ],
           "y": [
            -0.31591123,
            -0.3665194
           ],
           "z": [
            -1.072562,
            -1.0287404
           ]
          },
          {
           "line": {
            "width": 10
           },
           "marker": {
            "size": 3
           },
           "mode": "lines+markers",
           "name": "LEFT_LOWER_LEG",
           "type": "scatter3d",
           "x": [
            0.24070945,
            0.2135721
           ],
           "y": [
            -0.37583515,
            -0.43861482
           ],
           "z": [
            -1.0411148,
            -1.050647
           ]
          },
          {
           "line": {
            "width": 10
           },
           "marker": {
            "size": 3
           },
           "mode": "lines+markers",
           "name": "RIGHT_LOWER_LEG",
           "type": "scatter3d",
           "x": [
            0.2898991,
            0.29517874
           ],
           "y": [
            -0.3665194,
            -0.42456582
           ],
           "z": [
            -1.0287404,
            -1.0143464
           ]
          }
         ],
         "layout": {
          "title": {
           "text": "frame:285"
          }
         },
         "name": "285"
        },
        {
         "data": [
          {
           "line": {
            "width": 10
           },
           "marker": {
            "size": 3
           },
           "mode": "lines+markers",
           "name": "CLUB",
           "type": "scatter3d",
           "x": [
            0.30894667,
            0.16803966
           ],
           "y": [
            -0.19922437,
            -0.18186085
           ],
           "z": [
            -1.1114079,
            -1.2181789
           ]
          },
          {
           "line": {
            "width": 10
           },
           "marker": {
            "size": 3
           },
           "mode": "lines+markers",
           "name": "EYE",
           "type": "scatter3d",
           "x": [
            0.25771707,
            0.264279
           ],
           "y": [
            -0.21116526,
            -0.21045715
           ],
           "z": [
            -1.0277185,
            -1.0334096
           ]
          },
          {
           "line": {
            "width": 10
           },
           "marker": {
            "size": 3
           },
           "mode": "lines+markers",
           "name": "SHOULDER",
           "type": "scatter3d",
           "x": [
            0.25549844,
            0.2722727
           ],
           "y": [
            -0.23974876,
            -0.23314638
           ],
           "z": [
            -1.0583719,
            -1.0645926
           ]
          },
          {
           "line": {
            "width": 10
           },
           "marker": {
            "size": 3
           },
           "mode": "lines+markers",
           "name": "LEFT_UPPER_ARM",
           "type": "scatter3d",
           "x": [
            0.25549844,
            0.2866084
           ],
           "y": [
            -0.23974876,
            -0.22800231
           ],
           "z": [
            -1.0583719,
            -1.0371221
           ]
          },
          {
           "line": {
            "width": 10
           },
           "marker": {
            "size": 3
           },
           "mode": "lines+markers",
           "name": "RIGHT_UPPER_ARM",
           "type": "scatter3d",
           "x": [
            0.2722727,
            0.30517462
           ],
           "y": [
            -0.23314638,
            -0.2239964
           ],
           "z": [
            -1.0645926,
            -1.0761468
           ]
          },
          {
           "line": {
            "width": 10
           },
           "marker": {
            "size": 3
           },
           "mode": "lines+markers",
           "name": "LEFT_FOREARM",
           "type": "scatter3d",
           "x": [
            0.2866084,
            0.3051919
           ],
           "y": [
            -0.22800231,
            -0.196728
           ],
           "z": [
            -1.0371221,
            -1.0388216
           ]
          },
          {
           "line": {
            "width": 10
           },
           "marker": {
            "size": 3
           },
           "mode": "lines+markers",
           "name": "RIGHT_FOREARM",
           "type": "scatter3d",
           "x": [
            0.30517462,
            0.31697524
           ],
           "y": [
            -0.2239964,
            -0.21253636
           ],
           "z": [
            -1.0761468,
            -1.0959165
           ]
          },
          {
           "line": {
            "width": 10
           },
           "marker": {
            "size": 3
           },
           "mode": "lines+markers",
           "name": "HIP",
           "type": "scatter3d",
           "x": [
            0.25788033,
            0.27345955
           ],
           "y": [
            -0.31568116,
            -0.30978674
           ],
           "z": [
            -1.0727713,
            -1.0651624
           ]
          },
          {
           "line": {
            "width": 10
           },
           "marker": {
            "size": 3
           },
           "mode": "lines+markers",
           "name": "LEFT_BODY",
           "type": "scatter3d",
           "x": [
            0.25549844,
            0.25788033
           ],
           "y": [
            -0.23974876,
            -0.31568116
           ],
           "z": [
            -1.0583719,
            -1.0727713
           ]
          },
          {
           "line": {
            "width": 10
           },
           "marker": {
            "size": 3
           },
           "mode": "lines+markers",
           "name": "RIGHT_BODY",
           "type": "scatter3d",
           "x": [
            0.2722727,
            0.27345955
           ],
           "y": [
            -0.23314638,
            -0.30978674
           ],
           "z": [
            -1.0645926,
            -1.0651624
           ]
          },
          {
           "line": {
            "width": 10
           },
           "marker": {
            "size": 3
           },
           "mode": "lines+markers",
           "name": "LEFT_THIGH",
           "type": "scatter3d",
           "x": [
            0.25788033,
            0.24971233
           ],
           "y": [
            -0.31568116,
            -0.38700932
           ],
           "z": [
            -1.0727713,
            -1.0827212
           ]
          },
          {
           "line": {
            "width": 10
           },
           "marker": {
            "size": 3
           },
           "mode": "lines+markers",
           "name": "RIGHT_THIGH",
           "type": "scatter3d",
           "x": [
            0.27345955,
            0.2811152
           ],
           "y": [
            -0.30978674,
            -0.3563228
           ],
           "z": [
            -1.0651624,
            -1.0052712
           ]
          },
          {
           "line": {
            "width": 10
           },
           "marker": {
            "size": 3
           },
           "mode": "lines+markers",
           "name": "LEFT_LOWER_LEG",
           "type": "scatter3d",
           "x": [
            0.24971233,
            0.22707047
           ],
           "y": [
            -0.38700932,
            -0.46192935
           ],
           "z": [
            -1.0827212,
            -1.105567
           ]
          },
          {
           "line": {
            "width": 10
           },
           "marker": {
            "size": 3
           },
           "mode": "lines+markers",
           "name": "RIGHT_LOWER_LEG",
           "type": "scatter3d",
           "x": [
            0.2811152,
            0.2831734
           ],
           "y": [
            -0.3563228,
            -0.40791926
           ],
           "z": [
            -1.0052712,
            -0.9815411
           ]
          }
         ],
         "layout": {
          "title": {
           "text": "frame:290"
          }
         },
         "name": "290"
        },
        {
         "data": [
          {
           "line": {
            "width": 10
           },
           "marker": {
            "size": 3
           },
           "mode": "lines+markers",
           "name": "CLUB",
           "type": "scatter3d",
           "x": [
            0.2908832,
            0.12868816
           ],
           "y": [
            -0.195352,
            -0.20394537
           ],
           "z": [
            -1.1202023,
            -1.1874709
           ]
          },
          {
           "line": {
            "width": 10
           },
           "marker": {
            "size": 3
           },
           "mode": "lines+markers",
           "name": "EYE",
           "type": "scatter3d",
           "x": [
            0.25663802,
            0.2642191
           ],
           "y": [
            -0.21357077,
            -0.2118894
           ],
           "z": [
            -1.0260252,
            -1.0317483
           ]
          },
          {
           "line": {
            "width": 10
           },
           "marker": {
            "size": 3
           },
           "mode": "lines+markers",
           "name": "SHOULDER",
           "type": "scatter3d",
           "x": [
            0.24835035,
            0.27599442
           ],
           "y": [
            -0.24187067,
            -0.2320843
           ],
           "z": [
            -1.053053,
            -1.0734311
           ]
          },
          {
           "line": {
            "width": 10
           },
           "marker": {
            "size": 3
           },
           "mode": "lines+markers",
           "name": "LEFT_UPPER_ARM",
           "type": "scatter3d",
           "x": [
            0.24835035,
            0.26922017
           ],
           "y": [
            -0.24187067,
            -0.22908331
           ],
           "z": [
            -1.053053,
            -1.0228968
           ]
          },
          {
           "line": {
            "width": 10
           },
           "marker": {
            "size": 3
           },
           "mode": "lines+markers",
           "name": "RIGHT_UPPER_ARM",
           "type": "scatter3d",
           "x": [
            0.27599442,
            0.3020413
           ],
           "y": [
            -0.2320843,
            -0.21472877
           ],
           "z": [
            -1.0734311,
            -1.0920721
           ]
          },
          {
           "line": {
            "width": 10
           },
           "marker": {
            "size": 3
           },
           "mode": "lines+markers",
           "name": "LEFT_FOREARM",
           "type": "scatter3d",
           "x": [
            0.26922017,
            0.2799539
           ],
           "y": [
            -0.22908331,
            -0.20309678
           ],
           "z": [
            -1.0228968,
            -1.022333
           ]
          },
          {
           "line": {
            "width": 10
           },
           "marker": {
            "size": 3
           },
           "mode": "lines+markers",
           "name": "RIGHT_FOREARM",
           "type": "scatter3d",
           "x": [
            0.3020413,
            0.31158823
           ],
           "y": [
            -0.21472877,
            -0.19823003
           ],
           "z": [
            -1.0920721,
            -1.0963951
           ]
          },
          {
           "line": {
            "width": 10
           },
           "marker": {
            "size": 3
           },
           "mode": "lines+markers",
           "name": "HIP",
           "type": "scatter3d",
           "x": [
            0.2514915,
            0.27532923
           ],
           "y": [
            -0.31630734,
            -0.31182933
           ],
           "z": [
            -1.0622029,
            -1.0689732
           ]
          },
          {
           "line": {
            "width": 10
           },
           "marker": {
            "size": 3
           },
           "mode": "lines+markers",
           "name": "LEFT_BODY",
           "type": "scatter3d",
           "x": [
            0.24835035,
            0.2514915
           ],
           "y": [
            -0.24187067,
            -0.31630734
           ],
           "z": [
            -1.053053,
            -1.0622029
           ]
          },
          {
           "line": {
            "width": 10
           },
           "marker": {
            "size": 3
           },
           "mode": "lines+markers",
           "name": "RIGHT_BODY",
           "type": "scatter3d",
           "x": [
            0.27599442,
            0.27532923
           ],
           "y": [
            -0.2320843,
            -0.31182933
           ],
           "z": [
            -1.0734311,
            -1.0689732
           ]
          },
          {
           "line": {
            "width": 10
           },
           "marker": {
            "size": 3
           },
           "mode": "lines+markers",
           "name": "LEFT_THIGH",
           "type": "scatter3d",
           "x": [
            0.2514915,
            0.24131629
           ],
           "y": [
            -0.31630734,
            -0.3779756
           ],
           "z": [
            -1.0622029,
            -1.0435762
           ]
          },
          {
           "line": {
            "width": 10
           },
           "marker": {
            "size": 3
           },
           "mode": "lines+markers",
           "name": "RIGHT_THIGH",
           "type": "scatter3d",
           "x": [
            0.27532923,
            0.28728616
           ],
           "y": [
            -0.31182933,
            -0.36334968
           ],
           "z": [
            -1.0689732,
            -1.028924
           ]
          },
          {
           "line": {
            "width": 10
           },
           "marker": {
            "size": 3
           },
           "mode": "lines+markers",
           "name": "LEFT_LOWER_LEG",
           "type": "scatter3d",
           "x": [
            0.24131629,
            0.21622595
           ],
           "y": [
            -0.3779756,
            -0.44179845
           ],
           "z": [
            -1.0435762,
            -1.0458521
           ]
          },
          {
           "line": {
            "width": 10
           },
           "marker": {
            "size": 3
           },
           "mode": "lines+markers",
           "name": "RIGHT_LOWER_LEG",
           "type": "scatter3d",
           "x": [
            0.28728616,
            0.29219303
           ],
           "y": [
            -0.36334968,
            -0.41811934
           ],
           "z": [
            -1.028924,
            -1.0188909
           ]
          }
         ],
         "layout": {
          "title": {
           "text": "frame:295"
          }
         },
         "name": "295"
        },
        {
         "data": [
          {
           "line": {
            "width": 10
           },
           "marker": {
            "size": 3
           },
           "mode": "lines+markers",
           "name": "CLUB",
           "type": "scatter3d",
           "x": [
            0.27901193,
            0.1008354
           ],
           "y": [
            -0.19073012,
            -0.22640172
           ],
           "z": [
            -1.121748,
            -1.1637305
           ]
          },
          {
           "line": {
            "width": 10
           },
           "marker": {
            "size": 3
           },
           "mode": "lines+markers",
           "name": "EYE",
           "type": "scatter3d",
           "x": [
            0.25875136,
            0.26649097
           ],
           "y": [
            -0.2147993,
            -0.21266253
           ],
           "z": [
            -1.0259112,
            -1.0301365
           ]
          },
          {
           "line": {
            "width": 10
           },
           "marker": {
            "size": 3
           },
           "mode": "lines+markers",
           "name": "SHOULDER",
           "type": "scatter3d",
           "x": [
            0.25081265,
            0.2716528
           ],
           "y": [
            -0.2419924,
            -0.23224613
           ],
           "z": [
            -1.0511264,
            -1.0749191
           ]
          },
          {
           "line": {
            "width": 10
           },
           "marker": {
            "size": 3
           },
           "mode": "lines+markers",
           "name": "LEFT_UPPER_ARM",
           "type": "scatter3d",
           "x": [
            0.25081265,
            0.2718692
           ],
           "y": [
            -0.2419924,
            -0.23802614
           ],
           "z": [
            -1.0511264,
            -1.0436021
           ]
          },
          {
           "line": {
            "width": 10
           },
           "marker": {
            "size": 3
           },
           "mode": "lines+markers",
           "name": "RIGHT_UPPER_ARM",
           "type": "scatter3d",
           "x": [
            0.2716528,
            0.29683498
           ],
           "y": [
            -0.23224613,
            -0.21796082
           ],
           "z": [
            -1.0749191,
            -1.0921116
           ]
          },
          {
           "line": {
            "width": 10
           },
           "marker": {
            "size": 3
           },
           "mode": "lines+markers",
           "name": "LEFT_FOREARM",
           "type": "scatter3d",
           "x": [
            0.2718692,
            0.28078133
           ],
           "y": [
            -0.23802614,
            -0.20529823
           ],
           "z": [
            -1.0436021,
            -1.0519463
           ]
          },
          {
           "line": {
            "width": 10
           },
           "marker": {
            "size": 3
           },
           "mode": "lines+markers",
           "name": "RIGHT_FOREARM",
           "type": "scatter3d",
           "x": [
            0.29683498,
            0.29830012
           ],
           "y": [
            -0.21796082,
            -0.19751313
           ],
           "z": [
            -1.0921116,
            -1.108533
           ]
          },
          {
           "line": {
            "width": 10
           },
           "marker": {
            "size": 3
           },
           "mode": "lines+markers",
           "name": "HIP",
           "type": "scatter3d",
           "x": [
            0.25472024,
            0.27552128
           ],
           "y": [
            -0.3186033,
            -0.31478283
           ],
           "z": [
            -1.0592535,
            -1.0673959
           ]
          },
          {
           "line": {
            "width": 10
           },
           "marker": {
            "size": 3
           },
           "mode": "lines+markers",
           "name": "LEFT_BODY",
           "type": "scatter3d",
           "x": [
            0.25081265,
            0.25472024
           ],
           "y": [
            -0.2419924,
            -0.3186033
           ],
           "z": [
            -1.0511264,
            -1.0592535
           ]
          },
          {
           "line": {
            "width": 10
           },
           "marker": {
            "size": 3
           },
           "mode": "lines+markers",
           "name": "RIGHT_BODY",
           "type": "scatter3d",
           "x": [
            0.2716528,
            0.27552128
           ],
           "y": [
            -0.23224613,
            -0.31478283
           ],
           "z": [
            -1.0749191,
            -1.0673959
           ]
          },
          {
           "line": {
            "width": 10
           },
           "marker": {
            "size": 3
           },
           "mode": "lines+markers",
           "name": "LEFT_THIGH",
           "type": "scatter3d",
           "x": [
            0.25472024,
            0.24284571
           ],
           "y": [
            -0.3186033,
            -0.374045
           ],
           "z": [
            -1.0592535,
            -1.0331727
           ]
          },
          {
           "line": {
            "width": 10
           },
           "marker": {
            "size": 3
           },
           "mode": "lines+markers",
           "name": "RIGHT_THIGH",
           "type": "scatter3d",
           "x": [
            0.27552128,
            0.289119
           ],
           "y": [
            -0.31478283,
            -0.36566353
           ],
           "z": [
            -1.0673959,
            -1.0260569
           ]
          },
          {
           "line": {
            "width": 10
           },
           "marker": {
            "size": 3
           },
           "mode": "lines+markers",
           "name": "LEFT_LOWER_LEG",
           "type": "scatter3d",
           "x": [
            0.24284571,
            0.21092266
           ],
           "y": [
            -0.374045,
            -0.43674785
           ],
           "z": [
            -1.0331727,
            -1.0477458
           ]
          },
          {
           "line": {
            "width": 10
           },
           "marker": {
            "size": 3
           },
           "mode": "lines+markers",
           "name": "RIGHT_LOWER_LEG",
           "type": "scatter3d",
           "x": [
            0.289119,
            0.29426464
           ],
           "y": [
            -0.36566353,
            -0.42210963
           ],
           "z": [
            -1.0260569,
            -1.0153655
           ]
          }
         ],
         "layout": {
          "title": {
           "text": "frame:300"
          }
         },
         "name": "300"
        },
        {
         "data": [
          {
           "line": {
            "width": 10
           },
           "marker": {
            "size": 3
           },
           "mode": "lines+markers",
           "name": "CLUB",
           "type": "scatter3d",
           "x": [
            0.27076557,
            0.09094319
           ],
           "y": [
            -0.18965027,
            -0.23809415
           ],
           "z": [
            -1.1217833,
            -1.1389285
           ]
          },
          {
           "line": {
            "width": 10
           },
           "marker": {
            "size": 3
           },
           "mode": "lines+markers",
           "name": "EYE",
           "type": "scatter3d",
           "x": [
            0.26366135,
            0.26910192
           ],
           "y": [
            -0.21194252,
            -0.21157758
           ],
           "z": [
            -1.0261112,
            -1.0323789
           ]
          },
          {
           "line": {
            "width": 10
           },
           "marker": {
            "size": 3
           },
           "mode": "lines+markers",
           "name": "SHOULDER",
           "type": "scatter3d",
           "x": [
            0.2587176,
            0.2613466
           ],
           "y": [
            -0.24787176,
            -0.23386446
           ],
           "z": [
            -1.0742449,
            -1.0591227
           ]
          },
          {
           "line": {
            "width": 10
           },
           "marker": {
            "size": 3
           },
           "mode": "lines+markers",
           "name": "LEFT_UPPER_ARM",
           "type": "scatter3d",
           "x": [
            0.2587176,
            0.28733155
           ],
           "y": [
            -0.24787176,
            -0.23741907
           ],
           "z": [
            -1.0742449,
            -1.0855397
           ]
          },
          {
           "line": {
            "width": 10
           },
           "marker": {
            "size": 3
           },
           "mode": "lines+markers",
           "name": "RIGHT_UPPER_ARM",
           "type": "scatter3d",
           "x": [
            0.2613466,
            0.28068858
           ],
           "y": [
            -0.23386446,
            -0.21352705
           ],
           "z": [
            -1.0591227,
            -1.0734993
           ]
          },
          {
           "line": {
            "width": 10
           },
           "marker": {
            "size": 3
           },
           "mode": "lines+markers",
           "name": "LEFT_FOREARM",
           "type": "scatter3d",
           "x": [
            0.28733155,
            0.28939977
           ],
           "y": [
            -0.23741907,
            -0.20428154
           ],
           "z": [
            -1.0855397,
            -1.0833718
           ]
          },
          {
           "line": {
            "width": 10
           },
           "marker": {
            "size": 3
           },
           "mode": "lines+markers",
           "name": "RIGHT_FOREARM",
           "type": "scatter3d",
           "x": [
            0.28068858,
            0.28301474
           ],
           "y": [
            -0.21352705,
            -0.2000475
           ],
           "z": [
            -1.0734993,
            -1.0935278
           ]
          },
          {
           "line": {
            "width": 10
           },
           "marker": {
            "size": 3
           },
           "mode": "lines+markers",
           "name": "HIP",
           "type": "scatter3d",
           "x": [
            0.26339334,
            0.27088386
           ],
           "y": [
            -0.32353464,
            -0.31177858
           ],
           "z": [
            -1.0784678,
            -1.0536667
           ]
          },
          {
           "line": {
            "width": 10
           },
           "marker": {
            "size": 3
           },
           "mode": "lines+markers",
           "name": "LEFT_BODY",
           "type": "scatter3d",
           "x": [
            0.2587176,
            0.26339334
           ],
           "y": [
            -0.24787176,
            -0.32353464
           ],
           "z": [
            -1.0742449,
            -1.0784678
           ]
          },
          {
           "line": {
            "width": 10
           },
           "marker": {
            "size": 3
           },
           "mode": "lines+markers",
           "name": "RIGHT_BODY",
           "type": "scatter3d",
           "x": [
            0.2613466,
            0.27088386
           ],
           "y": [
            -0.23386446,
            -0.31177858
           ],
           "z": [
            -1.0591227,
            -1.0536667
           ]
          },
          {
           "line": {
            "width": 10
           },
           "marker": {
            "size": 3
           },
           "mode": "lines+markers",
           "name": "LEFT_THIGH",
           "type": "scatter3d",
           "x": [
            0.26339334,
            0.25486603
           ],
           "y": [
            -0.32353464,
            -0.3886062
           ],
           "z": [
            -1.0784678,
            -1.0819795
           ]
          },
          {
           "line": {
            "width": 10
           },
           "marker": {
            "size": 3
           },
           "mode": "lines+markers",
           "name": "RIGHT_THIGH",
           "type": "scatter3d",
           "x": [
            0.27088386,
            0.27802885
           ],
           "y": [
            -0.31177858,
            -0.35276568
           ],
           "z": [
            -1.0536667,
            -0.98350716
           ]
          },
          {
           "line": {
            "width": 10
           },
           "marker": {
            "size": 3
           },
           "mode": "lines+markers",
           "name": "LEFT_LOWER_LEG",
           "type": "scatter3d",
           "x": [
            0.25486603,
            0.22679162
           ],
           "y": [
            -0.3886062,
            -0.46331793
           ],
           "z": [
            -1.0819795,
            -1.1207768
           ]
          },
          {
           "line": {
            "width": 10
           },
           "marker": {
            "size": 3
           },
           "mode": "lines+markers",
           "name": "RIGHT_LOWER_LEG",
           "type": "scatter3d",
           "x": [
            0.27802885,
            0.27508098
           ],
           "y": [
            -0.35276568,
            -0.39946684
           ],
           "z": [
            -0.98350716,
            -0.94756585
           ]
          }
         ],
         "layout": {
          "title": {
           "text": "frame:305"
          }
         },
         "name": "305"
        },
        {
         "data": [
          {
           "line": {
            "width": 10
           },
           "marker": {
            "size": 3
           },
           "mode": "lines+markers",
           "name": "CLUB",
           "type": "scatter3d",
           "x": [
            0.26350966,
            0.08810592
           ],
           "y": [
            -0.19051136,
            -0.24341333
           ],
           "z": [
            -1.122465,
            -1.1290951
           ]
          },
          {
           "line": {
            "width": 10
           },
           "marker": {
            "size": 3
           },
           "mode": "lines+markers",
           "name": "EYE",
           "type": "scatter3d",
           "x": [
            0.26515466,
            0.26973033
           ],
           "y": [
            -0.21219777,
            -0.21255615
           ],
           "z": [
            -1.0201405,
            -1.0288815
           ]
          },
          {
           "line": {
            "width": 10
           },
           "marker": {
            "size": 3
           },
           "mode": "lines+markers",
           "name": "SHOULDER",
           "type": "scatter3d",
           "x": [
            0.25907752,
            0.26141724
           ],
           "y": [
            -0.24718791,
            -0.23211937
           ],
           "z": [
            -1.0696414,
            -1.0619835
           ]
          },
          {
           "line": {
            "width": 10
           },
           "marker": {
            "size": 3
           },
           "mode": "lines+markers",
           "name": "LEFT_UPPER_ARM",
           "type": "scatter3d",
           "x": [
            0.25907752,
            0.2806095
           ],
           "y": [
            -0.24718791,
            -0.23947804
           ],
           "z": [
            -1.0696414,
            -1.0664549
           ]
          },
          {
           "line": {
            "width": 10
           },
           "marker": {
            "size": 3
           },
           "mode": "lines+markers",
           "name": "RIGHT_UPPER_ARM",
           "type": "scatter3d",
           "x": [
            0.26141724,
            0.2791745
           ],
           "y": [
            -0.23211937,
            -0.20817643
           ],
           "z": [
            -1.0619835,
            -1.0780655
           ]
          },
          {
           "line": {
            "width": 10
           },
           "marker": {
            "size": 3
           },
           "mode": "lines+markers",
           "name": "LEFT_FOREARM",
           "type": "scatter3d",
           "x": [
            0.2806095,
            0.2795012
           ],
           "y": [
            -0.23947804,
            -0.2153347
           ],
           "z": [
            -1.0664549,
            -1.0542886
           ]
          },
          {
           "line": {
            "width": 10
           },
           "marker": {
            "size": 3
           },
           "mode": "lines+markers",
           "name": "RIGHT_FOREARM",
           "type": "scatter3d",
           "x": [
            0.2791745,
            0.2807793
           ],
           "y": [
            -0.20817643,
            -0.19584988
           ],
           "z": [
            -1.0780655,
            -1.100375
           ]
          },
          {
           "line": {
            "width": 10
           },
           "marker": {
            "size": 3
           },
           "mode": "lines+markers",
           "name": "HIP",
           "type": "scatter3d",
           "x": [
            0.26372555,
            0.27102152
           ],
           "y": [
            -0.323865,
            -0.31218475
           ],
           "z": [
            -1.0771159,
            -1.0555819
           ]
          },
          {
           "line": {
            "width": 10
           },
           "marker": {
            "size": 3
           },
           "mode": "lines+markers",
           "name": "LEFT_BODY",
           "type": "scatter3d",
           "x": [
            0.25907752,
            0.26372555
           ],
           "y": [
            -0.24718791,
            -0.323865
           ],
           "z": [
            -1.0696414,
            -1.0771159
           ]
          },
          {
           "line": {
            "width": 10
           },
           "marker": {
            "size": 3
           },
           "mode": "lines+markers",
           "name": "RIGHT_BODY",
           "type": "scatter3d",
           "x": [
            0.26141724,
            0.27102152
           ],
           "y": [
            -0.23211937,
            -0.31218475
           ],
           "z": [
            -1.0619835,
            -1.0555819
           ]
          },
          {
           "line": {
            "width": 10
           },
           "marker": {
            "size": 3
           },
           "mode": "lines+markers",
           "name": "LEFT_THIGH",
           "type": "scatter3d",
           "x": [
            0.26372555,
            0.25521553
           ],
           "y": [
            -0.323865,
            -0.391051
           ],
           "z": [
            -1.0771159,
            -1.0840755
           ]
          },
          {
           "line": {
            "width": 10
           },
           "marker": {
            "size": 3
           },
           "mode": "lines+markers",
           "name": "RIGHT_THIGH",
           "type": "scatter3d",
           "x": [
            0.27102152,
            0.27805987
           ],
           "y": [
            -0.31218475,
            -0.35370198
           ],
           "z": [
            -1.0555819,
            -0.9832605
           ]
          },
          {
           "line": {
            "width": 10
           },
           "marker": {
            "size": 3
           },
           "mode": "lines+markers",
           "name": "LEFT_LOWER_LEG",
           "type": "scatter3d",
           "x": [
            0.25521553,
            0.22539598
           ],
           "y": [
            -0.391051,
            -0.46563637
           ],
           "z": [
            -1.0840755,
            -1.1235584
           ]
          },
          {
           "line": {
            "width": 10
           },
           "marker": {
            "size": 3
           },
           "mode": "lines+markers",
           "name": "RIGHT_LOWER_LEG",
           "type": "scatter3d",
           "x": [
            0.27805987,
            0.27649403
           ],
           "y": [
            -0.35370198,
            -0.40051565
           ],
           "z": [
            -0.9832605,
            -0.9482622
           ]
          }
         ],
         "layout": {
          "title": {
           "text": "frame:310"
          }
         },
         "name": "310"
        },
        {
         "data": [
          {
           "line": {
            "width": 10
           },
           "marker": {
            "size": 3
           },
           "mode": "lines+markers",
           "name": "CLUB",
           "type": "scatter3d",
           "x": [
            0.26163557,
            0.08626082
           ],
           "y": [
            -0.18960948,
            -0.24178295
           ],
           "z": [
            -1.1213892,
            -1.1330599
           ]
          },
          {
           "line": {
            "width": 10
           },
           "marker": {
            "size": 3
           },
           "mode": "lines+markers",
           "name": "EYE",
           "type": "scatter3d",
           "x": [
            0.266919,
            0.27061766
           ],
           "y": [
            -0.21153896,
            -0.211536
           ],
           "z": [
            -1.0179943,
            -1.025566
           ]
          },
          {
           "line": {
            "width": 10
           },
           "marker": {
            "size": 3
           },
           "mode": "lines+markers",
           "name": "SHOULDER",
           "type": "scatter3d",
           "x": [
            0.2582322,
            0.26304516
           ],
           "y": [
            -0.24692999,
            -0.23149633
           ],
           "z": [
            -1.0670457,
            -1.0583074
           ]
          },
          {
           "line": {
            "width": 10
           },
           "marker": {
            "size": 3
           },
           "mode": "lines+markers",
           "name": "LEFT_UPPER_ARM",
           "type": "scatter3d",
           "x": [
            0.2582322,
            0.27719262
           ],
           "y": [
            -0.24692999,
            -0.23679438
           ],
           "z": [
            -1.0670457,
            -1.0680146
           ]
          },
          {
           "line": {
            "width": 10
           },
           "marker": {
            "size": 3
           },
           "mode": "lines+markers",
           "name": "RIGHT_UPPER_ARM",
           "type": "scatter3d",
           "x": [
            0.26304516,
            0.2808299
           ],
           "y": [
            -0.23149633,
            -0.20650704
           ],
           "z": [
            -1.0583074,
            -1.0769988
           ]
          },
          {
           "line": {
            "width": 10
           },
           "marker": {
            "size": 3
           },
           "mode": "lines+markers",
           "name": "LEFT_FOREARM",
           "type": "scatter3d",
           "x": [
            0.27719262,
            0.28054056
           ],
           "y": [
            -0.23679438,
            -0.207765
           ],
           "z": [
            -1.0680146,
            -1.0563174
           ]
          },
          {
           "line": {
            "width": 10
           },
           "marker": {
            "size": 3
           },
           "mode": "lines+markers",
           "name": "RIGHT_FOREARM",
           "type": "scatter3d",
           "x": [
            0.2808299,
            0.28165957
           ],
           "y": [
            -0.20650704,
            -0.19409642
           ],
           "z": [
            -1.0769988,
            -1.1057523
           ]
          },
          {
           "line": {
            "width": 10
           },
           "marker": {
            "size": 3
           },
           "mode": "lines+markers",
           "name": "HIP",
           "type": "scatter3d",
           "x": [
            0.26260138,
            0.2715473
           ],
           "y": [
            -0.32396865,
            -0.31200704
           ],
           "z": [
            -1.0773722,
            -1.0552377
           ]
          },
          {
           "line": {
            "width": 10
           },
           "marker": {
            "size": 3
           },
           "mode": "lines+markers",
           "name": "LEFT_BODY",
           "type": "scatter3d",
           "x": [
            0.2582322,
            0.26260138
           ],
           "y": [
            -0.24692999,
            -0.32396865
           ],
           "z": [
            -1.0670457,
            -1.0773722
           ]
          },
          {
           "line": {
            "width": 10
           },
           "marker": {
            "size": 3
           },
           "mode": "lines+markers",
           "name": "RIGHT_BODY",
           "type": "scatter3d",
           "x": [
            0.26304516,
            0.2715473
           ],
           "y": [
            -0.23149633,
            -0.31200704
           ],
           "z": [
            -1.0583074,
            -1.0552377
           ]
          },
          {
           "line": {
            "width": 10
           },
           "marker": {
            "size": 3
           },
           "mode": "lines+markers",
           "name": "LEFT_THIGH",
           "type": "scatter3d",
           "x": [
            0.26260138,
            0.25536123
           ],
           "y": [
            -0.32396865,
            -0.39230788
           ],
           "z": [
            -1.0773722,
            -1.0866082
           ]
          },
          {
           "line": {
            "width": 10
           },
           "marker": {
            "size": 3
           },
           "mode": "lines+markers",
           "name": "RIGHT_THIGH",
           "type": "scatter3d",
           "x": [
            0.2715473,
            0.27894366
           ],
           "y": [
            -0.31200704,
            -0.35495135
           ],
           "z": [
            -1.0552377,
            -0.9868428
           ]
          },
          {
           "line": {
            "width": 10
           },
           "marker": {
            "size": 3
           },
           "mode": "lines+markers",
           "name": "LEFT_LOWER_LEG",
           "type": "scatter3d",
           "x": [
            0.25536123,
            0.22496913
           ],
           "y": [
            -0.39230788,
            -0.46671325
           ],
           "z": [
            -1.0866082,
            -1.1279802
           ]
          },
          {
           "line": {
            "width": 10
           },
           "marker": {
            "size": 3
           },
           "mode": "lines+markers",
           "name": "RIGHT_LOWER_LEG",
           "type": "scatter3d",
           "x": [
            0.27894366,
            0.2770362
           ],
           "y": [
            -0.35495135,
            -0.40042228
           ],
           "z": [
            -0.9868428,
            -0.95193654
           ]
          }
         ],
         "layout": {
          "title": {
           "text": "frame:315"
          }
         },
         "name": "315"
        },
        {
         "data": [
          {
           "line": {
            "width": 10
           },
           "marker": {
            "size": 3
           },
           "mode": "lines+markers",
           "name": "CLUB",
           "type": "scatter3d",
           "x": [
            0.26526162,
            0.08727667
           ],
           "y": [
            -0.18745756,
            -0.23301296
           ],
           "z": [
            -1.1202177,
            -1.1434373
           ]
          },
          {
           "line": {
            "width": 10
           },
           "marker": {
            "size": 3
           },
           "mode": "lines+markers",
           "name": "EYE",
           "type": "scatter3d",
           "x": [
            0.2640338,
            0.2683882
           ],
           "y": [
            -0.21244709,
            -0.21188068
           ],
           "z": [
            -1.0172296,
            -1.0248977
           ]
          },
          {
           "line": {
            "width": 10
           },
           "marker": {
            "size": 3
           },
           "mode": "lines+markers",
           "name": "SHOULDER",
           "type": "scatter3d",
           "x": [
            0.2547491,
            0.266374
           ],
           "y": [
            -0.24221694,
            -0.23177187
           ],
           "z": [
            -1.0472813,
            -1.0720731
           ]
          },
          {
           "line": {
            "width": 10
           },
           "marker": {
            "size": 3
           },
           "mode": "lines+markers",
           "name": "LEFT_UPPER_ARM",
           "type": "scatter3d",
           "x": [
            0.2547491,
            0.27331668
           ],
           "y": [
            -0.24221694,
            -0.23147617
           ],
           "z": [
            -1.0472813,
            -1.0373873
           ]
          },
          {
           "line": {
            "width": 10
           },
           "marker": {
            "size": 3
           },
           "mode": "lines+markers",
           "name": "RIGHT_UPPER_ARM",
           "type": "scatter3d",
           "x": [
            0.266374,
            0.28558153
           ],
           "y": [
            -0.23177187,
            -0.20467974
           ],
           "z": [
            -1.0720731,
            -1.0872107
           ]
          },
          {
           "line": {
            "width": 10
           },
           "marker": {
            "size": 3
           },
           "mode": "lines+markers",
           "name": "LEFT_FOREARM",
           "type": "scatter3d",
           "x": [
            0.27331668,
            0.2769815
           ],
           "y": [
            -0.23147617,
            -0.20927574
           ],
           "z": [
            -1.0373873,
            -1.0489106
           ]
          },
          {
           "line": {
            "width": 10
           },
           "marker": {
            "size": 3
           },
           "mode": "lines+markers",
           "name": "RIGHT_FOREARM",
           "type": "scatter3d",
           "x": [
            0.28558153,
            0.28589752
           ],
           "y": [
            -0.20467974,
            -0.18925549
           ],
           "z": [
            -1.0872107,
            -1.1054616
           ]
          },
          {
           "line": {
            "width": 10
           },
           "marker": {
            "size": 3
           },
           "mode": "lines+markers",
           "name": "HIP",
           "type": "scatter3d",
           "x": [
            0.25847462,
            0.27414113
           ],
           "y": [
            -0.3178269,
            -0.31384325
           ],
           "z": [
            -1.0588319,
            -1.0682595
           ]
          },
          {
           "line": {
            "width": 10
           },
           "marker": {
            "size": 3
           },
           "mode": "lines+markers",
           "name": "LEFT_BODY",
           "type": "scatter3d",
           "x": [
            0.2547491,
            0.25847462
           ],
           "y": [
            -0.24221694,
            -0.3178269
           ],
           "z": [
            -1.0472813,
            -1.0588319
           ]
          },
          {
           "line": {
            "width": 10
           },
           "marker": {
            "size": 3
           },
           "mode": "lines+markers",
           "name": "RIGHT_BODY",
           "type": "scatter3d",
           "x": [
            0.266374,
            0.27414113
           ],
           "y": [
            -0.23177187,
            -0.31384325
           ],
           "z": [
            -1.0720731,
            -1.0682595
           ]
          },
          {
           "line": {
            "width": 10
           },
           "marker": {
            "size": 3
           },
           "mode": "lines+markers",
           "name": "LEFT_THIGH",
           "type": "scatter3d",
           "x": [
            0.25847462,
            0.24344444
           ],
           "y": [
            -0.3178269,
            -0.37472057
           ],
           "z": [
            -1.0588319,
            -1.0385003
           ]
          },
          {
           "line": {
            "width": 10
           },
           "marker": {
            "size": 3
           },
           "mode": "lines+markers",
           "name": "RIGHT_THIGH",
           "type": "scatter3d",
           "x": [
            0.27414113,
            0.28873533
           ],
           "y": [
            -0.31384325,
            -0.36382473
           ],
           "z": [
            -1.0682595,
            -1.0256023
           ]
          },
          {
           "line": {
            "width": 10
           },
           "marker": {
            "size": 3
           },
           "mode": "lines+markers",
           "name": "LEFT_LOWER_LEG",
           "type": "scatter3d",
           "x": [
            0.24344444,
            0.21093783
           ],
           "y": [
            -0.37472057,
            -0.43578827
           ],
           "z": [
            -1.0385003,
            -1.047885
           ]
          },
          {
           "line": {
            "width": 10
           },
           "marker": {
            "size": 3
           },
           "mode": "lines+markers",
           "name": "RIGHT_LOWER_LEG",
           "type": "scatter3d",
           "x": [
            0.28873533,
            0.29491806
           ],
           "y": [
            -0.36382473,
            -0.42072955
           ],
           "z": [
            -1.0256023,
            -1.0135322
           ]
          }
         ],
         "layout": {
          "title": {
           "text": "frame:320"
          }
         },
         "name": "320"
        },
        {
         "data": [
          {
           "line": {
            "width": 10
           },
           "marker": {
            "size": 3
           },
           "mode": "lines+markers",
           "name": "CLUB",
           "type": "scatter3d",
           "x": [
            0.27572173,
            0.09932703
           ],
           "y": [
            -0.18869828,
            -0.21837577
           ],
           "z": [
            -1.1238556,
            -1.1762891
           ]
          },
          {
           "line": {
            "width": 10
           },
           "marker": {
            "size": 3
           },
           "mode": "lines+markers",
           "name": "EYE",
           "type": "scatter3d",
           "x": [
            0.25649104,
            0.2659105
           ],
           "y": [
            -0.21509627,
            -0.21265401
           ],
           "z": [
            -1.0253102,
            -1.0279247
           ]
          },
          {
           "line": {
            "width": 10
           },
           "marker": {
            "size": 3
           },
           "mode": "lines+markers",
           "name": "SHOULDER",
           "type": "scatter3d",
           "x": [
            0.25117633,
            0.27286237
           ],
           "y": [
            -0.24244602,
            -0.23239933
           ],
           "z": [
            -1.0520865,
            -1.0648508
           ]
          },
          {
           "line": {
            "width": 10
           },
           "marker": {
            "size": 3
           },
           "mode": "lines+markers",
           "name": "LEFT_UPPER_ARM",
           "type": "scatter3d",
           "x": [
            0.25117633,
            0.2753235
           ],
           "y": [
            -0.24244602,
            -0.22971915
           ],
           "z": [
            -1.0520865,
            -1.0442181
           ]
          },
          {
           "line": {
            "width": 10
           },
           "marker": {
            "size": 3
           },
           "mode": "lines+markers",
           "name": "RIGHT_UPPER_ARM",
           "type": "scatter3d",
           "x": [
            0.27286237,
            0.29372534
           ],
           "y": [
            -0.23239933,
            -0.21288988
           ],
           "z": [
            -1.0648508,
            -1.0835029
           ]
          },
          {
           "line": {
            "width": 10
           },
           "marker": {
            "size": 3
           },
           "mode": "lines+markers",
           "name": "LEFT_FOREARM",
           "type": "scatter3d",
           "x": [
            0.2753235,
            0.28011677
           ],
           "y": [
            -0.22971915,
            -0.20145953
           ],
           "z": [
            -1.0442181,
            -1.0500479
           ]
          },
          {
           "line": {
            "width": 10
           },
           "marker": {
            "size": 3
           },
           "mode": "lines+markers",
           "name": "RIGHT_FOREARM",
           "type": "scatter3d",
           "x": [
            0.29372534,
            0.29477203
           ],
           "y": [
            -0.21288988,
            -0.19296591
           ],
           "z": [
            -1.0835029,
            -1.1015183
           ]
          },
          {
           "line": {
            "width": 10
           },
           "marker": {
            "size": 3
           },
           "mode": "lines+markers",
           "name": "HIP",
           "type": "scatter3d",
           "x": [
            0.25542226,
            0.277712
           ],
           "y": [
            -0.3199607,
            -0.31470418
           ],
           "z": [
            -1.064634,
            -1.0656056
           ]
          },
          {
           "line": {
            "width": 10
           },
           "marker": {
            "size": 3
           },
           "mode": "lines+markers",
           "name": "LEFT_BODY",
           "type": "scatter3d",
           "x": [
            0.25117633,
            0.25542226
           ],
           "y": [
            -0.24244602,
            -0.3199607
           ],
           "z": [
            -1.0520865,
            -1.064634
           ]
          },
          {
           "line": {
            "width": 10
           },
           "marker": {
            "size": 3
           },
           "mode": "lines+markers",
           "name": "RIGHT_BODY",
           "type": "scatter3d",
           "x": [
            0.27286237,
            0.277712
           ],
           "y": [
            -0.23239933,
            -0.31470418
           ],
           "z": [
            -1.0648508,
            -1.0656056
           ]
          },
          {
           "line": {
            "width": 10
           },
           "marker": {
            "size": 3
           },
           "mode": "lines+markers",
           "name": "LEFT_THIGH",
           "type": "scatter3d",
           "x": [
            0.25542226,
            0.23922913
           ],
           "y": [
            -0.3199607,
            -0.37413222
           ],
           "z": [
            -1.064634,
            -1.037207
           ]
          },
          {
           "line": {
            "width": 10
           },
           "marker": {
            "size": 3
           },
           "mode": "lines+markers",
           "name": "RIGHT_THIGH",
           "type": "scatter3d",
           "x": [
            0.277712,
            0.29047042
           ],
           "y": [
            -0.31470418,
            -0.36163583
           ],
           "z": [
            -1.0656056,
            -1.0203955
           ]
          },
          {
           "line": {
            "width": 10
           },
           "marker": {
            "size": 3
           },
           "mode": "lines+markers",
           "name": "LEFT_LOWER_LEG",
           "type": "scatter3d",
           "x": [
            0.23922913,
            0.21092436
           ],
           "y": [
            -0.37413222,
            -0.43491116
           ],
           "z": [
            -1.037207,
            -1.0467151
           ]
          },
          {
           "line": {
            "width": 10
           },
           "marker": {
            "size": 3
           },
           "mode": "lines+markers",
           "name": "RIGHT_LOWER_LEG",
           "type": "scatter3d",
           "x": [
            0.29047042,
            0.294129
           ],
           "y": [
            -0.36163583,
            -0.42038605
           ],
           "z": [
            -1.0203955,
            -1.0142285
           ]
          }
         ],
         "layout": {
          "title": {
           "text": "frame:325"
          }
         },
         "name": "325"
        },
        {
         "data": [
          {
           "line": {
            "width": 10
           },
           "marker": {
            "size": 3
           },
           "mode": "lines+markers",
           "name": "CLUB",
           "type": "scatter3d",
           "x": [
            0.28907675,
            0.13440916
           ],
           "y": [
            -0.19458154,
            -0.19481692
           ],
           "z": [
            -1.1162127,
            -1.2045388
           ]
          },
          {
           "line": {
            "width": 10
           },
           "marker": {
            "size": 3
           },
           "mode": "lines+markers",
           "name": "EYE",
           "type": "scatter3d",
           "x": [
            0.2562618,
            0.2645672
           ],
           "y": [
            -0.21525195,
            -0.21417384
           ],
           "z": [
            -1.0282062,
            -1.0329361
           ]
          },
          {
           "line": {
            "width": 10
           },
           "marker": {
            "size": 3
           },
           "mode": "lines+markers",
           "name": "SHOULDER",
           "type": "scatter3d",
           "x": [
            0.24518995,
            0.27839026
           ],
           "y": [
            -0.24202736,
            -0.23784736
           ],
           "z": [
            -1.0450884,
            -1.0613283
           ]
          },
          {
           "line": {
            "width": 10
           },
           "marker": {
            "size": 3
           },
           "mode": "lines+markers",
           "name": "LEFT_UPPER_ARM",
           "type": "scatter3d",
           "x": [
            0.24518995,
            0.27150682
           ],
           "y": [
            -0.24202736,
            -0.20998995
           ],
           "z": [
            -1.0450884,
            -1.016335
           ]
          },
          {
           "line": {
            "width": 10
           },
           "marker": {
            "size": 3
           },
           "mode": "lines+markers",
           "name": "RIGHT_UPPER_ARM",
           "type": "scatter3d",
           "x": [
            0.27839026,
            0.30262658
           ],
           "y": [
            -0.23784736,
            -0.21536157
           ],
           "z": [
            -1.0613283,
            -1.0802345
           ]
          },
          {
           "line": {
            "width": 10
           },
           "marker": {
            "size": 3
           },
           "mode": "lines+markers",
           "name": "LEFT_FOREARM",
           "type": "scatter3d",
           "x": [
            0.27150682,
            0.27850503
           ],
           "y": [
            -0.20998995,
            -0.1734366
           ],
           "z": [
            -1.016335,
            -1.002647
           ]
          },
          {
           "line": {
            "width": 10
           },
           "marker": {
            "size": 3
           },
           "mode": "lines+markers",
           "name": "RIGHT_FOREARM",
           "type": "scatter3d",
           "x": [
            0.30262658,
            0.3093213
           ],
           "y": [
            -0.21536157,
            -0.20185953
           ],
           "z": [
            -1.0802345,
            -1.0962372
           ]
          },
          {
           "line": {
            "width": 10
           },
           "marker": {
            "size": 3
           },
           "mode": "lines+markers",
           "name": "HIP",
           "type": "scatter3d",
           "x": [
            0.24786235,
            0.276561
           ],
           "y": [
            -0.31865367,
            -0.31599155
           ],
           "z": [
            -1.0609016,
            -1.0658109
           ]
          },
          {
           "line": {
            "width": 10
           },
           "marker": {
            "size": 3
           },
           "mode": "lines+markers",
           "name": "LEFT_BODY",
           "type": "scatter3d",
           "x": [
            0.24518995,
            0.24786235
           ],
           "y": [
            -0.24202736,
            -0.31865367
           ],
           "z": [
            -1.0450884,
            -1.0609016
           ]
          },
          {
           "line": {
            "width": 10
           },
           "marker": {
            "size": 3
           },
           "mode": "lines+markers",
           "name": "RIGHT_BODY",
           "type": "scatter3d",
           "x": [
            0.27839026,
            0.276561
           ],
           "y": [
            -0.23784736,
            -0.31599155
           ],
           "z": [
            -1.0613283,
            -1.0658109
           ]
          },
          {
           "line": {
            "width": 10
           },
           "marker": {
            "size": 3
           },
           "mode": "lines+markers",
           "name": "LEFT_THIGH",
           "type": "scatter3d",
           "x": [
            0.24786235,
            0.23165397
           ],
           "y": [
            -0.31865367,
            -0.37229908
           ],
           "z": [
            -1.0609016,
            -1.0296475
           ]
          },
          {
           "line": {
            "width": 10
           },
           "marker": {
            "size": 3
           },
           "mode": "lines+markers",
           "name": "RIGHT_THIGH",
           "type": "scatter3d",
           "x": [
            0.276561,
            0.28730512
           ],
           "y": [
            -0.31599155,
            -0.36354098
           ],
           "z": [
            -1.0658109,
            -1.022961
           ]
          },
          {
           "line": {
            "width": 10
           },
           "marker": {
            "size": 3
           },
           "mode": "lines+markers",
           "name": "LEFT_LOWER_LEG",
           "type": "scatter3d",
           "x": [
            0.23165397,
            0.20975557
           ],
           "y": [
            -0.37229908,
            -0.43268928
           ],
           "z": [
            -1.0296475,
            -1.0390308
           ]
          },
          {
           "line": {
            "width": 10
           },
           "marker": {
            "size": 3
           },
           "mode": "lines+markers",
           "name": "RIGHT_LOWER_LEG",
           "type": "scatter3d",
           "x": [
            0.28730512,
            0.2924844
           ],
           "y": [
            -0.36354098,
            -0.4183542
           ],
           "z": [
            -1.022961,
            -1.0226324
           ]
          }
         ],
         "layout": {
          "title": {
           "text": "frame:330"
          }
         },
         "name": "330"
        },
        {
         "data": [
          {
           "line": {
            "width": 10
           },
           "marker": {
            "size": 3
           },
           "mode": "lines+markers",
           "name": "CLUB",
           "type": "scatter3d",
           "x": [
            0.3218841,
            0.20263894
           ],
           "y": [
            -0.21176334,
            -0.17132457
           ],
           "z": [
            -1.1013564,
            -1.2262115
           ]
          },
          {
           "line": {
            "width": 10
           },
           "marker": {
            "size": 3
           },
           "mode": "lines+markers",
           "name": "EYE",
           "type": "scatter3d",
           "x": [
            0.25456923,
            0.2644051
           ],
           "y": [
            -0.21699446,
            -0.21657723
           ],
           "z": [
            -1.0268873,
            -1.0304165
           ]
          },
          {
           "line": {
            "width": 10
           },
           "marker": {
            "size": 3
           },
           "mode": "lines+markers",
           "name": "SHOULDER",
           "type": "scatter3d",
           "x": [
            0.24133123,
            0.27326185
           ],
           "y": [
            -0.2407622,
            -0.23802564
           ],
           "z": [
            -1.0480494,
            -1.0610193
           ]
          },
          {
           "line": {
            "width": 10
           },
           "marker": {
            "size": 3
           },
           "mode": "lines+markers",
           "name": "LEFT_UPPER_ARM",
           "type": "scatter3d",
           "x": [
            0.24133123,
            0.2673243
           ],
           "y": [
            -0.2407622,
            -0.24116501
           ],
           "z": [
            -1.0480494,
            -1.0468804
           ]
          },
          {
           "line": {
            "width": 10
           },
           "marker": {
            "size": 3
           },
           "mode": "lines+markers",
           "name": "RIGHT_UPPER_ARM",
           "type": "scatter3d",
           "x": [
            0.27326185,
            0.3072119
           ],
           "y": [
            -0.23802564,
            -0.238261
           ],
           "z": [
            -1.0610193,
            -1.0783993
           ]
          },
          {
           "line": {
            "width": 10
           },
           "marker": {
            "size": 3
           },
           "mode": "lines+markers",
           "name": "LEFT_FOREARM",
           "type": "scatter3d",
           "x": [
            0.2673243,
            0.29669106
           ],
           "y": [
            -0.24116501,
            -0.21627282
           ],
           "z": [
            -1.0468804,
            -1.0330248
           ]
          },
          {
           "line": {
            "width": 10
           },
           "marker": {
            "size": 3
           },
           "mode": "lines+markers",
           "name": "RIGHT_FOREARM",
           "type": "scatter3d",
           "x": [
            0.3072119,
            0.3215916
           ],
           "y": [
            -0.238261,
            -0.22718616
           ],
           "z": [
            -1.0783993,
            -1.0819908
           ]
          },
          {
           "line": {
            "width": 10
           },
           "marker": {
            "size": 3
           },
           "mode": "lines+markers",
           "name": "HIP",
           "type": "scatter3d",
           "x": [
            0.24694408,
            0.2756203
           ],
           "y": [
            -0.31941605,
            -0.31669727
           ],
           "z": [
            -1.0597054,
            -1.060808
           ]
          },
          {
           "line": {
            "width": 10
           },
           "marker": {
            "size": 3
           },
           "mode": "lines+markers",
           "name": "LEFT_BODY",
           "type": "scatter3d",
           "x": [
            0.24133123,
            0.24694408
           ],
           "y": [
            -0.2407622,
            -0.31941605
           ],
           "z": [
            -1.0480494,
            -1.0597054
           ]
          },
          {
           "line": {
            "width": 10
           },
           "marker": {
            "size": 3
           },
           "mode": "lines+markers",
           "name": "RIGHT_BODY",
           "type": "scatter3d",
           "x": [
            0.27326185,
            0.2756203
           ],
           "y": [
            -0.23802564,
            -0.31669727
           ],
           "z": [
            -1.0610193,
            -1.060808
           ]
          },
          {
           "line": {
            "width": 10
           },
           "marker": {
            "size": 3
           },
           "mode": "lines+markers",
           "name": "LEFT_THIGH",
           "type": "scatter3d",
           "x": [
            0.24694408,
            0.22476012
           ],
           "y": [
            -0.31941605,
            -0.3714116
           ],
           "z": [
            -1.0597054,
            -1.0290117
           ]
          },
          {
           "line": {
            "width": 10
           },
           "marker": {
            "size": 3
           },
           "mode": "lines+markers",
           "name": "RIGHT_THIGH",
           "type": "scatter3d",
           "x": [
            0.2756203,
            0.27936617
           ],
           "y": [
            -0.31669727,
            -0.36393535
           ],
           "z": [
            -1.060808,
            -1.0117615
           ]
          },
          {
           "line": {
            "width": 10
           },
           "marker": {
            "size": 3
           },
           "mode": "lines+markers",
           "name": "LEFT_LOWER_LEG",
           "type": "scatter3d",
           "x": [
            0.22476012,
            0.21063866
           ],
           "y": [
            -0.3714116,
            -0.43483365
           ],
           "z": [
            -1.0290117,
            -1.0441861
           ]
          },
          {
           "line": {
            "width": 10
           },
           "marker": {
            "size": 3
           },
           "mode": "lines+markers",
           "name": "RIGHT_LOWER_LEG",
           "type": "scatter3d",
           "x": [
            0.27936617,
            0.29799047
           ],
           "y": [
            -0.36393535,
            -0.41671205
           ],
           "z": [
            -1.0117615,
            -1.0054585
           ]
          }
         ],
         "layout": {
          "title": {
           "text": "frame:335"
          }
         },
         "name": "335"
        },
        {
         "data": [
          {
           "line": {
            "width": 10
           },
           "marker": {
            "size": 3
           },
           "mode": "lines+markers",
           "name": "CLUB",
           "type": "scatter3d",
           "x": [
            0.33526012,
            0.31012675
           ],
           "y": [
            -0.24202316,
            -0.16394341
           ],
           "z": [
            -1.0696222,
            -1.2146307
           ]
          },
          {
           "line": {
            "width": 10
           },
           "marker": {
            "size": 3
           },
           "mode": "lines+markers",
           "name": "EYE",
           "type": "scatter3d",
           "x": [
            0.25522467,
            0.263368
           ],
           "y": [
            -0.21789849,
            -0.21867162
           ],
           "z": [
            -1.029944,
            -1.0323606
           ]
          },
          {
           "line": {
            "width": 10
           },
           "marker": {
            "size": 3
           },
           "mode": "lines+markers",
           "name": "SHOULDER",
           "type": "scatter3d",
           "x": [
            0.24004726,
            0.27475193
           ],
           "y": [
            -0.23577769,
            -0.23877276
           ],
           "z": [
            -1.0593396,
            -1.0646276
           ]
          },
          {
           "line": {
            "width": 10
           },
           "marker": {
            "size": 3
           },
           "mode": "lines+markers",
           "name": "LEFT_UPPER_ARM",
           "type": "scatter3d",
           "x": [
            0.24004726,
            0.2657368
           ],
           "y": [
            -0.23577769,
            -0.24744111
           ],
           "z": [
            -1.0593396,
            -1.0342581
           ]
          },
          {
           "line": {
            "width": 10
           },
           "marker": {
            "size": 3
           },
           "mode": "lines+markers",
           "name": "RIGHT_UPPER_ARM",
           "type": "scatter3d",
           "x": [
            0.27475193,
            0.30165854
           ],
           "y": [
            -0.23877276,
            -0.2592076
           ],
           "z": [
            -1.0646276,
            -1.0636847
           ]
          },
          {
           "line": {
            "width": 10
           },
           "marker": {
            "size": 3
           },
           "mode": "lines+markers",
           "name": "LEFT_FOREARM",
           "type": "scatter3d",
           "x": [
            0.2657368,
            0.30710185
           ],
           "y": [
            -0.24744111,
            -0.23375073
           ],
           "z": [
            -1.0342581,
            -1.0047452
           ]
          },
          {
           "line": {
            "width": 10
           },
           "marker": {
            "size": 3
           },
           "mode": "lines+markers",
           "name": "RIGHT_FOREARM",
           "type": "scatter3d",
           "x": [
            0.30165854,
            0.3261034
           ],
           "y": [
            -0.2592076,
            -0.25905943
           ],
           "z": [
            -1.0636847,
            -1.0533038
           ]
          },
          {
           "line": {
            "width": 10
           },
           "marker": {
            "size": 3
           },
           "mode": "lines+markers",
           "name": "HIP",
           "type": "scatter3d",
           "x": [
            0.24788854,
            0.2756789
           ],
           "y": [
            -0.31803054,
            -0.31806755
           ],
           "z": [
            -1.0569322,
            -1.0567348
           ]
          },
          {
           "line": {
            "width": 10
           },
           "marker": {
            "size": 3
           },
           "mode": "lines+markers",
           "name": "LEFT_BODY",
           "type": "scatter3d",
           "x": [
            0.24004726,
            0.24788854
           ],
           "y": [
            -0.23577769,
            -0.31803054
           ],
           "z": [
            -1.0593396,
            -1.0569322
           ]
          },
          {
           "line": {
            "width": 10
           },
           "marker": {
            "size": 3
           },
           "mode": "lines+markers",
           "name": "RIGHT_BODY",
           "type": "scatter3d",
           "x": [
            0.27475193,
            0.2756789
           ],
           "y": [
            -0.23877276,
            -0.31806755
           ],
           "z": [
            -1.0646276,
            -1.0567348
           ]
          },
          {
           "line": {
            "width": 10
           },
           "marker": {
            "size": 3
           },
           "mode": "lines+markers",
           "name": "LEFT_THIGH",
           "type": "scatter3d",
           "x": [
            0.24788854,
            0.2152012
           ],
           "y": [
            -0.31803054,
            -0.3735334
           ],
           "z": [
            -1.0569322,
            -1.0382316
           ]
          },
          {
           "line": {
            "width": 10
           },
           "marker": {
            "size": 3
           },
           "mode": "lines+markers",
           "name": "RIGHT_THIGH",
           "type": "scatter3d",
           "x": [
            0.2756789,
            0.26881474
           ],
           "y": [
            -0.31806755,
            -0.3686969
           ],
           "z": [
            -1.0567348,
            -1.023582
           ]
          },
          {
           "line": {
            "width": 10
           },
           "marker": {
            "size": 3
           },
           "mode": "lines+markers",
           "name": "LEFT_LOWER_LEG",
           "type": "scatter3d",
           "x": [
            0.2152012,
            0.21436445
           ],
           "y": [
            -0.3735334,
            -0.42635143
           ],
           "z": [
            -1.0382316,
            -1.0368692
           ]
          },
          {
           "line": {
            "width": 10
           },
           "marker": {
            "size": 3
           },
           "mode": "lines+markers",
           "name": "RIGHT_LOWER_LEG",
           "type": "scatter3d",
           "x": [
            0.26881474,
            0.29752228
           ],
           "y": [
            -0.3686969,
            -0.41579172
           ],
           "z": [
            -1.023582,
            -1.0098338
           ]
          }
         ],
         "layout": {
          "title": {
           "text": "frame:340"
          }
         },
         "name": "340"
        },
        {
         "data": [
          {
           "line": {
            "width": 10
           },
           "marker": {
            "size": 3
           },
           "mode": "lines+markers",
           "name": "CLUB",
           "type": "scatter3d",
           "x": [
            0.3193959,
            0.434177
           ],
           "y": [
            -0.27870473,
            -0.20461585
           ],
           "z": [
            -1.0253651,
            -1.1172837
           ]
          },
          {
           "line": {
            "width": 10
           },
           "marker": {
            "size": 3
           },
           "mode": "lines+markers",
           "name": "EYE",
           "type": "scatter3d",
           "x": [
            0.25235605,
            0.26302367
           ],
           "y": [
            -0.22012728,
            -0.22052631
           ],
           "z": [
            -1.0482992,
            -1.0507152
           ]
          },
          {
           "line": {
            "width": 10
           },
           "marker": {
            "size": 3
           },
           "mode": "lines+markers",
           "name": "SHOULDER",
           "type": "scatter3d",
           "x": [
            0.23976645,
            0.27574897
           ],
           "y": [
            -0.23252824,
            -0.23372269
           ],
           "z": [
            -1.0578573,
            -1.061538
           ]
          },
          {
           "line": {
            "width": 10
           },
           "marker": {
            "size": 3
           },
           "mode": "lines+markers",
           "name": "LEFT_UPPER_ARM",
           "type": "scatter3d",
           "x": [
            0.23976645,
            0.254615
           ],
           "y": [
            -0.23252824,
            -0.26984298
           ],
           "z": [
            -1.0578573,
            -1.0436913
           ]
          },
          {
           "line": {
            "width": 10
           },
           "marker": {
            "size": 3
           },
           "mode": "lines+markers",
           "name": "RIGHT_UPPER_ARM",
           "type": "scatter3d",
           "x": [
            0.27574897,
            0.2869303
           ],
           "y": [
            -0.23372269,
            -0.2745979
           ],
           "z": [
            -1.061538,
            -1.063932
           ]
          },
          {
           "line": {
            "width": 10
           },
           "marker": {
            "size": 3
           },
           "mode": "lines+markers",
           "name": "LEFT_FOREARM",
           "type": "scatter3d",
           "x": [
            0.254615,
            0.29462177
           ],
           "y": [
            -0.26984298,
            -0.28107336
           ],
           "z": [
            -1.0436913,
            -1.0162665
           ]
          },
          {
           "line": {
            "width": 10
           },
           "marker": {
            "size": 3
           },
           "mode": "lines+markers",
           "name": "RIGHT_FOREARM",
           "type": "scatter3d",
           "x": [
            0.2869303,
            0.30401286
           ],
           "y": [
            -0.2745979,
            -0.28810355
           ],
           "z": [
            -1.063932,
            -1.03319
           ]
          },
          {
           "line": {
            "width": 10
           },
           "marker": {
            "size": 3
           },
           "mode": "lines+markers",
           "name": "HIP",
           "type": "scatter3d",
           "x": [
            0.24404451,
            0.27241898
           ],
           "y": [
            -0.31639922,
            -0.31598455
           ],
           "z": [
            -1.0556221,
            -1.0541047
           ]
          },
          {
           "line": {
            "width": 10
           },
           "marker": {
            "size": 3
           },
           "mode": "lines+markers",
           "name": "LEFT_BODY",
           "type": "scatter3d",
           "x": [
            0.23976645,
            0.24404451
           ],
           "y": [
            -0.23252824,
            -0.31639922
           ],
           "z": [
            -1.0578573,
            -1.0556221
           ]
          },
          {
           "line": {
            "width": 10
           },
           "marker": {
            "size": 3
           },
           "mode": "lines+markers",
           "name": "RIGHT_BODY",
           "type": "scatter3d",
           "x": [
            0.27574897,
            0.27241898
           ],
           "y": [
            -0.23372269,
            -0.31598455
           ],
           "z": [
            -1.061538,
            -1.0541047
           ]
          },
          {
           "line": {
            "width": 10
           },
           "marker": {
            "size": 3
           },
           "mode": "lines+markers",
           "name": "LEFT_THIGH",
           "type": "scatter3d",
           "x": [
            0.24404451,
            0.20517461
           ],
           "y": [
            -0.31639922,
            -0.37799117
           ],
           "z": [
            -1.0556221,
            -1.0448997
           ]
          },
          {
           "line": {
            "width": 10
           },
           "marker": {
            "size": 3
           },
           "mode": "lines+markers",
           "name": "RIGHT_THIGH",
           "type": "scatter3d",
           "x": [
            0.27241898,
            0.2582838
           ],
           "y": [
            -0.31598455,
            -0.37001044
           ],
           "z": [
            -1.0541047,
            -1.0194707
           ]
          },
          {
           "line": {
            "width": 10
           },
           "marker": {
            "size": 3
           },
           "mode": "lines+markers",
           "name": "LEFT_LOWER_LEG",
           "type": "scatter3d",
           "x": [
            0.20517461,
            0.21385008
           ],
           "y": [
            -0.37799117,
            -0.42573804
           ],
           "z": [
            -1.0448997,
            -1.0456606
           ]
          },
          {
           "line": {
            "width": 10
           },
           "marker": {
            "size": 3
           },
           "mode": "lines+markers",
           "name": "RIGHT_LOWER_LEG",
           "type": "scatter3d",
           "x": [
            0.2582838,
            0.29827976
           ],
           "y": [
            -0.37001044,
            -0.4107115
           ],
           "z": [
            -1.0194707,
            -1.0046879
           ]
          }
         ],
         "layout": {
          "title": {
           "text": "frame:345"
          }
         },
         "name": "345"
        },
        {
         "data": [
          {
           "line": {
            "width": 10
           },
           "marker": {
            "size": 3
           },
           "mode": "lines+markers",
           "name": "CLUB",
           "type": "scatter3d",
           "x": [
            0.27637598,
            0.43394727
           ],
           "y": [
            -0.3079767,
            -0.31596255
           ],
           "z": [
            -1.0068493,
            -0.9587808
           ]
          },
          {
           "line": {
            "width": 10
           },
           "marker": {
            "size": 3
           },
           "mode": "lines+markers",
           "name": "EYE",
           "type": "scatter3d",
           "x": [
            0.25657016,
            0.26657718
           ],
           "y": [
            -0.21812418,
            -0.21751544
           ],
           "z": [
            -1.0490849,
            -1.0449349
           ]
          },
          {
           "line": {
            "width": 10
           },
           "marker": {
            "size": 3
           },
           "mode": "lines+markers",
           "name": "SHOULDER",
           "type": "scatter3d",
           "x": [
            0.24340004,
            0.28217703
           ],
           "y": [
            -0.23382908,
            -0.2302753
           ],
           "z": [
            -1.0720679,
            -1.0486652
           ]
          },
          {
           "line": {
            "width": 10
           },
           "marker": {
            "size": 3
           },
           "mode": "lines+markers",
           "name": "LEFT_UPPER_ARM",
           "type": "scatter3d",
           "x": [
            0.24340004,
            0.23779361
           ],
           "y": [
            -0.23382908,
            -0.27456504
           ],
           "z": [
            -1.0720679,
            -1.0634851
           ]
          },
          {
           "line": {
            "width": 10
           },
           "marker": {
            "size": 3
           },
           "mode": "lines+markers",
           "name": "RIGHT_UPPER_ARM",
           "type": "scatter3d",
           "x": [
            0.28217703,
            0.28616256
           ],
           "y": [
            -0.2302753,
            -0.27419165
           ],
           "z": [
            -1.0486652,
            -1.0489583
           ]
          },
          {
           "line": {
            "width": 10
           },
           "marker": {
            "size": 3
           },
           "mode": "lines+markers",
           "name": "LEFT_FOREARM",
           "type": "scatter3d",
           "x": [
            0.23779361,
            0.25519523
           ],
           "y": [
            -0.27456504,
            -0.2940746
           ],
           "z": [
            -1.0634851,
            -1.0140154
           ]
          },
          {
           "line": {
            "width": 10
           },
           "marker": {
            "size": 3
           },
           "mode": "lines+markers",
           "name": "RIGHT_FOREARM",
           "type": "scatter3d",
           "x": [
            0.28616256,
            0.26851615
           ],
           "y": [
            -0.27419165,
            -0.29814768
           ],
           "z": [
            -1.0489583,
            -1.0250896
           ]
          },
          {
           "line": {
            "width": 10
           },
           "marker": {
            "size": 3
           },
           "mode": "lines+markers",
           "name": "HIP",
           "type": "scatter3d",
           "x": [
            0.23762779,
            0.26776603
           ],
           "y": [
            -0.31521598,
            -0.31045926
           ],
           "z": [
            -1.0672591,
            -1.0475371
           ]
          },
          {
           "line": {
            "width": 10
           },
           "marker": {
            "size": 3
           },
           "mode": "lines+markers",
           "name": "LEFT_BODY",
           "type": "scatter3d",
           "x": [
            0.24340004,
            0.23762779
           ],
           "y": [
            -0.23382908,
            -0.31521598
           ],
           "z": [
            -1.0720679,
            -1.0672591
           ]
          },
          {
           "line": {
            "width": 10
           },
           "marker": {
            "size": 3
           },
           "mode": "lines+markers",
           "name": "RIGHT_BODY",
           "type": "scatter3d",
           "x": [
            0.28217703,
            0.26776603
           ],
           "y": [
            -0.2302753,
            -0.31045926
           ],
           "z": [
            -1.0486652,
            -1.0475371
           ]
          },
          {
           "line": {
            "width": 10
           },
           "marker": {
            "size": 3
           },
           "mode": "lines+markers",
           "name": "LEFT_THIGH",
           "type": "scatter3d",
           "x": [
            0.23762779,
            0.20516141
           ],
           "y": [
            -0.31521598,
            -0.3794094
           ],
           "z": [
            -1.0672591,
            -1.0544932
           ]
          },
          {
           "line": {
            "width": 10
           },
           "marker": {
            "size": 3
           },
           "mode": "lines+markers",
           "name": "RIGHT_THIGH",
           "type": "scatter3d",
           "x": [
            0.26776603,
            0.2588048
           ],
           "y": [
            -0.31045926,
            -0.3688899
           ],
           "z": [
            -1.0475371,
            -1.0219247
           ]
          },
          {
           "line": {
            "width": 10
           },
           "marker": {
            "size": 3
           },
           "mode": "lines+markers",
           "name": "LEFT_LOWER_LEG",
           "type": "scatter3d",
           "x": [
            0.20516141,
            0.21302012
           ],
           "y": [
            -0.3794094,
            -0.42791313
           ],
           "z": [
            -1.0544932,
            -1.043135
           ]
          },
          {
           "line": {
            "width": 10
           },
           "marker": {
            "size": 3
           },
           "mode": "lines+markers",
           "name": "RIGHT_LOWER_LEG",
           "type": "scatter3d",
           "x": [
            0.2588048,
            0.29490575
           ],
           "y": [
            -0.3688899,
            -0.4110969
           ],
           "z": [
            -1.0219247,
            -1.0009956
           ]
          }
         ],
         "layout": {
          "title": {
           "text": "frame:350"
          }
         },
         "name": "350"
        },
        {
         "data": [
          {
           "line": {
            "width": 10
           },
           "marker": {
            "size": 3
           },
           "mode": "lines+markers",
           "name": "CLUB",
           "type": "scatter3d",
           "x": [
            0.22782667,
            0.22656296
           ],
           "y": [
            -0.3176553,
            -0.40717945
           ],
           "z": [
            -1.000873,
            -0.8714808
           ]
          },
          {
           "line": {
            "width": 10
           },
           "marker": {
            "size": 3
           },
           "mode": "lines+markers",
           "name": "EYE",
           "type": "scatter3d",
           "x": [
            0.2602957,
            0.26907676
           ],
           "y": [
            -0.2172211,
            -0.21668038
           ],
           "z": [
            -1.0442922,
            -1.0385331
           ]
          },
          {
           "line": {
            "width": 10
           },
           "marker": {
            "size": 3
           },
           "mode": "lines+markers",
           "name": "SHOULDER",
           "type": "scatter3d",
           "x": [
            0.2557173,
            0.28119847
           ],
           "y": [
            -0.23283134,
            -0.23130395
           ],
           "z": [
            -1.0781182,
            -1.0541449
           ]
          },
          {
           "line": {
            "width": 10
           },
           "marker": {
            "size": 3
           },
           "mode": "lines+markers",
           "name": "LEFT_UPPER_ARM",
           "type": "scatter3d",
           "x": [
            0.2557173,
            0.24364513
           ],
           "y": [
            -0.23283134,
            -0.2733552
           ],
           "z": [
            -1.0781182,
            -1.0710734
           ]
          },
          {
           "line": {
            "width": 10
           },
           "marker": {
            "size": 3
           },
           "mode": "lines+markers",
           "name": "RIGHT_UPPER_ARM",
           "type": "scatter3d",
           "x": [
            0.28119847,
            0.27351704
           ],
           "y": [
            -0.23130395,
            -0.2778131
           ],
           "z": [
            -1.0541449,
            -1.0488768
           ]
          },
          {
           "line": {
            "width": 10
           },
           "marker": {
            "size": 3
           },
           "mode": "lines+markers",
           "name": "LEFT_FOREARM",
           "type": "scatter3d",
           "x": [
            0.24364513,
            0.23007585
           ],
           "y": [
            -0.2733552,
            -0.29703814
           ],
           "z": [
            -1.0710734,
            -1.0393738
           ]
          },
          {
           "line": {
            "width": 10
           },
           "marker": {
            "size": 3
           },
           "mode": "lines+markers",
           "name": "RIGHT_FOREARM",
           "type": "scatter3d",
           "x": [
            0.27351704,
            0.24008897
           ],
           "y": [
            -0.2778131,
            -0.3038711
           ],
           "z": [
            -1.0488768,
            -1.0305507
           ]
          },
          {
           "line": {
            "width": 10
           },
           "marker": {
            "size": 3
           },
           "mode": "lines+markers",
           "name": "HIP",
           "type": "scatter3d",
           "x": [
            0.24019873,
            0.26106638
           ],
           "y": [
            -0.31094545,
            -0.3079722
           ],
           "z": [
            -1.077383,
            -1.0580571
           ]
          },
          {
           "line": {
            "width": 10
           },
           "marker": {
            "size": 3
           },
           "mode": "lines+markers",
           "name": "LEFT_BODY",
           "type": "scatter3d",
           "x": [
            0.2557173,
            0.24019873
           ],
           "y": [
            -0.23283134,
            -0.31094545
           ],
           "z": [
            -1.0781182,
            -1.077383
           ]
          },
          {
           "line": {
            "width": 10
           },
           "marker": {
            "size": 3
           },
           "mode": "lines+markers",
           "name": "RIGHT_BODY",
           "type": "scatter3d",
           "x": [
            0.28119847,
            0.26106638
           ],
           "y": [
            -0.23130395,
            -0.3079722
           ],
           "z": [
            -1.0541449,
            -1.0580571
           ]
          },
          {
           "line": {
            "width": 10
           },
           "marker": {
            "size": 3
           },
           "mode": "lines+markers",
           "name": "LEFT_THIGH",
           "type": "scatter3d",
           "x": [
            0.24019873,
            0.21475084
           ],
           "y": [
            -0.31094545,
            -0.3749109
           ],
           "z": [
            -1.077383,
            -1.0604522
           ]
          },
          {
           "line": {
            "width": 10
           },
           "marker": {
            "size": 3
           },
           "mode": "lines+markers",
           "name": "RIGHT_THIGH",
           "type": "scatter3d",
           "x": [
            0.26106638,
            0.2581386
           ],
           "y": [
            -0.3079722,
            -0.36470342
           ],
           "z": [
            -1.0580571,
            -1.0274138
           ]
          },
          {
           "line": {
            "width": 10
           },
           "marker": {
            "size": 3
           },
           "mode": "lines+markers",
           "name": "LEFT_LOWER_LEG",
           "type": "scatter3d",
           "x": [
            0.21475084,
            0.215643
           ],
           "y": [
            -0.3749109,
            -0.42972842
           ],
           "z": [
            -1.0604522,
            -1.0471575
           ]
          },
          {
           "line": {
            "width": 10
           },
           "marker": {
            "size": 3
           },
           "mode": "lines+markers",
           "name": "RIGHT_LOWER_LEG",
           "type": "scatter3d",
           "x": [
            0.2581386,
            0.28880447
           ],
           "y": [
            -0.36470342,
            -0.4091157
           ],
           "z": [
            -1.0274138,
            -0.9982624
           ]
          }
         ],
         "layout": {
          "title": {
           "text": "frame:355"
          }
         },
         "name": "355"
        },
        {
         "data": [
          {
           "line": {
            "width": 10
           },
           "marker": {
            "size": 3
           },
           "mode": "lines+markers",
           "name": "CLUB",
           "type": "scatter3d",
           "x": [
            0.18668585,
            0.047377184
           ],
           "y": [
            -0.3101489,
            -0.39052233
           ],
           "z": [
            -1.0242336,
            -0.9419067
           ]
          },
          {
           "line": {
            "width": 10
           },
           "marker": {
            "size": 3
           },
           "mode": "lines+markers",
           "name": "EYE",
           "type": "scatter3d",
           "x": [
            0.26968056,
            0.27356297
           ],
           "y": [
            -0.2179405,
            -0.21777794
           ],
           "z": [
            -1.033012,
            -1.0203142
           ]
          },
          {
           "line": {
            "width": 10
           },
           "marker": {
            "size": 3
           },
           "mode": "lines+markers",
           "name": "SHOULDER",
           "type": "scatter3d",
           "x": [
            0.27343225,
            0.27477512
           ],
           "y": [
            -0.23530596,
            -0.23941612
           ],
           "z": [
            -1.093253,
            -1.0374391
           ]
          },
          {
           "line": {
            "width": 10
           },
           "marker": {
            "size": 3
           },
           "mode": "lines+markers",
           "name": "LEFT_UPPER_ARM",
           "type": "scatter3d",
           "x": [
            0.27343225,
            0.25984016
           ],
           "y": [
            -0.23530596,
            -0.25883785
           ],
           "z": [
            -1.093253,
            -1.1313093
           ]
          },
          {
           "line": {
            "width": 10
           },
           "marker": {
            "size": 3
           },
           "mode": "lines+markers",
           "name": "RIGHT_UPPER_ARM",
           "type": "scatter3d",
           "x": [
            0.27477512,
            0.25140485
           ],
           "y": [
            -0.23941612,
            -0.27335387
           ],
           "z": [
            -1.0374391,
            -1.0207667
           ]
          },
          {
           "line": {
            "width": 10
           },
           "marker": {
            "size": 3
           },
           "mode": "lines+markers",
           "name": "LEFT_FOREARM",
           "type": "scatter3d",
           "x": [
            0.25984016,
            0.23479341
           ],
           "y": [
            -0.25883785,
            -0.27297258
           ],
           "z": [
            -1.1313093,
            -1.1190989
           ]
          },
          {
           "line": {
            "width": 10
           },
           "marker": {
            "size": 3
           },
           "mode": "lines+markers",
           "name": "RIGHT_FOREARM",
           "type": "scatter3d",
           "x": [
            0.25140485,
            0.20865944
           ],
           "y": [
            -0.27335387,
            -0.29546112
           ],
           "z": [
            -1.0207667,
            -1.0332587
           ]
          },
          {
           "line": {
            "width": 10
           },
           "marker": {
            "size": 3
           },
           "mode": "lines+markers",
           "name": "HIP",
           "type": "scatter3d",
           "x": [
            0.2401169,
            0.24858482
           ],
           "y": [
            -0.3177853,
            -0.31317252
           ],
           "z": [
            -1.099604,
            -1.0591763
           ]
          },
          {
           "line": {
            "width": 10
           },
           "marker": {
            "size": 3
           },
           "mode": "lines+markers",
           "name": "LEFT_BODY",
           "type": "scatter3d",
           "x": [
            0.27343225,
            0.2401169
           ],
           "y": [
            -0.23530596,
            -0.3177853
           ],
           "z": [
            -1.093253,
            -1.099604
           ]
          },
          {
           "line": {
            "width": 10
           },
           "marker": {
            "size": 3
           },
           "mode": "lines+markers",
           "name": "RIGHT_BODY",
           "type": "scatter3d",
           "x": [
            0.27477512,
            0.24858482
           ],
           "y": [
            -0.23941612,
            -0.31317252
           ],
           "z": [
            -1.0374391,
            -1.0591763
           ]
          },
          {
           "line": {
            "width": 10
           },
           "marker": {
            "size": 3
           },
           "mode": "lines+markers",
           "name": "LEFT_THIGH",
           "type": "scatter3d",
           "x": [
            0.2401169,
            0.22315325
           ],
           "y": [
            -0.3177853,
            -0.3700912
           ],
           "z": [
            -1.099604,
            -1.0539511
           ]
          },
          {
           "line": {
            "width": 10
           },
           "marker": {
            "size": 3
           },
           "mode": "lines+markers",
           "name": "RIGHT_THIGH",
           "type": "scatter3d",
           "x": [
            0.24858482,
            0.25504005
           ],
           "y": [
            -0.31317252,
            -0.3671875
           ],
           "z": [
            -1.0591763,
            -1.0343913
           ]
          },
          {
           "line": {
            "width": 10
           },
           "marker": {
            "size": 3
           },
           "mode": "lines+markers",
           "name": "LEFT_LOWER_LEG",
           "type": "scatter3d",
           "x": [
            0.22315325,
            0.22041918
           ],
           "y": [
            -0.3700912,
            -0.42627174
           ],
           "z": [
            -1.0539511,
            -1.0397046
           ]
          },
          {
           "line": {
            "width": 10
           },
           "marker": {
            "size": 3
           },
           "mode": "lines+markers",
           "name": "RIGHT_LOWER_LEG",
           "type": "scatter3d",
           "x": [
            0.25504005,
            0.28704813
           ],
           "y": [
            -0.3671875,
            -0.40213507
           ],
           "z": [
            -1.0343913,
            -0.99068576
           ]
          }
         ],
         "layout": {
          "title": {
           "text": "frame:360"
          }
         },
         "name": "360"
        },
        {
         "data": [
          {
           "line": {
            "width": 10
           },
           "marker": {
            "size": 3
           },
           "mode": "lines+markers",
           "name": "CLUB",
           "type": "scatter3d",
           "x": [
            0.16932835,
            -0.026724158
           ],
           "y": [
            -0.28091145,
            -0.31037435
           ],
           "z": [
            -1.069448,
            -1.1079159
           ]
          },
          {
           "line": {
            "width": 10
           },
           "marker": {
            "size": 3
           },
           "mode": "lines+markers",
           "name": "EYE",
           "type": "scatter3d",
           "x": [
            0.26922974,
            0.27319872
           ],
           "y": [
            -0.22187458,
            -0.22221223
           ],
           "z": [
            -1.0295945,
            -1.0183182
           ]
          },
          {
           "line": {
            "width": 10
           },
           "marker": {
            "size": 3
           },
           "mode": "lines+markers",
           "name": "SHOULDER",
           "type": "scatter3d",
           "x": [
            0.27297607,
            0.27524954
           ],
           "y": [
            -0.23769855,
            -0.2429648
           ],
           "z": [
            -1.0820341,
            -1.0338149
           ]
          },
          {
           "line": {
            "width": 10
           },
           "marker": {
            "size": 3
           },
           "mode": "lines+markers",
           "name": "LEFT_UPPER_ARM",
           "type": "scatter3d",
           "x": [
            0.27297607,
            0.24763207
           ],
           "y": [
            -0.23769855,
            -0.2535467
           ],
           "z": [
            -1.0820341,
            -1.1379571
           ]
          },
          {
           "line": {
            "width": 10
           },
           "marker": {
            "size": 3
           },
           "mode": "lines+markers",
           "name": "RIGHT_UPPER_ARM",
           "type": "scatter3d",
           "x": [
            0.27524954,
            0.2372541
           ],
           "y": [
            -0.2429648,
            -0.26833835
           ],
           "z": [
            -1.0338149,
            -1.0345922
           ]
          },
          {
           "line": {
            "width": 10
           },
           "marker": {
            "size": 3
           },
           "mode": "lines+markers",
           "name": "LEFT_FOREARM",
           "type": "scatter3d",
           "x": [
            0.24763207,
            0.21918781
           ],
           "y": [
            -0.2535467,
            -0.2593282
           ],
           "z": [
            -1.1379571,
            -1.152583
           ]
          },
          {
           "line": {
            "width": 10
           },
           "marker": {
            "size": 3
           },
           "mode": "lines+markers",
           "name": "RIGHT_FOREARM",
           "type": "scatter3d",
           "x": [
            0.2372541,
            0.19190618
           ],
           "y": [
            -0.26833835,
            -0.2824781
           ],
           "z": [
            -1.0345922,
            -1.0563036
           ]
          },
          {
           "line": {
            "width": 10
           },
           "marker": {
            "size": 3
           },
           "mode": "lines+markers",
           "name": "HIP",
           "type": "scatter3d",
           "x": [
            0.24083121,
            0.25052324
           ],
           "y": [
            -0.31680232,
            -0.31443685
           ],
           "z": [
            -1.0921988,
            -1.0576648
           ]
          },
          {
           "line": {
            "width": 10
           },
           "marker": {
            "size": 3
           },
           "mode": "lines+markers",
           "name": "LEFT_BODY",
           "type": "scatter3d",
           "x": [
            0.27297607,
            0.24083121
           ],
           "y": [
            -0.23769855,
            -0.31680232
           ],
           "z": [
            -1.0820341,
            -1.0921988
           ]
          },
          {
           "line": {
            "width": 10
           },
           "marker": {
            "size": 3
           },
           "mode": "lines+markers",
           "name": "RIGHT_BODY",
           "type": "scatter3d",
           "x": [
            0.27524954,
            0.25052324
           ],
           "y": [
            -0.2429648,
            -0.31443685
           ],
           "z": [
            -1.0338149,
            -1.0576648
           ]
          },
          {
           "line": {
            "width": 10
           },
           "marker": {
            "size": 3
           },
           "mode": "lines+markers",
           "name": "LEFT_THIGH",
           "type": "scatter3d",
           "x": [
            0.24083121,
            0.22274159
           ],
           "y": [
            -0.31680232,
            -0.36979535
           ],
           "z": [
            -1.0921988,
            -1.0532465
           ]
          },
          {
           "line": {
            "width": 10
           },
           "marker": {
            "size": 3
           },
           "mode": "lines+markers",
           "name": "RIGHT_THIGH",
           "type": "scatter3d",
           "x": [
            0.25052324,
            0.25553247
           ],
           "y": [
            -0.31443685,
            -0.37071252
           ],
           "z": [
            -1.0576648,
            -1.0365077
           ]
          },
          {
           "line": {
            "width": 10
           },
           "marker": {
            "size": 3
           },
           "mode": "lines+markers",
           "name": "LEFT_LOWER_LEG",
           "type": "scatter3d",
           "x": [
            0.22274159,
            0.218856
           ],
           "y": [
            -0.36979535,
            -0.42389876
           ],
           "z": [
            -1.0532465,
            -1.0322541
           ]
          },
          {
           "line": {
            "width": 10
           },
           "marker": {
            "size": 3
           },
           "mode": "lines+markers",
           "name": "RIGHT_LOWER_LEG",
           "type": "scatter3d",
           "x": [
            0.25553247,
            0.2874589
           ],
           "y": [
            -0.37071252,
            -0.4078691
           ],
           "z": [
            -1.0365077,
            -0.99672043
           ]
          }
         ],
         "layout": {
          "title": {
           "text": "frame:365"
          }
         },
         "name": "365"
        },
        {
         "data": [
          {
           "line": {
            "width": 10
           },
           "marker": {
            "size": 3
           },
           "mode": "lines+markers",
           "name": "CLUB",
           "type": "scatter3d",
           "x": [
            0.17357787,
            0.035907228
           ],
           "y": [
            -0.24537599,
            -0.20101123
           ],
           "z": [
            -1.1147852,
            -1.233749
           ]
          },
          {
           "line": {
            "width": 10
           },
           "marker": {
            "size": 3
           },
           "mode": "lines+markers",
           "name": "EYE",
           "type": "scatter3d",
           "x": [
            0.2692136,
            0.27239156
           ],
           "y": [
            -0.22073215,
            -0.2198812
           ],
           "z": [
            -1.028844,
            -1.0169312
           ]
          },
          {
           "line": {
            "width": 10
           },
           "marker": {
            "size": 3
           },
           "mode": "lines+markers",
           "name": "SHOULDER",
           "type": "scatter3d",
           "x": [
            0.26509392,
            0.27567685
           ],
           "y": [
            -0.25121367,
            -0.23603593
           ],
           "z": [
            -1.0864441,
            -1.0114778
           ]
          },
          {
           "line": {
            "width": 10
           },
           "marker": {
            "size": 3
           },
           "mode": "lines+markers",
           "name": "LEFT_UPPER_ARM",
           "type": "scatter3d",
           "x": [
            0.26509392,
            0.2347747
           ],
           "y": [
            -0.25121367,
            -0.26408154
           ],
           "z": [
            -1.0864441,
            -1.1578432
           ]
          },
          {
           "line": {
            "width": 10
           },
           "marker": {
            "size": 3
           },
           "mode": "lines+markers",
           "name": "RIGHT_UPPER_ARM",
           "type": "scatter3d",
           "x": [
            0.27567685,
            0.2835215
           ],
           "y": [
            -0.23603593,
            -0.21865809
           ],
           "z": [
            -1.0114778,
            -0.9698672
           ]
          },
          {
           "line": {
            "width": 10
           },
           "marker": {
            "size": 3
           },
           "mode": "lines+markers",
           "name": "LEFT_FOREARM",
           "type": "scatter3d",
           "x": [
            0.2347747,
            0.20654261
           ],
           "y": [
            -0.26408154,
            -0.2633196
           ],
           "z": [
            -1.1578432,
            -1.1991369
           ]
          },
          {
           "line": {
            "width": 10
           },
           "marker": {
            "size": 3
           },
           "mode": "lines+markers",
           "name": "RIGHT_FOREARM",
           "type": "scatter3d",
           "x": [
            0.2835215,
            0.2873845
           ],
           "y": [
            -0.21865809,
            -0.20734473
           ],
           "z": [
            -0.9698672,
            -0.9642094
           ]
          },
          {
           "line": {
            "width": 10
           },
           "marker": {
            "size": 3
           },
           "mode": "lines+markers",
           "name": "HIP",
           "type": "scatter3d",
           "x": [
            0.23965688,
            0.2519879
           ],
           "y": [
            -0.32398823,
            -0.31194305
           ],
           "z": [
            -1.0989062,
            -1.0504352
           ]
          },
          {
           "line": {
            "width": 10
           },
           "marker": {
            "size": 3
           },
           "mode": "lines+markers",
           "name": "LEFT_BODY",
           "type": "scatter3d",
           "x": [
            0.26509392,
            0.23965688
           ],
           "y": [
            -0.25121367,
            -0.32398823
           ],
           "z": [
            -1.0864441,
            -1.0989062
           ]
          },
          {
           "line": {
            "width": 10
           },
           "marker": {
            "size": 3
           },
           "mode": "lines+markers",
           "name": "RIGHT_BODY",
           "type": "scatter3d",
           "x": [
            0.27567685,
            0.2519879
           ],
           "y": [
            -0.23603593,
            -0.31194305
           ],
           "z": [
            -1.0114778,
            -1.0504352
           ]
          },
          {
           "line": {
            "width": 10
           },
           "marker": {
            "size": 3
           },
           "mode": "lines+markers",
           "name": "LEFT_THIGH",
           "type": "scatter3d",
           "x": [
            0.23965688,
            0.22459063
           ],
           "y": [
            -0.32398823,
            -0.37397042
           ],
           "z": [
            -1.0989062,
            -1.0600249
           ]
          },
          {
           "line": {
            "width": 10
           },
           "marker": {
            "size": 3
           },
           "mode": "lines+markers",
           "name": "RIGHT_THIGH",
           "type": "scatter3d",
           "x": [
            0.2519879,
            0.2580047
           ],
           "y": [
            -0.31194305,
            -0.36649147
           ],
           "z": [
            -1.0504352,
            -1.0302163
           ]
          },
          {
           "line": {
            "width": 10
           },
           "marker": {
            "size": 3
           },
           "mode": "lines+markers",
           "name": "LEFT_LOWER_LEG",
           "type": "scatter3d",
           "x": [
            0.22459063,
            0.21585837
           ],
           "y": [
            -0.37397042,
            -0.42883804
           ],
           "z": [
            -1.0600249,
            -1.0388277
           ]
          },
          {
           "line": {
            "width": 10
           },
           "marker": {
            "size": 3
           },
           "mode": "lines+markers",
           "name": "RIGHT_LOWER_LEG",
           "type": "scatter3d",
           "x": [
            0.2580047,
            0.29147223
           ],
           "y": [
            -0.36649147,
            -0.4053544
           ],
           "z": [
            -1.0302163,
            -0.99382985
           ]
          }
         ],
         "layout": {
          "title": {
           "text": "frame:370"
          }
         },
         "name": "370"
        },
        {
         "data": [
          {
           "line": {
            "width": 10
           },
           "marker": {
            "size": 3
           },
           "mode": "lines+markers",
           "name": "CLUB",
           "type": "scatter3d",
           "x": [
            0.20371856,
            0.17457427
           ],
           "y": [
            -0.21212326,
            -0.12870522
           ],
           "z": [
            -1.1343988,
            -1.2662932
           ]
          },
          {
           "line": {
            "width": 10
           },
           "marker": {
            "size": 3
           },
           "mode": "lines+markers",
           "name": "EYE",
           "type": "scatter3d",
           "x": [
            0.2648826,
            0.26623586
           ],
           "y": [
            -0.2210374,
            -0.22119467
           ],
           "z": [
            -1.0357875,
            -1.0270585
           ]
          },
          {
           "line": {
            "width": 10
           },
           "marker": {
            "size": 3
           },
           "mode": "lines+markers",
           "name": "SHOULDER",
           "type": "scatter3d",
           "x": [
            0.26595113,
            0.2726628
           ],
           "y": [
            -0.24947533,
            -0.23996836
           ],
           "z": [
            -1.0808526,
            -1.0102502
           ]
          },
          {
           "line": {
            "width": 10
           },
           "marker": {
            "size": 3
           },
           "mode": "lines+markers",
           "name": "LEFT_UPPER_ARM",
           "type": "scatter3d",
           "x": [
            0.26595113,
            0.24437891
           ],
           "y": [
            -0.24947533,
            -0.25208858
           ],
           "z": [
            -1.0808526,
            -1.1552411
           ]
          },
          {
           "line": {
            "width": 10
           },
           "marker": {
            "size": 3
           },
           "mode": "lines+markers",
           "name": "RIGHT_UPPER_ARM",
           "type": "scatter3d",
           "x": [
            0.2726628,
            0.28915432
           ],
           "y": [
            -0.23996836,
            -0.22414468
           ],
           "z": [
            -1.0102502,
            -0.979632
           ]
          },
          {
           "line": {
            "width": 10
           },
           "marker": {
            "size": 3
           },
           "mode": "lines+markers",
           "name": "LEFT_FOREARM",
           "type": "scatter3d",
           "x": [
            0.24437891,
            0.22547124
           ],
           "y": [
            -0.25208858,
            -0.23996174
           ],
           "z": [
            -1.1552411,
            -1.1774094
           ]
          },
          {
           "line": {
            "width": 10
           },
           "marker": {
            "size": 3
           },
           "mode": "lines+markers",
           "name": "RIGHT_FOREARM",
           "type": "scatter3d",
           "x": [
            0.28915432,
            0.29522577
           ],
           "y": [
            -0.22414468,
            -0.2048753
           ],
           "z": [
            -0.979632,
            -0.9886713
           ]
          },
          {
           "line": {
            "width": 10
           },
           "marker": {
            "size": 3
           },
           "mode": "lines+markers",
           "name": "HIP",
           "type": "scatter3d",
           "x": [
            0.23931356,
            0.2493301
           ],
           "y": [
            -0.32253602,
            -0.31254846
           ],
           "z": [
            -1.095881,
            -1.0497792
           ]
          },
          {
           "line": {
            "width": 10
           },
           "marker": {
            "size": 3
           },
           "mode": "lines+markers",
           "name": "LEFT_BODY",
           "type": "scatter3d",
           "x": [
            0.26595113,
            0.23931356
           ],
           "y": [
            -0.24947533,
            -0.32253602
           ],
           "z": [
            -1.0808526,
            -1.095881
           ]
          },
          {
           "line": {
            "width": 10
           },
           "marker": {
            "size": 3
           },
           "mode": "lines+markers",
           "name": "RIGHT_BODY",
           "type": "scatter3d",
           "x": [
            0.2726628,
            0.2493301
           ],
           "y": [
            -0.23996836,
            -0.31254846
           ],
           "z": [
            -1.0102502,
            -1.0497792
           ]
          },
          {
           "line": {
            "width": 10
           },
           "marker": {
            "size": 3
           },
           "mode": "lines+markers",
           "name": "LEFT_THIGH",
           "type": "scatter3d",
           "x": [
            0.23931356,
            0.22318129
           ],
           "y": [
            -0.32253602,
            -0.3734579
           ],
           "z": [
            -1.095881,
            -1.0559232
           ]
          },
          {
           "line": {
            "width": 10
           },
           "marker": {
            "size": 3
           },
           "mode": "lines+markers",
           "name": "RIGHT_THIGH",
           "type": "scatter3d",
           "x": [
            0.2493301,
            0.2570405
           ],
           "y": [
            -0.31254846,
            -0.36625773
           ],
           "z": [
            -1.0497792,
            -1.030829
           ]
          },
          {
           "line": {
            "width": 10
           },
           "marker": {
            "size": 3
           },
           "mode": "lines+markers",
           "name": "LEFT_LOWER_LEG",
           "type": "scatter3d",
           "x": [
            0.22318129,
            0.217224
           ],
           "y": [
            -0.3734579,
            -0.4278127
           ],
           "z": [
            -1.0559232,
            -1.0363377
           ]
          },
          {
           "line": {
            "width": 10
           },
           "marker": {
            "size": 3
           },
           "mode": "lines+markers",
           "name": "RIGHT_LOWER_LEG",
           "type": "scatter3d",
           "x": [
            0.2570405,
            0.29657778
           ],
           "y": [
            -0.36625773,
            -0.4022693
           ],
           "z": [
            -1.030829,
            -0.9894924
           ]
          }
         ],
         "layout": {
          "title": {
           "text": "frame:375"
          }
         },
         "name": "375"
        },
        {
         "data": [
          {
           "line": {
            "width": 10
           },
           "marker": {
            "size": 3
           },
           "mode": "lines+markers",
           "name": "CLUB",
           "type": "scatter3d",
           "x": [
            0.24248473,
            0.32074958
           ],
           "y": [
            -0.1907665,
            -0.095879234
           ],
           "z": [
            -1.1344935,
            -1.2549936
           ]
          },
          {
           "line": {
            "width": 10
           },
           "marker": {
            "size": 3
           },
           "mode": "lines+markers",
           "name": "EYE",
           "type": "scatter3d",
           "x": [
            0.2567628,
            0.25732318
           ],
           "y": [
            -0.22467165,
            -0.22544421
           ],
           "z": [
            -1.0413734,
            -1.0361143
           ]
          },
          {
           "line": {
            "width": 10
           },
           "marker": {
            "size": 3
           },
           "mode": "lines+markers",
           "name": "SHOULDER",
           "type": "scatter3d",
           "x": [
            0.27607757,
            0.2529839
           ],
           "y": [
            -0.24530578,
            -0.24359706
           ],
           "z": [
            -1.0490535,
            -1.0357627
           ]
          },
          {
           "line": {
            "width": 10
           },
           "marker": {
            "size": 3
           },
           "mode": "lines+markers",
           "name": "LEFT_UPPER_ARM",
           "type": "scatter3d",
           "x": [
            0.27607757,
            0.29429042
           ],
           "y": [
            -0.24530578,
            -0.23833244
           ],
           "z": [
            -1.0490535,
            -1.0543486
           ]
          },
          {
           "line": {
            "width": 10
           },
           "marker": {
            "size": 3
           },
           "mode": "lines+markers",
           "name": "RIGHT_UPPER_ARM",
           "type": "scatter3d",
           "x": [
            0.2529839,
            0.23864725
           ],
           "y": [
            -0.24359706,
            -0.2301917
           ],
           "z": [
            -1.0357627,
            -1.0776821
           ]
          },
          {
           "line": {
            "width": 10
           },
           "marker": {
            "size": 3
           },
           "mode": "lines+markers",
           "name": "LEFT_FOREARM",
           "type": "scatter3d",
           "x": [
            0.29429042,
            0.2970676
           ],
           "y": [
            -0.23833244,
            -0.217456
           ],
           "z": [
            -1.0543486,
            -1.0328183
           ]
          },
          {
           "line": {
            "width": 10
           },
           "marker": {
            "size": 3
           },
           "mode": "lines+markers",
           "name": "RIGHT_FOREARM",
           "type": "scatter3d",
           "x": [
            0.23864725,
            0.2354032
           ],
           "y": [
            -0.2301917,
            -0.2065718
           ],
           "z": [
            -1.0776821,
            -1.1198145
           ]
          },
          {
           "line": {
            "width": 10
           },
           "marker": {
            "size": 3
           },
           "mode": "lines+markers",
           "name": "HIP",
           "type": "scatter3d",
           "x": [
            0.24611005,
            0.24203521
           ],
           "y": [
            -0.32094386,
            -0.31708258
           ],
           "z": [
            -1.0813191,
            -1.0616266
           ]
          },
          {
           "line": {
            "width": 10
           },
           "marker": {
            "size": 3
           },
           "mode": "lines+markers",
           "name": "LEFT_BODY",
           "type": "scatter3d",
           "x": [
            0.27607757,
            0.24611005
           ],
           "y": [
            -0.24530578,
            -0.32094386
           ],
           "z": [
            -1.0490535,
            -1.0813191
           ]
          },
          {
           "line": {
            "width": 10
           },
           "marker": {
            "size": 3
           },
           "mode": "lines+markers",
           "name": "RIGHT_BODY",
           "type": "scatter3d",
           "x": [
            0.2529839,
            0.24203521
           ],
           "y": [
            -0.24359706,
            -0.31708258
           ],
           "z": [
            -1.0357627,
            -1.0616266
           ]
          },
          {
           "line": {
            "width": 10
           },
           "marker": {
            "size": 3
           },
           "mode": "lines+markers",
           "name": "LEFT_THIGH",
           "type": "scatter3d",
           "x": [
            0.24611005,
            0.2199211
           ],
           "y": [
            -0.32094386,
            -0.37377793
           ],
           "z": [
            -1.0813191,
            -1.0553956
           ]
          },
          {
           "line": {
            "width": 10
           },
           "marker": {
            "size": 3
           },
           "mode": "lines+markers",
           "name": "RIGHT_THIGH",
           "type": "scatter3d",
           "x": [
            0.24203521,
            0.2558702
           ],
           "y": [
            -0.31708258,
            -0.3665618
           ],
           "z": [
            -1.0616266,
            -1.028796
           ]
          },
          {
           "line": {
            "width": 10
           },
           "marker": {
            "size": 3
           },
           "mode": "lines+markers",
           "name": "LEFT_LOWER_LEG",
           "type": "scatter3d",
           "x": [
            0.2199211,
            0.2175031
           ],
           "y": [
            -0.37377793,
            -0.4274166
           ],
           "z": [
            -1.0553956,
            -1.0399685
           ]
          },
          {
           "line": {
            "width": 10
           },
           "marker": {
            "size": 3
           },
           "mode": "lines+markers",
           "name": "RIGHT_LOWER_LEG",
           "type": "scatter3d",
           "x": [
            0.2558702,
            0.2949431
           ],
           "y": [
            -0.3665618,
            -0.4029378
           ],
           "z": [
            -1.028796,
            -0.9932922
           ]
          }
         ],
         "layout": {
          "title": {
           "text": "frame:380"
          }
         },
         "name": "380"
        },
        {
         "data": [
          {
           "line": {
            "width": 10
           },
           "marker": {
            "size": 3
           },
           "mode": "lines+markers",
           "name": "CLUB",
           "type": "scatter3d",
           "x": [
            0.27165663,
            0.43296254
           ],
           "y": [
            -0.178508,
            -0.10659671
           ],
           "z": [
            -1.1235193,
            -1.1612811
           ]
          },
          {
           "line": {
            "width": 10
           },
           "marker": {
            "size": 3
           },
           "mode": "lines+markers",
           "name": "EYE",
           "type": "scatter3d",
           "x": [
            0.25530535,
            0.25453413
           ],
           "y": [
            -0.22021694,
            -0.22088729
           ],
           "z": [
            -1.0473288,
            -1.0434396
           ]
          },
          {
           "line": {
            "width": 10
           },
           "marker": {
            "size": 3
           },
           "mode": "lines+markers",
           "name": "SHOULDER",
           "type": "scatter3d",
           "x": [
            0.27969214,
            0.24673845
           ],
           "y": [
            -0.2410535,
            -0.24105911
           ],
           "z": [
            -1.040802,
            -1.0397301
           ]
          },
          {
           "line": {
            "width": 10
           },
           "marker": {
            "size": 3
           },
           "mode": "lines+markers",
           "name": "LEFT_UPPER_ARM",
           "type": "scatter3d",
           "x": [
            0.27969214,
            0.30068192
           ],
           "y": [
            -0.2410535,
            -0.22704066
           ],
           "z": [
            -1.040802,
            -1.0338893
           ]
          },
          {
           "line": {
            "width": 10
           },
           "marker": {
            "size": 3
           },
           "mode": "lines+markers",
           "name": "RIGHT_UPPER_ARM",
           "type": "scatter3d",
           "x": [
            0.24673845,
            0.2408075
           ],
           "y": [
            -0.24105911,
            -0.21773762
           ],
           "z": [
            -1.0397301,
            -1.0743431
           ]
          },
          {
           "line": {
            "width": 10
           },
           "marker": {
            "size": 3
           },
           "mode": "lines+markers",
           "name": "LEFT_FOREARM",
           "type": "scatter3d",
           "x": [
            0.30068192,
            0.30344194
           ],
           "y": [
            -0.22704066,
            -0.20972432
           ],
           "z": [
            -1.0338893,
            -1.02681
           ]
          },
          {
           "line": {
            "width": 10
           },
           "marker": {
            "size": 3
           },
           "mode": "lines+markers",
           "name": "RIGHT_FOREARM",
           "type": "scatter3d",
           "x": [
            0.2408075,
            0.25615215
           ],
           "y": [
            -0.21773762,
            -0.1920884
           ],
           "z": [
            -1.0743431,
            -1.1069705
           ]
          },
          {
           "line": {
            "width": 10
           },
           "marker": {
            "size": 3
           },
           "mode": "lines+markers",
           "name": "HIP",
           "type": "scatter3d",
           "x": [
            0.25093657,
            0.23947442
           ],
           "y": [
            -0.31662524,
            -0.31563288
           ],
           "z": [
            -1.0771306,
            -1.0677164
           ]
          },
          {
           "line": {
            "width": 10
           },
           "marker": {
            "size": 3
           },
           "mode": "lines+markers",
           "name": "LEFT_BODY",
           "type": "scatter3d",
           "x": [
            0.27969214,
            0.25093657
           ],
           "y": [
            -0.2410535,
            -0.31662524
           ],
           "z": [
            -1.040802,
            -1.0771306
           ]
          },
          {
           "line": {
            "width": 10
           },
           "marker": {
            "size": 3
           },
           "mode": "lines+markers",
           "name": "RIGHT_BODY",
           "type": "scatter3d",
           "x": [
            0.24673845,
            0.23947442
           ],
           "y": [
            -0.24105911,
            -0.31563288
           ],
           "z": [
            -1.0397301,
            -1.0677164
           ]
          },
          {
           "line": {
            "width": 10
           },
           "marker": {
            "size": 3
           },
           "mode": "lines+markers",
           "name": "LEFT_THIGH",
           "type": "scatter3d",
           "x": [
            0.25093657,
            0.22520156
           ],
           "y": [
            -0.31662524,
            -0.3719097
           ],
           "z": [
            -1.0771306,
            -1.0572014
           ]
          },
          {
           "line": {
            "width": 10
           },
           "marker": {
            "size": 3
           },
           "mode": "lines+markers",
           "name": "RIGHT_THIGH",
           "type": "scatter3d",
           "x": [
            0.23947442,
            0.25322413
           ],
           "y": [
            -0.31563288,
            -0.36783978
           ],
           "z": [
            -1.0677164,
            -1.0328625
           ]
          },
          {
           "line": {
            "width": 10
           },
           "marker": {
            "size": 3
           },
           "mode": "lines+markers",
           "name": "LEFT_LOWER_LEG",
           "type": "scatter3d",
           "x": [
            0.22520156,
            0.2173524
           ],
           "y": [
            -0.3719097,
            -0.42797953
           ],
           "z": [
            -1.0572014,
            -1.0428118
           ]
          },
          {
           "line": {
            "width": 10
           },
           "marker": {
            "size": 3
           },
           "mode": "lines+markers",
           "name": "RIGHT_LOWER_LEG",
           "type": "scatter3d",
           "x": [
            0.25322413,
            0.28978163
           ],
           "y": [
            -0.36783978,
            -0.40805015
           ],
           "z": [
            -1.0328625,
            -0.9966591
           ]
          }
         ],
         "layout": {
          "title": {
           "text": "frame:385"
          }
         },
         "name": "385"
        },
        {
         "data": [
          {
           "line": {
            "width": 10
           },
           "marker": {
            "size": 3
           },
           "mode": "lines+markers",
           "name": "CLUB",
           "type": "scatter3d",
           "x": [
            0.30113623,
            0.46842897
           ],
           "y": [
            -0.16964374,
            -0.14514692
           ],
           "z": [
            -1.1000477,
            -1.0531334
           ]
          },
          {
           "line": {
            "width": 10
           },
           "marker": {
            "size": 3
           },
           "mode": "lines+markers",
           "name": "EYE",
           "type": "scatter3d",
           "x": [
            0.25135517,
            0.2530954
           ],
           "y": [
            -0.2178926,
            -0.21877149
           ],
           "z": [
            -1.0497055,
            -1.0435276
           ]
          },
          {
           "line": {
            "width": 10
           },
           "marker": {
            "size": 3
           },
           "mode": "lines+markers",
           "name": "SHOULDER",
           "type": "scatter3d",
           "x": [
            0.2603749,
            0.2571265
           ],
           "y": [
            -0.23548153,
            -0.23623416
           ],
           "z": [
            -1.0652502,
            -1.0230118
           ]
          },
          {
           "line": {
            "width": 10
           },
           "marker": {
            "size": 3
           },
           "mode": "lines+markers",
           "name": "LEFT_UPPER_ARM",
           "type": "scatter3d",
           "x": [
            0.2603749,
            0.2654276
           ],
           "y": [
            -0.23548153,
            -0.21097541
           ],
           "z": [
            -1.0652502,
            -1.1032937
           ]
          },
          {
           "line": {
            "width": 10
           },
           "marker": {
            "size": 3
           },
           "mode": "lines+markers",
           "name": "RIGHT_UPPER_ARM",
           "type": "scatter3d",
           "x": [
            0.2571265,
            0.27461416
           ],
           "y": [
            -0.23623416,
            -0.21548443
           ],
           "z": [
            -1.0230118,
            -1.0414684
           ]
          },
          {
           "line": {
            "width": 10
           },
           "marker": {
            "size": 3
           },
           "mode": "lines+markers",
           "name": "LEFT_FOREARM",
           "type": "scatter3d",
           "x": [
            0.2654276,
            0.27561787
           ],
           "y": [
            -0.21097541,
            -0.18178332
           ],
           "z": [
            -1.1032937,
            -1.0960453
           ]
          },
          {
           "line": {
            "width": 10
           },
           "marker": {
            "size": 3
           },
           "mode": "lines+markers",
           "name": "RIGHT_FOREARM",
           "type": "scatter3d",
           "x": [
            0.27461416,
            0.29165748
           ],
           "y": [
            -0.21548443,
            -0.1899358
           ],
           "z": [
            -1.0414684,
            -1.0781006
           ]
          },
          {
           "line": {
            "width": 10
           },
           "marker": {
            "size": 3
           },
           "mode": "lines+markers",
           "name": "HIP",
           "type": "scatter3d",
           "x": [
            0.24240823,
            0.243751
           ],
           "y": [
            -0.31429663,
            -0.31159073
           ],
           "z": [
            -1.0941802,
            -1.0685481
           ]
          },
          {
           "line": {
            "width": 10
           },
           "marker": {
            "size": 3
           },
           "mode": "lines+markers",
           "name": "LEFT_BODY",
           "type": "scatter3d",
           "x": [
            0.2603749,
            0.24240823
           ],
           "y": [
            -0.23548153,
            -0.31429663
           ],
           "z": [
            -1.0652502,
            -1.0941802
           ]
          },
          {
           "line": {
            "width": 10
           },
           "marker": {
            "size": 3
           },
           "mode": "lines+markers",
           "name": "RIGHT_BODY",
           "type": "scatter3d",
           "x": [
            0.2571265,
            0.243751
           ],
           "y": [
            -0.23623416,
            -0.31159073
           ],
           "z": [
            -1.0230118,
            -1.0685481
           ]
          },
          {
           "line": {
            "width": 10
           },
           "marker": {
            "size": 3
           },
           "mode": "lines+markers",
           "name": "LEFT_THIGH",
           "type": "scatter3d",
           "x": [
            0.24240823,
            0.23370615
           ],
           "y": [
            -0.31429663,
            -0.36534482
           ],
           "z": [
            -1.0941802,
            -1.0473576
           ]
          },
          {
           "line": {
            "width": 10
           },
           "marker": {
            "size": 3
           },
           "mode": "lines+markers",
           "name": "RIGHT_THIGH",
           "type": "scatter3d",
           "x": [
            0.243751,
            0.24004401
           ],
           "y": [
            -0.31159073,
            -0.37236527
           ],
           "z": [
            -1.0685481,
            -1.051597
           ]
          },
          {
           "line": {
            "width": 10
           },
           "marker": {
            "size": 3
           },
           "mode": "lines+markers",
           "name": "LEFT_LOWER_LEG",
           "type": "scatter3d",
           "x": [
            0.23370615,
            0.2442927
           ],
           "y": [
            -0.36534482,
            -0.4095736
           ],
           "z": [
            -1.0473576,
            -1.0059351
           ]
          },
          {
           "line": {
            "width": 10
           },
           "marker": {
            "size": 3
           },
           "mode": "lines+markers",
           "name": "RIGHT_LOWER_LEG",
           "type": "scatter3d",
           "x": [
            0.24004401,
            0.26964265
           ],
           "y": [
            -0.37236527,
            -0.42010307
           ],
           "z": [
            -1.051597,
            -1.0267763
           ]
          }
         ],
         "layout": {
          "title": {
           "text": "frame:390"
          }
         },
         "name": "390"
        },
        {
         "data": [
          {
           "line": {
            "width": 10
           },
           "marker": {
            "size": 3
           },
           "mode": "lines+markers",
           "name": "CLUB",
           "type": "scatter3d",
           "x": [
            0.31094453,
            0.4261327
           ],
           "y": [
            -0.16872695,
            -0.20556791
           ],
           "z": [
            -1.0846318,
            -0.9774784
           ]
          },
          {
           "line": {
            "width": 10
           },
           "marker": {
            "size": 3
           },
           "mode": "lines+markers",
           "name": "EYE",
           "type": "scatter3d",
           "x": [
            0.25431278,
            0.25506437
           ],
           "y": [
            -0.21645579,
            -0.21728028
           ],
           "z": [
            -1.0562671,
            -1.0551791
           ]
          },
          {
           "line": {
            "width": 10
           },
           "marker": {
            "size": 3
           },
           "mode": "lines+markers",
           "name": "SHOULDER",
           "type": "scatter3d",
           "x": [
            0.26437575,
            0.24898449
           ],
           "y": [
            -0.23593342,
            -0.23207663
           ],
           "z": [
            -1.0576302,
            -1.0321258
           ]
          },
          {
           "line": {
            "width": 10
           },
           "marker": {
            "size": 3
           },
           "mode": "lines+markers",
           "name": "LEFT_UPPER_ARM",
           "type": "scatter3d",
           "x": [
            0.26437575,
            0.2864094
           ],
           "y": [
            -0.23593342,
            -0.21444425
           ],
           "z": [
            -1.0576302,
            -1.0792502
           ]
          },
          {
           "line": {
            "width": 10
           },
           "marker": {
            "size": 3
           },
           "mode": "lines+markers",
           "name": "RIGHT_UPPER_ARM",
           "type": "scatter3d",
           "x": [
            0.24898449,
            0.2682086
           ],
           "y": [
            -0.23207663,
            -0.20657966
           ],
           "z": [
            -1.0321258,
            -1.0588369
           ]
          },
          {
           "line": {
            "width": 10
           },
           "marker": {
            "size": 3
           },
           "mode": "lines+markers",
           "name": "LEFT_FOREARM",
           "type": "scatter3d",
           "x": [
            0.2864094,
            0.29549414
           ],
           "y": [
            -0.21444425,
            -0.18273622
           ],
           "z": [
            -1.0792502,
            -1.0716231
           ]
          },
          {
           "line": {
            "width": 10
           },
           "marker": {
            "size": 3
           },
           "mode": "lines+markers",
           "name": "RIGHT_FOREARM",
           "type": "scatter3d",
           "x": [
            0.2682086,
            0.29328015
           ],
           "y": [
            -0.20657966,
            -0.17975341
           ],
           "z": [
            -1.0588369,
            -1.0813506
           ]
          },
          {
           "line": {
            "width": 10
           },
           "marker": {
            "size": 3
           },
           "mode": "lines+markers",
           "name": "HIP",
           "type": "scatter3d",
           "x": [
            0.24784817,
            0.24126872
           ],
           "y": [
            -0.31390032,
            -0.31071708
           ],
           "z": [
            -1.0830283,
            -1.0670316
           ]
          },
          {
           "line": {
            "width": 10
           },
           "marker": {
            "size": 3
           },
           "mode": "lines+markers",
           "name": "LEFT_BODY",
           "type": "scatter3d",
           "x": [
            0.26437575,
            0.24784817
           ],
           "y": [
            -0.23593342,
            -0.31390032
           ],
           "z": [
            -1.0576302,
            -1.0830283
           ]
          },
          {
           "line": {
            "width": 10
           },
           "marker": {
            "size": 3
           },
           "mode": "lines+markers",
           "name": "RIGHT_BODY",
           "type": "scatter3d",
           "x": [
            0.24898449,
            0.24126872
           ],
           "y": [
            -0.23207663,
            -0.31071708
           ],
           "z": [
            -1.0321258,
            -1.0670316
           ]
          },
          {
           "line": {
            "width": 10
           },
           "marker": {
            "size": 3
           },
           "mode": "lines+markers",
           "name": "LEFT_THIGH",
           "type": "scatter3d",
           "x": [
            0.24784817,
            0.23609415
           ],
           "y": [
            -0.31390032,
            -0.36537156
           ],
           "z": [
            -1.0830283,
            -1.043547
           ]
          },
          {
           "line": {
            "width": 10
           },
           "marker": {
            "size": 3
           },
           "mode": "lines+markers",
           "name": "RIGHT_THIGH",
           "type": "scatter3d",
           "x": [
            0.24126872,
            0.23873456
           ],
           "y": [
            -0.31071708,
            -0.37280908
           ],
           "z": [
            -1.0670316,
            -1.052775
           ]
          },
          {
           "line": {
            "width": 10
           },
           "marker": {
            "size": 3
           },
           "mode": "lines+markers",
           "name": "LEFT_LOWER_LEG",
           "type": "scatter3d",
           "x": [
            0.23609415,
            0.24966112
           ],
           "y": [
            -0.36537156,
            -0.407786
           ],
           "z": [
            -1.043547,
            -0.99909276
           ]
          },
          {
           "line": {
            "width": 10
           },
           "marker": {
            "size": 3
           },
           "mode": "lines+markers",
           "name": "RIGHT_LOWER_LEG",
           "type": "scatter3d",
           "x": [
            0.23873456,
            0.26342905
           ],
           "y": [
            -0.37280908,
            -0.4253345
           ],
           "z": [
            -1.052775,
            -1.0319344
           ]
          }
         ],
         "layout": {
          "title": {
           "text": "frame:395"
          }
         },
         "name": "395"
        },
        {
         "data": [
          {
           "line": {
            "width": 10
           },
           "marker": {
            "size": 3
           },
           "mode": "lines+markers",
           "name": "CLUB",
           "type": "scatter3d",
           "x": [
            0.3157859,
            0.34849852
           ],
           "y": [
            -0.17184022,
            -0.24217872
           ],
           "z": [
            -1.0631777,
            -0.918652
           ]
          },
          {
           "line": {
            "width": 10
           },
           "marker": {
            "size": 3
           },
           "mode": "lines+markers",
           "name": "EYE",
           "type": "scatter3d",
           "x": [
            0.25831947,
            0.25620067
           ],
           "y": [
            -0.2084515,
            -0.21001667
           ],
           "z": [
            -1.0493478,
            -1.0526775
           ]
          },
          {
           "line": {
            "width": 10
           },
           "marker": {
            "size": 3
           },
           "mode": "lines+markers",
           "name": "SHOULDER",
           "type": "scatter3d",
           "x": [
            0.2770711,
            0.24081671
           ],
           "y": [
            -0.2330575,
            -0.23248848
           ],
           "z": [
            -1.0391388,
            -1.0497199
           ]
          },
          {
           "line": {
            "width": 10
           },
           "marker": {
            "size": 3
           },
           "mode": "lines+markers",
           "name": "LEFT_UPPER_ARM",
           "type": "scatter3d",
           "x": [
            0.2770711,
            0.30843928
           ],
           "y": [
            -0.2330575,
            -0.23370579
           ],
           "z": [
            -1.0391388,
            -1.0391107
           ]
          },
          {
           "line": {
            "width": 10
           },
           "marker": {
            "size": 3
           },
           "mode": "lines+markers",
           "name": "RIGHT_UPPER_ARM",
           "type": "scatter3d",
           "x": [
            0.24081671,
            0.26249146
           ],
           "y": [
            -0.23248848,
            -0.21243885
           ],
           "z": [
            -1.0497199,
            -1.0623791
           ]
          },
          {
           "line": {
            "width": 10
           },
           "marker": {
            "size": 3
           },
           "mode": "lines+markers",
           "name": "LEFT_FOREARM",
           "type": "scatter3d",
           "x": [
            0.30843928,
            0.32167587
           ],
           "y": [
            -0.23370579,
            -0.22343679
           ],
           "z": [
            -1.0391107,
            -1.0136431
           ]
          },
          {
           "line": {
            "width": 10
           },
           "marker": {
            "size": 3
           },
           "mode": "lines+markers",
           "name": "RIGHT_FOREARM",
           "type": "scatter3d",
           "x": [
            0.26249146,
            0.29458043
           ],
           "y": [
            -0.21243885,
            -0.1831138
           ],
           "z": [
            -1.0623791,
            -1.0608665
           ]
          },
          {
           "line": {
            "width": 10
           },
           "marker": {
            "size": 3
           },
           "mode": "lines+markers",
           "name": "HIP",
           "type": "scatter3d",
           "x": [
            0.25532216,
            0.23828974
           ],
           "y": [
            -0.31074935,
            -0.31158856
           ],
           "z": [
            -1.0715662,
            -1.074526
           ]
          },
          {
           "line": {
            "width": 10
           },
           "marker": {
            "size": 3
           },
           "mode": "lines+markers",
           "name": "LEFT_BODY",
           "type": "scatter3d",
           "x": [
            0.2770711,
            0.25532216
           ],
           "y": [
            -0.2330575,
            -0.31074935
           ],
           "z": [
            -1.0391388,
            -1.0715662
           ]
          },
          {
           "line": {
            "width": 10
           },
           "marker": {
            "size": 3
           },
           "mode": "lines+markers",
           "name": "RIGHT_BODY",
           "type": "scatter3d",
           "x": [
            0.24081671,
            0.23828974
           ],
           "y": [
            -0.23248848,
            -0.31158856
           ],
           "z": [
            -1.0497199,
            -1.074526
           ]
          },
          {
           "line": {
            "width": 10
           },
           "marker": {
            "size": 3
           },
           "mode": "lines+markers",
           "name": "LEFT_THIGH",
           "type": "scatter3d",
           "x": [
            0.25532216,
            0.23224095
           ],
           "y": [
            -0.31074935,
            -0.36618474
           ],
           "z": [
            -1.0715662,
            -1.0469564
           ]
          },
          {
           "line": {
            "width": 10
           },
           "marker": {
            "size": 3
           },
           "mode": "lines+markers",
           "name": "RIGHT_THIGH",
           "type": "scatter3d",
           "x": [
            0.23828974,
            0.24974398
           ],
           "y": [
            -0.31158856,
            -0.36928278
           ],
           "z": [
            -1.074526,
            -1.0424101
           ]
          },
          {
           "line": {
            "width": 10
           },
           "marker": {
            "size": 3
           },
           "mode": "lines+markers",
           "name": "LEFT_LOWER_LEG",
           "type": "scatter3d",
           "x": [
            0.23224095,
            0.22475441
           ],
           "y": [
            -0.36618474,
            -0.42405596
           ],
           "z": [
            -1.0469564,
            -1.0302844
           ]
          },
          {
           "line": {
            "width": 10
           },
           "marker": {
            "size": 3
           },
           "mode": "lines+markers",
           "name": "RIGHT_LOWER_LEG",
           "type": "scatter3d",
           "x": [
            0.24974398,
            0.28383705
           ],
           "y": [
            -0.36928278,
            -0.4138127
           ],
           "z": [
            -1.0424101,
            -1.0043151
           ]
          }
         ],
         "layout": {
          "title": {
           "text": "frame:400"
          }
         },
         "name": "400"
        },
        {
         "data": [
          {
           "line": {
            "width": 10
           },
           "marker": {
            "size": 3
           },
           "mode": "lines+markers",
           "name": "CLUB",
           "type": "scatter3d",
           "x": [
            0.3132251,
            0.2623027
           ],
           "y": [
            -0.178644,
            -0.26526892
           ],
           "z": [
            -1.0494167,
            -0.9056733
           ]
          },
          {
           "line": {
            "width": 10
           },
           "marker": {
            "size": 3
           },
           "mode": "lines+markers",
           "name": "EYE",
           "type": "scatter3d",
           "x": [
            0.24843694,
            0.24576631
           ],
           "y": [
            -0.20842882,
            -0.20978786
           ],
           "z": [
            -1.0450796,
            -1.043661
           ]
          },
          {
           "line": {
            "width": 10
           },
           "marker": {
            "size": 3
           },
           "mode": "lines+markers",
           "name": "SHOULDER",
           "type": "scatter3d",
           "x": [
            0.27678275,
            0.24128161
           ],
           "y": [
            -0.23131876,
            -0.23101333
           ],
           "z": [
            -1.0465544,
            -1.0417309
           ]
          },
          {
           "line": {
            "width": 10
           },
           "marker": {
            "size": 3
           },
           "mode": "lines+markers",
           "name": "LEFT_UPPER_ARM",
           "type": "scatter3d",
           "x": [
            0.27678275,
            0.30695802
           ],
           "y": [
            -0.23131876,
            -0.22399156
           ],
           "z": [
            -1.0465544,
            -1.0533283
           ]
          },
          {
           "line": {
            "width": 10
           },
           "marker": {
            "size": 3
           },
           "mode": "lines+markers",
           "name": "RIGHT_UPPER_ARM",
           "type": "scatter3d",
           "x": [
            0.24128161,
            0.266344
           ],
           "y": [
            -0.23101333,
            -0.2093511
           ],
           "z": [
            -1.0417309,
            -1.0625972
           ]
          },
          {
           "line": {
            "width": 10
           },
           "marker": {
            "size": 3
           },
           "mode": "lines+markers",
           "name": "LEFT_FOREARM",
           "type": "scatter3d",
           "x": [
            0.30695802,
            0.31775293
           ],
           "y": [
            -0.22399156,
            -0.20380558
           ],
           "z": [
            -1.0533283,
            -1.0507406
           ]
          },
          {
           "line": {
            "width": 10
           },
           "marker": {
            "size": 3
           },
           "mode": "lines+markers",
           "name": "RIGHT_FOREARM",
           "type": "scatter3d",
           "x": [
            0.266344,
            0.30523142
           ],
           "y": [
            -0.2093511,
            -0.18279251
           ],
           "z": [
            -1.0625972,
            -1.0708048
           ]
          },
          {
           "line": {
            "width": 10
           },
           "marker": {
            "size": 3
           },
           "mode": "lines+markers",
           "name": "HIP",
           "type": "scatter3d",
           "x": [
            0.25493878,
            0.23937963
           ],
           "y": [
            -0.3116698,
            -0.31087458
           ],
           "z": [
            -1.080037,
            -1.0718986
           ]
          },
          {
           "line": {
            "width": 10
           },
           "marker": {
            "size": 3
           },
           "mode": "lines+markers",
           "name": "LEFT_BODY",
           "type": "scatter3d",
           "x": [
            0.27678275,
            0.25493878
           ],
           "y": [
            -0.23131876,
            -0.3116698
           ],
           "z": [
            -1.0465544,
            -1.080037
           ]
          },
          {
           "line": {
            "width": 10
           },
           "marker": {
            "size": 3
           },
           "mode": "lines+markers",
           "name": "RIGHT_BODY",
           "type": "scatter3d",
           "x": [
            0.24128161,
            0.23937963
           ],
           "y": [
            -0.23101333,
            -0.31087458
           ],
           "z": [
            -1.0417309,
            -1.0718986
           ]
          },
          {
           "line": {
            "width": 10
           },
           "marker": {
            "size": 3
           },
           "mode": "lines+markers",
           "name": "LEFT_THIGH",
           "type": "scatter3d",
           "x": [
            0.25493878,
            0.23070468
           ],
           "y": [
            -0.3116698,
            -0.36800525
           ],
           "z": [
            -1.080037,
            -1.0563227
           ]
          },
          {
           "line": {
            "width": 10
           },
           "marker": {
            "size": 3
           },
           "mode": "lines+markers",
           "name": "RIGHT_THIGH",
           "type": "scatter3d",
           "x": [
            0.23937963,
            0.2512305
           ],
           "y": [
            -0.31087458,
            -0.3659586
           ],
           "z": [
            -1.0718986,
            -1.0365021
           ]
          },
          {
           "line": {
            "width": 10
           },
           "marker": {
            "size": 3
           },
           "mode": "lines+markers",
           "name": "LEFT_LOWER_LEG",
           "type": "scatter3d",
           "x": [
            0.23070468,
            0.22191256
           ],
           "y": [
            -0.36800525,
            -0.42501184
           ],
           "z": [
            -1.0563227,
            -1.0367311
           ]
          },
          {
           "line": {
            "width": 10
           },
           "marker": {
            "size": 3
           },
           "mode": "lines+markers",
           "name": "RIGHT_LOWER_LEG",
           "type": "scatter3d",
           "x": [
            0.2512305,
            0.28746167
           ],
           "y": [
            -0.3659586,
            -0.4085628
           ],
           "z": [
            -1.0365021,
            -1.0002986
           ]
          }
         ],
         "layout": {
          "title": {
           "text": "frame:405"
          }
         },
         "name": "405"
        },
        {
         "data": [
          {
           "line": {
            "width": 10
           },
           "marker": {
            "size": 3
           },
           "mode": "lines+markers",
           "name": "CLUB",
           "type": "scatter3d",
           "x": [
            0.30786392,
            0.18797334
           ],
           "y": [
            -0.18715586,
            -0.26520562
           ],
           "z": [
            -1.0388579,
            -0.9279092
           ]
          },
          {
           "line": {
            "width": 10
           },
           "marker": {
            "size": 3
           },
           "mode": "lines+markers",
           "name": "EYE",
           "type": "scatter3d",
           "x": [
            0.23763628,
            0.2408985
           ],
           "y": [
            -0.21132836,
            -0.21179
           ],
           "z": [
            -1.0549797,
            -1.0449867
           ]
          },
          {
           "line": {
            "width": 10
           },
           "marker": {
            "size": 3
           },
           "mode": "lines+markers",
           "name": "SHOULDER",
           "type": "scatter3d",
           "x": [
            0.2562608,
            0.25121793
           ],
           "y": [
            -0.23172973,
            -0.22548394
           ],
           "z": [
            -1.0879065,
            -1.0298966
           ]
          },
          {
           "line": {
            "width": 10
           },
           "marker": {
            "size": 3
           },
           "mode": "lines+markers",
           "name": "LEFT_UPPER_ARM",
           "type": "scatter3d",
           "x": [
            0.2562608,
            0.27949145
           ],
           "y": [
            -0.23172973,
            -0.22414863
           ],
           "z": [
            -1.0879065,
            -1.1244441
           ]
          },
          {
           "line": {
            "width": 10
           },
           "marker": {
            "size": 3
           },
           "mode": "lines+markers",
           "name": "RIGHT_UPPER_ARM",
           "type": "scatter3d",
           "x": [
            0.25121793,
            0.2806472
           ],
           "y": [
            -0.22548394,
            -0.20846549
           ],
           "z": [
            -1.0298966,
            -1.0397587
           ]
          },
          {
           "line": {
            "width": 10
           },
           "marker": {
            "size": 3
           },
           "mode": "lines+markers",
           "name": "LEFT_FOREARM",
           "type": "scatter3d",
           "x": [
            0.27949145,
            0.30512872
           ],
           "y": [
            -0.22414863,
            -0.19374
           ],
           "z": [
            -1.1244441,
            -1.0775516
           ]
          },
          {
           "line": {
            "width": 10
           },
           "marker": {
            "size": 3
           },
           "mode": "lines+markers",
           "name": "RIGHT_FOREARM",
           "type": "scatter3d",
           "x": [
            0.2806472,
            0.30792373
           ],
           "y": [
            -0.20846549,
            -0.18865669
           ],
           "z": [
            -1.0397587,
            -1.0531851
           ]
          },
          {
           "line": {
            "width": 10
           },
           "marker": {
            "size": 3
           },
           "mode": "lines+markers",
           "name": "HIP",
           "type": "scatter3d",
           "x": [
            0.24226181,
            0.24649234
           ],
           "y": [
            -0.3181827,
            -0.30879512
           ],
           "z": [
            -1.1004858,
            -1.057628
           ]
          },
          {
           "line": {
            "width": 10
           },
           "marker": {
            "size": 3
           },
           "mode": "lines+markers",
           "name": "LEFT_BODY",
           "type": "scatter3d",
           "x": [
            0.2562608,
            0.24226181
           ],
           "y": [
            -0.23172973,
            -0.3181827
           ],
           "z": [
            -1.0879065,
            -1.1004858
           ]
          },
          {
           "line": {
            "width": 10
           },
           "marker": {
            "size": 3
           },
           "mode": "lines+markers",
           "name": "RIGHT_BODY",
           "type": "scatter3d",
           "x": [
            0.25121793,
            0.24649234
           ],
           "y": [
            -0.22548394,
            -0.30879512
           ],
           "z": [
            -1.0298966,
            -1.057628
           ]
          },
          {
           "line": {
            "width": 10
           },
           "marker": {
            "size": 3
           },
           "mode": "lines+markers",
           "name": "LEFT_THIGH",
           "type": "scatter3d",
           "x": [
            0.24226181,
            0.2252723
           ],
           "y": [
            -0.3181827,
            -0.37062922
           ],
           "z": [
            -1.1004858,
            -1.0567871
           ]
          },
          {
           "line": {
            "width": 10
           },
           "marker": {
            "size": 3
           },
           "mode": "lines+markers",
           "name": "RIGHT_THIGH",
           "type": "scatter3d",
           "x": [
            0.24649234,
            0.25170645
           ],
           "y": [
            -0.30879512,
            -0.3673063
           ],
           "z": [
            -1.057628,
            -1.0370803
           ]
          },
          {
           "line": {
            "width": 10
           },
           "marker": {
            "size": 3
           },
           "mode": "lines+markers",
           "name": "LEFT_LOWER_LEG",
           "type": "scatter3d",
           "x": [
            0.2252723,
            0.22228195
           ],
           "y": [
            -0.37062922,
            -0.42705768
           ],
           "z": [
            -1.0567871,
            -1.0351049
           ]
          },
          {
           "line": {
            "width": 10
           },
           "marker": {
            "size": 3
           },
           "mode": "lines+markers",
           "name": "RIGHT_LOWER_LEG",
           "type": "scatter3d",
           "x": [
            0.25170645,
            0.28899005
           ],
           "y": [
            -0.3673063,
            -0.40761846
           ],
           "z": [
            -1.0370803,
            -0.99908054
           ]
          }
         ],
         "layout": {
          "title": {
           "text": "frame:410"
          }
         },
         "name": "410"
        },
        {
         "data": [
          {
           "line": {
            "width": 10
           },
           "marker": {
            "size": 3
           },
           "mode": "lines+markers",
           "name": "CLUB",
           "type": "scatter3d",
           "x": [
            0.29890567,
            0.1455728
           ],
           "y": [
            -0.19014049,
            -0.2633113
           ],
           "z": [
            -1.0294372,
            -0.9633847
           ]
          },
          {
           "line": {
            "width": 10
           },
           "marker": {
            "size": 3
           },
           "mode": "lines+markers",
           "name": "EYE",
           "type": "scatter3d",
           "x": [
            0.23607437,
            0.23912989
           ],
           "y": [
            -0.210708,
            -0.2110873
           ],
           "z": [
            -1.0512718,
            -1.0429908
           ]
          },
          {
           "line": {
            "width": 10
           },
           "marker": {
            "size": 3
           },
           "mode": "lines+markers",
           "name": "SHOULDER",
           "type": "scatter3d",
           "x": [
            0.24964528,
            0.2518247
           ],
           "y": [
            -0.23841836,
            -0.2241343
           ],
           "z": [
            -1.1021467,
            -1.0274978
           ]
          },
          {
           "line": {
            "width": 10
           },
           "marker": {
            "size": 3
           },
           "mode": "lines+markers",
           "name": "LEFT_UPPER_ARM",
           "type": "scatter3d",
           "x": [
            0.24964528,
            0.24366353
           ],
           "y": [
            -0.23841836,
            -0.2571537
           ],
           "z": [
            -1.1021467,
            -1.1838917
           ]
          },
          {
           "line": {
            "width": 10
           },
           "marker": {
            "size": 3
           },
           "mode": "lines+markers",
           "name": "RIGHT_UPPER_ARM",
           "type": "scatter3d",
           "x": [
            0.2518247,
            0.2829772
           ],
           "y": [
            -0.2241343,
            -0.2112189
           ],
           "z": [
            -1.0274978,
            -1.0255634
           ]
          },
          {
           "line": {
            "width": 10
           },
           "marker": {
            "size": 3
           },
           "mode": "lines+markers",
           "name": "LEFT_FOREARM",
           "type": "scatter3d",
           "x": [
            0.24366353,
            0.22221348
           ],
           "y": [
            -0.2571537,
            -0.24998754
           ],
           "z": [
            -1.1838917,
            -1.1822599
           ]
          },
          {
           "line": {
            "width": 10
           },
           "marker": {
            "size": 3
           },
           "mode": "lines+markers",
           "name": "RIGHT_FOREARM",
           "type": "scatter3d",
           "x": [
            0.2829772,
            0.30561092
           ],
           "y": [
            -0.2112189,
            -0.19698825
           ],
           "z": [
            -1.0255634,
            -1.0314196
           ]
          },
          {
           "line": {
            "width": 10
           },
           "marker": {
            "size": 3
           },
           "mode": "lines+markers",
           "name": "HIP",
           "type": "scatter3d",
           "x": [
            0.24169849,
            0.24648306
           ],
           "y": [
            -0.32010415,
            -0.30817178
           ],
           "z": [
            -1.108867,
            -1.0605512
           ]
          },
          {
           "line": {
            "width": 10
           },
           "marker": {
            "size": 3
           },
           "mode": "lines+markers",
           "name": "LEFT_BODY",
           "type": "scatter3d",
           "x": [
            0.24964528,
            0.24169849
           ],
           "y": [
            -0.23841836,
            -0.32010415
           ],
           "z": [
            -1.1021467,
            -1.108867
           ]
          },
          {
           "line": {
            "width": 10
           },
           "marker": {
            "size": 3
           },
           "mode": "lines+markers",
           "name": "RIGHT_BODY",
           "type": "scatter3d",
           "x": [
            0.2518247,
            0.24648306
           ],
           "y": [
            -0.2241343,
            -0.30817178
           ],
           "z": [
            -1.0274978,
            -1.0605512
           ]
          },
          {
           "line": {
            "width": 10
           },
           "marker": {
            "size": 3
           },
           "mode": "lines+markers",
           "name": "LEFT_THIGH",
           "type": "scatter3d",
           "x": [
            0.24169849,
            0.23058593
           ],
           "y": [
            -0.32010415,
            -0.368936
           ],
           "z": [
            -1.108867,
            -1.0555463
           ]
          },
          {
           "line": {
            "width": 10
           },
           "marker": {
            "size": 3
           },
           "mode": "lines+markers",
           "name": "RIGHT_THIGH",
           "type": "scatter3d",
           "x": [
            0.24648306,
            0.25095364
           ],
           "y": [
            -0.30817178,
            -0.36874172
           ],
           "z": [
            -1.0605512,
            -1.0450715
           ]
          },
          {
           "line": {
            "width": 10
           },
           "marker": {
            "size": 3
           },
           "mode": "lines+markers",
           "name": "LEFT_LOWER_LEG",
           "type": "scatter3d",
           "x": [
            0.23058593,
            0.22367935
           ],
           "y": [
            -0.368936,
            -0.42696473
           ],
           "z": [
            -1.0555463,
            -1.0349913
           ]
          },
          {
           "line": {
            "width": 10
           },
           "marker": {
            "size": 3
           },
           "mode": "lines+markers",
           "name": "RIGHT_LOWER_LEG",
           "type": "scatter3d",
           "x": [
            0.25095364,
            0.28637964
           ],
           "y": [
            -0.36874172,
            -0.41184855
           ],
           "z": [
            -1.0450715,
            -1.0090165
           ]
          }
         ],
         "layout": {
          "title": {
           "text": "frame:415"
          }
         },
         "name": "415"
        },
        {
         "data": [
          {
           "line": {
            "width": 10
           },
           "marker": {
            "size": 3
           },
           "mode": "lines+markers",
           "name": "CLUB",
           "type": "scatter3d",
           "x": [
            0.28800714,
            0.11203569
           ],
           "y": [
            -0.19185494,
            -0.25045106
           ],
           "z": [
            -1.022284,
            -0.99699765
           ]
          },
          {
           "line": {
            "width": 10
           },
           "marker": {
            "size": 3
           },
           "mode": "lines+markers",
           "name": "EYE",
           "type": "scatter3d",
           "x": [
            0.24238755,
            0.24189895
           ],
           "y": [
            -0.21092455,
            -0.2118961
           ],
           "z": [
            -1.0665028,
            -1.0643317
           ]
          },
          {
           "line": {
            "width": 10
           },
           "marker": {
            "size": 3
           },
           "mode": "lines+markers",
           "name": "SHOULDER",
           "type": "scatter3d",
           "x": [
            0.2804843,
            0.22731754
           ],
           "y": [
            -0.22888502,
            -0.23354137
           ],
           "z": [
            -1.0617274,
            -1.053521
           ]
          },
          {
           "line": {
            "width": 10
           },
           "marker": {
            "size": 3
           },
           "mode": "lines+markers",
           "name": "LEFT_UPPER_ARM",
           "type": "scatter3d",
           "x": [
            0.2804843,
            0.31779426
           ],
           "y": [
            -0.22888502,
            -0.22668295
           ],
           "z": [
            -1.0617274,
            -1.0775144
           ]
          },
          {
           "line": {
            "width": 10
           },
           "marker": {
            "size": 3
           },
           "mode": "lines+markers",
           "name": "RIGHT_UPPER_ARM",
           "type": "scatter3d",
           "x": [
            0.22731754,
            0.22573654
           ],
           "y": [
            -0.23354137,
            -0.23853043
           ],
           "z": [
            -1.053521,
            -1.104771
           ]
          },
          {
           "line": {
            "width": 10
           },
           "marker": {
            "size": 3
           },
           "mode": "lines+markers",
           "name": "LEFT_FOREARM",
           "type": "scatter3d",
           "x": [
            0.31779426,
            0.31243375
           ],
           "y": [
            -0.22668295,
            -0.20339179
           ],
           "z": [
            -1.0775144,
            -1.0461731
           ]
          },
          {
           "line": {
            "width": 10
           },
           "marker": {
            "size": 3
           },
           "mode": "lines+markers",
           "name": "RIGHT_FOREARM",
           "type": "scatter3d",
           "x": [
            0.22573654,
            0.25547877
           ],
           "y": [
            -0.23853043,
            -0.22274113
           ],
           "z": [
            -1.104771,
            -1.1080161
           ]
          },
          {
           "line": {
            "width": 10
           },
           "marker": {
            "size": 3
           },
           "mode": "lines+markers",
           "name": "HIP",
           "type": "scatter3d",
           "x": [
            0.25964564,
            0.23454742
           ],
           "y": [
            -0.3116157,
            -0.3114328
           ],
           "z": [
            -1.0831673,
            -1.0690292
           ]
          },
          {
           "line": {
            "width": 10
           },
           "marker": {
            "size": 3
           },
           "mode": "lines+markers",
           "name": "LEFT_BODY",
           "type": "scatter3d",
           "x": [
            0.2804843,
            0.25964564
           ],
           "y": [
            -0.22888502,
            -0.3116157
           ],
           "z": [
            -1.0617274,
            -1.0831673
           ]
          },
          {
           "line": {
            "width": 10
           },
           "marker": {
            "size": 3
           },
           "mode": "lines+markers",
           "name": "RIGHT_BODY",
           "type": "scatter3d",
           "x": [
            0.22731754,
            0.23454742
           ],
           "y": [
            -0.23354137,
            -0.3114328
           ],
           "z": [
            -1.053521,
            -1.0690292
           ]
          },
          {
           "line": {
            "width": 10
           },
           "marker": {
            "size": 3
           },
           "mode": "lines+markers",
           "name": "LEFT_THIGH",
           "type": "scatter3d",
           "x": [
            0.25964564,
            0.23056918
           ],
           "y": [
            -0.3116157,
            -0.37093884
           ],
           "z": [
            -1.0831673,
            -1.0601858
           ]
          },
          {
           "line": {
            "width": 10
           },
           "marker": {
            "size": 3
           },
           "mode": "lines+markers",
           "name": "RIGHT_THIGH",
           "type": "scatter3d",
           "x": [
            0.23454742,
            0.25564334
           ],
           "y": [
            -0.3114328,
            -0.36645204
           ],
           "z": [
            -1.0690292,
            -1.0382116
           ]
          },
          {
           "line": {
            "width": 10
           },
           "marker": {
            "size": 3
           },
           "mode": "lines+markers",
           "name": "LEFT_LOWER_LEG",
           "type": "scatter3d",
           "x": [
            0.23056918,
            0.21865974
           ],
           "y": [
            -0.37093884,
            -0.43163335
           ],
           "z": [
            -1.0601858,
            -1.0381733
           ]
          },
          {
           "line": {
            "width": 10
           },
           "marker": {
            "size": 3
           },
           "mode": "lines+markers",
           "name": "RIGHT_LOWER_LEG",
           "type": "scatter3d",
           "x": [
            0.25564334,
            0.2894438
           ],
           "y": [
            -0.36645204,
            -0.40912563
           ],
           "z": [
            -1.0382116,
            -1.0007179
           ]
          }
         ],
         "layout": {
          "title": {
           "text": "frame:420"
          }
         },
         "name": "420"
        },
        {
         "data": [
          {
           "line": {
            "width": 10
           },
           "marker": {
            "size": 3
           },
           "mode": "lines+markers",
           "name": "CLUB",
           "type": "scatter3d",
           "x": [
            0.28441882,
            0.098869205
           ],
           "y": [
            -0.19728832,
            -0.23830554
           ],
           "z": [
            -1.036877,
            -1.0168724
           ]
          },
          {
           "line": {
            "width": 10
           },
           "marker": {
            "size": 3
           },
           "mode": "lines+markers",
           "name": "EYE",
           "type": "scatter3d",
           "x": [
            0.24831969,
            0.24733275
           ],
           "y": [
            -0.21113116,
            -0.21214353
           ],
           "z": [
            -1.0541389,
            -1.0519544
           ]
          },
          {
           "line": {
            "width": 10
           },
           "marker": {
            "size": 3
           },
           "mode": "lines+markers",
           "name": "SHOULDER",
           "type": "scatter3d",
           "x": [
            0.2727941,
            0.22842215
           ],
           "y": [
            -0.23228775,
            -0.23246317
           ],
           "z": [
            -1.075852,
            -1.0539722
           ]
          },
          {
           "line": {
            "width": 10
           },
           "marker": {
            "size": 3
           },
           "mode": "lines+markers",
           "name": "LEFT_UPPER_ARM",
           "type": "scatter3d",
           "x": [
            0.2727941,
            0.31508547
           ],
           "y": [
            -0.23228775,
            -0.22770813
           ],
           "z": [
            -1.075852,
            -1.0830592
           ]
          },
          {
           "line": {
            "width": 10
           },
           "marker": {
            "size": 3
           },
           "mode": "lines+markers",
           "name": "RIGHT_UPPER_ARM",
           "type": "scatter3d",
           "x": [
            0.22842215,
            0.2505175
           ],
           "y": [
            -0.23246317,
            -0.22729081
           ],
           "z": [
            -1.0539722,
            -1.0696943
           ]
          },
          {
           "line": {
            "width": 10
           },
           "marker": {
            "size": 3
           },
           "mode": "lines+markers",
           "name": "LEFT_FOREARM",
           "type": "scatter3d",
           "x": [
            0.31508547,
            0.30946177
           ],
           "y": [
            -0.22770813,
            -0.20573469
           ],
           "z": [
            -1.0830592,
            -1.0403936
           ]
          },
          {
           "line": {
            "width": 10
           },
           "marker": {
            "size": 3
           },
           "mode": "lines+markers",
           "name": "RIGHT_FOREARM",
           "type": "scatter3d",
           "x": [
            0.2505175,
            0.28654498
           ],
           "y": [
            -0.22729081,
            -0.20936845
           ],
           "z": [
            -1.0696943,
            -1.0533682
           ]
          },
          {
           "line": {
            "width": 10
           },
           "marker": {
            "size": 3
           },
           "mode": "lines+markers",
           "name": "HIP",
           "type": "scatter3d",
           "x": [
            0.25631237,
            0.2349528
           ],
           "y": [
            -0.31409115,
            -0.31111562
           ],
           "z": [
            -1.0927222,
            -1.0723256
           ]
          },
          {
           "line": {
            "width": 10
           },
           "marker": {
            "size": 3
           },
           "mode": "lines+markers",
           "name": "LEFT_BODY",
           "type": "scatter3d",
           "x": [
            0.2727941,
            0.25631237
           ],
           "y": [
            -0.23228775,
            -0.31409115
           ],
           "z": [
            -1.075852,
            -1.0927222
           ]
          },
          {
           "line": {
            "width": 10
           },
           "marker": {
            "size": 3
           },
           "mode": "lines+markers",
           "name": "RIGHT_BODY",
           "type": "scatter3d",
           "x": [
            0.22842215,
            0.2349528
           ],
           "y": [
            -0.23246317,
            -0.31111562
           ],
           "z": [
            -1.0539722,
            -1.0723256
           ]
          },
          {
           "line": {
            "width": 10
           },
           "marker": {
            "size": 3
           },
           "mode": "lines+markers",
           "name": "LEFT_THIGH",
           "type": "scatter3d",
           "x": [
            0.25631237,
            0.23314218
           ],
           "y": [
            -0.31409115,
            -0.36979845
           ],
           "z": [
            -1.0927222,
            -1.0561718
           ]
          },
          {
           "line": {
            "width": 10
           },
           "marker": {
            "size": 3
           },
           "mode": "lines+markers",
           "name": "RIGHT_THIGH",
           "type": "scatter3d",
           "x": [
            0.2349528,
            0.25370473
           ],
           "y": [
            -0.31111562,
            -0.36642915
           ],
           "z": [
            -1.0723256,
            -1.0420042
           ]
          },
          {
           "line": {
            "width": 10
           },
           "marker": {
            "size": 3
           },
           "mode": "lines+markers",
           "name": "LEFT_LOWER_LEG",
           "type": "scatter3d",
           "x": [
            0.23314218,
            0.22337809
           ],
           "y": [
            -0.36979845,
            -0.42831966
           ],
           "z": [
            -1.0561718,
            -1.0343611
           ]
          },
          {
           "line": {
            "width": 10
           },
           "marker": {
            "size": 3
           },
           "mode": "lines+markers",
           "name": "RIGHT_LOWER_LEG",
           "type": "scatter3d",
           "x": [
            0.25370473,
            0.28387108
           ],
           "y": [
            -0.36642915,
            -0.4130615
           ],
           "z": [
            -1.0420042,
            -1.0083508
           ]
          }
         ],
         "layout": {
          "title": {
           "text": "frame:425"
          }
         },
         "name": "425"
        },
        {
         "data": [
          {
           "line": {
            "width": 10
           },
           "marker": {
            "size": 3
           },
           "mode": "lines+markers",
           "name": "CLUB",
           "type": "scatter3d",
           "x": [
            0.27574322,
            0.09105979
           ],
           "y": [
            -0.19697765,
            -0.2307001
           ],
           "z": [
            -1.0313888,
            -1.0250783
           ]
          },
          {
           "line": {
            "width": 10
           },
           "marker": {
            "size": 3
           },
           "mode": "lines+markers",
           "name": "EYE",
           "type": "scatter3d",
           "x": [
            0.2494233,
            0.24704194
           ],
           "y": [
            -0.21269971,
            -0.21403395
           ],
           "z": [
            -1.0530986,
            -1.0524961
           ]
          },
          {
           "line": {
            "width": 10
           },
           "marker": {
            "size": 3
           },
           "mode": "lines+markers",
           "name": "SHOULDER",
           "type": "scatter3d",
           "x": [
            0.27564603,
            0.22685626
           ],
           "y": [
            -0.23224919,
            -0.23371233
           ],
           "z": [
            -1.0721292,
            -1.055018
           ]
          },
          {
           "line": {
            "width": 10
           },
           "marker": {
            "size": 3
           },
           "mode": "lines+markers",
           "name": "LEFT_UPPER_ARM",
           "type": "scatter3d",
           "x": [
            0.27564603,
            0.3146499
           ],
           "y": [
            -0.23224919,
            -0.22937098
           ],
           "z": [
            -1.0721292,
            -1.0816473
           ]
          },
          {
           "line": {
            "width": 10
           },
           "marker": {
            "size": 3
           },
           "mode": "lines+markers",
           "name": "RIGHT_UPPER_ARM",
           "type": "scatter3d",
           "x": [
            0.22685626,
            0.24786544
           ],
           "y": [
            -0.23371233,
            -0.2298809
           ],
           "z": [
            -1.055018,
            -1.0685937
           ]
          },
          {
           "line": {
            "width": 10
           },
           "marker": {
            "size": 3
           },
           "mode": "lines+markers",
           "name": "LEFT_FOREARM",
           "type": "scatter3d",
           "x": [
            0.3146499,
            0.30766237
           ],
           "y": [
            -0.22937098,
            -0.20809306
           ],
           "z": [
            -1.0816473,
            -1.039289
           ]
          },
          {
           "line": {
            "width": 10
           },
           "marker": {
            "size": 3
           },
           "mode": "lines+markers",
           "name": "RIGHT_FOREARM",
           "type": "scatter3d",
           "x": [
            0.24786544,
            0.2839861
           ],
           "y": [
            -0.2298809,
            -0.21324901
           ],
           "z": [
            -1.0685937,
            -1.0522164
           ]
          },
          {
           "line": {
            "width": 10
           },
           "marker": {
            "size": 3
           },
           "mode": "lines+markers",
           "name": "HIP",
           "type": "scatter3d",
           "x": [
            0.2583479,
            0.23421766
           ],
           "y": [
            -0.31368828,
            -0.31206375
           ],
           "z": [
            -1.0894902,
            -1.0718518
           ]
          },
          {
           "line": {
            "width": 10
           },
           "marker": {
            "size": 3
           },
           "mode": "lines+markers",
           "name": "LEFT_BODY",
           "type": "scatter3d",
           "x": [
            0.27564603,
            0.2583479
           ],
           "y": [
            -0.23224919,
            -0.31368828
           ],
           "z": [
            -1.0721292,
            -1.0894902
           ]
          },
          {
           "line": {
            "width": 10
           },
           "marker": {
            "size": 3
           },
           "mode": "lines+markers",
           "name": "RIGHT_BODY",
           "type": "scatter3d",
           "x": [
            0.22685626,
            0.23421766
           ],
           "y": [
            -0.23371233,
            -0.31206375
           ],
           "z": [
            -1.055018,
            -1.0718518
           ]
          },
          {
           "line": {
            "width": 10
           },
           "marker": {
            "size": 3
           },
           "mode": "lines+markers",
           "name": "LEFT_THIGH",
           "type": "scatter3d",
           "x": [
            0.2583479,
            0.23054898
           ],
           "y": [
            -0.31368828,
            -0.37026507
           ],
           "z": [
            -1.0894902,
            -1.0602167
           ]
          },
          {
           "line": {
            "width": 10
           },
           "marker": {
            "size": 3
           },
           "mode": "lines+markers",
           "name": "RIGHT_THIGH",
           "type": "scatter3d",
           "x": [
            0.23421766,
            0.2524677
           ],
           "y": [
            -0.31206375,
            -0.3673636
           ],
           "z": [
            -1.0718518,
            -1.0434569
           ]
          },
          {
           "line": {
            "width": 10
           },
           "marker": {
            "size": 3
           },
           "mode": "lines+markers",
           "name": "LEFT_LOWER_LEG",
           "type": "scatter3d",
           "x": [
            0.23054898,
            0.21907943
           ],
           "y": [
            -0.37026507,
            -0.4310283
           ],
           "z": [
            -1.0602167,
            -1.0401918
           ]
          },
          {
           "line": {
            "width": 10
           },
           "marker": {
            "size": 3
           },
           "mode": "lines+markers",
           "name": "RIGHT_LOWER_LEG",
           "type": "scatter3d",
           "x": [
            0.2524677,
            0.28948963
           ],
           "y": [
            -0.3673636,
            -0.40951058
           ],
           "z": [
            -1.0434569,
            -1.0023187
           ]
          }
         ],
         "layout": {
          "title": {
           "text": "frame:430"
          }
         },
         "name": "430"
        },
        {
         "data": [
          {
           "line": {
            "width": 10
           },
           "marker": {
            "size": 3
           },
           "mode": "lines+markers",
           "name": "CLUB",
           "type": "scatter3d",
           "x": [
            0.27352408,
            0.08813837
           ],
           "y": [
            -0.19952336,
            -0.2299033
           ],
           "z": [
            -1.0338848,
            -1.0344579
           ]
          },
          {
           "line": {
            "width": 10
           },
           "marker": {
            "size": 3
           },
           "mode": "lines+markers",
           "name": "EYE",
           "type": "scatter3d",
           "x": [
            0.23433611,
            0.235323
           ],
           "y": [
            -0.2146303,
            -0.21529824
           ],
           "z": [
            -1.067246,
            -1.0613501
           ]
          },
          {
           "line": {
            "width": 10
           },
           "marker": {
            "size": 3
           },
           "mode": "lines+markers",
           "name": "SHOULDER",
           "type": "scatter3d",
           "x": [
            0.26541957,
            0.23926729
           ],
           "y": [
            -0.23299934,
            -0.2291326
           ],
           "z": [
            -1.0884831,
            -1.0367819
           ]
          },
          {
           "line": {
            "width": 10
           },
           "marker": {
            "size": 3
           },
           "mode": "lines+markers",
           "name": "LEFT_UPPER_ARM",
           "type": "scatter3d",
           "x": [
            0.26541957,
            0.30715713
           ],
           "y": [
            -0.23299934,
            -0.23104763
           ],
           "z": [
            -1.0884831,
            -1.0940596
           ]
          },
          {
           "line": {
            "width": 10
           },
           "marker": {
            "size": 3
           },
           "mode": "lines+markers",
           "name": "RIGHT_UPPER_ARM",
           "type": "scatter3d",
           "x": [
            0.23926729,
            0.26833948
           ],
           "y": [
            -0.2291326,
            -0.22583953
           ],
           "z": [
            -1.0367819,
            -1.0348586
           ]
          },
          {
           "line": {
            "width": 10
           },
           "marker": {
            "size": 3
           },
           "mode": "lines+markers",
           "name": "LEFT_FOREARM",
           "type": "scatter3d",
           "x": [
            0.30715713,
            0.3068761
           ],
           "y": [
            -0.23104763,
            -0.2090949
           ],
           "z": [
            -1.0940596,
            -1.042332
           ]
          },
          {
           "line": {
            "width": 10
           },
           "marker": {
            "size": 3
           },
           "mode": "lines+markers",
           "name": "RIGHT_FOREARM",
           "type": "scatter3d",
           "x": [
            0.26833948,
            0.29121053
           ],
           "y": [
            -0.22583953,
            -0.21365742
           ],
           "z": [
            -1.0348586,
            -1.0402303
           ]
          },
          {
           "line": {
            "width": 10
           },
           "marker": {
            "size": 3
           },
           "mode": "lines+markers",
           "name": "HIP",
           "type": "scatter3d",
           "x": [
            0.25038096,
            0.23976055
           ],
           "y": [
            -0.31698006,
            -0.3101769
           ],
           "z": [
            -1.1038116,
            -1.0648649
           ]
          },
          {
           "line": {
            "width": 10
           },
           "marker": {
            "size": 3
           },
           "mode": "lines+markers",
           "name": "LEFT_BODY",
           "type": "scatter3d",
           "x": [
            0.26541957,
            0.25038096
           ],
           "y": [
            -0.23299934,
            -0.31698006
           ],
           "z": [
            -1.0884831,
            -1.1038116
           ]
          },
          {
           "line": {
            "width": 10
           },
           "marker": {
            "size": 3
           },
           "mode": "lines+markers",
           "name": "RIGHT_BODY",
           "type": "scatter3d",
           "x": [
            0.23926729,
            0.23976055
           ],
           "y": [
            -0.2291326,
            -0.3101769
           ],
           "z": [
            -1.0367819,
            -1.0648649
           ]
          },
          {
           "line": {
            "width": 10
           },
           "marker": {
            "size": 3
           },
           "mode": "lines+markers",
           "name": "LEFT_THIGH",
           "type": "scatter3d",
           "x": [
            0.25038096,
            0.23041783
           ],
           "y": [
            -0.31698006,
            -0.37118328
           ],
           "z": [
            -1.1038116,
            -1.0608275
           ]
          },
          {
           "line": {
            "width": 10
           },
           "marker": {
            "size": 3
           },
           "mode": "lines+markers",
           "name": "RIGHT_THIGH",
           "type": "scatter3d",
           "x": [
            0.23976055,
            0.25055954
           ],
           "y": [
            -0.3101769,
            -0.3687511
           ],
           "z": [
            -1.0648649,
            -1.0446824
           ]
          },
          {
           "line": {
            "width": 10
           },
           "marker": {
            "size": 3
           },
           "mode": "lines+markers",
           "name": "LEFT_LOWER_LEG",
           "type": "scatter3d",
           "x": [
            0.23041783,
            0.22625527
           ],
           "y": [
            -0.37118328,
            -0.426738
           ],
           "z": [
            -1.0608275,
            -1.032003
           ]
          },
          {
           "line": {
            "width": 10
           },
           "marker": {
            "size": 3
           },
           "mode": "lines+markers",
           "name": "RIGHT_LOWER_LEG",
           "type": "scatter3d",
           "x": [
            0.25055954,
            0.28474405
           ],
           "y": [
            -0.3687511,
            -0.4130463
           ],
           "z": [
            -1.0446824,
            -1.0073093
           ]
          }
         ],
         "layout": {
          "title": {
           "text": "frame:435"
          }
         },
         "name": "435"
        },
        {
         "data": [
          {
           "line": {
            "width": 10
           },
           "marker": {
            "size": 3
           },
           "mode": "lines+markers",
           "name": "CLUB",
           "type": "scatter3d",
           "x": [
            0.27270713,
            0.08778101
           ],
           "y": [
            -0.19651589,
            -0.23187707
           ],
           "z": [
            -1.0284638,
            -1.0254407
           ]
          },
          {
           "line": {
            "width": 10
           },
           "marker": {
            "size": 3
           },
           "mode": "lines+markers",
           "name": "EYE",
           "type": "scatter3d",
           "x": [
            0.246586,
            0.24471202
           ],
           "y": [
            -0.2103039,
            -0.21159267
           ],
           "z": [
            -1.0469102,
            -1.0456784
           ]
          },
          {
           "line": {
            "width": 10
           },
           "marker": {
            "size": 3
           },
           "mode": "lines+markers",
           "name": "SHOULDER",
           "type": "scatter3d",
           "x": [
            0.27729383,
            0.22408772
           ],
           "y": [
            -0.23187093,
            -0.23487884
           ],
           "z": [
            -1.0683142,
            -1.0581077
           ]
          },
          {
           "line": {
            "width": 10
           },
           "marker": {
            "size": 3
           },
           "mode": "lines+markers",
           "name": "LEFT_UPPER_ARM",
           "type": "scatter3d",
           "x": [
            0.27729383,
            0.31842265
           ],
           "y": [
            -0.23187093,
            -0.22895178
           ],
           "z": [
            -1.0683142,
            -1.071747
           ]
          },
          {
           "line": {
            "width": 10
           },
           "marker": {
            "size": 3
           },
           "mode": "lines+markers",
           "name": "RIGHT_UPPER_ARM",
           "type": "scatter3d",
           "x": [
            0.22408772,
            0.2324565
           ],
           "y": [
            -0.23487884,
            -0.23643532
           ],
           "z": [
            -1.0581077,
            -1.0911831
           ]
          },
          {
           "line": {
            "width": 10
           },
           "marker": {
            "size": 3
           },
           "mode": "lines+markers",
           "name": "LEFT_FOREARM",
           "type": "scatter3d",
           "x": [
            0.31842265,
            0.30610555
           ],
           "y": [
            -0.22895178,
            -0.20725971
           ],
           "z": [
            -1.071747,
            -1.0343748
           ]
          },
          {
           "line": {
            "width": 10
           },
           "marker": {
            "size": 3
           },
           "mode": "lines+markers",
           "name": "RIGHT_FOREARM",
           "type": "scatter3d",
           "x": [
            0.2324565,
            0.26340437
           ],
           "y": [
            -0.23643532,
            -0.219726
           ],
           "z": [
            -1.0911831,
            -1.0823832
           ]
          },
          {
           "line": {
            "width": 10
           },
           "marker": {
            "size": 3
           },
           "mode": "lines+markers",
           "name": "HIP",
           "type": "scatter3d",
           "x": [
            0.25967875,
            0.23372988
           ],
           "y": [
            -0.31330562,
            -0.31250548
           ],
           "z": [
            -1.0891836,
            -1.0740762
           ]
          },
          {
           "line": {
            "width": 10
           },
           "marker": {
            "size": 3
           },
           "mode": "lines+markers",
           "name": "LEFT_BODY",
           "type": "scatter3d",
           "x": [
            0.27729383,
            0.25967875
           ],
           "y": [
            -0.23187093,
            -0.31330562
           ],
           "z": [
            -1.0683142,
            -1.0891836
           ]
          },
          {
           "line": {
            "width": 10
           },
           "marker": {
            "size": 3
           },
           "mode": "lines+markers",
           "name": "RIGHT_BODY",
           "type": "scatter3d",
           "x": [
            0.22408772,
            0.23372988
           ],
           "y": [
            -0.23487884,
            -0.31250548
           ],
           "z": [
            -1.0581077,
            -1.0740762
           ]
          },
          {
           "line": {
            "width": 10
           },
           "marker": {
            "size": 3
           },
           "mode": "lines+markers",
           "name": "LEFT_THIGH",
           "type": "scatter3d",
           "x": [
            0.25967875,
            0.23120177
           ],
           "y": [
            -0.31330562,
            -0.36995745
           ],
           "z": [
            -1.0891836,
            -1.0598333
           ]
          },
          {
           "line": {
            "width": 10
           },
           "marker": {
            "size": 3
           },
           "mode": "lines+markers",
           "name": "RIGHT_THIGH",
           "type": "scatter3d",
           "x": [
            0.23372988,
            0.2557669
           ],
           "y": [
            -0.31250548,
            -0.36505127
           ],
           "z": [
            -1.0740762,
            -1.0376791
           ]
          },
          {
           "line": {
            "width": 10
           },
           "marker": {
            "size": 3
           },
           "mode": "lines+markers",
           "name": "LEFT_LOWER_LEG",
           "type": "scatter3d",
           "x": [
            0.23120177,
            0.220207
           ],
           "y": [
            -0.36995745,
            -0.43136653
           ],
           "z": [
            -1.0598333,
            -1.0405899
           ]
          },
          {
           "line": {
            "width": 10
           },
           "marker": {
            "size": 3
           },
           "mode": "lines+markers",
           "name": "RIGHT_LOWER_LEG",
           "type": "scatter3d",
           "x": [
            0.2557669,
            0.2888624
           ],
           "y": [
            -0.36505127,
            -0.40982097
           ],
           "z": [
            -1.0376791,
            -1.0020627
           ]
          }
         ],
         "layout": {
          "title": {
           "text": "frame:440"
          }
         },
         "name": "440"
        },
        {
         "data": [
          {
           "line": {
            "width": 10
           },
           "marker": {
            "size": 3
           },
           "mode": "lines+markers",
           "name": "CLUB",
           "type": "scatter3d",
           "x": [
            0.2771352,
            0.09246753
           ],
           "y": [
            -0.19789052,
            -0.2393694
           ],
           "z": [
            -1.0389435,
            -1.0123044
           ]
          },
          {
           "line": {
            "width": 10
           },
           "marker": {
            "size": 3
           },
           "mode": "lines+markers",
           "name": "EYE",
           "type": "scatter3d",
           "x": [
            0.23442686,
            0.23436292
           ],
           "y": [
            -0.21213745,
            -0.21318719
           ],
           "z": [
            -1.0644109,
            -1.060455
           ]
          },
          {
           "line": {
            "width": 10
           },
           "marker": {
            "size": 3
           },
           "mode": "lines+markers",
           "name": "SHOULDER",
           "type": "scatter3d",
           "x": [
            0.27004874,
            0.23267192
           ],
           "y": [
            -0.23183487,
            -0.23196748
           ],
           "z": [
            -1.0795016,
            -1.0442232
           ]
          },
          {
           "line": {
            "width": 10
           },
           "marker": {
            "size": 3
           },
           "mode": "lines+markers",
           "name": "LEFT_UPPER_ARM",
           "type": "scatter3d",
           "x": [
            0.27004874,
            0.30714968
           ],
           "y": [
            -0.23183487,
            -0.22675563
           ],
           "z": [
            -1.0795016,
            -1.09353
           ]
          },
          {
           "line": {
            "width": 10
           },
           "marker": {
            "size": 3
           },
           "mode": "lines+markers",
           "name": "RIGHT_UPPER_ARM",
           "type": "scatter3d",
           "x": [
            0.23267192,
            0.25709182
           ],
           "y": [
            -0.23196748,
            -0.22657678
           ],
           "z": [
            -1.0442232,
            -1.0583571
           ]
          },
          {
           "line": {
            "width": 10
           },
           "marker": {
            "size": 3
           },
           "mode": "lines+markers",
           "name": "LEFT_FOREARM",
           "type": "scatter3d",
           "x": [
            0.30714968,
            0.30466914
           ],
           "y": [
            -0.22675563,
            -0.20449719
           ],
           "z": [
            -1.09353,
            -1.0377101
           ]
          },
          {
           "line": {
            "width": 10
           },
           "marker": {
            "size": 3
           },
           "mode": "lines+markers",
           "name": "RIGHT_FOREARM",
           "type": "scatter3d",
           "x": [
            0.25709182,
            0.29019713
           ],
           "y": [
            -0.22657678,
            -0.21118172
           ],
           "z": [
            -1.0583571,
            -1.0460693
           ]
          },
          {
           "line": {
            "width": 10
           },
           "marker": {
            "size": 3
           },
           "mode": "lines+markers",
           "name": "HIP",
           "type": "scatter3d",
           "x": [
            0.25507578,
            0.2377793
           ],
           "y": [
            -0.31440312,
            -0.31069627
           ],
           "z": [
            -1.0972195,
            -1.0686187
           ]
          },
          {
           "line": {
            "width": 10
           },
           "marker": {
            "size": 3
           },
           "mode": "lines+markers",
           "name": "LEFT_BODY",
           "type": "scatter3d",
           "x": [
            0.27004874,
            0.25507578
           ],
           "y": [
            -0.23183487,
            -0.31440312
           ],
           "z": [
            -1.0795016,
            -1.0972195
           ]
          },
          {
           "line": {
            "width": 10
           },
           "marker": {
            "size": 3
           },
           "mode": "lines+markers",
           "name": "RIGHT_BODY",
           "type": "scatter3d",
           "x": [
            0.23267192,
            0.2377793
           ],
           "y": [
            -0.23196748,
            -0.31069627
           ],
           "z": [
            -1.0442232,
            -1.0686187
           ]
          },
          {
           "line": {
            "width": 10
           },
           "marker": {
            "size": 3
           },
           "mode": "lines+markers",
           "name": "LEFT_THIGH",
           "type": "scatter3d",
           "x": [
            0.25507578,
            0.23064819
           ],
           "y": [
            -0.31440312,
            -0.3705291
           ],
           "z": [
            -1.0972195,
            -1.0591997
           ]
          },
          {
           "line": {
            "width": 10
           },
           "marker": {
            "size": 3
           },
           "mode": "lines+markers",
           "name": "RIGHT_THIGH",
           "type": "scatter3d",
           "x": [
            0.2377793,
            0.25215566
           ],
           "y": [
            -0.31069627,
            -0.36808148
           ],
           "z": [
            -1.0686187,
            -1.0426186
           ]
          },
          {
           "line": {
            "width": 10
           },
           "marker": {
            "size": 3
           },
           "mode": "lines+markers",
           "name": "LEFT_LOWER_LEG",
           "type": "scatter3d",
           "x": [
            0.23064819,
            0.2222046
           ],
           "y": [
            -0.3705291,
            -0.42995247
           ],
           "z": [
            -1.0591997,
            -1.0367721
           ]
          },
          {
           "line": {
            "width": 10
           },
           "marker": {
            "size": 3
           },
           "mode": "lines+markers",
           "name": "RIGHT_LOWER_LEG",
           "type": "scatter3d",
           "x": [
            0.25215566,
            0.28903404
           ],
           "y": [
            -0.36808148,
            -0.41064563
           ],
           "z": [
            -1.0426186,
            -1.0034771
           ]
          }
         ],
         "layout": {
          "title": {
           "text": "frame:445"
          }
         },
         "name": "445"
        },
        {
         "data": [
          {
           "line": {
            "width": 10
           },
           "marker": {
            "size": 3
           },
           "mode": "lines+markers",
           "name": "CLUB",
           "type": "scatter3d",
           "x": [
            0.28149867,
            0.10179733
           ],
           "y": [
            -0.19656728,
            -0.2520267
           ],
           "z": [
            -1.0448998,
            -1.0000471
           ]
          },
          {
           "line": {
            "width": 10
           },
           "marker": {
            "size": 3
           },
           "mode": "lines+markers",
           "name": "EYE",
           "type": "scatter3d",
           "x": [
            0.23348488,
            0.23355725
           ],
           "y": [
            -0.20975226,
            -0.210077
           ],
           "z": [
            -1.0635879,
            -1.0595492
           ]
          },
          {
           "line": {
            "width": 10
           },
           "marker": {
            "size": 3
           },
           "mode": "lines+markers",
           "name": "SHOULDER",
           "type": "scatter3d",
           "x": [
            0.27199253,
            0.22835986
           ],
           "y": [
            -0.23109235,
            -0.23421693
           ],
           "z": [
            -1.0779655,
            -1.0591738
           ]
          },
          {
           "line": {
            "width": 10
           },
           "marker": {
            "size": 3
           },
           "mode": "lines+markers",
           "name": "LEFT_UPPER_ARM",
           "type": "scatter3d",
           "x": [
            0.27199253,
            0.3032578
           ],
           "y": [
            -0.23109235,
            -0.22601776
           ],
           "z": [
            -1.0779655,
            -1.1056639
           ]
          },
          {
           "line": {
            "width": 10
           },
           "marker": {
            "size": 3
           },
           "mode": "lines+markers",
           "name": "RIGHT_UPPER_ARM",
           "type": "scatter3d",
           "x": [
            0.22835986,
            0.23015703
           ],
           "y": [
            -0.23421693,
            -0.23497944
           ],
           "z": [
            -1.0591738,
            -1.1058458
           ]
          },
          {
           "line": {
            "width": 10
           },
           "marker": {
            "size": 3
           },
           "mode": "lines+markers",
           "name": "LEFT_FOREARM",
           "type": "scatter3d",
           "x": [
            0.3032578,
            0.30362803
           ],
           "y": [
            -0.22601776,
            -0.20257741
           ],
           "z": [
            -1.1056639,
            -1.0626003
           ]
          },
          {
           "line": {
            "width": 10
           },
           "marker": {
            "size": 3
           },
           "mode": "lines+markers",
           "name": "RIGHT_FOREARM",
           "type": "scatter3d",
           "x": [
            0.23015703,
            0.2654268
           ],
           "y": [
            -0.23497944,
            -0.2137434
           ],
           "z": [
            -1.1058458,
            -1.0942463
           ]
          },
          {
           "line": {
            "width": 10
           },
           "marker": {
            "size": 3
           },
           "mode": "lines+markers",
           "name": "HIP",
           "type": "scatter3d",
           "x": [
            0.25607452,
            0.23635481
           ],
           "y": [
            -0.31190404,
            -0.31021047
           ],
           "z": [
            -1.0903435,
            -1.0714723
           ]
          },
          {
           "line": {
            "width": 10
           },
           "marker": {
            "size": 3
           },
           "mode": "lines+markers",
           "name": "LEFT_BODY",
           "type": "scatter3d",
           "x": [
            0.27199253,
            0.25607452
           ],
           "y": [
            -0.23109235,
            -0.31190404
           ],
           "z": [
            -1.0779655,
            -1.0903435
           ]
          },
          {
           "line": {
            "width": 10
           },
           "marker": {
            "size": 3
           },
           "mode": "lines+markers",
           "name": "RIGHT_BODY",
           "type": "scatter3d",
           "x": [
            0.22835986,
            0.23635481
           ],
           "y": [
            -0.23421693,
            -0.31021047
           ],
           "z": [
            -1.0591738,
            -1.0714723
           ]
          },
          {
           "line": {
            "width": 10
           },
           "marker": {
            "size": 3
           },
           "mode": "lines+markers",
           "name": "LEFT_THIGH",
           "type": "scatter3d",
           "x": [
            0.25607452,
            0.22856566
           ],
           "y": [
            -0.31190404,
            -0.36880565
           ],
           "z": [
            -1.0903435,
            -1.0552868
           ]
          },
          {
           "line": {
            "width": 10
           },
           "marker": {
            "size": 3
           },
           "mode": "lines+markers",
           "name": "RIGHT_THIGH",
           "type": "scatter3d",
           "x": [
            0.23635481,
            0.2529223
           ],
           "y": [
            -0.31021047,
            -0.36639354
           ],
           "z": [
            -1.0714723,
            -1.040605
           ]
          },
          {
           "line": {
            "width": 10
           },
           "marker": {
            "size": 3
           },
           "mode": "lines+markers",
           "name": "LEFT_LOWER_LEG",
           "type": "scatter3d",
           "x": [
            0.22856566,
            0.22087172
           ],
           "y": [
            -0.36880565,
            -0.4284985
           ],
           "z": [
            -1.0552868,
            -1.036124
           ]
          },
          {
           "line": {
            "width": 10
           },
           "marker": {
            "size": 3
           },
           "mode": "lines+markers",
           "name": "RIGHT_LOWER_LEG",
           "type": "scatter3d",
           "x": [
            0.2529223,
            0.28971425
           ],
           "y": [
            -0.36639354,
            -0.40939158
           ],
           "z": [
            -1.040605,
            -1.0033897
           ]
          }
         ],
         "layout": {
          "title": {
           "text": "frame:450"
          }
         },
         "name": "450"
        },
        {
         "data": [
          {
           "line": {
            "width": 10
           },
           "marker": {
            "size": 3
           },
           "mode": "lines+markers",
           "name": "CLUB",
           "type": "scatter3d",
           "x": [
            0.28447685,
            0.12227417
           ],
           "y": [
            -0.19356854,
            -0.2642135
           ],
           "z": [
            -1.0440623,
            -0.97421896
           ]
          },
          {
           "line": {
            "width": 10
           },
           "marker": {
            "size": 3
           },
           "mode": "lines+markers",
           "name": "EYE",
           "type": "scatter3d",
           "x": [
            0.22950666,
            0.23158531
           ],
           "y": [
            -0.21099731,
            -0.2107273
           ],
           "z": [
            -1.0620689,
            -1.0550381
           ]
          },
          {
           "line": {
            "width": 10
           },
           "marker": {
            "size": 3
           },
           "mode": "lines+markers",
           "name": "SHOULDER",
           "type": "scatter3d",
           "x": [
            0.25593567,
            0.24221238
           ],
           "y": [
            -0.23612423,
            -0.22768776
           ],
           "z": [
            -1.0937518,
            -1.0347618
           ]
          },
          {
           "line": {
            "width": 10
           },
           "marker": {
            "size": 3
           },
           "mode": "lines+markers",
           "name": "LEFT_UPPER_ARM",
           "type": "scatter3d",
           "x": [
            0.25593567,
            0.26698473
           ],
           "y": [
            -0.23612423,
            -0.24343552
           ],
           "z": [
            -1.0937518,
            -1.1540853
           ]
          },
          {
           "line": {
            "width": 10
           },
           "marker": {
            "size": 3
           },
           "mode": "lines+markers",
           "name": "RIGHT_UPPER_ARM",
           "type": "scatter3d",
           "x": [
            0.24221238,
            0.26957783
           ],
           "y": [
            -0.22768776,
            -0.22028865
           ],
           "z": [
            -1.0347618,
            -1.0439551
           ]
          },
          {
           "line": {
            "width": 10
           },
           "marker": {
            "size": 3
           },
           "mode": "lines+markers",
           "name": "LEFT_FOREARM",
           "type": "scatter3d",
           "x": [
            0.26698473,
            0.2689193
           ],
           "y": [
            -0.24343552,
            -0.21553196
           ],
           "z": [
            -1.1540853,
            -1.1045513
           ]
          },
          {
           "line": {
            "width": 10
           },
           "marker": {
            "size": 3
           },
           "mode": "lines+markers",
           "name": "RIGHT_FOREARM",
           "type": "scatter3d",
           "x": [
            0.26957783,
            0.28699535
           ],
           "y": [
            -0.22028865,
            -0.20599732
           ],
           "z": [
            -1.0439551,
            -1.0519761
           ]
          },
          {
           "line": {
            "width": 10
           },
           "marker": {
            "size": 3
           },
           "mode": "lines+markers",
           "name": "HIP",
           "type": "scatter3d",
           "x": [
            0.24673846,
            0.24307947
           ],
           "y": [
            -0.31881818,
            -0.31017554
           ],
           "z": [
            -1.1048341,
            -1.0636376
           ]
          },
          {
           "line": {
            "width": 10
           },
           "marker": {
            "size": 3
           },
           "mode": "lines+markers",
           "name": "LEFT_BODY",
           "type": "scatter3d",
           "x": [
            0.25593567,
            0.24673846
           ],
           "y": [
            -0.23612423,
            -0.31881818
           ],
           "z": [
            -1.0937518,
            -1.1048341
           ]
          },
          {
           "line": {
            "width": 10
           },
           "marker": {
            "size": 3
           },
           "mode": "lines+markers",
           "name": "RIGHT_BODY",
           "type": "scatter3d",
           "x": [
            0.24221238,
            0.24307947
           ],
           "y": [
            -0.22768776,
            -0.31017554
           ],
           "z": [
            -1.0347618,
            -1.0636376
           ]
          },
          {
           "line": {
            "width": 10
           },
           "marker": {
            "size": 3
           },
           "mode": "lines+markers",
           "name": "LEFT_THIGH",
           "type": "scatter3d",
           "x": [
            0.24673846,
            0.22979987
           ],
           "y": [
            -0.31881818,
            -0.37049556
           ],
           "z": [
            -1.1048341,
            -1.0582682
           ]
          },
          {
           "line": {
            "width": 10
           },
           "marker": {
            "size": 3
           },
           "mode": "lines+markers",
           "name": "RIGHT_THIGH",
           "type": "scatter3d",
           "x": [
            0.24307947,
            0.25048274
           ],
           "y": [
            -0.31017554,
            -0.3707538
           ],
           "z": [
            -1.0636376,
            -1.0478497
           ]
          },
          {
           "line": {
            "width": 10
           },
           "marker": {
            "size": 3
           },
           "mode": "lines+markers",
           "name": "LEFT_LOWER_LEG",
           "type": "scatter3d",
           "x": [
            0.22979987,
            0.22008733
           ],
           "y": [
            -0.37049556,
            -0.43078282
           ],
           "z": [
            -1.0582682,
            -1.0404627
           ]
          },
          {
           "line": {
            "width": 10
           },
           "marker": {
            "size": 3
           },
           "mode": "lines+markers",
           "name": "RIGHT_LOWER_LEG",
           "type": "scatter3d",
           "x": [
            0.25048274,
            0.29200903
           ],
           "y": [
            -0.3707538,
            -0.41050467
           ],
           "z": [
            -1.0478497,
            -1.0018111
           ]
          }
         ],
         "layout": {
          "title": {
           "text": "frame:455"
          }
         },
         "name": "455"
        },
        {
         "data": [
          {
           "line": {
            "width": 10
           },
           "marker": {
            "size": 3
           },
           "mode": "lines+markers",
           "name": "CLUB",
           "type": "scatter3d",
           "x": [
            0.28800172,
            0.1504556
           ],
           "y": [
            -0.1894633,
            -0.2737484
           ],
           "z": [
            -1.0452771,
            -0.94525677
           ]
          },
          {
           "line": {
            "width": 10
           },
           "marker": {
            "size": 3
           },
           "mode": "lines+markers",
           "name": "EYE",
           "type": "scatter3d",
           "x": [
            0.23122096,
            0.2316206
           ],
           "y": [
            -0.20705561,
            -0.2081424
           ],
           "z": [
            -1.0583267,
            -1.0525379
           ]
          },
          {
           "line": {
            "width": 10
           },
           "marker": {
            "size": 3
           },
           "mode": "lines+markers",
           "name": "SHOULDER",
           "type": "scatter3d",
           "x": [
            0.26699367,
            0.2352761
           ],
           "y": [
            -0.22755188,
            -0.23284289
           ],
           "z": [
            -1.0766282,
            -1.0509412
           ]
          },
          {
           "line": {
            "width": 10
           },
           "marker": {
            "size": 3
           },
           "mode": "lines+markers",
           "name": "LEFT_UPPER_ARM",
           "type": "scatter3d",
           "x": [
            0.26699367,
            0.29800072
           ],
           "y": [
            -0.22755188,
            -0.21543033
           ],
           "z": [
            -1.0766282,
            -1.0918909
           ]
          },
          {
           "line": {
            "width": 10
           },
           "marker": {
            "size": 3
           },
           "mode": "lines+markers",
           "name": "RIGHT_UPPER_ARM",
           "type": "scatter3d",
           "x": [
            0.2352761,
            0.2489135
           ],
           "y": [
            -0.23284289,
            -0.22688015
           ],
           "z": [
            -1.0509412,
            -1.0832375
           ]
          },
          {
           "line": {
            "width": 10
           },
           "marker": {
            "size": 3
           },
           "mode": "lines+markers",
           "name": "LEFT_FOREARM",
           "type": "scatter3d",
           "x": [
            0.29800072,
            0.29706505
           ],
           "y": [
            -0.21543033,
            -0.19465525
           ],
           "z": [
            -1.0918909,
            -1.0642178
           ]
          },
          {
           "line": {
            "width": 10
           },
           "marker": {
            "size": 3
           },
           "mode": "lines+markers",
           "name": "RIGHT_FOREARM",
           "type": "scatter3d",
           "x": [
            0.2489135,
            0.27923304
           ],
           "y": [
            -0.22688015,
            -0.20258543
           ],
           "z": [
            -1.0832375,
            -1.083669
           ]
          },
          {
           "line": {
            "width": 10
           },
           "marker": {
            "size": 3
           },
           "mode": "lines+markers",
           "name": "HIP",
           "type": "scatter3d",
           "x": [
            0.2517314,
            0.23765491
           ],
           "y": [
            -0.312172,
            -0.31175792
           ],
           "z": [
            -1.0925398,
            -1.0722864
           ]
          },
          {
           "line": {
            "width": 10
           },
           "marker": {
            "size": 3
           },
           "mode": "lines+markers",
           "name": "LEFT_BODY",
           "type": "scatter3d",
           "x": [
            0.26699367,
            0.2517314
           ],
           "y": [
            -0.22755188,
            -0.312172
           ],
           "z": [
            -1.0766282,
            -1.0925398
           ]
          },
          {
           "line": {
            "width": 10
           },
           "marker": {
            "size": 3
           },
           "mode": "lines+markers",
           "name": "RIGHT_BODY",
           "type": "scatter3d",
           "x": [
            0.2352761,
            0.23765491
           ],
           "y": [
            -0.23284289,
            -0.31175792
           ],
           "z": [
            -1.0509412,
            -1.0722864
           ]
          },
          {
           "line": {
            "width": 10
           },
           "marker": {
            "size": 3
           },
           "mode": "lines+markers",
           "name": "LEFT_THIGH",
           "type": "scatter3d",
           "x": [
            0.2517314,
            0.2300779
           ],
           "y": [
            -0.312172,
            -0.36852416
           ],
           "z": [
            -1.0925398,
            -1.059637
           ]
          },
          {
           "line": {
            "width": 10
           },
           "marker": {
            "size": 3
           },
           "mode": "lines+markers",
           "name": "RIGHT_THIGH",
           "type": "scatter3d",
           "x": [
            0.23765491,
            0.24903065
           ],
           "y": [
            -0.31175792,
            -0.36868036
           ],
           "z": [
            -1.0722864,
            -1.0450618
           ]
          },
          {
           "line": {
            "width": 10
           },
           "marker": {
            "size": 3
           },
           "mode": "lines+markers",
           "name": "LEFT_LOWER_LEG",
           "type": "scatter3d",
           "x": [
            0.2300779,
            0.23067248
           ],
           "y": [
            -0.36852416,
            -0.42270055
           ],
           "z": [
            -1.059637,
            -1.028648
           ]
          },
          {
           "line": {
            "width": 10
           },
           "marker": {
            "size": 3
           },
           "mode": "lines+markers",
           "name": "RIGHT_LOWER_LEG",
           "type": "scatter3d",
           "x": [
            0.24903065,
            0.2801598
           ],
           "y": [
            -0.36868036,
            -0.41554865
           ],
           "z": [
            -1.0450618,
            -1.0153488
           ]
          }
         ],
         "layout": {
          "title": {
           "text": "frame:460"
          }
         },
         "name": "460"
        },
        {
         "data": [
          {
           "line": {
            "width": 10
           },
           "marker": {
            "size": 3
           },
           "mode": "lines+markers",
           "name": "CLUB",
           "type": "scatter3d",
           "x": [
            0.28984421,
            0.18986516
           ],
           "y": [
            -0.18790126,
            -0.27573588
           ],
           "z": [
            -1.0445974,
            -0.92537457
           ]
          },
          {
           "line": {
            "width": 10
           },
           "marker": {
            "size": 3
           },
           "mode": "lines+markers",
           "name": "EYE",
           "type": "scatter3d",
           "x": [
            0.23193154,
            0.2345258
           ],
           "y": [
            -0.20734632,
            -0.20845793
           ],
           "z": [
            -1.0716261,
            -1.0643603
           ]
          },
          {
           "line": {
            "width": 10
           },
           "marker": {
            "size": 3
           },
           "mode": "lines+markers",
           "name": "SHOULDER",
           "type": "scatter3d",
           "x": [
            0.24367954,
            0.24582243
           ],
           "y": [
            -0.23521455,
            -0.22882687
           ],
           "z": [
            -1.1068442,
            -1.0320263
           ]
          },
          {
           "line": {
            "width": 10
           },
           "marker": {
            "size": 3
           },
           "mode": "lines+markers",
           "name": "LEFT_UPPER_ARM",
           "type": "scatter3d",
           "x": [
            0.24367954,
            0.24731544
           ],
           "y": [
            -0.23521455,
            -0.23715419
           ],
           "z": [
            -1.1068442,
            -1.1620216
           ]
          },
          {
           "line": {
            "width": 10
           },
           "marker": {
            "size": 3
           },
           "mode": "lines+markers",
           "name": "RIGHT_UPPER_ARM",
           "type": "scatter3d",
           "x": [
            0.24582243,
            0.27492648
           ],
           "y": [
            -0.22882687,
            -0.21506351
           ],
           "z": [
            -1.0320263,
            -1.0447059
           ]
          },
          {
           "line": {
            "width": 10
           },
           "marker": {
            "size": 3
           },
           "mode": "lines+markers",
           "name": "LEFT_FOREARM",
           "type": "scatter3d",
           "x": [
            0.24731544,
            0.2421359
           ],
           "y": [
            -0.23715419,
            -0.22594081
           ],
           "z": [
            -1.1620216,
            -1.135915
           ]
          },
          {
           "line": {
            "width": 10
           },
           "marker": {
            "size": 3
           },
           "mode": "lines+markers",
           "name": "RIGHT_FOREARM",
           "type": "scatter3d",
           "x": [
            0.27492648,
            0.2920844
           ],
           "y": [
            -0.21506351,
            -0.19067807
           ],
           "z": [
            -1.0447059,
            -1.0700723
           ]
          },
          {
           "line": {
            "width": 10
           },
           "marker": {
            "size": 3
           },
           "mode": "lines+markers",
           "name": "HIP",
           "type": "scatter3d",
           "x": [
            0.24015963,
            0.24089485
           ],
           "y": [
            -0.31560043,
            -0.30941916
           ],
           "z": [
            -1.1066784,
            -1.0645193
           ]
          },
          {
           "line": {
            "width": 10
           },
           "marker": {
            "size": 3
           },
           "mode": "lines+markers",
           "name": "LEFT_BODY",
           "type": "scatter3d",
           "x": [
            0.24367954,
            0.24015963
           ],
           "y": [
            -0.23521455,
            -0.31560043
           ],
           "z": [
            -1.1068442,
            -1.1066784
           ]
          },
          {
           "line": {
            "width": 10
           },
           "marker": {
            "size": 3
           },
           "mode": "lines+markers",
           "name": "RIGHT_BODY",
           "type": "scatter3d",
           "x": [
            0.24582243,
            0.24089485
           ],
           "y": [
            -0.22882687,
            -0.30941916
           ],
           "z": [
            -1.0320263,
            -1.0645193
           ]
          },
          {
           "line": {
            "width": 10
           },
           "marker": {
            "size": 3
           },
           "mode": "lines+markers",
           "name": "LEFT_THIGH",
           "type": "scatter3d",
           "x": [
            0.24015963,
            0.24363554
           ],
           "y": [
            -0.31560043,
            -0.3613976
           ],
           "z": [
            -1.1066784,
            -1.0424609
           ]
          },
          {
           "line": {
            "width": 10
           },
           "marker": {
            "size": 3
           },
           "mode": "lines+markers",
           "name": "RIGHT_THIGH",
           "type": "scatter3d",
           "x": [
            0.24089485,
            0.23410992
           ],
           "y": [
            -0.30941916,
            -0.37659484
           ],
           "z": [
            -1.0645193,
            -1.063753
           ]
          },
          {
           "line": {
            "width": 10
           },
           "marker": {
            "size": 3
           },
           "mode": "lines+markers",
           "name": "LEFT_LOWER_LEG",
           "type": "scatter3d",
           "x": [
            0.24363554,
            0.2568298
           ],
           "y": [
            -0.3613976,
            -0.403751
           ],
           "z": [
            -1.0424609,
            -0.99593586
           ]
          },
          {
           "line": {
            "width": 10
           },
           "marker": {
            "size": 3
           },
           "mode": "lines+markers",
           "name": "RIGHT_LOWER_LEG",
           "type": "scatter3d",
           "x": [
            0.23410992,
            0.2482868
           ],
           "y": [
            -0.37659484,
            -0.43662173
           ],
           "z": [
            -1.063753,
            -1.0562183
           ]
          }
         ],
         "layout": {
          "title": {
           "text": "frame:465"
          }
         },
         "name": "465"
        },
        {
         "data": [
          {
           "line": {
            "width": 10
           },
           "marker": {
            "size": 3
           },
           "mode": "lines+markers",
           "name": "CLUB",
           "type": "scatter3d",
           "x": [
            0.28808954,
            0.24270493
           ],
           "y": [
            -0.18383272,
            -0.26979694
           ],
           "z": [
            -1.053698,
            -0.90242183
           ]
          },
          {
           "line": {
            "width": 10
           },
           "marker": {
            "size": 3
           },
           "mode": "lines+markers",
           "name": "EYE",
           "type": "scatter3d",
           "x": [
            0.23197237,
            0.23480543
           ],
           "y": [
            -0.20499803,
            -0.20607771
           ],
           "z": [
            -1.0715119,
            -1.0645999
           ]
          },
          {
           "line": {
            "width": 10
           },
           "marker": {
            "size": 3
           },
           "mode": "lines+markers",
           "name": "SHOULDER",
           "type": "scatter3d",
           "x": [
            0.2613791,
            0.23355791
           ],
           "y": [
            -0.22818981,
            -0.23131378
           ],
           "z": [
            -1.0702479,
            -1.0486073
           ]
          },
          {
           "line": {
            "width": 10
           },
           "marker": {
            "size": 3
           },
           "mode": "lines+markers",
           "name": "LEFT_UPPER_ARM",
           "type": "scatter3d",
           "x": [
            0.2613791,
            0.28798488
           ],
           "y": [
            -0.22818981,
            -0.21326631
           ],
           "z": [
            -1.0702479,
            -1.0843632
           ]
          },
          {
           "line": {
            "width": 10
           },
           "marker": {
            "size": 3
           },
           "mode": "lines+markers",
           "name": "RIGHT_UPPER_ARM",
           "type": "scatter3d",
           "x": [
            0.23355791,
            0.2538227
           ],
           "y": [
            -0.23131378,
            -0.21604334
           ],
           "z": [
            -1.0486073,
            -1.0718275
           ]
          },
          {
           "line": {
            "width": 10
           },
           "marker": {
            "size": 3
           },
           "mode": "lines+markers",
           "name": "LEFT_FOREARM",
           "type": "scatter3d",
           "x": [
            0.28798488,
            0.29201964
           ],
           "y": [
            -0.21326631,
            -0.18934906
           ],
           "z": [
            -1.0843632,
            -1.0764418
           ]
          },
          {
           "line": {
            "width": 10
           },
           "marker": {
            "size": 3
           },
           "mode": "lines+markers",
           "name": "RIGHT_FOREARM",
           "type": "scatter3d",
           "x": [
            0.2538227,
            0.282545
           ],
           "y": [
            -0.21604334,
            -0.19239165
           ],
           "z": [
            -1.0718275,
            -1.0960761
           ]
          },
          {
           "line": {
            "width": 10
           },
           "marker": {
            "size": 3
           },
           "mode": "lines+markers",
           "name": "HIP",
           "type": "scatter3d",
           "x": [
            0.24847941,
            0.2375898
           ],
           "y": [
            -0.31062427,
            -0.3094005
           ],
           "z": [
            -1.0868413,
            -1.0688462
           ]
          },
          {
           "line": {
            "width": 10
           },
           "marker": {
            "size": 3
           },
           "mode": "lines+markers",
           "name": "LEFT_BODY",
           "type": "scatter3d",
           "x": [
            0.2613791,
            0.24847941
           ],
           "y": [
            -0.22818981,
            -0.31062427
           ],
           "z": [
            -1.0702479,
            -1.0868413
           ]
          },
          {
           "line": {
            "width": 10
           },
           "marker": {
            "size": 3
           },
           "mode": "lines+markers",
           "name": "RIGHT_BODY",
           "type": "scatter3d",
           "x": [
            0.23355791,
            0.2375898
           ],
           "y": [
            -0.23131378,
            -0.3094005
           ],
           "z": [
            -1.0486073,
            -1.0688462
           ]
          },
          {
           "line": {
            "width": 10
           },
           "marker": {
            "size": 3
           },
           "mode": "lines+markers",
           "name": "LEFT_THIGH",
           "type": "scatter3d",
           "x": [
            0.24847941,
            0.22906493
           ],
           "y": [
            -0.31062427,
            -0.3678656
           ],
           "z": [
            -1.0868413,
            -1.0573138
           ]
          },
          {
           "line": {
            "width": 10
           },
           "marker": {
            "size": 3
           },
           "mode": "lines+markers",
           "name": "RIGHT_THIGH",
           "type": "scatter3d",
           "x": [
            0.2375898,
            0.24794126
           ],
           "y": [
            -0.3094005,
            -0.36901373
           ],
           "z": [
            -1.0688462,
            -1.0454549
           ]
          },
          {
           "line": {
            "width": 10
           },
           "marker": {
            "size": 3
           },
           "mode": "lines+markers",
           "name": "LEFT_LOWER_LEG",
           "type": "scatter3d",
           "x": [
            0.22906493,
            0.22255845
           ],
           "y": [
            -0.3678656,
            -0.4254848
           ],
           "z": [
            -1.0573138,
            -1.0340624
           ]
          },
          {
           "line": {
            "width": 10
           },
           "marker": {
            "size": 3
           },
           "mode": "lines+markers",
           "name": "RIGHT_LOWER_LEG",
           "type": "scatter3d",
           "x": [
            0.24794126,
            0.29124054
           ],
           "y": [
            -0.36901373,
            -0.4070102
           ],
           "z": [
            -1.0454549,
            -0.9997062
           ]
          }
         ],
         "layout": {
          "title": {
           "text": "frame:470"
          }
         },
         "name": "470"
        },
        {
         "data": [
          {
           "line": {
            "width": 10
           },
           "marker": {
            "size": 3
           },
           "mode": "lines+markers",
           "name": "CLUB",
           "type": "scatter3d",
           "x": [
            0.28938773,
            0.29541594
           ],
           "y": [
            -0.18107656,
            -0.25718546
           ],
           "z": [
            -1.0589789,
            -0.8986484
           ]
          },
          {
           "line": {
            "width": 10
           },
           "marker": {
            "size": 3
           },
           "mode": "lines+markers",
           "name": "EYE",
           "type": "scatter3d",
           "x": [
            0.23201162,
            0.23399661
           ],
           "y": [
            -0.20526634,
            -0.20644456
           ],
           "z": [
            -1.07614,
            -1.0706279
           ]
          },
          {
           "line": {
            "width": 10
           },
           "marker": {
            "size": 3
           },
           "mode": "lines+markers",
           "name": "SHOULDER",
           "type": "scatter3d",
           "x": [
            0.25885302,
            0.2305598
           ],
           "y": [
            -0.22688116,
            -0.23067039
           ],
           "z": [
            -1.0705512,
            -1.0495347
           ]
          },
          {
           "line": {
            "width": 10
           },
           "marker": {
            "size": 3
           },
           "mode": "lines+markers",
           "name": "LEFT_UPPER_ARM",
           "type": "scatter3d",
           "x": [
            0.25885302,
            0.28302175
           ],
           "y": [
            -0.22688116,
            -0.21105215
           ],
           "z": [
            -1.0705512,
            -1.0875816
           ]
          },
          {
           "line": {
            "width": 10
           },
           "marker": {
            "size": 3
           },
           "mode": "lines+markers",
           "name": "RIGHT_UPPER_ARM",
           "type": "scatter3d",
           "x": [
            0.2305598,
            0.2503029
           ],
           "y": [
            -0.23067039,
            -0.21565299
           ],
           "z": [
            -1.0495347,
            -1.0643128
           ]
          },
          {
           "line": {
            "width": 10
           },
           "marker": {
            "size": 3
           },
           "mode": "lines+markers",
           "name": "LEFT_FOREARM",
           "type": "scatter3d",
           "x": [
            0.28302175,
            0.28961694
           ],
           "y": [
            -0.21105215,
            -0.18757784
           ],
           "z": [
            -1.0875816,
            -1.0757582
           ]
          },
          {
           "line": {
            "width": 10
           },
           "marker": {
            "size": 3
           },
           "mode": "lines+markers",
           "name": "RIGHT_FOREARM",
           "type": "scatter3d",
           "x": [
            0.2503029,
            0.28115913
           ],
           "y": [
            -0.21565299,
            -0.19155712
           ],
           "z": [
            -1.0643128,
            -1.078687
           ]
          },
          {
           "line": {
            "width": 10
           },
           "marker": {
            "size": 3
           },
           "mode": "lines+markers",
           "name": "HIP",
           "type": "scatter3d",
           "x": [
            0.24885663,
            0.23748778
           ],
           "y": [
            -0.3089331,
            -0.30783865
           ],
           "z": [
            -1.0847417,
            -1.0680627
           ]
          },
          {
           "line": {
            "width": 10
           },
           "marker": {
            "size": 3
           },
           "mode": "lines+markers",
           "name": "LEFT_BODY",
           "type": "scatter3d",
           "x": [
            0.25885302,
            0.24885663
           ],
           "y": [
            -0.22688116,
            -0.3089331
           ],
           "z": [
            -1.0705512,
            -1.0847417
           ]
          },
          {
           "line": {
            "width": 10
           },
           "marker": {
            "size": 3
           },
           "mode": "lines+markers",
           "name": "RIGHT_BODY",
           "type": "scatter3d",
           "x": [
            0.2305598,
            0.23748778
           ],
           "y": [
            -0.23067039,
            -0.30783865
           ],
           "z": [
            -1.0495347,
            -1.0680627
           ]
          },
          {
           "line": {
            "width": 10
           },
           "marker": {
            "size": 3
           },
           "mode": "lines+markers",
           "name": "LEFT_THIGH",
           "type": "scatter3d",
           "x": [
            0.24885663,
            0.22936209
           ],
           "y": [
            -0.3089331,
            -0.36721143
           ],
           "z": [
            -1.0847417,
            -1.0555291
           ]
          },
          {
           "line": {
            "width": 10
           },
           "marker": {
            "size": 3
           },
           "mode": "lines+markers",
           "name": "RIGHT_THIGH",
           "type": "scatter3d",
           "x": [
            0.23748778,
            0.24925716
           ],
           "y": [
            -0.30783865,
            -0.3676668
           ],
           "z": [
            -1.0680627,
            -1.0439607
           ]
          },
          {
           "line": {
            "width": 10
           },
           "marker": {
            "size": 3
           },
           "mode": "lines+markers",
           "name": "LEFT_LOWER_LEG",
           "type": "scatter3d",
           "x": [
            0.22936209,
            0.22171625
           ],
           "y": [
            -0.36721143,
            -0.42660528
           ],
           "z": [
            -1.0555291,
            -1.0346116
           ]
          },
          {
           "line": {
            "width": 10
           },
           "marker": {
            "size": 3
           },
           "mode": "lines+markers",
           "name": "RIGHT_LOWER_LEG",
           "type": "scatter3d",
           "x": [
            0.24925716,
            0.29126918
           ],
           "y": [
            -0.3676668,
            -0.4066235
           ],
           "z": [
            -1.0439607,
            -0.99970794
           ]
          }
         ],
         "layout": {
          "title": {
           "text": "frame:475"
          }
         },
         "name": "475"
        },
        {
         "data": [
          {
           "line": {
            "width": 10
           },
           "marker": {
            "size": 3
           },
           "mode": "lines+markers",
           "name": "CLUB",
           "type": "scatter3d",
           "x": [
            0.29096058,
            0.34852093
           ],
           "y": [
            -0.1767123,
            -0.22128084
           ],
           "z": [
            -1.0686429,
            -0.91625744
           ]
          },
          {
           "line": {
            "width": 10
           },
           "marker": {
            "size": 3
           },
           "mode": "lines+markers",
           "name": "EYE",
           "type": "scatter3d",
           "x": [
            0.23243178,
            0.23222093
           ],
           "y": [
            -0.20378645,
            -0.20544662
           ],
           "z": [
            -1.0736978,
            -1.0699829
           ]
          },
          {
           "line": {
            "width": 10
           },
           "marker": {
            "size": 3
           },
           "mode": "lines+markers",
           "name": "SHOULDER",
           "type": "scatter3d",
           "x": [
            0.26136714,
            0.23023783
           ],
           "y": [
            -0.22559133,
            -0.2326073
           ],
           "z": [
            -1.0674154,
            -1.0572687
           ]
          },
          {
           "line": {
            "width": 10
           },
           "marker": {
            "size": 3
           },
           "mode": "lines+markers",
           "name": "LEFT_UPPER_ARM",
           "type": "scatter3d",
           "x": [
            0.26136714,
            0.2795254
           ],
           "y": [
            -0.22559133,
            -0.21064328
           ],
           "z": [
            -1.0674154,
            -1.0862373
           ]
          },
          {
           "line": {
            "width": 10
           },
           "marker": {
            "size": 3
           },
           "mode": "lines+markers",
           "name": "RIGHT_UPPER_ARM",
           "type": "scatter3d",
           "x": [
            0.23023783,
            0.23868404
           ],
           "y": [
            -0.2326073,
            -0.22042927
           ],
           "z": [
            -1.0572687,
            -1.0891988
           ]
          },
          {
           "line": {
            "width": 10
           },
           "marker": {
            "size": 3
           },
           "mode": "lines+markers",
           "name": "LEFT_FOREARM",
           "type": "scatter3d",
           "x": [
            0.2795254,
            0.28245515
           ],
           "y": [
            -0.21064328,
            -0.18815525
           ],
           "z": [
            -1.0862373,
            -1.0803547
           ]
          },
          {
           "line": {
            "width": 10
           },
           "marker": {
            "size": 3
           },
           "mode": "lines+markers",
           "name": "RIGHT_FOREARM",
           "type": "scatter3d",
           "x": [
            0.23868404,
            0.27187836
           ],
           "y": [
            -0.22042927,
            -0.19015163
           ],
           "z": [
            -1.0891988,
            -1.0926658
           ]
          },
          {
           "line": {
            "width": 10
           },
           "marker": {
            "size": 3
           },
           "mode": "lines+markers",
           "name": "HIP",
           "type": "scatter3d",
           "x": [
            0.25198576,
            0.23764908
           ],
           "y": [
            -0.3070548,
            -0.30914462
           ],
           "z": [
            -1.0797541,
            -1.0719703
           ]
          },
          {
           "line": {
            "width": 10
           },
           "marker": {
            "size": 3
           },
           "mode": "lines+markers",
           "name": "LEFT_BODY",
           "type": "scatter3d",
           "x": [
            0.26136714,
            0.25198576
           ],
           "y": [
            -0.22559133,
            -0.3070548
           ],
           "z": [
            -1.0674154,
            -1.0797541
           ]
          },
          {
           "line": {
            "width": 10
           },
           "marker": {
            "size": 3
           },
           "mode": "lines+markers",
           "name": "RIGHT_BODY",
           "type": "scatter3d",
           "x": [
            0.23023783,
            0.23764908
           ],
           "y": [
            -0.2326073,
            -0.30914462
           ],
           "z": [
            -1.0572687,
            -1.0719703
           ]
          },
          {
           "line": {
            "width": 10
           },
           "marker": {
            "size": 3
           },
           "mode": "lines+markers",
           "name": "LEFT_THIGH",
           "type": "scatter3d",
           "x": [
            0.25198576,
            0.23082374
           ],
           "y": [
            -0.3070548,
            -0.3659906
           ],
           "z": [
            -1.0797541,
            -1.055866
           ]
          },
          {
           "line": {
            "width": 10
           },
           "marker": {
            "size": 3
           },
           "mode": "lines+markers",
           "name": "RIGHT_THIGH",
           "type": "scatter3d",
           "x": [
            0.23764908,
            0.24805044
           ],
           "y": [
            -0.30914462,
            -0.36789748
           ],
           "z": [
            -1.0719703,
            -1.0449858
           ]
          },
          {
           "line": {
            "width": 10
           },
           "marker": {
            "size": 3
           },
           "mode": "lines+markers",
           "name": "LEFT_LOWER_LEG",
           "type": "scatter3d",
           "x": [
            0.23082374,
            0.22946428
           ],
           "y": [
            -0.3659906,
            -0.4204653
           ],
           "z": [
            -1.055866,
            -1.0264174
           ]
          },
          {
           "line": {
            "width": 10
           },
           "marker": {
            "size": 3
           },
           "mode": "lines+markers",
           "name": "RIGHT_LOWER_LEG",
           "type": "scatter3d",
           "x": [
            0.24805044,
            0.2791456
           ],
           "y": [
            -0.36789748,
            -0.4150131
           ],
           "z": [
            -1.0449858,
            -1.0171618
           ]
          }
         ],
         "layout": {
          "title": {
           "text": "frame:480"
          }
         },
         "name": "480"
        },
        {
         "data": [
          {
           "line": {
            "width": 10
           },
           "marker": {
            "size": 3
           },
           "mode": "lines+markers",
           "name": "CLUB",
           "type": "scatter3d",
           "x": [
            0.28914565,
            0.39202467
           ],
           "y": [
            -0.17380221,
            -0.20696235
           ],
           "z": [
            -1.0777465,
            -0.9433167
           ]
          },
          {
           "line": {
            "width": 10
           },
           "marker": {
            "size": 3
           },
           "mode": "lines+markers",
           "name": "EYE",
           "type": "scatter3d",
           "x": [
            0.2306573,
            0.23025054
           ],
           "y": [
            -0.203985,
            -0.20547843
           ],
           "z": [
            -1.0703356,
            -1.0658863
           ]
          },
          {
           "line": {
            "width": 10
           },
           "marker": {
            "size": 3
           },
           "mode": "lines+markers",
           "name": "SHOULDER",
           "type": "scatter3d",
           "x": [
            0.2617636,
            0.23123392
           ],
           "y": [
            -0.22725022,
            -0.23074277
           ],
           "z": [
            -1.0732973,
            -1.0598212
           ]
          },
          {
           "line": {
            "width": 10
           },
           "marker": {
            "size": 3
           },
           "mode": "lines+markers",
           "name": "LEFT_UPPER_ARM",
           "type": "scatter3d",
           "x": [
            0.2617636,
            0.2789683
           ],
           "y": [
            -0.22725022,
            -0.20936963
           ],
           "z": [
            -1.0732973,
            -1.0861198
           ]
          },
          {
           "line": {
            "width": 10
           },
           "marker": {
            "size": 3
           },
           "mode": "lines+markers",
           "name": "RIGHT_UPPER_ARM",
           "type": "scatter3d",
           "x": [
            0.23123392,
            0.24298708
           ],
           "y": [
            -0.23074277,
            -0.20952916
           ],
           "z": [
            -1.0598212,
            -1.0816365
           ]
          },
          {
           "line": {
            "width": 10
           },
           "marker": {
            "size": 3
           },
           "mode": "lines+markers",
           "name": "LEFT_FOREARM",
           "type": "scatter3d",
           "x": [
            0.2789683,
            0.28119433
           ],
           "y": [
            -0.20936963,
            -0.18321174
           ],
           "z": [
            -1.0861198,
            -1.0728455
           ]
          },
          {
           "line": {
            "width": 10
           },
           "marker": {
            "size": 3
           },
           "mode": "lines+markers",
           "name": "RIGHT_FOREARM",
           "type": "scatter3d",
           "x": [
            0.24298708,
            0.2750435
           ],
           "y": [
            -0.20952916,
            -0.17994872
           ],
           "z": [
            -1.0816365,
            -1.0847032
           ]
          },
          {
           "line": {
            "width": 10
           },
           "marker": {
            "size": 3
           },
           "mode": "lines+markers",
           "name": "HIP",
           "type": "scatter3d",
           "x": [
            0.25213763,
            0.2387805
           ],
           "y": [
            -0.3094846,
            -0.30963996
           ],
           "z": [
            -1.0838573,
            -1.0725527
           ]
          },
          {
           "line": {
            "width": 10
           },
           "marker": {
            "size": 3
           },
           "mode": "lines+markers",
           "name": "LEFT_BODY",
           "type": "scatter3d",
           "x": [
            0.2617636,
            0.25213763
           ],
           "y": [
            -0.22725022,
            -0.3094846
           ],
           "z": [
            -1.0732973,
            -1.0838573
           ]
          },
          {
           "line": {
            "width": 10
           },
           "marker": {
            "size": 3
           },
           "mode": "lines+markers",
           "name": "RIGHT_BODY",
           "type": "scatter3d",
           "x": [
            0.23123392,
            0.2387805
           ],
           "y": [
            -0.23074277,
            -0.30963996
           ],
           "z": [
            -1.0598212,
            -1.0725527
           ]
          },
          {
           "line": {
            "width": 10
           },
           "marker": {
            "size": 3
           },
           "mode": "lines+markers",
           "name": "LEFT_THIGH",
           "type": "scatter3d",
           "x": [
            0.25213763,
            0.2299044
           ],
           "y": [
            -0.3094846,
            -0.36760366
           ],
           "z": [
            -1.0838573,
            -1.0561458
           ]
          },
          {
           "line": {
            "width": 10
           },
           "marker": {
            "size": 3
           },
           "mode": "lines+markers",
           "name": "RIGHT_THIGH",
           "type": "scatter3d",
           "x": [
            0.2387805,
            0.25020605
           ],
           "y": [
            -0.30963996,
            -0.36653975
           ],
           "z": [
            -1.0725527,
            -1.0391033
           ]
          },
          {
           "line": {
            "width": 10
           },
           "marker": {
            "size": 3
           },
           "mode": "lines+markers",
           "name": "LEFT_LOWER_LEG",
           "type": "scatter3d",
           "x": [
            0.2299044,
            0.2260366
           ],
           "y": [
            -0.36760366,
            -0.42384455
           ],
           "z": [
            -1.0561458,
            -1.0316684
           ]
          },
          {
           "line": {
            "width": 10
           },
           "marker": {
            "size": 3
           },
           "mode": "lines+markers",
           "name": "RIGHT_LOWER_LEG",
           "type": "scatter3d",
           "x": [
            0.25020605,
            0.28460765
           ],
           "y": [
            -0.36653975,
            -0.4107889
           ],
           "z": [
            -1.0391033,
            -1.009263
           ]
          }
         ],
         "layout": {
          "title": {
           "text": "frame:485"
          }
         },
         "name": "485"
        },
        {
         "data": [
          {
           "line": {
            "width": 10
           },
           "marker": {
            "size": 3
           },
           "mode": "lines+markers",
           "name": "CLUB",
           "type": "scatter3d",
           "x": [
            0.2893281,
            0.42418995
           ],
           "y": [
            -0.16588032,
            -0.17102519
           ],
           "z": [
            -1.0856549,
            -0.9888322
           ]
          },
          {
           "line": {
            "width": 10
           },
           "marker": {
            "size": 3
           },
           "mode": "lines+markers",
           "name": "EYE",
           "type": "scatter3d",
           "x": [
            0.22910428,
            0.22958022
           ],
           "y": [
            -0.20434473,
            -0.20576194
           ],
           "z": [
            -1.0687541,
            -1.0615826
           ]
          },
          {
           "line": {
            "width": 10
           },
           "marker": {
            "size": 3
           },
           "mode": "lines+markers",
           "name": "SHOULDER",
           "type": "scatter3d",
           "x": [
            0.2611034,
            0.230933
           ],
           "y": [
            -0.224767,
            -0.23207425
           ],
           "z": [
            -1.0739092,
            -1.057931
           ]
          },
          {
           "line": {
            "width": 10
           },
           "marker": {
            "size": 3
           },
           "mode": "lines+markers",
           "name": "LEFT_UPPER_ARM",
           "type": "scatter3d",
           "x": [
            0.2611034,
            0.2757829
           ],
           "y": [
            -0.224767,
            -0.20442824
           ],
           "z": [
            -1.0739092,
            -1.0886852
           ]
          },
          {
           "line": {
            "width": 10
           },
           "marker": {
            "size": 3
           },
           "mode": "lines+markers",
           "name": "RIGHT_UPPER_ARM",
           "type": "scatter3d",
           "x": [
            0.230933,
            0.23228623
           ],
           "y": [
            -0.23207425,
            -0.21655932
           ],
           "z": [
            -1.057931,
            -1.0885226
           ]
          },
          {
           "line": {
            "width": 10
           },
           "marker": {
            "size": 3
           },
           "mode": "lines+markers",
           "name": "LEFT_FOREARM",
           "type": "scatter3d",
           "x": [
            0.2757829,
            0.27542254
           ],
           "y": [
            -0.20442824,
            -0.1791877
           ],
           "z": [
            -1.0886852,
            -1.0813098
           ]
          },
          {
           "line": {
            "width": 10
           },
           "marker": {
            "size": 3
           },
           "mode": "lines+markers",
           "name": "RIGHT_FOREARM",
           "type": "scatter3d",
           "x": [
            0.23228623,
            0.26127112
           ],
           "y": [
            -0.21655932,
            -0.18459593
           ],
           "z": [
            -1.0885226,
            -1.0972018
           ]
          },
          {
           "line": {
            "width": 10
           },
           "marker": {
            "size": 3
           },
           "mode": "lines+markers",
           "name": "HIP",
           "type": "scatter3d",
           "x": [
            0.25308827,
            0.2392383
           ],
           "y": [
            -0.30731317,
            -0.3092775
           ],
           "z": [
            -1.0827526,
            -1.0712773
           ]
          },
          {
           "line": {
            "width": 10
           },
           "marker": {
            "size": 3
           },
           "mode": "lines+markers",
           "name": "LEFT_BODY",
           "type": "scatter3d",
           "x": [
            0.2611034,
            0.25308827
           ],
           "y": [
            -0.224767,
            -0.30731317
           ],
           "z": [
            -1.0739092,
            -1.0827526
           ]
          },
          {
           "line": {
            "width": 10
           },
           "marker": {
            "size": 3
           },
           "mode": "lines+markers",
           "name": "RIGHT_BODY",
           "type": "scatter3d",
           "x": [
            0.230933,
            0.2392383
           ],
           "y": [
            -0.23207425,
            -0.3092775
           ],
           "z": [
            -1.057931,
            -1.0712773
           ]
          },
          {
           "line": {
            "width": 10
           },
           "marker": {
            "size": 3
           },
           "mode": "lines+markers",
           "name": "LEFT_THIGH",
           "type": "scatter3d",
           "x": [
            0.25308827,
            0.23136595
           ],
           "y": [
            -0.30731317,
            -0.36530066
           ],
           "z": [
            -1.0827526,
            -1.055671
           ]
          },
          {
           "line": {
            "width": 10
           },
           "marker": {
            "size": 3
           },
           "mode": "lines+markers",
           "name": "RIGHT_THIGH",
           "type": "scatter3d",
           "x": [
            0.2392383,
            0.24686106
           ],
           "y": [
            -0.3092775,
            -0.3683345
           ],
           "z": [
            -1.0712773,
            -1.0433553
           ]
          },
          {
           "line": {
            "width": 10
           },
           "marker": {
            "size": 3
           },
           "mode": "lines+markers",
           "name": "LEFT_LOWER_LEG",
           "type": "scatter3d",
           "x": [
            0.23136595,
            0.23257591
           ],
           "y": [
            -0.36530066,
            -0.4188762
           ],
           "z": [
            -1.055671,
            -1.0252522
           ]
          },
          {
           "line": {
            "width": 10
           },
           "marker": {
            "size": 3
           },
           "mode": "lines+markers",
           "name": "RIGHT_LOWER_LEG",
           "type": "scatter3d",
           "x": [
            0.24686106,
            0.27677557
           ],
           "y": [
            -0.3683345,
            -0.41690147
           ],
           "z": [
            -1.0433553,
            -1.0209415
           ]
          }
         ],
         "layout": {
          "title": {
           "text": "frame:490"
          }
         },
         "name": "490"
        },
        {
         "data": [
          {
           "line": {
            "width": 10
           },
           "marker": {
            "size": 3
           },
           "mode": "lines+markers",
           "name": "CLUB",
           "type": "scatter3d",
           "x": [
            0.2747124,
            0.43889573
           ],
           "y": [
            -0.16722761,
            -0.13110946
           ],
           "z": [
            -1.1085496,
            -1.0375963
           ]
          },
          {
           "line": {
            "width": 10
           },
           "marker": {
            "size": 3
           },
           "mode": "lines+markers",
           "name": "EYE",
           "type": "scatter3d",
           "x": [
            0.23501202,
            0.23433825
           ],
           "y": [
            -0.2031961,
            -0.2047297
           ],
           "z": [
            -1.0777509,
            -1.0757955
           ]
          },
          {
           "line": {
            "width": 10
           },
           "marker": {
            "size": 3
           },
           "mode": "lines+markers",
           "name": "SHOULDER",
           "type": "scatter3d",
           "x": [
            0.2634278,
            0.2280588
           ],
           "y": [
            -0.22486857,
            -0.23212692
           ],
           "z": [
            -1.0630628,
            -1.0593867
           ]
          },
          {
           "line": {
            "width": 10
           },
           "marker": {
            "size": 3
           },
           "mode": "lines+markers",
           "name": "LEFT_UPPER_ARM",
           "type": "scatter3d",
           "x": [
            0.2634278,
            0.2729459
           ],
           "y": [
            -0.22486857,
            -0.20886362
           ],
           "z": [
            -1.0630628,
            -1.0896584
           ]
          },
          {
           "line": {
            "width": 10
           },
           "marker": {
            "size": 3
           },
           "mode": "lines+markers",
           "name": "RIGHT_UPPER_ARM",
           "type": "scatter3d",
           "x": [
            0.2280588,
            0.2275607
           ],
           "y": [
            -0.23212692,
            -0.21798965
           ],
           "z": [
            -1.0593867,
            -1.0985225
           ]
          },
          {
           "line": {
            "width": 10
           },
           "marker": {
            "size": 3
           },
           "mode": "lines+markers",
           "name": "LEFT_FOREARM",
           "type": "scatter3d",
           "x": [
            0.2729459,
            0.26973584
           ],
           "y": [
            -0.20886362,
            -0.18250155
           ],
           "z": [
            -1.0896584,
            -1.0908953
           ]
          },
          {
           "line": {
            "width": 10
           },
           "marker": {
            "size": 3
           },
           "mode": "lines+markers",
           "name": "RIGHT_FOREARM",
           "type": "scatter3d",
           "x": [
            0.2275607,
            0.25084493
           ],
           "y": [
            -0.21798965,
            -0.18541448
           ],
           "z": [
            -1.0985225,
            -1.114878
           ]
          },
          {
           "line": {
            "width": 10
           },
           "marker": {
            "size": 3
           },
           "mode": "lines+markers",
           "name": "HIP",
           "type": "scatter3d",
           "x": [
            0.2528491,
            0.23759636
           ],
           "y": [
            -0.3065975,
            -0.3086108
           ],
           "z": [
            -1.0761061,
            -1.069668
           ]
          },
          {
           "line": {
            "width": 10
           },
           "marker": {
            "size": 3
           },
           "mode": "lines+markers",
           "name": "LEFT_BODY",
           "type": "scatter3d",
           "x": [
            0.2634278,
            0.2528491
           ],
           "y": [
            -0.22486857,
            -0.3065975
           ],
           "z": [
            -1.0630628,
            -1.0761061
           ]
          },
          {
           "line": {
            "width": 10
           },
           "marker": {
            "size": 3
           },
           "mode": "lines+markers",
           "name": "RIGHT_BODY",
           "type": "scatter3d",
           "x": [
            0.2280588,
            0.23759636
           ],
           "y": [
            -0.23212692,
            -0.3086108
           ],
           "z": [
            -1.0593867,
            -1.069668
           ]
          },
          {
           "line": {
            "width": 10
           },
           "marker": {
            "size": 3
           },
           "mode": "lines+markers",
           "name": "LEFT_THIGH",
           "type": "scatter3d",
           "x": [
            0.2528491,
            0.22982822
           ],
           "y": [
            -0.3065975,
            -0.3672595
           ],
           "z": [
            -1.0761061,
            -1.0575815
           ]
          },
          {
           "line": {
            "width": 10
           },
           "marker": {
            "size": 3
           },
           "mode": "lines+markers",
           "name": "RIGHT_THIGH",
           "type": "scatter3d",
           "x": [
            0.23759636,
            0.25099346
           ],
           "y": [
            -0.3086108,
            -0.3654836
           ],
           "z": [
            -1.069668,
            -1.035658
           ]
          },
          {
           "line": {
            "width": 10
           },
           "marker": {
            "size": 3
           },
           "mode": "lines+markers",
           "name": "LEFT_LOWER_LEG",
           "type": "scatter3d",
           "x": [
            0.22982822,
            0.22156298
           ],
           "y": [
            -0.3672595,
            -0.42612648
           ],
           "z": [
            -1.0575815,
            -1.0391243
           ]
          },
          {
           "line": {
            "width": 10
           },
           "marker": {
            "size": 3
           },
           "mode": "lines+markers",
           "name": "RIGHT_LOWER_LEG",
           "type": "scatter3d",
           "x": [
            0.25099346,
            0.2897061
           ],
           "y": [
            -0.3654836,
            -0.407265
           ],
           "z": [
            -1.035658,
            -0.99968696
           ]
          }
         ],
         "layout": {
          "title": {
           "text": "frame:495"
          }
         },
         "name": "495"
        },
        {
         "data": [
          {
           "line": {
            "width": 10
           },
           "marker": {
            "size": 3
           },
           "mode": "lines+markers",
           "name": "CLUB",
           "type": "scatter3d",
           "x": [
            0.26504725,
            0.43113667
           ],
           "y": [
            -0.16475654,
            -0.10027632
           ],
           "z": [
            -1.1185749,
            -1.0904976
           ]
          },
          {
           "line": {
            "width": 10
           },
           "marker": {
            "size": 3
           },
           "mode": "lines+markers",
           "name": "EYE",
           "type": "scatter3d",
           "x": [
            0.2363436,
            0.2354891
           ],
           "y": [
            -0.20141107,
            -0.2028302
           ],
           "z": [
            -1.0802115,
            -1.0789956
           ]
          },
          {
           "line": {
            "width": 10
           },
           "marker": {
            "size": 3
           },
           "mode": "lines+markers",
           "name": "SHOULDER",
           "type": "scatter3d",
           "x": [
            0.2641705,
            0.22653812
           ],
           "y": [
            -0.22399722,
            -0.23117037
           ],
           "z": [
            -1.060312,
            -1.0619354
           ]
          },
          {
           "line": {
            "width": 10
           },
           "marker": {
            "size": 3
           },
           "mode": "lines+markers",
           "name": "LEFT_UPPER_ARM",
           "type": "scatter3d",
           "x": [
            0.2641705,
            0.26985103
           ],
           "y": [
            -0.22399722,
            -0.20940492
           ],
           "z": [
            -1.060312,
            -1.0917488
           ]
          },
          {
           "line": {
            "width": 10
           },
           "marker": {
            "size": 3
           },
           "mode": "lines+markers",
           "name": "RIGHT_UPPER_ARM",
           "type": "scatter3d",
           "x": [
            0.22653812,
            0.22504102
           ],
           "y": [
            -0.23117037,
            -0.21714905
           ],
           "z": [
            -1.0619354,
            -1.0996414
           ]
          },
          {
           "line": {
            "width": 10
           },
           "marker": {
            "size": 3
           },
           "mode": "lines+markers",
           "name": "LEFT_FOREARM",
           "type": "scatter3d",
           "x": [
            0.26985103,
            0.26356134
           ],
           "y": [
            -0.20940492,
            -0.18157695
           ],
           "z": [
            -1.0917488,
            -1.0984614
           ]
          },
          {
           "line": {
            "width": 10
           },
           "marker": {
            "size": 3
           },
           "mode": "lines+markers",
           "name": "RIGHT_FOREARM",
           "type": "scatter3d",
           "x": [
            0.22504102,
            0.24207485
           ],
           "y": [
            -0.21714905,
            -0.18506394
           ],
           "z": [
            -1.0996414,
            -1.1202215
           ]
          },
          {
           "line": {
            "width": 10
           },
           "marker": {
            "size": 3
           },
           "mode": "lines+markers",
           "name": "HIP",
           "type": "scatter3d",
           "x": [
            0.2524035,
            0.23530321
           ],
           "y": [
            -0.30542374,
            -0.30778793
           ],
           "z": [
            -1.0767558,
            -1.0745766
           ]
          },
          {
           "line": {
            "width": 10
           },
           "marker": {
            "size": 3
           },
           "mode": "lines+markers",
           "name": "LEFT_BODY",
           "type": "scatter3d",
           "x": [
            0.2641705,
            0.2524035
           ],
           "y": [
            -0.22399722,
            -0.30542374
           ],
           "z": [
            -1.060312,
            -1.0767558
           ]
          },
          {
           "line": {
            "width": 10
           },
           "marker": {
            "size": 3
           },
           "mode": "lines+markers",
           "name": "RIGHT_BODY",
           "type": "scatter3d",
           "x": [
            0.22653812,
            0.23530321
           ],
           "y": [
            -0.23117037,
            -0.30778793
           ],
           "z": [
            -1.0619354,
            -1.0745766
           ]
          },
          {
           "line": {
            "width": 10
           },
           "marker": {
            "size": 3
           },
           "mode": "lines+markers",
           "name": "LEFT_THIGH",
           "type": "scatter3d",
           "x": [
            0.2524035,
            0.23136614
           ],
           "y": [
            -0.30542374,
            -0.36671853
           ],
           "z": [
            -1.0767558,
            -1.0545543
           ]
          },
          {
           "line": {
            "width": 10
           },
           "marker": {
            "size": 3
           },
           "mode": "lines+markers",
           "name": "RIGHT_THIGH",
           "type": "scatter3d",
           "x": [
            0.23530321,
            0.24880455
           ],
           "y": [
            -0.30778793,
            -0.3649391
           ],
           "z": [
            -1.0745766,
            -1.0397229
           ]
          },
          {
           "line": {
            "width": 10
           },
           "marker": {
            "size": 3
           },
           "mode": "lines+markers",
           "name": "LEFT_LOWER_LEG",
           "type": "scatter3d",
           "x": [
            0.23136614,
            0.22164956
           ],
           "y": [
            -0.36671853,
            -0.42683083
           ],
           "z": [
            -1.0545543,
            -1.0379384
           ]
          },
          {
           "line": {
            "width": 10
           },
           "marker": {
            "size": 3
           },
           "mode": "lines+markers",
           "name": "RIGHT_LOWER_LEG",
           "type": "scatter3d",
           "x": [
            0.24880455,
            0.28750116
           ],
           "y": [
            -0.3649391,
            -0.40931052
           ],
           "z": [
            -1.0397229,
            -1.0019368
           ]
          }
         ],
         "layout": {
          "title": {
           "text": "frame:500"
          }
         },
         "name": "500"
        },
        {
         "data": [
          {
           "line": {
            "width": 10
           },
           "marker": {
            "size": 3
           },
           "mode": "lines+markers",
           "name": "CLUB",
           "type": "scatter3d",
           "x": [
            0.25397047,
            0.41451764
           ],
           "y": [
            -0.16683064,
            -0.07616864
           ],
           "z": [
            -1.127157,
            -1.134315
           ]
          },
          {
           "line": {
            "width": 10
           },
           "marker": {
            "size": 3
           },
           "mode": "lines+markers",
           "name": "EYE",
           "type": "scatter3d",
           "x": [
            0.23623213,
            0.23466107
           ],
           "y": [
            -0.20070566,
            -0.20224483
           ],
           "z": [
            -1.0756968,
            -1.0734234
           ]
          },
          {
           "line": {
            "width": 10
           },
           "marker": {
            "size": 3
           },
           "mode": "lines+markers",
           "name": "SHOULDER",
           "type": "scatter3d",
           "x": [
            0.26634938,
            0.2291388
           ],
           "y": [
            -0.22481793,
            -0.23135673
           ],
           "z": [
            -1.0615876,
            -1.0544779
           ]
          },
          {
           "line": {
            "width": 10
           },
           "marker": {
            "size": 3
           },
           "mode": "lines+markers",
           "name": "LEFT_UPPER_ARM",
           "type": "scatter3d",
           "x": [
            0.26634938,
            0.27712873
           ],
           "y": [
            -0.22481793,
            -0.21531512
           ],
           "z": [
            -1.0615876,
            -1.0898272
           ]
          },
          {
           "line": {
            "width": 10
           },
           "marker": {
            "size": 3
           },
           "mode": "lines+markers",
           "name": "RIGHT_UPPER_ARM",
           "type": "scatter3d",
           "x": [
            0.2291388,
            0.21962996
           ],
           "y": [
            -0.23135673,
            -0.22555013
           ],
           "z": [
            -1.0544779,
            -1.1047939
           ]
          },
          {
           "line": {
            "width": 10
           },
           "marker": {
            "size": 3
           },
           "mode": "lines+markers",
           "name": "LEFT_FOREARM",
           "type": "scatter3d",
           "x": [
            0.27712873,
            0.27058157
           ],
           "y": [
            -0.21531512,
            -0.18995057
           ],
           "z": [
            -1.0898272,
            -1.0907264
           ]
          },
          {
           "line": {
            "width": 10
           },
           "marker": {
            "size": 3
           },
           "mode": "lines+markers",
           "name": "RIGHT_FOREARM",
           "type": "scatter3d",
           "x": [
            0.21962996,
            0.23487443
           ],
           "y": [
            -0.22555013,
            -0.1914877
           ],
           "z": [
            -1.1047939,
            -1.1293309
           ]
          },
          {
           "line": {
            "width": 10
           },
           "marker": {
            "size": 3
           },
           "mode": "lines+markers",
           "name": "HIP",
           "type": "scatter3d",
           "x": [
            0.2537762,
            0.23732832
           ],
           "y": [
            -0.30663463,
            -0.3080871
           ],
           "z": [
            -1.0791236,
            -1.0703146
           ]
          },
          {
           "line": {
            "width": 10
           },
           "marker": {
            "size": 3
           },
           "mode": "lines+markers",
           "name": "LEFT_BODY",
           "type": "scatter3d",
           "x": [
            0.26634938,
            0.2537762
           ],
           "y": [
            -0.22481793,
            -0.30663463
           ],
           "z": [
            -1.0615876,
            -1.0791236
           ]
          },
          {
           "line": {
            "width": 10
           },
           "marker": {
            "size": 3
           },
           "mode": "lines+markers",
           "name": "RIGHT_BODY",
           "type": "scatter3d",
           "x": [
            0.2291388,
            0.23732832
           ],
           "y": [
            -0.23135673,
            -0.3080871
           ],
           "z": [
            -1.0544779,
            -1.0703146
           ]
          },
          {
           "line": {
            "width": 10
           },
           "marker": {
            "size": 3
           },
           "mode": "lines+markers",
           "name": "LEFT_THIGH",
           "type": "scatter3d",
           "x": [
            0.2537762,
            0.22945026
           ],
           "y": [
            -0.30663463,
            -0.36631024
           ],
           "z": [
            -1.0791236,
            -1.0569749
           ]
          },
          {
           "line": {
            "width": 10
           },
           "marker": {
            "size": 3
           },
           "mode": "lines+markers",
           "name": "RIGHT_THIGH",
           "type": "scatter3d",
           "x": [
            0.23732832,
            0.24950877
           ],
           "y": [
            -0.3080871,
            -0.36484328
           ],
           "z": [
            -1.0703146,
            -1.0387001
           ]
          },
          {
           "line": {
            "width": 10
           },
           "marker": {
            "size": 3
           },
           "mode": "lines+markers",
           "name": "LEFT_LOWER_LEG",
           "type": "scatter3d",
           "x": [
            0.22945026,
            0.22454214
           ],
           "y": [
            -0.36631024,
            -0.4246819
           ],
           "z": [
            -1.0569749,
            -1.0356048
           ]
          },
          {
           "line": {
            "width": 10
           },
           "marker": {
            "size": 3
           },
           "mode": "lines+markers",
           "name": "RIGHT_LOWER_LEG",
           "type": "scatter3d",
           "x": [
            0.24950877,
            0.28579843
           ],
           "y": [
            -0.36484328,
            -0.41021314
           ],
           "z": [
            -1.0387001,
            -1.0064467
           ]
          }
         ],
         "layout": {
          "title": {
           "text": "frame:505"
          }
         },
         "name": "505"
        },
        {
         "data": [
          {
           "line": {
            "width": 10
           },
           "marker": {
            "size": 3
           },
           "mode": "lines+markers",
           "name": "CLUB",
           "type": "scatter3d",
           "x": [
            0.24175958,
            0.37613145
           ],
           "y": [
            -0.17129532,
            -0.062330402
           ],
           "z": [
            -1.1373603,
            -1.1798668
           ]
          },
          {
           "line": {
            "width": 10
           },
           "marker": {
            "size": 3
           },
           "mode": "lines+markers",
           "name": "EYE",
           "type": "scatter3d",
           "x": [
            0.23343086,
            0.2327135
           ],
           "y": [
            -0.20312786,
            -0.20381129
           ],
           "z": [
            -1.0655668,
            -1.0612295
           ]
          },
          {
           "line": {
            "width": 10
           },
           "marker": {
            "size": 3
           },
           "mode": "lines+markers",
           "name": "SHOULDER",
           "type": "scatter3d",
           "x": [
            0.26524034,
            0.23380642
           ],
           "y": [
            -0.22906108,
            -0.23245502
           ],
           "z": [
            -1.073102,
            -1.0498356
           ]
          },
          {
           "line": {
            "width": 10
           },
           "marker": {
            "size": 3
           },
           "mode": "lines+markers",
           "name": "LEFT_UPPER_ARM",
           "type": "scatter3d",
           "x": [
            0.26524034,
            0.27273124
           ],
           "y": [
            -0.22906108,
            -0.22649667
           ],
           "z": [
            -1.073102,
            -1.1127203
           ]
          },
          {
           "line": {
            "width": 10
           },
           "marker": {
            "size": 3
           },
           "mode": "lines+markers",
           "name": "RIGHT_UPPER_ARM",
           "type": "scatter3d",
           "x": [
            0.23380642,
            0.21532053
           ],
           "y": [
            -0.23245502,
            -0.23548499
           ],
           "z": [
            -1.0498356,
            -1.1008497
           ]
          },
          {
           "line": {
            "width": 10
           },
           "marker": {
            "size": 3
           },
           "mode": "lines+markers",
           "name": "LEFT_FOREARM",
           "type": "scatter3d",
           "x": [
            0.27273124,
            0.25725633
           ],
           "y": [
            -0.22649667,
            -0.20059928
           ],
           "z": [
            -1.1127203,
            -1.1175778
           ]
          },
          {
           "line": {
            "width": 10
           },
           "marker": {
            "size": 3
           },
           "mode": "lines+markers",
           "name": "RIGHT_FOREARM",
           "type": "scatter3d",
           "x": [
            0.21532053,
            0.2253281
           ],
           "y": [
            -0.23548499,
            -0.2061408
           ],
           "z": [
            -1.1008497,
            -1.1325383
           ]
          },
          {
           "line": {
            "width": 10
           },
           "marker": {
            "size": 3
           },
           "mode": "lines+markers",
           "name": "HIP",
           "type": "scatter3d",
           "x": [
            0.25341806,
            0.23725118
           ],
           "y": [
            -0.30946666,
            -0.30952165
           ],
           "z": [
            -1.0814087,
            -1.0656252
           ]
          },
          {
           "line": {
            "width": 10
           },
           "marker": {
            "size": 3
           },
           "mode": "lines+markers",
           "name": "LEFT_BODY",
           "type": "scatter3d",
           "x": [
            0.26524034,
            0.25341806
           ],
           "y": [
            -0.22906108,
            -0.30946666
           ],
           "z": [
            -1.073102,
            -1.0814087
           ]
          },
          {
           "line": {
            "width": 10
           },
           "marker": {
            "size": 3
           },
           "mode": "lines+markers",
           "name": "RIGHT_BODY",
           "type": "scatter3d",
           "x": [
            0.23380642,
            0.23725118
           ],
           "y": [
            -0.23245502,
            -0.30952165
           ],
           "z": [
            -1.0498356,
            -1.0656252
           ]
          },
          {
           "line": {
            "width": 10
           },
           "marker": {
            "size": 3
           },
           "mode": "lines+markers",
           "name": "LEFT_THIGH",
           "type": "scatter3d",
           "x": [
            0.25341806,
            0.23436135
           ],
           "y": [
            -0.30946666,
            -0.36386186
           ],
           "z": [
            -1.0814087,
            -1.0441335
           ]
          },
          {
           "line": {
            "width": 10
           },
           "marker": {
            "size": 3
           },
           "mode": "lines+markers",
           "name": "RIGHT_THIGH",
           "type": "scatter3d",
           "x": [
            0.23725118,
            0.24264543
           ],
           "y": [
            -0.30952165,
            -0.37155944
           ],
           "z": [
            -1.0656252,
            -1.0499856
           ]
          },
          {
           "line": {
            "width": 10
           },
           "marker": {
            "size": 3
           },
           "mode": "lines+markers",
           "name": "LEFT_LOWER_LEG",
           "type": "scatter3d",
           "x": [
            0.23436135,
            0.24146804
           ],
           "y": [
            -0.36386186,
            -0.4123508
           ],
           "z": [
            -1.0441335,
            -1.010091
           ]
          },
          {
           "line": {
            "width": 10
           },
           "marker": {
            "size": 3
           },
           "mode": "lines+markers",
           "name": "RIGHT_LOWER_LEG",
           "type": "scatter3d",
           "x": [
            0.24264543,
            0.26383978
           ],
           "y": [
            -0.37155944,
            -0.42437062
           ],
           "z": [
            -1.0499856,
            -1.0316414
           ]
          }
         ],
         "layout": {
          "title": {
           "text": "frame:510"
          }
         },
         "name": "510"
        },
        {
         "data": [
          {
           "line": {
            "width": 10
           },
           "marker": {
            "size": 3
           },
           "mode": "lines+markers",
           "name": "CLUB",
           "type": "scatter3d",
           "x": [
            0.22830436,
            0.32275024
           ],
           "y": [
            -0.17920595,
            -0.055433307
           ],
           "z": [
            -1.1490644,
            -1.2291071
           ]
          },
          {
           "line": {
            "width": 10
           },
           "marker": {
            "size": 3
           },
           "mode": "lines+markers",
           "name": "EYE",
           "type": "scatter3d",
           "x": [
            0.23366931,
            0.23549175
           ],
           "y": [
            -0.2026785,
            -0.20326512
           ],
           "z": [
            -1.064562,
            -1.056774
           ]
          },
          {
           "line": {
            "width": 10
           },
           "marker": {
            "size": 3
           },
           "mode": "lines+markers",
           "name": "SHOULDER",
           "type": "scatter3d",
           "x": [
            0.26594985,
            0.23406707
           ],
           "y": [
            -0.22657362,
            -0.23230389
           ],
           "z": [
            -1.070243,
            -1.050195
           ]
          },
          {
           "line": {
            "width": 10
           },
           "marker": {
            "size": 3
           },
           "mode": "lines+markers",
           "name": "LEFT_UPPER_ARM",
           "type": "scatter3d",
           "x": [
            0.26594985,
            0.27683723
           ],
           "y": [
            -0.22657362,
            -0.22142558
           ],
           "z": [
            -1.070243,
            -1.098654
           ]
          },
          {
           "line": {
            "width": 10
           },
           "marker": {
            "size": 3
           },
           "mode": "lines+markers",
           "name": "RIGHT_UPPER_ARM",
           "type": "scatter3d",
           "x": [
            0.23406707,
            0.2142514
           ],
           "y": [
            -0.23230389,
            -0.23643649
           ],
           "z": [
            -1.050195,
            -1.1053953
           ]
          },
          {
           "line": {
            "width": 10
           },
           "marker": {
            "size": 3
           },
           "mode": "lines+markers",
           "name": "LEFT_FOREARM",
           "type": "scatter3d",
           "x": [
            0.27683723,
            0.26631916
           ],
           "y": [
            -0.22142558,
            -0.20129836
           ],
           "z": [
            -1.098654,
            -1.0988246
           ]
          },
          {
           "line": {
            "width": 10
           },
           "marker": {
            "size": 3
           },
           "mode": "lines+markers",
           "name": "RIGHT_FOREARM",
           "type": "scatter3d",
           "x": [
            0.2142514,
            0.21989207
           ],
           "y": [
            -0.23643649,
            -0.21128991
           ],
           "z": [
            -1.1053953,
            -1.146986
           ]
          },
          {
           "line": {
            "width": 10
           },
           "marker": {
            "size": 3
           },
           "mode": "lines+markers",
           "name": "HIP",
           "type": "scatter3d",
           "x": [
            0.25139377,
            0.23834647
           ],
           "y": [
            -0.30945405,
            -0.308997
           ],
           "z": [
            -1.0823404,
            -1.0635751
           ]
          },
          {
           "line": {
            "width": 10
           },
           "marker": {
            "size": 3
           },
           "mode": "lines+markers",
           "name": "LEFT_BODY",
           "type": "scatter3d",
           "x": [
            0.26594985,
            0.25139377
           ],
           "y": [
            -0.22657362,
            -0.30945405
           ],
           "z": [
            -1.070243,
            -1.0823404
           ]
          },
          {
           "line": {
            "width": 10
           },
           "marker": {
            "size": 3
           },
           "mode": "lines+markers",
           "name": "RIGHT_BODY",
           "type": "scatter3d",
           "x": [
            0.23406707,
            0.23834647
           ],
           "y": [
            -0.23230389,
            -0.308997
           ],
           "z": [
            -1.050195,
            -1.0635751
           ]
          },
          {
           "line": {
            "width": 10
           },
           "marker": {
            "size": 3
           },
           "mode": "lines+markers",
           "name": "LEFT_THIGH",
           "type": "scatter3d",
           "x": [
            0.25139377,
            0.22982496
           ],
           "y": [
            -0.30945405,
            -0.3671247
           ],
           "z": [
            -1.0823404,
            -1.0550821
           ]
          },
          {
           "line": {
            "width": 10
           },
           "marker": {
            "size": 3
           },
           "mode": "lines+markers",
           "name": "RIGHT_THIGH",
           "type": "scatter3d",
           "x": [
            0.23834647,
            0.24878903
           ],
           "y": [
            -0.308997,
            -0.3666391
           ],
           "z": [
            -1.0635751,
            -1.0389448
           ]
          },
          {
           "line": {
            "width": 10
           },
           "marker": {
            "size": 3
           },
           "mode": "lines+markers",
           "name": "LEFT_LOWER_LEG",
           "type": "scatter3d",
           "x": [
            0.22982496,
            0.22648524
           ],
           "y": [
            -0.3671247,
            -0.42303863
           ],
           "z": [
            -1.0550821,
            -1.0304257
           ]
          },
          {
           "line": {
            "width": 10
           },
           "marker": {
            "size": 3
           },
           "mode": "lines+markers",
           "name": "RIGHT_LOWER_LEG",
           "type": "scatter3d",
           "x": [
            0.24878903,
            0.281609
           ],
           "y": [
            -0.3666391,
            -0.41027126
           ],
           "z": [
            -1.0389448,
            -1.0033152
           ]
          }
         ],
         "layout": {
          "title": {
           "text": "frame:515"
          }
         },
         "name": "515"
        },
        {
         "data": [
          {
           "line": {
            "width": 10
           },
           "marker": {
            "size": 3
           },
           "mode": "lines+markers",
           "name": "CLUB",
           "type": "scatter3d",
           "x": [
            0.21390788,
            0.26717657
           ],
           "y": [
            -0.19183889,
            -0.06447024
           ],
           "z": [
            -1.1563951,
            -1.2667357
           ]
          },
          {
           "line": {
            "width": 10
           },
           "marker": {
            "size": 3
           },
           "mode": "lines+markers",
           "name": "EYE",
           "type": "scatter3d",
           "x": [
            0.23328988,
            0.23461626
           ],
           "y": [
            -0.20242834,
            -0.20256995
           ],
           "z": [
            -1.0603433,
            -1.0533574
           ]
          },
          {
           "line": {
            "width": 10
           },
           "marker": {
            "size": 3
           },
           "mode": "lines+markers",
           "name": "SHOULDER",
           "type": "scatter3d",
           "x": [
            0.26577768,
            0.23648648
           ],
           "y": [
            -0.22742878,
            -0.23065642
           ],
           "z": [
            -1.0715606,
            -1.0484738
           ]
          },
          {
           "line": {
            "width": 10
           },
           "marker": {
            "size": 3
           },
           "mode": "lines+markers",
           "name": "LEFT_UPPER_ARM",
           "type": "scatter3d",
           "x": [
            0.26577768,
            0.2682246
           ],
           "y": [
            -0.22742878,
            -0.22984429
           ],
           "z": [
            -1.0715606,
            -1.1105691
           ]
          },
          {
           "line": {
            "width": 10
           },
           "marker": {
            "size": 3
           },
           "mode": "lines+markers",
           "name": "RIGHT_UPPER_ARM",
           "type": "scatter3d",
           "x": [
            0.23648648,
            0.21211198
           ],
           "y": [
            -0.23065642,
            -0.2391111
           ],
           "z": [
            -1.0484738,
            -1.1027825
           ]
          },
          {
           "line": {
            "width": 10
           },
           "marker": {
            "size": 3
           },
           "mode": "lines+markers",
           "name": "LEFT_FOREARM",
           "type": "scatter3d",
           "x": [
            0.2682246,
            0.25793847
           ],
           "y": [
            -0.22984429,
            -0.21172374
           ],
           "z": [
            -1.1105691,
            -1.1086898
           ]
          },
          {
           "line": {
            "width": 10
           },
           "marker": {
            "size": 3
           },
           "mode": "lines+markers",
           "name": "RIGHT_FOREARM",
           "type": "scatter3d",
           "x": [
            0.21211198,
            0.21125023
           ],
           "y": [
            -0.2391111,
            -0.21744712
           ],
           "z": [
            -1.1027825,
            -1.1508688
           ]
          },
          {
           "line": {
            "width": 10
           },
           "marker": {
            "size": 3
           },
           "mode": "lines+markers",
           "name": "HIP",
           "type": "scatter3d",
           "x": [
            0.2500519,
            0.23923524
           ],
           "y": [
            -0.3107853,
            -0.30867645
           ],
           "z": [
            -1.0844085,
            -1.0625452
           ]
          },
          {
           "line": {
            "width": 10
           },
           "marker": {
            "size": 3
           },
           "mode": "lines+markers",
           "name": "LEFT_BODY",
           "type": "scatter3d",
           "x": [
            0.26577768,
            0.2500519
           ],
           "y": [
            -0.22742878,
            -0.3107853
           ],
           "z": [
            -1.0715606,
            -1.0844085
           ]
          },
          {
           "line": {
            "width": 10
           },
           "marker": {
            "size": 3
           },
           "mode": "lines+markers",
           "name": "RIGHT_BODY",
           "type": "scatter3d",
           "x": [
            0.23648648,
            0.23923524
           ],
           "y": [
            -0.23065642,
            -0.30867645
           ],
           "z": [
            -1.0484738,
            -1.0625452
           ]
          },
          {
           "line": {
            "width": 10
           },
           "marker": {
            "size": 3
           },
           "mode": "lines+markers",
           "name": "LEFT_THIGH",
           "type": "scatter3d",
           "x": [
            0.2500519,
            0.22755656
           ],
           "y": [
            -0.3107853,
            -0.369151
           ],
           "z": [
            -1.0844085,
            -1.058127
           ]
          },
          {
           "line": {
            "width": 10
           },
           "marker": {
            "size": 3
           },
           "mode": "lines+markers",
           "name": "RIGHT_THIGH",
           "type": "scatter3d",
           "x": [
            0.23923524,
            0.25042817
           ],
           "y": [
            -0.30867645,
            -0.36560118
           ],
           "z": [
            -1.0625452,
            -1.0368667
           ]
          },
          {
           "line": {
            "width": 10
           },
           "marker": {
            "size": 3
           },
           "mode": "lines+markers",
           "name": "LEFT_LOWER_LEG",
           "type": "scatter3d",
           "x": [
            0.22755656,
            0.22162887
           ],
           "y": [
            -0.369151,
            -0.42715284
           ],
           "z": [
            -1.058127,
            -1.0379853
           ]
          },
          {
           "line": {
            "width": 10
           },
           "marker": {
            "size": 3
           },
           "mode": "lines+markers",
           "name": "RIGHT_LOWER_LEG",
           "type": "scatter3d",
           "x": [
            0.25042817,
            0.28757775
           ],
           "y": [
            -0.36560118,
            -0.407025
           ],
           "z": [
            -1.0368667,
            -0.99486023
           ]
          }
         ],
         "layout": {
          "title": {
           "text": "frame:520"
          }
         },
         "name": "520"
        },
        {
         "data": [
          {
           "line": {
            "width": 10
           },
           "marker": {
            "size": 3
           },
           "mode": "lines+markers",
           "name": "CLUB",
           "type": "scatter3d",
           "x": [
            0.20279796,
            0.21684593
           ],
           "y": [
            -0.19629559,
            -0.08217496
           ],
           "z": [
            -1.1678184,
            -1.2681457
           ]
          },
          {
           "line": {
            "width": 10
           },
           "marker": {
            "size": 3
           },
           "mode": "lines+markers",
           "name": "EYE",
           "type": "scatter3d",
           "x": [
            0.23356083,
            0.2340254
           ],
           "y": [
            -0.20206675,
            -0.20248754
           ],
           "z": [
            -1.0600725,
            -1.0536352
           ]
          },
          {
           "line": {
            "width": 10
           },
           "marker": {
            "size": 3
           },
           "mode": "lines+markers",
           "name": "SHOULDER",
           "type": "scatter3d",
           "x": [
            0.26996145,
            0.23552252
           ],
           "y": [
            -0.22444871,
            -0.23150834
           ],
           "z": [
            -1.0681164,
            -1.0508765
           ]
          },
          {
           "line": {
            "width": 10
           },
           "marker": {
            "size": 3
           },
           "mode": "lines+markers",
           "name": "LEFT_UPPER_ARM",
           "type": "scatter3d",
           "x": [
            0.26996145,
            0.2813238
           ],
           "y": [
            -0.22444871,
            -0.22387171
           ],
           "z": [
            -1.0681164,
            -1.0943954
           ]
          },
          {
           "line": {
            "width": 10
           },
           "marker": {
            "size": 3
           },
           "mode": "lines+markers",
           "name": "RIGHT_UPPER_ARM",
           "type": "scatter3d",
           "x": [
            0.23552252,
            0.21096158
           ],
           "y": [
            -0.23150834,
            -0.24423914
           ],
           "z": [
            -1.0508765,
            -1.0997981
           ]
          },
          {
           "line": {
            "width": 10
           },
           "marker": {
            "size": 3
           },
           "mode": "lines+markers",
           "name": "LEFT_FOREARM",
           "type": "scatter3d",
           "x": [
            0.2813238,
            0.27776188
           ],
           "y": [
            -0.22387171,
            -0.20660852
           ],
           "z": [
            -1.0943954,
            -1.0852958
           ]
          },
          {
           "line": {
            "width": 10
           },
           "marker": {
            "size": 3
           },
           "mode": "lines+markers",
           "name": "RIGHT_FOREARM",
           "type": "scatter3d",
           "x": [
            0.21096158,
            0.2072082
           ],
           "y": [
            -0.24423914,
            -0.22815537
           ],
           "z": [
            -1.0997981,
            -1.1492685
           ]
          },
          {
           "line": {
            "width": 10
           },
           "marker": {
            "size": 3
           },
           "mode": "lines+markers",
           "name": "HIP",
           "type": "scatter3d",
           "x": [
            0.25153813,
            0.23799382
           ],
           "y": [
            -0.31066298,
            -0.3104777
           ],
           "z": [
            -1.0826632,
            -1.0639883
           ]
          },
          {
           "line": {
            "width": 10
           },
           "marker": {
            "size": 3
           },
           "mode": "lines+markers",
           "name": "LEFT_BODY",
           "type": "scatter3d",
           "x": [
            0.26996145,
            0.25153813
           ],
           "y": [
            -0.22444871,
            -0.31066298
           ],
           "z": [
            -1.0681164,
            -1.0826632
           ]
          },
          {
           "line": {
            "width": 10
           },
           "marker": {
            "size": 3
           },
           "mode": "lines+markers",
           "name": "RIGHT_BODY",
           "type": "scatter3d",
           "x": [
            0.23552252,
            0.23799382
           ],
           "y": [
            -0.23150834,
            -0.3104777
           ],
           "z": [
            -1.0508765,
            -1.0639883
           ]
          },
          {
           "line": {
            "width": 10
           },
           "marker": {
            "size": 3
           },
           "mode": "lines+markers",
           "name": "LEFT_THIGH",
           "type": "scatter3d",
           "x": [
            0.25153813,
            0.22708194
           ],
           "y": [
            -0.31066298,
            -0.370025
           ],
           "z": [
            -1.0826632,
            -1.0582948
           ]
          },
          {
           "line": {
            "width": 10
           },
           "marker": {
            "size": 3
           },
           "mode": "lines+markers",
           "name": "RIGHT_THIGH",
           "type": "scatter3d",
           "x": [
            0.23799382,
            0.24952208
           ],
           "y": [
            -0.3104777,
            -0.36716795
           ],
           "z": [
            -1.0639883,
            -1.03712
           ]
          },
          {
           "line": {
            "width": 10
           },
           "marker": {
            "size": 3
           },
           "mode": "lines+markers",
           "name": "LEFT_LOWER_LEG",
           "type": "scatter3d",
           "x": [
            0.22708194,
            0.22071412
           ],
           "y": [
            -0.370025,
            -0.42827502
           ],
           "z": [
            -1.0582948,
            -1.0391623
           ]
          },
          {
           "line": {
            "width": 10
           },
           "marker": {
            "size": 3
           },
           "mode": "lines+markers",
           "name": "RIGHT_LOWER_LEG",
           "type": "scatter3d",
           "x": [
            0.24952208,
            0.2870958
           ],
           "y": [
            -0.36716795,
            -0.4072426
           ],
           "z": [
            -1.03712,
            -0.9954131
           ]
          }
         ],
         "layout": {
          "title": {
           "text": "frame:525"
          }
         },
         "name": "525"
        },
        {
         "data": [
          {
           "line": {
            "width": 10
           },
           "marker": {
            "size": 3
           },
           "mode": "lines+markers",
           "name": "CLUB",
           "type": "scatter3d",
           "x": [
            0.1924638,
            0.16279946
           ],
           "y": [
            -0.21812835,
            -0.11002611
           ],
           "z": [
            -1.1766376,
            -1.2849993
           ]
          },
          {
           "line": {
            "width": 10
           },
           "marker": {
            "size": 3
           },
           "mode": "lines+markers",
           "name": "EYE",
           "type": "scatter3d",
           "x": [
            0.23440589,
            0.23467976
           ],
           "y": [
            -0.2010409,
            -0.20190187
           ],
           "z": [
            -1.0652356,
            -1.059684
           ]
          },
          {
           "line": {
            "width": 10
           },
           "marker": {
            "size": 3
           },
           "mode": "lines+markers",
           "name": "SHOULDER",
           "type": "scatter3d",
           "x": [
            0.269462,
            0.23567095
           ],
           "y": [
            -0.2240146,
            -0.23091339
           ],
           "z": [
            -1.0685554,
            -1.0524863
           ]
          },
          {
           "line": {
            "width": 10
           },
           "marker": {
            "size": 3
           },
           "mode": "lines+markers",
           "name": "LEFT_UPPER_ARM",
           "type": "scatter3d",
           "x": [
            0.269462,
            0.27976838
           ],
           "y": [
            -0.2240146,
            -0.22589868
           ],
           "z": [
            -1.0685554,
            -1.0955089
           ]
          },
          {
           "line": {
            "width": 10
           },
           "marker": {
            "size": 3
           },
           "mode": "lines+markers",
           "name": "RIGHT_UPPER_ARM",
           "type": "scatter3d",
           "x": [
            0.23567095,
            0.21313398
           ],
           "y": [
            -0.23091339,
            -0.24673638
           ],
           "z": [
            -1.0524863,
            -1.103398
           ]
          },
          {
           "line": {
            "width": 10
           },
           "marker": {
            "size": 3
           },
           "mode": "lines+markers",
           "name": "LEFT_FOREARM",
           "type": "scatter3d",
           "x": [
            0.27976838,
            0.27357888
           ],
           "y": [
            -0.22589868,
            -0.20834325
           ],
           "z": [
            -1.0955089,
            -1.0933318
           ]
          },
          {
           "line": {
            "width": 10
           },
           "marker": {
            "size": 3
           },
           "mode": "lines+markers",
           "name": "RIGHT_FOREARM",
           "type": "scatter3d",
           "x": [
            0.21313398,
            0.20340675
           ],
           "y": [
            -0.24673638,
            -0.2373485
           ],
           "z": [
            -1.103398,
            -1.164436
           ]
          },
          {
           "line": {
            "width": 10
           },
           "marker": {
            "size": 3
           },
           "mode": "lines+markers",
           "name": "HIP",
           "type": "scatter3d",
           "x": [
            0.2510244,
            0.23849562
           ],
           "y": [
            -0.31012616,
            -0.30847064
           ],
           "z": [
            -1.080311,
            -1.0618397
           ]
          },
          {
           "line": {
            "width": 10
           },
           "marker": {
            "size": 3
           },
           "mode": "lines+markers",
           "name": "LEFT_BODY",
           "type": "scatter3d",
           "x": [
            0.269462,
            0.2510244
           ],
           "y": [
            -0.2240146,
            -0.31012616
           ],
           "z": [
            -1.0685554,
            -1.080311
           ]
          },
          {
           "line": {
            "width": 10
           },
           "marker": {
            "size": 3
           },
           "mode": "lines+markers",
           "name": "RIGHT_BODY",
           "type": "scatter3d",
           "x": [
            0.23567095,
            0.23849562
           ],
           "y": [
            -0.23091339,
            -0.30847064
           ],
           "z": [
            -1.0524863,
            -1.0618397
           ]
          },
          {
           "line": {
            "width": 10
           },
           "marker": {
            "size": 3
           },
           "mode": "lines+markers",
           "name": "LEFT_THIGH",
           "type": "scatter3d",
           "x": [
            0.2510244,
            0.22754177
           ],
           "y": [
            -0.31012616,
            -0.370365
           ],
           "z": [
            -1.080311,
            -1.0577604
           ]
          },
          {
           "line": {
            "width": 10
           },
           "marker": {
            "size": 3
           },
           "mode": "lines+markers",
           "name": "RIGHT_THIGH",
           "type": "scatter3d",
           "x": [
            0.23849562,
            0.24983744
           ],
           "y": [
            -0.30847064,
            -0.36602053
           ],
           "z": [
            -1.0618397,
            -1.036679
           ]
          },
          {
           "line": {
            "width": 10
           },
           "marker": {
            "size": 3
           },
           "mode": "lines+markers",
           "name": "LEFT_LOWER_LEG",
           "type": "scatter3d",
           "x": [
            0.22754177,
            0.22009072
           ],
           "y": [
            -0.370365,
            -0.42812514
           ],
           "z": [
            -1.0577604,
            -1.0397032
           ]
          },
          {
           "line": {
            "width": 10
           },
           "marker": {
            "size": 3
           },
           "mode": "lines+markers",
           "name": "RIGHT_LOWER_LEG",
           "type": "scatter3d",
           "x": [
            0.24983744,
            0.28442767
           ],
           "y": [
            -0.36602053,
            -0.40676048
           ],
           "z": [
            -1.036679,
            -0.9979532
           ]
          }
         ],
         "layout": {
          "title": {
           "text": "frame:530"
          }
         },
         "name": "530"
        },
        {
         "data": [
          {
           "line": {
            "width": 10
           },
           "marker": {
            "size": 3
           },
           "mode": "lines+markers",
           "name": "CLUB",
           "type": "scatter3d",
           "x": [
            0.18671675,
            0.11289014
           ],
           "y": [
            -0.23418257,
            -0.14911582
           ],
           "z": [
            -1.1923143,
            -1.3170943
           ]
          },
          {
           "line": {
            "width": 10
           },
           "marker": {
            "size": 3
           },
           "mode": "lines+markers",
           "name": "EYE",
           "type": "scatter3d",
           "x": [
            0.23361465,
            0.23439534
           ],
           "y": [
            -0.20220873,
            -0.2023324
           ],
           "z": [
            -1.0604938,
            -1.0541615
           ]
          },
          {
           "line": {
            "width": 10
           },
           "marker": {
            "size": 3
           },
           "mode": "lines+markers",
           "name": "SHOULDER",
           "type": "scatter3d",
           "x": [
            0.26378366,
            0.24410656
           ],
           "y": [
            -0.22762169,
            -0.23105007
           ],
           "z": [
            -1.0759392,
            -1.0419528
           ]
          },
          {
           "line": {
            "width": 10
           },
           "marker": {
            "size": 3
           },
           "mode": "lines+markers",
           "name": "LEFT_UPPER_ARM",
           "type": "scatter3d",
           "x": [
            0.26378366,
            0.27086997
           ],
           "y": [
            -0.22762169,
            -0.22962962
           ],
           "z": [
            -1.0759392,
            -1.1077865
           ]
          },
          {
           "line": {
            "width": 10
           },
           "marker": {
            "size": 3
           },
           "mode": "lines+markers",
           "name": "RIGHT_UPPER_ARM",
           "type": "scatter3d",
           "x": [
            0.24410656,
            0.21449776
           ],
           "y": [
            -0.23105007,
            -0.25057134
           ],
           "z": [
            -1.0419528,
            -1.0968685
           ]
          },
          {
           "line": {
            "width": 10
           },
           "marker": {
            "size": 3
           },
           "mode": "lines+markers",
           "name": "LEFT_FOREARM",
           "type": "scatter3d",
           "x": [
            0.27086997,
            0.25496662
           ],
           "y": [
            -0.22962962,
            -0.21515141
           ],
           "z": [
            -1.1077865,
            -1.1210374
           ]
          },
          {
           "line": {
            "width": 10
           },
           "marker": {
            "size": 3
           },
           "mode": "lines+markers",
           "name": "RIGHT_FOREARM",
           "type": "scatter3d",
           "x": [
            0.21449776,
            0.1978869
           ],
           "y": [
            -0.25057134,
            -0.24547301
           ],
           "z": [
            -1.0968685,
            -1.1618056
           ]
          },
          {
           "line": {
            "width": 10
           },
           "marker": {
            "size": 3
           },
           "mode": "lines+markers",
           "name": "HIP",
           "type": "scatter3d",
           "x": [
            0.25024956,
            0.23799619
           ],
           "y": [
            -0.31078297,
            -0.31107113
           ],
           "z": [
            -1.0810912,
            -1.0631813
           ]
          },
          {
           "line": {
            "width": 10
           },
           "marker": {
            "size": 3
           },
           "mode": "lines+markers",
           "name": "LEFT_BODY",
           "type": "scatter3d",
           "x": [
            0.26378366,
            0.25024956
           ],
           "y": [
            -0.22762169,
            -0.31078297
           ],
           "z": [
            -1.0759392,
            -1.0810912
           ]
          },
          {
           "line": {
            "width": 10
           },
           "marker": {
            "size": 3
           },
           "mode": "lines+markers",
           "name": "RIGHT_BODY",
           "type": "scatter3d",
           "x": [
            0.24410656,
            0.23799619
           ],
           "y": [
            -0.23105007,
            -0.31107113
           ],
           "z": [
            -1.0419528,
            -1.0631813
           ]
          },
          {
           "line": {
            "width": 10
           },
           "marker": {
            "size": 3
           },
           "mode": "lines+markers",
           "name": "LEFT_THIGH",
           "type": "scatter3d",
           "x": [
            0.25024956,
            0.24535185
           ],
           "y": [
            -0.31078297,
            -0.36008623
           ],
           "z": [
            -1.0810912,
            -1.0314981
           ]
          },
          {
           "line": {
            "width": 10
           },
           "marker": {
            "size": 3
           },
           "mode": "lines+markers",
           "name": "RIGHT_THIGH",
           "type": "scatter3d",
           "x": [
            0.23799619,
            0.23105697
           ],
           "y": [
            -0.31107113,
            -0.3763146
           ],
           "z": [
            -1.0631813,
            -1.0624179
           ]
          },
          {
           "line": {
            "width": 10
           },
           "marker": {
            "size": 3
           },
           "mode": "lines+markers",
           "name": "LEFT_LOWER_LEG",
           "type": "scatter3d",
           "x": [
            0.24535185,
            0.26816845
           ],
           "y": [
            -0.36008623,
            -0.3976886
           ],
           "z": [
            -1.0314981,
            -0.9764038
           ]
          },
          {
           "line": {
            "width": 10
           },
           "marker": {
            "size": 3
           },
           "mode": "lines+markers",
           "name": "RIGHT_LOWER_LEG",
           "type": "scatter3d",
           "x": [
            0.23105697,
            0.23359162
           ],
           "y": [
            -0.3763146,
            -0.44299197
           ],
           "z": [
            -1.0624179,
            -1.0678823
           ]
          }
         ],
         "layout": {
          "title": {
           "text": "frame:535"
          }
         },
         "name": "535"
        },
        {
         "data": [
          {
           "line": {
            "width": 10
           },
           "marker": {
            "size": 3
           },
           "mode": "lines+markers",
           "name": "CLUB",
           "type": "scatter3d",
           "x": [
            0.17220296,
            0.07894288
           ],
           "y": [
            -0.23988132,
            -0.1826802
           ],
           "z": [
            -1.1534476,
            -1.2946736
           ]
          },
          {
           "line": {
            "width": 10
           },
           "marker": {
            "size": 3
           },
           "mode": "lines+markers",
           "name": "EYE",
           "type": "scatter3d",
           "x": [
            0.23508152,
            0.23556098
           ],
           "y": [
            -0.20052938,
            -0.2007743
           ],
           "z": [
            -1.0626835,
            -1.0562203
           ]
          },
          {
           "line": {
            "width": 10
           },
           "marker": {
            "size": 3
           },
           "mode": "lines+markers",
           "name": "SHOULDER",
           "type": "scatter3d",
           "x": [
            0.26652968,
            0.24140397
           ],
           "y": [
            -0.22850184,
            -0.23078898
           ],
           "z": [
            -1.0794507,
            -1.0423414
           ]
          },
          {
           "line": {
            "width": 10
           },
           "marker": {
            "size": 3
           },
           "mode": "lines+markers",
           "name": "LEFT_UPPER_ARM",
           "type": "scatter3d",
           "x": [
            0.26652968,
            0.27210465
           ],
           "y": [
            -0.22850184,
            -0.23645468
           ],
           "z": [
            -1.0794507,
            -1.1117094
           ]
          },
          {
           "line": {
            "width": 10
           },
           "marker": {
            "size": 3
           },
           "mode": "lines+markers",
           "name": "RIGHT_UPPER_ARM",
           "type": "scatter3d",
           "x": [
            0.24140397,
            0.2135526
           ],
           "y": [
            -0.23078898,
            -0.2505773
           ],
           "z": [
            -1.0423414,
            -1.0725617
           ]
          },
          {
           "line": {
            "width": 10
           },
           "marker": {
            "size": 3
           },
           "mode": "lines+markers",
           "name": "LEFT_FOREARM",
           "type": "scatter3d",
           "x": [
            0.27210465,
            0.25767335
           ],
           "y": [
            -0.23645468,
            -0.21699376
           ],
           "z": [
            -1.1117094,
            -1.1192958
           ]
          },
          {
           "line": {
            "width": 10
           },
           "marker": {
            "size": 3
           },
           "mode": "lines+markers",
           "name": "RIGHT_FOREARM",
           "type": "scatter3d",
           "x": [
            0.2135526,
            0.19064802
           ],
           "y": [
            -0.2505773,
            -0.24412425
           ],
           "z": [
            -1.0725617,
            -1.1331555
           ]
          },
          {
           "line": {
            "width": 10
           },
           "marker": {
            "size": 3
           },
           "mode": "lines+markers",
           "name": "HIP",
           "type": "scatter3d",
           "x": [
            0.24976279,
            0.23813306
           ],
           "y": [
            -0.31139496,
            -0.30916134
           ],
           "z": [
            -1.0879706,
            -1.0631491
           ]
          },
          {
           "line": {
            "width": 10
           },
           "marker": {
            "size": 3
           },
           "mode": "lines+markers",
           "name": "LEFT_BODY",
           "type": "scatter3d",
           "x": [
            0.26652968,
            0.24976279
           ],
           "y": [
            -0.22850184,
            -0.31139496
           ],
           "z": [
            -1.0794507,
            -1.0879706
           ]
          },
          {
           "line": {
            "width": 10
           },
           "marker": {
            "size": 3
           },
           "mode": "lines+markers",
           "name": "RIGHT_BODY",
           "type": "scatter3d",
           "x": [
            0.24140397,
            0.23813306
           ],
           "y": [
            -0.23078898,
            -0.30916134
           ],
           "z": [
            -1.0423414,
            -1.0631491
           ]
          },
          {
           "line": {
            "width": 10
           },
           "marker": {
            "size": 3
           },
           "mode": "lines+markers",
           "name": "LEFT_THIGH",
           "type": "scatter3d",
           "x": [
            0.24976279,
            0.23483703
           ],
           "y": [
            -0.31139496,
            -0.36439562
           ],
           "z": [
            -1.0879706,
            -1.0447304
           ]
          },
          {
           "line": {
            "width": 10
           },
           "marker": {
            "size": 3
           },
           "mode": "lines+markers",
           "name": "RIGHT_THIGH",
           "type": "scatter3d",
           "x": [
            0.23813306,
            0.23726168
           ],
           "y": [
            -0.30916134,
            -0.37243828
           ],
           "z": [
            -1.0631491,
            -1.0529554
           ]
          },
          {
           "line": {
            "width": 10
           },
           "marker": {
            "size": 3
           },
           "mode": "lines+markers",
           "name": "LEFT_LOWER_LEG",
           "type": "scatter3d",
           "x": [
            0.23483703,
            0.23951338
           ],
           "y": [
            -0.36439562,
            -0.4146142
           ],
           "z": [
            -1.0447304,
            -1.0134047
           ]
          },
          {
           "line": {
            "width": 10
           },
           "marker": {
            "size": 3
           },
           "mode": "lines+markers",
           "name": "RIGHT_LOWER_LEG",
           "type": "scatter3d",
           "x": [
            0.23726168,
            0.2571581
           ],
           "y": [
            -0.37243828,
            -0.42664257
           ],
           "z": [
            -1.0529554,
            -1.0367986
           ]
          }
         ],
         "layout": {
          "title": {
           "text": "frame:540"
          }
         },
         "name": "540"
        },
        {
         "data": [
          {
           "line": {
            "width": 10
           },
           "marker": {
            "size": 3
           },
           "mode": "lines+markers",
           "name": "CLUB",
           "type": "scatter3d",
           "x": [
            0.16540541,
            0.043061957
           ],
           "y": [
            -0.25154412,
            -0.22083507
           ],
           "z": [
            -1.1376704,
            -1.2844265
           ]
          },
          {
           "line": {
            "width": 10
           },
           "marker": {
            "size": 3
           },
           "mode": "lines+markers",
           "name": "EYE",
           "type": "scatter3d",
           "x": [
            0.23506661,
            0.2352858
           ],
           "y": [
            -0.20005317,
            -0.20022203
           ],
           "z": [
            -1.0647928,
            -1.0579432
           ]
          },
          {
           "line": {
            "width": 10
           },
           "marker": {
            "size": 3
           },
           "mode": "lines+markers",
           "name": "SHOULDER",
           "type": "scatter3d",
           "x": [
            0.26916927,
            0.23905902
           ],
           "y": [
            -0.22792304,
            -0.23098244
           ],
           "z": [
            -1.0772121,
            -1.0465021
           ]
          },
          {
           "line": {
            "width": 10
           },
           "marker": {
            "size": 3
           },
           "mode": "lines+markers",
           "name": "LEFT_UPPER_ARM",
           "type": "scatter3d",
           "x": [
            0.26916927,
            0.27580217
           ],
           "y": [
            -0.22792304,
            -0.2363212
           ],
           "z": [
            -1.0772121,
            -1.1055533
           ]
          },
          {
           "line": {
            "width": 10
           },
           "marker": {
            "size": 3
           },
           "mode": "lines+markers",
           "name": "RIGHT_UPPER_ARM",
           "type": "scatter3d",
           "x": [
            0.23905902,
            0.21405238
           ],
           "y": [
            -0.23098244,
            -0.25138813
           ],
           "z": [
            -1.0465021,
            -1.0672051
           ]
          },
          {
           "line": {
            "width": 10
           },
           "marker": {
            "size": 3
           },
           "mode": "lines+markers",
           "name": "LEFT_FOREARM",
           "type": "scatter3d",
           "x": [
            0.27580217,
            0.26805723
           ],
           "y": [
            -0.2363212,
            -0.21466564
           ],
           "z": [
            -1.1055533,
            -1.1031159
           ]
          },
          {
           "line": {
            "width": 10
           },
           "marker": {
            "size": 3
           },
           "mode": "lines+markers",
           "name": "RIGHT_FOREARM",
           "type": "scatter3d",
           "x": [
            0.21405238,
            0.18773843
           ],
           "y": [
            -0.25138813,
            -0.24967314
           ],
           "z": [
            -1.0672051,
            -1.1224904
           ]
          },
          {
           "line": {
            "width": 10
           },
           "marker": {
            "size": 3
           },
           "mode": "lines+markers",
           "name": "HIP",
           "type": "scatter3d",
           "x": [
            0.2499379,
            0.2389424
           ],
           "y": [
            -0.31192258,
            -0.30845055
           ],
           "z": [
            -1.0873114,
            -1.0615386
           ]
          },
          {
           "line": {
            "width": 10
           },
           "marker": {
            "size": 3
           },
           "mode": "lines+markers",
           "name": "LEFT_BODY",
           "type": "scatter3d",
           "x": [
            0.26916927,
            0.2499379
           ],
           "y": [
            -0.22792304,
            -0.31192258
           ],
           "z": [
            -1.0772121,
            -1.0873114
           ]
          },
          {
           "line": {
            "width": 10
           },
           "marker": {
            "size": 3
           },
           "mode": "lines+markers",
           "name": "RIGHT_BODY",
           "type": "scatter3d",
           "x": [
            0.23905902,
            0.2389424
           ],
           "y": [
            -0.23098244,
            -0.30845055
           ],
           "z": [
            -1.0465021,
            -1.0615386
           ]
          },
          {
           "line": {
            "width": 10
           },
           "marker": {
            "size": 3
           },
           "mode": "lines+markers",
           "name": "LEFT_THIGH",
           "type": "scatter3d",
           "x": [
            0.2499379,
            0.22760846
           ],
           "y": [
            -0.31192258,
            -0.36818543
           ],
           "z": [
            -1.0873114,
            -1.0549027
           ]
          },
          {
           "line": {
            "width": 10
           },
           "marker": {
            "size": 3
           },
           "mode": "lines+markers",
           "name": "RIGHT_THIGH",
           "type": "scatter3d",
           "x": [
            0.2389424,
            0.24551344
           ],
           "y": [
            -0.30845055,
            -0.36725688
           ],
           "z": [
            -1.0615386,
            -1.0408065
           ]
          },
          {
           "line": {
            "width": 10
           },
           "marker": {
            "size": 3
           },
           "mode": "lines+markers",
           "name": "LEFT_LOWER_LEG",
           "type": "scatter3d",
           "x": [
            0.22760846,
            0.21848394
           ],
           "y": [
            -0.36818543,
            -0.4276261
           ],
           "z": [
            -1.0549027,
            -1.0404963
           ]
          },
          {
           "line": {
            "width": 10
           },
           "marker": {
            "size": 3
           },
           "mode": "lines+markers",
           "name": "RIGHT_LOWER_LEG",
           "type": "scatter3d",
           "x": [
            0.24551344,
            0.2817916
           ],
           "y": [
            -0.36725688,
            -0.4090636
           ],
           "z": [
            -1.0408065,
            -1.0029287
           ]
          }
         ],
         "layout": {
          "title": {
           "text": "frame:545"
          }
         },
         "name": "545"
        },
        {
         "data": [
          {
           "line": {
            "width": 10
           },
           "marker": {
            "size": 3
           },
           "mode": "lines+markers",
           "name": "CLUB",
           "type": "scatter3d",
           "x": [
            0.16168524,
            0.020708125
           ],
           "y": [
            -0.27681836,
            -0.25703207
           ],
           "z": [
            -1.1383016,
            -1.2665089
           ]
          },
          {
           "line": {
            "width": 10
           },
           "marker": {
            "size": 3
           },
           "mode": "lines+markers",
           "name": "EYE",
           "type": "scatter3d",
           "x": [
            0.2355016,
            0.2350888
           ],
           "y": [
            -0.20088813,
            -0.20147839
           ],
           "z": [
            -1.0621967,
            -1.0566992
           ]
          },
          {
           "line": {
            "width": 10
           },
           "marker": {
            "size": 3
           },
           "mode": "lines+markers",
           "name": "SHOULDER",
           "type": "scatter3d",
           "x": [
            0.27225122,
            0.23757112
           ],
           "y": [
            -0.22558531,
            -0.23124467
           ],
           "z": [
            -1.0727053,
            -1.050172
           ]
          },
          {
           "line": {
            "width": 10
           },
           "marker": {
            "size": 3
           },
           "mode": "lines+markers",
           "name": "LEFT_UPPER_ARM",
           "type": "scatter3d",
           "x": [
            0.27225122,
            0.27730674
           ],
           "y": [
            -0.22558531,
            -0.23677754
           ],
           "z": [
            -1.0727053,
            -1.1011074
           ]
          },
          {
           "line": {
            "width": 10
           },
           "marker": {
            "size": 3
           },
           "mode": "lines+markers",
           "name": "RIGHT_UPPER_ARM",
           "type": "scatter3d",
           "x": [
            0.23757112,
            0.21097188
           ],
           "y": [
            -0.23124467,
            -0.25616735
           ],
           "z": [
            -1.050172,
            -1.0696025
           ]
          },
          {
           "line": {
            "width": 10
           },
           "marker": {
            "size": 3
           },
           "mode": "lines+markers",
           "name": "LEFT_FOREARM",
           "type": "scatter3d",
           "x": [
            0.27730674,
            0.26756582
           ],
           "y": [
            -0.23677754,
            -0.21870655
           ],
           "z": [
            -1.1011074,
            -1.1025906
           ]
          },
          {
           "line": {
            "width": 10
           },
           "marker": {
            "size": 3
           },
           "mode": "lines+markers",
           "name": "RIGHT_FOREARM",
           "type": "scatter3d",
           "x": [
            0.21097188,
            0.18502598
           ],
           "y": [
            -0.25616735,
            -0.25958478
           ],
           "z": [
            -1.0696025,
            -1.1228955
           ]
          },
          {
           "line": {
            "width": 10
           },
           "marker": {
            "size": 3
           },
           "mode": "lines+markers",
           "name": "HIP",
           "type": "scatter3d",
           "x": [
            0.2511332,
            0.23746897
           ],
           "y": [
            -0.31068677,
            -0.30849028
           ],
           "z": [
            -1.0853559,
            -1.064305
           ]
          },
          {
           "line": {
            "width": 10
           },
           "marker": {
            "size": 3
           },
           "mode": "lines+markers",
           "name": "LEFT_BODY",
           "type": "scatter3d",
           "x": [
            0.27225122,
            0.2511332
           ],
           "y": [
            -0.22558531,
            -0.31068677
           ],
           "z": [
            -1.0727053,
            -1.0853559
           ]
          },
          {
           "line": {
            "width": 10
           },
           "marker": {
            "size": 3
           },
           "mode": "lines+markers",
           "name": "RIGHT_BODY",
           "type": "scatter3d",
           "x": [
            0.23757112,
            0.23746897
           ],
           "y": [
            -0.23124467,
            -0.30849028
           ],
           "z": [
            -1.050172,
            -1.064305
           ]
          },
          {
           "line": {
            "width": 10
           },
           "marker": {
            "size": 3
           },
           "mode": "lines+markers",
           "name": "LEFT_THIGH",
           "type": "scatter3d",
           "x": [
            0.2511332,
            0.22635226
           ],
           "y": [
            -0.31068677,
            -0.3695088
           ],
           "z": [
            -1.0853559,
            -1.0566201
           ]
          },
          {
           "line": {
            "width": 10
           },
           "marker": {
            "size": 3
           },
           "mode": "lines+markers",
           "name": "RIGHT_THIGH",
           "type": "scatter3d",
           "x": [
            0.23746897,
            0.24751832
           ],
           "y": [
            -0.30849028,
            -0.36590084
           ],
           "z": [
            -1.064305,
            -1.0397886
           ]
          },
          {
           "line": {
            "width": 10
           },
           "marker": {
            "size": 3
           },
           "mode": "lines+markers",
           "name": "LEFT_LOWER_LEG",
           "type": "scatter3d",
           "x": [
            0.22635226,
            0.21800685
           ],
           "y": [
            -0.3695088,
            -0.42897165
           ],
           "z": [
            -1.0566201,
            -1.0406369
           ]
          },
          {
           "line": {
            "width": 10
           },
           "marker": {
            "size": 3
           },
           "mode": "lines+markers",
           "name": "RIGHT_LOWER_LEG",
           "type": "scatter3d",
           "x": [
            0.24751832,
            0.28538612
           ],
           "y": [
            -0.36590084,
            -0.40722093
           ],
           "z": [
            -1.0397886,
            -0.9995648
           ]
          }
         ],
         "layout": {
          "title": {
           "text": "frame:550"
          }
         },
         "name": "550"
        },
        {
         "data": [
          {
           "line": {
            "width": 10
           },
           "marker": {
            "size": 3
           },
           "mode": "lines+markers",
           "name": "CLUB",
           "type": "scatter3d",
           "x": [
            0.1603975,
            0.009978453
           ],
           "y": [
            -0.29010844,
            -0.29648703
           ],
           "z": [
            -1.1256415,
            -1.2379941
           ]
          },
          {
           "line": {
            "width": 10
           },
           "marker": {
            "size": 3
           },
           "mode": "lines+markers",
           "name": "EYE",
           "type": "scatter3d",
           "x": [
            0.23508555,
            0.23546904
           ],
           "y": [
            -0.20112602,
            -0.20145184
           ],
           "z": [
            -1.0628501,
            -1.0556644
           ]
          },
          {
           "line": {
            "width": 10
           },
           "marker": {
            "size": 3
           },
           "mode": "lines+markers",
           "name": "SHOULDER",
           "type": "scatter3d",
           "x": [
            0.27007428,
            0.23958784
           ],
           "y": [
            -0.22669193,
            -0.23115814
           ],
           "z": [
            -1.0759761,
            -1.0468712
           ]
          },
          {
           "line": {
            "width": 10
           },
           "marker": {
            "size": 3
           },
           "mode": "lines+markers",
           "name": "LEFT_UPPER_ARM",
           "type": "scatter3d",
           "x": [
            0.27007428,
            0.27114218
           ],
           "y": [
            -0.22669193,
            -0.24183257
           ],
           "z": [
            -1.0759761,
            -1.1062605
           ]
          },
          {
           "line": {
            "width": 10
           },
           "marker": {
            "size": 3
           },
           "mode": "lines+markers",
           "name": "RIGHT_UPPER_ARM",
           "type": "scatter3d",
           "x": [
            0.23958784,
            0.2150962
           ],
           "y": [
            -0.23115814,
            -0.26070863
           ],
           "z": [
            -1.0468712,
            -1.0626249
           ]
          },
          {
           "line": {
            "width": 10
           },
           "marker": {
            "size": 3
           },
           "mode": "lines+markers",
           "name": "LEFT_FOREARM",
           "type": "scatter3d",
           "x": [
            0.27114218,
            0.25675315
           ],
           "y": [
            -0.24183257,
            -0.22527716
           ],
           "z": [
            -1.1062605,
            -1.1118305
           ]
          },
          {
           "line": {
            "width": 10
           },
           "marker": {
            "size": 3
           },
           "mode": "lines+markers",
           "name": "RIGHT_FOREARM",
           "type": "scatter3d",
           "x": [
            0.2150962,
            0.1917855
           ],
           "y": [
            -0.26070863,
            -0.2669869
           ],
           "z": [
            -1.0626249,
            -1.1078656
           ]
          },
          {
           "line": {
            "width": 10
           },
           "marker": {
            "size": 3
           },
           "mode": "lines+markers",
           "name": "HIP",
           "type": "scatter3d",
           "x": [
            0.25020593,
            0.23835169
           ],
           "y": [
            -0.31199408,
            -0.30891111
           ],
           "z": [
            -1.0870097,
            -1.0623538
           ]
          },
          {
           "line": {
            "width": 10
           },
           "marker": {
            "size": 3
           },
           "mode": "lines+markers",
           "name": "LEFT_BODY",
           "type": "scatter3d",
           "x": [
            0.27007428,
            0.25020593
           ],
           "y": [
            -0.22669193,
            -0.31199408
           ],
           "z": [
            -1.0759761,
            -1.0870097
           ]
          },
          {
           "line": {
            "width": 10
           },
           "marker": {
            "size": 3
           },
           "mode": "lines+markers",
           "name": "RIGHT_BODY",
           "type": "scatter3d",
           "x": [
            0.23958784,
            0.23835169
           ],
           "y": [
            -0.23115814,
            -0.30891111
           ],
           "z": [
            -1.0468712,
            -1.0623538
           ]
          },
          {
           "line": {
            "width": 10
           },
           "marker": {
            "size": 3
           },
           "mode": "lines+markers",
           "name": "LEFT_THIGH",
           "type": "scatter3d",
           "x": [
            0.25020593,
            0.22718714
           ],
           "y": [
            -0.31199408,
            -0.36953574
           ],
           "z": [
            -1.0870097,
            -1.0555397
           ]
          },
          {
           "line": {
            "width": 10
           },
           "marker": {
            "size": 3
           },
           "mode": "lines+markers",
           "name": "RIGHT_THIGH",
           "type": "scatter3d",
           "x": [
            0.23835169,
            0.24561426
           ],
           "y": [
            -0.30891111,
            -0.3673893
           ],
           "z": [
            -1.0623538,
            -1.0407273
           ]
          },
          {
           "line": {
            "width": 10
           },
           "marker": {
            "size": 3
           },
           "mode": "lines+markers",
           "name": "LEFT_LOWER_LEG",
           "type": "scatter3d",
           "x": [
            0.22718714,
            0.21832116
           ],
           "y": [
            -0.36953574,
            -0.42943534
           ],
           "z": [
            -1.0555397,
            -1.0396938
           ]
          },
          {
           "line": {
            "width": 10
           },
           "marker": {
            "size": 3
           },
           "mode": "lines+markers",
           "name": "RIGHT_LOWER_LEG",
           "type": "scatter3d",
           "x": [
            0.24561426,
            0.28152463
           ],
           "y": [
            -0.3673893,
            -0.40924376
           ],
           "z": [
            -1.0407273,
            -1.0026141
           ]
          }
         ],
         "layout": {
          "title": {
           "text": "frame:555"
          }
         },
         "name": "555"
        },
        {
         "data": [
          {
           "line": {
            "width": 10
           },
           "marker": {
            "size": 3
           },
           "mode": "lines+markers",
           "name": "CLUB",
           "type": "scatter3d",
           "x": [
            0.1592846,
            -0.0025385402
           ],
           "y": [
            -0.29829663,
            -0.33110407
           ],
           "z": [
            -1.1188232,
            -1.2235353
           ]
          },
          {
           "line": {
            "width": 10
           },
           "marker": {
            "size": 3
           },
           "mode": "lines+markers",
           "name": "EYE",
           "type": "scatter3d",
           "x": [
            0.23397772,
            0.23582317
           ],
           "y": [
            -0.2014347,
            -0.20168626
           ],
           "z": [
            -1.0660788,
            -1.0560541
           ]
          },
          {
           "line": {
            "width": 10
           },
           "marker": {
            "size": 3
           },
           "mode": "lines+markers",
           "name": "SHOULDER",
           "type": "scatter3d",
           "x": [
            0.26686016,
            0.23902704
           ],
           "y": [
            -0.22639087,
            -0.23494841
           ],
           "z": [
            -1.0770414,
            -1.0489753
           ]
          },
          {
           "line": {
            "width": 10
           },
           "marker": {
            "size": 3
           },
           "mode": "lines+markers",
           "name": "LEFT_UPPER_ARM",
           "type": "scatter3d",
           "x": [
            0.26686016,
            0.28024802
           ],
           "y": [
            -0.22639087,
            -0.23178524
           ],
           "z": [
            -1.0770414,
            -1.092277
           ]
          },
          {
           "line": {
            "width": 10
           },
           "marker": {
            "size": 3
           },
           "mode": "lines+markers",
           "name": "RIGHT_UPPER_ARM",
           "type": "scatter3d",
           "x": [
            0.23902704,
            0.21424899
           ],
           "y": [
            -0.23494841,
            -0.27017188
           ],
           "z": [
            -1.0489753,
            -1.0637063
           ]
          },
          {
           "line": {
            "width": 10
           },
           "marker": {
            "size": 3
           },
           "mode": "lines+markers",
           "name": "LEFT_FOREARM",
           "type": "scatter3d",
           "x": [
            0.28024802,
            0.2802728
           ],
           "y": [
            -0.23178524,
            -0.20310864
           ],
           "z": [
            -1.092277,
            -1.0826441
           ]
          },
          {
           "line": {
            "width": 10
           },
           "marker": {
            "size": 3
           },
           "mode": "lines+markers",
           "name": "RIGHT_FOREARM",
           "type": "scatter3d",
           "x": [
            0.21424899,
            0.18857412
           ],
           "y": [
            -0.27017188,
            -0.2799783
           ],
           "z": [
            -1.0637063,
            -1.1035016
           ]
          },
          {
           "line": {
            "width": 10
           },
           "marker": {
            "size": 3
           },
           "mode": "lines+markers",
           "name": "HIP",
           "type": "scatter3d",
           "x": [
            0.24752414,
            0.23796286
           ],
           "y": [
            -0.31314248,
            -0.31216383
           ],
           "z": [
            -1.08611,
            -1.0612949
           ]
          },
          {
           "line": {
            "width": 10
           },
           "marker": {
            "size": 3
           },
           "mode": "lines+markers",
           "name": "LEFT_BODY",
           "type": "scatter3d",
           "x": [
            0.26686016,
            0.24752414
           ],
           "y": [
            -0.22639087,
            -0.31314248
           ],
           "z": [
            -1.0770414,
            -1.08611
           ]
          },
          {
           "line": {
            "width": 10
           },
           "marker": {
            "size": 3
           },
           "mode": "lines+markers",
           "name": "RIGHT_BODY",
           "type": "scatter3d",
           "x": [
            0.23902704,
            0.23796286
           ],
           "y": [
            -0.23494841,
            -0.31216383
           ],
           "z": [
            -1.0489753,
            -1.0612949
           ]
          },
          {
           "line": {
            "width": 10
           },
           "marker": {
            "size": 3
           },
           "mode": "lines+markers",
           "name": "LEFT_THIGH",
           "type": "scatter3d",
           "x": [
            0.24752414,
            0.22633652
           ],
           "y": [
            -0.31314248,
            -0.3699285
           ],
           "z": [
            -1.08611,
            -1.0558672
           ]
          },
          {
           "line": {
            "width": 10
           },
           "marker": {
            "size": 3
           },
           "mode": "lines+markers",
           "name": "RIGHT_THIGH",
           "type": "scatter3d",
           "x": [
            0.23796286,
            0.24680264
           ],
           "y": [
            -0.31216383,
            -0.36880785
           ],
           "z": [
            -1.0612949,
            -1.0397052
           ]
          },
          {
           "line": {
            "width": 10
           },
           "marker": {
            "size": 3
           },
           "mode": "lines+markers",
           "name": "LEFT_LOWER_LEG",
           "type": "scatter3d",
           "x": [
            0.22633652,
            0.21924578
           ],
           "y": [
            -0.3699285,
            -0.42856765
           ],
           "z": [
            -1.0558672,
            -1.0391196
           ]
          },
          {
           "line": {
            "width": 10
           },
           "marker": {
            "size": 3
           },
           "mode": "lines+markers",
           "name": "RIGHT_LOWER_LEG",
           "type": "scatter3d",
           "x": [
            0.24680264,
            0.28627747
           ],
           "y": [
            -0.36880785,
            -0.4067601
           ],
           "z": [
            -1.0397052,
            -0.9955285
           ]
          }
         ],
         "layout": {
          "title": {
           "text": "frame:560"
          }
         },
         "name": "560"
        },
        {
         "data": [
          {
           "line": {
            "width": 10
           },
           "marker": {
            "size": 3
           },
           "mode": "lines+markers",
           "name": "CLUB",
           "type": "scatter3d",
           "x": [
            0.16274859,
            -0.002711431
           ],
           "y": [
            -0.30466577,
            -0.3546966
           ],
           "z": [
            -1.1064432,
            -1.199808
           ]
          },
          {
           "line": {
            "width": 10
           },
           "marker": {
            "size": 3
           },
           "mode": "lines+markers",
           "name": "EYE",
           "type": "scatter3d",
           "x": [
            0.23497336,
            0.23493634
           ],
           "y": [
            -0.20072055,
            -0.20174654
           ],
           "z": [
            -1.0656477,
            -1.0581702
           ]
          },
          {
           "line": {
            "width": 10
           },
           "marker": {
            "size": 3
           },
           "mode": "lines+markers",
           "name": "SHOULDER",
           "type": "scatter3d",
           "x": [
            0.26599607,
            0.24087906
           ],
           "y": [
            -0.22476381,
            -0.23407967
           ],
           "z": [
            -1.078181,
            -1.0454029
           ]
          },
          {
           "line": {
            "width": 10
           },
           "marker": {
            "size": 3
           },
           "mode": "lines+markers",
           "name": "LEFT_UPPER_ARM",
           "type": "scatter3d",
           "x": [
            0.26599607,
            0.28154993
           ],
           "y": [
            -0.22476381,
            -0.22882074
           ],
           "z": [
            -1.078181,
            -1.0942901
           ]
          },
          {
           "line": {
            "width": 10
           },
           "marker": {
            "size": 3
           },
           "mode": "lines+markers",
           "name": "RIGHT_UPPER_ARM",
           "type": "scatter3d",
           "x": [
            0.24087906,
            0.21609977
           ],
           "y": [
            -0.23407967,
            -0.27118304
           ],
           "z": [
            -1.0454029,
            -1.0617282
           ]
          },
          {
           "line": {
            "width": 10
           },
           "marker": {
            "size": 3
           },
           "mode": "lines+markers",
           "name": "LEFT_FOREARM",
           "type": "scatter3d",
           "x": [
            0.28154993,
            0.2779394
           ],
           "y": [
            -0.22882074,
            -0.20425051
           ],
           "z": [
            -1.0942901,
            -1.0893588
           ]
          },
          {
           "line": {
            "width": 10
           },
           "marker": {
            "size": 3
           },
           "mode": "lines+markers",
           "name": "RIGHT_FOREARM",
           "type": "scatter3d",
           "x": [
            0.21609977,
            0.18864326
           ],
           "y": [
            -0.27118304,
            -0.2886255
           ],
           "z": [
            -1.0617282,
            -1.096723
           ]
          },
          {
           "line": {
            "width": 10
           },
           "marker": {
            "size": 3
           },
           "mode": "lines+markers",
           "name": "HIP",
           "type": "scatter3d",
           "x": [
            0.24858025,
            0.23598431
           ],
           "y": [
            -0.31040505,
            -0.3112739
           ],
           "z": [
            -1.0854154,
            -1.0650365
           ]
          },
          {
           "line": {
            "width": 10
           },
           "marker": {
            "size": 3
           },
           "mode": "lines+markers",
           "name": "LEFT_BODY",
           "type": "scatter3d",
           "x": [
            0.26599607,
            0.24858025
           ],
           "y": [
            -0.22476381,
            -0.31040505
           ],
           "z": [
            -1.078181,
            -1.0854154
           ]
          },
          {
           "line": {
            "width": 10
           },
           "marker": {
            "size": 3
           },
           "mode": "lines+markers",
           "name": "RIGHT_BODY",
           "type": "scatter3d",
           "x": [
            0.24087906,
            0.23598431
           ],
           "y": [
            -0.23407967,
            -0.3112739
           ],
           "z": [
            -1.0454029,
            -1.0650365
           ]
          },
          {
           "line": {
            "width": 10
           },
           "marker": {
            "size": 3
           },
           "mode": "lines+markers",
           "name": "LEFT_THIGH",
           "type": "scatter3d",
           "x": [
            0.24858025,
            0.23624285
           ],
           "y": [
            -0.31040505,
            -0.36367762
           ],
           "z": [
            -1.0854154,
            -1.0420617
           ]
          },
          {
           "line": {
            "width": 10
           },
           "marker": {
            "size": 3
           },
           "mode": "lines+markers",
           "name": "RIGHT_THIGH",
           "type": "scatter3d",
           "x": [
            0.23598431,
            0.236665
           ],
           "y": [
            -0.3112739,
            -0.37341666
           ],
           "z": [
            -1.0650365,
            -1.0547861
           ]
          },
          {
           "line": {
            "width": 10
           },
           "marker": {
            "size": 3
           },
           "mode": "lines+markers",
           "name": "LEFT_LOWER_LEG",
           "type": "scatter3d",
           "x": [
            0.23624285,
            0.25194788
           ],
           "y": [
            -0.36367762,
            -0.40863562
           ],
           "z": [
            -1.0420617,
            -0.9955725
           ]
          },
          {
           "line": {
            "width": 10
           },
           "marker": {
            "size": 3
           },
           "mode": "lines+markers",
           "name": "RIGHT_LOWER_LEG",
           "type": "scatter3d",
           "x": [
            0.236665,
            0.25370845
           ],
           "y": [
            -0.37341666,
            -0.42896727
           ],
           "z": [
            -1.0547861,
            -1.038792
           ]
          }
         ],
         "layout": {
          "title": {
           "text": "frame:565"
          }
         },
         "name": "565"
        },
        {
         "data": [
          {
           "line": {
            "width": 10
           },
           "marker": {
            "size": 3
           },
           "mode": "lines+markers",
           "name": "CLUB",
           "type": "scatter3d",
           "x": [
            0.16701442,
            -0.0015120562
           ],
           "y": [
            -0.31024548,
            -0.37539488
           ],
           "z": [
            -1.0997549,
            -1.1783243
           ]
          },
          {
           "line": {
            "width": 10
           },
           "marker": {
            "size": 3
           },
           "mode": "lines+markers",
           "name": "EYE",
           "type": "scatter3d",
           "x": [
            0.2351487,
            0.23531021
           ],
           "y": [
            -0.20021692,
            -0.20135
           ],
           "z": [
            -1.0650861,
            -1.0581734
           ]
          },
          {
           "line": {
            "width": 10
           },
           "marker": {
            "size": 3
           },
           "mode": "lines+markers",
           "name": "SHOULDER",
           "type": "scatter3d",
           "x": [
            0.26869643,
            0.23866113
           ],
           "y": [
            -0.2226161,
            -0.2319581
           ],
           "z": [
            -1.0770007,
            -1.048794
           ]
          },
          {
           "line": {
            "width": 10
           },
           "marker": {
            "size": 3
           },
           "mode": "lines+markers",
           "name": "LEFT_UPPER_ARM",
           "type": "scatter3d",
           "x": [
            0.26869643,
            0.27819157
           ],
           "y": [
            -0.2226161,
            -0.23160571
           ],
           "z": [
            -1.0770007,
            -1.102752
           ]
          },
          {
           "line": {
            "width": 10
           },
           "marker": {
            "size": 3
           },
           "mode": "lines+markers",
           "name": "RIGHT_UPPER_ARM",
           "type": "scatter3d",
           "x": [
            0.23866113,
            0.21750858
           ],
           "y": [
            -0.2319581,
            -0.2706676
           ],
           "z": [
            -1.048794,
            -1.0635008
           ]
          },
          {
           "line": {
            "width": 10
           },
           "marker": {
            "size": 3
           },
           "mode": "lines+markers",
           "name": "LEFT_FOREARM",
           "type": "scatter3d",
           "x": [
            0.27819157,
            0.272266
           ],
           "y": [
            -0.23160571,
            -0.2110418
           ],
           "z": [
            -1.102752,
            -1.0956262
           ]
          },
          {
           "line": {
            "width": 10
           },
           "marker": {
            "size": 3
           },
           "mode": "lines+markers",
           "name": "RIGHT_FOREARM",
           "type": "scatter3d",
           "x": [
            0.21750858,
            0.18908837
           ],
           "y": [
            -0.2706676,
            -0.2956755
           ],
           "z": [
            -1.0635008,
            -1.1006199
           ]
          },
          {
           "line": {
            "width": 10
           },
           "marker": {
            "size": 3
           },
           "mode": "lines+markers",
           "name": "HIP",
           "type": "scatter3d",
           "x": [
            0.2483107,
            0.23709728
           ],
           "y": [
            -0.31121176,
            -0.3104554
           ],
           "z": [
            -1.0894492,
            -1.0660267
           ]
          },
          {
           "line": {
            "width": 10
           },
           "marker": {
            "size": 3
           },
           "mode": "lines+markers",
           "name": "LEFT_BODY",
           "type": "scatter3d",
           "x": [
            0.26869643,
            0.2483107
           ],
           "y": [
            -0.2226161,
            -0.31121176
           ],
           "z": [
            -1.0770007,
            -1.0894492
           ]
          },
          {
           "line": {
            "width": 10
           },
           "marker": {
            "size": 3
           },
           "mode": "lines+markers",
           "name": "RIGHT_BODY",
           "type": "scatter3d",
           "x": [
            0.23866113,
            0.23709728
           ],
           "y": [
            -0.2319581,
            -0.3104554
           ],
           "z": [
            -1.048794,
            -1.0660267
           ]
          },
          {
           "line": {
            "width": 10
           },
           "marker": {
            "size": 3
           },
           "mode": "lines+markers",
           "name": "LEFT_THIGH",
           "type": "scatter3d",
           "x": [
            0.2483107,
            0.22572012
           ],
           "y": [
            -0.31121176,
            -0.36904854
           ],
           "z": [
            -1.0894492,
            -1.0568904
           ]
          },
          {
           "line": {
            "width": 10
           },
           "marker": {
            "size": 3
           },
           "mode": "lines+markers",
           "name": "RIGHT_THIGH",
           "type": "scatter3d",
           "x": [
            0.23709728,
            0.24635147
           ],
           "y": [
            -0.3104554,
            -0.36941254
           ],
           "z": [
            -1.0660267,
            -1.0486112
           ]
          },
          {
           "line": {
            "width": 10
           },
           "marker": {
            "size": 3
           },
           "mode": "lines+markers",
           "name": "LEFT_LOWER_LEG",
           "type": "scatter3d",
           "x": [
            0.22572012,
            0.22062121
           ],
           "y": [
            -0.36904854,
            -0.42800742
           ],
           "z": [
            -1.0568904,
            -1.0353281
           ]
          },
          {
           "line": {
            "width": 10
           },
           "marker": {
            "size": 3
           },
           "mode": "lines+markers",
           "name": "RIGHT_LOWER_LEG",
           "type": "scatter3d",
           "x": [
            0.24635147,
            0.2831662
           ],
           "y": [
            -0.36941254,
            -0.41132784
           ],
           "z": [
            -1.0486112,
            -1.0084633
           ]
          }
         ],
         "layout": {
          "title": {
           "text": "frame:570"
          }
         },
         "name": "570"
        },
        {
         "data": [
          {
           "line": {
            "width": 10
           },
           "marker": {
            "size": 3
           },
           "mode": "lines+markers",
           "name": "CLUB",
           "type": "scatter3d",
           "x": [
            0.16813435,
            -0.00051199226
           ],
           "y": [
            -0.31755814,
            -0.38977733
           ],
           "z": [
            -1.0983636,
            -1.1527002
           ]
          },
          {
           "line": {
            "width": 10
           },
           "marker": {
            "size": 3
           },
           "mode": "lines+markers",
           "name": "EYE",
           "type": "scatter3d",
           "x": [
            0.23465584,
            0.23570555
           ],
           "y": [
            -0.20064975,
            -0.2014028
           ],
           "z": [
            -1.0660932,
            -1.0576159
           ]
          },
          {
           "line": {
            "width": 10
           },
           "marker": {
            "size": 3
           },
           "mode": "lines+markers",
           "name": "SHOULDER",
           "type": "scatter3d",
           "x": [
            0.2671917,
            0.23994642
           ],
           "y": [
            -0.22486593,
            -0.23169279
           ],
           "z": [
            -1.079458,
            -1.0485669
           ]
          },
          {
           "line": {
            "width": 10
           },
           "marker": {
            "size": 3
           },
           "mode": "lines+markers",
           "name": "LEFT_UPPER_ARM",
           "type": "scatter3d",
           "x": [
            0.2671917,
            0.26720852
           ],
           "y": [
            -0.22486593,
            -0.24400075
           ],
           "z": [
            -1.079458,
            -1.1160064
           ]
          },
          {
           "line": {
            "width": 10
           },
           "marker": {
            "size": 3
           },
           "mode": "lines+markers",
           "name": "RIGHT_UPPER_ARM",
           "type": "scatter3d",
           "x": [
            0.23994642,
            0.21772596
           ],
           "y": [
            -0.23169279,
            -0.27264684
           ],
           "z": [
            -1.0485669,
            -1.0635556
           ]
          },
          {
           "line": {
            "width": 10
           },
           "marker": {
            "size": 3
           },
           "mode": "lines+markers",
           "name": "LEFT_FOREARM",
           "type": "scatter3d",
           "x": [
            0.26720852,
            0.24951273
           ],
           "y": [
            -0.24400075,
            -0.2343284
           ],
           "z": [
            -1.1160064,
            -1.1247627
           ]
          },
          {
           "line": {
            "width": 10
           },
           "marker": {
            "size": 3
           },
           "mode": "lines+markers",
           "name": "RIGHT_FOREARM",
           "type": "scatter3d",
           "x": [
            0.21772596,
            0.19099034
           ],
           "y": [
            -0.27264684,
            -0.29891795
           ],
           "z": [
            -1.0635556,
            -1.0946567
           ]
          },
          {
           "line": {
            "width": 10
           },
           "marker": {
            "size": 3
           },
           "mode": "lines+markers",
           "name": "HIP",
           "type": "scatter3d",
           "x": [
            0.24798729,
            0.23857524
           ],
           "y": [
            -0.31169042,
            -0.3097105
           ],
           "z": [
            -1.0885448,
            -1.0635086
           ]
          },
          {
           "line": {
            "width": 10
           },
           "marker": {
            "size": 3
           },
           "mode": "lines+markers",
           "name": "LEFT_BODY",
           "type": "scatter3d",
           "x": [
            0.2671917,
            0.24798729
           ],
           "y": [
            -0.22486593,
            -0.31169042
           ],
           "z": [
            -1.079458,
            -1.0885448
           ]
          },
          {
           "line": {
            "width": 10
           },
           "marker": {
            "size": 3
           },
           "mode": "lines+markers",
           "name": "RIGHT_BODY",
           "type": "scatter3d",
           "x": [
            0.23994642,
            0.23857524
           ],
           "y": [
            -0.23169279,
            -0.3097105
           ],
           "z": [
            -1.0485669,
            -1.0635086
           ]
          },
          {
           "line": {
            "width": 10
           },
           "marker": {
            "size": 3
           },
           "mode": "lines+markers",
           "name": "LEFT_THIGH",
           "type": "scatter3d",
           "x": [
            0.24798729,
            0.22486034
           ],
           "y": [
            -0.31169042,
            -0.3697784
           ],
           "z": [
            -1.0885448,
            -1.0566953
           ]
          },
          {
           "line": {
            "width": 10
           },
           "marker": {
            "size": 3
           },
           "mode": "lines+markers",
           "name": "RIGHT_THIGH",
           "type": "scatter3d",
           "x": [
            0.23857524,
            0.248189
           ],
           "y": [
            -0.3097105,
            -0.36945918
           ],
           "z": [
            -1.0635086,
            -1.0453813
           ]
          },
          {
           "line": {
            "width": 10
           },
           "marker": {
            "size": 3
           },
           "mode": "lines+markers",
           "name": "LEFT_LOWER_LEG",
           "type": "scatter3d",
           "x": [
            0.22486034,
            0.215403
           ],
           "y": [
            -0.3697784,
            -0.43243787
           ],
           "z": [
            -1.0566953,
            -1.040616
           ]
          },
          {
           "line": {
            "width": 10
           },
           "marker": {
            "size": 3
           },
           "mode": "lines+markers",
           "name": "RIGHT_LOWER_LEG",
           "type": "scatter3d",
           "x": [
            0.248189,
            0.2863822
           ],
           "y": [
            -0.36945918,
            -0.40883127
           ],
           "z": [
            -1.0453813,
            -1.0047524
           ]
          }
         ],
         "layout": {
          "title": {
           "text": "frame:575"
          }
         },
         "name": "575"
        },
        {
         "data": [
          {
           "line": {
            "width": 10
           },
           "marker": {
            "size": 3
           },
           "mode": "lines+markers",
           "name": "CLUB",
           "type": "scatter3d",
           "x": [
            0.17332457,
            0.006483802
           ],
           "y": [
            -0.32146746,
            -0.4028172
           ],
           "z": [
            -1.0941719,
            -1.1296465
           ]
          },
          {
           "line": {
            "width": 10
           },
           "marker": {
            "size": 3
           },
           "mode": "lines+markers",
           "name": "EYE",
           "type": "scatter3d",
           "x": [
            0.2346556,
            0.23555498
           ],
           "y": [
            -0.20115988,
            -0.20188278
           ],
           "z": [
            -1.0675825,
            -1.0588653
           ]
          },
          {
           "line": {
            "width": 10
           },
           "marker": {
            "size": 3
           },
           "mode": "lines+markers",
           "name": "SHOULDER",
           "type": "scatter3d",
           "x": [
            0.2680121,
            0.23933764
           ],
           "y": [
            -0.22286394,
            -0.23141447
           ],
           "z": [
            -1.078474,
            -1.0505952
           ]
          },
          {
           "line": {
            "width": 10
           },
           "marker": {
            "size": 3
           },
           "mode": "lines+markers",
           "name": "LEFT_UPPER_ARM",
           "type": "scatter3d",
           "x": [
            0.2680121,
            0.27700174
           ],
           "y": [
            -0.22286394,
            -0.23127067
           ],
           "z": [
            -1.078474,
            -1.103921
           ]
          },
          {
           "line": {
            "width": 10
           },
           "marker": {
            "size": 3
           },
           "mode": "lines+markers",
           "name": "RIGHT_UPPER_ARM",
           "type": "scatter3d",
           "x": [
            0.23933764,
            0.21699914
           ],
           "y": [
            -0.23141447,
            -0.27355912
           ],
           "z": [
            -1.0505952,
            -1.0660208
           ]
          },
          {
           "line": {
            "width": 10
           },
           "marker": {
            "size": 3
           },
           "mode": "lines+markers",
           "name": "LEFT_FOREARM",
           "type": "scatter3d",
           "x": [
            0.27700174,
            0.28098395
           ],
           "y": [
            -0.23127067,
            -0.20405567
           ],
           "z": [
            -1.103921,
            -1.0850255
           ]
          },
          {
           "line": {
            "width": 10
           },
           "marker": {
            "size": 3
           },
           "mode": "lines+markers",
           "name": "RIGHT_FOREARM",
           "type": "scatter3d",
           "x": [
            0.21699914,
            0.19024947
           ],
           "y": [
            -0.27355912,
            -0.3028509
           ],
           "z": [
            -1.0660208,
            -1.0918378
           ]
          },
          {
           "line": {
            "width": 10
           },
           "marker": {
            "size": 3
           },
           "mode": "lines+markers",
           "name": "HIP",
           "type": "scatter3d",
           "x": [
            0.24789193,
            0.23850843
           ],
           "y": [
            -0.31119156,
            -0.30938104
           ],
           "z": [
            -1.0878474,
            -1.0634067
           ]
          },
          {
           "line": {
            "width": 10
           },
           "marker": {
            "size": 3
           },
           "mode": "lines+markers",
           "name": "LEFT_BODY",
           "type": "scatter3d",
           "x": [
            0.2680121,
            0.24789193
           ],
           "y": [
            -0.22286394,
            -0.31119156
           ],
           "z": [
            -1.078474,
            -1.0878474
           ]
          },
          {
           "line": {
            "width": 10
           },
           "marker": {
            "size": 3
           },
           "mode": "lines+markers",
           "name": "RIGHT_BODY",
           "type": "scatter3d",
           "x": [
            0.23933764,
            0.23850843
           ],
           "y": [
            -0.23141447,
            -0.30938104
           ],
           "z": [
            -1.0505952,
            -1.0634067
           ]
          },
          {
           "line": {
            "width": 10
           },
           "marker": {
            "size": 3
           },
           "mode": "lines+markers",
           "name": "LEFT_THIGH",
           "type": "scatter3d",
           "x": [
            0.24789193,
            0.22513422
           ],
           "y": [
            -0.31119156,
            -0.36987174
           ],
           "z": [
            -1.0878474,
            -1.0563806
           ]
          },
          {
           "line": {
            "width": 10
           },
           "marker": {
            "size": 3
           },
           "mode": "lines+markers",
           "name": "RIGHT_THIGH",
           "type": "scatter3d",
           "x": [
            0.23850843,
            0.24728523
           ],
           "y": [
            -0.30938104,
            -0.36978397
           ],
           "z": [
            -1.0634067,
            -1.0461326
           ]
          },
          {
           "line": {
            "width": 10
           },
           "marker": {
            "size": 3
           },
           "mode": "lines+markers",
           "name": "LEFT_LOWER_LEG",
           "type": "scatter3d",
           "x": [
            0.22513422,
            0.2155802
           ],
           "y": [
            -0.36987174,
            -0.4330867
           ],
           "z": [
            -1.0563806,
            -1.0411518
           ]
          },
          {
           "line": {
            "width": 10
           },
           "marker": {
            "size": 3
           },
           "mode": "lines+markers",
           "name": "RIGHT_LOWER_LEG",
           "type": "scatter3d",
           "x": [
            0.24728523,
            0.2866749
           ],
           "y": [
            -0.36978397,
            -0.4082769
           ],
           "z": [
            -1.0461326,
            -1.003335
           ]
          }
         ],
         "layout": {
          "title": {
           "text": "frame:580"
          }
         },
         "name": "580"
        },
        {
         "data": [
          {
           "line": {
            "width": 10
           },
           "marker": {
            "size": 3
           },
           "mode": "lines+markers",
           "name": "CLUB",
           "type": "scatter3d",
           "x": [
            0.1738431,
            0.011168312
           ],
           "y": [
            -0.3246317,
            -0.41231316
           ],
           "z": [
            -1.0899736,
            -1.1145906
           ]
          },
          {
           "line": {
            "width": 10
           },
           "marker": {
            "size": 3
           },
           "mode": "lines+markers",
           "name": "EYE",
           "type": "scatter3d",
           "x": [
            0.23368515,
            0.23567405
           ],
           "y": [
            -0.20141602,
            -0.20075046
           ],
           "z": [
            -1.0700774,
            -1.0602367
           ]
          },
          {
           "line": {
            "width": 10
           },
           "marker": {
            "size": 3
           },
           "mode": "lines+markers",
           "name": "SHOULDER",
           "type": "scatter3d",
           "x": [
            0.26108223,
            0.24032892
           ],
           "y": [
            -0.23130156,
            -0.23066339
           ],
           "z": [
            -1.0869389,
            -1.0510926
           ]
          },
          {
           "line": {
            "width": 10
           },
           "marker": {
            "size": 3
           },
           "mode": "lines+markers",
           "name": "LEFT_UPPER_ARM",
           "type": "scatter3d",
           "x": [
            0.26108223,
            0.2566863
           ],
           "y": [
            -0.23130156,
            -0.25989035
           ],
           "z": [
            -1.0869389,
            -1.1266546
           ]
          },
          {
           "line": {
            "width": 10
           },
           "marker": {
            "size": 3
           },
           "mode": "lines+markers",
           "name": "RIGHT_UPPER_ARM",
           "type": "scatter3d",
           "x": [
            0.24032892,
            0.21779597
           ],
           "y": [
            -0.23066339,
            -0.27349007
           ],
           "z": [
            -1.0510926,
            -1.0644529
           ]
          },
          {
           "line": {
            "width": 10
           },
           "marker": {
            "size": 3
           },
           "mode": "lines+markers",
           "name": "LEFT_FOREARM",
           "type": "scatter3d",
           "x": [
            0.2566863,
            0.2314165
           ],
           "y": [
            -0.25989035,
            -0.2617935
           ],
           "z": [
            -1.1266546,
            -1.1438526
           ]
          },
          {
           "line": {
            "width": 10
           },
           "marker": {
            "size": 3
           },
           "mode": "lines+markers",
           "name": "RIGHT_FOREARM",
           "type": "scatter3d",
           "x": [
            0.21779597,
            0.18970022
           ],
           "y": [
            -0.27349007,
            -0.3056451
           ],
           "z": [
            -1.0644529,
            -1.0876851
           ]
          },
          {
           "line": {
            "width": 10
           },
           "marker": {
            "size": 3
           },
           "mode": "lines+markers",
           "name": "HIP",
           "type": "scatter3d",
           "x": [
            0.24593742,
            0.23813894
           ],
           "y": [
            -0.31472394,
            -0.31153208
           ],
           "z": [
            -1.0889852,
            -1.063589
           ]
          },
          {
           "line": {
            "width": 10
           },
           "marker": {
            "size": 3
           },
           "mode": "lines+markers",
           "name": "LEFT_BODY",
           "type": "scatter3d",
           "x": [
            0.26108223,
            0.24593742
           ],
           "y": [
            -0.23130156,
            -0.31472394
           ],
           "z": [
            -1.0869389,
            -1.0889852
           ]
          },
          {
           "line": {
            "width": 10
           },
           "marker": {
            "size": 3
           },
           "mode": "lines+markers",
           "name": "RIGHT_BODY",
           "type": "scatter3d",
           "x": [
            0.24032892,
            0.23813894
           ],
           "y": [
            -0.23066339,
            -0.31153208
           ],
           "z": [
            -1.0510926,
            -1.063589
           ]
          },
          {
           "line": {
            "width": 10
           },
           "marker": {
            "size": 3
           },
           "mode": "lines+markers",
           "name": "LEFT_THIGH",
           "type": "scatter3d",
           "x": [
            0.24593742,
            0.21922344
           ],
           "y": [
            -0.31472394,
            -0.37505525
           ],
           "z": [
            -1.0889852,
            -1.0611678
           ]
          },
          {
           "line": {
            "width": 10
           },
           "marker": {
            "size": 3
           },
           "mode": "lines+markers",
           "name": "RIGHT_THIGH",
           "type": "scatter3d",
           "x": [
            0.23813894,
            0.2498478
           ],
           "y": [
            -0.31153208,
            -0.3685678
           ],
           "z": [
            -1.063589,
            -1.0433793
           ]
          },
          {
           "line": {
            "width": 10
           },
           "marker": {
            "size": 3
           },
           "mode": "lines+markers",
           "name": "LEFT_LOWER_LEG",
           "type": "scatter3d",
           "x": [
            0.21922344,
            0.21556358
           ],
           "y": [
            -0.37505525,
            -0.4303951
           ],
           "z": [
            -1.0611678,
            -1.0412635
           ]
          },
          {
           "line": {
            "width": 10
           },
           "marker": {
            "size": 3
           },
           "mode": "lines+markers",
           "name": "RIGHT_LOWER_LEG",
           "type": "scatter3d",
           "x": [
            0.2498478,
            0.28445622
           ],
           "y": [
            -0.3685678,
            -0.41129968
           ],
           "z": [
            -1.0433793,
            -1.0048932
           ]
          }
         ],
         "layout": {
          "title": {
           "text": "frame:585"
          }
         },
         "name": "585"
        },
        {
         "data": [
          {
           "line": {
            "width": 10
           },
           "marker": {
            "size": 3
           },
           "mode": "lines+markers",
           "name": "CLUB",
           "type": "scatter3d",
           "x": [
            0.17428924,
            0.016420353
           ],
           "y": [
            -0.32701236,
            -0.42144117
           ],
           "z": [
            -1.0880821,
            -1.0981945
           ]
          },
          {
           "line": {
            "width": 10
           },
           "marker": {
            "size": 3
           },
           "mode": "lines+markers",
           "name": "EYE",
           "type": "scatter3d",
           "x": [
            0.23310928,
            0.23452327
           ],
           "y": [
            -0.20094949,
            -0.20145538
           ],
           "z": [
            -1.0707082,
            -1.0614997
           ]
          },
          {
           "line": {
            "width": 10
           },
           "marker": {
            "size": 3
           },
           "mode": "lines+markers",
           "name": "SHOULDER",
           "type": "scatter3d",
           "x": [
            0.25952697,
            0.24078707
           ],
           "y": [
            -0.2300793,
            -0.23142375
           ],
           "z": [
            -1.0900295,
            -1.0516518
           ]
          },
          {
           "line": {
            "width": 10
           },
           "marker": {
            "size": 3
           },
           "mode": "lines+markers",
           "name": "LEFT_UPPER_ARM",
           "type": "scatter3d",
           "x": [
            0.25952697,
            0.25058767
           ],
           "y": [
            -0.2300793,
            -0.2646597
           ],
           "z": [
            -1.0900295,
            -1.1323377
           ]
          },
          {
           "line": {
            "width": 10
           },
           "marker": {
            "size": 3
           },
           "mode": "lines+markers",
           "name": "RIGHT_UPPER_ARM",
           "type": "scatter3d",
           "x": [
            0.24078707,
            0.2200143
           ],
           "y": [
            -0.23142375,
            -0.27429068
           ],
           "z": [
            -1.0516518,
            -1.062056
           ]
          },
          {
           "line": {
            "width": 10
           },
           "marker": {
            "size": 3
           },
           "mode": "lines+markers",
           "name": "LEFT_FOREARM",
           "type": "scatter3d",
           "x": [
            0.25058767,
            0.22069784
           ],
           "y": [
            -0.2646597,
            -0.27752933
           ],
           "z": [
            -1.1323377,
            -1.149918
           ]
          },
          {
           "line": {
            "width": 10
           },
           "marker": {
            "size": 3
           },
           "mode": "lines+markers",
           "name": "RIGHT_FOREARM",
           "type": "scatter3d",
           "x": [
            0.2200143,
            0.1920421
           ],
           "y": [
            -0.27429068,
            -0.30758643
           ],
           "z": [
            -1.062056,
            -1.0831896
           ]
          },
          {
           "line": {
            "width": 10
           },
           "marker": {
            "size": 3
           },
           "mode": "lines+markers",
           "name": "HIP",
           "type": "scatter3d",
           "x": [
            0.24176246,
            0.23691222
           ],
           "y": [
            -0.31489605,
            -0.31065443
           ],
           "z": [
            -1.0949047,
            -1.0662142
           ]
          },
          {
           "line": {
            "width": 10
           },
           "marker": {
            "size": 3
           },
           "mode": "lines+markers",
           "name": "LEFT_BODY",
           "type": "scatter3d",
           "x": [
            0.25952697,
            0.24176246
           ],
           "y": [
            -0.2300793,
            -0.31489605
           ],
           "z": [
            -1.0900295,
            -1.0949047
           ]
          },
          {
           "line": {
            "width": 10
           },
           "marker": {
            "size": 3
           },
           "mode": "lines+markers",
           "name": "RIGHT_BODY",
           "type": "scatter3d",
           "x": [
            0.24078707,
            0.23691222
           ],
           "y": [
            -0.23142375,
            -0.31065443
           ],
           "z": [
            -1.0516518,
            -1.0662142
           ]
          },
          {
           "line": {
            "width": 10
           },
           "marker": {
            "size": 3
           },
           "mode": "lines+markers",
           "name": "LEFT_THIGH",
           "type": "scatter3d",
           "x": [
            0.24176246,
            0.22090542
           ],
           "y": [
            -0.31489605,
            -0.37183467
           ],
           "z": [
            -1.0949047,
            -1.0594842
           ]
          },
          {
           "line": {
            "width": 10
           },
           "marker": {
            "size": 3
           },
           "mode": "lines+markers",
           "name": "RIGHT_THIGH",
           "type": "scatter3d",
           "x": [
            0.23691222,
            0.24830204
           ],
           "y": [
            -0.31065443,
            -0.36973688
           ],
           "z": [
            -1.0662142,
            -1.0451899
           ]
          },
          {
           "line": {
            "width": 10
           },
           "marker": {
            "size": 3
           },
           "mode": "lines+markers",
           "name": "LEFT_LOWER_LEG",
           "type": "scatter3d",
           "x": [
            0.22090542,
            0.2134497
           ],
           "y": [
            -0.37183467,
            -0.43370697
           ],
           "z": [
            -1.0594842,
            -1.040967
           ]
          },
          {
           "line": {
            "width": 10
           },
           "marker": {
            "size": 3
           },
           "mode": "lines+markers",
           "name": "RIGHT_LOWER_LEG",
           "type": "scatter3d",
           "x": [
            0.24830204,
            0.2855141
           ],
           "y": [
            -0.36973688,
            -0.40979207
           ],
           "z": [
            -1.0451899,
            -1.0055496
           ]
          }
         ],
         "layout": {
          "title": {
           "text": "frame:590"
          }
         },
         "name": "590"
        },
        {
         "data": [
          {
           "line": {
            "width": 10
           },
           "marker": {
            "size": 3
           },
           "mode": "lines+markers",
           "name": "CLUB",
           "type": "scatter3d",
           "x": [
            0.1748666,
            0.017338304
           ],
           "y": [
            -0.32671306,
            -0.42673215
           ],
           "z": [
            -1.0897306,
            -1.0879987
           ]
          },
          {
           "line": {
            "width": 10
           },
           "marker": {
            "size": 3
           },
           "mode": "lines+markers",
           "name": "EYE",
           "type": "scatter3d",
           "x": [
            0.22881712,
            0.23286465
           ],
           "y": [
            -0.20165847,
            -0.20036086
           ],
           "z": [
            -1.0756499,
            -1.063429
           ]
          },
          {
           "line": {
            "width": 10
           },
           "marker": {
            "size": 3
           },
           "mode": "lines+markers",
           "name": "SHOULDER",
           "type": "scatter3d",
           "x": [
            0.25338748,
            0.23888695
           ],
           "y": [
            -0.23400615,
            -0.22964096
           ],
           "z": [
            -1.0977749,
            -1.0545498
           ]
          },
          {
           "line": {
            "width": 10
           },
           "marker": {
            "size": 3
           },
           "mode": "lines+markers",
           "name": "LEFT_UPPER_ARM",
           "type": "scatter3d",
           "x": [
            0.25338748,
            0.24241622
           ],
           "y": [
            -0.23400615,
            -0.27146897
           ],
           "z": [
            -1.0977749,
            -1.1380738
           ]
          },
          {
           "line": {
            "width": 10
           },
           "marker": {
            "size": 3
           },
           "mode": "lines+markers",
           "name": "RIGHT_UPPER_ARM",
           "type": "scatter3d",
           "x": [
            0.23888695,
            0.21649067
           ],
           "y": [
            -0.22964096,
            -0.2743993
           ],
           "z": [
            -1.0545498,
            -1.0675277
           ]
          },
          {
           "line": {
            "width": 10
           },
           "marker": {
            "size": 3
           },
           "mode": "lines+markers",
           "name": "LEFT_FOREARM",
           "type": "scatter3d",
           "x": [
            0.24241622,
            0.21692975
           ],
           "y": [
            -0.27146897,
            -0.2838157
           ],
           "z": [
            -1.1380738,
            -1.1473138
           ]
          },
          {
           "line": {
            "width": 10
           },
           "marker": {
            "size": 3
           },
           "mode": "lines+markers",
           "name": "RIGHT_FOREARM",
           "type": "scatter3d",
           "x": [
            0.21649067,
            0.19086897
           ],
           "y": [
            -0.2743993,
            -0.30882877
           ],
           "z": [
            -1.0675277,
            -1.0833849
           ]
          },
          {
           "line": {
            "width": 10
           },
           "marker": {
            "size": 3
           },
           "mode": "lines+markers",
           "name": "HIP",
           "type": "scatter3d",
           "x": [
            0.2406379,
            0.23649575
           ],
           "y": [
            -0.31568745,
            -0.31032285
           ],
           "z": [
            -1.095815,
            -1.0655305
           ]
          },
          {
           "line": {
            "width": 10
           },
           "marker": {
            "size": 3
           },
           "mode": "lines+markers",
           "name": "LEFT_BODY",
           "type": "scatter3d",
           "x": [
            0.25338748,
            0.2406379
           ],
           "y": [
            -0.23400615,
            -0.31568745
           ],
           "z": [
            -1.0977749,
            -1.095815
           ]
          },
          {
           "line": {
            "width": 10
           },
           "marker": {
            "size": 3
           },
           "mode": "lines+markers",
           "name": "RIGHT_BODY",
           "type": "scatter3d",
           "x": [
            0.23888695,
            0.23649575
           ],
           "y": [
            -0.22964096,
            -0.31032285
           ],
           "z": [
            -1.0545498,
            -1.0655305
           ]
          },
          {
           "line": {
            "width": 10
           },
           "marker": {
            "size": 3
           },
           "mode": "lines+markers",
           "name": "LEFT_THIGH",
           "type": "scatter3d",
           "x": [
            0.2406379,
            0.21724111
           ],
           "y": [
            -0.31568745,
            -0.37597296
           ],
           "z": [
            -1.095815,
            -1.0645071
           ]
          },
          {
           "line": {
            "width": 10
           },
           "marker": {
            "size": 3
           },
           "mode": "lines+markers",
           "name": "RIGHT_THIGH",
           "type": "scatter3d",
           "x": [
            0.23649575,
            0.24642697
           ],
           "y": [
            -0.31032285,
            -0.36856887
           ],
           "z": [
            -1.0655305,
            -1.0453146
           ]
          },
          {
           "line": {
            "width": 10
           },
           "marker": {
            "size": 3
           },
           "mode": "lines+markers",
           "name": "LEFT_LOWER_LEG",
           "type": "scatter3d",
           "x": [
            0.21724111,
            0.21479727
           ],
           "y": [
            -0.37597296,
            -0.43066648
           ],
           "z": [
            -1.0645071,
            -1.0421728
           ]
          },
          {
           "line": {
            "width": 10
           },
           "marker": {
            "size": 3
           },
           "mode": "lines+markers",
           "name": "RIGHT_LOWER_LEG",
           "type": "scatter3d",
           "x": [
            0.24642697,
            0.28162593
           ],
           "y": [
            -0.36856887,
            -0.41192806
           ],
           "z": [
            -1.0453146,
            -1.0071595
           ]
          }
         ],
         "layout": {
          "title": {
           "text": "frame:595"
          }
         },
         "name": "595"
        },
        {
         "data": [
          {
           "line": {
            "width": 10
           },
           "marker": {
            "size": 3
           },
           "mode": "lines+markers",
           "name": "CLUB",
           "type": "scatter3d",
           "x": [
            0.17564318,
            0.019151337
           ],
           "y": [
            -0.32834178,
            -0.43028036
           ],
           "z": [
            -1.0878512,
            -1.0831213
           ]
          },
          {
           "line": {
            "width": 10
           },
           "marker": {
            "size": 3
           },
           "mode": "lines+markers",
           "name": "EYE",
           "type": "scatter3d",
           "x": [
            0.2297383,
            0.23389648
           ],
           "y": [
            -0.20288897,
            -0.20156735
           ],
           "z": [
            -1.0782462,
            -1.0654272
           ]
          },
          {
           "line": {
            "width": 10
           },
           "marker": {
            "size": 3
           },
           "mode": "lines+markers",
           "name": "SHOULDER",
           "type": "scatter3d",
           "x": [
            0.25063714,
            0.24074775
           ],
           "y": [
            -0.23347099,
            -0.22900596
           ],
           "z": [
            -1.1030387,
            -1.0536984
           ]
          },
          {
           "line": {
            "width": 10
           },
           "marker": {
            "size": 3
           },
           "mode": "lines+markers",
           "name": "LEFT_UPPER_ARM",
           "type": "scatter3d",
           "x": [
            0.25063714,
            0.24065852
           ],
           "y": [
            -0.23347099,
            -0.27016702
           ],
           "z": [
            -1.1030387,
            -1.1483579
           ]
          },
          {
           "line": {
            "width": 10
           },
           "marker": {
            "size": 3
           },
           "mode": "lines+markers",
           "name": "RIGHT_UPPER_ARM",
           "type": "scatter3d",
           "x": [
            0.24074775,
            0.21865827
           ],
           "y": [
            -0.22900596,
            -0.27451584
           ],
           "z": [
            -1.0536984,
            -1.0655687
           ]
          },
          {
           "line": {
            "width": 10
           },
           "marker": {
            "size": 3
           },
           "mode": "lines+markers",
           "name": "LEFT_FOREARM",
           "type": "scatter3d",
           "x": [
            0.24065852,
            0.2188932
           ],
           "y": [
            -0.27016702,
            -0.27998585
           ],
           "z": [
            -1.1483579,
            -1.1562259
           ]
          },
          {
           "line": {
            "width": 10
           },
           "marker": {
            "size": 3
           },
           "mode": "lines+markers",
           "name": "RIGHT_FOREARM",
           "type": "scatter3d",
           "x": [
            0.21865827,
            0.19308817
           ],
           "y": [
            -0.27451584,
            -0.3094036
           ],
           "z": [
            -1.0655687,
            -1.0812808
           ]
          },
          {
           "line": {
            "width": 10
           },
           "marker": {
            "size": 3
           },
           "mode": "lines+markers",
           "name": "HIP",
           "type": "scatter3d",
           "x": [
            0.23786378,
            0.23675598
           ],
           "y": [
            -0.3167858,
            -0.31090286
           ],
           "z": [
            -1.0999458,
            -1.0666003
           ]
          },
          {
           "line": {
            "width": 10
           },
           "marker": {
            "size": 3
           },
           "mode": "lines+markers",
           "name": "LEFT_BODY",
           "type": "scatter3d",
           "x": [
            0.25063714,
            0.23786378
           ],
           "y": [
            -0.23347099,
            -0.3167858
           ],
           "z": [
            -1.1030387,
            -1.0999458
           ]
          },
          {
           "line": {
            "width": 10
           },
           "marker": {
            "size": 3
           },
           "mode": "lines+markers",
           "name": "RIGHT_BODY",
           "type": "scatter3d",
           "x": [
            0.24074775,
            0.23675598
           ],
           "y": [
            -0.22900596,
            -0.31090286
           ],
           "z": [
            -1.0536984,
            -1.0666003
           ]
          },
          {
           "line": {
            "width": 10
           },
           "marker": {
            "size": 3
           },
           "mode": "lines+markers",
           "name": "LEFT_THIGH",
           "type": "scatter3d",
           "x": [
            0.23786378,
            0.2165609
           ],
           "y": [
            -0.3167858,
            -0.37580898
           ],
           "z": [
            -1.0999458,
            -1.0636933
           ]
          },
          {
           "line": {
            "width": 10
           },
           "marker": {
            "size": 3
           },
           "mode": "lines+markers",
           "name": "RIGHT_THIGH",
           "type": "scatter3d",
           "x": [
            0.23675598,
            0.2472642
           ],
           "y": [
            -0.31090286,
            -0.36993882
           ],
           "z": [
            -1.0666003,
            -1.0476035
           ]
          },
          {
           "line": {
            "width": 10
           },
           "marker": {
            "size": 3
           },
           "mode": "lines+markers",
           "name": "LEFT_LOWER_LEG",
           "type": "scatter3d",
           "x": [
            0.2165609,
            0.21534835
           ],
           "y": [
            -0.37580898,
            -0.4300779
           ],
           "z": [
            -1.0636933,
            -1.0411297
           ]
          },
          {
           "line": {
            "width": 10
           },
           "marker": {
            "size": 3
           },
           "mode": "lines+markers",
           "name": "RIGHT_LOWER_LEG",
           "type": "scatter3d",
           "x": [
            0.2472642,
            0.28067118
           ],
           "y": [
            -0.36993882,
            -0.4143716
           ],
           "z": [
            -1.0476035,
            -1.0124207
           ]
          }
         ],
         "layout": {
          "title": {
           "text": "frame:600"
          }
         },
         "name": "600"
        },
        {
         "data": [
          {
           "line": {
            "width": 10
           },
           "marker": {
            "size": 3
           },
           "mode": "lines+markers",
           "name": "CLUB",
           "type": "scatter3d",
           "x": [
            0.1782561,
            0.022441197
           ],
           "y": [
            -0.33067915,
            -0.43228787
           ],
           "z": [
            -1.0849334,
            -1.0757731
           ]
          },
          {
           "line": {
            "width": 10
           },
           "marker": {
            "size": 3
           },
           "mode": "lines+markers",
           "name": "EYE",
           "type": "scatter3d",
           "x": [
            0.22982824,
            0.23369065
           ],
           "y": [
            -0.20287265,
            -0.20162375
           ],
           "z": [
            -1.0785779,
            -1.0664859
           ]
          },
          {
           "line": {
            "width": 10
           },
           "marker": {
            "size": 3
           },
           "mode": "lines+markers",
           "name": "SHOULDER",
           "type": "scatter3d",
           "x": [
            0.25012723,
            0.2416015
           ],
           "y": [
            -0.23563385,
            -0.22979301
           ],
           "z": [
            -1.1031965,
            -1.0547525
           ]
          },
          {
           "line": {
            "width": 10
           },
           "marker": {
            "size": 3
           },
           "mode": "lines+markers",
           "name": "LEFT_UPPER_ARM",
           "type": "scatter3d",
           "x": [
            0.25012723,
            0.24096292
           ],
           "y": [
            -0.23563385,
            -0.2708531
           ],
           "z": [
            -1.1031965,
            -1.1453003
           ]
          },
          {
           "line": {
            "width": 10
           },
           "marker": {
            "size": 3
           },
           "mode": "lines+markers",
           "name": "RIGHT_UPPER_ARM",
           "type": "scatter3d",
           "x": [
            0.2416015,
            0.22163402
           ],
           "y": [
            -0.22979301,
            -0.27182695
           ],
           "z": [
            -1.0547525,
            -1.0635109
           ]
          },
          {
           "line": {
            "width": 10
           },
           "marker": {
            "size": 3
           },
           "mode": "lines+markers",
           "name": "LEFT_FOREARM",
           "type": "scatter3d",
           "x": [
            0.24096292,
            0.21821596
           ],
           "y": [
            -0.2708531,
            -0.284106
           ],
           "z": [
            -1.1453003,
            -1.1551442
           ]
          },
          {
           "line": {
            "width": 10
           },
           "marker": {
            "size": 3
           },
           "mode": "lines+markers",
           "name": "RIGHT_FOREARM",
           "type": "scatter3d",
           "x": [
            0.22163402,
            0.19407052
           ],
           "y": [
            -0.27182695,
            -0.3084126
           ],
           "z": [
            -1.0635109,
            -1.079645
           ]
          },
          {
           "line": {
            "width": 10
           },
           "marker": {
            "size": 3
           },
           "mode": "lines+markers",
           "name": "HIP",
           "type": "scatter3d",
           "x": [
            0.23721492,
            0.2371129
           ],
           "y": [
            -0.3171121,
            -0.30996883
           ],
           "z": [
            -1.097161,
            -1.0641165
           ]
          },
          {
           "line": {
            "width": 10
           },
           "marker": {
            "size": 3
           },
           "mode": "lines+markers",
           "name": "LEFT_BODY",
           "type": "scatter3d",
           "x": [
            0.25012723,
            0.23721492
           ],
           "y": [
            -0.23563385,
            -0.3171121
           ],
           "z": [
            -1.1031965,
            -1.097161
           ]
          },
          {
           "line": {
            "width": 10
           },
           "marker": {
            "size": 3
           },
           "mode": "lines+markers",
           "name": "RIGHT_BODY",
           "type": "scatter3d",
           "x": [
            0.2416015,
            0.2371129
           ],
           "y": [
            -0.22979301,
            -0.30996883
           ],
           "z": [
            -1.0547525,
            -1.0641165
           ]
          },
          {
           "line": {
            "width": 10
           },
           "marker": {
            "size": 3
           },
           "mode": "lines+markers",
           "name": "LEFT_THIGH",
           "type": "scatter3d",
           "x": [
            0.23721492,
            0.21460554
           ],
           "y": [
            -0.3171121,
            -0.37728304
           ],
           "z": [
            -1.097161,
            -1.0635792
           ]
          },
          {
           "line": {
            "width": 10
           },
           "marker": {
            "size": 3
           },
           "mode": "lines+markers",
           "name": "RIGHT_THIGH",
           "type": "scatter3d",
           "x": [
            0.2371129,
            0.24689819
           ],
           "y": [
            -0.30996883,
            -0.3676056
           ],
           "z": [
            -1.0641165,
            -1.0416002
           ]
          },
          {
           "line": {
            "width": 10
           },
           "marker": {
            "size": 3
           },
           "mode": "lines+markers",
           "name": "LEFT_LOWER_LEG",
           "type": "scatter3d",
           "x": [
            0.21460554,
            0.21375851
           ],
           "y": [
            -0.37728304,
            -0.43028605
           ],
           "z": [
            -1.0635792,
            -1.0412592
           ]
          },
          {
           "line": {
            "width": 10
           },
           "marker": {
            "size": 3
           },
           "mode": "lines+markers",
           "name": "RIGHT_LOWER_LEG",
           "type": "scatter3d",
           "x": [
            0.24689819,
            0.28133512
           ],
           "y": [
            -0.3676056,
            -0.4098837
           ],
           "z": [
            -1.0416002,
            -1.0059276
           ]
          }
         ],
         "layout": {
          "title": {
           "text": "frame:605"
          }
         },
         "name": "605"
        },
        {
         "data": [
          {
           "line": {
            "width": 10
           },
           "marker": {
            "size": 3
           },
           "mode": "lines+markers",
           "name": "CLUB",
           "type": "scatter3d",
           "x": [
            0.17882146,
            0.023761261
           ],
           "y": [
            -0.33052996,
            -0.43312114
           ],
           "z": [
            -1.0837963,
            -1.0691234
           ]
          },
          {
           "line": {
            "width": 10
           },
           "marker": {
            "size": 3
           },
           "mode": "lines+markers",
           "name": "EYE",
           "type": "scatter3d",
           "x": [
            0.23089029,
            0.23377812
           ],
           "y": [
            -0.2017447,
            -0.2008007
           ],
           "z": [
            -1.0765853,
            -1.0659161
           ]
          },
          {
           "line": {
            "width": 10
           },
           "marker": {
            "size": 3
           },
           "mode": "lines+markers",
           "name": "SHOULDER",
           "type": "scatter3d",
           "x": [
            0.25392902,
            0.24078406
           ],
           "y": [
            -0.23207279,
            -0.22862871
           ],
           "z": [
            -1.0981704,
            -1.0550792
           ]
          },
          {
           "line": {
            "width": 10
           },
           "marker": {
            "size": 3
           },
           "mode": "lines+markers",
           "name": "LEFT_UPPER_ARM",
           "type": "scatter3d",
           "x": [
            0.25392902,
            0.24589165
           ],
           "y": [
            -0.23207279,
            -0.2685661
           ],
           "z": [
            -1.0981704,
            -1.1422516
           ]
          },
          {
           "line": {
            "width": 10
           },
           "marker": {
            "size": 3
           },
           "mode": "lines+markers",
           "name": "RIGHT_UPPER_ARM",
           "type": "scatter3d",
           "x": [
            0.24078406,
            0.2202656
           ],
           "y": [
            -0.22862871,
            -0.2743595
           ],
           "z": [
            -1.0550792,
            -1.0641309
           ]
          },
          {
           "line": {
            "width": 10
           },
           "marker": {
            "size": 3
           },
           "mode": "lines+markers",
           "name": "LEFT_FOREARM",
           "type": "scatter3d",
           "x": [
            0.24589165,
            0.22277881
           ],
           "y": [
            -0.2685661,
            -0.2781279
           ],
           "z": [
            -1.1422516,
            -1.1546729
           ]
          },
          {
           "line": {
            "width": 10
           },
           "marker": {
            "size": 3
           },
           "mode": "lines+markers",
           "name": "RIGHT_FOREARM",
           "type": "scatter3d",
           "x": [
            0.2202656,
            0.19379683
           ],
           "y": [
            -0.2743595,
            -0.3106447
           ],
           "z": [
            -1.0641309,
            -1.0787547
           ]
          },
          {
           "line": {
            "width": 10
           },
           "marker": {
            "size": 3
           },
           "mode": "lines+markers",
           "name": "HIP",
           "type": "scatter3d",
           "x": [
            0.24016827,
            0.23694627
           ],
           "y": [
            -0.3165241,
            -0.3116482
           ],
           "z": [
            -1.0955505,
            -1.0662757
           ]
          },
          {
           "line": {
            "width": 10
           },
           "marker": {
            "size": 3
           },
           "mode": "lines+markers",
           "name": "LEFT_BODY",
           "type": "scatter3d",
           "x": [
            0.25392902,
            0.24016827
           ],
           "y": [
            -0.23207279,
            -0.3165241
           ],
           "z": [
            -1.0981704,
            -1.0955505
           ]
          },
          {
           "line": {
            "width": 10
           },
           "marker": {
            "size": 3
           },
           "mode": "lines+markers",
           "name": "RIGHT_BODY",
           "type": "scatter3d",
           "x": [
            0.24078406,
            0.23694627
           ],
           "y": [
            -0.22862871,
            -0.3116482
           ],
           "z": [
            -1.0550792,
            -1.0662757
           ]
          },
          {
           "line": {
            "width": 10
           },
           "marker": {
            "size": 3
           },
           "mode": "lines+markers",
           "name": "LEFT_THIGH",
           "type": "scatter3d",
           "x": [
            0.24016827,
            0.21571158
           ],
           "y": [
            -0.3165241,
            -0.37637505
           ],
           "z": [
            -1.0955505,
            -1.0632735
           ]
          },
          {
           "line": {
            "width": 10
           },
           "marker": {
            "size": 3
           },
           "mode": "lines+markers",
           "name": "RIGHT_THIGH",
           "type": "scatter3d",
           "x": [
            0.23694627,
            0.24731332
           ],
           "y": [
            -0.3116482,
            -0.36968556
           ],
           "z": [
            -1.0662757,
            -1.0466115
           ]
          },
          {
           "line": {
            "width": 10
           },
           "marker": {
            "size": 3
           },
           "mode": "lines+markers",
           "name": "LEFT_LOWER_LEG",
           "type": "scatter3d",
           "x": [
            0.21571158,
            0.21401808
           ],
           "y": [
            -0.37637505,
            -0.43132827
           ],
           "z": [
            -1.0632735,
            -1.0428075
           ]
          },
          {
           "line": {
            "width": 10
           },
           "marker": {
            "size": 3
           },
           "mode": "lines+markers",
           "name": "RIGHT_LOWER_LEG",
           "type": "scatter3d",
           "x": [
            0.24731332,
            0.28182793
           ],
           "y": [
            -0.36968556,
            -0.4128276
           ],
           "z": [
            -1.0466115,
            -1.0098296
           ]
          }
         ],
         "layout": {
          "title": {
           "text": "frame:610"
          }
         },
         "name": "610"
        },
        {
         "data": [
          {
           "line": {
            "width": 10
           },
           "marker": {
            "size": 3
           },
           "mode": "lines+markers",
           "name": "CLUB",
           "type": "scatter3d",
           "x": [
            0.18019238,
            0.026669418
           ],
           "y": [
            -0.32969213,
            -0.43272334
           ],
           "z": [
            -1.0817362,
            -1.0628939
           ]
          },
          {
           "line": {
            "width": 10
           },
           "marker": {
            "size": 3
           },
           "mode": "lines+markers",
           "name": "EYE",
           "type": "scatter3d",
           "x": [
            0.2311811,
            0.2344104
           ],
           "y": [
            -0.20123996,
            -0.20007807
           ],
           "z": [
            -1.0770195,
            -1.0656463
           ]
          },
          {
           "line": {
            "width": 10
           },
           "marker": {
            "size": 3
           },
           "mode": "lines+markers",
           "name": "SHOULDER",
           "type": "scatter3d",
           "x": [
            0.2515086,
            0.24257836
           ],
           "y": [
            -0.23389849,
            -0.22839184
           ],
           "z": [
            -1.1027083,
            -1.0532039
           ]
          },
          {
           "line": {
            "width": 10
           },
           "marker": {
            "size": 3
           },
           "mode": "lines+markers",
           "name": "LEFT_UPPER_ARM",
           "type": "scatter3d",
           "x": [
            0.2515086,
            0.24157272
           ],
           "y": [
            -0.23389849,
            -0.27315134
           ],
           "z": [
            -1.1027083,
            -1.1441618
           ]
          },
          {
           "line": {
            "width": 10
           },
           "marker": {
            "size": 3
           },
           "mode": "lines+markers",
           "name": "RIGHT_UPPER_ARM",
           "type": "scatter3d",
           "x": [
            0.24257836,
            0.22269724
           ],
           "y": [
            -0.22839184,
            -0.2746461
           ],
           "z": [
            -1.0532039,
            -1.0612181
           ]
          },
          {
           "line": {
            "width": 10
           },
           "marker": {
            "size": 3
           },
           "mode": "lines+markers",
           "name": "LEFT_FOREARM",
           "type": "scatter3d",
           "x": [
            0.24157272,
            0.22033936
           ],
           "y": [
            -0.27315134,
            -0.2842537
           ],
           "z": [
            -1.1441618,
            -1.1506882
           ]
          },
          {
           "line": {
            "width": 10
           },
           "marker": {
            "size": 3
           },
           "mode": "lines+markers",
           "name": "RIGHT_FOREARM",
           "type": "scatter3d",
           "x": [
            0.22269724,
            0.19615452
           ],
           "y": [
            -0.2746461,
            -0.31055313
           ],
           "z": [
            -1.0612181,
            -1.0748439
           ]
          },
          {
           "line": {
            "width": 10
           },
           "marker": {
            "size": 3
           },
           "mode": "lines+markers",
           "name": "HIP",
           "type": "scatter3d",
           "x": [
            0.23887031,
            0.23845957
           ],
           "y": [
            -0.31748566,
            -0.31110817
           ],
           "z": [
            -1.0970848,
            -1.0635765
           ]
          },
          {
           "line": {
            "width": 10
           },
           "marker": {
            "size": 3
           },
           "mode": "lines+markers",
           "name": "LEFT_BODY",
           "type": "scatter3d",
           "x": [
            0.2515086,
            0.23887031
           ],
           "y": [
            -0.23389849,
            -0.31748566
           ],
           "z": [
            -1.1027083,
            -1.0970848
           ]
          },
          {
           "line": {
            "width": 10
           },
           "marker": {
            "size": 3
           },
           "mode": "lines+markers",
           "name": "RIGHT_BODY",
           "type": "scatter3d",
           "x": [
            0.24257836,
            0.23845957
           ],
           "y": [
            -0.22839184,
            -0.31110817
           ],
           "z": [
            -1.0532039,
            -1.0635765
           ]
          },
          {
           "line": {
            "width": 10
           },
           "marker": {
            "size": 3
           },
           "mode": "lines+markers",
           "name": "LEFT_THIGH",
           "type": "scatter3d",
           "x": [
            0.23887031,
            0.21601348
           ],
           "y": [
            -0.31748566,
            -0.37682587
           ],
           "z": [
            -1.0970848,
            -1.0631595
           ]
          },
          {
           "line": {
            "width": 10
           },
           "marker": {
            "size": 3
           },
           "mode": "lines+markers",
           "name": "RIGHT_THIGH",
           "type": "scatter3d",
           "x": [
            0.23845957,
            0.24948741
           ],
           "y": [
            -0.31110817,
            -0.3690351
           ],
           "z": [
            -1.0635765,
            -1.0434829
           ]
          },
          {
           "line": {
            "width": 10
           },
           "marker": {
            "size": 3
           },
           "mode": "lines+markers",
           "name": "LEFT_LOWER_LEG",
           "type": "scatter3d",
           "x": [
            0.21601348,
            0.21480028
           ],
           "y": [
            -0.37682587,
            -0.4306409
           ],
           "z": [
            -1.0631595,
            -1.0401819
           ]
          },
          {
           "line": {
            "width": 10
           },
           "marker": {
            "size": 3
           },
           "mode": "lines+markers",
           "name": "RIGHT_LOWER_LEG",
           "type": "scatter3d",
           "x": [
            0.24948741,
            0.2839619
           ],
           "y": [
            -0.3690351,
            -0.4126348
           ],
           "z": [
            -1.0434829,
            -1.0080705
           ]
          }
         ],
         "layout": {
          "title": {
           "text": "frame:615"
          }
         },
         "name": "615"
        },
        {
         "data": [
          {
           "line": {
            "width": 10
           },
           "marker": {
            "size": 3
           },
           "mode": "lines+markers",
           "name": "CLUB",
           "type": "scatter3d",
           "x": [
            0.18226792,
            0.028375644
           ],
           "y": [
            -0.32836917,
            -0.43184918
           ],
           "z": [
            -1.0788479,
            -1.0584904
           ]
          },
          {
           "line": {
            "width": 10
           },
           "marker": {
            "size": 3
           },
           "mode": "lines+markers",
           "name": "EYE",
           "type": "scatter3d",
           "x": [
            0.23441817,
            0.23733936
           ],
           "y": [
            -0.1996809,
            -0.19870988
           ],
           "z": [
            -1.0734146,
            -1.0628031
           ]
          },
          {
           "line": {
            "width": 10
           },
           "marker": {
            "size": 3
           },
           "mode": "lines+markers",
           "name": "SHOULDER",
           "type": "scatter3d",
           "x": [
            0.2567824,
            0.24317783
           ],
           "y": [
            -0.23359507,
            -0.2289916
           ],
           "z": [
            -1.0960821,
            -1.0528591
           ]
          },
          {
           "line": {
            "width": 10
           },
           "marker": {
            "size": 3
           },
           "mode": "lines+markers",
           "name": "LEFT_UPPER_ARM",
           "type": "scatter3d",
           "x": [
            0.2567824,
            0.24656722
           ],
           "y": [
            -0.23359507,
            -0.27429906
           ],
           "z": [
            -1.0960821,
            -1.1273943
           ]
          },
          {
           "line": {
            "width": 10
           },
           "marker": {
            "size": 3
           },
           "mode": "lines+markers",
           "name": "RIGHT_UPPER_ARM",
           "type": "scatter3d",
           "x": [
            0.24317783,
            0.22263075
           ],
           "y": [
            -0.2289916,
            -0.27549443
           ],
           "z": [
            -1.0528591,
            -1.0626174
           ]
          },
          {
           "line": {
            "width": 10
           },
           "marker": {
            "size": 3
           },
           "mode": "lines+markers",
           "name": "LEFT_FOREARM",
           "type": "scatter3d",
           "x": [
            0.24656722,
            0.22173099
           ],
           "y": [
            -0.27429906,
            -0.29134437
           ],
           "z": [
            -1.1273943,
            -1.1323898
           ]
          },
          {
           "line": {
            "width": 10
           },
           "marker": {
            "size": 3
           },
           "mode": "lines+markers",
           "name": "RIGHT_FOREARM",
           "type": "scatter3d",
           "x": [
            0.22263075,
            0.19592637
           ],
           "y": [
            -0.27549443,
            -0.31112584
           ],
           "z": [
            -1.0626174,
            -1.0744405
           ]
          },
          {
           "line": {
            "width": 10
           },
           "marker": {
            "size": 3
           },
           "mode": "lines+markers",
           "name": "HIP",
           "type": "scatter3d",
           "x": [
            0.24209665,
            0.23855524
           ],
           "y": [
            -0.31627977,
            -0.31086218
           ],
           "z": [
            -1.0928735,
            -1.0622463
           ]
          },
          {
           "line": {
            "width": 10
           },
           "marker": {
            "size": 3
           },
           "mode": "lines+markers",
           "name": "LEFT_BODY",
           "type": "scatter3d",
           "x": [
            0.2567824,
            0.24209665
           ],
           "y": [
            -0.23359507,
            -0.31627977
           ],
           "z": [
            -1.0960821,
            -1.0928735
           ]
          },
          {
           "line": {
            "width": 10
           },
           "marker": {
            "size": 3
           },
           "mode": "lines+markers",
           "name": "RIGHT_BODY",
           "type": "scatter3d",
           "x": [
            0.24317783,
            0.23855524
           ],
           "y": [
            -0.2289916,
            -0.31086218
           ],
           "z": [
            -1.0528591,
            -1.0622463
           ]
          },
          {
           "line": {
            "width": 10
           },
           "marker": {
            "size": 3
           },
           "mode": "lines+markers",
           "name": "LEFT_THIGH",
           "type": "scatter3d",
           "x": [
            0.24209665,
            0.21788281
           ],
           "y": [
            -0.31627977,
            -0.37671167
           ],
           "z": [
            -1.0928735,
            -1.064196
           ]
          },
          {
           "line": {
            "width": 10
           },
           "marker": {
            "size": 3
           },
           "mode": "lines+markers",
           "name": "RIGHT_THIGH",
           "type": "scatter3d",
           "x": [
            0.23855524,
            0.24949557
           ],
           "y": [
            -0.31086218,
            -0.3678187
           ],
           "z": [
            -1.0622463,
            -1.0397521
           ]
          },
          {
           "line": {
            "width": 10
           },
           "marker": {
            "size": 3
           },
           "mode": "lines+markers",
           "name": "LEFT_LOWER_LEG",
           "type": "scatter3d",
           "x": [
            0.21788281,
            0.2144699
           ],
           "y": [
            -0.37671167,
            -0.4308368
           ],
           "z": [
            -1.064196,
            -1.0429667
           ]
          },
          {
           "line": {
            "width": 10
           },
           "marker": {
            "size": 3
           },
           "mode": "lines+markers",
           "name": "RIGHT_LOWER_LEG",
           "type": "scatter3d",
           "x": [
            0.24949557,
            0.28387538
           ],
           "y": [
            -0.3678187,
            -0.41158918
           ],
           "z": [
            -1.0397521,
            -1.0051295
           ]
          }
         ],
         "layout": {
          "title": {
           "text": "frame:620"
          }
         },
         "name": "620"
        },
        {
         "data": [
          {
           "line": {
            "width": 10
           },
           "marker": {
            "size": 3
           },
           "mode": "lines+markers",
           "name": "CLUB",
           "type": "scatter3d",
           "x": [
            0.18434021,
            0.031435426
           ],
           "y": [
            -0.32759964,
            -0.43001345
           ],
           "z": [
            -1.0754168,
            -1.0536938
           ]
          },
          {
           "line": {
            "width": 10
           },
           "marker": {
            "size": 3
           },
           "mode": "lines+markers",
           "name": "EYE",
           "type": "scatter3d",
           "x": [
            0.23706126,
            0.23922427
           ],
           "y": [
            -0.19828966,
            -0.1976403
           ],
           "z": [
            -1.0712069,
            -1.061471
           ]
          },
          {
           "line": {
            "width": 10
           },
           "marker": {
            "size": 3
           },
           "mode": "lines+markers",
           "name": "SHOULDER",
           "type": "scatter3d",
           "x": [
            0.26167834,
            0.24437064
           ],
           "y": [
            -0.23181503,
            -0.22887318
           ],
           "z": [
            -1.0893586,
            -1.0527186
           ]
          },
          {
           "line": {
            "width": 10
           },
           "marker": {
            "size": 3
           },
           "mode": "lines+markers",
           "name": "LEFT_UPPER_ARM",
           "type": "scatter3d",
           "x": [
            0.26167834,
            0.25496164
           ],
           "y": [
            -0.23181503,
            -0.27053216
           ],
           "z": [
            -1.0893586,
            -1.1154579
           ]
          },
          {
           "line": {
            "width": 10
           },
           "marker": {
            "size": 3
           },
           "mode": "lines+markers",
           "name": "RIGHT_UPPER_ARM",
           "type": "scatter3d",
           "x": [
            0.24437064,
            0.22562397
           ],
           "y": [
            -0.22887318,
            -0.2750053
           ],
           "z": [
            -1.0527186,
            -1.0612035
           ]
          },
          {
           "line": {
            "width": 10
           },
           "marker": {
            "size": 3
           },
           "mode": "lines+markers",
           "name": "LEFT_FOREARM",
           "type": "scatter3d",
           "x": [
            0.25496164,
            0.22974472
           ],
           "y": [
            -0.27053216,
            -0.2872155
           ],
           "z": [
            -1.1154579,
            -1.1212206
           ]
          },
          {
           "line": {
            "width": 10
           },
           "marker": {
            "size": 3
           },
           "mode": "lines+markers",
           "name": "RIGHT_FOREARM",
           "type": "scatter3d",
           "x": [
            0.22562397,
            0.19774735
           ],
           "y": [
            -0.2750053,
            -0.31194022
           ],
           "z": [
            -1.0612035,
            -1.0738891
           ]
          },
          {
           "line": {
            "width": 10
           },
           "marker": {
            "size": 3
           },
           "mode": "lines+markers",
           "name": "HIP",
           "type": "scatter3d",
           "x": [
            0.24549353,
            0.23947224
           ],
           "y": [
            -0.31464988,
            -0.31056553
           ],
           "z": [
            -1.0870336,
            -1.060759
           ]
          },
          {
           "line": {
            "width": 10
           },
           "marker": {
            "size": 3
           },
           "mode": "lines+markers",
           "name": "LEFT_BODY",
           "type": "scatter3d",
           "x": [
            0.26167834,
            0.24549353
           ],
           "y": [
            -0.23181503,
            -0.31464988
           ],
           "z": [
            -1.0893586,
            -1.0870336
           ]
          },
          {
           "line": {
            "width": 10
           },
           "marker": {
            "size": 3
           },
           "mode": "lines+markers",
           "name": "RIGHT_BODY",
           "type": "scatter3d",
           "x": [
            0.24437064,
            0.23947224
           ],
           "y": [
            -0.22887318,
            -0.31056553
           ],
           "z": [
            -1.0527186,
            -1.060759
           ]
          },
          {
           "line": {
            "width": 10
           },
           "marker": {
            "size": 3
           },
           "mode": "lines+markers",
           "name": "LEFT_THIGH",
           "type": "scatter3d",
           "x": [
            0.24549353,
            0.22009702
           ],
           "y": [
            -0.31464988,
            -0.37556663
           ],
           "z": [
            -1.0870336,
            -1.0605818
           ]
          },
          {
           "line": {
            "width": 10
           },
           "marker": {
            "size": 3
           },
           "mode": "lines+markers",
           "name": "RIGHT_THIGH",
           "type": "scatter3d",
           "x": [
            0.23947224,
            0.25044522
           ],
           "y": [
            -0.31056553,
            -0.3675008
           ],
           "z": [
            -1.060759,
            -1.0392728
           ]
          },
          {
           "line": {
            "width": 10
           },
           "marker": {
            "size": 3
           },
           "mode": "lines+markers",
           "name": "LEFT_LOWER_LEG",
           "type": "scatter3d",
           "x": [
            0.22009702,
            0.21591851
           ],
           "y": [
            -0.37556663,
            -0.43001944
           ],
           "z": [
            -1.0605818,
            -1.0398381
           ]
          },
          {
           "line": {
            "width": 10
           },
           "marker": {
            "size": 3
           },
           "mode": "lines+markers",
           "name": "RIGHT_LOWER_LEG",
           "type": "scatter3d",
           "x": [
            0.25044522,
            0.28475305
           ],
           "y": [
            -0.3675008,
            -0.4110014
           ],
           "z": [
            -1.0392728,
            -1.0041015
           ]
          }
         ],
         "layout": {
          "title": {
           "text": "frame:625"
          }
         },
         "name": "625"
        }
       ],
       "layout": {
        "scene": {
         "aspectmode": "manual",
         "aspectratio": {
          "x": 1,
          "y": 1,
          "z": 1
         },
         "camera": {
          "center": {
           "x": 0,
           "y": 0,
           "z": 0
          },
          "eye": {
           "x": 0,
           "y": 0.5,
           "z": -1.5
          },
          "up": {
           "x": 0,
           "y": 0,
           "z": 1
          }
         },
         "xaxis": {
          "range": [
           -0.043416224,
           0.49689695
          ],
          "title": {
           "text": "x-axis[m]"
          }
         },
         "yaxis": {
          "range": [
           -0.4669174,
           -0.04772149
          ],
          "title": {
           "text": "y-axis[m]"
          }
         },
         "zaxis": {
          "range": [
           -1.3244537,
           -0.8263486
          ],
          "title": {
           "text": "z-axis[m]"
          }
         }
        },
        "sliders": [
         {
          "active": 0,
          "currentvalue": {
           "font": {
            "size": 20
           },
           "prefix": "",
           "visible": true,
           "xanchor": "right"
          },
          "steps": [
           {
            "args": [
             [
              "0"
             ],
             {
              "frame": {
               "duration": 1,
               "redraw": true
              },
              "mode": "immediate"
             }
            ],
            "label": "0",
            "method": "animate"
           },
           {
            "args": [
             [
              "5"
             ],
             {
              "frame": {
               "duration": 1,
               "redraw": true
              },
              "mode": "immediate"
             }
            ],
            "label": "5",
            "method": "animate"
           },
           {
            "args": [
             [
              "10"
             ],
             {
              "frame": {
               "duration": 1,
               "redraw": true
              },
              "mode": "immediate"
             }
            ],
            "label": "10",
            "method": "animate"
           },
           {
            "args": [
             [
              "15"
             ],
             {
              "frame": {
               "duration": 1,
               "redraw": true
              },
              "mode": "immediate"
             }
            ],
            "label": "15",
            "method": "animate"
           },
           {
            "args": [
             [
              "20"
             ],
             {
              "frame": {
               "duration": 1,
               "redraw": true
              },
              "mode": "immediate"
             }
            ],
            "label": "20",
            "method": "animate"
           },
           {
            "args": [
             [
              "25"
             ],
             {
              "frame": {
               "duration": 1,
               "redraw": true
              },
              "mode": "immediate"
             }
            ],
            "label": "25",
            "method": "animate"
           },
           {
            "args": [
             [
              "30"
             ],
             {
              "frame": {
               "duration": 1,
               "redraw": true
              },
              "mode": "immediate"
             }
            ],
            "label": "30",
            "method": "animate"
           },
           {
            "args": [
             [
              "35"
             ],
             {
              "frame": {
               "duration": 1,
               "redraw": true
              },
              "mode": "immediate"
             }
            ],
            "label": "35",
            "method": "animate"
           },
           {
            "args": [
             [
              "40"
             ],
             {
              "frame": {
               "duration": 1,
               "redraw": true
              },
              "mode": "immediate"
             }
            ],
            "label": "40",
            "method": "animate"
           },
           {
            "args": [
             [
              "45"
             ],
             {
              "frame": {
               "duration": 1,
               "redraw": true
              },
              "mode": "immediate"
             }
            ],
            "label": "45",
            "method": "animate"
           },
           {
            "args": [
             [
              "50"
             ],
             {
              "frame": {
               "duration": 1,
               "redraw": true
              },
              "mode": "immediate"
             }
            ],
            "label": "50",
            "method": "animate"
           },
           {
            "args": [
             [
              "55"
             ],
             {
              "frame": {
               "duration": 1,
               "redraw": true
              },
              "mode": "immediate"
             }
            ],
            "label": "55",
            "method": "animate"
           },
           {
            "args": [
             [
              "60"
             ],
             {
              "frame": {
               "duration": 1,
               "redraw": true
              },
              "mode": "immediate"
             }
            ],
            "label": "60",
            "method": "animate"
           },
           {
            "args": [
             [
              "65"
             ],
             {
              "frame": {
               "duration": 1,
               "redraw": true
              },
              "mode": "immediate"
             }
            ],
            "label": "65",
            "method": "animate"
           },
           {
            "args": [
             [
              "70"
             ],
             {
              "frame": {
               "duration": 1,
               "redraw": true
              },
              "mode": "immediate"
             }
            ],
            "label": "70",
            "method": "animate"
           },
           {
            "args": [
             [
              "75"
             ],
             {
              "frame": {
               "duration": 1,
               "redraw": true
              },
              "mode": "immediate"
             }
            ],
            "label": "75",
            "method": "animate"
           },
           {
            "args": [
             [
              "80"
             ],
             {
              "frame": {
               "duration": 1,
               "redraw": true
              },
              "mode": "immediate"
             }
            ],
            "label": "80",
            "method": "animate"
           },
           {
            "args": [
             [
              "85"
             ],
             {
              "frame": {
               "duration": 1,
               "redraw": true
              },
              "mode": "immediate"
             }
            ],
            "label": "85",
            "method": "animate"
           },
           {
            "args": [
             [
              "90"
             ],
             {
              "frame": {
               "duration": 1,
               "redraw": true
              },
              "mode": "immediate"
             }
            ],
            "label": "90",
            "method": "animate"
           },
           {
            "args": [
             [
              "95"
             ],
             {
              "frame": {
               "duration": 1,
               "redraw": true
              },
              "mode": "immediate"
             }
            ],
            "label": "95",
            "method": "animate"
           },
           {
            "args": [
             [
              "100"
             ],
             {
              "frame": {
               "duration": 1,
               "redraw": true
              },
              "mode": "immediate"
             }
            ],
            "label": "100",
            "method": "animate"
           },
           {
            "args": [
             [
              "105"
             ],
             {
              "frame": {
               "duration": 1,
               "redraw": true
              },
              "mode": "immediate"
             }
            ],
            "label": "105",
            "method": "animate"
           },
           {
            "args": [
             [
              "110"
             ],
             {
              "frame": {
               "duration": 1,
               "redraw": true
              },
              "mode": "immediate"
             }
            ],
            "label": "110",
            "method": "animate"
           },
           {
            "args": [
             [
              "115"
             ],
             {
              "frame": {
               "duration": 1,
               "redraw": true
              },
              "mode": "immediate"
             }
            ],
            "label": "115",
            "method": "animate"
           },
           {
            "args": [
             [
              "120"
             ],
             {
              "frame": {
               "duration": 1,
               "redraw": true
              },
              "mode": "immediate"
             }
            ],
            "label": "120",
            "method": "animate"
           },
           {
            "args": [
             [
              "125"
             ],
             {
              "frame": {
               "duration": 1,
               "redraw": true
              },
              "mode": "immediate"
             }
            ],
            "label": "125",
            "method": "animate"
           },
           {
            "args": [
             [
              "130"
             ],
             {
              "frame": {
               "duration": 1,
               "redraw": true
              },
              "mode": "immediate"
             }
            ],
            "label": "130",
            "method": "animate"
           },
           {
            "args": [
             [
              "135"
             ],
             {
              "frame": {
               "duration": 1,
               "redraw": true
              },
              "mode": "immediate"
             }
            ],
            "label": "135",
            "method": "animate"
           },
           {
            "args": [
             [
              "140"
             ],
             {
              "frame": {
               "duration": 1,
               "redraw": true
              },
              "mode": "immediate"
             }
            ],
            "label": "140",
            "method": "animate"
           },
           {
            "args": [
             [
              "145"
             ],
             {
              "frame": {
               "duration": 1,
               "redraw": true
              },
              "mode": "immediate"
             }
            ],
            "label": "145",
            "method": "animate"
           },
           {
            "args": [
             [
              "150"
             ],
             {
              "frame": {
               "duration": 1,
               "redraw": true
              },
              "mode": "immediate"
             }
            ],
            "label": "150",
            "method": "animate"
           },
           {
            "args": [
             [
              "155"
             ],
             {
              "frame": {
               "duration": 1,
               "redraw": true
              },
              "mode": "immediate"
             }
            ],
            "label": "155",
            "method": "animate"
           },
           {
            "args": [
             [
              "160"
             ],
             {
              "frame": {
               "duration": 1,
               "redraw": true
              },
              "mode": "immediate"
             }
            ],
            "label": "160",
            "method": "animate"
           },
           {
            "args": [
             [
              "165"
             ],
             {
              "frame": {
               "duration": 1,
               "redraw": true
              },
              "mode": "immediate"
             }
            ],
            "label": "165",
            "method": "animate"
           },
           {
            "args": [
             [
              "170"
             ],
             {
              "frame": {
               "duration": 1,
               "redraw": true
              },
              "mode": "immediate"
             }
            ],
            "label": "170",
            "method": "animate"
           },
           {
            "args": [
             [
              "175"
             ],
             {
              "frame": {
               "duration": 1,
               "redraw": true
              },
              "mode": "immediate"
             }
            ],
            "label": "175",
            "method": "animate"
           },
           {
            "args": [
             [
              "180"
             ],
             {
              "frame": {
               "duration": 1,
               "redraw": true
              },
              "mode": "immediate"
             }
            ],
            "label": "180",
            "method": "animate"
           },
           {
            "args": [
             [
              "185"
             ],
             {
              "frame": {
               "duration": 1,
               "redraw": true
              },
              "mode": "immediate"
             }
            ],
            "label": "185",
            "method": "animate"
           },
           {
            "args": [
             [
              "190"
             ],
             {
              "frame": {
               "duration": 1,
               "redraw": true
              },
              "mode": "immediate"
             }
            ],
            "label": "190",
            "method": "animate"
           },
           {
            "args": [
             [
              "195"
             ],
             {
              "frame": {
               "duration": 1,
               "redraw": true
              },
              "mode": "immediate"
             }
            ],
            "label": "195",
            "method": "animate"
           },
           {
            "args": [
             [
              "200"
             ],
             {
              "frame": {
               "duration": 1,
               "redraw": true
              },
              "mode": "immediate"
             }
            ],
            "label": "200",
            "method": "animate"
           },
           {
            "args": [
             [
              "205"
             ],
             {
              "frame": {
               "duration": 1,
               "redraw": true
              },
              "mode": "immediate"
             }
            ],
            "label": "205",
            "method": "animate"
           },
           {
            "args": [
             [
              "210"
             ],
             {
              "frame": {
               "duration": 1,
               "redraw": true
              },
              "mode": "immediate"
             }
            ],
            "label": "210",
            "method": "animate"
           },
           {
            "args": [
             [
              "215"
             ],
             {
              "frame": {
               "duration": 1,
               "redraw": true
              },
              "mode": "immediate"
             }
            ],
            "label": "215",
            "method": "animate"
           },
           {
            "args": [
             [
              "220"
             ],
             {
              "frame": {
               "duration": 1,
               "redraw": true
              },
              "mode": "immediate"
             }
            ],
            "label": "220",
            "method": "animate"
           },
           {
            "args": [
             [
              "225"
             ],
             {
              "frame": {
               "duration": 1,
               "redraw": true
              },
              "mode": "immediate"
             }
            ],
            "label": "225",
            "method": "animate"
           },
           {
            "args": [
             [
              "230"
             ],
             {
              "frame": {
               "duration": 1,
               "redraw": true
              },
              "mode": "immediate"
             }
            ],
            "label": "230",
            "method": "animate"
           },
           {
            "args": [
             [
              "235"
             ],
             {
              "frame": {
               "duration": 1,
               "redraw": true
              },
              "mode": "immediate"
             }
            ],
            "label": "235",
            "method": "animate"
           },
           {
            "args": [
             [
              "240"
             ],
             {
              "frame": {
               "duration": 1,
               "redraw": true
              },
              "mode": "immediate"
             }
            ],
            "label": "240",
            "method": "animate"
           },
           {
            "args": [
             [
              "245"
             ],
             {
              "frame": {
               "duration": 1,
               "redraw": true
              },
              "mode": "immediate"
             }
            ],
            "label": "245",
            "method": "animate"
           },
           {
            "args": [
             [
              "250"
             ],
             {
              "frame": {
               "duration": 1,
               "redraw": true
              },
              "mode": "immediate"
             }
            ],
            "label": "250",
            "method": "animate"
           },
           {
            "args": [
             [
              "255"
             ],
             {
              "frame": {
               "duration": 1,
               "redraw": true
              },
              "mode": "immediate"
             }
            ],
            "label": "255",
            "method": "animate"
           },
           {
            "args": [
             [
              "260"
             ],
             {
              "frame": {
               "duration": 1,
               "redraw": true
              },
              "mode": "immediate"
             }
            ],
            "label": "260",
            "method": "animate"
           },
           {
            "args": [
             [
              "265"
             ],
             {
              "frame": {
               "duration": 1,
               "redraw": true
              },
              "mode": "immediate"
             }
            ],
            "label": "265",
            "method": "animate"
           },
           {
            "args": [
             [
              "270"
             ],
             {
              "frame": {
               "duration": 1,
               "redraw": true
              },
              "mode": "immediate"
             }
            ],
            "label": "270",
            "method": "animate"
           },
           {
            "args": [
             [
              "275"
             ],
             {
              "frame": {
               "duration": 1,
               "redraw": true
              },
              "mode": "immediate"
             }
            ],
            "label": "275",
            "method": "animate"
           },
           {
            "args": [
             [
              "280"
             ],
             {
              "frame": {
               "duration": 1,
               "redraw": true
              },
              "mode": "immediate"
             }
            ],
            "label": "280",
            "method": "animate"
           },
           {
            "args": [
             [
              "285"
             ],
             {
              "frame": {
               "duration": 1,
               "redraw": true
              },
              "mode": "immediate"
             }
            ],
            "label": "285",
            "method": "animate"
           },
           {
            "args": [
             [
              "290"
             ],
             {
              "frame": {
               "duration": 1,
               "redraw": true
              },
              "mode": "immediate"
             }
            ],
            "label": "290",
            "method": "animate"
           },
           {
            "args": [
             [
              "295"
             ],
             {
              "frame": {
               "duration": 1,
               "redraw": true
              },
              "mode": "immediate"
             }
            ],
            "label": "295",
            "method": "animate"
           },
           {
            "args": [
             [
              "300"
             ],
             {
              "frame": {
               "duration": 1,
               "redraw": true
              },
              "mode": "immediate"
             }
            ],
            "label": "300",
            "method": "animate"
           },
           {
            "args": [
             [
              "305"
             ],
             {
              "frame": {
               "duration": 1,
               "redraw": true
              },
              "mode": "immediate"
             }
            ],
            "label": "305",
            "method": "animate"
           },
           {
            "args": [
             [
              "310"
             ],
             {
              "frame": {
               "duration": 1,
               "redraw": true
              },
              "mode": "immediate"
             }
            ],
            "label": "310",
            "method": "animate"
           },
           {
            "args": [
             [
              "315"
             ],
             {
              "frame": {
               "duration": 1,
               "redraw": true
              },
              "mode": "immediate"
             }
            ],
            "label": "315",
            "method": "animate"
           },
           {
            "args": [
             [
              "320"
             ],
             {
              "frame": {
               "duration": 1,
               "redraw": true
              },
              "mode": "immediate"
             }
            ],
            "label": "320",
            "method": "animate"
           },
           {
            "args": [
             [
              "325"
             ],
             {
              "frame": {
               "duration": 1,
               "redraw": true
              },
              "mode": "immediate"
             }
            ],
            "label": "325",
            "method": "animate"
           },
           {
            "args": [
             [
              "330"
             ],
             {
              "frame": {
               "duration": 1,
               "redraw": true
              },
              "mode": "immediate"
             }
            ],
            "label": "330",
            "method": "animate"
           },
           {
            "args": [
             [
              "335"
             ],
             {
              "frame": {
               "duration": 1,
               "redraw": true
              },
              "mode": "immediate"
             }
            ],
            "label": "335",
            "method": "animate"
           },
           {
            "args": [
             [
              "340"
             ],
             {
              "frame": {
               "duration": 1,
               "redraw": true
              },
              "mode": "immediate"
             }
            ],
            "label": "340",
            "method": "animate"
           },
           {
            "args": [
             [
              "345"
             ],
             {
              "frame": {
               "duration": 1,
               "redraw": true
              },
              "mode": "immediate"
             }
            ],
            "label": "345",
            "method": "animate"
           },
           {
            "args": [
             [
              "350"
             ],
             {
              "frame": {
               "duration": 1,
               "redraw": true
              },
              "mode": "immediate"
             }
            ],
            "label": "350",
            "method": "animate"
           },
           {
            "args": [
             [
              "355"
             ],
             {
              "frame": {
               "duration": 1,
               "redraw": true
              },
              "mode": "immediate"
             }
            ],
            "label": "355",
            "method": "animate"
           },
           {
            "args": [
             [
              "360"
             ],
             {
              "frame": {
               "duration": 1,
               "redraw": true
              },
              "mode": "immediate"
             }
            ],
            "label": "360",
            "method": "animate"
           },
           {
            "args": [
             [
              "365"
             ],
             {
              "frame": {
               "duration": 1,
               "redraw": true
              },
              "mode": "immediate"
             }
            ],
            "label": "365",
            "method": "animate"
           },
           {
            "args": [
             [
              "370"
             ],
             {
              "frame": {
               "duration": 1,
               "redraw": true
              },
              "mode": "immediate"
             }
            ],
            "label": "370",
            "method": "animate"
           },
           {
            "args": [
             [
              "375"
             ],
             {
              "frame": {
               "duration": 1,
               "redraw": true
              },
              "mode": "immediate"
             }
            ],
            "label": "375",
            "method": "animate"
           },
           {
            "args": [
             [
              "380"
             ],
             {
              "frame": {
               "duration": 1,
               "redraw": true
              },
              "mode": "immediate"
             }
            ],
            "label": "380",
            "method": "animate"
           },
           {
            "args": [
             [
              "385"
             ],
             {
              "frame": {
               "duration": 1,
               "redraw": true
              },
              "mode": "immediate"
             }
            ],
            "label": "385",
            "method": "animate"
           },
           {
            "args": [
             [
              "390"
             ],
             {
              "frame": {
               "duration": 1,
               "redraw": true
              },
              "mode": "immediate"
             }
            ],
            "label": "390",
            "method": "animate"
           },
           {
            "args": [
             [
              "395"
             ],
             {
              "frame": {
               "duration": 1,
               "redraw": true
              },
              "mode": "immediate"
             }
            ],
            "label": "395",
            "method": "animate"
           },
           {
            "args": [
             [
              "400"
             ],
             {
              "frame": {
               "duration": 1,
               "redraw": true
              },
              "mode": "immediate"
             }
            ],
            "label": "400",
            "method": "animate"
           },
           {
            "args": [
             [
              "405"
             ],
             {
              "frame": {
               "duration": 1,
               "redraw": true
              },
              "mode": "immediate"
             }
            ],
            "label": "405",
            "method": "animate"
           },
           {
            "args": [
             [
              "410"
             ],
             {
              "frame": {
               "duration": 1,
               "redraw": true
              },
              "mode": "immediate"
             }
            ],
            "label": "410",
            "method": "animate"
           },
           {
            "args": [
             [
              "415"
             ],
             {
              "frame": {
               "duration": 1,
               "redraw": true
              },
              "mode": "immediate"
             }
            ],
            "label": "415",
            "method": "animate"
           },
           {
            "args": [
             [
              "420"
             ],
             {
              "frame": {
               "duration": 1,
               "redraw": true
              },
              "mode": "immediate"
             }
            ],
            "label": "420",
            "method": "animate"
           },
           {
            "args": [
             [
              "425"
             ],
             {
              "frame": {
               "duration": 1,
               "redraw": true
              },
              "mode": "immediate"
             }
            ],
            "label": "425",
            "method": "animate"
           },
           {
            "args": [
             [
              "430"
             ],
             {
              "frame": {
               "duration": 1,
               "redraw": true
              },
              "mode": "immediate"
             }
            ],
            "label": "430",
            "method": "animate"
           },
           {
            "args": [
             [
              "435"
             ],
             {
              "frame": {
               "duration": 1,
               "redraw": true
              },
              "mode": "immediate"
             }
            ],
            "label": "435",
            "method": "animate"
           },
           {
            "args": [
             [
              "440"
             ],
             {
              "frame": {
               "duration": 1,
               "redraw": true
              },
              "mode": "immediate"
             }
            ],
            "label": "440",
            "method": "animate"
           },
           {
            "args": [
             [
              "445"
             ],
             {
              "frame": {
               "duration": 1,
               "redraw": true
              },
              "mode": "immediate"
             }
            ],
            "label": "445",
            "method": "animate"
           },
           {
            "args": [
             [
              "450"
             ],
             {
              "frame": {
               "duration": 1,
               "redraw": true
              },
              "mode": "immediate"
             }
            ],
            "label": "450",
            "method": "animate"
           },
           {
            "args": [
             [
              "455"
             ],
             {
              "frame": {
               "duration": 1,
               "redraw": true
              },
              "mode": "immediate"
             }
            ],
            "label": "455",
            "method": "animate"
           },
           {
            "args": [
             [
              "460"
             ],
             {
              "frame": {
               "duration": 1,
               "redraw": true
              },
              "mode": "immediate"
             }
            ],
            "label": "460",
            "method": "animate"
           },
           {
            "args": [
             [
              "465"
             ],
             {
              "frame": {
               "duration": 1,
               "redraw": true
              },
              "mode": "immediate"
             }
            ],
            "label": "465",
            "method": "animate"
           },
           {
            "args": [
             [
              "470"
             ],
             {
              "frame": {
               "duration": 1,
               "redraw": true
              },
              "mode": "immediate"
             }
            ],
            "label": "470",
            "method": "animate"
           },
           {
            "args": [
             [
              "475"
             ],
             {
              "frame": {
               "duration": 1,
               "redraw": true
              },
              "mode": "immediate"
             }
            ],
            "label": "475",
            "method": "animate"
           },
           {
            "args": [
             [
              "480"
             ],
             {
              "frame": {
               "duration": 1,
               "redraw": true
              },
              "mode": "immediate"
             }
            ],
            "label": "480",
            "method": "animate"
           },
           {
            "args": [
             [
              "485"
             ],
             {
              "frame": {
               "duration": 1,
               "redraw": true
              },
              "mode": "immediate"
             }
            ],
            "label": "485",
            "method": "animate"
           },
           {
            "args": [
             [
              "490"
             ],
             {
              "frame": {
               "duration": 1,
               "redraw": true
              },
              "mode": "immediate"
             }
            ],
            "label": "490",
            "method": "animate"
           },
           {
            "args": [
             [
              "495"
             ],
             {
              "frame": {
               "duration": 1,
               "redraw": true
              },
              "mode": "immediate"
             }
            ],
            "label": "495",
            "method": "animate"
           },
           {
            "args": [
             [
              "500"
             ],
             {
              "frame": {
               "duration": 1,
               "redraw": true
              },
              "mode": "immediate"
             }
            ],
            "label": "500",
            "method": "animate"
           },
           {
            "args": [
             [
              "505"
             ],
             {
              "frame": {
               "duration": 1,
               "redraw": true
              },
              "mode": "immediate"
             }
            ],
            "label": "505",
            "method": "animate"
           },
           {
            "args": [
             [
              "510"
             ],
             {
              "frame": {
               "duration": 1,
               "redraw": true
              },
              "mode": "immediate"
             }
            ],
            "label": "510",
            "method": "animate"
           },
           {
            "args": [
             [
              "515"
             ],
             {
              "frame": {
               "duration": 1,
               "redraw": true
              },
              "mode": "immediate"
             }
            ],
            "label": "515",
            "method": "animate"
           },
           {
            "args": [
             [
              "520"
             ],
             {
              "frame": {
               "duration": 1,
               "redraw": true
              },
              "mode": "immediate"
             }
            ],
            "label": "520",
            "method": "animate"
           },
           {
            "args": [
             [
              "525"
             ],
             {
              "frame": {
               "duration": 1,
               "redraw": true
              },
              "mode": "immediate"
             }
            ],
            "label": "525",
            "method": "animate"
           },
           {
            "args": [
             [
              "530"
             ],
             {
              "frame": {
               "duration": 1,
               "redraw": true
              },
              "mode": "immediate"
             }
            ],
            "label": "530",
            "method": "animate"
           },
           {
            "args": [
             [
              "535"
             ],
             {
              "frame": {
               "duration": 1,
               "redraw": true
              },
              "mode": "immediate"
             }
            ],
            "label": "535",
            "method": "animate"
           },
           {
            "args": [
             [
              "540"
             ],
             {
              "frame": {
               "duration": 1,
               "redraw": true
              },
              "mode": "immediate"
             }
            ],
            "label": "540",
            "method": "animate"
           },
           {
            "args": [
             [
              "545"
             ],
             {
              "frame": {
               "duration": 1,
               "redraw": true
              },
              "mode": "immediate"
             }
            ],
            "label": "545",
            "method": "animate"
           },
           {
            "args": [
             [
              "550"
             ],
             {
              "frame": {
               "duration": 1,
               "redraw": true
              },
              "mode": "immediate"
             }
            ],
            "label": "550",
            "method": "animate"
           },
           {
            "args": [
             [
              "555"
             ],
             {
              "frame": {
               "duration": 1,
               "redraw": true
              },
              "mode": "immediate"
             }
            ],
            "label": "555",
            "method": "animate"
           },
           {
            "args": [
             [
              "560"
             ],
             {
              "frame": {
               "duration": 1,
               "redraw": true
              },
              "mode": "immediate"
             }
            ],
            "label": "560",
            "method": "animate"
           },
           {
            "args": [
             [
              "565"
             ],
             {
              "frame": {
               "duration": 1,
               "redraw": true
              },
              "mode": "immediate"
             }
            ],
            "label": "565",
            "method": "animate"
           },
           {
            "args": [
             [
              "570"
             ],
             {
              "frame": {
               "duration": 1,
               "redraw": true
              },
              "mode": "immediate"
             }
            ],
            "label": "570",
            "method": "animate"
           },
           {
            "args": [
             [
              "575"
             ],
             {
              "frame": {
               "duration": 1,
               "redraw": true
              },
              "mode": "immediate"
             }
            ],
            "label": "575",
            "method": "animate"
           },
           {
            "args": [
             [
              "580"
             ],
             {
              "frame": {
               "duration": 1,
               "redraw": true
              },
              "mode": "immediate"
             }
            ],
            "label": "580",
            "method": "animate"
           },
           {
            "args": [
             [
              "585"
             ],
             {
              "frame": {
               "duration": 1,
               "redraw": true
              },
              "mode": "immediate"
             }
            ],
            "label": "585",
            "method": "animate"
           },
           {
            "args": [
             [
              "590"
             ],
             {
              "frame": {
               "duration": 1,
               "redraw": true
              },
              "mode": "immediate"
             }
            ],
            "label": "590",
            "method": "animate"
           },
           {
            "args": [
             [
              "595"
             ],
             {
              "frame": {
               "duration": 1,
               "redraw": true
              },
              "mode": "immediate"
             }
            ],
            "label": "595",
            "method": "animate"
           },
           {
            "args": [
             [
              "600"
             ],
             {
              "frame": {
               "duration": 1,
               "redraw": true
              },
              "mode": "immediate"
             }
            ],
            "label": "600",
            "method": "animate"
           },
           {
            "args": [
             [
              "605"
             ],
             {
              "frame": {
               "duration": 1,
               "redraw": true
              },
              "mode": "immediate"
             }
            ],
            "label": "605",
            "method": "animate"
           },
           {
            "args": [
             [
              "610"
             ],
             {
              "frame": {
               "duration": 1,
               "redraw": true
              },
              "mode": "immediate"
             }
            ],
            "label": "610",
            "method": "animate"
           },
           {
            "args": [
             [
              "615"
             ],
             {
              "frame": {
               "duration": 1,
               "redraw": true
              },
              "mode": "immediate"
             }
            ],
            "label": "615",
            "method": "animate"
           },
           {
            "args": [
             [
              "620"
             ],
             {
              "frame": {
               "duration": 1,
               "redraw": true
              },
              "mode": "immediate"
             }
            ],
            "label": "620",
            "method": "animate"
           },
           {
            "args": [
             [
              "625"
             ],
             {
              "frame": {
               "duration": 1,
               "redraw": true
              },
              "mode": "immediate"
             }
            ],
            "label": "625",
            "method": "animate"
           }
          ],
          "transition": {
           "duration": 0
          }
         }
        ],
        "template": {
         "data": {
          "bar": [
           {
            "error_x": {
             "color": "#2a3f5f"
            },
            "error_y": {
             "color": "#2a3f5f"
            },
            "marker": {
             "line": {
              "color": "#E5ECF6",
              "width": 0.5
             },
             "pattern": {
              "fillmode": "overlay",
              "size": 10,
              "solidity": 0.2
             }
            },
            "type": "bar"
           }
          ],
          "barpolar": [
           {
            "marker": {
             "line": {
              "color": "#E5ECF6",
              "width": 0.5
             },
             "pattern": {
              "fillmode": "overlay",
              "size": 10,
              "solidity": 0.2
             }
            },
            "type": "barpolar"
           }
          ],
          "carpet": [
           {
            "aaxis": {
             "endlinecolor": "#2a3f5f",
             "gridcolor": "white",
             "linecolor": "white",
             "minorgridcolor": "white",
             "startlinecolor": "#2a3f5f"
            },
            "baxis": {
             "endlinecolor": "#2a3f5f",
             "gridcolor": "white",
             "linecolor": "white",
             "minorgridcolor": "white",
             "startlinecolor": "#2a3f5f"
            },
            "type": "carpet"
           }
          ],
          "choropleth": [
           {
            "colorbar": {
             "outlinewidth": 0,
             "ticks": ""
            },
            "type": "choropleth"
           }
          ],
          "contour": [
           {
            "colorbar": {
             "outlinewidth": 0,
             "ticks": ""
            },
            "colorscale": [
             [
              0,
              "#0d0887"
             ],
             [
              0.1111111111111111,
              "#46039f"
             ],
             [
              0.2222222222222222,
              "#7201a8"
             ],
             [
              0.3333333333333333,
              "#9c179e"
             ],
             [
              0.4444444444444444,
              "#bd3786"
             ],
             [
              0.5555555555555556,
              "#d8576b"
             ],
             [
              0.6666666666666666,
              "#ed7953"
             ],
             [
              0.7777777777777778,
              "#fb9f3a"
             ],
             [
              0.8888888888888888,
              "#fdca26"
             ],
             [
              1,
              "#f0f921"
             ]
            ],
            "type": "contour"
           }
          ],
          "contourcarpet": [
           {
            "colorbar": {
             "outlinewidth": 0,
             "ticks": ""
            },
            "type": "contourcarpet"
           }
          ],
          "heatmap": [
           {
            "colorbar": {
             "outlinewidth": 0,
             "ticks": ""
            },
            "colorscale": [
             [
              0,
              "#0d0887"
             ],
             [
              0.1111111111111111,
              "#46039f"
             ],
             [
              0.2222222222222222,
              "#7201a8"
             ],
             [
              0.3333333333333333,
              "#9c179e"
             ],
             [
              0.4444444444444444,
              "#bd3786"
             ],
             [
              0.5555555555555556,
              "#d8576b"
             ],
             [
              0.6666666666666666,
              "#ed7953"
             ],
             [
              0.7777777777777778,
              "#fb9f3a"
             ],
             [
              0.8888888888888888,
              "#fdca26"
             ],
             [
              1,
              "#f0f921"
             ]
            ],
            "type": "heatmap"
           }
          ],
          "heatmapgl": [
           {
            "colorbar": {
             "outlinewidth": 0,
             "ticks": ""
            },
            "colorscale": [
             [
              0,
              "#0d0887"
             ],
             [
              0.1111111111111111,
              "#46039f"
             ],
             [
              0.2222222222222222,
              "#7201a8"
             ],
             [
              0.3333333333333333,
              "#9c179e"
             ],
             [
              0.4444444444444444,
              "#bd3786"
             ],
             [
              0.5555555555555556,
              "#d8576b"
             ],
             [
              0.6666666666666666,
              "#ed7953"
             ],
             [
              0.7777777777777778,
              "#fb9f3a"
             ],
             [
              0.8888888888888888,
              "#fdca26"
             ],
             [
              1,
              "#f0f921"
             ]
            ],
            "type": "heatmapgl"
           }
          ],
          "histogram": [
           {
            "marker": {
             "pattern": {
              "fillmode": "overlay",
              "size": 10,
              "solidity": 0.2
             }
            },
            "type": "histogram"
           }
          ],
          "histogram2d": [
           {
            "colorbar": {
             "outlinewidth": 0,
             "ticks": ""
            },
            "colorscale": [
             [
              0,
              "#0d0887"
             ],
             [
              0.1111111111111111,
              "#46039f"
             ],
             [
              0.2222222222222222,
              "#7201a8"
             ],
             [
              0.3333333333333333,
              "#9c179e"
             ],
             [
              0.4444444444444444,
              "#bd3786"
             ],
             [
              0.5555555555555556,
              "#d8576b"
             ],
             [
              0.6666666666666666,
              "#ed7953"
             ],
             [
              0.7777777777777778,
              "#fb9f3a"
             ],
             [
              0.8888888888888888,
              "#fdca26"
             ],
             [
              1,
              "#f0f921"
             ]
            ],
            "type": "histogram2d"
           }
          ],
          "histogram2dcontour": [
           {
            "colorbar": {
             "outlinewidth": 0,
             "ticks": ""
            },
            "colorscale": [
             [
              0,
              "#0d0887"
             ],
             [
              0.1111111111111111,
              "#46039f"
             ],
             [
              0.2222222222222222,
              "#7201a8"
             ],
             [
              0.3333333333333333,
              "#9c179e"
             ],
             [
              0.4444444444444444,
              "#bd3786"
             ],
             [
              0.5555555555555556,
              "#d8576b"
             ],
             [
              0.6666666666666666,
              "#ed7953"
             ],
             [
              0.7777777777777778,
              "#fb9f3a"
             ],
             [
              0.8888888888888888,
              "#fdca26"
             ],
             [
              1,
              "#f0f921"
             ]
            ],
            "type": "histogram2dcontour"
           }
          ],
          "mesh3d": [
           {
            "colorbar": {
             "outlinewidth": 0,
             "ticks": ""
            },
            "type": "mesh3d"
           }
          ],
          "parcoords": [
           {
            "line": {
             "colorbar": {
              "outlinewidth": 0,
              "ticks": ""
             }
            },
            "type": "parcoords"
           }
          ],
          "pie": [
           {
            "automargin": true,
            "type": "pie"
           }
          ],
          "scatter": [
           {
            "fillpattern": {
             "fillmode": "overlay",
             "size": 10,
             "solidity": 0.2
            },
            "type": "scatter"
           }
          ],
          "scatter3d": [
           {
            "line": {
             "colorbar": {
              "outlinewidth": 0,
              "ticks": ""
             }
            },
            "marker": {
             "colorbar": {
              "outlinewidth": 0,
              "ticks": ""
             }
            },
            "type": "scatter3d"
           }
          ],
          "scattercarpet": [
           {
            "marker": {
             "colorbar": {
              "outlinewidth": 0,
              "ticks": ""
             }
            },
            "type": "scattercarpet"
           }
          ],
          "scattergeo": [
           {
            "marker": {
             "colorbar": {
              "outlinewidth": 0,
              "ticks": ""
             }
            },
            "type": "scattergeo"
           }
          ],
          "scattergl": [
           {
            "marker": {
             "colorbar": {
              "outlinewidth": 0,
              "ticks": ""
             }
            },
            "type": "scattergl"
           }
          ],
          "scattermapbox": [
           {
            "marker": {
             "colorbar": {
              "outlinewidth": 0,
              "ticks": ""
             }
            },
            "type": "scattermapbox"
           }
          ],
          "scatterpolar": [
           {
            "marker": {
             "colorbar": {
              "outlinewidth": 0,
              "ticks": ""
             }
            },
            "type": "scatterpolar"
           }
          ],
          "scatterpolargl": [
           {
            "marker": {
             "colorbar": {
              "outlinewidth": 0,
              "ticks": ""
             }
            },
            "type": "scatterpolargl"
           }
          ],
          "scatterternary": [
           {
            "marker": {
             "colorbar": {
              "outlinewidth": 0,
              "ticks": ""
             }
            },
            "type": "scatterternary"
           }
          ],
          "surface": [
           {
            "colorbar": {
             "outlinewidth": 0,
             "ticks": ""
            },
            "colorscale": [
             [
              0,
              "#0d0887"
             ],
             [
              0.1111111111111111,
              "#46039f"
             ],
             [
              0.2222222222222222,
              "#7201a8"
             ],
             [
              0.3333333333333333,
              "#9c179e"
             ],
             [
              0.4444444444444444,
              "#bd3786"
             ],
             [
              0.5555555555555556,
              "#d8576b"
             ],
             [
              0.6666666666666666,
              "#ed7953"
             ],
             [
              0.7777777777777778,
              "#fb9f3a"
             ],
             [
              0.8888888888888888,
              "#fdca26"
             ],
             [
              1,
              "#f0f921"
             ]
            ],
            "type": "surface"
           }
          ],
          "table": [
           {
            "cells": {
             "fill": {
              "color": "#EBF0F8"
             },
             "line": {
              "color": "white"
             }
            },
            "header": {
             "fill": {
              "color": "#C8D4E3"
             },
             "line": {
              "color": "white"
             }
            },
            "type": "table"
           }
          ]
         },
         "layout": {
          "annotationdefaults": {
           "arrowcolor": "#2a3f5f",
           "arrowhead": 0,
           "arrowwidth": 1
          },
          "autotypenumbers": "strict",
          "coloraxis": {
           "colorbar": {
            "outlinewidth": 0,
            "ticks": ""
           }
          },
          "colorscale": {
           "diverging": [
            [
             0,
             "#8e0152"
            ],
            [
             0.1,
             "#c51b7d"
            ],
            [
             0.2,
             "#de77ae"
            ],
            [
             0.3,
             "#f1b6da"
            ],
            [
             0.4,
             "#fde0ef"
            ],
            [
             0.5,
             "#f7f7f7"
            ],
            [
             0.6,
             "#e6f5d0"
            ],
            [
             0.7,
             "#b8e186"
            ],
            [
             0.8,
             "#7fbc41"
            ],
            [
             0.9,
             "#4d9221"
            ],
            [
             1,
             "#276419"
            ]
           ],
           "sequential": [
            [
             0,
             "#0d0887"
            ],
            [
             0.1111111111111111,
             "#46039f"
            ],
            [
             0.2222222222222222,
             "#7201a8"
            ],
            [
             0.3333333333333333,
             "#9c179e"
            ],
            [
             0.4444444444444444,
             "#bd3786"
            ],
            [
             0.5555555555555556,
             "#d8576b"
            ],
            [
             0.6666666666666666,
             "#ed7953"
            ],
            [
             0.7777777777777778,
             "#fb9f3a"
            ],
            [
             0.8888888888888888,
             "#fdca26"
            ],
            [
             1,
             "#f0f921"
            ]
           ],
           "sequentialminus": [
            [
             0,
             "#0d0887"
            ],
            [
             0.1111111111111111,
             "#46039f"
            ],
            [
             0.2222222222222222,
             "#7201a8"
            ],
            [
             0.3333333333333333,
             "#9c179e"
            ],
            [
             0.4444444444444444,
             "#bd3786"
            ],
            [
             0.5555555555555556,
             "#d8576b"
            ],
            [
             0.6666666666666666,
             "#ed7953"
            ],
            [
             0.7777777777777778,
             "#fb9f3a"
            ],
            [
             0.8888888888888888,
             "#fdca26"
            ],
            [
             1,
             "#f0f921"
            ]
           ]
          },
          "colorway": [
           "#636efa",
           "#EF553B",
           "#00cc96",
           "#ab63fa",
           "#FFA15A",
           "#19d3f3",
           "#FF6692",
           "#B6E880",
           "#FF97FF",
           "#FECB52"
          ],
          "font": {
           "color": "#2a3f5f"
          },
          "geo": {
           "bgcolor": "white",
           "lakecolor": "white",
           "landcolor": "#E5ECF6",
           "showlakes": true,
           "showland": true,
           "subunitcolor": "white"
          },
          "hoverlabel": {
           "align": "left"
          },
          "hovermode": "closest",
          "mapbox": {
           "style": "light"
          },
          "paper_bgcolor": "white",
          "plot_bgcolor": "#E5ECF6",
          "polar": {
           "angularaxis": {
            "gridcolor": "white",
            "linecolor": "white",
            "ticks": ""
           },
           "bgcolor": "#E5ECF6",
           "radialaxis": {
            "gridcolor": "white",
            "linecolor": "white",
            "ticks": ""
           }
          },
          "scene": {
           "xaxis": {
            "backgroundcolor": "#E5ECF6",
            "gridcolor": "white",
            "gridwidth": 2,
            "linecolor": "white",
            "showbackground": true,
            "ticks": "",
            "zerolinecolor": "white"
           },
           "yaxis": {
            "backgroundcolor": "#E5ECF6",
            "gridcolor": "white",
            "gridwidth": 2,
            "linecolor": "white",
            "showbackground": true,
            "ticks": "",
            "zerolinecolor": "white"
           },
           "zaxis": {
            "backgroundcolor": "#E5ECF6",
            "gridcolor": "white",
            "gridwidth": 2,
            "linecolor": "white",
            "showbackground": true,
            "ticks": "",
            "zerolinecolor": "white"
           }
          },
          "shapedefaults": {
           "line": {
            "color": "#2a3f5f"
           }
          },
          "ternary": {
           "aaxis": {
            "gridcolor": "white",
            "linecolor": "white",
            "ticks": ""
           },
           "baxis": {
            "gridcolor": "white",
            "linecolor": "white",
            "ticks": ""
           },
           "bgcolor": "#E5ECF6",
           "caxis": {
            "gridcolor": "white",
            "linecolor": "white",
            "ticks": ""
           }
          },
          "title": {
           "x": 0.05
          },
          "xaxis": {
           "automargin": true,
           "gridcolor": "white",
           "linecolor": "white",
           "ticks": "",
           "title": {
            "standoff": 15
           },
           "zerolinecolor": "white",
           "zerolinewidth": 2
          },
          "yaxis": {
           "automargin": true,
           "gridcolor": "white",
           "linecolor": "white",
           "ticks": "",
           "title": {
            "standoff": 15
           },
           "zerolinecolor": "white",
           "zerolinewidth": 2
          }
         }
        },
        "updatemenus": [
         {
          "buttons": [
           {
            "args": [
             null,
             {
              "frame": {
               "duration": 1,
               "redraw": true
              },
              "fromcurrent": true,
              "transition": {
               "duration": 0
              }
             }
            ],
            "label": "Play",
            "method": "animate"
           },
           {
            "args": [
             [
              null
             ],
             {
              "frame": {
               "duration": 0,
               "redraw": false
              },
              "mode": "immediate",
              "transition": {
               "duration": 0
              }
             }
            ],
            "label": "Pause",
            "method": "animate"
           }
          ],
          "showactive": false,
          "type": "buttons",
          "x": 0,
          "xanchor": "left",
          "y": 1,
          "yanchor": "top"
         }
        ]
       }
      }
     },
     "metadata": {},
     "output_type": "display_data"
    }
   ],
   "source": [
    "show_3d_swing(df, window=3, frame_step=5, SAVE_PATH='../results/sample/3d_swing.html')"
   ]
  },
  {
   "cell_type": "code",
   "execution_count": null,
   "metadata": {},
   "outputs": [],
   "source": []
  }
 ],
 "metadata": {
  "kernelspec": {
   "display_name": ".venv",
   "language": "python",
   "name": "python3"
  },
  "language_info": {
   "codemirror_mode": {
    "name": "ipython",
    "version": 3
   },
   "file_extension": ".py",
   "mimetype": "text/x-python",
   "name": "python",
   "nbconvert_exporter": "python",
   "pygments_lexer": "ipython3",
   "version": "3.8.10"
  },
  "orig_nbformat": 4
 },
 "nbformat": 4,
 "nbformat_minor": 2
}
