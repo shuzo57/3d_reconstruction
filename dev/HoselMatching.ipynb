{
 "cells": [
  {
   "cell_type": "code",
   "execution_count": 1,
   "metadata": {},
   "outputs": [],
   "source": [
    "import cv2\n",
    "import pandas as pd\n",
    "import numpy as np\n",
    "import matplotlib.pyplot as plt\n",
    "import plotly.graph_objects as go\n",
    "\n",
    "import swing3dify.time_adjustment as ta\n",
    "from swing3dify.core import reconstruct_3D\n",
    "from swing3dify.utils import draw_feature_matches, visualize_3d_points\n",
    "from calibration_data import KNOWN_CALIBRATION_DATA"
   ]
  },
  {
   "cell_type": "code",
   "execution_count": 2,
   "metadata": {},
   "outputs": [],
   "source": [
    "GRAPH_SHOW = False"
   ]
  },
  {
   "cell_type": "code",
   "execution_count": 3,
   "metadata": {},
   "outputs": [],
   "source": [
    "club1 = pd.read_csv('C:/Users/kitano/3d_reconstruction/data/data/red_0712_0016/position_data.csv')\n",
    "club2 = pd.read_csv('C:/Users/kitano/3d_reconstruction/data/data/white_0712_0016/position_data.csv')\n",
    "\n",
    "conf1 = pd.read_csv('C:/Users/kitano/3d_reconstruction/data/data/red_0712_0016/confidence_data.csv')\n",
    "conf2 = pd.read_csv('C:/Users/kitano/3d_reconstruction/data/data/white_0712_0016/confidence_data.csv')"
   ]
  },
  {
   "cell_type": "code",
   "execution_count": 4,
   "metadata": {},
   "outputs": [],
   "source": [
    "club1.interpolate(method='linear', both=True, inplace=True)\n",
    "club2.interpolate(method='linear', both=True, inplace=True)"
   ]
  },
  {
   "cell_type": "code",
   "execution_count": 5,
   "metadata": {},
   "outputs": [],
   "source": [
    "if GRAPH_SHOW:\n",
    "    fig, ax = plt.subplots(figsize=(8, 2))\n",
    "    ax.plot(club1['frame'], club1['HOSEL_y'], label='red')\n",
    "    ax.plot(club2['frame'], club2['HOSEL_y'], label='white')\n",
    "    ax.legend()\n",
    "    plt.show()"
   ]
  },
  {
   "cell_type": "code",
   "execution_count": 6,
   "metadata": {},
   "outputs": [
    {
     "name": "stdout",
     "output_type": "stream",
     "text": [
      "delay_frame: -32\n"
     ]
    }
   ],
   "source": [
    "delay_frame = ta.calculate_delay_frame(club1, club2, 'HOSEL')\n",
    "print(f'delay_frame: {delay_frame}')"
   ]
  },
  {
   "cell_type": "code",
   "execution_count": 7,
   "metadata": {},
   "outputs": [],
   "source": [
    "if GRAPH_SHOW:\n",
    "    fig, ax = plt.subplots(figsize=(8, 2))\n",
    "    ax.plot(club1['frame'], club1['HOSEL_y'], label='red')\n",
    "    ax.plot(club2['frame'] + delay_frame, club2['HOSEL_y'], label='white')\n",
    "    ax.legend()\n",
    "    plt.show()"
   ]
  },
  {
   "cell_type": "code",
   "execution_count": 8,
   "metadata": {},
   "outputs": [],
   "source": [
    "img_num = 50\n",
    "\n",
    "img1 = cv2.imread(f'C:/Users/kitano/3d_reconstruction/data/img/red_0712_0016/red_0712_0016_{img_num}.jpg')\n",
    "img2 = cv2.imread(f'C:/Users/kitano/3d_reconstruction/data/img/white_0712_0016/white_0712_0016_{img_num - delay_frame}.jpg')"
   ]
  },
  {
   "cell_type": "code",
   "execution_count": 9,
   "metadata": {},
   "outputs": [],
   "source": [
    "if GRAPH_SHOW:\n",
    "    fig, ax = plt.subplots(1, 2)\n",
    "    ax[0].imshow(cv2.cvtColor(img1, cv2.COLOR_BGR2RGB))\n",
    "    ax[1].imshow(cv2.cvtColor(img2, cv2.COLOR_BGR2RGB))\n",
    "    ax[0].axis('off')\n",
    "    ax[1].axis('off')\n",
    "    plt.show()"
   ]
  },
  {
   "cell_type": "code",
   "execution_count": 10,
   "metadata": {},
   "outputs": [],
   "source": [
    "if GRAPH_SHOW:\n",
    "    rgb_img1 = cv2.cvtColor(img1, cv2.COLOR_BGR2RGB)\n",
    "    rgb_img2 = cv2.cvtColor(img2, cv2.COLOR_BGR2RGB)\n",
    "\n",
    "    cmap = plt.get_cmap('viridis')\n",
    "\n",
    "    height, width, _ = img1.shape\n",
    "\n",
    "    min_frame = club1['frame'].min()\n",
    "    max_frame = club1['frame'].max()\n",
    "    for x, y, i in zip(club1['HOSEL_x'], club1['HOSEL_y'], club1['frame']):\n",
    "        normalized_value = (i - min_frame) / (max_frame - min_frame)\n",
    "        color = cmap(normalized_value)[:-1]\n",
    "        color = tuple([int(c * 255) for c in color])\n",
    "        cv2.circle(rgb_img1, (int(x*width), int(y*height)), 5, color, 5)\n",
    "\n",
    "    min_frame = club2['frame'].min()\n",
    "    max_frame = club2['frame'].max()\n",
    "    for x, y, i in zip(club2['HOSEL_x'], club2['HOSEL_y'], club2['frame']):\n",
    "        normalized_value = (i - min_frame) / (max_frame - min_frame)\n",
    "        color = cmap(normalized_value)[:-1]\n",
    "        color = tuple([int(c * 255) for c in color])\n",
    "        cv2.circle(rgb_img2, (int(x*width), int(y*height)), 5, color, 5)\n",
    "\n",
    "    fig, ax = plt.subplots(1, 2)\n",
    "    ax[0].imshow(rgb_img1)\n",
    "    ax[1].imshow(rgb_img2)\n",
    "    ax[0].axis('off')\n",
    "    ax[1].axis('off')\n",
    "    plt.show()"
   ]
  },
  {
   "cell_type": "code",
   "execution_count": 11,
   "metadata": {},
   "outputs": [],
   "source": [
    "if GRAPH_SHOW:\n",
    "    fig, ax = plt.subplots(3, 1, figsize=(10, 6))\n",
    "\n",
    "    ax[0].plot(club1['frame'], club1['HOSEL_y'], label='red')\n",
    "    ax[0].plot(club2['frame'] + delay_frame, club2['HOSEL_y'], label='white')\n",
    "    ax[0].legend()\n",
    "\n",
    "    ax[1].plot(conf1['frame'], conf1['BOX_conf'], label='red')\n",
    "    ax[1].plot(conf2['frame'] + delay_frame, conf2['BOX_conf'], label='white')\n",
    "    ax[1].legend()\n",
    "\n",
    "    ax[2].plot(conf1['frame'], conf1['HOSEL_conf'], label='red')\n",
    "    ax[2].plot(conf2['frame'] + delay_frame, conf2['HOSEL_conf'], label='white')\n",
    "    ax[2].legend()\n",
    "\n",
    "    plt.show()"
   ]
  },
  {
   "cell_type": "code",
   "execution_count": 12,
   "metadata": {},
   "outputs": [],
   "source": [
    "thr = 0.85\n",
    "\n",
    "new_club1 = club1.copy()\n",
    "new_club2 = club2.copy()\n",
    "\n",
    "new_club1.loc[conf1['BOX_conf'] <= thr, 'HOSEL_x'] = None\n",
    "new_club1.loc[conf1['BOX_conf'] <= thr, 'HOSEL_y'] = None\n",
    "new_club1.loc[conf1['BOX_conf'] <= thr, 'GRIP_x'] = None\n",
    "new_club1.loc[conf1['BOX_conf'] <= thr, 'GRIP_y'] = None\n",
    "new_club1.loc[conf1['BOX_conf'] <= thr, 'TOE_x'] = None\n",
    "new_club1.loc[conf1['BOX_conf'] <= thr, 'TOE_y'] = None\n",
    "\n",
    "new_club2.loc[conf2['BOX_conf'] <= thr, 'HOSEL_x'] = None\n",
    "new_club2.loc[conf2['BOX_conf'] <= thr, 'HOSEL_y'] = None\n",
    "new_club2.loc[conf2['BOX_conf'] <= thr, 'GRIP_x'] = None\n",
    "new_club2.loc[conf2['BOX_conf'] <= thr, 'GRIP_y'] = None\n",
    "new_club2.loc[conf2['BOX_conf'] <= thr, 'TOE_x'] = None\n",
    "new_club2.loc[conf2['BOX_conf'] <= thr, 'TOE_y'] = None"
   ]
  },
  {
   "cell_type": "code",
   "execution_count": 13,
   "metadata": {},
   "outputs": [],
   "source": [
    "if GRAPH_SHOW:\n",
    "    fig, ax = plt.subplots(3, 1, figsize=(10, 6))\n",
    "\n",
    "    ax[0].plot(new_club1['frame'], new_club1['HOSEL_y'], label='red')\n",
    "    ax[0].plot(new_club2['frame'] + delay_frame, new_club2['HOSEL_y'], label='white')\n",
    "    ax[0].legend()\n",
    "\n",
    "    ax[1].plot(conf1['frame'], conf1['BOX_conf'], label='red')\n",
    "    ax[1].plot(conf2['frame'] + delay_frame, conf2['BOX_conf'], label='white')\n",
    "    ax[1].legend()\n",
    "\n",
    "    ax[2].plot(conf1['frame'], conf1['HOSEL_conf'], label='red')\n",
    "    ax[2].plot(conf2['frame'] + delay_frame, conf2['HOSEL_conf'], label='white')\n",
    "    ax[2].legend()\n",
    "\n",
    "    plt.show()"
   ]
  },
  {
   "cell_type": "code",
   "execution_count": 14,
   "metadata": {},
   "outputs": [
    {
     "name": "stdout",
     "output_type": "stream",
     "text": [
      "common index length: 294\n"
     ]
    }
   ],
   "source": [
    "not_null_index1 = set(new_club1[new_club1['HOSEL_x'].notnull()].index)\n",
    "not_null_index2 = set(new_club2[new_club2['HOSEL_x'].notnull()].index + delay_frame)\n",
    "\n",
    "common_index = np.array(list(not_null_index1 & not_null_index2))\n",
    "print(f'common index length: {len(common_index)}')"
   ]
  },
  {
   "cell_type": "code",
   "execution_count": 15,
   "metadata": {},
   "outputs": [],
   "source": [
    "if GRAPH_SHOW:\n",
    "    fig, ax = plt.subplots(figsize=(10, 2))\n",
    "    ax.scatter(common_index, club1['HOSEL_y'].iloc[common_index], s=3, label='red')\n",
    "    ax.scatter(common_index, club2['HOSEL_y'].iloc[common_index - delay_frame], s=3, label='white')\n",
    "    ax.legend()\n",
    "    plt.show()"
   ]
  },
  {
   "cell_type": "code",
   "execution_count": 16,
   "metadata": {},
   "outputs": [],
   "source": [
    "sync_club1 = new_club1.iloc[common_index].copy()\n",
    "sync_club2 = new_club2.iloc[common_index - delay_frame].copy()"
   ]
  },
  {
   "cell_type": "code",
   "execution_count": 17,
   "metadata": {},
   "outputs": [],
   "source": [
    "if GRAPH_SHOW:\n",
    "    rgb_img1 = cv2.cvtColor(img1, cv2.COLOR_BGR2RGB)\n",
    "    rgb_img2 = cv2.cvtColor(img2, cv2.COLOR_BGR2RGB)\n",
    "\n",
    "    cmap = plt.get_cmap('viridis')\n",
    "\n",
    "    height, width, _ = img1.shape\n",
    "\n",
    "    min_frame = sync_club1['frame'].min()\n",
    "    max_frame = sync_club1['frame'].max()\n",
    "    for x, y, i in zip(sync_club1['HOSEL_x'], sync_club1['HOSEL_y'], sync_club1['frame']):\n",
    "        normalized_value = (i - min_frame) / (max_frame - min_frame)\n",
    "        color = cmap(normalized_value)[:-1]\n",
    "        color = tuple([int(c * 255) for c in color])\n",
    "        cv2.circle(rgb_img1, (int(x*width), int(y*height)), 5, color, 5)\n",
    "\n",
    "    min_frame = sync_club2['frame'].min()\n",
    "    max_frame = sync_club2['frame'].max()\n",
    "    for x, y, i in zip(sync_club2['HOSEL_x'], sync_club2['HOSEL_y'], sync_club2['frame']):\n",
    "        normalized_value = (i - min_frame) / (max_frame - min_frame)\n",
    "        color = cmap(normalized_value)[:-1]\n",
    "        color = tuple([int(c * 255) for c in color])\n",
    "        cv2.circle(rgb_img2, (int(x*width), int(y*height)), 5, color, 5)\n",
    "\n",
    "    fig, ax = plt.subplots(1, 2)\n",
    "    ax[0].imshow(rgb_img1)\n",
    "    ax[1].imshow(rgb_img2)\n",
    "    ax[0].axis('off')\n",
    "    ax[1].axis('off')\n",
    "    plt.show()"
   ]
  },
  {
   "cell_type": "code",
   "execution_count": 18,
   "metadata": {},
   "outputs": [],
   "source": [
    "pts1 = np.float32(sync_club1[['HOSEL_x', 'HOSEL_y']].values)\n",
    "pts2 = np.float32(sync_club2[['HOSEL_x', 'HOSEL_y']].values)\n",
    "\n",
    "F, mask = cv2.findFundamentalMat(pts1, pts2, cv2.FM_LMEDS)\n",
    "K = np.array(KNOWN_CALIBRATION_DATA['FDR-AX700']['mtx'])\n",
    "E = K.T.dot(F).dot(K)\n",
    "\n",
    "U, S, Vt = np.linalg.svd(E)\n",
    "W = np.array([[0, -1, 0], [1, 0, 0], [0, 0, 1]])\n",
    "R = U.dot(W).dot(Vt)\n",
    "T = U[:, 2]"
   ]
  },
  {
   "cell_type": "code",
   "execution_count": 19,
   "metadata": {},
   "outputs": [
    {
     "name": "stdout",
     "output_type": "stream",
     "text": [
      "Rotation: [[ 0.37501608  0.19041952  0.90725043]\n",
      " [ 0.18796941 -0.97396535  0.12672406]\n",
      " [ 0.90776123  0.12301177 -0.40104571]]\n",
      "Translation: [-0.49696761 -0.28695847  0.81894935]\n"
     ]
    }
   ],
   "source": [
    "print(f'Rotation: {R}')\n",
    "print(f'Translation: {T}')"
   ]
  },
  {
   "cell_type": "code",
   "execution_count": 20,
   "metadata": {},
   "outputs": [
    {
     "data": {
      "image/png": "[encoded data removed]",
      "text/plain": [
       "<Figure size 640x480 with 1 Axes>"
      ]
     },
     "metadata": {},
     "output_type": "display_data"
    }
   ],
   "source": [
    "draw_feature_matches(img1, img2, pts1, pts2)"
   ]
  },
  {
   "cell_type": "code",
   "execution_count": 21,
   "metadata": {},
   "outputs": [
    {
     "data": {
      "application/vnd.plotly.v1+json": {
       "config": {
        "plotlyServerURL": "https://plot.ly"
       },
       "data": [
        {
         "mode": "markers",
         "type": "scatter3d",
         "x": [
          -0.8139512538909912,
          -0.8151879906654358,
          -0.8169333934783936,
          -0.8188323974609375,
          -0.8206284046173096,
          -0.8226734399795532,
          -0.8240324258804321,
          -0.8259114623069763,
          -0.8278997540473938,
          -0.8290280699729919,
          -0.831322431564331,
          -0.8494634628295898,
          -0.8533526659011841,
          -0.8550894856452942,
          -0.8581802248954773,
          -0.8590520620346069,
          -0.8607611656188965,
          -0.8619776964187622,
          -0.8629165887832642,
          -0.8659557700157166,
          -0.8673362135887146,
          -0.8685972690582275,
          -0.8689324855804443,
          -0.870506763458252,
          -0.8709675073623657,
          -0.8721298575401306,
          -0.8730199933052063,
          -0.8739187121391296,
          -0.8827114105224609,
          -0.8827082514762878,
          -0.8826703429222107,
          -0.8827273845672607,
          -0.8828837871551514,
          -0.8829319477081299,
          -0.8831101059913635,
          -0.8833924531936646,
          -0.8830838799476624,
          -0.883181631565094,
          -0.8832359313964844,
          -0.8830715417861938,
          -0.8833215236663818,
          -0.8830899596214294,
          -0.8833630681037903,
          -0.8833327889442444,
          -0.8833272457122803,
          -0.8835034370422363,
          -0.8837149143218994,
          -0.8836917281150818,
          -0.8839235901832581,
          -0.8836567401885986,
          -0.8836135268211365,
          -0.8836091160774231,
          -0.8835272192955017,
          -0.8834741711616516,
          -0.8835025429725647,
          -0.8833746910095215,
          -0.8833112120628357,
          -0.8832007646560669,
          -0.8832836747169495,
          -0.8830684423446655,
          -0.8831015229225159,
          -0.8831490278244019,
          -0.8831804394721985,
          -0.8831806182861328,
          -0.8831684589385986,
          -0.8831570744514465,
          -0.8831744194030762,
          -0.8829562067985535,
          -0.8828664422035217,
          -0.8829002976417542,
          -0.8828544020652771,
          -0.8829021453857422,
          -0.8828568458557129,
          -0.8828243613243103,
          -0.8827318549156189,
          -0.8825525045394897,
          -0.8825592398643494,
          -0.8826081156730652,
          -0.8824615478515625,
          -0.882331132888794,
          -0.8823789954185486,
          -0.8823531866073608,
          -0.8823953866958618,
          -0.8823899030685425,
          -0.8824272155761719,
          -0.8458881378173828,
          -0.845076322555542,
          -0.8442984223365784,
          -0.8437068462371826,
          -0.8430334329605103,
          -0.8421716690063477,
          -0.8413732051849365,
          -0.8404430150985718,
          -0.8396444916725159,
          -0.8387769460678101,
          -0.8380064964294434,
          -0.8366370797157288,
          -0.8354002237319946,
          -0.8350628614425659,
          -0.833625853061676,
          -0.8323274254798889,
          -0.8312515616416931,
          -0.8299831748008728,
          -0.8287966251373291,
          -0.827625036239624,
          -0.8265325427055359,
          -0.8253719806671143,
          -0.8247212171554565,
          -0.8235324621200562,
          -0.8223413825035095,
          -0.8204544186592102,
          -0.8137744069099426,
          -0.8124704360961914,
          -0.8090885281562805,
          -0.8047394752502441,
          -0.8035808205604553,
          -0.8026360869407654,
          -0.8012139201164246,
          -0.800173819065094,
          -0.7917636036872864,
          -0.7914999723434448,
          -0.7911748886108398,
          -0.7907273173332214,
          -0.7913163304328918,
          -0.7912737727165222,
          -0.7910731434822083,
          -0.790916383266449,
          -0.7914238572120667,
          -0.7918071746826172,
          -0.7925354242324829,
          -0.7930176854133606,
          -0.7934255599975586,
          -0.7944118976593018,
          -0.7950538992881775,
          -0.7961806654930115,
          -0.7969312071800232,
          -0.7981200814247131,
          -0.7991560101509094,
          -0.800621509552002,
          -0.802087664604187,
          -0.8038060665130615,
          -0.8053026795387268,
          -0.8084760904312134,
          -0.8118905425071716,
          -0.8138311505317688,
          -0.8154813051223755,
          -0.8172261714935303,
          -0.8193789720535278,
          -0.821193516254425,
          -0.8234177231788635,
          -0.8337672352790833,
          -0.8358810544013977,
          -0.8381845355033875,
          -0.8405424356460571,
          -0.8422272205352783,
          -0.8442993760108948,
          -0.8483049869537354,
          -0.8597660064697266,
          -0.8607024550437927,
          -0.8613646626472473,
          -0.8618722558021545,
          -0.8621835708618164,
          -0.8626166582107544,
          -0.8626443147659302,
          -0.8629540205001831,
          -0.8633936047554016,
          -0.8635516166687012,
          -0.8637686371803284,
          -0.8638097643852234,
          -0.8639206886291504,
          -0.8639997243881226,
          -0.8640065789222717,
          -0.8639054298400879,
          -0.8637139201164246,
          -0.8634737133979797,
          -0.8633148670196533,
          -0.8632774949073792,
          -0.8631910085678101,
          -0.8630946278572083,
          -0.8628720045089722,
          -0.8618293404579163,
          -0.8459128141403198,
          -0.8435555100440979,
          -0.8399987816810608,
          -0.8365451693534851,
          -0.8338301181793213,
          -0.8223412036895752,
          -0.8174651861190796,
          -0.8054103851318359,
          -0.8017938137054443,
          -0.7988388538360596,
          -0.7973545789718628,
          -0.7967799305915833,
          -0.8006440997123718,
          -0.806316077709198,
          -0.8460140824317932,
          -0.8715057373046875,
          -0.8785645365715027,
          -0.8837834000587463,
          -0.8868589997291565,
          -0.8897292017936707,
          -0.8796497583389282,
          -0.8815535306930542,
          -0.8774444460868835,
          -0.8727155923843384,
          -0.8433030843734741,
          -0.8387957811355591,
          -0.8283777236938477,
          -0.82413649559021,
          -0.8199930787086487,
          -0.8154890537261963,
          -0.8115631341934204,
          -0.8073431849479675,
          -0.8040400743484497,
          -0.8014285564422607,
          -0.798995316028595,
          -0.7971697449684143,
          -0.7958600521087646,
          -0.7948700189590454,
          -0.7966582775115967,
          -0.7982040047645569,
          -0.8003200888633728,
          -0.8024562001228333,
          -0.8089938759803772,
          -0.8125728964805603,
          -0.8157522082328796,
          -0.8191027045249939,
          -0.8224570751190186,
          -0.8369980454444885,
          -0.8404349684715271,
          -0.8442586660385132,
          -0.8469141125679016,
          -0.8495417237281799,
          -0.8515843749046326,
          -0.8539373874664307,
          -0.8554229736328125,
          -0.8570279479026794,
          -0.8577458262443542,
          -0.8596382141113281,
          -0.8605490326881409,
          -0.8614786863327026,
          -0.8620138764381409,
          -0.8633192777633667,
          -0.8638200759887695,
          -0.8651918172836304,
          -0.8668426871299744,
          -0.8666722178459167,
          -0.8670405149459839,
          -0.8670629262924194,
          -0.8667734265327454,
          -0.8663934469223022,
          -0.8662189245223999,
          -0.865912675857544,
          -0.8651515245437622,
          -0.864685595035553,
          -0.864273190498352,
          -0.8634142875671387,
          -0.8625382781028748,
          -0.8616588711738586,
          -0.8608285188674927,
          -0.8596330881118774,
          -0.8590442538261414,
          -0.8580712676048279,
          -0.8560284376144409,
          -0.8546305298805237,
          -0.8529022932052612,
          -0.85096275806427,
          -0.8496128916740417,
          -0.8472756147384644,
          -0.8262161612510681,
          -0.8240044713020325,
          -0.82253497838974,
          -0.8195632696151733,
          -0.8130772113800049,
          -0.8109880089759827,
          -0.8047255873680115,
          -0.8031849265098572,
          -0.8002257347106934,
          -0.7986160516738892,
          -0.7987529039382935,
          -0.7994408011436462,
          -0.7994260191917419,
          -0.8001888990402222,
          -0.8004587888717651,
          -0.8006436228752136,
          -0.801499605178833,
          -0.8023975491523743,
          -0.8035554885864258,
          -0.8045982122421265,
          -0.8062822222709656,
          -0.8072822690010071,
          -0.8088011741638184,
          -0.810377836227417,
          -0.8119984269142151
         ],
         "y": [
          -0.4632837474346161,
          -0.46398934721946716,
          -0.46498721837997437,
          -0.4660733938217163,
          -0.4670972526073456,
          -0.46826475858688354,
          -0.4690401554107666,
          -0.47011321783065796,
          -0.4712475538253784,
          -0.47189047932624817,
          -0.473198264837265,
          -0.48353084921836853,
          -0.4857432246208191,
          -0.4867294430732727,
          -0.4884869456291199,
          -0.48898157477378845,
          -0.4899532198905945,
          -0.4906444549560547,
          -0.4911770224571228,
          -0.49290403723716736,
          -0.4936874806880951,
          -0.4944034218788147,
          -0.49459025263786316,
          -0.4954841136932373,
          -0.4957461357116699,
          -0.49640533328056335,
          -0.49690794944763184,
          -0.49741655588150024,
          -0.5023667216300964,
          -0.5023625493049622,
          -0.5023380517959595,
          -0.5023677945137024,
          -0.5024538636207581,
          -0.5024799704551697,
          -0.5025791525840759,
          -0.5027379393577576,
          -0.5025597810745239,
          -0.5026152729988098,
          -0.5026445388793945,
          -0.5025489330291748,
          -0.5026903748512268,
          -0.5025568604469299,
          -0.5027095675468445,
          -0.5026904344558716,
          -0.5026853084564209,
          -0.5027844905853271,
          -0.5029034614562988,
          -0.502889096736908,
          -0.5030199885368347,
          -0.5028682947158813,
          -0.5028429627418518,
          -0.5028398036956787,
          -0.5027924180030823,
          -0.5027614831924438,
          -0.5027775168418884,
          -0.5027039051055908,
          -0.5026667714118958,
          -0.5026034712791443,
          -0.5026498436927795,
          -0.5025273561477661,
          -0.5025455355644226,
          -0.5025721788406372,
          -0.5025895237922668,
          -0.5025892853736877,
          -0.5025821328163147,
          -0.5025754570960999,
          -0.5025850534439087,
          -0.5024599432945251,
          -0.5024086833000183,
          -0.5024275183677673,
          -0.5024013519287109,
          -0.5024279952049255,
          -0.502402126789093,
          -0.5023834109306335,
          -0.5023307204246521,
          -0.5022281408309937,
          -0.5022316575050354,
          -0.5022594928741455,
          -0.5021761059761047,
          -0.5021016001701355,
          -0.5021287798881531,
          -0.5021143555641174,
          -0.5021381974220276,
          -0.5021349191665649,
          -0.5021564960479736,
          -0.4812577962875366,
          -0.48079535365104675,
          -0.48035115003585815,
          -0.480013906955719,
          -0.4796300530433655,
          -0.4791385531425476,
          -0.4786844849586487,
          -0.4781525731086731,
          -0.4776967763900757,
          -0.4772024154663086,
          -0.4767644703388214,
          -0.4759853184223175,
          -0.4752803146839142,
          -0.4750880300998688,
          -0.47426965832710266,
          -0.47353148460388184,
          -0.4729173183441162,
          -0.47219547629356384,
          -0.4715202748775482,
          -0.4708521366119385,
          -0.47022998332977295,
          -0.4695703983306885,
          -0.46919935941696167,
          -0.4685228765010834,
          -0.46784648299217224,
          -0.466773122549057,
          -0.46297040581703186,
          -0.46222829818725586,
          -0.4603073298931122,
          -0.4578363597393036,
          -0.4571791887283325,
          -0.456642746925354,
          -0.4558352530002594,
          -0.4552437663078308,
          -0.4504925310611725,
          -0.4503456652164459,
          -0.4501650929450989,
          -0.44991427659988403,
          -0.4502544105052948,
          -0.45023468136787415,
          -0.4501235783100128,
          -0.4500392973423004,
          -0.4503338634967804,
          -0.4505564868450165,
          -0.4509752690792084,
          -0.45125439763069153,
          -0.45149073004722595,
          -0.45205771923065186,
          -0.45242801308631897,
          -0.4530738890171051,
          -0.4535067677497864,
          -0.4541875720024109,
          -0.4547823965549469,
          -0.4556204676628113,
          -0.4564608931541443,
          -0.4574434757232666,
          -0.45829954743385315,
          -0.46011480689048767,
          -0.4620686173439026,
          -0.46317625045776367,
          -0.464119017124176,
          -0.46511659026145935,
          -0.46634507179260254,
          -0.46738171577453613,
          -0.4686509966850281,
          -0.47455281019210815,
          -0.475757360458374,
          -0.47707003355026245,
          -0.47841399908065796,
          -0.4793737232685089,
          -0.48055386543273926,
          -0.48283520340919495,
          -0.4893512427806854,
          -0.4898836314678192,
          -0.49025893211364746,
          -0.49054640531539917,
          -0.49072256684303284,
          -0.49096834659576416,
          -0.4909829795360565,
          -0.491160124540329,
          -0.49140796065330505,
          -0.4914974272251129,
          -0.49162089824676514,
          -0.4916456937789917,
          -0.49170762300491333,
          -0.49175313115119934,
          -0.4917575418949127,
          -0.49170058965682983,
          -0.4915922284126282,
          -0.49145618081092834,
          -0.4913666844367981,
          -0.49134641885757446,
          -0.4912988543510437,
          -0.4912450909614563,
          -0.49112072587013245,
          -0.49052828550338745,
          -0.48147261142730713,
          -0.48013004660606384,
          -0.4781036972999573,
          -0.476134717464447,
          -0.47458529472351074,
          -0.46802833676338196,
          -0.46524301171302795,
          -0.4583434760570526,
          -0.45626959204673767,
          -0.4545708894729614,
          -0.4537060260772705,
          -0.4533602297306061,
          -0.4555240869522095,
          -0.4587394595146179,
          -0.48133227229118347,
          -0.4958912134170532,
          -0.499925434589386,
          -0.5029194355010986,
          -0.5046871304512024,
          -0.5063406229019165,
          -0.500612199306488,
          -0.5017669796943665,
          -0.49943822622299194,
          -0.49675196409225464,
          -0.4800126254558563,
          -0.47744348645210266,
          -0.47150272130966187,
          -0.46908554434776306,
          -0.46672096848487854,
          -0.46415096521377563,
          -0.46190589666366577,
          -0.4594956338405609,
          -0.45760688185691833,
          -0.45611128211021423,
          -0.4547180235385895,
          -0.45366716384887695,
          -0.45291590690612793,
          -0.4523436725139618,
          -0.4533286392688751,
          -0.4542016088962555,
          -0.4554027318954468,
          -0.45661377906799316,
          -0.46033066511154175,
          -0.4623667597770691,
          -0.4641745984554291,
          -0.46608254313468933,
          -0.46799466013908386,
          -0.47628530859947205,
          -0.4782486855983734,
          -0.4804333746433258,
          -0.48194822669029236,
          -0.4834481477737427,
          -0.4846126139163971,
          -0.48595762252807617,
          -0.4868071377277374,
          -0.4877275824546814,
          -0.4881398379802704,
          -0.4892229735851288,
          -0.48974645137786865,
          -0.4902805984020233,
          -0.49058955907821655,
          -0.4913356900215149,
          -0.4916233718395233,
          -0.4924112856388092,
          -0.493358314037323,
          -0.4932599365711212,
          -0.49346721172332764,
          -0.4934779405593872,
          -0.4933110773563385,
          -0.49309241771698,
          -0.49299079179763794,
          -0.49281394481658936,
          -0.4923785626888275,
          -0.49210986495018005,
          -0.49187180399894714,
          -0.4913802742958069,
          -0.4908764362335205,
          -0.49037158489227295,
          -0.4898948073387146,
          -0.48920848965644836,
          -0.4888717234134674,
          -0.4883134067058563,
          -0.4871494174003601,
          -0.48635002970695496,
          -0.48536041378974915,
          -0.484253853559494,
          -0.48348158597946167,
          -0.4821484088897705,
          -0.4701349139213562,
          -0.46887505054473877,
          -0.46803802251815796,
          -0.46634677052497864,
          -0.4626661539077759,
          -0.46147429943084717,
          -0.4579135775566101,
          -0.4570395350456238,
          -0.4553692042827606,
          -0.4544838070869446,
          -0.45456379652023315,
          -0.4549603760242462,
          -0.45495766401290894,
          -0.4553981125354767,
          -0.4555560350418091,
          -0.4556637108325958,
          -0.45615577697753906,
          -0.45667120814323425,
          -0.45733535289764404,
          -0.457933634519577,
          -0.4588969647884369,
          -0.4594687819480896,
          -0.4603375494480133,
          -0.4612395465373993,
          -0.4621662497520447
         ],
         "z": [
          1.3255774974822998,
          1.3276004791259766,
          1.3304616212844849,
          1.3335740566253662,
          1.3365153074264526,
          1.339863657951355,
          1.3420913219451904,
          1.345169186592102,
          1.3484282493591309,
          1.3502752780914307,
          1.3540304899215698,
          1.3837401866912842,
          1.39010751247406,
          1.3929485082626343,
          1.3980069160461426,
          1.3994323015213013,
          1.4022300243377686,
          1.4042205810546875,
          1.4057557582855225,
          1.4107303619384766,
          1.4129893779754639,
          1.4150532484054565,
          1.4155983924865723,
          1.4181749820709229,
          1.4189289808273315,
          1.4208306074142456,
          1.422284722328186,
          1.4237539768218994,
          1.4381166696548462,
          1.4381083250045776,
          1.438044548034668,
          1.438137412071228,
          1.438388705253601,
          1.4384665489196777,
          1.4387571811676025,
          1.4392186403274536,
          1.438711404800415,
          1.4388716220855713,
          1.4389592409133911,
          1.4386881589889526,
          1.4390965700149536,
          1.4387156963348389,
          1.4391616582870483,
          1.4391100406646729,
          1.439099907875061,
          1.4393874406814575,
          1.439732313156128,
          1.4396934509277344,
          1.4400726556777954,
          1.4396352767944336,
          1.4395641088485718,
          1.4395567178726196,
          1.4394217729568481,
          1.4393343925476074,
          1.4393807649612427,
          1.4391707181930542,
          1.439065933227539,
          1.4388847351074219,
          1.439019799232483,
          1.4386672973632812,
          1.4387208223342896,
          1.4387983083724976,
          1.4388490915298462,
          1.4388484954833984,
          1.4388283491134644,
          1.4388093948364258,
          1.4388372898101807,
          1.4384790658950806,
          1.4383318424224854,
          1.4383866786956787,
          1.438311219215393,
          1.4383888244628906,
          1.438314437866211,
          1.4382609128952026,
          1.4381091594696045,
          1.4378148317337036,
          1.437825322151184,
          1.437905192375183,
          1.4376651048660278,
          1.4374511241912842,
          1.4375290870666504,
          1.4374868869781494,
          1.4375554323196411,
          1.4375462532043457,
          1.4376075267791748,
          1.3776907920837402,
          1.3763619661331177,
          1.3750874996185303,
          1.3741198778152466,
          1.3730169534683228,
          1.3716052770614624,
          1.370298981666565,
          1.3687742948532104,
          1.3674668073654175,
          1.3660465478897095,
          1.3647865056991577,
          1.3625445365905762,
          1.360519528388977,
          1.359967827796936,
          1.3576151132583618,
          1.3554902076721191,
          1.3537278175354004,
          1.3516515493392944,
          1.349709153175354,
          1.347791075706482,
          1.3460049629211426,
          1.3441076278686523,
          1.3430423736572266,
          1.3410964012145996,
          1.3391495943069458,
          1.3360595703125,
          1.3251314163208008,
          1.3229975700378418,
          1.3174670934677124,
          1.3103551864624023,
          1.308463215827942,
          1.3069156408309937,
          1.3045915365219116,
          1.302890419960022,
          1.2891684770584106,
          1.288742184638977,
          1.2882146835327148,
          1.287484884262085,
          1.2884550094604492,
          1.2883883714675903,
          1.2880619764328003,
          1.2878122329711914,
          1.2886462211608887,
          1.2892792224884033,
          1.2904750108718872,
          1.2912683486938477,
          1.291938304901123,
          1.2935584783554077,
          1.294612169265747,
          1.2964609861373901,
          1.2976912260055542,
          1.299641489982605,
          1.3013389110565186,
          1.303741216659546,
          1.3061457872390747,
          1.308961272239685,
          1.311413288116455,
          1.316614031791687,
          1.3222097158432007,
          1.325386881828308,
          1.3280885219573975,
          1.3309458494186401,
          1.3344703912734985,
          1.3374419212341309,
          1.3410844802856445,
          1.3580232858657837,
          1.3614842891693115,
          1.3652544021606445,
          1.3691128492355347,
          1.3718695640563965,
          1.3752599954605103,
          1.3818144798278809,
          1.400558352470398,
          1.4020894765853882,
          1.403170108795166,
          1.403998613357544,
          1.4045073986053467,
          1.405216097831726,
          1.405260682106018,
          1.405767798423767,
          1.4064854383468628,
          1.4067432880401611,
          1.4070979356765747,
          1.4071663618087769,
          1.4073468446731567,
          1.4074766635894775,
          1.4074879884719849,
          1.4073234796524048,
          1.407010555267334,
          1.406617522239685,
          1.4063581228256226,
          1.4062979221343994,
          1.4061578512191772,
          1.406001329421997,
          1.405638575553894,
          1.4039335250854492,
          1.377899169921875,
          1.3740408420562744,
          1.368220567703247,
          1.362568736076355,
          1.3581234216690063,
          1.3393127918243408,
          1.3313261270523071,
          1.3115744590759277,
          1.3056448698043823,
          1.3007985353469849,
          1.2983564138412476,
          1.2973986864089966,
          1.3036913871765137,
          1.3129605054855347,
          1.3779075145721436,
          1.4196587800979614,
          1.4312212467193604,
          1.4397794008255005,
          1.4448243379592896,
          1.449540138244629,
          1.433034062385559,
          1.4362322092056274,
          1.4295146465301514,
          1.421777606010437,
          1.373642921447754,
          1.366265058517456,
          1.3492079973220825,
          1.3422657251358032,
          1.335482120513916,
          1.3281054496765137,
          1.321671724319458,
          1.314759373664856,
          1.3093458414077759,
          1.3050627708435059,
          1.3010729551315308,
          1.2980742454528809,
          1.295926570892334,
          1.2942942380905151,
          1.2971863746643066,
          1.2997099161148071,
          1.30316960811615,
          1.3066571950912476,
          1.3173441886901855,
          1.3231998682022095,
          1.3283993005752563,
          1.3338813781738281,
          1.339371681213379,
          1.363172173500061,
          1.3688042163848877,
          1.3750685453414917,
          1.3794167041778564,
          1.3837196826934814,
          1.3870664834976196,
          1.3909211158752441,
          1.3933578729629517,
          1.3959912061691284,
          1.397168517112732,
          1.4002718925476074,
          1.401764988899231,
          1.4032890796661377,
          1.4041684865951538,
          1.4063093662261963,
          1.4071303606033325,
          1.4093817472457886,
          1.4120887517929077,
          1.411808729171753,
          1.4124081134796143,
          1.4124424457550049,
          1.4119677543640137,
          1.4113447666168213,
          1.4110585451126099,
          1.4105556011199951,
          1.4093072414398193,
          1.408542275428772,
          1.4078649282455444,
          1.4064573049545288,
          1.4050192832946777,
          1.403576135635376,
          1.402214527130127,
          1.4002537727355957,
          1.3992871046066284,
          1.3976911306381226,
          1.394345760345459,
          1.3920550346374512,
          1.3892240524291992,
          1.3860454559326172,
          1.3838342428207397,
          1.3800052404403687,
          1.345518708229065,
          1.3418995141983032,
          1.3394966125488281,
          1.334632396697998,
          1.324020504951477,
          1.3206040859222412,
          1.3103703260421753,
          1.307852029800415,
          1.30302095413208,
          1.3004145622253418,
          1.3006396293640137,
          1.3017692565917969,
          1.3017516136169434,
          1.3030059337615967,
          1.3034508228302002,
          1.3037549257278442,
          1.3051605224609375,
          1.3066339492797852,
          1.3085335493087769,
          1.310245156288147,
          1.3130048513412476,
          1.3146432638168335,
          1.3171322345733643,
          1.319717288017273,
          1.3223743438720703
         ]
        }
       ],
       "layout": {
        "margin": {
         "b": 0,
         "l": 0,
         "r": 0,
         "t": 0
        },
        "scene": {
         "xaxis": {
          "nticks": 10,
          "range": [
           -0.8897292017936707,
           -0.7907273173332214
          ]
         },
         "yaxis": {
          "nticks": 10,
          "range": [
           -0.5063406229019165,
           -0.44991427659988403
          ]
         },
         "zaxis": {
          "nticks": 10,
          "range": [
           1.287484884262085,
           1.449540138244629
          ]
         }
        },
        "template": {
         "data": {
          "bar": [
           {
            "error_x": {
             "color": "#2a3f5f"
            },
            "error_y": {
             "color": "#2a3f5f"
            },
            "marker": {
             "line": {
              "color": "#E5ECF6",
              "width": 0.5
             },
             "pattern": {
              "fillmode": "overlay",
              "size": 10,
              "solidity": 0.2
             }
            },
            "type": "bar"
           }
          ],
          "barpolar": [
           {
            "marker": {
             "line": {
              "color": "#E5ECF6",
              "width": 0.5
             },
             "pattern": {
              "fillmode": "overlay",
              "size": 10,
              "solidity": 0.2
             }
            },
            "type": "barpolar"
           }
          ],
          "carpet": [
           {
            "aaxis": {
             "endlinecolor": "#2a3f5f",
             "gridcolor": "white",
             "linecolor": "white",
             "minorgridcolor": "white",
             "startlinecolor": "#2a3f5f"
            },
            "baxis": {
             "endlinecolor": "#2a3f5f",
             "gridcolor": "white",
             "linecolor": "white",
             "minorgridcolor": "white",
             "startlinecolor": "#2a3f5f"
            },
            "type": "carpet"
           }
          ],
          "choropleth": [
           {
            "colorbar": {
             "outlinewidth": 0,
             "ticks": ""
            },
            "type": "choropleth"
           }
          ],
          "contour": [
           {
            "colorbar": {
             "outlinewidth": 0,
             "ticks": ""
            },
            "colorscale": [
             [
              0,
              "#0d0887"
             ],
             [
              0.1111111111111111,
              "#46039f"
             ],
             [
              0.2222222222222222,
              "#7201a8"
             ],
             [
              0.3333333333333333,
              "#9c179e"
             ],
             [
              0.4444444444444444,
              "#bd3786"
             ],
             [
              0.5555555555555556,
              "#d8576b"
             ],
             [
              0.6666666666666666,
              "#ed7953"
             ],
             [
              0.7777777777777778,
              "#fb9f3a"
             ],
             [
              0.8888888888888888,
              "#fdca26"
             ],
             [
              1,
              "#f0f921"
             ]
            ],
            "type": "contour"
           }
          ],
          "contourcarpet": [
           {
            "colorbar": {
             "outlinewidth": 0,
             "ticks": ""
            },
            "type": "contourcarpet"
           }
          ],
          "heatmap": [
           {
            "colorbar": {
             "outlinewidth": 0,
             "ticks": ""
            },
            "colorscale": [
             [
              0,
              "#0d0887"
             ],
             [
              0.1111111111111111,
              "#46039f"
             ],
             [
              0.2222222222222222,
              "#7201a8"
             ],
             [
              0.3333333333333333,
              "#9c179e"
             ],
             [
              0.4444444444444444,
              "#bd3786"
             ],
             [
              0.5555555555555556,
              "#d8576b"
             ],
             [
              0.6666666666666666,
              "#ed7953"
             ],
             [
              0.7777777777777778,
              "#fb9f3a"
             ],
             [
              0.8888888888888888,
              "#fdca26"
             ],
             [
              1,
              "#f0f921"
             ]
            ],
            "type": "heatmap"
           }
          ],
          "heatmapgl": [
           {
            "colorbar": {
             "outlinewidth": 0,
             "ticks": ""
            },
            "colorscale": [
             [
              0,
              "#0d0887"
             ],
             [
              0.1111111111111111,
              "#46039f"
             ],
             [
              0.2222222222222222,
              "#7201a8"
             ],
             [
              0.3333333333333333,
              "#9c179e"
             ],
             [
              0.4444444444444444,
              "#bd3786"
             ],
             [
              0.5555555555555556,
              "#d8576b"
             ],
             [
              0.6666666666666666,
              "#ed7953"
             ],
             [
              0.7777777777777778,
              "#fb9f3a"
             ],
             [
              0.8888888888888888,
              "#fdca26"
             ],
             [
              1,
              "#f0f921"
             ]
            ],
            "type": "heatmapgl"
           }
          ],
          "histogram": [
           {
            "marker": {
             "pattern": {
              "fillmode": "overlay",
              "size": 10,
              "solidity": 0.2
             }
            },
            "type": "histogram"
           }
          ],
          "histogram2d": [
           {
            "colorbar": {
             "outlinewidth": 0,
             "ticks": ""
            },
            "colorscale": [
             [
              0,
              "#0d0887"
             ],
             [
              0.1111111111111111,
              "#46039f"
             ],
             [
              0.2222222222222222,
              "#7201a8"
             ],
             [
              0.3333333333333333,
              "#9c179e"
             ],
             [
              0.4444444444444444,
              "#bd3786"
             ],
             [
              0.5555555555555556,
              "#d8576b"
             ],
             [
              0.6666666666666666,
              "#ed7953"
             ],
             [
              0.7777777777777778,
              "#fb9f3a"
             ],
             [
              0.8888888888888888,
              "#fdca26"
             ],
             [
              1,
              "#f0f921"
             ]
            ],
            "type": "histogram2d"
           }
          ],
          "histogram2dcontour": [
           {
            "colorbar": {
             "outlinewidth": 0,
             "ticks": ""
            },
            "colorscale": [
             [
              0,
              "#0d0887"
             ],
             [
              0.1111111111111111,
              "#46039f"
             ],
             [
              0.2222222222222222,
              "#7201a8"
             ],
             [
              0.3333333333333333,
              "#9c179e"
             ],
             [
              0.4444444444444444,
              "#bd3786"
             ],
             [
              0.5555555555555556,
              "#d8576b"
             ],
             [
              0.6666666666666666,
              "#ed7953"
             ],
             [
              0.7777777777777778,
              "#fb9f3a"
             ],
             [
              0.8888888888888888,
              "#fdca26"
             ],
             [
              1,
              "#f0f921"
             ]
            ],
            "type": "histogram2dcontour"
           }
          ],
          "mesh3d": [
           {
            "colorbar": {
             "outlinewidth": 0,
             "ticks": ""
            },
            "type": "mesh3d"
           }
          ],
          "parcoords": [
           {
            "line": {
             "colorbar": {
              "outlinewidth": 0,
              "ticks": ""
             }
            },
            "type": "parcoords"
           }
          ],
          "pie": [
           {
            "automargin": true,
            "type": "pie"
           }
          ],
          "scatter": [
           {
            "fillpattern": {
             "fillmode": "overlay",
             "size": 10,
             "solidity": 0.2
            },
            "type": "scatter"
           }
          ],
          "scatter3d": [
           {
            "line": {
             "colorbar": {
              "outlinewidth": 0,
              "ticks": ""
             }
            },
            "marker": {
             "colorbar": {
              "outlinewidth": 0,
              "ticks": ""
             }
            },
            "type": "scatter3d"
           }
          ],
          "scattercarpet": [
           {
            "marker": {
             "colorbar": {
              "outlinewidth": 0,
              "ticks": ""
             }
            },
            "type": "scattercarpet"
           }
          ],
          "scattergeo": [
           {
            "marker": {
             "colorbar": {
              "outlinewidth": 0,
              "ticks": ""
             }
            },
            "type": "scattergeo"
           }
          ],
          "scattergl": [
           {
            "marker": {
             "colorbar": {
              "outlinewidth": 0,
              "ticks": ""
             }
            },
            "type": "scattergl"
           }
          ],
          "scattermapbox": [
           {
            "marker": {
             "colorbar": {
              "outlinewidth": 0,
              "ticks": ""
             }
            },
            "type": "scattermapbox"
           }
          ],
          "scatterpolar": [
           {
            "marker": {
             "colorbar": {
              "outlinewidth": 0,
              "ticks": ""
             }
            },
            "type": "scatterpolar"
           }
          ],
          "scatterpolargl": [
           {
            "marker": {
             "colorbar": {
              "outlinewidth": 0,
              "ticks": ""
             }
            },
            "type": "scatterpolargl"
           }
          ],
          "scatterternary": [
           {
            "marker": {
             "colorbar": {
              "outlinewidth": 0,
              "ticks": ""
             }
            },
            "type": "scatterternary"
           }
          ],
          "surface": [
           {
            "colorbar": {
             "outlinewidth": 0,
             "ticks": ""
            },
            "colorscale": [
             [
              0,
              "#0d0887"
             ],
             [
              0.1111111111111111,
              "#46039f"
             ],
             [
              0.2222222222222222,
              "#7201a8"
             ],
             [
              0.3333333333333333,
              "#9c179e"
             ],
             [
              0.4444444444444444,
              "#bd3786"
             ],
             [
              0.5555555555555556,
              "#d8576b"
             ],
             [
              0.6666666666666666,
              "#ed7953"
             ],
             [
              0.7777777777777778,
              "#fb9f3a"
             ],
             [
              0.8888888888888888,
              "#fdca26"
             ],
             [
              1,
              "#f0f921"
             ]
            ],
            "type": "surface"
           }
          ],
          "table": [
           {
            "cells": {
             "fill": {
              "color": "#EBF0F8"
             },
             "line": {
              "color": "white"
             }
            },
            "header": {
             "fill": {
              "color": "#C8D4E3"
             },
             "line": {
              "color": "white"
             }
            },
            "type": "table"
           }
          ]
         },
         "layout": {
          "annotationdefaults": {
           "arrowcolor": "#2a3f5f",
           "arrowhead": 0,
           "arrowwidth": 1
          },
          "autotypenumbers": "strict",
          "coloraxis": {
           "colorbar": {
            "outlinewidth": 0,
            "ticks": ""
           }
          },
          "colorscale": {
           "diverging": [
            [
             0,
             "#8e0152"
            ],
            [
             0.1,
             "#c51b7d"
            ],
            [
             0.2,
             "#de77ae"
            ],
            [
             0.3,
             "#f1b6da"
            ],
            [
             0.4,
             "#fde0ef"
            ],
            [
             0.5,
             "#f7f7f7"
            ],
            [
             0.6,
             "#e6f5d0"
            ],
            [
             0.7,
             "#b8e186"
            ],
            [
             0.8,
             "#7fbc41"
            ],
            [
             0.9,
             "#4d9221"
            ],
            [
             1,
             "#276419"
            ]
           ],
           "sequential": [
            [
             0,
             "#0d0887"
            ],
            [
             0.1111111111111111,
             "#46039f"
            ],
            [
             0.2222222222222222,
             "#7201a8"
            ],
            [
             0.3333333333333333,
             "#9c179e"
            ],
            [
             0.4444444444444444,
             "#bd3786"
            ],
            [
             0.5555555555555556,
             "#d8576b"
            ],
            [
             0.6666666666666666,
             "#ed7953"
            ],
            [
             0.7777777777777778,
             "#fb9f3a"
            ],
            [
             0.8888888888888888,
             "#fdca26"
            ],
            [
             1,
             "#f0f921"
            ]
           ],
           "sequentialminus": [
            [
             0,
             "#0d0887"
            ],
            [
             0.1111111111111111,
             "#46039f"
            ],
            [
             0.2222222222222222,
             "#7201a8"
            ],
            [
             0.3333333333333333,
             "#9c179e"
            ],
            [
             0.4444444444444444,
             "#bd3786"
            ],
            [
             0.5555555555555556,
             "#d8576b"
            ],
            [
             0.6666666666666666,
             "#ed7953"
            ],
            [
             0.7777777777777778,
             "#fb9f3a"
            ],
            [
             0.8888888888888888,
             "#fdca26"
            ],
            [
             1,
             "#f0f921"
            ]
           ]
          },
          "colorway": [
           "#636efa",
           "#EF553B",
           "#00cc96",
           "#ab63fa",
           "#FFA15A",
           "#19d3f3",
           "#FF6692",
           "#B6E880",
           "#FF97FF",
           "#FECB52"
          ],
          "font": {
           "color": "#2a3f5f"
          },
          "geo": {
           "bgcolor": "white",
           "lakecolor": "white",
           "landcolor": "#E5ECF6",
           "showlakes": true,
           "showland": true,
           "subunitcolor": "white"
          },
          "hoverlabel": {
           "align": "left"
          },
          "hovermode": "closest",
          "mapbox": {
           "style": "light"
          },
          "paper_bgcolor": "white",
          "plot_bgcolor": "#E5ECF6",
          "polar": {
           "angularaxis": {
            "gridcolor": "white",
            "linecolor": "white",
            "ticks": ""
           },
           "bgcolor": "#E5ECF6",
           "radialaxis": {
            "gridcolor": "white",
            "linecolor": "white",
            "ticks": ""
           }
          },
          "scene": {
           "xaxis": {
            "backgroundcolor": "#E5ECF6",
            "gridcolor": "white",
            "gridwidth": 2,
            "linecolor": "white",
            "showbackground": true,
            "ticks": "",
            "zerolinecolor": "white"
           },
           "yaxis": {
            "backgroundcolor": "#E5ECF6",
            "gridcolor": "white",
            "gridwidth": 2,
            "linecolor": "white",
            "showbackground": true,
            "ticks": "",
            "zerolinecolor": "white"
           },
           "zaxis": {
            "backgroundcolor": "#E5ECF6",
            "gridcolor": "white",
            "gridwidth": 2,
            "linecolor": "white",
            "showbackground": true,
            "ticks": "",
            "zerolinecolor": "white"
           }
          },
          "shapedefaults": {
           "line": {
            "color": "#2a3f5f"
           }
          },
          "ternary": {
           "aaxis": {
            "gridcolor": "white",
            "linecolor": "white",
            "ticks": ""
           },
           "baxis": {
            "gridcolor": "white",
            "linecolor": "white",
            "ticks": ""
           },
           "bgcolor": "#E5ECF6",
           "caxis": {
            "gridcolor": "white",
            "linecolor": "white",
            "ticks": ""
           }
          },
          "title": {
           "x": 0.05
          },
          "xaxis": {
           "automargin": true,
           "gridcolor": "white",
           "linecolor": "white",
           "ticks": "",
           "title": {
            "standoff": 15
           },
           "zerolinecolor": "white",
           "zerolinewidth": 2
          },
          "yaxis": {
           "automargin": true,
           "gridcolor": "white",
           "linecolor": "white",
           "ticks": "",
           "title": {
            "standoff": 15
           },
           "zerolinecolor": "white",
           "zerolinewidth": 2
          }
         }
        }
       }
      }
     },
     "metadata": {},
     "output_type": "display_data"
    }
   ],
   "source": [
    "reconstructed_3d = reconstruct_3D(pts1, pts2, K, R, T)\n",
    "visualize_3d_points(reconstructed_3d)"
   ]
  },
  {
   "cell_type": "code",
   "execution_count": null,
   "metadata": {},
   "outputs": [],
   "source": []
  }
 ],
 "metadata": {
  "kernelspec": {
   "display_name": ".venv",
   "language": "python",
   "name": "python3"
  },
  "language_info": {
   "codemirror_mode": {
    "name": "ipython",
    "version": 3
   },
   "file_extension": ".py",
   "mimetype": "text/x-python",
   "name": "python",
   "nbconvert_exporter": "python",
   "pygments_lexer": "ipython3",
   "version": "3.8.10"
  },
  "orig_nbformat": 4
 },
 "nbformat": 4,
 "nbformat_minor": 2
}
