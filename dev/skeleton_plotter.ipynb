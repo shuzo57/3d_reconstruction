{
 "cells": [
  {
   "cell_type": "code",
   "execution_count": 1,
   "metadata": {},
   "outputs": [],
   "source": [
    "from swing3dify.skeleton_plotter import plot_skeleton_to_video"
   ]
  },
  {
   "cell_type": "code",
   "execution_count": 8,
   "metadata": {},
   "outputs": [],
   "source": [
    "video_path = \"/mnt/c/Users/ohwada/Videos/2023_09_29/yokota_hanako/d1/1/view2_0929_0771_1.mp4\"\n",
    "output_dir = \"/mnt/c/Users/ohwada/Videos/\"\n",
    "pose_model_path = \"../models/pose-l.pt\"\n",
    "club_model_path = \"../models/club-v1.pt\""
   ]
  },
  {
   "cell_type": "code",
   "execution_count": 9,
   "metadata": {},
   "outputs": [
    {
     "name": "stdout",
     "output_type": "stream",
     "text": [
      " 645.0 / 645.0"
     ]
    }
   ],
   "source": [
    "plot_skeleton_to_video(video_path, output_dir, pose_model_path, club_model_path)"
   ]
  },
  {
   "cell_type": "code",
   "execution_count": null,
   "metadata": {},
   "outputs": [],
   "source": []
  }
 ],
 "metadata": {
  "kernelspec": {
   "display_name": ".venv",
   "language": "python",
   "name": "python3"
  },
  "language_info": {
   "codemirror_mode": {
    "name": "ipython",
    "version": 3
   },
   "file_extension": ".py",
   "mimetype": "text/x-python",
   "name": "python",
   "nbconvert_exporter": "python",
   "pygments_lexer": "ipython3",
   "version": "3.8.18"
  },
  "orig_nbformat": 4
 },
 "nbformat": 4,
 "nbformat_minor": 2
}
