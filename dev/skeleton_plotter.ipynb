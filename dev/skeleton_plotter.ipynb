{
 "cells": [
  {
   "cell_type": "code",
   "execution_count": 1,
   "metadata": {},
   "outputs": [],
   "source": [
    "from swing3dify.skeleton_plotter import plot_skeleton_to_video"
   ]
  },
  {
   "cell_type": "code",
   "execution_count": 14,
   "metadata": {},
   "outputs": [],
   "source": [
    "video_path = \"/home/ohwada/golf/2023_11_01/user1/d1/1/cam1_1_350_650.mp4\"\n",
    "output_dir = \"/mnt/c/Users/ohwada/Videos/output/\"\n",
    "pose_model_path = \"../models/pose-l.pt\"\n",
    "club_model_path = \"../models/club-v2.pt\""
   ]
  },
  {
   "cell_type": "code",
   "execution_count": 15,
   "metadata": {},
   "outputs": [
    {
     "name": "stdout",
     "output_type": "stream",
     "text": [
      "Processing /home/ohwada/golf/2023_11_01/user1/d1/1/cam2_1_300_600.mp4\n",
      " 300.0 / 300.0\n",
      "\n"
     ]
    }
   ],
   "source": [
    "plot_skeleton_to_video(video_path, output_dir, pose_model_path, club_model_path)"
   ]
  },
  {
   "cell_type": "code",
   "execution_count": null,
   "metadata": {},
   "outputs": [],
   "source": []
  }
 ],
 "metadata": {
  "kernelspec": {
   "display_name": ".venv",
   "language": "python",
   "name": "python3"
  },
  "language_info": {
   "codemirror_mode": {
    "name": "ipython",
    "version": 3
   },
   "file_extension": ".py",
   "mimetype": "text/x-python",
   "name": "python",
   "nbconvert_exporter": "python",
   "pygments_lexer": "ipython3",
   "version": "3.8.18"
  },
  "orig_nbformat": 4
 },
 "nbformat": 4,
 "nbformat_minor": 2
}
