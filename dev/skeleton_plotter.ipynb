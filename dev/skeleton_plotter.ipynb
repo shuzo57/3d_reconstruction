{
 "cells": [
  {
   "cell_type": "code",
   "execution_count": 1,
   "metadata": {},
   "outputs": [],
   "source": [
    "from swing3dify.skeleton_plotter import plot_skeleton_to_video"
   ]
  },
  {
   "cell_type": "code",
   "execution_count": 2,
   "metadata": {},
   "outputs": [],
   "source": [
    "video_path = \"/mnt/c/Users/ohwada/Videos/2023_09_29/yokota_hanako/d1\"\n",
    "output_dir = \"/mnt/c/Users/ohwada/Videos/\"\n",
    "pose_model_path = \"../models/pose-l.pt\"\n",
    "club_model_path = \"../models/club-yokota.pt\""
   ]
  },
  {
   "cell_type": "code",
   "execution_count": 3,
   "metadata": {},
   "outputs": [
    {
     "name": "stdout",
     "output_type": "stream",
     "text": [
      "Processing /mnt/c/Users/ohwada/Videos/2023_09_29/yokota_hanako/d1/1/uratani_0929_007_1.mp4\n",
      " 835.0 / 835.0\n",
      "\n",
      "Processing /mnt/c/Users/ohwada/Videos/2023_09_29/yokota_hanako/d1/1/view1_0923_4317_1.mp4\n",
      " 864.0 / 864.0\n",
      "\n",
      "Processing /mnt/c/Users/ohwada/Videos/2023_09_29/yokota_hanako/d1/1/view2_0929_0771_1.mp4\n",
      " 645.0 / 645.0\n",
      "\n",
      "Processing /mnt/c/Users/ohwada/Videos/2023_09_29/yokota_hanako/d1/2/uratani_0929_007_2.mp4\n",
      " 835.0 / 835.0\n",
      "\n",
      "Processing /mnt/c/Users/ohwada/Videos/2023_09_29/yokota_hanako/d1/2/view1_0923_4317_2.mp4\n",
      " 864.0 / 864.0\n",
      "\n",
      "Processing /mnt/c/Users/ohwada/Videos/2023_09_29/yokota_hanako/d1/2/view2_0929_0771_2.mp4\n",
      " 845.0 / 845.0\n",
      "\n",
      "Processing /mnt/c/Users/ohwada/Videos/2023_09_29/yokota_hanako/d1/3/uratani_0929_007_3.mp4\n",
      " 895.0 / 895.0\n",
      "\n",
      "Processing /mnt/c/Users/ohwada/Videos/2023_09_29/yokota_hanako/d1/3/view1_0923_4317_3.mp4\n",
      " 864.0 / 864.0\n",
      "\n",
      "Processing /mnt/c/Users/ohwada/Videos/2023_09_29/yokota_hanako/d1/3/view2_0929_0771_3.mp4\n",
      " 845.0 / 845.0\n",
      "\n",
      "Processing /mnt/c/Users/ohwada/Videos/2023_09_29/yokota_hanako/d1/4/uratani_0929_007_4.mp4\n",
      " 845.0 / 845.0\n",
      "\n",
      "Processing /mnt/c/Users/ohwada/Videos/2023_09_29/yokota_hanako/d1/4/view1_0923_4318_1.mp4\n",
      " 984.0 / 984.0\n",
      "\n",
      "Processing /mnt/c/Users/ohwada/Videos/2023_09_29/yokota_hanako/d1/4/view2_0929_0771_4.mp4\n",
      " 945.0 / 945.0\n",
      "\n",
      "Processing /mnt/c/Users/ohwada/Videos/2023_09_29/yokota_hanako/d1/5/uratani_0929_007_5.mp4\n",
      " 945.0 / 945.0\n",
      "\n",
      "Processing /mnt/c/Users/ohwada/Videos/2023_09_29/yokota_hanako/d1/5/view1_0923_4318_2.mp4\n",
      " 864.0 / 864.0\n",
      "\n",
      "Processing /mnt/c/Users/ohwada/Videos/2023_09_29/yokota_hanako/d1/5/view2_0929_0771_5.mp4\n",
      " 845.0 / 845.0\n",
      "\n"
     ]
    }
   ],
   "source": [
    "plot_skeleton_to_video(video_path, output_dir, pose_model_path, club_model_path)"
   ]
  },
  {
   "cell_type": "code",
   "execution_count": null,
   "metadata": {},
   "outputs": [],
   "source": []
  }
 ],
 "metadata": {
  "kernelspec": {
   "display_name": ".venv",
   "language": "python",
   "name": "python3"
  },
  "language_info": {
   "codemirror_mode": {
    "name": "ipython",
    "version": 3
   },
   "file_extension": ".py",
   "mimetype": "text/x-python",
   "name": "python",
   "nbconvert_exporter": "python",
   "pygments_lexer": "ipython3",
   "version": "3.8.18"
  },
  "orig_nbformat": 4
 },
 "nbformat": 4,
 "nbformat_minor": 2
}
