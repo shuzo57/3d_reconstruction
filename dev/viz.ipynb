{
 "cells": [
  {
   "cell_type": "code",
   "execution_count": 1,
   "metadata": {},
   "outputs": [],
   "source": [
    "import pandas as pd\n",
    "pd.set_option('display.max_columns', None)\n",
    "\n",
    "from swing3dify.visualizations import show_3d_swing"
   ]
  },
  {
   "cell_type": "code",
   "execution_count": 2,
   "metadata": {},
   "outputs": [],
   "source": [
    "static_pose = pd.read_csv(\"/home/ohwada/3d_reconstruction/.temp/static_pose.csv\")\n",
    "swing = pd.read_csv(\"/home/ohwada/3d_reconstruction/.temp/swing.csv\")"
   ]
  },
  {
   "cell_type": "code",
   "execution_count": 3,
   "metadata": {},
   "outputs": [
    {
     "ename": "KeyError",
     "evalue": "\"None of [Index(['GRIP_x', 'HOSEL_x'], dtype='object')] are in the [columns]\"",
     "output_type": "error",
     "traceback": [
      "\u001b[0;31m---------------------------------------------------------------------------\u001b[0m",
      "\u001b[0;31mKeyError\u001b[0m                                  Traceback (most recent call last)",
      "\u001b[1;32m/home/ohwada/3d_reconstruction/dev/viz.ipynb セル 3\u001b[0m line \u001b[0;36m1\n\u001b[0;32m----> <a href='vscode-notebook-cell://wsl%2Bubuntu-22.04/home/ohwada/3d_reconstruction/dev/viz.ipynb#W2sdnNjb2RlLXJlbW90ZQ%3D%3D?line=0'>1</a>\u001b[0m show_3d_swing(static_pose, window\u001b[39m=\u001b[39;49m\u001b[39m10\u001b[39;49m, frame_step\u001b[39m=\u001b[39;49m\u001b[39m5\u001b[39;49m, SAVE_PATH\u001b[39m=\u001b[39;49m\u001b[39m\"\u001b[39;49m\u001b[39m/home/ohwada/3d_reconstruction/.temp/static_pose.html\u001b[39;49m\u001b[39m\"\u001b[39;49m)\n",
      "File \u001b[0;32m~/3d_reconstruction/Swing3Dify/swing3dify/visualizations.py:354\u001b[0m, in \u001b[0;36mshow_3d_swing\u001b[0;34m(df, line_width, marker_size, graph_mode, window, frame_step, SAVE_PATH)\u001b[0m\n\u001b[1;32m    352\u001b[0m frames \u001b[39m=\u001b[39m []\n\u001b[1;32m    353\u001b[0m \u001b[39mfor\u001b[39;00m frame \u001b[39min\u001b[39;00m \u001b[39mrange\u001b[39m(min_frame, max_frame \u001b[39m+\u001b[39m \u001b[39m1\u001b[39m, frame_step):\n\u001b[0;32m--> 354\u001b[0m     vec_data \u001b[39m=\u001b[39m get_swing_vectors(df, frame)\n\u001b[1;32m    356\u001b[0m     x_vec_label \u001b[39m=\u001b[39m \u001b[39mlist\u001b[39m(vec_data\u001b[39m.\u001b[39mkeys())[\u001b[39m0\u001b[39m::\u001b[39m3\u001b[39m]\n\u001b[1;32m    357\u001b[0m     y_vec_label \u001b[39m=\u001b[39m \u001b[39mlist\u001b[39m(vec_data\u001b[39m.\u001b[39mkeys())[\u001b[39m1\u001b[39m::\u001b[39m3\u001b[39m]\n",
      "File \u001b[0;32m~/3d_reconstruction/Swing3Dify/swing3dify/utils.py:246\u001b[0m, in \u001b[0;36mget_swing_vectors\u001b[0;34m(df, frame)\u001b[0m\n\u001b[1;32m    244\u001b[0m \u001b[39mdef\u001b[39;00m \u001b[39mget_swing_vectors\u001b[39m(df: pd\u001b[39m.\u001b[39mDataFrame, frame):\n\u001b[1;32m    245\u001b[0m     target_dict \u001b[39m=\u001b[39m {}\n\u001b[0;32m--> 246\u001b[0m     ClUB_x \u001b[39m=\u001b[39m df[[\u001b[39m\"\u001b[39;49m\u001b[39mGRIP_x\u001b[39;49m\u001b[39m\"\u001b[39;49m, \u001b[39m\"\u001b[39;49m\u001b[39mHOSEL_x\u001b[39;49m\u001b[39m\"\u001b[39;49m]]\u001b[39m.\u001b[39mloc[frame]\n\u001b[1;32m    247\u001b[0m     CLUB_y \u001b[39m=\u001b[39m df[[\u001b[39m\"\u001b[39m\u001b[39mGRIP_y\u001b[39m\u001b[39m\"\u001b[39m, \u001b[39m\"\u001b[39m\u001b[39mHOSEL_y\u001b[39m\u001b[39m\"\u001b[39m]]\u001b[39m.\u001b[39mloc[frame]\n\u001b[1;32m    248\u001b[0m     ClUB_z \u001b[39m=\u001b[39m df[[\u001b[39m\"\u001b[39m\u001b[39mGRIP_z\u001b[39m\u001b[39m\"\u001b[39m, \u001b[39m\"\u001b[39m\u001b[39mHOSEL_z\u001b[39m\u001b[39m\"\u001b[39m]]\u001b[39m.\u001b[39mloc[frame]\n",
      "File \u001b[0;32m~/3d_reconstruction/.venv/lib/python3.8/site-packages/pandas/core/frame.py:3767\u001b[0m, in \u001b[0;36mDataFrame.__getitem__\u001b[0;34m(self, key)\u001b[0m\n\u001b[1;32m   3765\u001b[0m     \u001b[39mif\u001b[39;00m is_iterator(key):\n\u001b[1;32m   3766\u001b[0m         key \u001b[39m=\u001b[39m \u001b[39mlist\u001b[39m(key)\n\u001b[0;32m-> 3767\u001b[0m     indexer \u001b[39m=\u001b[39m \u001b[39mself\u001b[39;49m\u001b[39m.\u001b[39;49mcolumns\u001b[39m.\u001b[39;49m_get_indexer_strict(key, \u001b[39m\"\u001b[39;49m\u001b[39mcolumns\u001b[39;49m\u001b[39m\"\u001b[39;49m)[\u001b[39m1\u001b[39m]\n\u001b[1;32m   3769\u001b[0m \u001b[39m# take() does not accept boolean indexers\u001b[39;00m\n\u001b[1;32m   3770\u001b[0m \u001b[39mif\u001b[39;00m \u001b[39mgetattr\u001b[39m(indexer, \u001b[39m\"\u001b[39m\u001b[39mdtype\u001b[39m\u001b[39m\"\u001b[39m, \u001b[39mNone\u001b[39;00m) \u001b[39m==\u001b[39m \u001b[39mbool\u001b[39m:\n",
      "File \u001b[0;32m~/3d_reconstruction/.venv/lib/python3.8/site-packages/pandas/core/indexes/base.py:5877\u001b[0m, in \u001b[0;36mIndex._get_indexer_strict\u001b[0;34m(self, key, axis_name)\u001b[0m\n\u001b[1;32m   5874\u001b[0m \u001b[39melse\u001b[39;00m:\n\u001b[1;32m   5875\u001b[0m     keyarr, indexer, new_indexer \u001b[39m=\u001b[39m \u001b[39mself\u001b[39m\u001b[39m.\u001b[39m_reindex_non_unique(keyarr)\n\u001b[0;32m-> 5877\u001b[0m \u001b[39mself\u001b[39;49m\u001b[39m.\u001b[39;49m_raise_if_missing(keyarr, indexer, axis_name)\n\u001b[1;32m   5879\u001b[0m keyarr \u001b[39m=\u001b[39m \u001b[39mself\u001b[39m\u001b[39m.\u001b[39mtake(indexer)\n\u001b[1;32m   5880\u001b[0m \u001b[39mif\u001b[39;00m \u001b[39misinstance\u001b[39m(key, Index):\n\u001b[1;32m   5881\u001b[0m     \u001b[39m# GH 42790 - Preserve name from an Index\u001b[39;00m\n",
      "File \u001b[0;32m~/3d_reconstruction/.venv/lib/python3.8/site-packages/pandas/core/indexes/base.py:5938\u001b[0m, in \u001b[0;36mIndex._raise_if_missing\u001b[0;34m(self, key, indexer, axis_name)\u001b[0m\n\u001b[1;32m   5936\u001b[0m     \u001b[39mif\u001b[39;00m use_interval_msg:\n\u001b[1;32m   5937\u001b[0m         key \u001b[39m=\u001b[39m \u001b[39mlist\u001b[39m(key)\n\u001b[0;32m-> 5938\u001b[0m     \u001b[39mraise\u001b[39;00m \u001b[39mKeyError\u001b[39;00m(\u001b[39mf\u001b[39m\u001b[39m\"\u001b[39m\u001b[39mNone of [\u001b[39m\u001b[39m{\u001b[39;00mkey\u001b[39m}\u001b[39;00m\u001b[39m] are in the [\u001b[39m\u001b[39m{\u001b[39;00maxis_name\u001b[39m}\u001b[39;00m\u001b[39m]\u001b[39m\u001b[39m\"\u001b[39m)\n\u001b[1;32m   5940\u001b[0m not_found \u001b[39m=\u001b[39m \u001b[39mlist\u001b[39m(ensure_index(key)[missing_mask\u001b[39m.\u001b[39mnonzero()[\u001b[39m0\u001b[39m]]\u001b[39m.\u001b[39munique())\n\u001b[1;32m   5941\u001b[0m \u001b[39mraise\u001b[39;00m \u001b[39mKeyError\u001b[39;00m(\u001b[39mf\u001b[39m\u001b[39m\"\u001b[39m\u001b[39m{\u001b[39;00mnot_found\u001b[39m}\u001b[39;00m\u001b[39m not in index\u001b[39m\u001b[39m\"\u001b[39m)\n",
      "\u001b[0;31mKeyError\u001b[0m: \"None of [Index(['GRIP_x', 'HOSEL_x'], dtype='object')] are in the [columns]\""
     ]
    }
   ],
   "source": [
    "show_3d_human_pose(static_pose, 0, SAVE_PATH=\"/home/ohwada/3d_reconstruction/.temp/static_pose.html\")"
   ]
  },
  {
   "cell_type": "code",
   "execution_count": null,
   "metadata": {},
   "outputs": [],
   "source": []
  }
 ],
 "metadata": {
  "kernelspec": {
   "display_name": ".venv",
   "language": "python",
   "name": "python3"
  },
  "language_info": {
   "codemirror_mode": {
    "name": "ipython",
    "version": 3
   },
   "file_extension": ".py",
   "mimetype": "text/x-python",
   "name": "python",
   "nbconvert_exporter": "python",
   "pygments_lexer": "ipython3",
   "version": "3.8.18"
  }
 },
 "nbformat": 4,
 "nbformat_minor": 2
}
