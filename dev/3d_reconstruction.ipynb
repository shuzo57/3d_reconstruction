{
 "cells": [
  {
   "cell_type": "code",
   "execution_count": 1,
   "metadata": {},
   "outputs": [],
   "source": [
    "import cv2\n",
    "import pandas as pd\n",
    "import numpy as np\n",
    "import matplotlib.pyplot as plt\n",
    "import plotly.graph_objects as go\n",
    "\n",
    "import swing3dify.time_adjustment as ta\n",
    "from swing3dify.core import compute_camera_parameters, reconstruct_3D\n",
    "from swing3dify.visualizations import draw_feature_matches, visualize_3d_points, draw_epipolar_lines, plot_3d_points\n",
    "from calibration_data import KNOWN_CALIBRATION_DATA"
   ]
  },
  {
   "cell_type": "code",
   "execution_count": 2,
   "metadata": {},
   "outputs": [],
   "source": [
    "club1 = pd.read_csv('../data/club/data/red_0712_0016/position_data.csv')\n",
    "club2 = pd.read_csv('../data/club/data/white_0712_0016/position_data.csv')"
   ]
  },
  {
   "cell_type": "code",
   "execution_count": 3,
   "metadata": {},
   "outputs": [],
   "source": [
    "pose1 = pd.read_csv('../data/pose/data/red_0712_0016/position_data.csv')\n",
    "pose2 = pd.read_csv('../data/pose/data/white_0712_0016/position_data.csv')"
   ]
  },
  {
   "cell_type": "code",
   "execution_count": 4,
   "metadata": {},
   "outputs": [
    {
     "name": "stdout",
     "output_type": "stream",
     "text": [
      "delay_frame: -32\n"
     ]
    }
   ],
   "source": [
    "delay_frame = ta.calculate_delay_frame(club1, club2, 'HOSEL')\n",
    "print(f'delay_frame: {delay_frame}')"
   ]
  },
  {
   "cell_type": "code",
   "execution_count": 5,
   "metadata": {},
   "outputs": [
    {
     "name": "stdout",
     "output_type": "stream",
     "text": [
      "min_index: 32, max_index: 630\n"
     ]
    }
   ],
   "source": [
    "club1_min = club1.index.min()\n",
    "club1_max = club1.index.max()\n",
    "club2_min = club2.index.min() - delay_frame\n",
    "club2_max = club2.index.max() - delay_frame\n",
    "\n",
    "min_index = max(club1_min, club2_min)\n",
    "max_index = min(club1_max, club2_max)\n",
    "print(f'min_index: {min_index}, max_index: {max_index}')"
   ]
  },
  {
   "cell_type": "code",
   "execution_count": null,
   "metadata": {},
   "outputs": [],
   "source": []
  }
 ],
 "metadata": {
  "kernelspec": {
   "display_name": ".venv",
   "language": "python",
   "name": "python3"
  },
  "language_info": {
   "codemirror_mode": {
    "name": "ipython",
    "version": 3
   },
   "file_extension": ".py",
   "mimetype": "text/x-python",
   "name": "python",
   "nbconvert_exporter": "python",
   "pygments_lexer": "ipython3",
   "version": "3.10.12"
  },
  "orig_nbformat": 4
 },
 "nbformat": 4,
 "nbformat_minor": 2
}
