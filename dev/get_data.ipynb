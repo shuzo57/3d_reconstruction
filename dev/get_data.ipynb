{
 "cells": [
  {
   "cell_type": "code",
   "execution_count": 1,
   "metadata": {},
   "outputs": [],
   "source": [
    "from swing3dify.YoloPose import YoloPose"
   ]
  },
  {
   "cell_type": "code",
   "execution_count": 4,
   "metadata": {},
   "outputs": [],
   "source": [
    "input_path = '../data/video/'\n",
    "output_path = '../data/pose/'\n",
    "model_path = 'yolov8l-pose.pt'\n",
    "rotate_direction = 'left'\n",
    "save_images = False"
   ]
  },
  {
   "cell_type": "code",
   "execution_count": 5,
   "metadata": {},
   "outputs": [
    {
     "name": "stderr",
     "output_type": "stream",
     "text": [
      "[2023-09-28 17:08:50,889] Input: ../data/video/\n",
      "Downloading https://github.com/ultralytics/assets/releases/download/v0.0.0/yolov8l-pose.pt to 'yolov8l-pose.pt'...\n",
      "100%|██████████| 85.3M/85.3M [00:05<00:00, 15.4MB/s]\n",
      "YOLOv8l-pose summary: 390 layers, 44489196 parameters, 0 gradients\n",
      "[2023-09-28 17:08:58,234] Processing ../data/video/red_0712_0016.MP4\n"
     ]
    },
    {
     "name": "stdout",
     "output_type": "stream",
     "text": [
      "(390, 44489196, 0, 0.0)\n",
      " frame: 630\n"
     ]
    },
    {
     "name": "stderr",
     "output_type": "stream",
     "text": [
      "[2023-09-28 17:11:02,087] Output CSV files for red_0712_0016\n",
      "[2023-09-28 17:11:02,088] Processing ../data/video/white_0712_0016.MP4\n"
     ]
    },
    {
     "name": "stdout",
     "output_type": "stream",
     "text": [
      " frame: 900"
     ]
    },
    {
     "name": "stderr",
     "output_type": "stream",
     "text": [
      "[2023-09-28 17:14:19,070] Output CSV files for white_0712_0016\n"
     ]
    },
    {
     "name": "stdout",
     "output_type": "stream",
     "text": [
      "\n"
     ]
    }
   ],
   "source": [
    "YoloPose(input_path, output_path, model_path, rotate_direction, save_images)"
   ]
  },
  {
   "cell_type": "code",
   "execution_count": null,
   "metadata": {},
   "outputs": [],
   "source": []
  }
 ],
 "metadata": {
  "kernelspec": {
   "display_name": ".venv",
   "language": "python",
   "name": "python3"
  },
  "language_info": {
   "codemirror_mode": {
    "name": "ipython",
    "version": 3
   },
   "file_extension": ".py",
   "mimetype": "text/x-python",
   "name": "python",
   "nbconvert_exporter": "python",
   "pygments_lexer": "ipython3",
   "version": "3.10.12"
  },
  "orig_nbformat": 4
 },
 "nbformat": 4,
 "nbformat_minor": 2
}
